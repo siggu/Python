{
  "nbformat": 4,
  "nbformat_minor": 0,
  "metadata": {
    "colab": {
      "name": "데이터 분석_8. 판다스 데이터프레임ipynb",
      "provenance": [],
      "collapsed_sections": [],
      "authorship_tag": "ABX9TyPA+XtPLaYp8j6tsMazaS8W",
      "include_colab_link": true
    },
    "kernelspec": {
      "name": "python3",
      "display_name": "Python 3"
    },
    "language_info": {
      "name": "python"
    }
  },
  "cells": [
    {
      "cell_type": "markdown",
      "metadata": {
        "id": "view-in-github",
        "colab_type": "text"
      },
      "source": [
        "<a href=\"https://colab.research.google.com/github/siggu/Python/blob/main/%EB%8D%B0%EC%9D%B4%ED%84%B0_%EB%B6%84%EC%84%9D_8_%ED%8C%90%EB%8B%A4%EC%8A%A4_%EB%8D%B0%EC%9D%B4%ED%84%B0%ED%94%84%EB%A0%88%EC%9E%84ipynb.ipynb\" target=\"_parent\"><img src=\"https://colab.research.google.com/assets/colab-badge.svg\" alt=\"Open In Colab\"/></a>"
      ]
    },
    {
      "cell_type": "markdown",
      "source": [
        "# 8. 판다스 데이터프레임\n",
        "\n",
        "**기본 설정**"
      ],
      "metadata": {
        "id": "vbvjSjyMtmeQ"
      }
    },
    {
      "cell_type": "code",
      "execution_count": 1,
      "metadata": {
        "id": "s9lHFWaotYGd"
      },
      "outputs": [],
      "source": [
        "import pandas as pd\n",
        "import numpy as np\n",
        "\n",
        "np.random.seed(12345)\n",
        "np.set_printoptions(precision=4, suppress=True)\n",
        "\n",
        "import matplotlib.pyplot as plt\n",
        "plt.rc('figure', figsize=(10, 6))\n",
        "\n",
        "PREVIOUS_MAX_ROWS = pd.options.display.max_rows # 원래 60이 기본.\n",
        "pd.set_option(\"max_rows\", 20)"
      ]
    },
    {
      "cell_type": "markdown",
      "source": [
        "## 8.1. 시리즈\n",
        "**시리즈**는 1차원 어레이와 동일한 구조를 갖는다. 다만 인덱스를 0, 1, 2 등이 아닌 임의의 값으로 지정할 수 있으며 항상 함께 고려해야 한다."
      ],
      "metadata": {
        "id": "Uh6sLcAZtyMR"
      }
    },
    {
      "cell_type": "markdown",
      "source": [
        "### 8.1.1. 시리즈 생성과 인덱스\n",
        "시리즈를 생성하기 위해 리스트, 넘파이 1차원 어레이,사전 등을 이용할 수 있다.\n",
        "\n",
        "**리스트와 어레이 활용**\n",
        "\n",
        "1차원 리스트 또는 어레이를 이용하여 간단하게 시리즈를 생성할 수 있다. 그러면 지정된 순서대로 0, 1, 2 등의 인덱스가 자동 생성되어 함께 보여진다.\n",
        "\n",
        "- 인덱스 : 별도로 지정하지 않으면 리스트, 넘파이 어레이 등에서 사용된 인덱스가 기본으로 사용됨.\n",
        "\n",
        "- `dtype` : 사용된 항목의 자료형을 가리키며 모든 항목은 동일한 자료형을 가져야 함.\n",
        "\n",
        "아래 코드는 리스트를 이용하여 시리즈를 생성한다."
      ],
      "metadata": {
        "id": "YlLrMnlrtx45"
      }
    },
    {
      "cell_type": "code",
      "source": [
        "obj1 = pd.Series([4, 7, -5, 3])\n",
        "obj1"
      ],
      "metadata": {
        "colab": {
          "base_uri": "https://localhost:8080/"
        },
        "id": "pWQZq8kwudtD",
        "outputId": "b44ad124-21ec-4255-a8b3-e97e4ba2fcc1"
      },
      "execution_count": 2,
      "outputs": [
        {
          "output_type": "execute_result",
          "data": {
            "text/plain": [
              "0    4\n",
              "1    7\n",
              "2   -5\n",
              "3    3\n",
              "dtype: int64"
            ]
          },
          "metadata": {},
          "execution_count": 2
        }
      ]
    },
    {
      "cell_type": "markdown",
      "source": [
        "1차원 어레이도 이용할 수 있다."
      ],
      "metadata": {
        "id": "MysvocWduksl"
      }
    },
    {
      "cell_type": "code",
      "source": [
        "obj1 = pd.Series(np.array([4, 7, -5, 3]))\n",
        "obj1"
      ],
      "metadata": {
        "colab": {
          "base_uri": "https://localhost:8080/"
        },
        "id": "T4ywQCyrumPR",
        "outputId": "b5eb240d-e79b-4278-81dd-426431375ba2"
      },
      "execution_count": 3,
      "outputs": [
        {
          "output_type": "execute_result",
          "data": {
            "text/plain": [
              "0    4\n",
              "1    7\n",
              "2   -5\n",
              "3    3\n",
              "dtype: int64"
            ]
          },
          "metadata": {},
          "execution_count": 3
        }
      ]
    },
    {
      "cell_type": "markdown",
      "source": [
        "항목으로 사용된 값들은 `values` 속성이 넘파이 어레이로 저장된다."
      ],
      "metadata": {
        "id": "D3CAhU-GusXT"
      }
    },
    {
      "cell_type": "code",
      "source": [
        "obj1.values"
      ],
      "metadata": {
        "colab": {
          "base_uri": "https://localhost:8080/"
        },
        "id": "L-Umve_BuvcM",
        "outputId": "b0c45c78-2f43-4364-ea43-1b3ab6de3930"
      },
      "execution_count": 4,
      "outputs": [
        {
          "output_type": "execute_result",
          "data": {
            "text/plain": [
              "array([ 4,  7, -5,  3])"
            ]
          },
          "metadata": {},
          "execution_count": 4
        }
      ]
    },
    {
      "cell_type": "markdown",
      "source": [
        "사용된 인덱스는 `index` 속성이 갖고 있다. 자동으로 생성된 경우 인덱스는 `range`와 유사한 `RangeIndex` 자료형이다."
      ],
      "metadata": {
        "id": "KL_Y4SJCuzJL"
      }
    },
    {
      "cell_type": "code",
      "source": [
        "obj1.index"
      ],
      "metadata": {
        "colab": {
          "base_uri": "https://localhost:8080/"
        },
        "id": "cpd_37BOu6vk",
        "outputId": "d186effd-3709-4dc2-8ef3-276f73c78c4e"
      },
      "execution_count": 5,
      "outputs": [
        {
          "output_type": "execute_result",
          "data": {
            "text/plain": [
              "RangeIndex(start=0, stop=4, step=1)"
            ]
          },
          "metadata": {},
          "execution_count": 5
        }
      ]
    },
    {
      "cell_type": "markdown",
      "source": [
        "기존에 사용된 인덱스를 완전히 새로운 인덱스로 대체할 수도 있다."
      ],
      "metadata": {
        "id": "X7_vvNXYu_3z"
      }
    },
    {
      "cell_type": "code",
      "source": [
        "obj1"
      ],
      "metadata": {
        "colab": {
          "base_uri": "https://localhost:8080/"
        },
        "id": "FKabdr5qvDWs",
        "outputId": "044dceb5-e100-4df6-9c09-9e9e040cacfd"
      },
      "execution_count": 6,
      "outputs": [
        {
          "output_type": "execute_result",
          "data": {
            "text/plain": [
              "0    4\n",
              "1    7\n",
              "2   -5\n",
              "3    3\n",
              "dtype: int64"
            ]
          },
          "metadata": {},
          "execution_count": 6
        }
      ]
    },
    {
      "cell_type": "code",
      "source": [
        "obj1.index = ['Bob', 'Steve', 'Jeff', 'Ryan']\n",
        "obj1"
      ],
      "metadata": {
        "colab": {
          "base_uri": "https://localhost:8080/"
        },
        "id": "03SlNZWCvEDF",
        "outputId": "51293980-2cb8-420d-ce76-fe741b8bf3ff"
      },
      "execution_count": 7,
      "outputs": [
        {
          "output_type": "execute_result",
          "data": {
            "text/plain": [
              "Bob      4\n",
              "Steve    7\n",
              "Jeff    -5\n",
              "Ryan     3\n",
              "dtype: int64"
            ]
          },
          "metadata": {},
          "execution_count": 7
        }
      ]
    },
    {
      "cell_type": "markdown",
      "source": [
        "**인덱스 지정**\n",
        "\n",
        "인덱스를 지정하면서 시리즈를 생성할 수 있다.\n",
        "\n",
        "- `index` 키워드 인자 : 항목의 수와 동일한 길이를 갖는 리스트, 리스트에 포함된 항목 순서대로 인덱스 지정.\n",
        "\n",
        "인덱스가 지정된 순서대로 사용됨에 주의하라."
      ],
      "metadata": {
        "id": "LhdlgPQUvMQL"
      }
    },
    {
      "cell_type": "code",
      "source": [
        "obj2 = pd.Series([4, 7, -5, 3], index=['d', 'b', 'a', 'c'])\n",
        "obj2"
      ],
      "metadata": {
        "colab": {
          "base_uri": "https://localhost:8080/"
        },
        "id": "L7lUFMaQvX0v",
        "outputId": "ccf9e992-4d3a-4479-8c5f-2cb02a93bfd8"
      },
      "execution_count": 8,
      "outputs": [
        {
          "output_type": "execute_result",
          "data": {
            "text/plain": [
              "d    4\n",
              "b    7\n",
              "a   -5\n",
              "c    3\n",
              "dtype: int64"
            ]
          },
          "metadata": {},
          "execution_count": 8
        }
      ]
    },
    {
      "cell_type": "markdown",
      "source": [
        "특정 인덱스를 지정하면 인덱스의 자료형은 `Index` 객체가 된다."
      ],
      "metadata": {
        "id": "kN8yDu9LvojS"
      }
    },
    {
      "cell_type": "code",
      "source": [
        "obj2.index"
      ],
      "metadata": {
        "colab": {
          "base_uri": "https://localhost:8080/"
        },
        "id": "82obelPivrnJ",
        "outputId": "3ab4ff78-b67b-4702-8498-1ef7a6422aaa"
      },
      "execution_count": 9,
      "outputs": [
        {
          "output_type": "execute_result",
          "data": {
            "text/plain": [
              "Index(['d', 'b', 'a', 'c'], dtype='object')"
            ]
          },
          "metadata": {},
          "execution_count": 9
        }
      ]
    },
    {
      "cell_type": "markdown",
      "source": [
        "**사전 활용**\n",
        "\n",
        "사전을 이용하여 시리즈를 생성할 수 있다.\n",
        "\n",
        "- 키 : 인덱스\n",
        "- 값 : 값"
      ],
      "metadata": {
        "id": "XMRzTnBAvtx6"
      }
    },
    {
      "cell_type": "code",
      "source": [
        "sdata= {'Ohio' : 35000, 'Texas' : 71000, 'Oregon' : 16000, 'Utah' : 5000}\n",
        "obj3 = pd.Series(sdata)\n",
        "obj3"
      ],
      "metadata": {
        "colab": {
          "base_uri": "https://localhost:8080/"
        },
        "id": "3pEbYrOhv0ca",
        "outputId": "455c5717-5fd7-4a4f-f163-31b3753945dc"
      },
      "execution_count": 10,
      "outputs": [
        {
          "output_type": "execute_result",
          "data": {
            "text/plain": [
              "Ohio      35000\n",
              "Texas     71000\n",
              "Oregon    16000\n",
              "Utah       5000\n",
              "dtype: int64"
            ]
          },
          "metadata": {},
          "execution_count": 10
        }
      ]
    },
    {
      "cell_type": "markdown",
      "source": [
        "사전을 이용하더라도 인덱스를 따로 지정할 수 있다. 그러면 사전에 키로 사용되지 않은 인덱스는 누락되었다는 의미로 `NaN`이 표시된다. 또한 인덱스 리스트에 포함되지 않는 사전의 키는 포함되지 않는다.\n",
        "\n",
        "- `California` : `sdata` 사전에 키로 사용되지 않았기에 `NaN`으로 지정\n",
        "- `Utah` : `states` 리스트에 포함되지 않았기에 생성된 시리즈에 사용되지 않음."
      ],
      "metadata": {
        "id": "8jVLeTWfwCFY"
      }
    },
    {
      "cell_type": "code",
      "source": [
        "states = ['California', 'Ohio', 'Oregon', 'Texas']\n",
        "\n",
        "obj4 = pd.Series(sdata, index=states)\n",
        "obj4"
      ],
      "metadata": {
        "colab": {
          "base_uri": "https://localhost:8080/"
        },
        "id": "WBWVIK-7wbKy",
        "outputId": "601f7906-64d6-40bb-9618-80a0aa922810"
      },
      "execution_count": 11,
      "outputs": [
        {
          "output_type": "execute_result",
          "data": {
            "text/plain": [
              "California        NaN\n",
              "Ohio          35000.0\n",
              "Oregon        16000.0\n",
              "Texas         71000.0\n",
              "dtype: float64"
            ]
          },
          "metadata": {},
          "execution_count": 11
        }
      ]
    },
    {
      "cell_type": "markdown",
      "source": [
        "역으로 시리즈를 사전으로 변환할 수도 있다.\n",
        "\n",
        "- 인덱스 : 키\n",
        "- 값 : 값"
      ],
      "metadata": {
        "id": "w4-tE8H3wn0X"
      }
    },
    {
      "cell_type": "code",
      "source": [
        "dict(obj4)"
      ],
      "metadata": {
        "colab": {
          "base_uri": "https://localhost:8080/"
        },
        "id": "2NOGrf4twtLq",
        "outputId": "bbf04097-fd79-41df-c49d-9c9ffa8a2780"
      },
      "execution_count": 12,
      "outputs": [
        {
          "output_type": "execute_result",
          "data": {
            "text/plain": [
              "{'California': nan, 'Ohio': 35000.0, 'Oregon': 16000.0, 'Texas': 71000.0}"
            ]
          },
          "metadata": {},
          "execution_count": 12
        }
      ]
    },
    {
      "cell_type": "markdown",
      "source": [
        "`name` 속성\n",
        "\n",
        "`Series` 객체와 시리즈의 `Index` 객체 모두 `name` 속성을 이용하여 사용되는 값들에 대한 정보를 저장한다. 아래 코드는 시리즈에 대해선 `name='population'`(인구)을, 시리즈의 인덱스에 대해선 `Index='state'`(주 이름)을 지정한다."
      ],
      "metadata": {
        "id": "8esWFKY8wyFr"
      }
    },
    {
      "cell_type": "code",
      "source": [
        "obj4.name = 'population'\n",
        "obj4.index.name = 'state'\n",
        "obj4"
      ],
      "metadata": {
        "colab": {
          "base_uri": "https://localhost:8080/"
        },
        "id": "n7mojIJYxMLY",
        "outputId": "1430b367-2b04-4213-b016-c2f56cb33eba"
      },
      "execution_count": 13,
      "outputs": [
        {
          "output_type": "execute_result",
          "data": {
            "text/plain": [
              "state\n",
              "California        NaN\n",
              "Ohio          35000.0\n",
              "Oregon        16000.0\n",
              "Texas         71000.0\n",
              "Name: population, dtype: float64"
            ]
          },
          "metadata": {},
          "execution_count": 13
        }
      ]
    },
    {
      "cell_type": "markdown",
      "source": [
        "### 8.1.2. 시리즈 연산\n",
        "\n",
        "**연산 및 유니버설 함수 적용**\n",
        "\n",
        "연산 및 유니버설 함수 적용 방식도 기본적으로 넘파이 어레이의 경우처럼 항목별로 작동한다."
      ],
      "metadata": {
        "id": "k8s5FXM0xanm"
      }
    },
    {
      "cell_type": "code",
      "source": [
        "obj2 * 2"
      ],
      "metadata": {
        "colab": {
          "base_uri": "https://localhost:8080/"
        },
        "id": "5CO6tAeUxhRH",
        "outputId": "262238fa-6012-4754-879f-5f6a1dafeb87"
      },
      "execution_count": 14,
      "outputs": [
        {
          "output_type": "execute_result",
          "data": {
            "text/plain": [
              "d     8\n",
              "b    14\n",
              "a   -10\n",
              "c     6\n",
              "dtype: int64"
            ]
          },
          "metadata": {},
          "execution_count": 14
        }
      ]
    },
    {
      "cell_type": "code",
      "source": [
        "np.exp(obj2)"
      ],
      "metadata": {
        "colab": {
          "base_uri": "https://localhost:8080/"
        },
        "id": "mmnniY7Xxij7",
        "outputId": "b51b4260-05a9-46e3-b2ea-96dff602ca96"
      },
      "execution_count": 15,
      "outputs": [
        {
          "output_type": "execute_result",
          "data": {
            "text/plain": [
              "d      54.598150\n",
              "b    1096.633158\n",
              "a       0.006738\n",
              "c      20.085537\n",
              "dtype: float64"
            ]
          },
          "metadata": {},
          "execution_count": 15
        }
      ]
    },
    {
      "cell_type": "markdown",
      "source": [
        "**`in` 연산자**\n",
        "\n",
        "`in` 연산자는 인덱스 사용 여부를 사전 자료형의 키(key) 사용 여부와 동일한 방식으로 판단한다."
      ],
      "metadata": {
        "id": "ADBHzLmtxkeP"
      }
    },
    {
      "cell_type": "code",
      "source": [
        "'b' in obj2"
      ],
      "metadata": {
        "colab": {
          "base_uri": "https://localhost:8080/"
        },
        "id": "dSI8NtzFxwq4",
        "outputId": "aec09a85-8f8b-461c-b6a5-f8bd98b2dcb8"
      },
      "execution_count": 16,
      "outputs": [
        {
          "output_type": "execute_result",
          "data": {
            "text/plain": [
              "True"
            ]
          },
          "metadata": {},
          "execution_count": 16
        }
      ]
    },
    {
      "cell_type": "code",
      "source": [
        "'e' in obj2"
      ],
      "metadata": {
        "colab": {
          "base_uri": "https://localhost:8080/"
        },
        "id": "aP4mHdgUxx1j",
        "outputId": "9981f370-5be4-46fa-adcf-23461b15dee5"
      },
      "execution_count": 17,
      "outputs": [
        {
          "output_type": "execute_result",
          "data": {
            "text/plain": [
              "False"
            ]
          },
          "metadata": {},
          "execution_count": 17
        }
      ]
    },
    {
      "cell_type": "markdown",
      "source": [
        "**결측치 사용 여부 확인**\n",
        "\n",
        "`pd.isnull()` 함수는 누락된 항목은 `True`, 아니면 `False`로 지정하여 단번에 결측치가 포함되었는지 여부를 확인해준다."
      ],
      "metadata": {
        "id": "lNR9Lh9Rxz9Y"
      }
    },
    {
      "cell_type": "code",
      "source": [
        "pd.isnull(obj4)"
      ],
      "metadata": {
        "colab": {
          "base_uri": "https://localhost:8080/"
        },
        "id": "Jd59Cuhfx7IZ",
        "outputId": "064a1b73-c2cf-4745-fd77-aed7b9642c48"
      },
      "execution_count": 18,
      "outputs": [
        {
          "output_type": "execute_result",
          "data": {
            "text/plain": [
              "state\n",
              "California     True\n",
              "Ohio          False\n",
              "Oregon        False\n",
              "Texas         False\n",
              "Name: population, dtype: bool"
            ]
          },
          "metadata": {},
          "execution_count": 18
        }
      ]
    },
    {
      "cell_type": "markdown",
      "source": [
        "`pd.notnull()` 함수는 누락된 항목은 `False`, 아니면 `True`로 지정하여 단번에 결측치가 포함되었는지 여부를 확인해준다."
      ],
      "metadata": {
        "id": "s8-gzpa0x_VT"
      }
    },
    {
      "cell_type": "code",
      "source": [
        "pd.notnull(obj4)"
      ],
      "metadata": {
        "colab": {
          "base_uri": "https://localhost:8080/"
        },
        "id": "tTE9NV9syG_r",
        "outputId": "3d89b9fb-cd55-4b88-c167-afe405fe5574"
      },
      "execution_count": 19,
      "outputs": [
        {
          "output_type": "execute_result",
          "data": {
            "text/plain": [
              "state\n",
              "California    False\n",
              "Ohio           True\n",
              "Oregon         True\n",
              "Texas          True\n",
              "Name: population, dtype: bool"
            ]
          },
          "metadata": {},
          "execution_count": 19
        }
      ]
    },
    {
      "cell_type": "markdown",
      "source": [
        "두 함수를 호출하면 실제로는 시리즈 객체의 메서드인 `insull()` 또는 `notnull()`이 내부에서 호출된다."
      ],
      "metadata": {
        "id": "ROlKYOnYz1hj"
      }
    },
    {
      "cell_type": "code",
      "source": [
        "obj4.isnull()"
      ],
      "metadata": {
        "colab": {
          "base_uri": "https://localhost:8080/"
        },
        "id": "2StUC7gjz-IT",
        "outputId": "3ccb8eae-ad6f-451b-efcd-cb473ff3947f"
      },
      "execution_count": 20,
      "outputs": [
        {
          "output_type": "execute_result",
          "data": {
            "text/plain": [
              "state\n",
              "California     True\n",
              "Ohio          False\n",
              "Oregon        False\n",
              "Texas         False\n",
              "Name: population, dtype: bool"
            ]
          },
          "metadata": {},
          "execution_count": 20
        }
      ]
    },
    {
      "cell_type": "code",
      "source": [
        "obj4.notnull()"
      ],
      "metadata": {
        "colab": {
          "base_uri": "https://localhost:8080/"
        },
        "id": "phjmHgiD0A-R",
        "outputId": "680ae0e2-e9e2-4161-aed7-5ba0a6479fd8"
      },
      "execution_count": 21,
      "outputs": [
        {
          "output_type": "execute_result",
          "data": {
            "text/plain": [
              "state\n",
              "California    False\n",
              "Ohio           True\n",
              "Oregon         True\n",
              "Texas          True\n",
              "Name: population, dtype: bool"
            ]
          },
          "metadata": {},
          "execution_count": 21
        }
      ]
    },
    {
      "cell_type": "markdown",
      "source": [
        "`any()`와 `all()`\n",
        "\n",
        "`any()` 또는 `all()` 메서드를 활용하면 결측치 사용 여부를 단번에 알 수 있다. 예를 들어, `pd.isnulll()`과 `any()` 메서드의 활용 결과가 `True`이면 결측치가 있다는 의미이다."
      ],
      "metadata": {
        "id": "ck6YQgk-0C4M"
      }
    },
    {
      "cell_type": "code",
      "source": [
        "obj4.isnull().any()"
      ],
      "metadata": {
        "colab": {
          "base_uri": "https://localhost:8080/"
        },
        "id": "mbMUfjb90Qwk",
        "outputId": "01e6a7f1-5bc2-4613-ed5d-efa93d853ddd"
      },
      "execution_count": 22,
      "outputs": [
        {
          "output_type": "execute_result",
          "data": {
            "text/plain": [
              "True"
            ]
          },
          "metadata": {},
          "execution_count": 22
        }
      ]
    },
    {
      "cell_type": "markdown",
      "source": [
        "반면에 `pd.notnull()`과 `all()` 메서드이 활용 결과가 `False`이면 역시 결측치가 있다는 의미이다."
      ],
      "metadata": {
        "id": "by2xNJCh0UV6"
      }
    },
    {
      "cell_type": "code",
      "source": [
        "obj4.notnull().all()"
      ],
      "metadata": {
        "colab": {
          "base_uri": "https://localhost:8080/"
        },
        "id": "ruAO7lyD0aPp",
        "outputId": "88f9e13c-4108-4e14-80b3-2292e93bc1bd"
      },
      "execution_count": 23,
      "outputs": [
        {
          "output_type": "execute_result",
          "data": {
            "text/plain": [
              "False"
            ]
          },
          "metadata": {},
          "execution_count": 23
        }
      ]
    },
    {
      "cell_type": "markdown",
      "source": [
        "넘파이의 `any()`, `all()`을 활용해도 동일한 결과를 얻는다."
      ],
      "metadata": {
        "id": "v_szUYSF0dS_"
      }
    },
    {
      "cell_type": "code",
      "source": [
        "np.any(obj4.isnull())"
      ],
      "metadata": {
        "colab": {
          "base_uri": "https://localhost:8080/"
        },
        "id": "HR0u93Vk0ghc",
        "outputId": "87c4fb45-3402-4d94-c6c0-9cd568fb8c2b"
      },
      "execution_count": 24,
      "outputs": [
        {
          "output_type": "execute_result",
          "data": {
            "text/plain": [
              "True"
            ]
          },
          "metadata": {},
          "execution_count": 24
        }
      ]
    },
    {
      "cell_type": "code",
      "source": [
        "np.all(obj4.notnull())"
      ],
      "metadata": {
        "colab": {
          "base_uri": "https://localhost:8080/"
        },
        "id": "y7SA_oxa0jB4",
        "outputId": "0054efb0-83f0-49f8-fee9-3557792eacc7"
      },
      "execution_count": 25,
      "outputs": [
        {
          "output_type": "execute_result",
          "data": {
            "text/plain": [
              "False"
            ]
          },
          "metadata": {},
          "execution_count": 25
        }
      ]
    },
    {
      "cell_type": "markdown",
      "source": [
        "**시리즈 연산과 인덱스**\n",
        "\n",
        "시리즈 연산 과정에서 모든 시리즈에 공통으로 사용되는 인덱스의 항목에 대해서만 연산이 이루어진다. 그렇지 않은 인덱스는 추가되기는 하지만 `NaN`으로 값이 지정된다.\n",
        "\n",
        "`obj3`에 `California` 정보가 없다."
      ],
      "metadata": {
        "id": "IwHYvKwp0nED"
      }
    },
    {
      "cell_type": "code",
      "source": [
        "obj3"
      ],
      "metadata": {
        "colab": {
          "base_uri": "https://localhost:8080/"
        },
        "id": "UUHZlQGa0vxV",
        "outputId": "851764d6-261f-45ab-c910-2cd8a3f4ba3f"
      },
      "execution_count": 26,
      "outputs": [
        {
          "output_type": "execute_result",
          "data": {
            "text/plain": [
              "Ohio      35000\n",
              "Texas     71000\n",
              "Oregon    16000\n",
              "Utah       5000\n",
              "dtype: int64"
            ]
          },
          "metadata": {},
          "execution_count": 26
        }
      ]
    },
    {
      "cell_type": "markdown",
      "source": [
        "`obj4`에 `Utah` 정보가 없다."
      ],
      "metadata": {
        "id": "BvYj2R9F00Pv"
      }
    },
    {
      "cell_type": "code",
      "source": [
        "obj4"
      ],
      "metadata": {
        "colab": {
          "base_uri": "https://localhost:8080/"
        },
        "id": "xSN2DjsC02mq",
        "outputId": "0b5d971b-7c30-4ade-b6b5-d185d950a63f"
      },
      "execution_count": 27,
      "outputs": [
        {
          "output_type": "execute_result",
          "data": {
            "text/plain": [
              "state\n",
              "California        NaN\n",
              "Ohio          35000.0\n",
              "Oregon        16000.0\n",
              "Texas         71000.0\n",
              "Name: population, dtype: float64"
            ]
          },
          "metadata": {},
          "execution_count": 27
        }
      ]
    },
    {
      "cell_type": "markdown",
      "source": [
        "두 시리즈의 덧셈 결과엔 `California`와 `Utah`의 정보가 `NaN`으로 처리된다."
      ],
      "metadata": {
        "id": "MAcYGf8f04Fq"
      }
    },
    {
      "cell_type": "code",
      "source": [
        "obj3 + obj4"
      ],
      "metadata": {
        "colab": {
          "base_uri": "https://localhost:8080/"
        },
        "id": "4yuFnV0r08Jg",
        "outputId": "3c502e84-8548-4ca5-f779-05dcf25b8dee"
      },
      "execution_count": 28,
      "outputs": [
        {
          "output_type": "execute_result",
          "data": {
            "text/plain": [
              "California         NaN\n",
              "Ohio           70000.0\n",
              "Oregon         32000.0\n",
              "Texas         142000.0\n",
              "Utah               NaN\n",
              "dtype: float64"
            ]
          },
          "metadata": {},
          "execution_count": 28
        }
      ]
    },
    {
      "cell_type": "markdown",
      "source": [
        "### 8.1.3. 시리즈 인덱싱\n",
        "\n",
        "인덱스를 이용한 인덱싱이 리스트, 어레이 방식과 동일하게 작동한다."
      ],
      "metadata": {
        "id": "QX16cv7-0_3o"
      }
    },
    {
      "cell_type": "code",
      "source": [
        "obj2['a']"
      ],
      "metadata": {
        "colab": {
          "base_uri": "https://localhost:8080/"
        },
        "id": "aFkPfdnl1D-7",
        "outputId": "3972a8c9-c56e-4ea1-bbba-0cf2511a8ba4"
      },
      "execution_count": 29,
      "outputs": [
        {
          "output_type": "execute_result",
          "data": {
            "text/plain": [
              "-5"
            ]
          },
          "metadata": {},
          "execution_count": 29
        }
      ]
    },
    {
      "cell_type": "markdown",
      "source": [
        "인덱스가 가리키는 값을 변경할 수도 있다."
      ],
      "metadata": {
        "id": "CUBLCMSk1RZA"
      }
    },
    {
      "cell_type": "code",
      "source": [
        "obj2['d'] = 6\n",
        "\n",
        "obj2"
      ],
      "metadata": {
        "colab": {
          "base_uri": "https://localhost:8080/"
        },
        "id": "Z1wg4-KO1TTb",
        "outputId": "7057fd40-b4d1-4abd-b986-bad832f2c69c"
      },
      "execution_count": 30,
      "outputs": [
        {
          "output_type": "execute_result",
          "data": {
            "text/plain": [
              "d    6\n",
              "b    7\n",
              "a   -5\n",
              "c    3\n",
              "dtype: int64"
            ]
          },
          "metadata": {},
          "execution_count": 30
        }
      ]
    },
    {
      "cell_type": "markdown",
      "source": [
        "인덱스의 리스트를 이용한 인덱싱의 결과는 지정된 인덱스가 사용되는 시리즈다. 단, 지정된 인덱스의 순서를 고려하여 시리즈가 생성된다."
      ],
      "metadata": {
        "id": "r2Hy33mH1WSU"
      }
    },
    {
      "cell_type": "code",
      "source": [
        "obj2_1 = obj2[['c', 'a', 'd']]\n",
        "obj2_1"
      ],
      "metadata": {
        "colab": {
          "base_uri": "https://localhost:8080/"
        },
        "id": "LrYSEMcN1b24",
        "outputId": "be39f717-aa59-45be-d517-65ef91a62f17"
      },
      "execution_count": 31,
      "outputs": [
        {
          "output_type": "execute_result",
          "data": {
            "text/plain": [
              "c    3\n",
              "a   -5\n",
              "d    6\n",
              "dtype: int64"
            ]
          },
          "metadata": {},
          "execution_count": 31
        }
      ]
    },
    {
      "cell_type": "markdown",
      "source": [
        "부울 인덱싱은 넘파이 어레이의 경우와 동일하게 작동한다. 예를 들어 아래 코드는 양수만 구성된 시리즈가 생성된다."
      ],
      "metadata": {
        "id": "nCsdE4Y91jIV"
      }
    },
    {
      "cell_type": "code",
      "source": [
        "mask = obj2 > 0\n",
        "obj2[mask]"
      ],
      "metadata": {
        "colab": {
          "base_uri": "https://localhost:8080/"
        },
        "id": "qYp6ZP1N1oev",
        "outputId": "d1cbec9c-815d-40e9-8d24-dddff57aca9e"
      },
      "execution_count": 32,
      "outputs": [
        {
          "output_type": "execute_result",
          "data": {
            "text/plain": [
              "d    6\n",
              "b    7\n",
              "c    3\n",
              "dtype: int64"
            ]
          },
          "metadata": {},
          "execution_count": 32
        }
      ]
    },
    {
      "cell_type": "markdown",
      "source": [
        "## 8.2 데이터 프레임\n",
        "**데이터프레임**은 인덱스를 공유하는 여러 개의 시리즈를 다루는 객체이다. 아래 그림은 세 개의 시리즈를 하나의 데이터프레임으로 만든 결과를 보여준다.\n",
        "\n",
        "![image.png](data:image/png;base64,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)"
      ],
      "metadata": {
        "id": "hhPAViUm1q_a"
      }
    },
    {
      "cell_type": "markdown",
      "source": [
        "위 이미지에 있는 세 개의 시리즈는 다음과 같으며, `name` 속성을 이용하여 각 시리즈의 이름도 함께 지정한다."
      ],
      "metadata": {
        "id": "qy6bIu6i2BG-"
      }
    },
    {
      "cell_type": "code",
      "source": [
        "series1 = pd.Series([4, 5, 6, 3, 1], name=\"Mango\")\n",
        "series1"
      ],
      "metadata": {
        "colab": {
          "base_uri": "https://localhost:8080/"
        },
        "id": "PdzJbhge2FUe",
        "outputId": "626f656e-dbe8-4ab6-8229-4fa4f4f1f7a6"
      },
      "execution_count": 33,
      "outputs": [
        {
          "output_type": "execute_result",
          "data": {
            "text/plain": [
              "0    4\n",
              "1    5\n",
              "2    6\n",
              "3    3\n",
              "4    1\n",
              "Name: Mango, dtype: int64"
            ]
          },
          "metadata": {},
          "execution_count": 33
        }
      ]
    },
    {
      "cell_type": "code",
      "source": [
        "series2 = pd.Series([5, 4, 3, 0, 2], name=\"Apple\")\n",
        "series2"
      ],
      "metadata": {
        "colab": {
          "base_uri": "https://localhost:8080/"
        },
        "id": "VyT1bzeR2MAH",
        "outputId": "88705a49-ff5c-4077-f0c1-8fe3a3ad19f9"
      },
      "execution_count": 34,
      "outputs": [
        {
          "output_type": "execute_result",
          "data": {
            "text/plain": [
              "0    5\n",
              "1    4\n",
              "2    3\n",
              "3    0\n",
              "4    2\n",
              "Name: Apple, dtype: int64"
            ]
          },
          "metadata": {},
          "execution_count": 34
        }
      ]
    },
    {
      "cell_type": "code",
      "source": [
        "series3 = pd.Series([2, 3, 5, 2, 7], name=\"Banana\")\n",
        "series3"
      ],
      "metadata": {
        "colab": {
          "base_uri": "https://localhost:8080/"
        },
        "id": "oe52V8GF2XcQ",
        "outputId": "9183b443-e34b-42e0-e823-a2d3ad4b4c12"
      },
      "execution_count": 35,
      "outputs": [
        {
          "output_type": "execute_result",
          "data": {
            "text/plain": [
              "0    2\n",
              "1    3\n",
              "2    5\n",
              "3    2\n",
              "4    7\n",
              "Name: Banana, dtype: int64"
            ]
          },
          "metadata": {},
          "execution_count": 35
        }
      ]
    },
    {
      "cell_type": "markdown",
      "source": [
        "### 8.2.1. 데이터프레임 생성\n",
        "\n",
        "**시리즈 사전 활용**\n",
        "\n",
        "시리즈를 값으로 갖는 사전(`dict`)을 이용하여 데이터프레임 객체를 생성할 수 있다. 위 세 개의 시리즈를 하나의 데이터프레임으로 묶기 위해 키(key)는 각 시리즈의 `name`으로, 값(value)은 해당 시리즈의 지정된 아래 사전을 이용한다."
      ],
      "metadata": {
        "id": "1pVDI_pJ2e3i"
      }
    },
    {
      "cell_type": "code",
      "source": [
        "{\"Mango\":series1, \"Apple\":series2, \"Banana\":series3}"
      ],
      "metadata": {
        "id": "PXCoVklO2uKu",
        "colab": {
          "base_uri": "https://localhost:8080/"
        },
        "outputId": "1a22c72a-cec7-4d05-d9a3-f4659d920960"
      },
      "execution_count": 36,
      "outputs": [
        {
          "output_type": "execute_result",
          "data": {
            "text/plain": [
              "{'Apple': 0    5\n",
              " 1    4\n",
              " 2    3\n",
              " 3    0\n",
              " 4    2\n",
              " Name: Apple, dtype: int64, 'Banana': 0    2\n",
              " 1    3\n",
              " 2    5\n",
              " 3    2\n",
              " 4    7\n",
              " Name: Banana, dtype: int64, 'Mango': 0    4\n",
              " 1    5\n",
              " 2    6\n",
              " 3    3\n",
              " 4    1\n",
              " Name: Mango, dtype: int64}"
            ]
          },
          "metadata": {},
          "execution_count": 36
        }
      ]
    },
    {
      "cell_type": "markdown",
      "source": [
        "그런데 각 시리즈의 이름 모두 `name` 속성에 저장되어 있다."
      ],
      "metadata": {
        "id": "ZmEK96kP2zVa"
      }
    },
    {
      "cell_type": "code",
      "source": [
        "series1.name"
      ],
      "metadata": {
        "colab": {
          "base_uri": "https://localhost:8080/",
          "height": 35
        },
        "id": "XoEvvbrM21nG",
        "outputId": "d65f2c90-d935-41f9-a8b8-4bfc216601b7"
      },
      "execution_count": 37,
      "outputs": [
        {
          "output_type": "execute_result",
          "data": {
            "text/plain": [
              "'Mango'"
            ],
            "application/vnd.google.colaboratory.intrinsic+json": {
              "type": "string"
            }
          },
          "metadata": {},
          "execution_count": 37
        }
      ]
    },
    {
      "cell_type": "code",
      "source": [
        "series2.name"
      ],
      "metadata": {
        "colab": {
          "base_uri": "https://localhost:8080/",
          "height": 35
        },
        "id": "G0YMuCG423rI",
        "outputId": "d1404fff-7834-433d-c7d0-ca42a7bdc749"
      },
      "execution_count": 38,
      "outputs": [
        {
          "output_type": "execute_result",
          "data": {
            "text/plain": [
              "'Apple'"
            ],
            "application/vnd.google.colaboratory.intrinsic+json": {
              "type": "string"
            }
          },
          "metadata": {},
          "execution_count": 38
        }
      ]
    },
    {
      "cell_type": "code",
      "source": [
        "series3.name"
      ],
      "metadata": {
        "colab": {
          "base_uri": "https://localhost:8080/",
          "height": 35
        },
        "id": "VUGlxpTv24m7",
        "outputId": "8fe1cad8-fed0-419f-8917-926db3799624"
      },
      "execution_count": 39,
      "outputs": [
        {
          "output_type": "execute_result",
          "data": {
            "text/plain": [
              "'Banana'"
            ],
            "application/vnd.google.colaboratory.intrinsic+json": {
              "type": "string"
            }
          },
          "metadata": {},
          "execution_count": 39
        }
      ]
    },
    {
      "cell_type": "markdown",
      "source": [
        "따라서 아래처럼 바로 `name` 속성을 키로 저장한 후 데이터프레임을 생성할 수 있다."
      ],
      "metadata": {
        "id": "Rjo-ne7S26S3"
      }
    },
    {
      "cell_type": "code",
      "source": [
        "dict1 = {series1.name:series1, series2.name:series2, series3.name:series3}\n",
        "frame1 = pd.DataFrame(dict1)\n",
        "frame1"
      ],
      "metadata": {
        "colab": {
          "base_uri": "https://localhost:8080/",
          "height": 206
        },
        "id": "cTEGoxa529b-",
        "outputId": "a04ff18f-1945-4793-bf48-8ba3d1947d29"
      },
      "execution_count": 40,
      "outputs": [
        {
          "output_type": "execute_result",
          "data": {
            "text/plain": [
              "   Mango  Apple  Banana\n",
              "0      4      5       2\n",
              "1      5      4       3\n",
              "2      6      3       5\n",
              "3      3      0       2\n",
              "4      1      2       7"
            ],
            "text/html": [
              "\n",
              "  <div id=\"df-4a312a44-8e78-453b-9d1f-e589f6b1c3b3\">\n",
              "    <div class=\"colab-df-container\">\n",
              "      <div>\n",
              "<style scoped>\n",
              "    .dataframe tbody tr th:only-of-type {\n",
              "        vertical-align: middle;\n",
              "    }\n",
              "\n",
              "    .dataframe tbody tr th {\n",
              "        vertical-align: top;\n",
              "    }\n",
              "\n",
              "    .dataframe thead th {\n",
              "        text-align: right;\n",
              "    }\n",
              "</style>\n",
              "<table border=\"1\" class=\"dataframe\">\n",
              "  <thead>\n",
              "    <tr style=\"text-align: right;\">\n",
              "      <th></th>\n",
              "      <th>Mango</th>\n",
              "      <th>Apple</th>\n",
              "      <th>Banana</th>\n",
              "    </tr>\n",
              "  </thead>\n",
              "  <tbody>\n",
              "    <tr>\n",
              "      <th>0</th>\n",
              "      <td>4</td>\n",
              "      <td>5</td>\n",
              "      <td>2</td>\n",
              "    </tr>\n",
              "    <tr>\n",
              "      <th>1</th>\n",
              "      <td>5</td>\n",
              "      <td>4</td>\n",
              "      <td>3</td>\n",
              "    </tr>\n",
              "    <tr>\n",
              "      <th>2</th>\n",
              "      <td>6</td>\n",
              "      <td>3</td>\n",
              "      <td>5</td>\n",
              "    </tr>\n",
              "    <tr>\n",
              "      <th>3</th>\n",
              "      <td>3</td>\n",
              "      <td>0</td>\n",
              "      <td>2</td>\n",
              "    </tr>\n",
              "    <tr>\n",
              "      <th>4</th>\n",
              "      <td>1</td>\n",
              "      <td>2</td>\n",
              "      <td>7</td>\n",
              "    </tr>\n",
              "  </tbody>\n",
              "</table>\n",
              "</div>\n",
              "      <button class=\"colab-df-convert\" onclick=\"convertToInteractive('df-4a312a44-8e78-453b-9d1f-e589f6b1c3b3')\"\n",
              "              title=\"Convert this dataframe to an interactive table.\"\n",
              "              style=\"display:none;\">\n",
              "        \n",
              "  <svg xmlns=\"http://www.w3.org/2000/svg\" height=\"24px\"viewBox=\"0 0 24 24\"\n",
              "       width=\"24px\">\n",
              "    <path d=\"M0 0h24v24H0V0z\" fill=\"none\"/>\n",
              "    <path d=\"M18.56 5.44l.94 2.06.94-2.06 2.06-.94-2.06-.94-.94-2.06-.94 2.06-2.06.94zm-11 1L8.5 8.5l.94-2.06 2.06-.94-2.06-.94L8.5 2.5l-.94 2.06-2.06.94zm10 10l.94 2.06.94-2.06 2.06-.94-2.06-.94-.94-2.06-.94 2.06-2.06.94z\"/><path d=\"M17.41 7.96l-1.37-1.37c-.4-.4-.92-.59-1.43-.59-.52 0-1.04.2-1.43.59L10.3 9.45l-7.72 7.72c-.78.78-.78 2.05 0 2.83L4 21.41c.39.39.9.59 1.41.59.51 0 1.02-.2 1.41-.59l7.78-7.78 2.81-2.81c.8-.78.8-2.07 0-2.86zM5.41 20L4 18.59l7.72-7.72 1.47 1.35L5.41 20z\"/>\n",
              "  </svg>\n",
              "      </button>\n",
              "      \n",
              "  <style>\n",
              "    .colab-df-container {\n",
              "      display:flex;\n",
              "      flex-wrap:wrap;\n",
              "      gap: 12px;\n",
              "    }\n",
              "\n",
              "    .colab-df-convert {\n",
              "      background-color: #E8F0FE;\n",
              "      border: none;\n",
              "      border-radius: 50%;\n",
              "      cursor: pointer;\n",
              "      display: none;\n",
              "      fill: #1967D2;\n",
              "      height: 32px;\n",
              "      padding: 0 0 0 0;\n",
              "      width: 32px;\n",
              "    }\n",
              "\n",
              "    .colab-df-convert:hover {\n",
              "      background-color: #E2EBFA;\n",
              "      box-shadow: 0px 1px 2px rgba(60, 64, 67, 0.3), 0px 1px 3px 1px rgba(60, 64, 67, 0.15);\n",
              "      fill: #174EA6;\n",
              "    }\n",
              "\n",
              "    [theme=dark] .colab-df-convert {\n",
              "      background-color: #3B4455;\n",
              "      fill: #D2E3FC;\n",
              "    }\n",
              "\n",
              "    [theme=dark] .colab-df-convert:hover {\n",
              "      background-color: #434B5C;\n",
              "      box-shadow: 0px 1px 3px 1px rgba(0, 0, 0, 0.15);\n",
              "      filter: drop-shadow(0px 1px 2px rgba(0, 0, 0, 0.3));\n",
              "      fill: #FFFFFF;\n",
              "    }\n",
              "  </style>\n",
              "\n",
              "      <script>\n",
              "        const buttonEl =\n",
              "          document.querySelector('#df-4a312a44-8e78-453b-9d1f-e589f6b1c3b3 button.colab-df-convert');\n",
              "        buttonEl.style.display =\n",
              "          google.colab.kernel.accessAllowed ? 'block' : 'none';\n",
              "\n",
              "        async function convertToInteractive(key) {\n",
              "          const element = document.querySelector('#df-4a312a44-8e78-453b-9d1f-e589f6b1c3b3');\n",
              "          const dataTable =\n",
              "            await google.colab.kernel.invokeFunction('convertToInteractive',\n",
              "                                                     [key], {});\n",
              "          if (!dataTable) return;\n",
              "\n",
              "          const docLinkHtml = 'Like what you see? Visit the ' +\n",
              "            '<a target=\"_blank\" href=https://colab.research.google.com/notebooks/data_table.ipynb>data table notebook</a>'\n",
              "            + ' to learn more about interactive tables.';\n",
              "          element.innerHTML = '';\n",
              "          dataTable['output_type'] = 'display_data';\n",
              "          await google.colab.output.renderOutput(dataTable, element);\n",
              "          const docLink = document.createElement('div');\n",
              "          docLink.innerHTML = docLinkHtml;\n",
              "          element.appendChild(docLink);\n",
              "        }\n",
              "      </script>\n",
              "    </div>\n",
              "  </div>\n",
              "  "
            ]
          },
          "metadata": {},
          "execution_count": 40
        }
      ]
    },
    {
      "cell_type": "markdown",
      "source": [
        "`pd.concat()` 함수 활용\n",
        "\n",
        "`pd.concat()` 함수도 여러 개의 시리즈를 묶어 하나의 데이터프레임을 생성한다. 단, 축을 이용하여 묶는 방식을 지정한다. 위 그림에서처럼 옆으로 묶으려면 열 단위로 묶는다는 의미에서 `axis=1`로 지정한다. 각 열의 이름은 해당 시리즈의 `name`이 가리키는 값으로 지정된다.\n",
        "\n",
        "**참고** : `concat`는 이어붙인다는 의미를 가진 concatenate 영어 단어에서 유래한다."
      ],
      "metadata": {
        "id": "s_A7Cuuy3K_Q"
      }
    },
    {
      "cell_type": "code",
      "source": [
        "pd.concat([series1, series2, series3], axis=1)"
      ],
      "metadata": {
        "colab": {
          "base_uri": "https://localhost:8080/",
          "height": 206
        },
        "id": "CPHxGTGo3hLQ",
        "outputId": "853bcf13-97df-47f7-ca37-52ac3fbe6e27"
      },
      "execution_count": 41,
      "outputs": [
        {
          "output_type": "execute_result",
          "data": {
            "text/plain": [
              "   Mango  Apple  Banana\n",
              "0      4      5       2\n",
              "1      5      4       3\n",
              "2      6      3       5\n",
              "3      3      0       2\n",
              "4      1      2       7"
            ],
            "text/html": [
              "\n",
              "  <div id=\"df-40dc0624-c6e8-42d6-bb52-c059998ea14f\">\n",
              "    <div class=\"colab-df-container\">\n",
              "      <div>\n",
              "<style scoped>\n",
              "    .dataframe tbody tr th:only-of-type {\n",
              "        vertical-align: middle;\n",
              "    }\n",
              "\n",
              "    .dataframe tbody tr th {\n",
              "        vertical-align: top;\n",
              "    }\n",
              "\n",
              "    .dataframe thead th {\n",
              "        text-align: right;\n",
              "    }\n",
              "</style>\n",
              "<table border=\"1\" class=\"dataframe\">\n",
              "  <thead>\n",
              "    <tr style=\"text-align: right;\">\n",
              "      <th></th>\n",
              "      <th>Mango</th>\n",
              "      <th>Apple</th>\n",
              "      <th>Banana</th>\n",
              "    </tr>\n",
              "  </thead>\n",
              "  <tbody>\n",
              "    <tr>\n",
              "      <th>0</th>\n",
              "      <td>4</td>\n",
              "      <td>5</td>\n",
              "      <td>2</td>\n",
              "    </tr>\n",
              "    <tr>\n",
              "      <th>1</th>\n",
              "      <td>5</td>\n",
              "      <td>4</td>\n",
              "      <td>3</td>\n",
              "    </tr>\n",
              "    <tr>\n",
              "      <th>2</th>\n",
              "      <td>6</td>\n",
              "      <td>3</td>\n",
              "      <td>5</td>\n",
              "    </tr>\n",
              "    <tr>\n",
              "      <th>3</th>\n",
              "      <td>3</td>\n",
              "      <td>0</td>\n",
              "      <td>2</td>\n",
              "    </tr>\n",
              "    <tr>\n",
              "      <th>4</th>\n",
              "      <td>1</td>\n",
              "      <td>2</td>\n",
              "      <td>7</td>\n",
              "    </tr>\n",
              "  </tbody>\n",
              "</table>\n",
              "</div>\n",
              "      <button class=\"colab-df-convert\" onclick=\"convertToInteractive('df-40dc0624-c6e8-42d6-bb52-c059998ea14f')\"\n",
              "              title=\"Convert this dataframe to an interactive table.\"\n",
              "              style=\"display:none;\">\n",
              "        \n",
              "  <svg xmlns=\"http://www.w3.org/2000/svg\" height=\"24px\"viewBox=\"0 0 24 24\"\n",
              "       width=\"24px\">\n",
              "    <path d=\"M0 0h24v24H0V0z\" fill=\"none\"/>\n",
              "    <path d=\"M18.56 5.44l.94 2.06.94-2.06 2.06-.94-2.06-.94-.94-2.06-.94 2.06-2.06.94zm-11 1L8.5 8.5l.94-2.06 2.06-.94-2.06-.94L8.5 2.5l-.94 2.06-2.06.94zm10 10l.94 2.06.94-2.06 2.06-.94-2.06-.94-.94-2.06-.94 2.06-2.06.94z\"/><path d=\"M17.41 7.96l-1.37-1.37c-.4-.4-.92-.59-1.43-.59-.52 0-1.04.2-1.43.59L10.3 9.45l-7.72 7.72c-.78.78-.78 2.05 0 2.83L4 21.41c.39.39.9.59 1.41.59.51 0 1.02-.2 1.41-.59l7.78-7.78 2.81-2.81c.8-.78.8-2.07 0-2.86zM5.41 20L4 18.59l7.72-7.72 1.47 1.35L5.41 20z\"/>\n",
              "  </svg>\n",
              "      </button>\n",
              "      \n",
              "  <style>\n",
              "    .colab-df-container {\n",
              "      display:flex;\n",
              "      flex-wrap:wrap;\n",
              "      gap: 12px;\n",
              "    }\n",
              "\n",
              "    .colab-df-convert {\n",
              "      background-color: #E8F0FE;\n",
              "      border: none;\n",
              "      border-radius: 50%;\n",
              "      cursor: pointer;\n",
              "      display: none;\n",
              "      fill: #1967D2;\n",
              "      height: 32px;\n",
              "      padding: 0 0 0 0;\n",
              "      width: 32px;\n",
              "    }\n",
              "\n",
              "    .colab-df-convert:hover {\n",
              "      background-color: #E2EBFA;\n",
              "      box-shadow: 0px 1px 2px rgba(60, 64, 67, 0.3), 0px 1px 3px 1px rgba(60, 64, 67, 0.15);\n",
              "      fill: #174EA6;\n",
              "    }\n",
              "\n",
              "    [theme=dark] .colab-df-convert {\n",
              "      background-color: #3B4455;\n",
              "      fill: #D2E3FC;\n",
              "    }\n",
              "\n",
              "    [theme=dark] .colab-df-convert:hover {\n",
              "      background-color: #434B5C;\n",
              "      box-shadow: 0px 1px 3px 1px rgba(0, 0, 0, 0.15);\n",
              "      filter: drop-shadow(0px 1px 2px rgba(0, 0, 0, 0.3));\n",
              "      fill: #FFFFFF;\n",
              "    }\n",
              "  </style>\n",
              "\n",
              "      <script>\n",
              "        const buttonEl =\n",
              "          document.querySelector('#df-40dc0624-c6e8-42d6-bb52-c059998ea14f button.colab-df-convert');\n",
              "        buttonEl.style.display =\n",
              "          google.colab.kernel.accessAllowed ? 'block' : 'none';\n",
              "\n",
              "        async function convertToInteractive(key) {\n",
              "          const element = document.querySelector('#df-40dc0624-c6e8-42d6-bb52-c059998ea14f');\n",
              "          const dataTable =\n",
              "            await google.colab.kernel.invokeFunction('convertToInteractive',\n",
              "                                                     [key], {});\n",
              "          if (!dataTable) return;\n",
              "\n",
              "          const docLinkHtml = 'Like what you see? Visit the ' +\n",
              "            '<a target=\"_blank\" href=https://colab.research.google.com/notebooks/data_table.ipynb>data table notebook</a>'\n",
              "            + ' to learn more about interactive tables.';\n",
              "          element.innerHTML = '';\n",
              "          dataTable['output_type'] = 'display_data';\n",
              "          await google.colab.output.renderOutput(dataTable, element);\n",
              "          const docLink = document.createElement('div');\n",
              "          docLink.innerHTML = docLinkHtml;\n",
              "          element.appendChild(docLink);\n",
              "        }\n",
              "      </script>\n",
              "    </div>\n",
              "  </div>\n",
              "  "
            ]
          },
          "metadata": {},
          "execution_count": 41
        }
      ]
    },
    {
      "cell_type": "markdown",
      "source": [
        "**리스트 사전 활용**\n",
        "\n",
        "리스트를 값으로 갖는 사전을 이용하여 데이터프레임을 생성할 수 있다.\n",
        "\n",
        "아래 코드에서 `data`는 `state`(주 이름), `year`(년도), `pop`(인구)을 키(key)로 사용하며, 해당 특성에 해당하는 데이터로 구성된 리스트를 값으로 갖는 사전 객체이다."
      ],
      "metadata": {
        "id": "bXLBCaE93pCi"
      }
    },
    {
      "cell_type": "code",
      "source": [
        "dict2 = {'state': ['Ohio', 'Ohio', 'Ohio', 'Nevada', 'Nevada', 'Nevada', 'NY', 'NY', 'NY'],\n",
        "         'year': [2000, 2001, 2002, 2001, 2002, 2003, 2002, 2003, 2004],\n",
        "         'pop': [1.5, 1.7, 3.6, 2.4, 2.9, 3.2, 8.3, 8.4, 8.5]}"
      ],
      "metadata": {
        "id": "2q5nW24h34rg"
      },
      "execution_count": 42,
      "outputs": []
    },
    {
      "cell_type": "markdown",
      "source": [
        "위 사전 객체를 데이터프레임으로 변환하면 다음과 같다."
      ],
      "metadata": {
        "id": "ytHGyWwk38HN"
      }
    },
    {
      "cell_type": "code",
      "source": [
        "frame2 = pd.DataFrame(dict2)\n",
        "frame2"
      ],
      "metadata": {
        "colab": {
          "base_uri": "https://localhost:8080/",
          "height": 332
        },
        "id": "pleeE43V3-ZQ",
        "outputId": "8d11f916-c317-45f6-f787-1dccbca11856"
      },
      "execution_count": 43,
      "outputs": [
        {
          "output_type": "execute_result",
          "data": {
            "text/plain": [
              "    state  year  pop\n",
              "0    Ohio  2000  1.5\n",
              "1    Ohio  2001  1.7\n",
              "2    Ohio  2002  3.6\n",
              "3  Nevada  2001  2.4\n",
              "4  Nevada  2002  2.9\n",
              "5  Nevada  2003  3.2\n",
              "6      NY  2002  8.3\n",
              "7      NY  2003  8.4\n",
              "8      NY  2004  8.5"
            ],
            "text/html": [
              "\n",
              "  <div id=\"df-a3cb3902-c79b-42e6-ae7a-edc8d4f721f2\">\n",
              "    <div class=\"colab-df-container\">\n",
              "      <div>\n",
              "<style scoped>\n",
              "    .dataframe tbody tr th:only-of-type {\n",
              "        vertical-align: middle;\n",
              "    }\n",
              "\n",
              "    .dataframe tbody tr th {\n",
              "        vertical-align: top;\n",
              "    }\n",
              "\n",
              "    .dataframe thead th {\n",
              "        text-align: right;\n",
              "    }\n",
              "</style>\n",
              "<table border=\"1\" class=\"dataframe\">\n",
              "  <thead>\n",
              "    <tr style=\"text-align: right;\">\n",
              "      <th></th>\n",
              "      <th>state</th>\n",
              "      <th>year</th>\n",
              "      <th>pop</th>\n",
              "    </tr>\n",
              "  </thead>\n",
              "  <tbody>\n",
              "    <tr>\n",
              "      <th>0</th>\n",
              "      <td>Ohio</td>\n",
              "      <td>2000</td>\n",
              "      <td>1.5</td>\n",
              "    </tr>\n",
              "    <tr>\n",
              "      <th>1</th>\n",
              "      <td>Ohio</td>\n",
              "      <td>2001</td>\n",
              "      <td>1.7</td>\n",
              "    </tr>\n",
              "    <tr>\n",
              "      <th>2</th>\n",
              "      <td>Ohio</td>\n",
              "      <td>2002</td>\n",
              "      <td>3.6</td>\n",
              "    </tr>\n",
              "    <tr>\n",
              "      <th>3</th>\n",
              "      <td>Nevada</td>\n",
              "      <td>2001</td>\n",
              "      <td>2.4</td>\n",
              "    </tr>\n",
              "    <tr>\n",
              "      <th>4</th>\n",
              "      <td>Nevada</td>\n",
              "      <td>2002</td>\n",
              "      <td>2.9</td>\n",
              "    </tr>\n",
              "    <tr>\n",
              "      <th>5</th>\n",
              "      <td>Nevada</td>\n",
              "      <td>2003</td>\n",
              "      <td>3.2</td>\n",
              "    </tr>\n",
              "    <tr>\n",
              "      <th>6</th>\n",
              "      <td>NY</td>\n",
              "      <td>2002</td>\n",
              "      <td>8.3</td>\n",
              "    </tr>\n",
              "    <tr>\n",
              "      <th>7</th>\n",
              "      <td>NY</td>\n",
              "      <td>2003</td>\n",
              "      <td>8.4</td>\n",
              "    </tr>\n",
              "    <tr>\n",
              "      <th>8</th>\n",
              "      <td>NY</td>\n",
              "      <td>2004</td>\n",
              "      <td>8.5</td>\n",
              "    </tr>\n",
              "  </tbody>\n",
              "</table>\n",
              "</div>\n",
              "      <button class=\"colab-df-convert\" onclick=\"convertToInteractive('df-a3cb3902-c79b-42e6-ae7a-edc8d4f721f2')\"\n",
              "              title=\"Convert this dataframe to an interactive table.\"\n",
              "              style=\"display:none;\">\n",
              "        \n",
              "  <svg xmlns=\"http://www.w3.org/2000/svg\" height=\"24px\"viewBox=\"0 0 24 24\"\n",
              "       width=\"24px\">\n",
              "    <path d=\"M0 0h24v24H0V0z\" fill=\"none\"/>\n",
              "    <path d=\"M18.56 5.44l.94 2.06.94-2.06 2.06-.94-2.06-.94-.94-2.06-.94 2.06-2.06.94zm-11 1L8.5 8.5l.94-2.06 2.06-.94-2.06-.94L8.5 2.5l-.94 2.06-2.06.94zm10 10l.94 2.06.94-2.06 2.06-.94-2.06-.94-.94-2.06-.94 2.06-2.06.94z\"/><path d=\"M17.41 7.96l-1.37-1.37c-.4-.4-.92-.59-1.43-.59-.52 0-1.04.2-1.43.59L10.3 9.45l-7.72 7.72c-.78.78-.78 2.05 0 2.83L4 21.41c.39.39.9.59 1.41.59.51 0 1.02-.2 1.41-.59l7.78-7.78 2.81-2.81c.8-.78.8-2.07 0-2.86zM5.41 20L4 18.59l7.72-7.72 1.47 1.35L5.41 20z\"/>\n",
              "  </svg>\n",
              "      </button>\n",
              "      \n",
              "  <style>\n",
              "    .colab-df-container {\n",
              "      display:flex;\n",
              "      flex-wrap:wrap;\n",
              "      gap: 12px;\n",
              "    }\n",
              "\n",
              "    .colab-df-convert {\n",
              "      background-color: #E8F0FE;\n",
              "      border: none;\n",
              "      border-radius: 50%;\n",
              "      cursor: pointer;\n",
              "      display: none;\n",
              "      fill: #1967D2;\n",
              "      height: 32px;\n",
              "      padding: 0 0 0 0;\n",
              "      width: 32px;\n",
              "    }\n",
              "\n",
              "    .colab-df-convert:hover {\n",
              "      background-color: #E2EBFA;\n",
              "      box-shadow: 0px 1px 2px rgba(60, 64, 67, 0.3), 0px 1px 3px 1px rgba(60, 64, 67, 0.15);\n",
              "      fill: #174EA6;\n",
              "    }\n",
              "\n",
              "    [theme=dark] .colab-df-convert {\n",
              "      background-color: #3B4455;\n",
              "      fill: #D2E3FC;\n",
              "    }\n",
              "\n",
              "    [theme=dark] .colab-df-convert:hover {\n",
              "      background-color: #434B5C;\n",
              "      box-shadow: 0px 1px 3px 1px rgba(0, 0, 0, 0.15);\n",
              "      filter: drop-shadow(0px 1px 2px rgba(0, 0, 0, 0.3));\n",
              "      fill: #FFFFFF;\n",
              "    }\n",
              "  </style>\n",
              "\n",
              "      <script>\n",
              "        const buttonEl =\n",
              "          document.querySelector('#df-a3cb3902-c79b-42e6-ae7a-edc8d4f721f2 button.colab-df-convert');\n",
              "        buttonEl.style.display =\n",
              "          google.colab.kernel.accessAllowed ? 'block' : 'none';\n",
              "\n",
              "        async function convertToInteractive(key) {\n",
              "          const element = document.querySelector('#df-a3cb3902-c79b-42e6-ae7a-edc8d4f721f2');\n",
              "          const dataTable =\n",
              "            await google.colab.kernel.invokeFunction('convertToInteractive',\n",
              "                                                     [key], {});\n",
              "          if (!dataTable) return;\n",
              "\n",
              "          const docLinkHtml = 'Like what you see? Visit the ' +\n",
              "            '<a target=\"_blank\" href=https://colab.research.google.com/notebooks/data_table.ipynb>data table notebook</a>'\n",
              "            + ' to learn more about interactive tables.';\n",
              "          element.innerHTML = '';\n",
              "          dataTable['output_type'] = 'display_data';\n",
              "          await google.colab.output.renderOutput(dataTable, element);\n",
              "          const docLink = document.createElement('div');\n",
              "          docLink.innerHTML = docLinkHtml;\n",
              "          element.appendChild(docLink);\n",
              "        }\n",
              "      </script>\n",
              "    </div>\n",
              "  </div>\n",
              "  "
            ]
          },
          "metadata": {},
          "execution_count": 43
        }
      ]
    },
    {
      "cell_type": "markdown",
      "source": [
        "**중첩 사전 활용**\n",
        "\n",
        "데이터프레임을 생성함에 있어서의 핵심은 2차원 행렬 모양을 갖느냐이기에 각 열에 해당하는 값으로 리스트, 어레이, 사전, 시리즈 등이 사용될 수 있다. 따라서 아래 모양의 중첩 사전을 활용하여 데이터프레임을 생성할 수 있다. 그러면 최상위 키는 열의 이름으로, 내부에 사용된 키는 행의 인덱스로 사용된다."
      ],
      "metadata": {
        "id": "fgJIQ-F-4Drc"
      }
    },
    {
      "cell_type": "code",
      "source": [
        "dict3 = {'Nevada' : {2001: 2.4, 2002: 2.9},\n",
        "         'Ohio' : {2000: 1.5, 2001: 1.7, 2002: 3.6}}"
      ],
      "metadata": {
        "id": "bfNoO2NG4RmT"
      },
      "execution_count": 44,
      "outputs": []
    },
    {
      "cell_type": "markdown",
      "source": [
        "위 중첩 사전을 이용하여 데이터프레임을 생성하면 다음과 같다. 다만, 두 사전의 키가 다름에 주의하라. 예를 들어, 2000 인덱스의 Nevada의 경우는 결측치로 처리된다."
      ],
      "metadata": {
        "id": "jB6_yWhn4b1G"
      }
    },
    {
      "cell_type": "code",
      "source": [
        "frame3 = pd.DataFrame(dict3)\n",
        "frame3"
      ],
      "metadata": {
        "colab": {
          "base_uri": "https://localhost:8080/",
          "height": 143
        },
        "id": "PnCsSSf15iOm",
        "outputId": "a24cfccd-d4fe-4fb9-fb8d-34eaf1156f11"
      },
      "execution_count": 45,
      "outputs": [
        {
          "output_type": "execute_result",
          "data": {
            "text/plain": [
              "      Nevada  Ohio\n",
              "2001     2.4   1.7\n",
              "2002     2.9   3.6\n",
              "2000     NaN   1.5"
            ],
            "text/html": [
              "\n",
              "  <div id=\"df-47c6e1d3-39d4-466b-8d3b-0855027f2468\">\n",
              "    <div class=\"colab-df-container\">\n",
              "      <div>\n",
              "<style scoped>\n",
              "    .dataframe tbody tr th:only-of-type {\n",
              "        vertical-align: middle;\n",
              "    }\n",
              "\n",
              "    .dataframe tbody tr th {\n",
              "        vertical-align: top;\n",
              "    }\n",
              "\n",
              "    .dataframe thead th {\n",
              "        text-align: right;\n",
              "    }\n",
              "</style>\n",
              "<table border=\"1\" class=\"dataframe\">\n",
              "  <thead>\n",
              "    <tr style=\"text-align: right;\">\n",
              "      <th></th>\n",
              "      <th>Nevada</th>\n",
              "      <th>Ohio</th>\n",
              "    </tr>\n",
              "  </thead>\n",
              "  <tbody>\n",
              "    <tr>\n",
              "      <th>2001</th>\n",
              "      <td>2.4</td>\n",
              "      <td>1.7</td>\n",
              "    </tr>\n",
              "    <tr>\n",
              "      <th>2002</th>\n",
              "      <td>2.9</td>\n",
              "      <td>3.6</td>\n",
              "    </tr>\n",
              "    <tr>\n",
              "      <th>2000</th>\n",
              "      <td>NaN</td>\n",
              "      <td>1.5</td>\n",
              "    </tr>\n",
              "  </tbody>\n",
              "</table>\n",
              "</div>\n",
              "      <button class=\"colab-df-convert\" onclick=\"convertToInteractive('df-47c6e1d3-39d4-466b-8d3b-0855027f2468')\"\n",
              "              title=\"Convert this dataframe to an interactive table.\"\n",
              "              style=\"display:none;\">\n",
              "        \n",
              "  <svg xmlns=\"http://www.w3.org/2000/svg\" height=\"24px\"viewBox=\"0 0 24 24\"\n",
              "       width=\"24px\">\n",
              "    <path d=\"M0 0h24v24H0V0z\" fill=\"none\"/>\n",
              "    <path d=\"M18.56 5.44l.94 2.06.94-2.06 2.06-.94-2.06-.94-.94-2.06-.94 2.06-2.06.94zm-11 1L8.5 8.5l.94-2.06 2.06-.94-2.06-.94L8.5 2.5l-.94 2.06-2.06.94zm10 10l.94 2.06.94-2.06 2.06-.94-2.06-.94-.94-2.06-.94 2.06-2.06.94z\"/><path d=\"M17.41 7.96l-1.37-1.37c-.4-.4-.92-.59-1.43-.59-.52 0-1.04.2-1.43.59L10.3 9.45l-7.72 7.72c-.78.78-.78 2.05 0 2.83L4 21.41c.39.39.9.59 1.41.59.51 0 1.02-.2 1.41-.59l7.78-7.78 2.81-2.81c.8-.78.8-2.07 0-2.86zM5.41 20L4 18.59l7.72-7.72 1.47 1.35L5.41 20z\"/>\n",
              "  </svg>\n",
              "      </button>\n",
              "      \n",
              "  <style>\n",
              "    .colab-df-container {\n",
              "      display:flex;\n",
              "      flex-wrap:wrap;\n",
              "      gap: 12px;\n",
              "    }\n",
              "\n",
              "    .colab-df-convert {\n",
              "      background-color: #E8F0FE;\n",
              "      border: none;\n",
              "      border-radius: 50%;\n",
              "      cursor: pointer;\n",
              "      display: none;\n",
              "      fill: #1967D2;\n",
              "      height: 32px;\n",
              "      padding: 0 0 0 0;\n",
              "      width: 32px;\n",
              "    }\n",
              "\n",
              "    .colab-df-convert:hover {\n",
              "      background-color: #E2EBFA;\n",
              "      box-shadow: 0px 1px 2px rgba(60, 64, 67, 0.3), 0px 1px 3px 1px rgba(60, 64, 67, 0.15);\n",
              "      fill: #174EA6;\n",
              "    }\n",
              "\n",
              "    [theme=dark] .colab-df-convert {\n",
              "      background-color: #3B4455;\n",
              "      fill: #D2E3FC;\n",
              "    }\n",
              "\n",
              "    [theme=dark] .colab-df-convert:hover {\n",
              "      background-color: #434B5C;\n",
              "      box-shadow: 0px 1px 3px 1px rgba(0, 0, 0, 0.15);\n",
              "      filter: drop-shadow(0px 1px 2px rgba(0, 0, 0, 0.3));\n",
              "      fill: #FFFFFF;\n",
              "    }\n",
              "  </style>\n",
              "\n",
              "      <script>\n",
              "        const buttonEl =\n",
              "          document.querySelector('#df-47c6e1d3-39d4-466b-8d3b-0855027f2468 button.colab-df-convert');\n",
              "        buttonEl.style.display =\n",
              "          google.colab.kernel.accessAllowed ? 'block' : 'none';\n",
              "\n",
              "        async function convertToInteractive(key) {\n",
              "          const element = document.querySelector('#df-47c6e1d3-39d4-466b-8d3b-0855027f2468');\n",
              "          const dataTable =\n",
              "            await google.colab.kernel.invokeFunction('convertToInteractive',\n",
              "                                                     [key], {});\n",
              "          if (!dataTable) return;\n",
              "\n",
              "          const docLinkHtml = 'Like what you see? Visit the ' +\n",
              "            '<a target=\"_blank\" href=https://colab.research.google.com/notebooks/data_table.ipynb>data table notebook</a>'\n",
              "            + ' to learn more about interactive tables.';\n",
              "          element.innerHTML = '';\n",
              "          dataTable['output_type'] = 'display_data';\n",
              "          await google.colab.output.renderOutput(dataTable, element);\n",
              "          const docLink = document.createElement('div');\n",
              "          docLink.innerHTML = docLinkHtml;\n",
              "          element.appendChild(docLink);\n",
              "        }\n",
              "      </script>\n",
              "    </div>\n",
              "  </div>\n",
              "  "
            ]
          },
          "metadata": {},
          "execution_count": 45
        }
      ]
    },
    {
      "cell_type": "markdown",
      "source": [
        "하나의 사전을 시리즈로 본다면 여러 개의 사전으로 이루어진 사전을 이용하여 생성된 데이터프레임은 여러 개의 시리즈를 이어붙여서 생성한 데이터프레임으로 간주할 수 있다. 실제로 아래 두 개의 시리즈를 합친 결과와 동일함을 확인할 수 있다."
      ],
      "metadata": {
        "id": "RnSfTu_S58fp"
      }
    },
    {
      "cell_type": "code",
      "source": [
        "nevada = pd.Series({2001: 2.4, 2002: 2.9}, name=\"Nevada\")\n",
        "nevada"
      ],
      "metadata": {
        "colab": {
          "base_uri": "https://localhost:8080/"
        },
        "id": "qw5mPXsb6GKK",
        "outputId": "de41fbc2-ab15-47dd-b634-533c6a954b0b"
      },
      "execution_count": 46,
      "outputs": [
        {
          "output_type": "execute_result",
          "data": {
            "text/plain": [
              "2001    2.4\n",
              "2002    2.9\n",
              "Name: Nevada, dtype: float64"
            ]
          },
          "metadata": {},
          "execution_count": 46
        }
      ]
    },
    {
      "cell_type": "code",
      "source": [
        "ohio = pd.Series({2000: 1.5, 2001: 1.7, 2002: 3.6}, name=\"Ohio\")\n",
        "ohio"
      ],
      "metadata": {
        "colab": {
          "base_uri": "https://localhost:8080/"
        },
        "id": "Db31xxxYvr5O",
        "outputId": "2c7c34c3-3cc7-48f8-876c-c757be2693d6"
      },
      "execution_count": 47,
      "outputs": [
        {
          "output_type": "execute_result",
          "data": {
            "text/plain": [
              "2000    1.5\n",
              "2001    1.7\n",
              "2002    3.6\n",
              "Name: Ohio, dtype: float64"
            ]
          },
          "metadata": {},
          "execution_count": 47
        }
      ]
    },
    {
      "cell_type": "markdown",
      "source": [
        "이제 두 시리즈를 합치면 위 결과와 동일하다. 단, 행 인덱스가 정렬되서 보이는 점만 조금 다르다. 행과 열을 기준으로 정렬하는 작업은 나중에 설명한다."
      ],
      "metadata": {
        "id": "y35nWpppv62u"
      }
    },
    {
      "cell_type": "code",
      "source": [
        "pd.concat([nevada, ohio], axis=1)"
      ],
      "metadata": {
        "colab": {
          "base_uri": "https://localhost:8080/",
          "height": 143
        },
        "id": "qBm91_t7wAhh",
        "outputId": "e1a93eca-6dd4-4d78-ba6f-0281f3767c04"
      },
      "execution_count": 48,
      "outputs": [
        {
          "output_type": "execute_result",
          "data": {
            "text/plain": [
              "      Nevada  Ohio\n",
              "2000     NaN   1.5\n",
              "2001     2.4   1.7\n",
              "2002     2.9   3.6"
            ],
            "text/html": [
              "\n",
              "  <div id=\"df-225d8fec-93bf-43bc-81d6-8021f95cec9a\">\n",
              "    <div class=\"colab-df-container\">\n",
              "      <div>\n",
              "<style scoped>\n",
              "    .dataframe tbody tr th:only-of-type {\n",
              "        vertical-align: middle;\n",
              "    }\n",
              "\n",
              "    .dataframe tbody tr th {\n",
              "        vertical-align: top;\n",
              "    }\n",
              "\n",
              "    .dataframe thead th {\n",
              "        text-align: right;\n",
              "    }\n",
              "</style>\n",
              "<table border=\"1\" class=\"dataframe\">\n",
              "  <thead>\n",
              "    <tr style=\"text-align: right;\">\n",
              "      <th></th>\n",
              "      <th>Nevada</th>\n",
              "      <th>Ohio</th>\n",
              "    </tr>\n",
              "  </thead>\n",
              "  <tbody>\n",
              "    <tr>\n",
              "      <th>2000</th>\n",
              "      <td>NaN</td>\n",
              "      <td>1.5</td>\n",
              "    </tr>\n",
              "    <tr>\n",
              "      <th>2001</th>\n",
              "      <td>2.4</td>\n",
              "      <td>1.7</td>\n",
              "    </tr>\n",
              "    <tr>\n",
              "      <th>2002</th>\n",
              "      <td>2.9</td>\n",
              "      <td>3.6</td>\n",
              "    </tr>\n",
              "  </tbody>\n",
              "</table>\n",
              "</div>\n",
              "      <button class=\"colab-df-convert\" onclick=\"convertToInteractive('df-225d8fec-93bf-43bc-81d6-8021f95cec9a')\"\n",
              "              title=\"Convert this dataframe to an interactive table.\"\n",
              "              style=\"display:none;\">\n",
              "        \n",
              "  <svg xmlns=\"http://www.w3.org/2000/svg\" height=\"24px\"viewBox=\"0 0 24 24\"\n",
              "       width=\"24px\">\n",
              "    <path d=\"M0 0h24v24H0V0z\" fill=\"none\"/>\n",
              "    <path d=\"M18.56 5.44l.94 2.06.94-2.06 2.06-.94-2.06-.94-.94-2.06-.94 2.06-2.06.94zm-11 1L8.5 8.5l.94-2.06 2.06-.94-2.06-.94L8.5 2.5l-.94 2.06-2.06.94zm10 10l.94 2.06.94-2.06 2.06-.94-2.06-.94-.94-2.06-.94 2.06-2.06.94z\"/><path d=\"M17.41 7.96l-1.37-1.37c-.4-.4-.92-.59-1.43-.59-.52 0-1.04.2-1.43.59L10.3 9.45l-7.72 7.72c-.78.78-.78 2.05 0 2.83L4 21.41c.39.39.9.59 1.41.59.51 0 1.02-.2 1.41-.59l7.78-7.78 2.81-2.81c.8-.78.8-2.07 0-2.86zM5.41 20L4 18.59l7.72-7.72 1.47 1.35L5.41 20z\"/>\n",
              "  </svg>\n",
              "      </button>\n",
              "      \n",
              "  <style>\n",
              "    .colab-df-container {\n",
              "      display:flex;\n",
              "      flex-wrap:wrap;\n",
              "      gap: 12px;\n",
              "    }\n",
              "\n",
              "    .colab-df-convert {\n",
              "      background-color: #E8F0FE;\n",
              "      border: none;\n",
              "      border-radius: 50%;\n",
              "      cursor: pointer;\n",
              "      display: none;\n",
              "      fill: #1967D2;\n",
              "      height: 32px;\n",
              "      padding: 0 0 0 0;\n",
              "      width: 32px;\n",
              "    }\n",
              "\n",
              "    .colab-df-convert:hover {\n",
              "      background-color: #E2EBFA;\n",
              "      box-shadow: 0px 1px 2px rgba(60, 64, 67, 0.3), 0px 1px 3px 1px rgba(60, 64, 67, 0.15);\n",
              "      fill: #174EA6;\n",
              "    }\n",
              "\n",
              "    [theme=dark] .colab-df-convert {\n",
              "      background-color: #3B4455;\n",
              "      fill: #D2E3FC;\n",
              "    }\n",
              "\n",
              "    [theme=dark] .colab-df-convert:hover {\n",
              "      background-color: #434B5C;\n",
              "      box-shadow: 0px 1px 3px 1px rgba(0, 0, 0, 0.15);\n",
              "      filter: drop-shadow(0px 1px 2px rgba(0, 0, 0, 0.3));\n",
              "      fill: #FFFFFF;\n",
              "    }\n",
              "  </style>\n",
              "\n",
              "      <script>\n",
              "        const buttonEl =\n",
              "          document.querySelector('#df-225d8fec-93bf-43bc-81d6-8021f95cec9a button.colab-df-convert');\n",
              "        buttonEl.style.display =\n",
              "          google.colab.kernel.accessAllowed ? 'block' : 'none';\n",
              "\n",
              "        async function convertToInteractive(key) {\n",
              "          const element = document.querySelector('#df-225d8fec-93bf-43bc-81d6-8021f95cec9a');\n",
              "          const dataTable =\n",
              "            await google.colab.kernel.invokeFunction('convertToInteractive',\n",
              "                                                     [key], {});\n",
              "          if (!dataTable) return;\n",
              "\n",
              "          const docLinkHtml = 'Like what you see? Visit the ' +\n",
              "            '<a target=\"_blank\" href=https://colab.research.google.com/notebooks/data_table.ipynb>data table notebook</a>'\n",
              "            + ' to learn more about interactive tables.';\n",
              "          element.innerHTML = '';\n",
              "          dataTable['output_type'] = 'display_data';\n",
              "          await google.colab.output.renderOutput(dataTable, element);\n",
              "          const docLink = document.createElement('div');\n",
              "          docLink.innerHTML = docLinkHtml;\n",
              "          element.appendChild(docLink);\n",
              "        }\n",
              "      </script>\n",
              "    </div>\n",
              "  </div>\n",
              "  "
            ]
          },
          "metadata": {},
          "execution_count": 48
        }
      ]
    },
    {
      "cell_type": "markdown",
      "source": [
        "`name` 속성\n",
        "\n",
        "시리즈의 경우와 동일한 방식으로 행과 열의 이름을 지정할 수 있다."
      ],
      "metadata": {
        "id": "F2_aKMKP0fGT"
      }
    },
    {
      "cell_type": "code",
      "source": [
        "frame3.index.name = 'year'\n",
        "frame3.columns.name = 'state'\n",
        "frame3"
      ],
      "metadata": {
        "colab": {
          "base_uri": "https://localhost:8080/",
          "height": 175
        },
        "id": "pBzEcyy20kBj",
        "outputId": "ec8fd640-109b-4f19-b71d-e1a00c8e829d"
      },
      "execution_count": 49,
      "outputs": [
        {
          "output_type": "execute_result",
          "data": {
            "text/plain": [
              "state  Nevada  Ohio\n",
              "year               \n",
              "2001      2.4   1.7\n",
              "2002      2.9   3.6\n",
              "2000      NaN   1.5"
            ],
            "text/html": [
              "\n",
              "  <div id=\"df-cdc07fd4-7b5a-4db5-8550-621f93a4a37c\">\n",
              "    <div class=\"colab-df-container\">\n",
              "      <div>\n",
              "<style scoped>\n",
              "    .dataframe tbody tr th:only-of-type {\n",
              "        vertical-align: middle;\n",
              "    }\n",
              "\n",
              "    .dataframe tbody tr th {\n",
              "        vertical-align: top;\n",
              "    }\n",
              "\n",
              "    .dataframe thead th {\n",
              "        text-align: right;\n",
              "    }\n",
              "</style>\n",
              "<table border=\"1\" class=\"dataframe\">\n",
              "  <thead>\n",
              "    <tr style=\"text-align: right;\">\n",
              "      <th>state</th>\n",
              "      <th>Nevada</th>\n",
              "      <th>Ohio</th>\n",
              "    </tr>\n",
              "    <tr>\n",
              "      <th>year</th>\n",
              "      <th></th>\n",
              "      <th></th>\n",
              "    </tr>\n",
              "  </thead>\n",
              "  <tbody>\n",
              "    <tr>\n",
              "      <th>2001</th>\n",
              "      <td>2.4</td>\n",
              "      <td>1.7</td>\n",
              "    </tr>\n",
              "    <tr>\n",
              "      <th>2002</th>\n",
              "      <td>2.9</td>\n",
              "      <td>3.6</td>\n",
              "    </tr>\n",
              "    <tr>\n",
              "      <th>2000</th>\n",
              "      <td>NaN</td>\n",
              "      <td>1.5</td>\n",
              "    </tr>\n",
              "  </tbody>\n",
              "</table>\n",
              "</div>\n",
              "      <button class=\"colab-df-convert\" onclick=\"convertToInteractive('df-cdc07fd4-7b5a-4db5-8550-621f93a4a37c')\"\n",
              "              title=\"Convert this dataframe to an interactive table.\"\n",
              "              style=\"display:none;\">\n",
              "        \n",
              "  <svg xmlns=\"http://www.w3.org/2000/svg\" height=\"24px\"viewBox=\"0 0 24 24\"\n",
              "       width=\"24px\">\n",
              "    <path d=\"M0 0h24v24H0V0z\" fill=\"none\"/>\n",
              "    <path d=\"M18.56 5.44l.94 2.06.94-2.06 2.06-.94-2.06-.94-.94-2.06-.94 2.06-2.06.94zm-11 1L8.5 8.5l.94-2.06 2.06-.94-2.06-.94L8.5 2.5l-.94 2.06-2.06.94zm10 10l.94 2.06.94-2.06 2.06-.94-2.06-.94-.94-2.06-.94 2.06-2.06.94z\"/><path d=\"M17.41 7.96l-1.37-1.37c-.4-.4-.92-.59-1.43-.59-.52 0-1.04.2-1.43.59L10.3 9.45l-7.72 7.72c-.78.78-.78 2.05 0 2.83L4 21.41c.39.39.9.59 1.41.59.51 0 1.02-.2 1.41-.59l7.78-7.78 2.81-2.81c.8-.78.8-2.07 0-2.86zM5.41 20L4 18.59l7.72-7.72 1.47 1.35L5.41 20z\"/>\n",
              "  </svg>\n",
              "      </button>\n",
              "      \n",
              "  <style>\n",
              "    .colab-df-container {\n",
              "      display:flex;\n",
              "      flex-wrap:wrap;\n",
              "      gap: 12px;\n",
              "    }\n",
              "\n",
              "    .colab-df-convert {\n",
              "      background-color: #E8F0FE;\n",
              "      border: none;\n",
              "      border-radius: 50%;\n",
              "      cursor: pointer;\n",
              "      display: none;\n",
              "      fill: #1967D2;\n",
              "      height: 32px;\n",
              "      padding: 0 0 0 0;\n",
              "      width: 32px;\n",
              "    }\n",
              "\n",
              "    .colab-df-convert:hover {\n",
              "      background-color: #E2EBFA;\n",
              "      box-shadow: 0px 1px 2px rgba(60, 64, 67, 0.3), 0px 1px 3px 1px rgba(60, 64, 67, 0.15);\n",
              "      fill: #174EA6;\n",
              "    }\n",
              "\n",
              "    [theme=dark] .colab-df-convert {\n",
              "      background-color: #3B4455;\n",
              "      fill: #D2E3FC;\n",
              "    }\n",
              "\n",
              "    [theme=dark] .colab-df-convert:hover {\n",
              "      background-color: #434B5C;\n",
              "      box-shadow: 0px 1px 3px 1px rgba(0, 0, 0, 0.15);\n",
              "      filter: drop-shadow(0px 1px 2px rgba(0, 0, 0, 0.3));\n",
              "      fill: #FFFFFF;\n",
              "    }\n",
              "  </style>\n",
              "\n",
              "      <script>\n",
              "        const buttonEl =\n",
              "          document.querySelector('#df-cdc07fd4-7b5a-4db5-8550-621f93a4a37c button.colab-df-convert');\n",
              "        buttonEl.style.display =\n",
              "          google.colab.kernel.accessAllowed ? 'block' : 'none';\n",
              "\n",
              "        async function convertToInteractive(key) {\n",
              "          const element = document.querySelector('#df-cdc07fd4-7b5a-4db5-8550-621f93a4a37c');\n",
              "          const dataTable =\n",
              "            await google.colab.kernel.invokeFunction('convertToInteractive',\n",
              "                                                     [key], {});\n",
              "          if (!dataTable) return;\n",
              "\n",
              "          const docLinkHtml = 'Like what you see? Visit the ' +\n",
              "            '<a target=\"_blank\" href=https://colab.research.google.com/notebooks/data_table.ipynb>data table notebook</a>'\n",
              "            + ' to learn more about interactive tables.';\n",
              "          element.innerHTML = '';\n",
              "          dataTable['output_type'] = 'display_data';\n",
              "          await google.colab.output.renderOutput(dataTable, element);\n",
              "          const docLink = document.createElement('div');\n",
              "          docLink.innerHTML = docLinkHtml;\n",
              "          element.appendChild(docLink);\n",
              "        }\n",
              "      </script>\n",
              "    </div>\n",
              "  </div>\n",
              "  "
            ]
          },
          "metadata": {},
          "execution_count": 49
        }
      ]
    },
    {
      "cell_type": "markdown",
      "source": [
        "`values` 속성\n",
        "\n",
        "항목들로 이루어진 2차원 어레이는 `values` 속성이 가리킨다."
      ],
      "metadata": {
        "id": "4AiKqrWY0rlH"
      }
    },
    {
      "cell_type": "code",
      "source": [
        "frame3.values"
      ],
      "metadata": {
        "colab": {
          "base_uri": "https://localhost:8080/"
        },
        "id": "PihBuqbw0viL",
        "outputId": "06933b6e-f6e8-4752-a2c5-39bc6121fcdb"
      },
      "execution_count": 54,
      "outputs": [
        {
          "output_type": "execute_result",
          "data": {
            "text/plain": [
              "array([[2.4, 1.7],\n",
              "       [2.9, 3.6],\n",
              "       [nan, 1.5]])"
            ]
          },
          "metadata": {},
          "execution_count": 54
        }
      ]
    },
    {
      "cell_type": "code",
      "source": [
        "frame2.values"
      ],
      "metadata": {
        "colab": {
          "base_uri": "https://localhost:8080/"
        },
        "id": "mTydbKHK0zuB",
        "outputId": "40a9fb2c-acc7-42f5-eb69-961ec6b06d53"
      },
      "execution_count": 56,
      "outputs": [
        {
          "output_type": "execute_result",
          "data": {
            "text/plain": [
              "array([['Ohio', 2000, 1.5],\n",
              "       ['Ohio', 2001, 1.7],\n",
              "       ['Ohio', 2002, 3.6],\n",
              "       ['Nevada', 2001, 2.4],\n",
              "       ['Nevada', 2002, 2.9],\n",
              "       ['Nevada', 2003, 3.2],\n",
              "       ['NY', 2002, 8.3],\n",
              "       ['NY', 2003, 8.4],\n",
              "       ['NY', 2004, 8.5]], dtype=object)"
            ]
          },
          "metadata": {},
          "execution_count": 56
        }
      ]
    },
    {
      "cell_type": "markdown",
      "source": [
        "## 8.2.2. `columns`와 `index`\n",
        "\n",
        "`columns` 속성\n",
        "\n",
        "`columns` 속성을 이용하여 열의 순서를 지정할 수 있다."
      ],
      "metadata": {
        "id": "2NFmPGyo04in"
      }
    },
    {
      "cell_type": "code",
      "source": [
        "pd.DataFrame(dict2, columns=['year', 'state', 'pop'])"
      ],
      "metadata": {
        "colab": {
          "base_uri": "https://localhost:8080/",
          "height": 332
        },
        "id": "7fZwokhF0_XG",
        "outputId": "4189c3fd-cb14-402e-a977-e480f4774d9c"
      },
      "execution_count": 57,
      "outputs": [
        {
          "output_type": "execute_result",
          "data": {
            "text/plain": [
              "   year   state  pop\n",
              "0  2000    Ohio  1.5\n",
              "1  2001    Ohio  1.7\n",
              "2  2002    Ohio  3.6\n",
              "3  2001  Nevada  2.4\n",
              "4  2002  Nevada  2.9\n",
              "5  2003  Nevada  3.2\n",
              "6  2002      NY  8.3\n",
              "7  2003      NY  8.4\n",
              "8  2004      NY  8.5"
            ],
            "text/html": [
              "\n",
              "  <div id=\"df-15198d49-5741-4994-be09-3178a6fb6874\">\n",
              "    <div class=\"colab-df-container\">\n",
              "      <div>\n",
              "<style scoped>\n",
              "    .dataframe tbody tr th:only-of-type {\n",
              "        vertical-align: middle;\n",
              "    }\n",
              "\n",
              "    .dataframe tbody tr th {\n",
              "        vertical-align: top;\n",
              "    }\n",
              "\n",
              "    .dataframe thead th {\n",
              "        text-align: right;\n",
              "    }\n",
              "</style>\n",
              "<table border=\"1\" class=\"dataframe\">\n",
              "  <thead>\n",
              "    <tr style=\"text-align: right;\">\n",
              "      <th></th>\n",
              "      <th>year</th>\n",
              "      <th>state</th>\n",
              "      <th>pop</th>\n",
              "    </tr>\n",
              "  </thead>\n",
              "  <tbody>\n",
              "    <tr>\n",
              "      <th>0</th>\n",
              "      <td>2000</td>\n",
              "      <td>Ohio</td>\n",
              "      <td>1.5</td>\n",
              "    </tr>\n",
              "    <tr>\n",
              "      <th>1</th>\n",
              "      <td>2001</td>\n",
              "      <td>Ohio</td>\n",
              "      <td>1.7</td>\n",
              "    </tr>\n",
              "    <tr>\n",
              "      <th>2</th>\n",
              "      <td>2002</td>\n",
              "      <td>Ohio</td>\n",
              "      <td>3.6</td>\n",
              "    </tr>\n",
              "    <tr>\n",
              "      <th>3</th>\n",
              "      <td>2001</td>\n",
              "      <td>Nevada</td>\n",
              "      <td>2.4</td>\n",
              "    </tr>\n",
              "    <tr>\n",
              "      <th>4</th>\n",
              "      <td>2002</td>\n",
              "      <td>Nevada</td>\n",
              "      <td>2.9</td>\n",
              "    </tr>\n",
              "    <tr>\n",
              "      <th>5</th>\n",
              "      <td>2003</td>\n",
              "      <td>Nevada</td>\n",
              "      <td>3.2</td>\n",
              "    </tr>\n",
              "    <tr>\n",
              "      <th>6</th>\n",
              "      <td>2002</td>\n",
              "      <td>NY</td>\n",
              "      <td>8.3</td>\n",
              "    </tr>\n",
              "    <tr>\n",
              "      <th>7</th>\n",
              "      <td>2003</td>\n",
              "      <td>NY</td>\n",
              "      <td>8.4</td>\n",
              "    </tr>\n",
              "    <tr>\n",
              "      <th>8</th>\n",
              "      <td>2004</td>\n",
              "      <td>NY</td>\n",
              "      <td>8.5</td>\n",
              "    </tr>\n",
              "  </tbody>\n",
              "</table>\n",
              "</div>\n",
              "      <button class=\"colab-df-convert\" onclick=\"convertToInteractive('df-15198d49-5741-4994-be09-3178a6fb6874')\"\n",
              "              title=\"Convert this dataframe to an interactive table.\"\n",
              "              style=\"display:none;\">\n",
              "        \n",
              "  <svg xmlns=\"http://www.w3.org/2000/svg\" height=\"24px\"viewBox=\"0 0 24 24\"\n",
              "       width=\"24px\">\n",
              "    <path d=\"M0 0h24v24H0V0z\" fill=\"none\"/>\n",
              "    <path d=\"M18.56 5.44l.94 2.06.94-2.06 2.06-.94-2.06-.94-.94-2.06-.94 2.06-2.06.94zm-11 1L8.5 8.5l.94-2.06 2.06-.94-2.06-.94L8.5 2.5l-.94 2.06-2.06.94zm10 10l.94 2.06.94-2.06 2.06-.94-2.06-.94-.94-2.06-.94 2.06-2.06.94z\"/><path d=\"M17.41 7.96l-1.37-1.37c-.4-.4-.92-.59-1.43-.59-.52 0-1.04.2-1.43.59L10.3 9.45l-7.72 7.72c-.78.78-.78 2.05 0 2.83L4 21.41c.39.39.9.59 1.41.59.51 0 1.02-.2 1.41-.59l7.78-7.78 2.81-2.81c.8-.78.8-2.07 0-2.86zM5.41 20L4 18.59l7.72-7.72 1.47 1.35L5.41 20z\"/>\n",
              "  </svg>\n",
              "      </button>\n",
              "      \n",
              "  <style>\n",
              "    .colab-df-container {\n",
              "      display:flex;\n",
              "      flex-wrap:wrap;\n",
              "      gap: 12px;\n",
              "    }\n",
              "\n",
              "    .colab-df-convert {\n",
              "      background-color: #E8F0FE;\n",
              "      border: none;\n",
              "      border-radius: 50%;\n",
              "      cursor: pointer;\n",
              "      display: none;\n",
              "      fill: #1967D2;\n",
              "      height: 32px;\n",
              "      padding: 0 0 0 0;\n",
              "      width: 32px;\n",
              "    }\n",
              "\n",
              "    .colab-df-convert:hover {\n",
              "      background-color: #E2EBFA;\n",
              "      box-shadow: 0px 1px 2px rgba(60, 64, 67, 0.3), 0px 1px 3px 1px rgba(60, 64, 67, 0.15);\n",
              "      fill: #174EA6;\n",
              "    }\n",
              "\n",
              "    [theme=dark] .colab-df-convert {\n",
              "      background-color: #3B4455;\n",
              "      fill: #D2E3FC;\n",
              "    }\n",
              "\n",
              "    [theme=dark] .colab-df-convert:hover {\n",
              "      background-color: #434B5C;\n",
              "      box-shadow: 0px 1px 3px 1px rgba(0, 0, 0, 0.15);\n",
              "      filter: drop-shadow(0px 1px 2px rgba(0, 0, 0, 0.3));\n",
              "      fill: #FFFFFF;\n",
              "    }\n",
              "  </style>\n",
              "\n",
              "      <script>\n",
              "        const buttonEl =\n",
              "          document.querySelector('#df-15198d49-5741-4994-be09-3178a6fb6874 button.colab-df-convert');\n",
              "        buttonEl.style.display =\n",
              "          google.colab.kernel.accessAllowed ? 'block' : 'none';\n",
              "\n",
              "        async function convertToInteractive(key) {\n",
              "          const element = document.querySelector('#df-15198d49-5741-4994-be09-3178a6fb6874');\n",
              "          const dataTable =\n",
              "            await google.colab.kernel.invokeFunction('convertToInteractive',\n",
              "                                                     [key], {});\n",
              "          if (!dataTable) return;\n",
              "\n",
              "          const docLinkHtml = 'Like what you see? Visit the ' +\n",
              "            '<a target=\"_blank\" href=https://colab.research.google.com/notebooks/data_table.ipynb>data table notebook</a>'\n",
              "            + ' to learn more about interactive tables.';\n",
              "          element.innerHTML = '';\n",
              "          dataTable['output_type'] = 'display_data';\n",
              "          await google.colab.output.renderOutput(dataTable, element);\n",
              "          const docLink = document.createElement('div');\n",
              "          docLink.innerHTML = docLinkHtml;\n",
              "          element.appendChild(docLink);\n",
              "        }\n",
              "      </script>\n",
              "    </div>\n",
              "  </div>\n",
              "  "
            ]
          },
          "metadata": {},
          "execution_count": 57
        }
      ]
    },
    {
      "cell_type": "markdown",
      "source": [
        "새로운 열을 추가할 수도 있다. 이름만 지정할 경우 항목은 모두 `NaN`으로 처리된다."
      ],
      "metadata": {
        "id": "VnZVjENd1EiI"
      }
    },
    {
      "cell_type": "code",
      "source": [
        "frame2 = pd.DataFrame(dict2, columns=['year', 'state', 'pop', 'debt'])\n",
        "frame2"
      ],
      "metadata": {
        "colab": {
          "base_uri": "https://localhost:8080/",
          "height": 332
        },
        "id": "u5cQ7w921IIw",
        "outputId": "1bc0f18b-d863-4587-d630-67aa2e028a95"
      },
      "execution_count": 60,
      "outputs": [
        {
          "output_type": "execute_result",
          "data": {
            "text/plain": [
              "   year   state  pop debt\n",
              "0  2000    Ohio  1.5  NaN\n",
              "1  2001    Ohio  1.7  NaN\n",
              "2  2002    Ohio  3.6  NaN\n",
              "3  2001  Nevada  2.4  NaN\n",
              "4  2002  Nevada  2.9  NaN\n",
              "5  2003  Nevada  3.2  NaN\n",
              "6  2002      NY  8.3  NaN\n",
              "7  2003      NY  8.4  NaN\n",
              "8  2004      NY  8.5  NaN"
            ],
            "text/html": [
              "\n",
              "  <div id=\"df-b0dabffd-3293-4523-a798-f2e8ba22a6b3\">\n",
              "    <div class=\"colab-df-container\">\n",
              "      <div>\n",
              "<style scoped>\n",
              "    .dataframe tbody tr th:only-of-type {\n",
              "        vertical-align: middle;\n",
              "    }\n",
              "\n",
              "    .dataframe tbody tr th {\n",
              "        vertical-align: top;\n",
              "    }\n",
              "\n",
              "    .dataframe thead th {\n",
              "        text-align: right;\n",
              "    }\n",
              "</style>\n",
              "<table border=\"1\" class=\"dataframe\">\n",
              "  <thead>\n",
              "    <tr style=\"text-align: right;\">\n",
              "      <th></th>\n",
              "      <th>year</th>\n",
              "      <th>state</th>\n",
              "      <th>pop</th>\n",
              "      <th>debt</th>\n",
              "    </tr>\n",
              "  </thead>\n",
              "  <tbody>\n",
              "    <tr>\n",
              "      <th>0</th>\n",
              "      <td>2000</td>\n",
              "      <td>Ohio</td>\n",
              "      <td>1.5</td>\n",
              "      <td>NaN</td>\n",
              "    </tr>\n",
              "    <tr>\n",
              "      <th>1</th>\n",
              "      <td>2001</td>\n",
              "      <td>Ohio</td>\n",
              "      <td>1.7</td>\n",
              "      <td>NaN</td>\n",
              "    </tr>\n",
              "    <tr>\n",
              "      <th>2</th>\n",
              "      <td>2002</td>\n",
              "      <td>Ohio</td>\n",
              "      <td>3.6</td>\n",
              "      <td>NaN</td>\n",
              "    </tr>\n",
              "    <tr>\n",
              "      <th>3</th>\n",
              "      <td>2001</td>\n",
              "      <td>Nevada</td>\n",
              "      <td>2.4</td>\n",
              "      <td>NaN</td>\n",
              "    </tr>\n",
              "    <tr>\n",
              "      <th>4</th>\n",
              "      <td>2002</td>\n",
              "      <td>Nevada</td>\n",
              "      <td>2.9</td>\n",
              "      <td>NaN</td>\n",
              "    </tr>\n",
              "    <tr>\n",
              "      <th>5</th>\n",
              "      <td>2003</td>\n",
              "      <td>Nevada</td>\n",
              "      <td>3.2</td>\n",
              "      <td>NaN</td>\n",
              "    </tr>\n",
              "    <tr>\n",
              "      <th>6</th>\n",
              "      <td>2002</td>\n",
              "      <td>NY</td>\n",
              "      <td>8.3</td>\n",
              "      <td>NaN</td>\n",
              "    </tr>\n",
              "    <tr>\n",
              "      <th>7</th>\n",
              "      <td>2003</td>\n",
              "      <td>NY</td>\n",
              "      <td>8.4</td>\n",
              "      <td>NaN</td>\n",
              "    </tr>\n",
              "    <tr>\n",
              "      <th>8</th>\n",
              "      <td>2004</td>\n",
              "      <td>NY</td>\n",
              "      <td>8.5</td>\n",
              "      <td>NaN</td>\n",
              "    </tr>\n",
              "  </tbody>\n",
              "</table>\n",
              "</div>\n",
              "      <button class=\"colab-df-convert\" onclick=\"convertToInteractive('df-b0dabffd-3293-4523-a798-f2e8ba22a6b3')\"\n",
              "              title=\"Convert this dataframe to an interactive table.\"\n",
              "              style=\"display:none;\">\n",
              "        \n",
              "  <svg xmlns=\"http://www.w3.org/2000/svg\" height=\"24px\"viewBox=\"0 0 24 24\"\n",
              "       width=\"24px\">\n",
              "    <path d=\"M0 0h24v24H0V0z\" fill=\"none\"/>\n",
              "    <path d=\"M18.56 5.44l.94 2.06.94-2.06 2.06-.94-2.06-.94-.94-2.06-.94 2.06-2.06.94zm-11 1L8.5 8.5l.94-2.06 2.06-.94-2.06-.94L8.5 2.5l-.94 2.06-2.06.94zm10 10l.94 2.06.94-2.06 2.06-.94-2.06-.94-.94-2.06-.94 2.06-2.06.94z\"/><path d=\"M17.41 7.96l-1.37-1.37c-.4-.4-.92-.59-1.43-.59-.52 0-1.04.2-1.43.59L10.3 9.45l-7.72 7.72c-.78.78-.78 2.05 0 2.83L4 21.41c.39.39.9.59 1.41.59.51 0 1.02-.2 1.41-.59l7.78-7.78 2.81-2.81c.8-.78.8-2.07 0-2.86zM5.41 20L4 18.59l7.72-7.72 1.47 1.35L5.41 20z\"/>\n",
              "  </svg>\n",
              "      </button>\n",
              "      \n",
              "  <style>\n",
              "    .colab-df-container {\n",
              "      display:flex;\n",
              "      flex-wrap:wrap;\n",
              "      gap: 12px;\n",
              "    }\n",
              "\n",
              "    .colab-df-convert {\n",
              "      background-color: #E8F0FE;\n",
              "      border: none;\n",
              "      border-radius: 50%;\n",
              "      cursor: pointer;\n",
              "      display: none;\n",
              "      fill: #1967D2;\n",
              "      height: 32px;\n",
              "      padding: 0 0 0 0;\n",
              "      width: 32px;\n",
              "    }\n",
              "\n",
              "    .colab-df-convert:hover {\n",
              "      background-color: #E2EBFA;\n",
              "      box-shadow: 0px 1px 2px rgba(60, 64, 67, 0.3), 0px 1px 3px 1px rgba(60, 64, 67, 0.15);\n",
              "      fill: #174EA6;\n",
              "    }\n",
              "\n",
              "    [theme=dark] .colab-df-convert {\n",
              "      background-color: #3B4455;\n",
              "      fill: #D2E3FC;\n",
              "    }\n",
              "\n",
              "    [theme=dark] .colab-df-convert:hover {\n",
              "      background-color: #434B5C;\n",
              "      box-shadow: 0px 1px 3px 1px rgba(0, 0, 0, 0.15);\n",
              "      filter: drop-shadow(0px 1px 2px rgba(0, 0, 0, 0.3));\n",
              "      fill: #FFFFFF;\n",
              "    }\n",
              "  </style>\n",
              "\n",
              "      <script>\n",
              "        const buttonEl =\n",
              "          document.querySelector('#df-b0dabffd-3293-4523-a798-f2e8ba22a6b3 button.colab-df-convert');\n",
              "        buttonEl.style.display =\n",
              "          google.colab.kernel.accessAllowed ? 'block' : 'none';\n",
              "\n",
              "        async function convertToInteractive(key) {\n",
              "          const element = document.querySelector('#df-b0dabffd-3293-4523-a798-f2e8ba22a6b3');\n",
              "          const dataTable =\n",
              "            await google.colab.kernel.invokeFunction('convertToInteractive',\n",
              "                                                     [key], {});\n",
              "          if (!dataTable) return;\n",
              "\n",
              "          const docLinkHtml = 'Like what you see? Visit the ' +\n",
              "            '<a target=\"_blank\" href=https://colab.research.google.com/notebooks/data_table.ipynb>data table notebook</a>'\n",
              "            + ' to learn more about interactive tables.';\n",
              "          element.innerHTML = '';\n",
              "          dataTable['output_type'] = 'display_data';\n",
              "          await google.colab.output.renderOutput(dataTable, element);\n",
              "          const docLink = document.createElement('div');\n",
              "          docLink.innerHTML = docLinkHtml;\n",
              "          element.appendChild(docLink);\n",
              "        }\n",
              "      </script>\n",
              "    </div>\n",
              "  </div>\n",
              "  "
            ]
          },
          "metadata": {},
          "execution_count": 60
        }
      ]
    },
    {
      "cell_type": "markdown",
      "source": [
        "또는 사전에 항목을 추가하듯이 진행할 수 있다.\n",
        "\n",
        "**주의사항** : `frame2`와의 충돌을 피하기 위해 복사해서 사용한다."
      ],
      "metadata": {
        "id": "zCb1GPbn1PEW"
      }
    },
    {
      "cell_type": "code",
      "source": [
        "frame2_ = frame2.copy()\n",
        "frame2_[\"debt\"] = np.linspace(0, 1, 9)\n",
        "\n",
        "frame2_"
      ],
      "metadata": {
        "colab": {
          "base_uri": "https://localhost:8080/",
          "height": 332
        },
        "id": "2DJHE1P_1ZoO",
        "outputId": "df09799b-0bd1-4a40-aa37-2f71cac51b07"
      },
      "execution_count": 61,
      "outputs": [
        {
          "output_type": "execute_result",
          "data": {
            "text/plain": [
              "   year   state  pop   debt\n",
              "0  2000    Ohio  1.5  0.000\n",
              "1  2001    Ohio  1.7  0.125\n",
              "2  2002    Ohio  3.6  0.250\n",
              "3  2001  Nevada  2.4  0.375\n",
              "4  2002  Nevada  2.9  0.500\n",
              "5  2003  Nevada  3.2  0.625\n",
              "6  2002      NY  8.3  0.750\n",
              "7  2003      NY  8.4  0.875\n",
              "8  2004      NY  8.5  1.000"
            ],
            "text/html": [
              "\n",
              "  <div id=\"df-0a9dbca3-dc42-4dea-9767-e57de37e8d9d\">\n",
              "    <div class=\"colab-df-container\">\n",
              "      <div>\n",
              "<style scoped>\n",
              "    .dataframe tbody tr th:only-of-type {\n",
              "        vertical-align: middle;\n",
              "    }\n",
              "\n",
              "    .dataframe tbody tr th {\n",
              "        vertical-align: top;\n",
              "    }\n",
              "\n",
              "    .dataframe thead th {\n",
              "        text-align: right;\n",
              "    }\n",
              "</style>\n",
              "<table border=\"1\" class=\"dataframe\">\n",
              "  <thead>\n",
              "    <tr style=\"text-align: right;\">\n",
              "      <th></th>\n",
              "      <th>year</th>\n",
              "      <th>state</th>\n",
              "      <th>pop</th>\n",
              "      <th>debt</th>\n",
              "    </tr>\n",
              "  </thead>\n",
              "  <tbody>\n",
              "    <tr>\n",
              "      <th>0</th>\n",
              "      <td>2000</td>\n",
              "      <td>Ohio</td>\n",
              "      <td>1.5</td>\n",
              "      <td>0.000</td>\n",
              "    </tr>\n",
              "    <tr>\n",
              "      <th>1</th>\n",
              "      <td>2001</td>\n",
              "      <td>Ohio</td>\n",
              "      <td>1.7</td>\n",
              "      <td>0.125</td>\n",
              "    </tr>\n",
              "    <tr>\n",
              "      <th>2</th>\n",
              "      <td>2002</td>\n",
              "      <td>Ohio</td>\n",
              "      <td>3.6</td>\n",
              "      <td>0.250</td>\n",
              "    </tr>\n",
              "    <tr>\n",
              "      <th>3</th>\n",
              "      <td>2001</td>\n",
              "      <td>Nevada</td>\n",
              "      <td>2.4</td>\n",
              "      <td>0.375</td>\n",
              "    </tr>\n",
              "    <tr>\n",
              "      <th>4</th>\n",
              "      <td>2002</td>\n",
              "      <td>Nevada</td>\n",
              "      <td>2.9</td>\n",
              "      <td>0.500</td>\n",
              "    </tr>\n",
              "    <tr>\n",
              "      <th>5</th>\n",
              "      <td>2003</td>\n",
              "      <td>Nevada</td>\n",
              "      <td>3.2</td>\n",
              "      <td>0.625</td>\n",
              "    </tr>\n",
              "    <tr>\n",
              "      <th>6</th>\n",
              "      <td>2002</td>\n",
              "      <td>NY</td>\n",
              "      <td>8.3</td>\n",
              "      <td>0.750</td>\n",
              "    </tr>\n",
              "    <tr>\n",
              "      <th>7</th>\n",
              "      <td>2003</td>\n",
              "      <td>NY</td>\n",
              "      <td>8.4</td>\n",
              "      <td>0.875</td>\n",
              "    </tr>\n",
              "    <tr>\n",
              "      <th>8</th>\n",
              "      <td>2004</td>\n",
              "      <td>NY</td>\n",
              "      <td>8.5</td>\n",
              "      <td>1.000</td>\n",
              "    </tr>\n",
              "  </tbody>\n",
              "</table>\n",
              "</div>\n",
              "      <button class=\"colab-df-convert\" onclick=\"convertToInteractive('df-0a9dbca3-dc42-4dea-9767-e57de37e8d9d')\"\n",
              "              title=\"Convert this dataframe to an interactive table.\"\n",
              "              style=\"display:none;\">\n",
              "        \n",
              "  <svg xmlns=\"http://www.w3.org/2000/svg\" height=\"24px\"viewBox=\"0 0 24 24\"\n",
              "       width=\"24px\">\n",
              "    <path d=\"M0 0h24v24H0V0z\" fill=\"none\"/>\n",
              "    <path d=\"M18.56 5.44l.94 2.06.94-2.06 2.06-.94-2.06-.94-.94-2.06-.94 2.06-2.06.94zm-11 1L8.5 8.5l.94-2.06 2.06-.94-2.06-.94L8.5 2.5l-.94 2.06-2.06.94zm10 10l.94 2.06.94-2.06 2.06-.94-2.06-.94-.94-2.06-.94 2.06-2.06.94z\"/><path d=\"M17.41 7.96l-1.37-1.37c-.4-.4-.92-.59-1.43-.59-.52 0-1.04.2-1.43.59L10.3 9.45l-7.72 7.72c-.78.78-.78 2.05 0 2.83L4 21.41c.39.39.9.59 1.41.59.51 0 1.02-.2 1.41-.59l7.78-7.78 2.81-2.81c.8-.78.8-2.07 0-2.86zM5.41 20L4 18.59l7.72-7.72 1.47 1.35L5.41 20z\"/>\n",
              "  </svg>\n",
              "      </button>\n",
              "      \n",
              "  <style>\n",
              "    .colab-df-container {\n",
              "      display:flex;\n",
              "      flex-wrap:wrap;\n",
              "      gap: 12px;\n",
              "    }\n",
              "\n",
              "    .colab-df-convert {\n",
              "      background-color: #E8F0FE;\n",
              "      border: none;\n",
              "      border-radius: 50%;\n",
              "      cursor: pointer;\n",
              "      display: none;\n",
              "      fill: #1967D2;\n",
              "      height: 32px;\n",
              "      padding: 0 0 0 0;\n",
              "      width: 32px;\n",
              "    }\n",
              "\n",
              "    .colab-df-convert:hover {\n",
              "      background-color: #E2EBFA;\n",
              "      box-shadow: 0px 1px 2px rgba(60, 64, 67, 0.3), 0px 1px 3px 1px rgba(60, 64, 67, 0.15);\n",
              "      fill: #174EA6;\n",
              "    }\n",
              "\n",
              "    [theme=dark] .colab-df-convert {\n",
              "      background-color: #3B4455;\n",
              "      fill: #D2E3FC;\n",
              "    }\n",
              "\n",
              "    [theme=dark] .colab-df-convert:hover {\n",
              "      background-color: #434B5C;\n",
              "      box-shadow: 0px 1px 3px 1px rgba(0, 0, 0, 0.15);\n",
              "      filter: drop-shadow(0px 1px 2px rgba(0, 0, 0, 0.3));\n",
              "      fill: #FFFFFF;\n",
              "    }\n",
              "  </style>\n",
              "\n",
              "      <script>\n",
              "        const buttonEl =\n",
              "          document.querySelector('#df-0a9dbca3-dc42-4dea-9767-e57de37e8d9d button.colab-df-convert');\n",
              "        buttonEl.style.display =\n",
              "          google.colab.kernel.accessAllowed ? 'block' : 'none';\n",
              "\n",
              "        async function convertToInteractive(key) {\n",
              "          const element = document.querySelector('#df-0a9dbca3-dc42-4dea-9767-e57de37e8d9d');\n",
              "          const dataTable =\n",
              "            await google.colab.kernel.invokeFunction('convertToInteractive',\n",
              "                                                     [key], {});\n",
              "          if (!dataTable) return;\n",
              "\n",
              "          const docLinkHtml = 'Like what you see? Visit the ' +\n",
              "            '<a target=\"_blank\" href=https://colab.research.google.com/notebooks/data_table.ipynb>data table notebook</a>'\n",
              "            + ' to learn more about interactive tables.';\n",
              "          element.innerHTML = '';\n",
              "          dataTable['output_type'] = 'display_data';\n",
              "          await google.colab.output.renderOutput(dataTable, element);\n",
              "          const docLink = document.createElement('div');\n",
              "          docLink.innerHTML = docLinkHtml;\n",
              "          element.appendChild(docLink);\n",
              "        }\n",
              "      </script>\n",
              "    </div>\n",
              "  </div>\n",
              "  "
            ]
          },
          "metadata": {},
          "execution_count": 61
        }
      ]
    },
    {
      "cell_type": "markdown",
      "source": [
        "`columns` 속성을 확인하면 다음과 같다."
      ],
      "metadata": {
        "id": "GGUmejg61kI0"
      }
    },
    {
      "cell_type": "code",
      "source": [
        "frame2_.columns"
      ],
      "metadata": {
        "colab": {
          "base_uri": "https://localhost:8080/"
        },
        "id": "ASz_DxJB1mYE",
        "outputId": "6f6fd724-d1db-43bf-ba71-1f5fbc38402b"
      },
      "execution_count": 62,
      "outputs": [
        {
          "output_type": "execute_result",
          "data": {
            "text/plain": [
              "Index(['year', 'state', 'pop', 'debt'], dtype='object')"
            ]
          },
          "metadata": {},
          "execution_count": 62
        }
      ]
    },
    {
      "cell_type": "markdown",
      "source": [
        "`index` 속성\n",
        "\n",
        "인덱스를 지정하려면 `index` 속성을 이용한다."
      ],
      "metadata": {
        "id": "5-hnyJ2q1o5P"
      }
    },
    {
      "cell_type": "code",
      "source": [
        "frame2 = pd.DataFrame(dict2, index=['one', 'two', 'three', 'four', 'five', 'six', 'seven', 'eight', 'nine'])\n",
        "\n",
        "frame2"
      ],
      "metadata": {
        "colab": {
          "base_uri": "https://localhost:8080/",
          "height": 332
        },
        "id": "9ZJ_97Wy1sRm",
        "outputId": "2c5ddb98-d5a3-40f0-bafb-6bdb8e125fdf"
      },
      "execution_count": 63,
      "outputs": [
        {
          "output_type": "execute_result",
          "data": {
            "text/plain": [
              "        state  year  pop\n",
              "one      Ohio  2000  1.5\n",
              "two      Ohio  2001  1.7\n",
              "three    Ohio  2002  3.6\n",
              "four   Nevada  2001  2.4\n",
              "five   Nevada  2002  2.9\n",
              "six    Nevada  2003  3.2\n",
              "seven      NY  2002  8.3\n",
              "eight      NY  2003  8.4\n",
              "nine       NY  2004  8.5"
            ],
            "text/html": [
              "\n",
              "  <div id=\"df-7c8fcbf7-d01d-4044-9481-8770bf39542b\">\n",
              "    <div class=\"colab-df-container\">\n",
              "      <div>\n",
              "<style scoped>\n",
              "    .dataframe tbody tr th:only-of-type {\n",
              "        vertical-align: middle;\n",
              "    }\n",
              "\n",
              "    .dataframe tbody tr th {\n",
              "        vertical-align: top;\n",
              "    }\n",
              "\n",
              "    .dataframe thead th {\n",
              "        text-align: right;\n",
              "    }\n",
              "</style>\n",
              "<table border=\"1\" class=\"dataframe\">\n",
              "  <thead>\n",
              "    <tr style=\"text-align: right;\">\n",
              "      <th></th>\n",
              "      <th>state</th>\n",
              "      <th>year</th>\n",
              "      <th>pop</th>\n",
              "    </tr>\n",
              "  </thead>\n",
              "  <tbody>\n",
              "    <tr>\n",
              "      <th>one</th>\n",
              "      <td>Ohio</td>\n",
              "      <td>2000</td>\n",
              "      <td>1.5</td>\n",
              "    </tr>\n",
              "    <tr>\n",
              "      <th>two</th>\n",
              "      <td>Ohio</td>\n",
              "      <td>2001</td>\n",
              "      <td>1.7</td>\n",
              "    </tr>\n",
              "    <tr>\n",
              "      <th>three</th>\n",
              "      <td>Ohio</td>\n",
              "      <td>2002</td>\n",
              "      <td>3.6</td>\n",
              "    </tr>\n",
              "    <tr>\n",
              "      <th>four</th>\n",
              "      <td>Nevada</td>\n",
              "      <td>2001</td>\n",
              "      <td>2.4</td>\n",
              "    </tr>\n",
              "    <tr>\n",
              "      <th>five</th>\n",
              "      <td>Nevada</td>\n",
              "      <td>2002</td>\n",
              "      <td>2.9</td>\n",
              "    </tr>\n",
              "    <tr>\n",
              "      <th>six</th>\n",
              "      <td>Nevada</td>\n",
              "      <td>2003</td>\n",
              "      <td>3.2</td>\n",
              "    </tr>\n",
              "    <tr>\n",
              "      <th>seven</th>\n",
              "      <td>NY</td>\n",
              "      <td>2002</td>\n",
              "      <td>8.3</td>\n",
              "    </tr>\n",
              "    <tr>\n",
              "      <th>eight</th>\n",
              "      <td>NY</td>\n",
              "      <td>2003</td>\n",
              "      <td>8.4</td>\n",
              "    </tr>\n",
              "    <tr>\n",
              "      <th>nine</th>\n",
              "      <td>NY</td>\n",
              "      <td>2004</td>\n",
              "      <td>8.5</td>\n",
              "    </tr>\n",
              "  </tbody>\n",
              "</table>\n",
              "</div>\n",
              "      <button class=\"colab-df-convert\" onclick=\"convertToInteractive('df-7c8fcbf7-d01d-4044-9481-8770bf39542b')\"\n",
              "              title=\"Convert this dataframe to an interactive table.\"\n",
              "              style=\"display:none;\">\n",
              "        \n",
              "  <svg xmlns=\"http://www.w3.org/2000/svg\" height=\"24px\"viewBox=\"0 0 24 24\"\n",
              "       width=\"24px\">\n",
              "    <path d=\"M0 0h24v24H0V0z\" fill=\"none\"/>\n",
              "    <path d=\"M18.56 5.44l.94 2.06.94-2.06 2.06-.94-2.06-.94-.94-2.06-.94 2.06-2.06.94zm-11 1L8.5 8.5l.94-2.06 2.06-.94-2.06-.94L8.5 2.5l-.94 2.06-2.06.94zm10 10l.94 2.06.94-2.06 2.06-.94-2.06-.94-.94-2.06-.94 2.06-2.06.94z\"/><path d=\"M17.41 7.96l-1.37-1.37c-.4-.4-.92-.59-1.43-.59-.52 0-1.04.2-1.43.59L10.3 9.45l-7.72 7.72c-.78.78-.78 2.05 0 2.83L4 21.41c.39.39.9.59 1.41.59.51 0 1.02-.2 1.41-.59l7.78-7.78 2.81-2.81c.8-.78.8-2.07 0-2.86zM5.41 20L4 18.59l7.72-7.72 1.47 1.35L5.41 20z\"/>\n",
              "  </svg>\n",
              "      </button>\n",
              "      \n",
              "  <style>\n",
              "    .colab-df-container {\n",
              "      display:flex;\n",
              "      flex-wrap:wrap;\n",
              "      gap: 12px;\n",
              "    }\n",
              "\n",
              "    .colab-df-convert {\n",
              "      background-color: #E8F0FE;\n",
              "      border: none;\n",
              "      border-radius: 50%;\n",
              "      cursor: pointer;\n",
              "      display: none;\n",
              "      fill: #1967D2;\n",
              "      height: 32px;\n",
              "      padding: 0 0 0 0;\n",
              "      width: 32px;\n",
              "    }\n",
              "\n",
              "    .colab-df-convert:hover {\n",
              "      background-color: #E2EBFA;\n",
              "      box-shadow: 0px 1px 2px rgba(60, 64, 67, 0.3), 0px 1px 3px 1px rgba(60, 64, 67, 0.15);\n",
              "      fill: #174EA6;\n",
              "    }\n",
              "\n",
              "    [theme=dark] .colab-df-convert {\n",
              "      background-color: #3B4455;\n",
              "      fill: #D2E3FC;\n",
              "    }\n",
              "\n",
              "    [theme=dark] .colab-df-convert:hover {\n",
              "      background-color: #434B5C;\n",
              "      box-shadow: 0px 1px 3px 1px rgba(0, 0, 0, 0.15);\n",
              "      filter: drop-shadow(0px 1px 2px rgba(0, 0, 0, 0.3));\n",
              "      fill: #FFFFFF;\n",
              "    }\n",
              "  </style>\n",
              "\n",
              "      <script>\n",
              "        const buttonEl =\n",
              "          document.querySelector('#df-7c8fcbf7-d01d-4044-9481-8770bf39542b button.colab-df-convert');\n",
              "        buttonEl.style.display =\n",
              "          google.colab.kernel.accessAllowed ? 'block' : 'none';\n",
              "\n",
              "        async function convertToInteractive(key) {\n",
              "          const element = document.querySelector('#df-7c8fcbf7-d01d-4044-9481-8770bf39542b');\n",
              "          const dataTable =\n",
              "            await google.colab.kernel.invokeFunction('convertToInteractive',\n",
              "                                                     [key], {});\n",
              "          if (!dataTable) return;\n",
              "\n",
              "          const docLinkHtml = 'Like what you see? Visit the ' +\n",
              "            '<a target=\"_blank\" href=https://colab.research.google.com/notebooks/data_table.ipynb>data table notebook</a>'\n",
              "            + ' to learn more about interactive tables.';\n",
              "          element.innerHTML = '';\n",
              "          dataTable['output_type'] = 'display_data';\n",
              "          await google.colab.output.renderOutput(dataTable, element);\n",
              "          const docLink = document.createElement('div');\n",
              "          docLink.innerHTML = docLinkHtml;\n",
              "          element.appendChild(docLink);\n",
              "        }\n",
              "      </script>\n",
              "    </div>\n",
              "  </div>\n",
              "  "
            ]
          },
          "metadata": {},
          "execution_count": 63
        }
      ]
    },
    {
      "cell_type": "markdown",
      "source": [
        "물론 `columns`, `index` 등 여러 속성을 동시에 지정할 수도 있다."
      ],
      "metadata": {
        "id": "bP2cCRmL15q_"
      }
    },
    {
      "cell_type": "code",
      "source": [
        "frame2 = pd.DataFrame(dict2, columns=['year', 'state', 'pop', 'debt'],\n",
        "                      index=['one', 'two', 'three', 'four', 'five', 'six', 'seven', 'eight', 'nine'])\n",
        "\n",
        "frame2"
      ],
      "metadata": {
        "colab": {
          "base_uri": "https://localhost:8080/",
          "height": 332
        },
        "id": "FuXruakQ18-I",
        "outputId": "7befcd6a-a7f7-4ec9-dfc5-a05ad76cd0bb"
      },
      "execution_count": 64,
      "outputs": [
        {
          "output_type": "execute_result",
          "data": {
            "text/plain": [
              "       year   state  pop debt\n",
              "one    2000    Ohio  1.5  NaN\n",
              "two    2001    Ohio  1.7  NaN\n",
              "three  2002    Ohio  3.6  NaN\n",
              "four   2001  Nevada  2.4  NaN\n",
              "five   2002  Nevada  2.9  NaN\n",
              "six    2003  Nevada  3.2  NaN\n",
              "seven  2002      NY  8.3  NaN\n",
              "eight  2003      NY  8.4  NaN\n",
              "nine   2004      NY  8.5  NaN"
            ],
            "text/html": [
              "\n",
              "  <div id=\"df-caafa334-dbf3-4b6c-8de6-62e97ecb7f2f\">\n",
              "    <div class=\"colab-df-container\">\n",
              "      <div>\n",
              "<style scoped>\n",
              "    .dataframe tbody tr th:only-of-type {\n",
              "        vertical-align: middle;\n",
              "    }\n",
              "\n",
              "    .dataframe tbody tr th {\n",
              "        vertical-align: top;\n",
              "    }\n",
              "\n",
              "    .dataframe thead th {\n",
              "        text-align: right;\n",
              "    }\n",
              "</style>\n",
              "<table border=\"1\" class=\"dataframe\">\n",
              "  <thead>\n",
              "    <tr style=\"text-align: right;\">\n",
              "      <th></th>\n",
              "      <th>year</th>\n",
              "      <th>state</th>\n",
              "      <th>pop</th>\n",
              "      <th>debt</th>\n",
              "    </tr>\n",
              "  </thead>\n",
              "  <tbody>\n",
              "    <tr>\n",
              "      <th>one</th>\n",
              "      <td>2000</td>\n",
              "      <td>Ohio</td>\n",
              "      <td>1.5</td>\n",
              "      <td>NaN</td>\n",
              "    </tr>\n",
              "    <tr>\n",
              "      <th>two</th>\n",
              "      <td>2001</td>\n",
              "      <td>Ohio</td>\n",
              "      <td>1.7</td>\n",
              "      <td>NaN</td>\n",
              "    </tr>\n",
              "    <tr>\n",
              "      <th>three</th>\n",
              "      <td>2002</td>\n",
              "      <td>Ohio</td>\n",
              "      <td>3.6</td>\n",
              "      <td>NaN</td>\n",
              "    </tr>\n",
              "    <tr>\n",
              "      <th>four</th>\n",
              "      <td>2001</td>\n",
              "      <td>Nevada</td>\n",
              "      <td>2.4</td>\n",
              "      <td>NaN</td>\n",
              "    </tr>\n",
              "    <tr>\n",
              "      <th>five</th>\n",
              "      <td>2002</td>\n",
              "      <td>Nevada</td>\n",
              "      <td>2.9</td>\n",
              "      <td>NaN</td>\n",
              "    </tr>\n",
              "    <tr>\n",
              "      <th>six</th>\n",
              "      <td>2003</td>\n",
              "      <td>Nevada</td>\n",
              "      <td>3.2</td>\n",
              "      <td>NaN</td>\n",
              "    </tr>\n",
              "    <tr>\n",
              "      <th>seven</th>\n",
              "      <td>2002</td>\n",
              "      <td>NY</td>\n",
              "      <td>8.3</td>\n",
              "      <td>NaN</td>\n",
              "    </tr>\n",
              "    <tr>\n",
              "      <th>eight</th>\n",
              "      <td>2003</td>\n",
              "      <td>NY</td>\n",
              "      <td>8.4</td>\n",
              "      <td>NaN</td>\n",
              "    </tr>\n",
              "    <tr>\n",
              "      <th>nine</th>\n",
              "      <td>2004</td>\n",
              "      <td>NY</td>\n",
              "      <td>8.5</td>\n",
              "      <td>NaN</td>\n",
              "    </tr>\n",
              "  </tbody>\n",
              "</table>\n",
              "</div>\n",
              "      <button class=\"colab-df-convert\" onclick=\"convertToInteractive('df-caafa334-dbf3-4b6c-8de6-62e97ecb7f2f')\"\n",
              "              title=\"Convert this dataframe to an interactive table.\"\n",
              "              style=\"display:none;\">\n",
              "        \n",
              "  <svg xmlns=\"http://www.w3.org/2000/svg\" height=\"24px\"viewBox=\"0 0 24 24\"\n",
              "       width=\"24px\">\n",
              "    <path d=\"M0 0h24v24H0V0z\" fill=\"none\"/>\n",
              "    <path d=\"M18.56 5.44l.94 2.06.94-2.06 2.06-.94-2.06-.94-.94-2.06-.94 2.06-2.06.94zm-11 1L8.5 8.5l.94-2.06 2.06-.94-2.06-.94L8.5 2.5l-.94 2.06-2.06.94zm10 10l.94 2.06.94-2.06 2.06-.94-2.06-.94-.94-2.06-.94 2.06-2.06.94z\"/><path d=\"M17.41 7.96l-1.37-1.37c-.4-.4-.92-.59-1.43-.59-.52 0-1.04.2-1.43.59L10.3 9.45l-7.72 7.72c-.78.78-.78 2.05 0 2.83L4 21.41c.39.39.9.59 1.41.59.51 0 1.02-.2 1.41-.59l7.78-7.78 2.81-2.81c.8-.78.8-2.07 0-2.86zM5.41 20L4 18.59l7.72-7.72 1.47 1.35L5.41 20z\"/>\n",
              "  </svg>\n",
              "      </button>\n",
              "      \n",
              "  <style>\n",
              "    .colab-df-container {\n",
              "      display:flex;\n",
              "      flex-wrap:wrap;\n",
              "      gap: 12px;\n",
              "    }\n",
              "\n",
              "    .colab-df-convert {\n",
              "      background-color: #E8F0FE;\n",
              "      border: none;\n",
              "      border-radius: 50%;\n",
              "      cursor: pointer;\n",
              "      display: none;\n",
              "      fill: #1967D2;\n",
              "      height: 32px;\n",
              "      padding: 0 0 0 0;\n",
              "      width: 32px;\n",
              "    }\n",
              "\n",
              "    .colab-df-convert:hover {\n",
              "      background-color: #E2EBFA;\n",
              "      box-shadow: 0px 1px 2px rgba(60, 64, 67, 0.3), 0px 1px 3px 1px rgba(60, 64, 67, 0.15);\n",
              "      fill: #174EA6;\n",
              "    }\n",
              "\n",
              "    [theme=dark] .colab-df-convert {\n",
              "      background-color: #3B4455;\n",
              "      fill: #D2E3FC;\n",
              "    }\n",
              "\n",
              "    [theme=dark] .colab-df-convert:hover {\n",
              "      background-color: #434B5C;\n",
              "      box-shadow: 0px 1px 3px 1px rgba(0, 0, 0, 0.15);\n",
              "      filter: drop-shadow(0px 1px 2px rgba(0, 0, 0, 0.3));\n",
              "      fill: #FFFFFF;\n",
              "    }\n",
              "  </style>\n",
              "\n",
              "      <script>\n",
              "        const buttonEl =\n",
              "          document.querySelector('#df-caafa334-dbf3-4b6c-8de6-62e97ecb7f2f button.colab-df-convert');\n",
              "        buttonEl.style.display =\n",
              "          google.colab.kernel.accessAllowed ? 'block' : 'none';\n",
              "\n",
              "        async function convertToInteractive(key) {\n",
              "          const element = document.querySelector('#df-caafa334-dbf3-4b6c-8de6-62e97ecb7f2f');\n",
              "          const dataTable =\n",
              "            await google.colab.kernel.invokeFunction('convertToInteractive',\n",
              "                                                     [key], {});\n",
              "          if (!dataTable) return;\n",
              "\n",
              "          const docLinkHtml = 'Like what you see? Visit the ' +\n",
              "            '<a target=\"_blank\" href=https://colab.research.google.com/notebooks/data_table.ipynb>data table notebook</a>'\n",
              "            + ' to learn more about interactive tables.';\n",
              "          element.innerHTML = '';\n",
              "          dataTable['output_type'] = 'display_data';\n",
              "          await google.colab.output.renderOutput(dataTable, element);\n",
              "          const docLink = document.createElement('div');\n",
              "          docLink.innerHTML = docLinkHtml;\n",
              "          element.appendChild(docLink);\n",
              "        }\n",
              "      </script>\n",
              "    </div>\n",
              "  </div>\n",
              "  "
            ]
          },
          "metadata": {},
          "execution_count": 64
        }
      ]
    },
    {
      "cell_type": "markdown",
      "source": [
        "**중복 인덱스**\n",
        "\n",
        "인덱스를 중복해서 사용할 수도 있다."
      ],
      "metadata": {
        "id": "uD2ouYez2N-c"
      }
    },
    {
      "cell_type": "code",
      "source": [
        "dup_labels = pd.Index(['one', 'two', 'two', 'three', 'three', 'three'])\n",
        "\n",
        "dup_labels"
      ],
      "metadata": {
        "colab": {
          "base_uri": "https://localhost:8080/"
        },
        "id": "AHIWH_812Rry",
        "outputId": "df7dba11-9752-493c-fd2c-b95416e99e1d"
      },
      "execution_count": 67,
      "outputs": [
        {
          "output_type": "execute_result",
          "data": {
            "text/plain": [
              "Index(['one', 'two', 'two', 'three', 'three', 'three'], dtype='object')"
            ]
          },
          "metadata": {},
          "execution_count": 67
        }
      ]
    },
    {
      "cell_type": "code",
      "source": [
        "frame2"
      ],
      "metadata": {
        "colab": {
          "base_uri": "https://localhost:8080/",
          "height": 332
        },
        "id": "TFPQA2HZ2ha0",
        "outputId": "966a07a8-8771-49a3-e624-d57685f270c1"
      },
      "execution_count": 69,
      "outputs": [
        {
          "output_type": "execute_result",
          "data": {
            "text/plain": [
              "       year   state  pop debt\n",
              "one    2000    Ohio  1.5  NaN\n",
              "two    2001    Ohio  1.7  NaN\n",
              "three  2002    Ohio  3.6  NaN\n",
              "four   2001  Nevada  2.4  NaN\n",
              "five   2002  Nevada  2.9  NaN\n",
              "six    2003  Nevada  3.2  NaN\n",
              "seven  2002      NY  8.3  NaN\n",
              "eight  2003      NY  8.4  NaN\n",
              "nine   2004      NY  8.5  NaN"
            ],
            "text/html": [
              "\n",
              "  <div id=\"df-4124d39f-8177-4897-8c63-5c1dfc4c537e\">\n",
              "    <div class=\"colab-df-container\">\n",
              "      <div>\n",
              "<style scoped>\n",
              "    .dataframe tbody tr th:only-of-type {\n",
              "        vertical-align: middle;\n",
              "    }\n",
              "\n",
              "    .dataframe tbody tr th {\n",
              "        vertical-align: top;\n",
              "    }\n",
              "\n",
              "    .dataframe thead th {\n",
              "        text-align: right;\n",
              "    }\n",
              "</style>\n",
              "<table border=\"1\" class=\"dataframe\">\n",
              "  <thead>\n",
              "    <tr style=\"text-align: right;\">\n",
              "      <th></th>\n",
              "      <th>year</th>\n",
              "      <th>state</th>\n",
              "      <th>pop</th>\n",
              "      <th>debt</th>\n",
              "    </tr>\n",
              "  </thead>\n",
              "  <tbody>\n",
              "    <tr>\n",
              "      <th>one</th>\n",
              "      <td>2000</td>\n",
              "      <td>Ohio</td>\n",
              "      <td>1.5</td>\n",
              "      <td>NaN</td>\n",
              "    </tr>\n",
              "    <tr>\n",
              "      <th>two</th>\n",
              "      <td>2001</td>\n",
              "      <td>Ohio</td>\n",
              "      <td>1.7</td>\n",
              "      <td>NaN</td>\n",
              "    </tr>\n",
              "    <tr>\n",
              "      <th>three</th>\n",
              "      <td>2002</td>\n",
              "      <td>Ohio</td>\n",
              "      <td>3.6</td>\n",
              "      <td>NaN</td>\n",
              "    </tr>\n",
              "    <tr>\n",
              "      <th>four</th>\n",
              "      <td>2001</td>\n",
              "      <td>Nevada</td>\n",
              "      <td>2.4</td>\n",
              "      <td>NaN</td>\n",
              "    </tr>\n",
              "    <tr>\n",
              "      <th>five</th>\n",
              "      <td>2002</td>\n",
              "      <td>Nevada</td>\n",
              "      <td>2.9</td>\n",
              "      <td>NaN</td>\n",
              "    </tr>\n",
              "    <tr>\n",
              "      <th>six</th>\n",
              "      <td>2003</td>\n",
              "      <td>Nevada</td>\n",
              "      <td>3.2</td>\n",
              "      <td>NaN</td>\n",
              "    </tr>\n",
              "    <tr>\n",
              "      <th>seven</th>\n",
              "      <td>2002</td>\n",
              "      <td>NY</td>\n",
              "      <td>8.3</td>\n",
              "      <td>NaN</td>\n",
              "    </tr>\n",
              "    <tr>\n",
              "      <th>eight</th>\n",
              "      <td>2003</td>\n",
              "      <td>NY</td>\n",
              "      <td>8.4</td>\n",
              "      <td>NaN</td>\n",
              "    </tr>\n",
              "    <tr>\n",
              "      <th>nine</th>\n",
              "      <td>2004</td>\n",
              "      <td>NY</td>\n",
              "      <td>8.5</td>\n",
              "      <td>NaN</td>\n",
              "    </tr>\n",
              "  </tbody>\n",
              "</table>\n",
              "</div>\n",
              "      <button class=\"colab-df-convert\" onclick=\"convertToInteractive('df-4124d39f-8177-4897-8c63-5c1dfc4c537e')\"\n",
              "              title=\"Convert this dataframe to an interactive table.\"\n",
              "              style=\"display:none;\">\n",
              "        \n",
              "  <svg xmlns=\"http://www.w3.org/2000/svg\" height=\"24px\"viewBox=\"0 0 24 24\"\n",
              "       width=\"24px\">\n",
              "    <path d=\"M0 0h24v24H0V0z\" fill=\"none\"/>\n",
              "    <path d=\"M18.56 5.44l.94 2.06.94-2.06 2.06-.94-2.06-.94-.94-2.06-.94 2.06-2.06.94zm-11 1L8.5 8.5l.94-2.06 2.06-.94-2.06-.94L8.5 2.5l-.94 2.06-2.06.94zm10 10l.94 2.06.94-2.06 2.06-.94-2.06-.94-.94-2.06-.94 2.06-2.06.94z\"/><path d=\"M17.41 7.96l-1.37-1.37c-.4-.4-.92-.59-1.43-.59-.52 0-1.04.2-1.43.59L10.3 9.45l-7.72 7.72c-.78.78-.78 2.05 0 2.83L4 21.41c.39.39.9.59 1.41.59.51 0 1.02-.2 1.41-.59l7.78-7.78 2.81-2.81c.8-.78.8-2.07 0-2.86zM5.41 20L4 18.59l7.72-7.72 1.47 1.35L5.41 20z\"/>\n",
              "  </svg>\n",
              "      </button>\n",
              "      \n",
              "  <style>\n",
              "    .colab-df-container {\n",
              "      display:flex;\n",
              "      flex-wrap:wrap;\n",
              "      gap: 12px;\n",
              "    }\n",
              "\n",
              "    .colab-df-convert {\n",
              "      background-color: #E8F0FE;\n",
              "      border: none;\n",
              "      border-radius: 50%;\n",
              "      cursor: pointer;\n",
              "      display: none;\n",
              "      fill: #1967D2;\n",
              "      height: 32px;\n",
              "      padding: 0 0 0 0;\n",
              "      width: 32px;\n",
              "    }\n",
              "\n",
              "    .colab-df-convert:hover {\n",
              "      background-color: #E2EBFA;\n",
              "      box-shadow: 0px 1px 2px rgba(60, 64, 67, 0.3), 0px 1px 3px 1px rgba(60, 64, 67, 0.15);\n",
              "      fill: #174EA6;\n",
              "    }\n",
              "\n",
              "    [theme=dark] .colab-df-convert {\n",
              "      background-color: #3B4455;\n",
              "      fill: #D2E3FC;\n",
              "    }\n",
              "\n",
              "    [theme=dark] .colab-df-convert:hover {\n",
              "      background-color: #434B5C;\n",
              "      box-shadow: 0px 1px 3px 1px rgba(0, 0, 0, 0.15);\n",
              "      filter: drop-shadow(0px 1px 2px rgba(0, 0, 0, 0.3));\n",
              "      fill: #FFFFFF;\n",
              "    }\n",
              "  </style>\n",
              "\n",
              "      <script>\n",
              "        const buttonEl =\n",
              "          document.querySelector('#df-4124d39f-8177-4897-8c63-5c1dfc4c537e button.colab-df-convert');\n",
              "        buttonEl.style.display =\n",
              "          google.colab.kernel.accessAllowed ? 'block' : 'none';\n",
              "\n",
              "        async function convertToInteractive(key) {\n",
              "          const element = document.querySelector('#df-4124d39f-8177-4897-8c63-5c1dfc4c537e');\n",
              "          const dataTable =\n",
              "            await google.colab.kernel.invokeFunction('convertToInteractive',\n",
              "                                                     [key], {});\n",
              "          if (!dataTable) return;\n",
              "\n",
              "          const docLinkHtml = 'Like what you see? Visit the ' +\n",
              "            '<a target=\"_blank\" href=https://colab.research.google.com/notebooks/data_table.ipynb>data table notebook</a>'\n",
              "            + ' to learn more about interactive tables.';\n",
              "          element.innerHTML = '';\n",
              "          dataTable['output_type'] = 'display_data';\n",
              "          await google.colab.output.renderOutput(dataTable, element);\n",
              "          const docLink = document.createElement('div');\n",
              "          docLink.innerHTML = docLinkHtml;\n",
              "          element.appendChild(docLink);\n",
              "        }\n",
              "      </script>\n",
              "    </div>\n",
              "  </div>\n",
              "  "
            ]
          },
          "metadata": {},
          "execution_count": 69
        }
      ]
    },
    {
      "cell_type": "code",
      "source": [
        "pd.DataFrame(frame2, index=dup_labels)"
      ],
      "metadata": {
        "colab": {
          "base_uri": "https://localhost:8080/",
          "height": 238
        },
        "id": "ENy_7Ly72j4Q",
        "outputId": "b6b80151-5a34-42f5-be7d-857c755b9b0d"
      },
      "execution_count": 70,
      "outputs": [
        {
          "output_type": "execute_result",
          "data": {
            "text/plain": [
              "       year state  pop debt\n",
              "one    2000  Ohio  1.5  NaN\n",
              "two    2001  Ohio  1.7  NaN\n",
              "two    2001  Ohio  1.7  NaN\n",
              "three  2002  Ohio  3.6  NaN\n",
              "three  2002  Ohio  3.6  NaN\n",
              "three  2002  Ohio  3.6  NaN"
            ],
            "text/html": [
              "\n",
              "  <div id=\"df-799dbe7e-2e16-4193-a5d0-8f3ac69bc4c3\">\n",
              "    <div class=\"colab-df-container\">\n",
              "      <div>\n",
              "<style scoped>\n",
              "    .dataframe tbody tr th:only-of-type {\n",
              "        vertical-align: middle;\n",
              "    }\n",
              "\n",
              "    .dataframe tbody tr th {\n",
              "        vertical-align: top;\n",
              "    }\n",
              "\n",
              "    .dataframe thead th {\n",
              "        text-align: right;\n",
              "    }\n",
              "</style>\n",
              "<table border=\"1\" class=\"dataframe\">\n",
              "  <thead>\n",
              "    <tr style=\"text-align: right;\">\n",
              "      <th></th>\n",
              "      <th>year</th>\n",
              "      <th>state</th>\n",
              "      <th>pop</th>\n",
              "      <th>debt</th>\n",
              "    </tr>\n",
              "  </thead>\n",
              "  <tbody>\n",
              "    <tr>\n",
              "      <th>one</th>\n",
              "      <td>2000</td>\n",
              "      <td>Ohio</td>\n",
              "      <td>1.5</td>\n",
              "      <td>NaN</td>\n",
              "    </tr>\n",
              "    <tr>\n",
              "      <th>two</th>\n",
              "      <td>2001</td>\n",
              "      <td>Ohio</td>\n",
              "      <td>1.7</td>\n",
              "      <td>NaN</td>\n",
              "    </tr>\n",
              "    <tr>\n",
              "      <th>two</th>\n",
              "      <td>2001</td>\n",
              "      <td>Ohio</td>\n",
              "      <td>1.7</td>\n",
              "      <td>NaN</td>\n",
              "    </tr>\n",
              "    <tr>\n",
              "      <th>three</th>\n",
              "      <td>2002</td>\n",
              "      <td>Ohio</td>\n",
              "      <td>3.6</td>\n",
              "      <td>NaN</td>\n",
              "    </tr>\n",
              "    <tr>\n",
              "      <th>three</th>\n",
              "      <td>2002</td>\n",
              "      <td>Ohio</td>\n",
              "      <td>3.6</td>\n",
              "      <td>NaN</td>\n",
              "    </tr>\n",
              "    <tr>\n",
              "      <th>three</th>\n",
              "      <td>2002</td>\n",
              "      <td>Ohio</td>\n",
              "      <td>3.6</td>\n",
              "      <td>NaN</td>\n",
              "    </tr>\n",
              "  </tbody>\n",
              "</table>\n",
              "</div>\n",
              "      <button class=\"colab-df-convert\" onclick=\"convertToInteractive('df-799dbe7e-2e16-4193-a5d0-8f3ac69bc4c3')\"\n",
              "              title=\"Convert this dataframe to an interactive table.\"\n",
              "              style=\"display:none;\">\n",
              "        \n",
              "  <svg xmlns=\"http://www.w3.org/2000/svg\" height=\"24px\"viewBox=\"0 0 24 24\"\n",
              "       width=\"24px\">\n",
              "    <path d=\"M0 0h24v24H0V0z\" fill=\"none\"/>\n",
              "    <path d=\"M18.56 5.44l.94 2.06.94-2.06 2.06-.94-2.06-.94-.94-2.06-.94 2.06-2.06.94zm-11 1L8.5 8.5l.94-2.06 2.06-.94-2.06-.94L8.5 2.5l-.94 2.06-2.06.94zm10 10l.94 2.06.94-2.06 2.06-.94-2.06-.94-.94-2.06-.94 2.06-2.06.94z\"/><path d=\"M17.41 7.96l-1.37-1.37c-.4-.4-.92-.59-1.43-.59-.52 0-1.04.2-1.43.59L10.3 9.45l-7.72 7.72c-.78.78-.78 2.05 0 2.83L4 21.41c.39.39.9.59 1.41.59.51 0 1.02-.2 1.41-.59l7.78-7.78 2.81-2.81c.8-.78.8-2.07 0-2.86zM5.41 20L4 18.59l7.72-7.72 1.47 1.35L5.41 20z\"/>\n",
              "  </svg>\n",
              "      </button>\n",
              "      \n",
              "  <style>\n",
              "    .colab-df-container {\n",
              "      display:flex;\n",
              "      flex-wrap:wrap;\n",
              "      gap: 12px;\n",
              "    }\n",
              "\n",
              "    .colab-df-convert {\n",
              "      background-color: #E8F0FE;\n",
              "      border: none;\n",
              "      border-radius: 50%;\n",
              "      cursor: pointer;\n",
              "      display: none;\n",
              "      fill: #1967D2;\n",
              "      height: 32px;\n",
              "      padding: 0 0 0 0;\n",
              "      width: 32px;\n",
              "    }\n",
              "\n",
              "    .colab-df-convert:hover {\n",
              "      background-color: #E2EBFA;\n",
              "      box-shadow: 0px 1px 2px rgba(60, 64, 67, 0.3), 0px 1px 3px 1px rgba(60, 64, 67, 0.15);\n",
              "      fill: #174EA6;\n",
              "    }\n",
              "\n",
              "    [theme=dark] .colab-df-convert {\n",
              "      background-color: #3B4455;\n",
              "      fill: #D2E3FC;\n",
              "    }\n",
              "\n",
              "    [theme=dark] .colab-df-convert:hover {\n",
              "      background-color: #434B5C;\n",
              "      box-shadow: 0px 1px 3px 1px rgba(0, 0, 0, 0.15);\n",
              "      filter: drop-shadow(0px 1px 2px rgba(0, 0, 0, 0.3));\n",
              "      fill: #FFFFFF;\n",
              "    }\n",
              "  </style>\n",
              "\n",
              "      <script>\n",
              "        const buttonEl =\n",
              "          document.querySelector('#df-799dbe7e-2e16-4193-a5d0-8f3ac69bc4c3 button.colab-df-convert');\n",
              "        buttonEl.style.display =\n",
              "          google.colab.kernel.accessAllowed ? 'block' : 'none';\n",
              "\n",
              "        async function convertToInteractive(key) {\n",
              "          const element = document.querySelector('#df-799dbe7e-2e16-4193-a5d0-8f3ac69bc4c3');\n",
              "          const dataTable =\n",
              "            await google.colab.kernel.invokeFunction('convertToInteractive',\n",
              "                                                     [key], {});\n",
              "          if (!dataTable) return;\n",
              "\n",
              "          const docLinkHtml = 'Like what you see? Visit the ' +\n",
              "            '<a target=\"_blank\" href=https://colab.research.google.com/notebooks/data_table.ipynb>data table notebook</a>'\n",
              "            + ' to learn more about interactive tables.';\n",
              "          element.innerHTML = '';\n",
              "          dataTable['output_type'] = 'display_data';\n",
              "          await google.colab.output.renderOutput(dataTable, element);\n",
              "          const docLink = document.createElement('div');\n",
              "          docLink.innerHTML = docLinkHtml;\n",
              "          element.appendChild(docLink);\n",
              "        }\n",
              "      </script>\n",
              "    </div>\n",
              "  </div>\n",
              "  "
            ]
          },
          "metadata": {},
          "execution_count": 70
        }
      ]
    },
    {
      "cell_type": "markdown",
      "source": [
        "`Index` 객체\n",
        "\n",
        "시리즈의 데이터프레임의 `index`와 `columns` 속성에 저장된 값은 `Index` 객체다."
      ],
      "metadata": {
        "id": "xIUOuOGw2oBV"
      }
    },
    {
      "cell_type": "code",
      "source": [
        "obj = pd.DataFrame(range(3), index=['a', 'b', 'c'])\n",
        "index = obj.index\n",
        "index"
      ],
      "metadata": {
        "colab": {
          "base_uri": "https://localhost:8080/"
        },
        "id": "knrnARBo2uaf",
        "outputId": "bf5ec17b-a26b-4e4b-a5cc-2b94b5ed23b6"
      },
      "execution_count": 71,
      "outputs": [
        {
          "output_type": "execute_result",
          "data": {
            "text/plain": [
              "Index(['a', 'b', 'c'], dtype='object')"
            ]
          },
          "metadata": {},
          "execution_count": 71
        }
      ]
    },
    {
      "cell_type": "code",
      "source": [
        "frame3.columns"
      ],
      "metadata": {
        "colab": {
          "base_uri": "https://localhost:8080/"
        },
        "id": "I6ovBNFQ20fx",
        "outputId": "1c32a194-940a-4009-e527-561cf6d98afd"
      },
      "execution_count": 72,
      "outputs": [
        {
          "output_type": "execute_result",
          "data": {
            "text/plain": [
              "Index(['Nevada', 'Ohio'], dtype='object', name='state')"
            ]
          },
          "metadata": {},
          "execution_count": 72
        }
      ]
    },
    {
      "cell_type": "markdown",
      "source": [
        "인덱스 객체는 1차원 어레이와 유사하게 동작한다. 예를 들어, 인덱싱과 슬라이싱은 리스트 또는 1차원 어레이의 경우와 동일하게 작동한다."
      ],
      "metadata": {
        "id": "RQv7HdfP22Wp"
      }
    },
    {
      "cell_type": "code",
      "source": [
        "index[1]"
      ],
      "metadata": {
        "colab": {
          "base_uri": "https://localhost:8080/",
          "height": 35
        },
        "id": "qwsbOLSj2780",
        "outputId": "70125b00-51cb-4606-9f30-6990cd707b86"
      },
      "execution_count": 73,
      "outputs": [
        {
          "output_type": "execute_result",
          "data": {
            "text/plain": [
              "'b'"
            ],
            "application/vnd.google.colaboratory.intrinsic+json": {
              "type": "string"
            }
          },
          "metadata": {},
          "execution_count": 73
        }
      ]
    },
    {
      "cell_type": "code",
      "source": [
        "index[1:]"
      ],
      "metadata": {
        "colab": {
          "base_uri": "https://localhost:8080/"
        },
        "id": "tcxpVUfn28ee",
        "outputId": "1b677749-845b-4d66-c1fc-8ccca7ba4b91"
      },
      "execution_count": 74,
      "outputs": [
        {
          "output_type": "execute_result",
          "data": {
            "text/plain": [
              "Index(['b', 'c'], dtype='object')"
            ]
          },
          "metadata": {},
          "execution_count": 74
        }
      ]
    },
    {
      "cell_type": "markdown",
      "source": [
        "하지만 항목을 변경할 수는 없다. 아래처럼 인덱싱을 이용하여 변경하려 하면 `TypeError`가 발생한다."
      ],
      "metadata": {
        "id": "-Gto6uzo2-Cp"
      }
    },
    {
      "cell_type": "code",
      "source": [
        "index[1] = 'd'"
      ],
      "metadata": {
        "colab": {
          "base_uri": "https://localhost:8080/",
          "height": 303
        },
        "id": "opWZLtwT3C_S",
        "outputId": "d1285955-384d-467a-db07-2a7cde20e7ff"
      },
      "execution_count": 75,
      "outputs": [
        {
          "output_type": "error",
          "ename": "TypeError",
          "evalue": "ignored",
          "traceback": [
            "\u001b[0;31m---------------------------------------------------------------------------\u001b[0m",
            "\u001b[0;31mTypeError\u001b[0m                                 Traceback (most recent call last)",
            "\u001b[0;32m<ipython-input-75-a452e55ce13b>\u001b[0m in \u001b[0;36m<module>\u001b[0;34m()\u001b[0m\n\u001b[0;32m----> 1\u001b[0;31m \u001b[0mindex\u001b[0m\u001b[0;34m[\u001b[0m\u001b[0;36m1\u001b[0m\u001b[0;34m]\u001b[0m \u001b[0;34m=\u001b[0m \u001b[0;34m'd'\u001b[0m\u001b[0;34m\u001b[0m\u001b[0;34m\u001b[0m\u001b[0m\n\u001b[0m",
            "\u001b[0;32m/usr/local/lib/python3.7/dist-packages/pandas/core/indexes/base.py\u001b[0m in \u001b[0;36m__setitem__\u001b[0;34m(self, key, value)\u001b[0m\n\u001b[1;32m   4583\u001b[0m     \u001b[0;34m@\u001b[0m\u001b[0mfinal\u001b[0m\u001b[0;34m\u001b[0m\u001b[0;34m\u001b[0m\u001b[0m\n\u001b[1;32m   4584\u001b[0m     \u001b[0;32mdef\u001b[0m \u001b[0m__setitem__\u001b[0m\u001b[0;34m(\u001b[0m\u001b[0mself\u001b[0m\u001b[0;34m,\u001b[0m \u001b[0mkey\u001b[0m\u001b[0;34m,\u001b[0m \u001b[0mvalue\u001b[0m\u001b[0;34m)\u001b[0m\u001b[0;34m:\u001b[0m\u001b[0;34m\u001b[0m\u001b[0;34m\u001b[0m\u001b[0m\n\u001b[0;32m-> 4585\u001b[0;31m         \u001b[0;32mraise\u001b[0m \u001b[0mTypeError\u001b[0m\u001b[0;34m(\u001b[0m\u001b[0;34m\"Index does not support mutable operations\"\u001b[0m\u001b[0;34m)\u001b[0m\u001b[0;34m\u001b[0m\u001b[0;34m\u001b[0m\u001b[0m\n\u001b[0m\u001b[1;32m   4586\u001b[0m \u001b[0;34m\u001b[0m\u001b[0m\n\u001b[1;32m   4587\u001b[0m     \u001b[0;32mdef\u001b[0m \u001b[0m__getitem__\u001b[0m\u001b[0;34m(\u001b[0m\u001b[0mself\u001b[0m\u001b[0;34m,\u001b[0m \u001b[0mkey\u001b[0m\u001b[0;34m)\u001b[0m\u001b[0;34m:\u001b[0m\u001b[0;34m\u001b[0m\u001b[0;34m\u001b[0m\u001b[0m\n",
            "\u001b[0;31mTypeError\u001b[0m: Index does not support mutable operations"
          ]
        }
      ]
    },
    {
      "cell_type": "markdown",
      "source": [
        "## 8.2.3. 데이터프레임 인덱싱\n",
        "\n",
        "**열 인덱싱**\n",
        "\n",
        "열 인덱싱은 시리즈, 사전 등과 동일한 방식을 사용한다. 다만, 지정된 열의 이름을 사용한다. 예를 들어, `state` 열을 확인하면 시리즈로 보여준다."
      ],
      "metadata": {
        "id": "JceUBrgW3E8d"
      }
    },
    {
      "cell_type": "code",
      "source": [
        "frame2['state']"
      ],
      "metadata": {
        "colab": {
          "base_uri": "https://localhost:8080/"
        },
        "id": "o3k_1x7y3OsT",
        "outputId": "fc8d9050-e6d5-44ae-c231-5cc837d360c4"
      },
      "execution_count": 76,
      "outputs": [
        {
          "output_type": "execute_result",
          "data": {
            "text/plain": [
              "one        Ohio\n",
              "two        Ohio\n",
              "three      Ohio\n",
              "four     Nevada\n",
              "five     Nevada\n",
              "six      Nevada\n",
              "seven        NY\n",
              "eight        NY\n",
              "nine         NY\n",
              "Name: state, dtype: object"
            ]
          },
          "metadata": {},
          "execution_count": 76
        }
      ]
    },
    {
      "cell_type": "markdown",
      "source": [
        "대괄호 대신 속성 형식을 사용할 수도 있다. 아래 코드는 `year` 열을 시리즈로 보여준다."
      ],
      "metadata": {
        "id": "VhOohKyy3RoQ"
      }
    },
    {
      "cell_type": "code",
      "source": [
        "frame2.year"
      ],
      "metadata": {
        "colab": {
          "base_uri": "https://localhost:8080/"
        },
        "id": "d5a3GCm-3U-X",
        "outputId": "e18a3bed-5bf6-4c1c-c742-9eff0b9abd9b"
      },
      "execution_count": 77,
      "outputs": [
        {
          "output_type": "execute_result",
          "data": {
            "text/plain": [
              "one      2000\n",
              "two      2001\n",
              "three    2002\n",
              "four     2001\n",
              "five     2002\n",
              "six      2003\n",
              "seven    2002\n",
              "eight    2003\n",
              "nine     2004\n",
              "Name: year, dtype: int64"
            ]
          },
          "metadata": {},
          "execution_count": 77
        }
      ]
    },
    {
      "cell_type": "markdown",
      "source": [
        "**주의사항** : 대괄호를 사용하는 인덱싱은 임의의 문자열을 사용한다. 반면에 속성 형식은 변수를 사용하듯이 처리한다. 따라서 속성 형식에 사용될 수 있는 열의 이름은 일반 변수로 이름을 짓는 형식을 따라야 한다.\n",
        "\n",
        "예를 들어, Ohio 주(state)인지 여부를 판정하는 'Ohio state'라는 열을 추가해보자. 아래 코드는 새로운 열을 추갛기 위해 사전의 경우처럼 대괄호를 이용하여 새로운 열과 이름과 값을 지정한다."
      ],
      "metadata": {
        "id": "ezxAAaHD3WSO"
      }
    },
    {
      "cell_type": "code",
      "source": [
        "frame2['Ohio state'] = frame2.state == 'Ohio'\n",
        "frame2"
      ],
      "metadata": {
        "colab": {
          "base_uri": "https://localhost:8080/",
          "height": 332
        },
        "id": "33pM6FoV3nie",
        "outputId": "37950d53-7c90-4d58-851c-f4e46ec3ea8c"
      },
      "execution_count": 79,
      "outputs": [
        {
          "output_type": "execute_result",
          "data": {
            "text/plain": [
              "       year   state  pop debt  Ohio state\n",
              "one    2000    Ohio  1.5  NaN        True\n",
              "two    2001    Ohio  1.7  NaN        True\n",
              "three  2002    Ohio  3.6  NaN        True\n",
              "four   2001  Nevada  2.4  NaN       False\n",
              "five   2002  Nevada  2.9  NaN       False\n",
              "six    2003  Nevada  3.2  NaN       False\n",
              "seven  2002      NY  8.3  NaN       False\n",
              "eight  2003      NY  8.4  NaN       False\n",
              "nine   2004      NY  8.5  NaN       False"
            ],
            "text/html": [
              "\n",
              "  <div id=\"df-7f47d41c-e46d-4b2a-b336-0f20416f82ef\">\n",
              "    <div class=\"colab-df-container\">\n",
              "      <div>\n",
              "<style scoped>\n",
              "    .dataframe tbody tr th:only-of-type {\n",
              "        vertical-align: middle;\n",
              "    }\n",
              "\n",
              "    .dataframe tbody tr th {\n",
              "        vertical-align: top;\n",
              "    }\n",
              "\n",
              "    .dataframe thead th {\n",
              "        text-align: right;\n",
              "    }\n",
              "</style>\n",
              "<table border=\"1\" class=\"dataframe\">\n",
              "  <thead>\n",
              "    <tr style=\"text-align: right;\">\n",
              "      <th></th>\n",
              "      <th>year</th>\n",
              "      <th>state</th>\n",
              "      <th>pop</th>\n",
              "      <th>debt</th>\n",
              "      <th>Ohio state</th>\n",
              "    </tr>\n",
              "  </thead>\n",
              "  <tbody>\n",
              "    <tr>\n",
              "      <th>one</th>\n",
              "      <td>2000</td>\n",
              "      <td>Ohio</td>\n",
              "      <td>1.5</td>\n",
              "      <td>NaN</td>\n",
              "      <td>True</td>\n",
              "    </tr>\n",
              "    <tr>\n",
              "      <th>two</th>\n",
              "      <td>2001</td>\n",
              "      <td>Ohio</td>\n",
              "      <td>1.7</td>\n",
              "      <td>NaN</td>\n",
              "      <td>True</td>\n",
              "    </tr>\n",
              "    <tr>\n",
              "      <th>three</th>\n",
              "      <td>2002</td>\n",
              "      <td>Ohio</td>\n",
              "      <td>3.6</td>\n",
              "      <td>NaN</td>\n",
              "      <td>True</td>\n",
              "    </tr>\n",
              "    <tr>\n",
              "      <th>four</th>\n",
              "      <td>2001</td>\n",
              "      <td>Nevada</td>\n",
              "      <td>2.4</td>\n",
              "      <td>NaN</td>\n",
              "      <td>False</td>\n",
              "    </tr>\n",
              "    <tr>\n",
              "      <th>five</th>\n",
              "      <td>2002</td>\n",
              "      <td>Nevada</td>\n",
              "      <td>2.9</td>\n",
              "      <td>NaN</td>\n",
              "      <td>False</td>\n",
              "    </tr>\n",
              "    <tr>\n",
              "      <th>six</th>\n",
              "      <td>2003</td>\n",
              "      <td>Nevada</td>\n",
              "      <td>3.2</td>\n",
              "      <td>NaN</td>\n",
              "      <td>False</td>\n",
              "    </tr>\n",
              "    <tr>\n",
              "      <th>seven</th>\n",
              "      <td>2002</td>\n",
              "      <td>NY</td>\n",
              "      <td>8.3</td>\n",
              "      <td>NaN</td>\n",
              "      <td>False</td>\n",
              "    </tr>\n",
              "    <tr>\n",
              "      <th>eight</th>\n",
              "      <td>2003</td>\n",
              "      <td>NY</td>\n",
              "      <td>8.4</td>\n",
              "      <td>NaN</td>\n",
              "      <td>False</td>\n",
              "    </tr>\n",
              "    <tr>\n",
              "      <th>nine</th>\n",
              "      <td>2004</td>\n",
              "      <td>NY</td>\n",
              "      <td>8.5</td>\n",
              "      <td>NaN</td>\n",
              "      <td>False</td>\n",
              "    </tr>\n",
              "  </tbody>\n",
              "</table>\n",
              "</div>\n",
              "      <button class=\"colab-df-convert\" onclick=\"convertToInteractive('df-7f47d41c-e46d-4b2a-b336-0f20416f82ef')\"\n",
              "              title=\"Convert this dataframe to an interactive table.\"\n",
              "              style=\"display:none;\">\n",
              "        \n",
              "  <svg xmlns=\"http://www.w3.org/2000/svg\" height=\"24px\"viewBox=\"0 0 24 24\"\n",
              "       width=\"24px\">\n",
              "    <path d=\"M0 0h24v24H0V0z\" fill=\"none\"/>\n",
              "    <path d=\"M18.56 5.44l.94 2.06.94-2.06 2.06-.94-2.06-.94-.94-2.06-.94 2.06-2.06.94zm-11 1L8.5 8.5l.94-2.06 2.06-.94-2.06-.94L8.5 2.5l-.94 2.06-2.06.94zm10 10l.94 2.06.94-2.06 2.06-.94-2.06-.94-.94-2.06-.94 2.06-2.06.94z\"/><path d=\"M17.41 7.96l-1.37-1.37c-.4-.4-.92-.59-1.43-.59-.52 0-1.04.2-1.43.59L10.3 9.45l-7.72 7.72c-.78.78-.78 2.05 0 2.83L4 21.41c.39.39.9.59 1.41.59.51 0 1.02-.2 1.41-.59l7.78-7.78 2.81-2.81c.8-.78.8-2.07 0-2.86zM5.41 20L4 18.59l7.72-7.72 1.47 1.35L5.41 20z\"/>\n",
              "  </svg>\n",
              "      </button>\n",
              "      \n",
              "  <style>\n",
              "    .colab-df-container {\n",
              "      display:flex;\n",
              "      flex-wrap:wrap;\n",
              "      gap: 12px;\n",
              "    }\n",
              "\n",
              "    .colab-df-convert {\n",
              "      background-color: #E8F0FE;\n",
              "      border: none;\n",
              "      border-radius: 50%;\n",
              "      cursor: pointer;\n",
              "      display: none;\n",
              "      fill: #1967D2;\n",
              "      height: 32px;\n",
              "      padding: 0 0 0 0;\n",
              "      width: 32px;\n",
              "    }\n",
              "\n",
              "    .colab-df-convert:hover {\n",
              "      background-color: #E2EBFA;\n",
              "      box-shadow: 0px 1px 2px rgba(60, 64, 67, 0.3), 0px 1px 3px 1px rgba(60, 64, 67, 0.15);\n",
              "      fill: #174EA6;\n",
              "    }\n",
              "\n",
              "    [theme=dark] .colab-df-convert {\n",
              "      background-color: #3B4455;\n",
              "      fill: #D2E3FC;\n",
              "    }\n",
              "\n",
              "    [theme=dark] .colab-df-convert:hover {\n",
              "      background-color: #434B5C;\n",
              "      box-shadow: 0px 1px 3px 1px rgba(0, 0, 0, 0.15);\n",
              "      filter: drop-shadow(0px 1px 2px rgba(0, 0, 0, 0.3));\n",
              "      fill: #FFFFFF;\n",
              "    }\n",
              "  </style>\n",
              "\n",
              "      <script>\n",
              "        const buttonEl =\n",
              "          document.querySelector('#df-7f47d41c-e46d-4b2a-b336-0f20416f82ef button.colab-df-convert');\n",
              "        buttonEl.style.display =\n",
              "          google.colab.kernel.accessAllowed ? 'block' : 'none';\n",
              "\n",
              "        async function convertToInteractive(key) {\n",
              "          const element = document.querySelector('#df-7f47d41c-e46d-4b2a-b336-0f20416f82ef');\n",
              "          const dataTable =\n",
              "            await google.colab.kernel.invokeFunction('convertToInteractive',\n",
              "                                                     [key], {});\n",
              "          if (!dataTable) return;\n",
              "\n",
              "          const docLinkHtml = 'Like what you see? Visit the ' +\n",
              "            '<a target=\"_blank\" href=https://colab.research.google.com/notebooks/data_table.ipynb>data table notebook</a>'\n",
              "            + ' to learn more about interactive tables.';\n",
              "          element.innerHTML = '';\n",
              "          dataTable['output_type'] = 'display_data';\n",
              "          await google.colab.output.renderOutput(dataTable, element);\n",
              "          const docLink = document.createElement('div');\n",
              "          docLink.innerHTML = docLinkHtml;\n",
              "          element.appendChild(docLink);\n",
              "        }\n",
              "      </script>\n",
              "    </div>\n",
              "  </div>\n",
              "  "
            ]
          },
          "metadata": {},
          "execution_count": 79
        }
      ]
    },
    {
      "cell_type": "markdown",
      "source": [
        "그러면 `'Ohio state'`의 열을 확인하는 방법은 대괄호만 이용할 수 있으며 속성 형식은 불가능하다."
      ],
      "metadata": {
        "id": "MshATqsV3t5d"
      }
    },
    {
      "cell_type": "code",
      "source": [
        "frame2['Ohio state']"
      ],
      "metadata": {
        "colab": {
          "base_uri": "https://localhost:8080/"
        },
        "id": "tjDXcLvG3ysc",
        "outputId": "cf63fe25-507e-4b68-c4c5-ea161c484689"
      },
      "execution_count": 80,
      "outputs": [
        {
          "output_type": "execute_result",
          "data": {
            "text/plain": [
              "one       True\n",
              "two       True\n",
              "three     True\n",
              "four     False\n",
              "five     False\n",
              "six      False\n",
              "seven    False\n",
              "eight    False\n",
              "nine     False\n",
              "Name: Ohio state, dtype: bool"
            ]
          },
          "metadata": {},
          "execution_count": 80
        }
      ]
    },
    {
      "cell_type": "markdown",
      "source": [
        "아래와 같이 실행하면 문법 오류(`SyntaxError`)가 발생한다. 이유는 `Ohio state`가 변수 이름으로 허용되지 않기 때문이다."
      ],
      "metadata": {
        "id": "f_ybw0pT33io"
      }
    },
    {
      "cell_type": "code",
      "source": [
        "frame2.Ohio state"
      ],
      "metadata": {
        "colab": {
          "base_uri": "https://localhost:8080/",
          "height": 137
        },
        "id": "etfGKRx639jj",
        "outputId": "8f6c57ec-7ba9-4bb5-e47a-30d89a2f856f"
      },
      "execution_count": 81,
      "outputs": [
        {
          "output_type": "error",
          "ename": "SyntaxError",
          "evalue": "ignored",
          "traceback": [
            "\u001b[0;36m  File \u001b[0;32m\"<ipython-input-81-c5daaf20d648>\"\u001b[0;36m, line \u001b[0;32m1\u001b[0m\n\u001b[0;31m    frame2.Ohio state\u001b[0m\n\u001b[0m                    ^\u001b[0m\n\u001b[0;31mSyntaxError\u001b[0m\u001b[0;31m:\u001b[0m invalid syntax\n"
          ]
        }
      ]
    },
    {
      "cell_type": "markdown",
      "source": [
        "**열 삭제**\n",
        "\n",
        "하나의 열을 삭제하려면 `del` 예약어를 사용한다."
      ],
      "metadata": {
        "id": "NOOmryIK3_N1"
      }
    },
    {
      "cell_type": "code",
      "source": [
        "del frame2['Ohio state']\n",
        "frame2"
      ],
      "metadata": {
        "colab": {
          "base_uri": "https://localhost:8080/",
          "height": 332
        },
        "id": "9xMXdYtj4Csz",
        "outputId": "14e1584f-7b26-456f-c1ef-96a246174eb9"
      },
      "execution_count": 82,
      "outputs": [
        {
          "output_type": "execute_result",
          "data": {
            "text/plain": [
              "       year   state  pop debt\n",
              "one    2000    Ohio  1.5  NaN\n",
              "two    2001    Ohio  1.7  NaN\n",
              "three  2002    Ohio  3.6  NaN\n",
              "four   2001  Nevada  2.4  NaN\n",
              "five   2002  Nevada  2.9  NaN\n",
              "six    2003  Nevada  3.2  NaN\n",
              "seven  2002      NY  8.3  NaN\n",
              "eight  2003      NY  8.4  NaN\n",
              "nine   2004      NY  8.5  NaN"
            ],
            "text/html": [
              "\n",
              "  <div id=\"df-aa273527-0c58-49e7-90ab-2e5078bc662f\">\n",
              "    <div class=\"colab-df-container\">\n",
              "      <div>\n",
              "<style scoped>\n",
              "    .dataframe tbody tr th:only-of-type {\n",
              "        vertical-align: middle;\n",
              "    }\n",
              "\n",
              "    .dataframe tbody tr th {\n",
              "        vertical-align: top;\n",
              "    }\n",
              "\n",
              "    .dataframe thead th {\n",
              "        text-align: right;\n",
              "    }\n",
              "</style>\n",
              "<table border=\"1\" class=\"dataframe\">\n",
              "  <thead>\n",
              "    <tr style=\"text-align: right;\">\n",
              "      <th></th>\n",
              "      <th>year</th>\n",
              "      <th>state</th>\n",
              "      <th>pop</th>\n",
              "      <th>debt</th>\n",
              "    </tr>\n",
              "  </thead>\n",
              "  <tbody>\n",
              "    <tr>\n",
              "      <th>one</th>\n",
              "      <td>2000</td>\n",
              "      <td>Ohio</td>\n",
              "      <td>1.5</td>\n",
              "      <td>NaN</td>\n",
              "    </tr>\n",
              "    <tr>\n",
              "      <th>two</th>\n",
              "      <td>2001</td>\n",
              "      <td>Ohio</td>\n",
              "      <td>1.7</td>\n",
              "      <td>NaN</td>\n",
              "    </tr>\n",
              "    <tr>\n",
              "      <th>three</th>\n",
              "      <td>2002</td>\n",
              "      <td>Ohio</td>\n",
              "      <td>3.6</td>\n",
              "      <td>NaN</td>\n",
              "    </tr>\n",
              "    <tr>\n",
              "      <th>four</th>\n",
              "      <td>2001</td>\n",
              "      <td>Nevada</td>\n",
              "      <td>2.4</td>\n",
              "      <td>NaN</td>\n",
              "    </tr>\n",
              "    <tr>\n",
              "      <th>five</th>\n",
              "      <td>2002</td>\n",
              "      <td>Nevada</td>\n",
              "      <td>2.9</td>\n",
              "      <td>NaN</td>\n",
              "    </tr>\n",
              "    <tr>\n",
              "      <th>six</th>\n",
              "      <td>2003</td>\n",
              "      <td>Nevada</td>\n",
              "      <td>3.2</td>\n",
              "      <td>NaN</td>\n",
              "    </tr>\n",
              "    <tr>\n",
              "      <th>seven</th>\n",
              "      <td>2002</td>\n",
              "      <td>NY</td>\n",
              "      <td>8.3</td>\n",
              "      <td>NaN</td>\n",
              "    </tr>\n",
              "    <tr>\n",
              "      <th>eight</th>\n",
              "      <td>2003</td>\n",
              "      <td>NY</td>\n",
              "      <td>8.4</td>\n",
              "      <td>NaN</td>\n",
              "    </tr>\n",
              "    <tr>\n",
              "      <th>nine</th>\n",
              "      <td>2004</td>\n",
              "      <td>NY</td>\n",
              "      <td>8.5</td>\n",
              "      <td>NaN</td>\n",
              "    </tr>\n",
              "  </tbody>\n",
              "</table>\n",
              "</div>\n",
              "      <button class=\"colab-df-convert\" onclick=\"convertToInteractive('df-aa273527-0c58-49e7-90ab-2e5078bc662f')\"\n",
              "              title=\"Convert this dataframe to an interactive table.\"\n",
              "              style=\"display:none;\">\n",
              "        \n",
              "  <svg xmlns=\"http://www.w3.org/2000/svg\" height=\"24px\"viewBox=\"0 0 24 24\"\n",
              "       width=\"24px\">\n",
              "    <path d=\"M0 0h24v24H0V0z\" fill=\"none\"/>\n",
              "    <path d=\"M18.56 5.44l.94 2.06.94-2.06 2.06-.94-2.06-.94-.94-2.06-.94 2.06-2.06.94zm-11 1L8.5 8.5l.94-2.06 2.06-.94-2.06-.94L8.5 2.5l-.94 2.06-2.06.94zm10 10l.94 2.06.94-2.06 2.06-.94-2.06-.94-.94-2.06-.94 2.06-2.06.94z\"/><path d=\"M17.41 7.96l-1.37-1.37c-.4-.4-.92-.59-1.43-.59-.52 0-1.04.2-1.43.59L10.3 9.45l-7.72 7.72c-.78.78-.78 2.05 0 2.83L4 21.41c.39.39.9.59 1.41.59.51 0 1.02-.2 1.41-.59l7.78-7.78 2.81-2.81c.8-.78.8-2.07 0-2.86zM5.41 20L4 18.59l7.72-7.72 1.47 1.35L5.41 20z\"/>\n",
              "  </svg>\n",
              "      </button>\n",
              "      \n",
              "  <style>\n",
              "    .colab-df-container {\n",
              "      display:flex;\n",
              "      flex-wrap:wrap;\n",
              "      gap: 12px;\n",
              "    }\n",
              "\n",
              "    .colab-df-convert {\n",
              "      background-color: #E8F0FE;\n",
              "      border: none;\n",
              "      border-radius: 50%;\n",
              "      cursor: pointer;\n",
              "      display: none;\n",
              "      fill: #1967D2;\n",
              "      height: 32px;\n",
              "      padding: 0 0 0 0;\n",
              "      width: 32px;\n",
              "    }\n",
              "\n",
              "    .colab-df-convert:hover {\n",
              "      background-color: #E2EBFA;\n",
              "      box-shadow: 0px 1px 2px rgba(60, 64, 67, 0.3), 0px 1px 3px 1px rgba(60, 64, 67, 0.15);\n",
              "      fill: #174EA6;\n",
              "    }\n",
              "\n",
              "    [theme=dark] .colab-df-convert {\n",
              "      background-color: #3B4455;\n",
              "      fill: #D2E3FC;\n",
              "    }\n",
              "\n",
              "    [theme=dark] .colab-df-convert:hover {\n",
              "      background-color: #434B5C;\n",
              "      box-shadow: 0px 1px 3px 1px rgba(0, 0, 0, 0.15);\n",
              "      filter: drop-shadow(0px 1px 2px rgba(0, 0, 0, 0.3));\n",
              "      fill: #FFFFFF;\n",
              "    }\n",
              "  </style>\n",
              "\n",
              "      <script>\n",
              "        const buttonEl =\n",
              "          document.querySelector('#df-aa273527-0c58-49e7-90ab-2e5078bc662f button.colab-df-convert');\n",
              "        buttonEl.style.display =\n",
              "          google.colab.kernel.accessAllowed ? 'block' : 'none';\n",
              "\n",
              "        async function convertToInteractive(key) {\n",
              "          const element = document.querySelector('#df-aa273527-0c58-49e7-90ab-2e5078bc662f');\n",
              "          const dataTable =\n",
              "            await google.colab.kernel.invokeFunction('convertToInteractive',\n",
              "                                                     [key], {});\n",
              "          if (!dataTable) return;\n",
              "\n",
              "          const docLinkHtml = 'Like what you see? Visit the ' +\n",
              "            '<a target=\"_blank\" href=https://colab.research.google.com/notebooks/data_table.ipynb>data table notebook</a>'\n",
              "            + ' to learn more about interactive tables.';\n",
              "          element.innerHTML = '';\n",
              "          dataTable['output_type'] = 'display_data';\n",
              "          await google.colab.output.renderOutput(dataTable, element);\n",
              "          const docLink = document.createElement('div');\n",
              "          docLink.innerHTML = docLinkHtml;\n",
              "          element.appendChild(docLink);\n",
              "        }\n",
              "      </script>\n",
              "    </div>\n",
              "  </div>\n",
              "  "
            ]
          },
          "metadata": {},
          "execution_count": 82
        }
      ]
    },
    {
      "cell_type": "code",
      "source": [
        "frame2.columns"
      ],
      "metadata": {
        "colab": {
          "base_uri": "https://localhost:8080/"
        },
        "id": "kZ8lx2qX4GFf",
        "outputId": "5807a5dd-d42f-4654-9081-2df82d4188ae"
      },
      "execution_count": 85,
      "outputs": [
        {
          "output_type": "execute_result",
          "data": {
            "text/plain": [
              "Index(['year', 'state', 'pop', 'debt'], dtype='object')"
            ]
          },
          "metadata": {},
          "execution_count": 85
        }
      ]
    },
    {
      "cell_type": "markdown",
      "source": [
        "`drop()` 메서드를 사용할 수도 있지만 나중에 설명한다.\n",
        "\n",
        "**행 인덱싱**\n",
        "\n",
        "행 인덱싱은 `loc` 속성과 지정된 인덱스를 이용한다. 예를 들어, `'three'` 행을 확인하려면 다음과 같이 한다."
      ],
      "metadata": {
        "id": "_jZvfiYM4Jnb"
      }
    },
    {
      "cell_type": "code",
      "source": [
        "frame2.loc['three']"
      ],
      "metadata": {
        "colab": {
          "base_uri": "https://localhost:8080/"
        },
        "id": "2qj179qd4T7f",
        "outputId": "e8e203f5-046e-416f-d6e5-fda1424397fd"
      },
      "execution_count": 87,
      "outputs": [
        {
          "output_type": "execute_result",
          "data": {
            "text/plain": [
              "year     2002\n",
              "state    Ohio\n",
              "pop       3.6\n",
              "debt      NaN\n",
              "Name: three, dtype: object"
            ]
          },
          "metadata": {},
          "execution_count": 87
        }
      ]
    },
    {
      "cell_type": "markdown",
      "source": [
        "여러 행을 대상으로 인덱싱 하려면 아래와 같이 인덱스의 리스트를 활용한다."
      ],
      "metadata": {
        "id": "zq_jQzzN4XPQ"
      }
    },
    {
      "cell_type": "code",
      "source": [
        "frame2.loc[['three', 'four']]"
      ],
      "metadata": {
        "colab": {
          "base_uri": "https://localhost:8080/",
          "height": 112
        },
        "id": "j6GMJ4-y4ap5",
        "outputId": "3667f77f-0c17-4d96-b323-fefea20100f9"
      },
      "execution_count": 88,
      "outputs": [
        {
          "output_type": "execute_result",
          "data": {
            "text/plain": [
              "       year   state  pop debt\n",
              "three  2002    Ohio  3.6  NaN\n",
              "four   2001  Nevada  2.4  NaN"
            ],
            "text/html": [
              "\n",
              "  <div id=\"df-871eea57-7bae-4ee7-8b1e-2596293ecdec\">\n",
              "    <div class=\"colab-df-container\">\n",
              "      <div>\n",
              "<style scoped>\n",
              "    .dataframe tbody tr th:only-of-type {\n",
              "        vertical-align: middle;\n",
              "    }\n",
              "\n",
              "    .dataframe tbody tr th {\n",
              "        vertical-align: top;\n",
              "    }\n",
              "\n",
              "    .dataframe thead th {\n",
              "        text-align: right;\n",
              "    }\n",
              "</style>\n",
              "<table border=\"1\" class=\"dataframe\">\n",
              "  <thead>\n",
              "    <tr style=\"text-align: right;\">\n",
              "      <th></th>\n",
              "      <th>year</th>\n",
              "      <th>state</th>\n",
              "      <th>pop</th>\n",
              "      <th>debt</th>\n",
              "    </tr>\n",
              "  </thead>\n",
              "  <tbody>\n",
              "    <tr>\n",
              "      <th>three</th>\n",
              "      <td>2002</td>\n",
              "      <td>Ohio</td>\n",
              "      <td>3.6</td>\n",
              "      <td>NaN</td>\n",
              "    </tr>\n",
              "    <tr>\n",
              "      <th>four</th>\n",
              "      <td>2001</td>\n",
              "      <td>Nevada</td>\n",
              "      <td>2.4</td>\n",
              "      <td>NaN</td>\n",
              "    </tr>\n",
              "  </tbody>\n",
              "</table>\n",
              "</div>\n",
              "      <button class=\"colab-df-convert\" onclick=\"convertToInteractive('df-871eea57-7bae-4ee7-8b1e-2596293ecdec')\"\n",
              "              title=\"Convert this dataframe to an interactive table.\"\n",
              "              style=\"display:none;\">\n",
              "        \n",
              "  <svg xmlns=\"http://www.w3.org/2000/svg\" height=\"24px\"viewBox=\"0 0 24 24\"\n",
              "       width=\"24px\">\n",
              "    <path d=\"M0 0h24v24H0V0z\" fill=\"none\"/>\n",
              "    <path d=\"M18.56 5.44l.94 2.06.94-2.06 2.06-.94-2.06-.94-.94-2.06-.94 2.06-2.06.94zm-11 1L8.5 8.5l.94-2.06 2.06-.94-2.06-.94L8.5 2.5l-.94 2.06-2.06.94zm10 10l.94 2.06.94-2.06 2.06-.94-2.06-.94-.94-2.06-.94 2.06-2.06.94z\"/><path d=\"M17.41 7.96l-1.37-1.37c-.4-.4-.92-.59-1.43-.59-.52 0-1.04.2-1.43.59L10.3 9.45l-7.72 7.72c-.78.78-.78 2.05 0 2.83L4 21.41c.39.39.9.59 1.41.59.51 0 1.02-.2 1.41-.59l7.78-7.78 2.81-2.81c.8-.78.8-2.07 0-2.86zM5.41 20L4 18.59l7.72-7.72 1.47 1.35L5.41 20z\"/>\n",
              "  </svg>\n",
              "      </button>\n",
              "      \n",
              "  <style>\n",
              "    .colab-df-container {\n",
              "      display:flex;\n",
              "      flex-wrap:wrap;\n",
              "      gap: 12px;\n",
              "    }\n",
              "\n",
              "    .colab-df-convert {\n",
              "      background-color: #E8F0FE;\n",
              "      border: none;\n",
              "      border-radius: 50%;\n",
              "      cursor: pointer;\n",
              "      display: none;\n",
              "      fill: #1967D2;\n",
              "      height: 32px;\n",
              "      padding: 0 0 0 0;\n",
              "      width: 32px;\n",
              "    }\n",
              "\n",
              "    .colab-df-convert:hover {\n",
              "      background-color: #E2EBFA;\n",
              "      box-shadow: 0px 1px 2px rgba(60, 64, 67, 0.3), 0px 1px 3px 1px rgba(60, 64, 67, 0.15);\n",
              "      fill: #174EA6;\n",
              "    }\n",
              "\n",
              "    [theme=dark] .colab-df-convert {\n",
              "      background-color: #3B4455;\n",
              "      fill: #D2E3FC;\n",
              "    }\n",
              "\n",
              "    [theme=dark] .colab-df-convert:hover {\n",
              "      background-color: #434B5C;\n",
              "      box-shadow: 0px 1px 3px 1px rgba(0, 0, 0, 0.15);\n",
              "      filter: drop-shadow(0px 1px 2px rgba(0, 0, 0, 0.3));\n",
              "      fill: #FFFFFF;\n",
              "    }\n",
              "  </style>\n",
              "\n",
              "      <script>\n",
              "        const buttonEl =\n",
              "          document.querySelector('#df-871eea57-7bae-4ee7-8b1e-2596293ecdec button.colab-df-convert');\n",
              "        buttonEl.style.display =\n",
              "          google.colab.kernel.accessAllowed ? 'block' : 'none';\n",
              "\n",
              "        async function convertToInteractive(key) {\n",
              "          const element = document.querySelector('#df-871eea57-7bae-4ee7-8b1e-2596293ecdec');\n",
              "          const dataTable =\n",
              "            await google.colab.kernel.invokeFunction('convertToInteractive',\n",
              "                                                     [key], {});\n",
              "          if (!dataTable) return;\n",
              "\n",
              "          const docLinkHtml = 'Like what you see? Visit the ' +\n",
              "            '<a target=\"_blank\" href=https://colab.research.google.com/notebooks/data_table.ipynb>data table notebook</a>'\n",
              "            + ' to learn more about interactive tables.';\n",
              "          element.innerHTML = '';\n",
              "          dataTable['output_type'] = 'display_data';\n",
              "          await google.colab.output.renderOutput(dataTable, element);\n",
              "          const docLink = document.createElement('div');\n",
              "          docLink.innerHTML = docLinkHtml;\n",
              "          element.appendChild(docLink);\n",
              "        }\n",
              "      </script>\n",
              "    </div>\n",
              "  </div>\n",
              "  "
            ]
          },
          "metadata": {},
          "execution_count": 88
        }
      ]
    },
    {
      "cell_type": "markdown",
      "source": [
        "**참고** : 행, 열 인덱싱 모두 0, 1, 2 등 정수를 이용하년 방식도 가능하며, 나중에 자세히 다룬다.\n",
        "\n",
        "**열 업데이트**\n",
        "\n",
        "열 인덱싱을 이용하여 항목의 값을 지정할 수 있다. 아래 코드는 `'debt'` 열의 값을 16.5로 일정하게 지정한다.\n",
        "\n",
        "**참고** : 브로드캐스팅이 기본적으로 작동한다."
      ],
      "metadata": {
        "id": "PruJbjgN4dIV"
      }
    },
    {
      "cell_type": "code",
      "source": [
        "frame2['debt'] = 16.5\n",
        "frame2"
      ],
      "metadata": {
        "colab": {
          "base_uri": "https://localhost:8080/",
          "height": 332
        },
        "id": "uJTXtlhj4p8z",
        "outputId": "f3a5b874-4f29-4043-b725-25d007001d85"
      },
      "execution_count": 89,
      "outputs": [
        {
          "output_type": "execute_result",
          "data": {
            "text/plain": [
              "       year   state  pop  debt\n",
              "one    2000    Ohio  1.5  16.5\n",
              "two    2001    Ohio  1.7  16.5\n",
              "three  2002    Ohio  3.6  16.5\n",
              "four   2001  Nevada  2.4  16.5\n",
              "five   2002  Nevada  2.9  16.5\n",
              "six    2003  Nevada  3.2  16.5\n",
              "seven  2002      NY  8.3  16.5\n",
              "eight  2003      NY  8.4  16.5\n",
              "nine   2004      NY  8.5  16.5"
            ],
            "text/html": [
              "\n",
              "  <div id=\"df-05450431-ef6a-4a67-aef6-4a96eedf55bf\">\n",
              "    <div class=\"colab-df-container\">\n",
              "      <div>\n",
              "<style scoped>\n",
              "    .dataframe tbody tr th:only-of-type {\n",
              "        vertical-align: middle;\n",
              "    }\n",
              "\n",
              "    .dataframe tbody tr th {\n",
              "        vertical-align: top;\n",
              "    }\n",
              "\n",
              "    .dataframe thead th {\n",
              "        text-align: right;\n",
              "    }\n",
              "</style>\n",
              "<table border=\"1\" class=\"dataframe\">\n",
              "  <thead>\n",
              "    <tr style=\"text-align: right;\">\n",
              "      <th></th>\n",
              "      <th>year</th>\n",
              "      <th>state</th>\n",
              "      <th>pop</th>\n",
              "      <th>debt</th>\n",
              "    </tr>\n",
              "  </thead>\n",
              "  <tbody>\n",
              "    <tr>\n",
              "      <th>one</th>\n",
              "      <td>2000</td>\n",
              "      <td>Ohio</td>\n",
              "      <td>1.5</td>\n",
              "      <td>16.5</td>\n",
              "    </tr>\n",
              "    <tr>\n",
              "      <th>two</th>\n",
              "      <td>2001</td>\n",
              "      <td>Ohio</td>\n",
              "      <td>1.7</td>\n",
              "      <td>16.5</td>\n",
              "    </tr>\n",
              "    <tr>\n",
              "      <th>three</th>\n",
              "      <td>2002</td>\n",
              "      <td>Ohio</td>\n",
              "      <td>3.6</td>\n",
              "      <td>16.5</td>\n",
              "    </tr>\n",
              "    <tr>\n",
              "      <th>four</th>\n",
              "      <td>2001</td>\n",
              "      <td>Nevada</td>\n",
              "      <td>2.4</td>\n",
              "      <td>16.5</td>\n",
              "    </tr>\n",
              "    <tr>\n",
              "      <th>five</th>\n",
              "      <td>2002</td>\n",
              "      <td>Nevada</td>\n",
              "      <td>2.9</td>\n",
              "      <td>16.5</td>\n",
              "    </tr>\n",
              "    <tr>\n",
              "      <th>six</th>\n",
              "      <td>2003</td>\n",
              "      <td>Nevada</td>\n",
              "      <td>3.2</td>\n",
              "      <td>16.5</td>\n",
              "    </tr>\n",
              "    <tr>\n",
              "      <th>seven</th>\n",
              "      <td>2002</td>\n",
              "      <td>NY</td>\n",
              "      <td>8.3</td>\n",
              "      <td>16.5</td>\n",
              "    </tr>\n",
              "    <tr>\n",
              "      <th>eight</th>\n",
              "      <td>2003</td>\n",
              "      <td>NY</td>\n",
              "      <td>8.4</td>\n",
              "      <td>16.5</td>\n",
              "    </tr>\n",
              "    <tr>\n",
              "      <th>nine</th>\n",
              "      <td>2004</td>\n",
              "      <td>NY</td>\n",
              "      <td>8.5</td>\n",
              "      <td>16.5</td>\n",
              "    </tr>\n",
              "  </tbody>\n",
              "</table>\n",
              "</div>\n",
              "      <button class=\"colab-df-convert\" onclick=\"convertToInteractive('df-05450431-ef6a-4a67-aef6-4a96eedf55bf')\"\n",
              "              title=\"Convert this dataframe to an interactive table.\"\n",
              "              style=\"display:none;\">\n",
              "        \n",
              "  <svg xmlns=\"http://www.w3.org/2000/svg\" height=\"24px\"viewBox=\"0 0 24 24\"\n",
              "       width=\"24px\">\n",
              "    <path d=\"M0 0h24v24H0V0z\" fill=\"none\"/>\n",
              "    <path d=\"M18.56 5.44l.94 2.06.94-2.06 2.06-.94-2.06-.94-.94-2.06-.94 2.06-2.06.94zm-11 1L8.5 8.5l.94-2.06 2.06-.94-2.06-.94L8.5 2.5l-.94 2.06-2.06.94zm10 10l.94 2.06.94-2.06 2.06-.94-2.06-.94-.94-2.06-.94 2.06-2.06.94z\"/><path d=\"M17.41 7.96l-1.37-1.37c-.4-.4-.92-.59-1.43-.59-.52 0-1.04.2-1.43.59L10.3 9.45l-7.72 7.72c-.78.78-.78 2.05 0 2.83L4 21.41c.39.39.9.59 1.41.59.51 0 1.02-.2 1.41-.59l7.78-7.78 2.81-2.81c.8-.78.8-2.07 0-2.86zM5.41 20L4 18.59l7.72-7.72 1.47 1.35L5.41 20z\"/>\n",
              "  </svg>\n",
              "      </button>\n",
              "      \n",
              "  <style>\n",
              "    .colab-df-container {\n",
              "      display:flex;\n",
              "      flex-wrap:wrap;\n",
              "      gap: 12px;\n",
              "    }\n",
              "\n",
              "    .colab-df-convert {\n",
              "      background-color: #E8F0FE;\n",
              "      border: none;\n",
              "      border-radius: 50%;\n",
              "      cursor: pointer;\n",
              "      display: none;\n",
              "      fill: #1967D2;\n",
              "      height: 32px;\n",
              "      padding: 0 0 0 0;\n",
              "      width: 32px;\n",
              "    }\n",
              "\n",
              "    .colab-df-convert:hover {\n",
              "      background-color: #E2EBFA;\n",
              "      box-shadow: 0px 1px 2px rgba(60, 64, 67, 0.3), 0px 1px 3px 1px rgba(60, 64, 67, 0.15);\n",
              "      fill: #174EA6;\n",
              "    }\n",
              "\n",
              "    [theme=dark] .colab-df-convert {\n",
              "      background-color: #3B4455;\n",
              "      fill: #D2E3FC;\n",
              "    }\n",
              "\n",
              "    [theme=dark] .colab-df-convert:hover {\n",
              "      background-color: #434B5C;\n",
              "      box-shadow: 0px 1px 3px 1px rgba(0, 0, 0, 0.15);\n",
              "      filter: drop-shadow(0px 1px 2px rgba(0, 0, 0, 0.3));\n",
              "      fill: #FFFFFF;\n",
              "    }\n",
              "  </style>\n",
              "\n",
              "      <script>\n",
              "        const buttonEl =\n",
              "          document.querySelector('#df-05450431-ef6a-4a67-aef6-4a96eedf55bf button.colab-df-convert');\n",
              "        buttonEl.style.display =\n",
              "          google.colab.kernel.accessAllowed ? 'block' : 'none';\n",
              "\n",
              "        async function convertToInteractive(key) {\n",
              "          const element = document.querySelector('#df-05450431-ef6a-4a67-aef6-4a96eedf55bf');\n",
              "          const dataTable =\n",
              "            await google.colab.kernel.invokeFunction('convertToInteractive',\n",
              "                                                     [key], {});\n",
              "          if (!dataTable) return;\n",
              "\n",
              "          const docLinkHtml = 'Like what you see? Visit the ' +\n",
              "            '<a target=\"_blank\" href=https://colab.research.google.com/notebooks/data_table.ipynb>data table notebook</a>'\n",
              "            + ' to learn more about interactive tables.';\n",
              "          element.innerHTML = '';\n",
              "          dataTable['output_type'] = 'display_data';\n",
              "          await google.colab.output.renderOutput(dataTable, element);\n",
              "          const docLink = document.createElement('div');\n",
              "          docLink.innerHTML = docLinkHtml;\n",
              "          element.appendChild(docLink);\n",
              "        }\n",
              "      </script>\n",
              "    </div>\n",
              "  </div>\n",
              "  "
            ]
          },
          "metadata": {},
          "execution_count": 89
        }
      ]
    },
    {
      "cell_type": "markdown",
      "source": [
        "반면에 행의 길이와 동일한 리스트, 어레이 등을 이용하여 각 행별로 다른 값을 지정할 수 있다. 리스트, 어레이의 길이가 행의 개수와 동일해야 함에 주의해야 한다."
      ],
      "metadata": {
        "id": "78lnuONz4s0o"
      }
    },
    {
      "cell_type": "code",
      "source": [
        "frame2['debt'] = np.arange(9.)\n",
        "frame2"
      ],
      "metadata": {
        "colab": {
          "base_uri": "https://localhost:8080/",
          "height": 332
        },
        "id": "G2H4t3Ae40yV",
        "outputId": "8d4f4e22-e3ae-4745-ba2d-320979000180"
      },
      "execution_count": 90,
      "outputs": [
        {
          "output_type": "execute_result",
          "data": {
            "text/plain": [
              "       year   state  pop  debt\n",
              "one    2000    Ohio  1.5   0.0\n",
              "two    2001    Ohio  1.7   1.0\n",
              "three  2002    Ohio  3.6   2.0\n",
              "four   2001  Nevada  2.4   3.0\n",
              "five   2002  Nevada  2.9   4.0\n",
              "six    2003  Nevada  3.2   5.0\n",
              "seven  2002      NY  8.3   6.0\n",
              "eight  2003      NY  8.4   7.0\n",
              "nine   2004      NY  8.5   8.0"
            ],
            "text/html": [
              "\n",
              "  <div id=\"df-c8f774cc-8b88-4e10-8a58-fdeae14b1aa0\">\n",
              "    <div class=\"colab-df-container\">\n",
              "      <div>\n",
              "<style scoped>\n",
              "    .dataframe tbody tr th:only-of-type {\n",
              "        vertical-align: middle;\n",
              "    }\n",
              "\n",
              "    .dataframe tbody tr th {\n",
              "        vertical-align: top;\n",
              "    }\n",
              "\n",
              "    .dataframe thead th {\n",
              "        text-align: right;\n",
              "    }\n",
              "</style>\n",
              "<table border=\"1\" class=\"dataframe\">\n",
              "  <thead>\n",
              "    <tr style=\"text-align: right;\">\n",
              "      <th></th>\n",
              "      <th>year</th>\n",
              "      <th>state</th>\n",
              "      <th>pop</th>\n",
              "      <th>debt</th>\n",
              "    </tr>\n",
              "  </thead>\n",
              "  <tbody>\n",
              "    <tr>\n",
              "      <th>one</th>\n",
              "      <td>2000</td>\n",
              "      <td>Ohio</td>\n",
              "      <td>1.5</td>\n",
              "      <td>0.0</td>\n",
              "    </tr>\n",
              "    <tr>\n",
              "      <th>two</th>\n",
              "      <td>2001</td>\n",
              "      <td>Ohio</td>\n",
              "      <td>1.7</td>\n",
              "      <td>1.0</td>\n",
              "    </tr>\n",
              "    <tr>\n",
              "      <th>three</th>\n",
              "      <td>2002</td>\n",
              "      <td>Ohio</td>\n",
              "      <td>3.6</td>\n",
              "      <td>2.0</td>\n",
              "    </tr>\n",
              "    <tr>\n",
              "      <th>four</th>\n",
              "      <td>2001</td>\n",
              "      <td>Nevada</td>\n",
              "      <td>2.4</td>\n",
              "      <td>3.0</td>\n",
              "    </tr>\n",
              "    <tr>\n",
              "      <th>five</th>\n",
              "      <td>2002</td>\n",
              "      <td>Nevada</td>\n",
              "      <td>2.9</td>\n",
              "      <td>4.0</td>\n",
              "    </tr>\n",
              "    <tr>\n",
              "      <th>six</th>\n",
              "      <td>2003</td>\n",
              "      <td>Nevada</td>\n",
              "      <td>3.2</td>\n",
              "      <td>5.0</td>\n",
              "    </tr>\n",
              "    <tr>\n",
              "      <th>seven</th>\n",
              "      <td>2002</td>\n",
              "      <td>NY</td>\n",
              "      <td>8.3</td>\n",
              "      <td>6.0</td>\n",
              "    </tr>\n",
              "    <tr>\n",
              "      <th>eight</th>\n",
              "      <td>2003</td>\n",
              "      <td>NY</td>\n",
              "      <td>8.4</td>\n",
              "      <td>7.0</td>\n",
              "    </tr>\n",
              "    <tr>\n",
              "      <th>nine</th>\n",
              "      <td>2004</td>\n",
              "      <td>NY</td>\n",
              "      <td>8.5</td>\n",
              "      <td>8.0</td>\n",
              "    </tr>\n",
              "  </tbody>\n",
              "</table>\n",
              "</div>\n",
              "      <button class=\"colab-df-convert\" onclick=\"convertToInteractive('df-c8f774cc-8b88-4e10-8a58-fdeae14b1aa0')\"\n",
              "              title=\"Convert this dataframe to an interactive table.\"\n",
              "              style=\"display:none;\">\n",
              "        \n",
              "  <svg xmlns=\"http://www.w3.org/2000/svg\" height=\"24px\"viewBox=\"0 0 24 24\"\n",
              "       width=\"24px\">\n",
              "    <path d=\"M0 0h24v24H0V0z\" fill=\"none\"/>\n",
              "    <path d=\"M18.56 5.44l.94 2.06.94-2.06 2.06-.94-2.06-.94-.94-2.06-.94 2.06-2.06.94zm-11 1L8.5 8.5l.94-2.06 2.06-.94-2.06-.94L8.5 2.5l-.94 2.06-2.06.94zm10 10l.94 2.06.94-2.06 2.06-.94-2.06-.94-.94-2.06-.94 2.06-2.06.94z\"/><path d=\"M17.41 7.96l-1.37-1.37c-.4-.4-.92-.59-1.43-.59-.52 0-1.04.2-1.43.59L10.3 9.45l-7.72 7.72c-.78.78-.78 2.05 0 2.83L4 21.41c.39.39.9.59 1.41.59.51 0 1.02-.2 1.41-.59l7.78-7.78 2.81-2.81c.8-.78.8-2.07 0-2.86zM5.41 20L4 18.59l7.72-7.72 1.47 1.35L5.41 20z\"/>\n",
              "  </svg>\n",
              "      </button>\n",
              "      \n",
              "  <style>\n",
              "    .colab-df-container {\n",
              "      display:flex;\n",
              "      flex-wrap:wrap;\n",
              "      gap: 12px;\n",
              "    }\n",
              "\n",
              "    .colab-df-convert {\n",
              "      background-color: #E8F0FE;\n",
              "      border: none;\n",
              "      border-radius: 50%;\n",
              "      cursor: pointer;\n",
              "      display: none;\n",
              "      fill: #1967D2;\n",
              "      height: 32px;\n",
              "      padding: 0 0 0 0;\n",
              "      width: 32px;\n",
              "    }\n",
              "\n",
              "    .colab-df-convert:hover {\n",
              "      background-color: #E2EBFA;\n",
              "      box-shadow: 0px 1px 2px rgba(60, 64, 67, 0.3), 0px 1px 3px 1px rgba(60, 64, 67, 0.15);\n",
              "      fill: #174EA6;\n",
              "    }\n",
              "\n",
              "    [theme=dark] .colab-df-convert {\n",
              "      background-color: #3B4455;\n",
              "      fill: #D2E3FC;\n",
              "    }\n",
              "\n",
              "    [theme=dark] .colab-df-convert:hover {\n",
              "      background-color: #434B5C;\n",
              "      box-shadow: 0px 1px 3px 1px rgba(0, 0, 0, 0.15);\n",
              "      filter: drop-shadow(0px 1px 2px rgba(0, 0, 0, 0.3));\n",
              "      fill: #FFFFFF;\n",
              "    }\n",
              "  </style>\n",
              "\n",
              "      <script>\n",
              "        const buttonEl =\n",
              "          document.querySelector('#df-c8f774cc-8b88-4e10-8a58-fdeae14b1aa0 button.colab-df-convert');\n",
              "        buttonEl.style.display =\n",
              "          google.colab.kernel.accessAllowed ? 'block' : 'none';\n",
              "\n",
              "        async function convertToInteractive(key) {\n",
              "          const element = document.querySelector('#df-c8f774cc-8b88-4e10-8a58-fdeae14b1aa0');\n",
              "          const dataTable =\n",
              "            await google.colab.kernel.invokeFunction('convertToInteractive',\n",
              "                                                     [key], {});\n",
              "          if (!dataTable) return;\n",
              "\n",
              "          const docLinkHtml = 'Like what you see? Visit the ' +\n",
              "            '<a target=\"_blank\" href=https://colab.research.google.com/notebooks/data_table.ipynb>data table notebook</a>'\n",
              "            + ' to learn more about interactive tables.';\n",
              "          element.innerHTML = '';\n",
              "          dataTable['output_type'] = 'display_data';\n",
              "          await google.colab.output.renderOutput(dataTable, element);\n",
              "          const docLink = document.createElement('div');\n",
              "          docLink.innerHTML = docLinkHtml;\n",
              "          element.appendChild(docLink);\n",
              "        }\n",
              "      </script>\n",
              "    </div>\n",
              "  </div>\n",
              "  "
            ]
          },
          "metadata": {},
          "execution_count": 90
        }
      ]
    },
    {
      "cell_type": "markdown",
      "source": [
        "반면에 시리즈를 이용하여 특정 열의 값을 지정할 수 있으며, 이 때는 항목의 길이가 행의 개수와 동일할 필요가 없다. 다만, 지정된 행의 인덱스 값만 삽입되며 나머지는 `NaN`이 삽입된다."
      ],
      "metadata": {
        "id": "l1ZduZoK44kA"
      }
    },
    {
      "cell_type": "code",
      "source": [
        "val = pd.Series([-1.2, -1.5, -1.7, 2.2], index=['two', 'four', 'five', 'eleven'])\n",
        "val"
      ],
      "metadata": {
        "colab": {
          "base_uri": "https://localhost:8080/"
        },
        "id": "ZP4XVUZu5Ac_",
        "outputId": "afd45530-874c-46fa-eb1a-d2daa353bcf5"
      },
      "execution_count": 94,
      "outputs": [
        {
          "output_type": "execute_result",
          "data": {
            "text/plain": [
              "two      -1.2\n",
              "four     -1.5\n",
              "five     -1.7\n",
              "eleven    2.2\n",
              "dtype: float64"
            ]
          },
          "metadata": {},
          "execution_count": 94
        }
      ]
    },
    {
      "cell_type": "markdown",
      "source": [
        "위 시리즈를 이용하여 `'debt'` 열의 값을 업데이트하면 다음과 같다.\n",
        "\n",
        "- `'two'`, `'four'`, `'five'` 행은 지정된 값으로 업데이트\n",
        "- 나머지 인덱스의 값은 결측치로 처리됨.\n",
        "- `'eleven'`에 해당하는 값은 무시됨. 이유는 `frame2`의 인덱스로 포함되지 않기 때문"
      ],
      "metadata": {
        "id": "49BwR2K75QKc"
      }
    },
    {
      "cell_type": "code",
      "source": [
        "frame2['debt'] = val\n",
        "frame2"
      ],
      "metadata": {
        "colab": {
          "base_uri": "https://localhost:8080/",
          "height": 332
        },
        "id": "Zvi3o3GE5dpO",
        "outputId": "f41b9dba-675f-4121-f23b-b65fa78f29cd"
      },
      "execution_count": 95,
      "outputs": [
        {
          "output_type": "execute_result",
          "data": {
            "text/plain": [
              "       year   state  pop  debt\n",
              "one    2000    Ohio  1.5   NaN\n",
              "two    2001    Ohio  1.7  -1.2\n",
              "three  2002    Ohio  3.6   NaN\n",
              "four   2001  Nevada  2.4  -1.5\n",
              "five   2002  Nevada  2.9  -1.7\n",
              "six    2003  Nevada  3.2   NaN\n",
              "seven  2002      NY  8.3   NaN\n",
              "eight  2003      NY  8.4   NaN\n",
              "nine   2004      NY  8.5   NaN"
            ],
            "text/html": [
              "\n",
              "  <div id=\"df-93573d67-6045-4bba-94ff-205f2a40aa01\">\n",
              "    <div class=\"colab-df-container\">\n",
              "      <div>\n",
              "<style scoped>\n",
              "    .dataframe tbody tr th:only-of-type {\n",
              "        vertical-align: middle;\n",
              "    }\n",
              "\n",
              "    .dataframe tbody tr th {\n",
              "        vertical-align: top;\n",
              "    }\n",
              "\n",
              "    .dataframe thead th {\n",
              "        text-align: right;\n",
              "    }\n",
              "</style>\n",
              "<table border=\"1\" class=\"dataframe\">\n",
              "  <thead>\n",
              "    <tr style=\"text-align: right;\">\n",
              "      <th></th>\n",
              "      <th>year</th>\n",
              "      <th>state</th>\n",
              "      <th>pop</th>\n",
              "      <th>debt</th>\n",
              "    </tr>\n",
              "  </thead>\n",
              "  <tbody>\n",
              "    <tr>\n",
              "      <th>one</th>\n",
              "      <td>2000</td>\n",
              "      <td>Ohio</td>\n",
              "      <td>1.5</td>\n",
              "      <td>NaN</td>\n",
              "    </tr>\n",
              "    <tr>\n",
              "      <th>two</th>\n",
              "      <td>2001</td>\n",
              "      <td>Ohio</td>\n",
              "      <td>1.7</td>\n",
              "      <td>-1.2</td>\n",
              "    </tr>\n",
              "    <tr>\n",
              "      <th>three</th>\n",
              "      <td>2002</td>\n",
              "      <td>Ohio</td>\n",
              "      <td>3.6</td>\n",
              "      <td>NaN</td>\n",
              "    </tr>\n",
              "    <tr>\n",
              "      <th>four</th>\n",
              "      <td>2001</td>\n",
              "      <td>Nevada</td>\n",
              "      <td>2.4</td>\n",
              "      <td>-1.5</td>\n",
              "    </tr>\n",
              "    <tr>\n",
              "      <th>five</th>\n",
              "      <td>2002</td>\n",
              "      <td>Nevada</td>\n",
              "      <td>2.9</td>\n",
              "      <td>-1.7</td>\n",
              "    </tr>\n",
              "    <tr>\n",
              "      <th>six</th>\n",
              "      <td>2003</td>\n",
              "      <td>Nevada</td>\n",
              "      <td>3.2</td>\n",
              "      <td>NaN</td>\n",
              "    </tr>\n",
              "    <tr>\n",
              "      <th>seven</th>\n",
              "      <td>2002</td>\n",
              "      <td>NY</td>\n",
              "      <td>8.3</td>\n",
              "      <td>NaN</td>\n",
              "    </tr>\n",
              "    <tr>\n",
              "      <th>eight</th>\n",
              "      <td>2003</td>\n",
              "      <td>NY</td>\n",
              "      <td>8.4</td>\n",
              "      <td>NaN</td>\n",
              "    </tr>\n",
              "    <tr>\n",
              "      <th>nine</th>\n",
              "      <td>2004</td>\n",
              "      <td>NY</td>\n",
              "      <td>8.5</td>\n",
              "      <td>NaN</td>\n",
              "    </tr>\n",
              "  </tbody>\n",
              "</table>\n",
              "</div>\n",
              "      <button class=\"colab-df-convert\" onclick=\"convertToInteractive('df-93573d67-6045-4bba-94ff-205f2a40aa01')\"\n",
              "              title=\"Convert this dataframe to an interactive table.\"\n",
              "              style=\"display:none;\">\n",
              "        \n",
              "  <svg xmlns=\"http://www.w3.org/2000/svg\" height=\"24px\"viewBox=\"0 0 24 24\"\n",
              "       width=\"24px\">\n",
              "    <path d=\"M0 0h24v24H0V0z\" fill=\"none\"/>\n",
              "    <path d=\"M18.56 5.44l.94 2.06.94-2.06 2.06-.94-2.06-.94-.94-2.06-.94 2.06-2.06.94zm-11 1L8.5 8.5l.94-2.06 2.06-.94-2.06-.94L8.5 2.5l-.94 2.06-2.06.94zm10 10l.94 2.06.94-2.06 2.06-.94-2.06-.94-.94-2.06-.94 2.06-2.06.94z\"/><path d=\"M17.41 7.96l-1.37-1.37c-.4-.4-.92-.59-1.43-.59-.52 0-1.04.2-1.43.59L10.3 9.45l-7.72 7.72c-.78.78-.78 2.05 0 2.83L4 21.41c.39.39.9.59 1.41.59.51 0 1.02-.2 1.41-.59l7.78-7.78 2.81-2.81c.8-.78.8-2.07 0-2.86zM5.41 20L4 18.59l7.72-7.72 1.47 1.35L5.41 20z\"/>\n",
              "  </svg>\n",
              "      </button>\n",
              "      \n",
              "  <style>\n",
              "    .colab-df-container {\n",
              "      display:flex;\n",
              "      flex-wrap:wrap;\n",
              "      gap: 12px;\n",
              "    }\n",
              "\n",
              "    .colab-df-convert {\n",
              "      background-color: #E8F0FE;\n",
              "      border: none;\n",
              "      border-radius: 50%;\n",
              "      cursor: pointer;\n",
              "      display: none;\n",
              "      fill: #1967D2;\n",
              "      height: 32px;\n",
              "      padding: 0 0 0 0;\n",
              "      width: 32px;\n",
              "    }\n",
              "\n",
              "    .colab-df-convert:hover {\n",
              "      background-color: #E2EBFA;\n",
              "      box-shadow: 0px 1px 2px rgba(60, 64, 67, 0.3), 0px 1px 3px 1px rgba(60, 64, 67, 0.15);\n",
              "      fill: #174EA6;\n",
              "    }\n",
              "\n",
              "    [theme=dark] .colab-df-convert {\n",
              "      background-color: #3B4455;\n",
              "      fill: #D2E3FC;\n",
              "    }\n",
              "\n",
              "    [theme=dark] .colab-df-convert:hover {\n",
              "      background-color: #434B5C;\n",
              "      box-shadow: 0px 1px 3px 1px rgba(0, 0, 0, 0.15);\n",
              "      filter: drop-shadow(0px 1px 2px rgba(0, 0, 0, 0.3));\n",
              "      fill: #FFFFFF;\n",
              "    }\n",
              "  </style>\n",
              "\n",
              "      <script>\n",
              "        const buttonEl =\n",
              "          document.querySelector('#df-93573d67-6045-4bba-94ff-205f2a40aa01 button.colab-df-convert');\n",
              "        buttonEl.style.display =\n",
              "          google.colab.kernel.accessAllowed ? 'block' : 'none';\n",
              "\n",
              "        async function convertToInteractive(key) {\n",
              "          const element = document.querySelector('#df-93573d67-6045-4bba-94ff-205f2a40aa01');\n",
              "          const dataTable =\n",
              "            await google.colab.kernel.invokeFunction('convertToInteractive',\n",
              "                                                     [key], {});\n",
              "          if (!dataTable) return;\n",
              "\n",
              "          const docLinkHtml = 'Like what you see? Visit the ' +\n",
              "            '<a target=\"_blank\" href=https://colab.research.google.com/notebooks/data_table.ipynb>data table notebook</a>'\n",
              "            + ' to learn more about interactive tables.';\n",
              "          element.innerHTML = '';\n",
              "          dataTable['output_type'] = 'display_data';\n",
              "          await google.colab.output.renderOutput(dataTable, element);\n",
              "          const docLink = document.createElement('div');\n",
              "          docLink.innerHTML = docLinkHtml;\n",
              "          element.appendChild(docLink);\n",
              "        }\n",
              "      </script>\n",
              "    </div>\n",
              "  </div>\n",
              "  "
            ]
          },
          "metadata": {},
          "execution_count": 95
        }
      ]
    },
    {
      "cell_type": "markdown",
      "source": [
        "## 8.2.4. 데이터프레임 연산\n",
        "\n",
        "`in` 연산자\n",
        "\n",
        "인덱스와 열에 대한 특정 이름의 사용 여부는 `in` 연산자를 이용하여 확인한다."
      ],
      "metadata": {
        "id": "1rV_vtM45hCS"
      }
    },
    {
      "cell_type": "code",
      "source": [
        "frame2"
      ],
      "metadata": {
        "colab": {
          "base_uri": "https://localhost:8080/",
          "height": 332
        },
        "id": "VNrWO4Pu5nKt",
        "outputId": "0379ec06-967c-4c2e-c772-b13e66c0f4e2"
      },
      "execution_count": 96,
      "outputs": [
        {
          "output_type": "execute_result",
          "data": {
            "text/plain": [
              "       year   state  pop  debt\n",
              "one    2000    Ohio  1.5   NaN\n",
              "two    2001    Ohio  1.7  -1.2\n",
              "three  2002    Ohio  3.6   NaN\n",
              "four   2001  Nevada  2.4  -1.5\n",
              "five   2002  Nevada  2.9  -1.7\n",
              "six    2003  Nevada  3.2   NaN\n",
              "seven  2002      NY  8.3   NaN\n",
              "eight  2003      NY  8.4   NaN\n",
              "nine   2004      NY  8.5   NaN"
            ],
            "text/html": [
              "\n",
              "  <div id=\"df-1239d7e6-26ae-4503-87e8-a8dcea3dda52\">\n",
              "    <div class=\"colab-df-container\">\n",
              "      <div>\n",
              "<style scoped>\n",
              "    .dataframe tbody tr th:only-of-type {\n",
              "        vertical-align: middle;\n",
              "    }\n",
              "\n",
              "    .dataframe tbody tr th {\n",
              "        vertical-align: top;\n",
              "    }\n",
              "\n",
              "    .dataframe thead th {\n",
              "        text-align: right;\n",
              "    }\n",
              "</style>\n",
              "<table border=\"1\" class=\"dataframe\">\n",
              "  <thead>\n",
              "    <tr style=\"text-align: right;\">\n",
              "      <th></th>\n",
              "      <th>year</th>\n",
              "      <th>state</th>\n",
              "      <th>pop</th>\n",
              "      <th>debt</th>\n",
              "    </tr>\n",
              "  </thead>\n",
              "  <tbody>\n",
              "    <tr>\n",
              "      <th>one</th>\n",
              "      <td>2000</td>\n",
              "      <td>Ohio</td>\n",
              "      <td>1.5</td>\n",
              "      <td>NaN</td>\n",
              "    </tr>\n",
              "    <tr>\n",
              "      <th>two</th>\n",
              "      <td>2001</td>\n",
              "      <td>Ohio</td>\n",
              "      <td>1.7</td>\n",
              "      <td>-1.2</td>\n",
              "    </tr>\n",
              "    <tr>\n",
              "      <th>three</th>\n",
              "      <td>2002</td>\n",
              "      <td>Ohio</td>\n",
              "      <td>3.6</td>\n",
              "      <td>NaN</td>\n",
              "    </tr>\n",
              "    <tr>\n",
              "      <th>four</th>\n",
              "      <td>2001</td>\n",
              "      <td>Nevada</td>\n",
              "      <td>2.4</td>\n",
              "      <td>-1.5</td>\n",
              "    </tr>\n",
              "    <tr>\n",
              "      <th>five</th>\n",
              "      <td>2002</td>\n",
              "      <td>Nevada</td>\n",
              "      <td>2.9</td>\n",
              "      <td>-1.7</td>\n",
              "    </tr>\n",
              "    <tr>\n",
              "      <th>six</th>\n",
              "      <td>2003</td>\n",
              "      <td>Nevada</td>\n",
              "      <td>3.2</td>\n",
              "      <td>NaN</td>\n",
              "    </tr>\n",
              "    <tr>\n",
              "      <th>seven</th>\n",
              "      <td>2002</td>\n",
              "      <td>NY</td>\n",
              "      <td>8.3</td>\n",
              "      <td>NaN</td>\n",
              "    </tr>\n",
              "    <tr>\n",
              "      <th>eight</th>\n",
              "      <td>2003</td>\n",
              "      <td>NY</td>\n",
              "      <td>8.4</td>\n",
              "      <td>NaN</td>\n",
              "    </tr>\n",
              "    <tr>\n",
              "      <th>nine</th>\n",
              "      <td>2004</td>\n",
              "      <td>NY</td>\n",
              "      <td>8.5</td>\n",
              "      <td>NaN</td>\n",
              "    </tr>\n",
              "  </tbody>\n",
              "</table>\n",
              "</div>\n",
              "      <button class=\"colab-df-convert\" onclick=\"convertToInteractive('df-1239d7e6-26ae-4503-87e8-a8dcea3dda52')\"\n",
              "              title=\"Convert this dataframe to an interactive table.\"\n",
              "              style=\"display:none;\">\n",
              "        \n",
              "  <svg xmlns=\"http://www.w3.org/2000/svg\" height=\"24px\"viewBox=\"0 0 24 24\"\n",
              "       width=\"24px\">\n",
              "    <path d=\"M0 0h24v24H0V0z\" fill=\"none\"/>\n",
              "    <path d=\"M18.56 5.44l.94 2.06.94-2.06 2.06-.94-2.06-.94-.94-2.06-.94 2.06-2.06.94zm-11 1L8.5 8.5l.94-2.06 2.06-.94-2.06-.94L8.5 2.5l-.94 2.06-2.06.94zm10 10l.94 2.06.94-2.06 2.06-.94-2.06-.94-.94-2.06-.94 2.06-2.06.94z\"/><path d=\"M17.41 7.96l-1.37-1.37c-.4-.4-.92-.59-1.43-.59-.52 0-1.04.2-1.43.59L10.3 9.45l-7.72 7.72c-.78.78-.78 2.05 0 2.83L4 21.41c.39.39.9.59 1.41.59.51 0 1.02-.2 1.41-.59l7.78-7.78 2.81-2.81c.8-.78.8-2.07 0-2.86zM5.41 20L4 18.59l7.72-7.72 1.47 1.35L5.41 20z\"/>\n",
              "  </svg>\n",
              "      </button>\n",
              "      \n",
              "  <style>\n",
              "    .colab-df-container {\n",
              "      display:flex;\n",
              "      flex-wrap:wrap;\n",
              "      gap: 12px;\n",
              "    }\n",
              "\n",
              "    .colab-df-convert {\n",
              "      background-color: #E8F0FE;\n",
              "      border: none;\n",
              "      border-radius: 50%;\n",
              "      cursor: pointer;\n",
              "      display: none;\n",
              "      fill: #1967D2;\n",
              "      height: 32px;\n",
              "      padding: 0 0 0 0;\n",
              "      width: 32px;\n",
              "    }\n",
              "\n",
              "    .colab-df-convert:hover {\n",
              "      background-color: #E2EBFA;\n",
              "      box-shadow: 0px 1px 2px rgba(60, 64, 67, 0.3), 0px 1px 3px 1px rgba(60, 64, 67, 0.15);\n",
              "      fill: #174EA6;\n",
              "    }\n",
              "\n",
              "    [theme=dark] .colab-df-convert {\n",
              "      background-color: #3B4455;\n",
              "      fill: #D2E3FC;\n",
              "    }\n",
              "\n",
              "    [theme=dark] .colab-df-convert:hover {\n",
              "      background-color: #434B5C;\n",
              "      box-shadow: 0px 1px 3px 1px rgba(0, 0, 0, 0.15);\n",
              "      filter: drop-shadow(0px 1px 2px rgba(0, 0, 0, 0.3));\n",
              "      fill: #FFFFFF;\n",
              "    }\n",
              "  </style>\n",
              "\n",
              "      <script>\n",
              "        const buttonEl =\n",
              "          document.querySelector('#df-1239d7e6-26ae-4503-87e8-a8dcea3dda52 button.colab-df-convert');\n",
              "        buttonEl.style.display =\n",
              "          google.colab.kernel.accessAllowed ? 'block' : 'none';\n",
              "\n",
              "        async function convertToInteractive(key) {\n",
              "          const element = document.querySelector('#df-1239d7e6-26ae-4503-87e8-a8dcea3dda52');\n",
              "          const dataTable =\n",
              "            await google.colab.kernel.invokeFunction('convertToInteractive',\n",
              "                                                     [key], {});\n",
              "          if (!dataTable) return;\n",
              "\n",
              "          const docLinkHtml = 'Like what you see? Visit the ' +\n",
              "            '<a target=\"_blank\" href=https://colab.research.google.com/notebooks/data_table.ipynb>data table notebook</a>'\n",
              "            + ' to learn more about interactive tables.';\n",
              "          element.innerHTML = '';\n",
              "          dataTable['output_type'] = 'display_data';\n",
              "          await google.colab.output.renderOutput(dataTable, element);\n",
              "          const docLink = document.createElement('div');\n",
              "          docLink.innerHTML = docLinkHtml;\n",
              "          element.appendChild(docLink);\n",
              "        }\n",
              "      </script>\n",
              "    </div>\n",
              "  </div>\n",
              "  "
            ]
          },
          "metadata": {},
          "execution_count": 96
        }
      ]
    },
    {
      "cell_type": "code",
      "source": [
        "'year' in frame2.columns"
      ],
      "metadata": {
        "colab": {
          "base_uri": "https://localhost:8080/"
        },
        "id": "huo5w-Pc5oUH",
        "outputId": "ab0196db-42e0-486a-ca42-f7ba0ba8ff9e"
      },
      "execution_count": 97,
      "outputs": [
        {
          "output_type": "execute_result",
          "data": {
            "text/plain": [
              "True"
            ]
          },
          "metadata": {},
          "execution_count": 97
        }
      ]
    },
    {
      "cell_type": "code",
      "source": [
        "'ten' in frame2.index"
      ],
      "metadata": {
        "colab": {
          "base_uri": "https://localhost:8080/"
        },
        "id": "twu5vpeb5phR",
        "outputId": "d928fc32-2318-4447-a146-b2e8d34ea20e"
      },
      "execution_count": 98,
      "outputs": [
        {
          "output_type": "execute_result",
          "data": {
            "text/plain": [
              "False"
            ]
          },
          "metadata": {},
          "execution_count": 98
        }
      ]
    },
    {
      "cell_type": "markdown",
      "source": [
        "`head()` 메서드\n",
        "\n",
        "`head()` 메서드는 지정된 크기만큼의 행을 보여준다. 인자를 지정하지 않으면 처음 6개의 행을 보여준다."
      ],
      "metadata": {
        "id": "s_xULgHf5s_D"
      }
    },
    {
      "cell_type": "code",
      "source": [
        "frame2.head(3)"
      ],
      "metadata": {
        "colab": {
          "base_uri": "https://localhost:8080/",
          "height": 143
        },
        "id": "EZqBI_sD5zAm",
        "outputId": "e9631e00-d8b6-420c-c867-b67105c6a62e"
      },
      "execution_count": 101,
      "outputs": [
        {
          "output_type": "execute_result",
          "data": {
            "text/plain": [
              "       year state  pop  debt\n",
              "one    2000  Ohio  1.5   NaN\n",
              "two    2001  Ohio  1.7  -1.2\n",
              "three  2002  Ohio  3.6   NaN"
            ],
            "text/html": [
              "\n",
              "  <div id=\"df-0d782bfe-0e66-4d0f-bd84-783e92ee2a38\">\n",
              "    <div class=\"colab-df-container\">\n",
              "      <div>\n",
              "<style scoped>\n",
              "    .dataframe tbody tr th:only-of-type {\n",
              "        vertical-align: middle;\n",
              "    }\n",
              "\n",
              "    .dataframe tbody tr th {\n",
              "        vertical-align: top;\n",
              "    }\n",
              "\n",
              "    .dataframe thead th {\n",
              "        text-align: right;\n",
              "    }\n",
              "</style>\n",
              "<table border=\"1\" class=\"dataframe\">\n",
              "  <thead>\n",
              "    <tr style=\"text-align: right;\">\n",
              "      <th></th>\n",
              "      <th>year</th>\n",
              "      <th>state</th>\n",
              "      <th>pop</th>\n",
              "      <th>debt</th>\n",
              "    </tr>\n",
              "  </thead>\n",
              "  <tbody>\n",
              "    <tr>\n",
              "      <th>one</th>\n",
              "      <td>2000</td>\n",
              "      <td>Ohio</td>\n",
              "      <td>1.5</td>\n",
              "      <td>NaN</td>\n",
              "    </tr>\n",
              "    <tr>\n",
              "      <th>two</th>\n",
              "      <td>2001</td>\n",
              "      <td>Ohio</td>\n",
              "      <td>1.7</td>\n",
              "      <td>-1.2</td>\n",
              "    </tr>\n",
              "    <tr>\n",
              "      <th>three</th>\n",
              "      <td>2002</td>\n",
              "      <td>Ohio</td>\n",
              "      <td>3.6</td>\n",
              "      <td>NaN</td>\n",
              "    </tr>\n",
              "  </tbody>\n",
              "</table>\n",
              "</div>\n",
              "      <button class=\"colab-df-convert\" onclick=\"convertToInteractive('df-0d782bfe-0e66-4d0f-bd84-783e92ee2a38')\"\n",
              "              title=\"Convert this dataframe to an interactive table.\"\n",
              "              style=\"display:none;\">\n",
              "        \n",
              "  <svg xmlns=\"http://www.w3.org/2000/svg\" height=\"24px\"viewBox=\"0 0 24 24\"\n",
              "       width=\"24px\">\n",
              "    <path d=\"M0 0h24v24H0V0z\" fill=\"none\"/>\n",
              "    <path d=\"M18.56 5.44l.94 2.06.94-2.06 2.06-.94-2.06-.94-.94-2.06-.94 2.06-2.06.94zm-11 1L8.5 8.5l.94-2.06 2.06-.94-2.06-.94L8.5 2.5l-.94 2.06-2.06.94zm10 10l.94 2.06.94-2.06 2.06-.94-2.06-.94-.94-2.06-.94 2.06-2.06.94z\"/><path d=\"M17.41 7.96l-1.37-1.37c-.4-.4-.92-.59-1.43-.59-.52 0-1.04.2-1.43.59L10.3 9.45l-7.72 7.72c-.78.78-.78 2.05 0 2.83L4 21.41c.39.39.9.59 1.41.59.51 0 1.02-.2 1.41-.59l7.78-7.78 2.81-2.81c.8-.78.8-2.07 0-2.86zM5.41 20L4 18.59l7.72-7.72 1.47 1.35L5.41 20z\"/>\n",
              "  </svg>\n",
              "      </button>\n",
              "      \n",
              "  <style>\n",
              "    .colab-df-container {\n",
              "      display:flex;\n",
              "      flex-wrap:wrap;\n",
              "      gap: 12px;\n",
              "    }\n",
              "\n",
              "    .colab-df-convert {\n",
              "      background-color: #E8F0FE;\n",
              "      border: none;\n",
              "      border-radius: 50%;\n",
              "      cursor: pointer;\n",
              "      display: none;\n",
              "      fill: #1967D2;\n",
              "      height: 32px;\n",
              "      padding: 0 0 0 0;\n",
              "      width: 32px;\n",
              "    }\n",
              "\n",
              "    .colab-df-convert:hover {\n",
              "      background-color: #E2EBFA;\n",
              "      box-shadow: 0px 1px 2px rgba(60, 64, 67, 0.3), 0px 1px 3px 1px rgba(60, 64, 67, 0.15);\n",
              "      fill: #174EA6;\n",
              "    }\n",
              "\n",
              "    [theme=dark] .colab-df-convert {\n",
              "      background-color: #3B4455;\n",
              "      fill: #D2E3FC;\n",
              "    }\n",
              "\n",
              "    [theme=dark] .colab-df-convert:hover {\n",
              "      background-color: #434B5C;\n",
              "      box-shadow: 0px 1px 3px 1px rgba(0, 0, 0, 0.15);\n",
              "      filter: drop-shadow(0px 1px 2px rgba(0, 0, 0, 0.3));\n",
              "      fill: #FFFFFF;\n",
              "    }\n",
              "  </style>\n",
              "\n",
              "      <script>\n",
              "        const buttonEl =\n",
              "          document.querySelector('#df-0d782bfe-0e66-4d0f-bd84-783e92ee2a38 button.colab-df-convert');\n",
              "        buttonEl.style.display =\n",
              "          google.colab.kernel.accessAllowed ? 'block' : 'none';\n",
              "\n",
              "        async function convertToInteractive(key) {\n",
              "          const element = document.querySelector('#df-0d782bfe-0e66-4d0f-bd84-783e92ee2a38');\n",
              "          const dataTable =\n",
              "            await google.colab.kernel.invokeFunction('convertToInteractive',\n",
              "                                                     [key], {});\n",
              "          if (!dataTable) return;\n",
              "\n",
              "          const docLinkHtml = 'Like what you see? Visit the ' +\n",
              "            '<a target=\"_blank\" href=https://colab.research.google.com/notebooks/data_table.ipynb>data table notebook</a>'\n",
              "            + ' to learn more about interactive tables.';\n",
              "          element.innerHTML = '';\n",
              "          dataTable['output_type'] = 'display_data';\n",
              "          await google.colab.output.renderOutput(dataTable, element);\n",
              "          const docLink = document.createElement('div');\n",
              "          docLink.innerHTML = docLinkHtml;\n",
              "          element.appendChild(docLink);\n",
              "        }\n",
              "      </script>\n",
              "    </div>\n",
              "  </div>\n",
              "  "
            ]
          },
          "metadata": {},
          "execution_count": 101
        }
      ]
    },
    {
      "cell_type": "code",
      "source": [
        "frame2.head()"
      ],
      "metadata": {
        "colab": {
          "base_uri": "https://localhost:8080/",
          "height": 206
        },
        "id": "v-om4FoM5z4S",
        "outputId": "e2ead8fe-6921-4204-ed21-0b54f878aa85"
      },
      "execution_count": 100,
      "outputs": [
        {
          "output_type": "execute_result",
          "data": {
            "text/plain": [
              "       year   state  pop  debt\n",
              "one    2000    Ohio  1.5   NaN\n",
              "two    2001    Ohio  1.7  -1.2\n",
              "three  2002    Ohio  3.6   NaN\n",
              "four   2001  Nevada  2.4  -1.5\n",
              "five   2002  Nevada  2.9  -1.7"
            ],
            "text/html": [
              "\n",
              "  <div id=\"df-d7470aec-9a8e-45f4-bb85-dbb9bf3c47ed\">\n",
              "    <div class=\"colab-df-container\">\n",
              "      <div>\n",
              "<style scoped>\n",
              "    .dataframe tbody tr th:only-of-type {\n",
              "        vertical-align: middle;\n",
              "    }\n",
              "\n",
              "    .dataframe tbody tr th {\n",
              "        vertical-align: top;\n",
              "    }\n",
              "\n",
              "    .dataframe thead th {\n",
              "        text-align: right;\n",
              "    }\n",
              "</style>\n",
              "<table border=\"1\" class=\"dataframe\">\n",
              "  <thead>\n",
              "    <tr style=\"text-align: right;\">\n",
              "      <th></th>\n",
              "      <th>year</th>\n",
              "      <th>state</th>\n",
              "      <th>pop</th>\n",
              "      <th>debt</th>\n",
              "    </tr>\n",
              "  </thead>\n",
              "  <tbody>\n",
              "    <tr>\n",
              "      <th>one</th>\n",
              "      <td>2000</td>\n",
              "      <td>Ohio</td>\n",
              "      <td>1.5</td>\n",
              "      <td>NaN</td>\n",
              "    </tr>\n",
              "    <tr>\n",
              "      <th>two</th>\n",
              "      <td>2001</td>\n",
              "      <td>Ohio</td>\n",
              "      <td>1.7</td>\n",
              "      <td>-1.2</td>\n",
              "    </tr>\n",
              "    <tr>\n",
              "      <th>three</th>\n",
              "      <td>2002</td>\n",
              "      <td>Ohio</td>\n",
              "      <td>3.6</td>\n",
              "      <td>NaN</td>\n",
              "    </tr>\n",
              "    <tr>\n",
              "      <th>four</th>\n",
              "      <td>2001</td>\n",
              "      <td>Nevada</td>\n",
              "      <td>2.4</td>\n",
              "      <td>-1.5</td>\n",
              "    </tr>\n",
              "    <tr>\n",
              "      <th>five</th>\n",
              "      <td>2002</td>\n",
              "      <td>Nevada</td>\n",
              "      <td>2.9</td>\n",
              "      <td>-1.7</td>\n",
              "    </tr>\n",
              "  </tbody>\n",
              "</table>\n",
              "</div>\n",
              "      <button class=\"colab-df-convert\" onclick=\"convertToInteractive('df-d7470aec-9a8e-45f4-bb85-dbb9bf3c47ed')\"\n",
              "              title=\"Convert this dataframe to an interactive table.\"\n",
              "              style=\"display:none;\">\n",
              "        \n",
              "  <svg xmlns=\"http://www.w3.org/2000/svg\" height=\"24px\"viewBox=\"0 0 24 24\"\n",
              "       width=\"24px\">\n",
              "    <path d=\"M0 0h24v24H0V0z\" fill=\"none\"/>\n",
              "    <path d=\"M18.56 5.44l.94 2.06.94-2.06 2.06-.94-2.06-.94-.94-2.06-.94 2.06-2.06.94zm-11 1L8.5 8.5l.94-2.06 2.06-.94-2.06-.94L8.5 2.5l-.94 2.06-2.06.94zm10 10l.94 2.06.94-2.06 2.06-.94-2.06-.94-.94-2.06-.94 2.06-2.06.94z\"/><path d=\"M17.41 7.96l-1.37-1.37c-.4-.4-.92-.59-1.43-.59-.52 0-1.04.2-1.43.59L10.3 9.45l-7.72 7.72c-.78.78-.78 2.05 0 2.83L4 21.41c.39.39.9.59 1.41.59.51 0 1.02-.2 1.41-.59l7.78-7.78 2.81-2.81c.8-.78.8-2.07 0-2.86zM5.41 20L4 18.59l7.72-7.72 1.47 1.35L5.41 20z\"/>\n",
              "  </svg>\n",
              "      </button>\n",
              "      \n",
              "  <style>\n",
              "    .colab-df-container {\n",
              "      display:flex;\n",
              "      flex-wrap:wrap;\n",
              "      gap: 12px;\n",
              "    }\n",
              "\n",
              "    .colab-df-convert {\n",
              "      background-color: #E8F0FE;\n",
              "      border: none;\n",
              "      border-radius: 50%;\n",
              "      cursor: pointer;\n",
              "      display: none;\n",
              "      fill: #1967D2;\n",
              "      height: 32px;\n",
              "      padding: 0 0 0 0;\n",
              "      width: 32px;\n",
              "    }\n",
              "\n",
              "    .colab-df-convert:hover {\n",
              "      background-color: #E2EBFA;\n",
              "      box-shadow: 0px 1px 2px rgba(60, 64, 67, 0.3), 0px 1px 3px 1px rgba(60, 64, 67, 0.15);\n",
              "      fill: #174EA6;\n",
              "    }\n",
              "\n",
              "    [theme=dark] .colab-df-convert {\n",
              "      background-color: #3B4455;\n",
              "      fill: #D2E3FC;\n",
              "    }\n",
              "\n",
              "    [theme=dark] .colab-df-convert:hover {\n",
              "      background-color: #434B5C;\n",
              "      box-shadow: 0px 1px 3px 1px rgba(0, 0, 0, 0.15);\n",
              "      filter: drop-shadow(0px 1px 2px rgba(0, 0, 0, 0.3));\n",
              "      fill: #FFFFFF;\n",
              "    }\n",
              "  </style>\n",
              "\n",
              "      <script>\n",
              "        const buttonEl =\n",
              "          document.querySelector('#df-d7470aec-9a8e-45f4-bb85-dbb9bf3c47ed button.colab-df-convert');\n",
              "        buttonEl.style.display =\n",
              "          google.colab.kernel.accessAllowed ? 'block' : 'none';\n",
              "\n",
              "        async function convertToInteractive(key) {\n",
              "          const element = document.querySelector('#df-d7470aec-9a8e-45f4-bb85-dbb9bf3c47ed');\n",
              "          const dataTable =\n",
              "            await google.colab.kernel.invokeFunction('convertToInteractive',\n",
              "                                                     [key], {});\n",
              "          if (!dataTable) return;\n",
              "\n",
              "          const docLinkHtml = 'Like what you see? Visit the ' +\n",
              "            '<a target=\"_blank\" href=https://colab.research.google.com/notebooks/data_table.ipynb>data table notebook</a>'\n",
              "            + ' to learn more about interactive tables.';\n",
              "          element.innerHTML = '';\n",
              "          dataTable['output_type'] = 'display_data';\n",
              "          await google.colab.output.renderOutput(dataTable, element);\n",
              "          const docLink = document.createElement('div');\n",
              "          docLink.innerHTML = docLinkHtml;\n",
              "          element.appendChild(docLink);\n",
              "        }\n",
              "      </script>\n",
              "    </div>\n",
              "  </div>\n",
              "  "
            ]
          },
          "metadata": {},
          "execution_count": 100
        }
      ]
    },
    {
      "cell_type": "markdown",
      "source": [
        "`tail()` 메서드\n",
        "\n",
        "`tail()` 메서드는 지정된 크기만큼의 행을 뒤에서부터 보여준다. 인자를 지정하지 않으면 뒤에서부터 5개의 행을 보여준다."
      ],
      "metadata": {
        "id": "RI3eDMaM53Cn"
      }
    },
    {
      "cell_type": "code",
      "source": [
        "frame2.tail(3)"
      ],
      "metadata": {
        "colab": {
          "base_uri": "https://localhost:8080/",
          "height": 143
        },
        "id": "wTcKcXn95-a7",
        "outputId": "50f9c783-ede4-4ce5-9a87-5cf091c6a27f"
      },
      "execution_count": 102,
      "outputs": [
        {
          "output_type": "execute_result",
          "data": {
            "text/plain": [
              "       year state  pop  debt\n",
              "seven  2002    NY  8.3   NaN\n",
              "eight  2003    NY  8.4   NaN\n",
              "nine   2004    NY  8.5   NaN"
            ],
            "text/html": [
              "\n",
              "  <div id=\"df-f64f8f29-6a62-49f6-839f-b98421417c35\">\n",
              "    <div class=\"colab-df-container\">\n",
              "      <div>\n",
              "<style scoped>\n",
              "    .dataframe tbody tr th:only-of-type {\n",
              "        vertical-align: middle;\n",
              "    }\n",
              "\n",
              "    .dataframe tbody tr th {\n",
              "        vertical-align: top;\n",
              "    }\n",
              "\n",
              "    .dataframe thead th {\n",
              "        text-align: right;\n",
              "    }\n",
              "</style>\n",
              "<table border=\"1\" class=\"dataframe\">\n",
              "  <thead>\n",
              "    <tr style=\"text-align: right;\">\n",
              "      <th></th>\n",
              "      <th>year</th>\n",
              "      <th>state</th>\n",
              "      <th>pop</th>\n",
              "      <th>debt</th>\n",
              "    </tr>\n",
              "  </thead>\n",
              "  <tbody>\n",
              "    <tr>\n",
              "      <th>seven</th>\n",
              "      <td>2002</td>\n",
              "      <td>NY</td>\n",
              "      <td>8.3</td>\n",
              "      <td>NaN</td>\n",
              "    </tr>\n",
              "    <tr>\n",
              "      <th>eight</th>\n",
              "      <td>2003</td>\n",
              "      <td>NY</td>\n",
              "      <td>8.4</td>\n",
              "      <td>NaN</td>\n",
              "    </tr>\n",
              "    <tr>\n",
              "      <th>nine</th>\n",
              "      <td>2004</td>\n",
              "      <td>NY</td>\n",
              "      <td>8.5</td>\n",
              "      <td>NaN</td>\n",
              "    </tr>\n",
              "  </tbody>\n",
              "</table>\n",
              "</div>\n",
              "      <button class=\"colab-df-convert\" onclick=\"convertToInteractive('df-f64f8f29-6a62-49f6-839f-b98421417c35')\"\n",
              "              title=\"Convert this dataframe to an interactive table.\"\n",
              "              style=\"display:none;\">\n",
              "        \n",
              "  <svg xmlns=\"http://www.w3.org/2000/svg\" height=\"24px\"viewBox=\"0 0 24 24\"\n",
              "       width=\"24px\">\n",
              "    <path d=\"M0 0h24v24H0V0z\" fill=\"none\"/>\n",
              "    <path d=\"M18.56 5.44l.94 2.06.94-2.06 2.06-.94-2.06-.94-.94-2.06-.94 2.06-2.06.94zm-11 1L8.5 8.5l.94-2.06 2.06-.94-2.06-.94L8.5 2.5l-.94 2.06-2.06.94zm10 10l.94 2.06.94-2.06 2.06-.94-2.06-.94-.94-2.06-.94 2.06-2.06.94z\"/><path d=\"M17.41 7.96l-1.37-1.37c-.4-.4-.92-.59-1.43-.59-.52 0-1.04.2-1.43.59L10.3 9.45l-7.72 7.72c-.78.78-.78 2.05 0 2.83L4 21.41c.39.39.9.59 1.41.59.51 0 1.02-.2 1.41-.59l7.78-7.78 2.81-2.81c.8-.78.8-2.07 0-2.86zM5.41 20L4 18.59l7.72-7.72 1.47 1.35L5.41 20z\"/>\n",
              "  </svg>\n",
              "      </button>\n",
              "      \n",
              "  <style>\n",
              "    .colab-df-container {\n",
              "      display:flex;\n",
              "      flex-wrap:wrap;\n",
              "      gap: 12px;\n",
              "    }\n",
              "\n",
              "    .colab-df-convert {\n",
              "      background-color: #E8F0FE;\n",
              "      border: none;\n",
              "      border-radius: 50%;\n",
              "      cursor: pointer;\n",
              "      display: none;\n",
              "      fill: #1967D2;\n",
              "      height: 32px;\n",
              "      padding: 0 0 0 0;\n",
              "      width: 32px;\n",
              "    }\n",
              "\n",
              "    .colab-df-convert:hover {\n",
              "      background-color: #E2EBFA;\n",
              "      box-shadow: 0px 1px 2px rgba(60, 64, 67, 0.3), 0px 1px 3px 1px rgba(60, 64, 67, 0.15);\n",
              "      fill: #174EA6;\n",
              "    }\n",
              "\n",
              "    [theme=dark] .colab-df-convert {\n",
              "      background-color: #3B4455;\n",
              "      fill: #D2E3FC;\n",
              "    }\n",
              "\n",
              "    [theme=dark] .colab-df-convert:hover {\n",
              "      background-color: #434B5C;\n",
              "      box-shadow: 0px 1px 3px 1px rgba(0, 0, 0, 0.15);\n",
              "      filter: drop-shadow(0px 1px 2px rgba(0, 0, 0, 0.3));\n",
              "      fill: #FFFFFF;\n",
              "    }\n",
              "  </style>\n",
              "\n",
              "      <script>\n",
              "        const buttonEl =\n",
              "          document.querySelector('#df-f64f8f29-6a62-49f6-839f-b98421417c35 button.colab-df-convert');\n",
              "        buttonEl.style.display =\n",
              "          google.colab.kernel.accessAllowed ? 'block' : 'none';\n",
              "\n",
              "        async function convertToInteractive(key) {\n",
              "          const element = document.querySelector('#df-f64f8f29-6a62-49f6-839f-b98421417c35');\n",
              "          const dataTable =\n",
              "            await google.colab.kernel.invokeFunction('convertToInteractive',\n",
              "                                                     [key], {});\n",
              "          if (!dataTable) return;\n",
              "\n",
              "          const docLinkHtml = 'Like what you see? Visit the ' +\n",
              "            '<a target=\"_blank\" href=https://colab.research.google.com/notebooks/data_table.ipynb>data table notebook</a>'\n",
              "            + ' to learn more about interactive tables.';\n",
              "          element.innerHTML = '';\n",
              "          dataTable['output_type'] = 'display_data';\n",
              "          await google.colab.output.renderOutput(dataTable, element);\n",
              "          const docLink = document.createElement('div');\n",
              "          docLink.innerHTML = docLinkHtml;\n",
              "          element.appendChild(docLink);\n",
              "        }\n",
              "      </script>\n",
              "    </div>\n",
              "  </div>\n",
              "  "
            ]
          },
          "metadata": {},
          "execution_count": 102
        }
      ]
    },
    {
      "cell_type": "code",
      "source": [
        "frame2.tail()"
      ],
      "metadata": {
        "colab": {
          "base_uri": "https://localhost:8080/",
          "height": 206
        },
        "id": "oMi7Sel-5_hy",
        "outputId": "05cf690b-5949-497b-93df-0de28098171d"
      },
      "execution_count": 103,
      "outputs": [
        {
          "output_type": "execute_result",
          "data": {
            "text/plain": [
              "       year   state  pop  debt\n",
              "five   2002  Nevada  2.9  -1.7\n",
              "six    2003  Nevada  3.2   NaN\n",
              "seven  2002      NY  8.3   NaN\n",
              "eight  2003      NY  8.4   NaN\n",
              "nine   2004      NY  8.5   NaN"
            ],
            "text/html": [
              "\n",
              "  <div id=\"df-728acbbd-6df0-4d31-83fd-c4b5b0d203fc\">\n",
              "    <div class=\"colab-df-container\">\n",
              "      <div>\n",
              "<style scoped>\n",
              "    .dataframe tbody tr th:only-of-type {\n",
              "        vertical-align: middle;\n",
              "    }\n",
              "\n",
              "    .dataframe tbody tr th {\n",
              "        vertical-align: top;\n",
              "    }\n",
              "\n",
              "    .dataframe thead th {\n",
              "        text-align: right;\n",
              "    }\n",
              "</style>\n",
              "<table border=\"1\" class=\"dataframe\">\n",
              "  <thead>\n",
              "    <tr style=\"text-align: right;\">\n",
              "      <th></th>\n",
              "      <th>year</th>\n",
              "      <th>state</th>\n",
              "      <th>pop</th>\n",
              "      <th>debt</th>\n",
              "    </tr>\n",
              "  </thead>\n",
              "  <tbody>\n",
              "    <tr>\n",
              "      <th>five</th>\n",
              "      <td>2002</td>\n",
              "      <td>Nevada</td>\n",
              "      <td>2.9</td>\n",
              "      <td>-1.7</td>\n",
              "    </tr>\n",
              "    <tr>\n",
              "      <th>six</th>\n",
              "      <td>2003</td>\n",
              "      <td>Nevada</td>\n",
              "      <td>3.2</td>\n",
              "      <td>NaN</td>\n",
              "    </tr>\n",
              "    <tr>\n",
              "      <th>seven</th>\n",
              "      <td>2002</td>\n",
              "      <td>NY</td>\n",
              "      <td>8.3</td>\n",
              "      <td>NaN</td>\n",
              "    </tr>\n",
              "    <tr>\n",
              "      <th>eight</th>\n",
              "      <td>2003</td>\n",
              "      <td>NY</td>\n",
              "      <td>8.4</td>\n",
              "      <td>NaN</td>\n",
              "    </tr>\n",
              "    <tr>\n",
              "      <th>nine</th>\n",
              "      <td>2004</td>\n",
              "      <td>NY</td>\n",
              "      <td>8.5</td>\n",
              "      <td>NaN</td>\n",
              "    </tr>\n",
              "  </tbody>\n",
              "</table>\n",
              "</div>\n",
              "      <button class=\"colab-df-convert\" onclick=\"convertToInteractive('df-728acbbd-6df0-4d31-83fd-c4b5b0d203fc')\"\n",
              "              title=\"Convert this dataframe to an interactive table.\"\n",
              "              style=\"display:none;\">\n",
              "        \n",
              "  <svg xmlns=\"http://www.w3.org/2000/svg\" height=\"24px\"viewBox=\"0 0 24 24\"\n",
              "       width=\"24px\">\n",
              "    <path d=\"M0 0h24v24H0V0z\" fill=\"none\"/>\n",
              "    <path d=\"M18.56 5.44l.94 2.06.94-2.06 2.06-.94-2.06-.94-.94-2.06-.94 2.06-2.06.94zm-11 1L8.5 8.5l.94-2.06 2.06-.94-2.06-.94L8.5 2.5l-.94 2.06-2.06.94zm10 10l.94 2.06.94-2.06 2.06-.94-2.06-.94-.94-2.06-.94 2.06-2.06.94z\"/><path d=\"M17.41 7.96l-1.37-1.37c-.4-.4-.92-.59-1.43-.59-.52 0-1.04.2-1.43.59L10.3 9.45l-7.72 7.72c-.78.78-.78 2.05 0 2.83L4 21.41c.39.39.9.59 1.41.59.51 0 1.02-.2 1.41-.59l7.78-7.78 2.81-2.81c.8-.78.8-2.07 0-2.86zM5.41 20L4 18.59l7.72-7.72 1.47 1.35L5.41 20z\"/>\n",
              "  </svg>\n",
              "      </button>\n",
              "      \n",
              "  <style>\n",
              "    .colab-df-container {\n",
              "      display:flex;\n",
              "      flex-wrap:wrap;\n",
              "      gap: 12px;\n",
              "    }\n",
              "\n",
              "    .colab-df-convert {\n",
              "      background-color: #E8F0FE;\n",
              "      border: none;\n",
              "      border-radius: 50%;\n",
              "      cursor: pointer;\n",
              "      display: none;\n",
              "      fill: #1967D2;\n",
              "      height: 32px;\n",
              "      padding: 0 0 0 0;\n",
              "      width: 32px;\n",
              "    }\n",
              "\n",
              "    .colab-df-convert:hover {\n",
              "      background-color: #E2EBFA;\n",
              "      box-shadow: 0px 1px 2px rgba(60, 64, 67, 0.3), 0px 1px 3px 1px rgba(60, 64, 67, 0.15);\n",
              "      fill: #174EA6;\n",
              "    }\n",
              "\n",
              "    [theme=dark] .colab-df-convert {\n",
              "      background-color: #3B4455;\n",
              "      fill: #D2E3FC;\n",
              "    }\n",
              "\n",
              "    [theme=dark] .colab-df-convert:hover {\n",
              "      background-color: #434B5C;\n",
              "      box-shadow: 0px 1px 3px 1px rgba(0, 0, 0, 0.15);\n",
              "      filter: drop-shadow(0px 1px 2px rgba(0, 0, 0, 0.3));\n",
              "      fill: #FFFFFF;\n",
              "    }\n",
              "  </style>\n",
              "\n",
              "      <script>\n",
              "        const buttonEl =\n",
              "          document.querySelector('#df-728acbbd-6df0-4d31-83fd-c4b5b0d203fc button.colab-df-convert');\n",
              "        buttonEl.style.display =\n",
              "          google.colab.kernel.accessAllowed ? 'block' : 'none';\n",
              "\n",
              "        async function convertToInteractive(key) {\n",
              "          const element = document.querySelector('#df-728acbbd-6df0-4d31-83fd-c4b5b0d203fc');\n",
              "          const dataTable =\n",
              "            await google.colab.kernel.invokeFunction('convertToInteractive',\n",
              "                                                     [key], {});\n",
              "          if (!dataTable) return;\n",
              "\n",
              "          const docLinkHtml = 'Like what you see? Visit the ' +\n",
              "            '<a target=\"_blank\" href=https://colab.research.google.com/notebooks/data_table.ipynb>data table notebook</a>'\n",
              "            + ' to learn more about interactive tables.';\n",
              "          element.innerHTML = '';\n",
              "          dataTable['output_type'] = 'display_data';\n",
              "          await google.colab.output.renderOutput(dataTable, element);\n",
              "          const docLink = document.createElement('div');\n",
              "          docLink.innerHTML = docLinkHtml;\n",
              "          element.appendChild(docLink);\n",
              "        }\n",
              "      </script>\n",
              "    </div>\n",
              "  </div>\n",
              "  "
            ]
          },
          "metadata": {},
          "execution_count": 103
        }
      ]
    },
    {
      "cell_type": "markdown",
      "source": [
        "**전치 데이터프레임**\n",
        "\n",
        "2차원 행렬의 전치 행렬처럼 전치 데이터프레임은 행과 열의 위치를 바꾼 결과이다. 당연히 행과 열에 사용된 이름이 적절하게 전치된다."
      ],
      "metadata": {
        "id": "fVquYgnc6BMC"
      }
    },
    {
      "cell_type": "code",
      "source": [
        "frame3"
      ],
      "metadata": {
        "colab": {
          "base_uri": "https://localhost:8080/",
          "height": 175
        },
        "id": "9aWe0Kip6IaV",
        "outputId": "07ab5206-5b14-4469-dda1-9efebe710bcb"
      },
      "execution_count": 104,
      "outputs": [
        {
          "output_type": "execute_result",
          "data": {
            "text/plain": [
              "state  Nevada  Ohio\n",
              "year               \n",
              "2001      2.4   1.7\n",
              "2002      2.9   3.6\n",
              "2000      NaN   1.5"
            ],
            "text/html": [
              "\n",
              "  <div id=\"df-1b28968c-5743-428e-b32b-42c7e00f28a9\">\n",
              "    <div class=\"colab-df-container\">\n",
              "      <div>\n",
              "<style scoped>\n",
              "    .dataframe tbody tr th:only-of-type {\n",
              "        vertical-align: middle;\n",
              "    }\n",
              "\n",
              "    .dataframe tbody tr th {\n",
              "        vertical-align: top;\n",
              "    }\n",
              "\n",
              "    .dataframe thead th {\n",
              "        text-align: right;\n",
              "    }\n",
              "</style>\n",
              "<table border=\"1\" class=\"dataframe\">\n",
              "  <thead>\n",
              "    <tr style=\"text-align: right;\">\n",
              "      <th>state</th>\n",
              "      <th>Nevada</th>\n",
              "      <th>Ohio</th>\n",
              "    </tr>\n",
              "    <tr>\n",
              "      <th>year</th>\n",
              "      <th></th>\n",
              "      <th></th>\n",
              "    </tr>\n",
              "  </thead>\n",
              "  <tbody>\n",
              "    <tr>\n",
              "      <th>2001</th>\n",
              "      <td>2.4</td>\n",
              "      <td>1.7</td>\n",
              "    </tr>\n",
              "    <tr>\n",
              "      <th>2002</th>\n",
              "      <td>2.9</td>\n",
              "      <td>3.6</td>\n",
              "    </tr>\n",
              "    <tr>\n",
              "      <th>2000</th>\n",
              "      <td>NaN</td>\n",
              "      <td>1.5</td>\n",
              "    </tr>\n",
              "  </tbody>\n",
              "</table>\n",
              "</div>\n",
              "      <button class=\"colab-df-convert\" onclick=\"convertToInteractive('df-1b28968c-5743-428e-b32b-42c7e00f28a9')\"\n",
              "              title=\"Convert this dataframe to an interactive table.\"\n",
              "              style=\"display:none;\">\n",
              "        \n",
              "  <svg xmlns=\"http://www.w3.org/2000/svg\" height=\"24px\"viewBox=\"0 0 24 24\"\n",
              "       width=\"24px\">\n",
              "    <path d=\"M0 0h24v24H0V0z\" fill=\"none\"/>\n",
              "    <path d=\"M18.56 5.44l.94 2.06.94-2.06 2.06-.94-2.06-.94-.94-2.06-.94 2.06-2.06.94zm-11 1L8.5 8.5l.94-2.06 2.06-.94-2.06-.94L8.5 2.5l-.94 2.06-2.06.94zm10 10l.94 2.06.94-2.06 2.06-.94-2.06-.94-.94-2.06-.94 2.06-2.06.94z\"/><path d=\"M17.41 7.96l-1.37-1.37c-.4-.4-.92-.59-1.43-.59-.52 0-1.04.2-1.43.59L10.3 9.45l-7.72 7.72c-.78.78-.78 2.05 0 2.83L4 21.41c.39.39.9.59 1.41.59.51 0 1.02-.2 1.41-.59l7.78-7.78 2.81-2.81c.8-.78.8-2.07 0-2.86zM5.41 20L4 18.59l7.72-7.72 1.47 1.35L5.41 20z\"/>\n",
              "  </svg>\n",
              "      </button>\n",
              "      \n",
              "  <style>\n",
              "    .colab-df-container {\n",
              "      display:flex;\n",
              "      flex-wrap:wrap;\n",
              "      gap: 12px;\n",
              "    }\n",
              "\n",
              "    .colab-df-convert {\n",
              "      background-color: #E8F0FE;\n",
              "      border: none;\n",
              "      border-radius: 50%;\n",
              "      cursor: pointer;\n",
              "      display: none;\n",
              "      fill: #1967D2;\n",
              "      height: 32px;\n",
              "      padding: 0 0 0 0;\n",
              "      width: 32px;\n",
              "    }\n",
              "\n",
              "    .colab-df-convert:hover {\n",
              "      background-color: #E2EBFA;\n",
              "      box-shadow: 0px 1px 2px rgba(60, 64, 67, 0.3), 0px 1px 3px 1px rgba(60, 64, 67, 0.15);\n",
              "      fill: #174EA6;\n",
              "    }\n",
              "\n",
              "    [theme=dark] .colab-df-convert {\n",
              "      background-color: #3B4455;\n",
              "      fill: #D2E3FC;\n",
              "    }\n",
              "\n",
              "    [theme=dark] .colab-df-convert:hover {\n",
              "      background-color: #434B5C;\n",
              "      box-shadow: 0px 1px 3px 1px rgba(0, 0, 0, 0.15);\n",
              "      filter: drop-shadow(0px 1px 2px rgba(0, 0, 0, 0.3));\n",
              "      fill: #FFFFFF;\n",
              "    }\n",
              "  </style>\n",
              "\n",
              "      <script>\n",
              "        const buttonEl =\n",
              "          document.querySelector('#df-1b28968c-5743-428e-b32b-42c7e00f28a9 button.colab-df-convert');\n",
              "        buttonEl.style.display =\n",
              "          google.colab.kernel.accessAllowed ? 'block' : 'none';\n",
              "\n",
              "        async function convertToInteractive(key) {\n",
              "          const element = document.querySelector('#df-1b28968c-5743-428e-b32b-42c7e00f28a9');\n",
              "          const dataTable =\n",
              "            await google.colab.kernel.invokeFunction('convertToInteractive',\n",
              "                                                     [key], {});\n",
              "          if (!dataTable) return;\n",
              "\n",
              "          const docLinkHtml = 'Like what you see? Visit the ' +\n",
              "            '<a target=\"_blank\" href=https://colab.research.google.com/notebooks/data_table.ipynb>data table notebook</a>'\n",
              "            + ' to learn more about interactive tables.';\n",
              "          element.innerHTML = '';\n",
              "          dataTable['output_type'] = 'display_data';\n",
              "          await google.colab.output.renderOutput(dataTable, element);\n",
              "          const docLink = document.createElement('div');\n",
              "          docLink.innerHTML = docLinkHtml;\n",
              "          element.appendChild(docLink);\n",
              "        }\n",
              "      </script>\n",
              "    </div>\n",
              "  </div>\n",
              "  "
            ]
          },
          "metadata": {},
          "execution_count": 104
        }
      ]
    },
    {
      "cell_type": "code",
      "source": [
        "frame3.T"
      ],
      "metadata": {
        "colab": {
          "base_uri": "https://localhost:8080/",
          "height": 143
        },
        "id": "N5643E1N6I_u",
        "outputId": "ee4e644e-ff57-49ae-9134-5526075a4cd0"
      },
      "execution_count": 105,
      "outputs": [
        {
          "output_type": "execute_result",
          "data": {
            "text/plain": [
              "year    2001  2002  2000\n",
              "state                   \n",
              "Nevada   2.4   2.9   NaN\n",
              "Ohio     1.7   3.6   1.5"
            ],
            "text/html": [
              "\n",
              "  <div id=\"df-91d96d2a-6f40-4ad0-93e7-f614bccd8e95\">\n",
              "    <div class=\"colab-df-container\">\n",
              "      <div>\n",
              "<style scoped>\n",
              "    .dataframe tbody tr th:only-of-type {\n",
              "        vertical-align: middle;\n",
              "    }\n",
              "\n",
              "    .dataframe tbody tr th {\n",
              "        vertical-align: top;\n",
              "    }\n",
              "\n",
              "    .dataframe thead th {\n",
              "        text-align: right;\n",
              "    }\n",
              "</style>\n",
              "<table border=\"1\" class=\"dataframe\">\n",
              "  <thead>\n",
              "    <tr style=\"text-align: right;\">\n",
              "      <th>year</th>\n",
              "      <th>2001</th>\n",
              "      <th>2002</th>\n",
              "      <th>2000</th>\n",
              "    </tr>\n",
              "    <tr>\n",
              "      <th>state</th>\n",
              "      <th></th>\n",
              "      <th></th>\n",
              "      <th></th>\n",
              "    </tr>\n",
              "  </thead>\n",
              "  <tbody>\n",
              "    <tr>\n",
              "      <th>Nevada</th>\n",
              "      <td>2.4</td>\n",
              "      <td>2.9</td>\n",
              "      <td>NaN</td>\n",
              "    </tr>\n",
              "    <tr>\n",
              "      <th>Ohio</th>\n",
              "      <td>1.7</td>\n",
              "      <td>3.6</td>\n",
              "      <td>1.5</td>\n",
              "    </tr>\n",
              "  </tbody>\n",
              "</table>\n",
              "</div>\n",
              "      <button class=\"colab-df-convert\" onclick=\"convertToInteractive('df-91d96d2a-6f40-4ad0-93e7-f614bccd8e95')\"\n",
              "              title=\"Convert this dataframe to an interactive table.\"\n",
              "              style=\"display:none;\">\n",
              "        \n",
              "  <svg xmlns=\"http://www.w3.org/2000/svg\" height=\"24px\"viewBox=\"0 0 24 24\"\n",
              "       width=\"24px\">\n",
              "    <path d=\"M0 0h24v24H0V0z\" fill=\"none\"/>\n",
              "    <path d=\"M18.56 5.44l.94 2.06.94-2.06 2.06-.94-2.06-.94-.94-2.06-.94 2.06-2.06.94zm-11 1L8.5 8.5l.94-2.06 2.06-.94-2.06-.94L8.5 2.5l-.94 2.06-2.06.94zm10 10l.94 2.06.94-2.06 2.06-.94-2.06-.94-.94-2.06-.94 2.06-2.06.94z\"/><path d=\"M17.41 7.96l-1.37-1.37c-.4-.4-.92-.59-1.43-.59-.52 0-1.04.2-1.43.59L10.3 9.45l-7.72 7.72c-.78.78-.78 2.05 0 2.83L4 21.41c.39.39.9.59 1.41.59.51 0 1.02-.2 1.41-.59l7.78-7.78 2.81-2.81c.8-.78.8-2.07 0-2.86zM5.41 20L4 18.59l7.72-7.72 1.47 1.35L5.41 20z\"/>\n",
              "  </svg>\n",
              "      </button>\n",
              "      \n",
              "  <style>\n",
              "    .colab-df-container {\n",
              "      display:flex;\n",
              "      flex-wrap:wrap;\n",
              "      gap: 12px;\n",
              "    }\n",
              "\n",
              "    .colab-df-convert {\n",
              "      background-color: #E8F0FE;\n",
              "      border: none;\n",
              "      border-radius: 50%;\n",
              "      cursor: pointer;\n",
              "      display: none;\n",
              "      fill: #1967D2;\n",
              "      height: 32px;\n",
              "      padding: 0 0 0 0;\n",
              "      width: 32px;\n",
              "    }\n",
              "\n",
              "    .colab-df-convert:hover {\n",
              "      background-color: #E2EBFA;\n",
              "      box-shadow: 0px 1px 2px rgba(60, 64, 67, 0.3), 0px 1px 3px 1px rgba(60, 64, 67, 0.15);\n",
              "      fill: #174EA6;\n",
              "    }\n",
              "\n",
              "    [theme=dark] .colab-df-convert {\n",
              "      background-color: #3B4455;\n",
              "      fill: #D2E3FC;\n",
              "    }\n",
              "\n",
              "    [theme=dark] .colab-df-convert:hover {\n",
              "      background-color: #434B5C;\n",
              "      box-shadow: 0px 1px 3px 1px rgba(0, 0, 0, 0.15);\n",
              "      filter: drop-shadow(0px 1px 2px rgba(0, 0, 0, 0.3));\n",
              "      fill: #FFFFFF;\n",
              "    }\n",
              "  </style>\n",
              "\n",
              "      <script>\n",
              "        const buttonEl =\n",
              "          document.querySelector('#df-91d96d2a-6f40-4ad0-93e7-f614bccd8e95 button.colab-df-convert');\n",
              "        buttonEl.style.display =\n",
              "          google.colab.kernel.accessAllowed ? 'block' : 'none';\n",
              "\n",
              "        async function convertToInteractive(key) {\n",
              "          const element = document.querySelector('#df-91d96d2a-6f40-4ad0-93e7-f614bccd8e95');\n",
              "          const dataTable =\n",
              "            await google.colab.kernel.invokeFunction('convertToInteractive',\n",
              "                                                     [key], {});\n",
              "          if (!dataTable) return;\n",
              "\n",
              "          const docLinkHtml = 'Like what you see? Visit the ' +\n",
              "            '<a target=\"_blank\" href=https://colab.research.google.com/notebooks/data_table.ipynb>data table notebook</a>'\n",
              "            + ' to learn more about interactive tables.';\n",
              "          element.innerHTML = '';\n",
              "          dataTable['output_type'] = 'display_data';\n",
              "          await google.colab.output.renderOutput(dataTable, element);\n",
              "          const docLink = document.createElement('div');\n",
              "          docLink.innerHTML = docLinkHtml;\n",
              "          element.appendChild(docLink);\n",
              "        }\n",
              "      </script>\n",
              "    </div>\n",
              "  </div>\n",
              "  "
            ]
          },
          "metadata": {},
          "execution_count": 105
        }
      ]
    }
  ]
}