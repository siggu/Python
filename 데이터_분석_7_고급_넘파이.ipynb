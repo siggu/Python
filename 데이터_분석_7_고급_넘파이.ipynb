{
  "nbformat": 4,
  "nbformat_minor": 0,
  "metadata": {
    "colab": {
      "name": "데이터 분석_7. 고급 넘파이.ipynb",
      "provenance": [],
      "collapsed_sections": [],
      "authorship_tag": "ABX9TyOFA8NuZ4iooCVs6SDnk7VK",
      "include_colab_link": true
    },
    "kernelspec": {
      "name": "python3",
      "display_name": "Python 3"
    },
    "language_info": {
      "name": "python"
    }
  },
  "cells": [
    {
      "cell_type": "markdown",
      "metadata": {
        "id": "view-in-github",
        "colab_type": "text"
      },
      "source": [
        "<a href=\"https://colab.research.google.com/github/siggu/Python/blob/main/%EB%8D%B0%EC%9D%B4%ED%84%B0_%EB%B6%84%EC%84%9D_7_%EA%B3%A0%EA%B8%89_%EB%84%98%ED%8C%8C%EC%9D%B4.ipynb\" target=\"_parent\"><img src=\"https://colab.research.google.com/assets/colab-badge.svg\" alt=\"Open In Colab\"/></a>"
      ]
    },
    {
      "cell_type": "markdown",
      "source": [
        "# 7.1 고급 넘파이\n",
        "넘파이 어레이를 조작하는 고급 기능 일부를 예제를 이용하여 살펴본다."
      ],
      "metadata": {
        "id": "2s2lj2Sm9so9"
      }
    },
    {
      "cell_type": "code",
      "execution_count": 1,
      "metadata": {
        "id": "J0NP2ojQ9dpH"
      },
      "outputs": [],
      "source": [
        "# 넘파이\n",
        "import numpy as np\n",
        "# 램덤 시드\n",
        "np.random.seed(12345)\n",
        "# 어레이 사용되는 부동소수점들의 정확도 지정\n",
        "np.set_printoptions(precision=4, suppress=True)\n",
        "\n",
        "# 파이플롯\n",
        "import matplotlib.pyplot as plt\n",
        "# 도표 크기 지정\n",
        "plt.rc('figure', figsize=(10, 6))"
      ]
    },
    {
      "cell_type": "markdown",
      "source": [
        "# 7.1 어레이 조작 고급 기법\n",
        "\n",
        "## 7.1.1. 어레이 모양 변형\n",
        "\n",
        "`reshape()` 메서드\n",
        "\n",
        "`reshape()` 메서드를 활용하여 지정된 튜플의 모양으로 주어진 어레이의 모양을 변형한다. 단, 항목의 수가 변하지 않도록 모양을 지정해야 한다.\n",
        "\n",
        "예를 들어, 길이가 8인 1차원 어레이가 다음과 같다."
      ],
      "metadata": {
        "id": "to7ahJpWqiUy"
      }
    },
    {
      "cell_type": "code",
      "source": [
        "arr = np.arange(8)\n",
        "\n",
        "arr"
      ],
      "metadata": {
        "colab": {
          "base_uri": "https://localhost:8080/"
        },
        "id": "DcoetFacqnML",
        "outputId": "3304d76b-9815-45cd-fb11-23abac2d8777"
      },
      "execution_count": 4,
      "outputs": [
        {
          "output_type": "execute_result",
          "data": {
            "text/plain": [
              "array([0, 1, 2, 3, 4, 5, 6, 7])"
            ]
          },
          "metadata": {},
          "execution_count": 4
        }
      ]
    },
    {
      "cell_type": "markdown",
      "source": [
        "이제 (4, 2) 모양의 2차원 어레이로 모양을 변형할 수 있다."
      ],
      "metadata": {
        "id": "5DEW17c4rbcH"
      }
    },
    {
      "cell_type": "code",
      "source": [
        "arr.reshape((4,2))"
      ],
      "metadata": {
        "colab": {
          "base_uri": "https://localhost:8080/"
        },
        "id": "SSKv2m4tremb",
        "outputId": "e09cc451-93e6-4443-caf1-78e7af906491"
      },
      "execution_count": 5,
      "outputs": [
        {
          "output_type": "execute_result",
          "data": {
            "text/plain": [
              "array([[0, 1],\n",
              "       [2, 3],\n",
              "       [4, 5],\n",
              "       [6, 7]])"
            ]
          },
          "metadata": {},
          "execution_count": 5
        }
      ]
    },
    {
      "cell_type": "markdown",
      "source": [
        "항목의 수만 같으면 임의의 차원의 어레이를 임의의 차원의 어레이로 변형시킬 수 있다."
      ],
      "metadata": {
        "id": "HUBflgQqrhSb"
      }
    },
    {
      "cell_type": "code",
      "source": [
        "arr.reshape((4,2)).reshape((2,2,2))"
      ],
      "metadata": {
        "colab": {
          "base_uri": "https://localhost:8080/"
        },
        "id": "peG_6LcWrk2U",
        "outputId": "d5a33cfe-62be-4fce-9d95-c7a1cbb306cd"
      },
      "execution_count": 7,
      "outputs": [
        {
          "output_type": "execute_result",
          "data": {
            "text/plain": [
              "array([[[0, 1],\n",
              "        [2, 3]],\n",
              "\n",
              "       [[4, 5],\n",
              "        [6, 7]]])"
            ]
          },
          "metadata": {},
          "execution_count": 7
        }
      ]
    },
    {
      "cell_type": "markdown",
      "source": [
        "`-1`의 역할\n",
        "\n",
        "어레이의 모양을 지정할 때 튜플의 특정 위치에 -1을 사용할 수 있다. 그러면 그 위치의 값은 튜플의 다른 항목의 정보를 이용하여 자동으로 지정된다. 예를 들어, 아래 코드에서 -1은 4를 의미한다. 이유는 20개의 항목을 5개의 행으로 이루어진 2차원 어레이로 지정하려면 열은 4개가 있어야 하기 때문이다."
      ],
      "metadata": {
        "id": "_XCAi4pdrpkm"
      }
    },
    {
      "cell_type": "code",
      "source": [
        "arr = np.arange(20)\n",
        "arr.reshape(5,-1)"
      ],
      "metadata": {
        "colab": {
          "base_uri": "https://localhost:8080/"
        },
        "id": "euJ1-fw5r1mx",
        "outputId": "58ca4da1-17ed-4bca-cc68-9ca56a9ad430"
      },
      "execution_count": 10,
      "outputs": [
        {
          "output_type": "execute_result",
          "data": {
            "text/plain": [
              "array([[ 0,  1,  2,  3],\n",
              "       [ 4,  5,  6,  7],\n",
              "       [ 8,  9, 10, 11],\n",
              "       [12, 13, 14, 15],\n",
              "       [16, 17, 18, 19]])"
            ]
          },
          "metadata": {},
          "execution_count": 10
        }
      ]
    },
    {
      "cell_type": "code",
      "source": [
        "arr.reshape((5,4))"
      ],
      "metadata": {
        "colab": {
          "base_uri": "https://localhost:8080/"
        },
        "id": "ymUGzxpRr7ZR",
        "outputId": "9eef8e36-00d6-4ea8-b6b9-8fa382ec861a"
      },
      "execution_count": 14,
      "outputs": [
        {
          "output_type": "execute_result",
          "data": {
            "text/plain": [
              "array([[ 0,  1,  2,  3],\n",
              "       [ 4,  5,  6,  7],\n",
              "       [ 8,  9, 10, 11],\n",
              "       [12, 13, 14, 15],\n",
              "       [16, 17, 18, 19]])"
            ]
          },
          "metadata": {},
          "execution_count": 14
        }
      ]
    },
    {
      "cell_type": "markdown",
      "source": [
        "동일한 이유로 아래에서 -1은 5를 의미한다."
      ],
      "metadata": {
        "id": "2tH3-dgbr85h"
      }
    },
    {
      "cell_type": "code",
      "source": [
        "arr.reshape((2,-1,2))"
      ],
      "metadata": {
        "colab": {
          "base_uri": "https://localhost:8080/"
        },
        "id": "q2NXT-_OsD1f",
        "outputId": "50855326-eab3-40fc-9af9-35ca99129421"
      },
      "execution_count": 15,
      "outputs": [
        {
          "output_type": "execute_result",
          "data": {
            "text/plain": [
              "array([[[ 0,  1],\n",
              "        [ 2,  3],\n",
              "        [ 4,  5],\n",
              "        [ 6,  7],\n",
              "        [ 8,  9]],\n",
              "\n",
              "       [[10, 11],\n",
              "        [12, 13],\n",
              "        [14, 15],\n",
              "        [16, 17],\n",
              "        [18, 19]]])"
            ]
          },
          "metadata": {},
          "execution_count": 15
        }
      ]
    },
    {
      "cell_type": "code",
      "source": [
        "arr.reshape((2,5,2))"
      ],
      "metadata": {
        "colab": {
          "base_uri": "https://localhost:8080/"
        },
        "id": "LPqPeCxSsFZq",
        "outputId": "6fa34168-f419-4402-a909-0910f60ddf2e"
      },
      "execution_count": 16,
      "outputs": [
        {
          "output_type": "execute_result",
          "data": {
            "text/plain": [
              "array([[[ 0,  1],\n",
              "        [ 2,  3],\n",
              "        [ 4,  5],\n",
              "        [ 6,  7],\n",
              "        [ 8,  9]],\n",
              "\n",
              "       [[10, 11],\n",
              "        [12, 13],\n",
              "        [14, 15],\n",
              "        [16, 17],\n",
              "        [18, 19]]])"
            ]
          },
          "metadata": {},
          "execution_count": 16
        }
      ]
    },
    {
      "cell_type": "markdown",
      "source": [
        "## 7.1.2. 차원 추가\n",
        "어레이에 임의의 축을 추가하는 방식으로 1차원 커진 어레이를 생성할 수 있다. 어느 축을 지정하느냐에 따라 다른 모양을 갖게 된다.\n",
        "\n",
        "**예제**\n",
        "\n",
        "다음 길이가 3인 1차원 어레이를 이용하자.\n",
        "\n",
        "- `np.random.normal()` 함수는 `np.random.randn()` 함수를 일반화하여 정규분포를 따르면서 무작위 수를 생성한다. 평균값은 표준편차를 지정할 수 있으며, 기본값은 평균값 : 0, 표준편차 : 1로 표준 정규분포를 따로도록 한다."
      ],
      "metadata": {
        "id": "TxBoVUHfsIGd"
      }
    },
    {
      "cell_type": "code",
      "source": [
        "arr_1d = np.random.normal(size=3)\n",
        "arr_1d"
      ],
      "metadata": {
        "colab": {
          "base_uri": "https://localhost:8080/"
        },
        "id": "ARDNXzl9shvQ",
        "outputId": "26ba04d7-d05d-4a61-87ca-41ece6464015"
      },
      "execution_count": 17,
      "outputs": [
        {
          "output_type": "execute_result",
          "data": {
            "text/plain": [
              "array([-0.2047,  0.4789, -0.5194])"
            ]
          },
          "metadata": {},
          "execution_count": 17
        }
      ]
    },
    {
      "cell_type": "markdown",
      "source": [
        "아래 코드는 열 관련 축을 추가한다."
      ],
      "metadata": {
        "id": "3btu4rbssm0I"
      }
    },
    {
      "cell_type": "code",
      "source": [
        "arr_1d[:, np.newaxis]"
      ],
      "metadata": {
        "colab": {
          "base_uri": "https://localhost:8080/"
        },
        "id": "RgXtg7M0smYv",
        "outputId": "6b84ed96-5b5d-4429-caf8-f8cb4647c966"
      },
      "execution_count": 18,
      "outputs": [
        {
          "output_type": "execute_result",
          "data": {
            "text/plain": [
              "array([[-0.2047],\n",
              "       [ 0.4789],\n",
              "       [-0.5194]])"
            ]
          },
          "metadata": {},
          "execution_count": 18
        }
      ]
    },
    {
      "cell_type": "markdown",
      "source": [
        "`reshape()` 메서드로도 동일한 결과를 얻을 수 있다."
      ],
      "metadata": {
        "id": "q72DLkEbsqXN"
      }
    },
    {
      "cell_type": "code",
      "source": [
        "arr_1d.reshape((3,1))"
      ],
      "metadata": {
        "colab": {
          "base_uri": "https://localhost:8080/"
        },
        "id": "dcsjWmddsuCZ",
        "outputId": "ee173dc5-9771-4009-ed5a-147df841ef60"
      },
      "execution_count": 21,
      "outputs": [
        {
          "output_type": "execute_result",
          "data": {
            "text/plain": [
              "array([[-0.2047],\n",
              "       [ 0.4789],\n",
              "       [-0.5194]])"
            ]
          },
          "metadata": {},
          "execution_count": 21
        }
      ]
    },
    {
      "cell_type": "markdown",
      "source": [
        "아래 코드는 행 관련 축을 추가한다."
      ],
      "metadata": {
        "id": "BXLqNYiLstLG"
      }
    },
    {
      "cell_type": "code",
      "source": [
        "arr_1d[np.newaxis, :]"
      ],
      "metadata": {
        "colab": {
          "base_uri": "https://localhost:8080/"
        },
        "id": "06JYHGHssznY",
        "outputId": "a81b30c6-a0db-4733-87f3-f530f93a121c"
      },
      "execution_count": 22,
      "outputs": [
        {
          "output_type": "execute_result",
          "data": {
            "text/plain": [
              "array([[-0.2047,  0.4789, -0.5194]])"
            ]
          },
          "metadata": {},
          "execution_count": 22
        }
      ]
    },
    {
      "cell_type": "code",
      "source": [
        "arr_1d.reshape((1,3))"
      ],
      "metadata": {
        "colab": {
          "base_uri": "https://localhost:8080/"
        },
        "id": "Sm6RprlKs8uH",
        "outputId": "d6da2b8a-7f26-4ea9-8c1a-ebc72d36d5d3"
      },
      "execution_count": 23,
      "outputs": [
        {
          "output_type": "execute_result",
          "data": {
            "text/plain": [
              "array([[-0.2047,  0.4789, -0.5194]])"
            ]
          },
          "metadata": {},
          "execution_count": 23
        }
      ]
    },
    {
      "cell_type": "markdown",
      "source": [
        "**예제**\n",
        "\n",
        "2차원 어레이에 축을 추가함녀 3차원 어레이가 생성되며, 작동방식은 앞서와 동일하다."
      ],
      "metadata": {
        "id": "tvP8MtaPs_23"
      }
    },
    {
      "cell_type": "code",
      "source": [
        "arr = np.random.randn(4,3)\n",
        "arr"
      ],
      "metadata": {
        "colab": {
          "base_uri": "https://localhost:8080/"
        },
        "id": "EEK5i8yktGdl",
        "outputId": "17cc6b40-6ca5-48d9-bd3d-1802e6139288"
      },
      "execution_count": 26,
      "outputs": [
        {
          "output_type": "execute_result",
          "data": {
            "text/plain": [
              "array([[ 0.8864, -2.0016, -0.3718],\n",
              "       [ 1.669 , -0.4386, -0.5397],\n",
              "       [ 0.477 ,  3.2489, -1.0212],\n",
              "       [-0.5771,  0.1241,  0.3026]])"
            ]
          },
          "metadata": {},
          "execution_count": 26
        }
      ]
    },
    {
      "cell_type": "code",
      "source": [
        "arr[:,:,np.newaxis].shape"
      ],
      "metadata": {
        "colab": {
          "base_uri": "https://localhost:8080/"
        },
        "id": "_w6Cr5kutLMd",
        "outputId": "85bdbfef-a394-414c-e978-9699e61c2f83"
      },
      "execution_count": 27,
      "outputs": [
        {
          "output_type": "execute_result",
          "data": {
            "text/plain": [
              "(4, 3, 1)"
            ]
          },
          "metadata": {},
          "execution_count": 27
        }
      ]
    },
    {
      "cell_type": "code",
      "source": [
        "arr[:,np.newaxis,:].shape"
      ],
      "metadata": {
        "colab": {
          "base_uri": "https://localhost:8080/"
        },
        "id": "HfIYLv1FtPqB",
        "outputId": "18096f55-50f9-4d52-8e8c-f43214d5c8a2"
      },
      "execution_count": 29,
      "outputs": [
        {
          "output_type": "execute_result",
          "data": {
            "text/plain": [
              "(4, 1, 3)"
            ]
          },
          "metadata": {},
          "execution_count": 29
        }
      ]
    },
    {
      "cell_type": "code",
      "source": [
        "arr[:,np.newaxis,:]"
      ],
      "metadata": {
        "colab": {
          "base_uri": "https://localhost:8080/"
        },
        "id": "65FLXA5JtUh9",
        "outputId": "00da6aef-9537-417c-fd1e-da7d275c7ebb"
      },
      "execution_count": 30,
      "outputs": [
        {
          "output_type": "execute_result",
          "data": {
            "text/plain": [
              "array([[[ 0.8864, -2.0016, -0.3718]],\n",
              "\n",
              "       [[ 1.669 , -0.4386, -0.5397]],\n",
              "\n",
              "       [[ 0.477 ,  3.2489, -1.0212]],\n",
              "\n",
              "       [[-0.5771,  0.1241,  0.3026]]])"
            ]
          },
          "metadata": {},
          "execution_count": 30
        }
      ]
    },
    {
      "cell_type": "markdown",
      "source": [
        "`ravel()` 메서드와 `flatten()` 메서드\n",
        "\n",
        "두 메서드 모두 1차원 어레이를 반환한다. 즉, 차원을 모두 없앤다."
      ],
      "metadata": {
        "id": "MYxX-WkftZhk"
      }
    },
    {
      "cell_type": "code",
      "source": [
        "arr = np.arange(15).reshape((5,3))\n",
        "arr"
      ],
      "metadata": {
        "colab": {
          "base_uri": "https://localhost:8080/"
        },
        "id": "3JNAwrfBtfUJ",
        "outputId": "586d1ec2-afd2-4bd1-cc62-d8f5ca9fb9d5"
      },
      "execution_count": 31,
      "outputs": [
        {
          "output_type": "execute_result",
          "data": {
            "text/plain": [
              "array([[ 0,  1,  2],\n",
              "       [ 3,  4,  5],\n",
              "       [ 6,  7,  8],\n",
              "       [ 9, 10, 11],\n",
              "       [12, 13, 14]])"
            ]
          },
          "metadata": {},
          "execution_count": 31
        }
      ]
    },
    {
      "cell_type": "code",
      "source": [
        "arr1 = arr.ravel()\n",
        "arr1"
      ],
      "metadata": {
        "colab": {
          "base_uri": "https://localhost:8080/"
        },
        "id": "JxMpfmcBti7-",
        "outputId": "233e89be-af80-43af-c32f-f2cd68ef6032"
      },
      "execution_count": 32,
      "outputs": [
        {
          "output_type": "execute_result",
          "data": {
            "text/plain": [
              "array([ 0,  1,  2,  3,  4,  5,  6,  7,  8,  9, 10, 11, 12, 13, 14])"
            ]
          },
          "metadata": {},
          "execution_count": 32
        }
      ]
    },
    {
      "cell_type": "code",
      "source": [
        "arr2 = arr.flatten()\n",
        "arr2"
      ],
      "metadata": {
        "colab": {
          "base_uri": "https://localhost:8080/"
        },
        "id": "Hh-aSCb_tk2y",
        "outputId": "ba4de6f8-121b-478b-8a76-0a97c3dcb6de"
      },
      "execution_count": 33,
      "outputs": [
        {
          "output_type": "execute_result",
          "data": {
            "text/plain": [
              "array([ 0,  1,  2,  3,  4,  5,  6,  7,  8,  9, 10, 11, 12, 13, 14])"
            ]
          },
          "metadata": {},
          "execution_count": 33
        }
      ]
    },
    {
      "cell_type": "markdown",
      "source": [
        "차이점은 `ravel()` 메서드는 뷰(view)를 사용하는 반면 `flatten()` 메서드는 어레이를 새로 생성한다. 예를 들어, 아래처럼 `arr1`의 항목을 변경하면 `arr`의 항목도 함께 변경된다."
      ],
      "metadata": {
        "id": "kYYKxEbBtoGq"
      }
    },
    {
      "cell_type": "code",
      "source": [
        "arr1[0] = -1\n",
        "arr"
      ],
      "metadata": {
        "colab": {
          "base_uri": "https://localhost:8080/"
        },
        "id": "4tGZ8aQmtxOg",
        "outputId": "612f3042-b83e-4e23-fa95-293fcf9d5ac2"
      },
      "execution_count": 34,
      "outputs": [
        {
          "output_type": "execute_result",
          "data": {
            "text/plain": [
              "array([[-1,  1,  2],\n",
              "       [ 3,  4,  5],\n",
              "       [ 6,  7,  8],\n",
              "       [ 9, 10, 11],\n",
              "       [12, 13, 14]])"
            ]
          },
          "metadata": {},
          "execution_count": 34
        }
      ]
    },
    {
      "cell_type": "markdown",
      "source": [
        "`arr2`는 `arr`과 전혀 상관이 없다."
      ],
      "metadata": {
        "id": "q0uE6XH-tzz1"
      }
    },
    {
      "cell_type": "code",
      "source": [
        "arr2[0] = -7\n",
        "arr2"
      ],
      "metadata": {
        "colab": {
          "base_uri": "https://localhost:8080/"
        },
        "id": "qr0s33Pbt2Zi",
        "outputId": "314c029f-0e28-4aa9-9c18-7ed16fa23111"
      },
      "execution_count": 35,
      "outputs": [
        {
          "output_type": "execute_result",
          "data": {
            "text/plain": [
              "array([-7,  1,  2,  3,  4,  5,  6,  7,  8,  9, 10, 11, 12, 13, 14])"
            ]
          },
          "metadata": {},
          "execution_count": 35
        }
      ]
    },
    {
      "cell_type": "markdown",
      "source": [
        "## 7.1.3. 어레이 쪼개기/쌓기\n",
        "\n",
        "`np.split()` 함수\n",
        "\n",
        "어레이를 지정된 기준에 따라 여러 개의 어레이로 쪼갠다. 반환값은 쪼개진 어레이들의 리스트이다.\n",
        "\n",
        "아래 예제를 살펴보자"
      ],
      "metadata": {
        "id": "gB6d1Efdt5-a"
      }
    },
    {
      "cell_type": "code",
      "source": [
        "arr = np.random.randn(7,5)\n",
        "arr"
      ],
      "metadata": {
        "colab": {
          "base_uri": "https://localhost:8080/"
        },
        "id": "slHVehjguDNy",
        "outputId": "3089d8a9-f1b1-41e7-bc87-809a76ebbf36"
      },
      "execution_count": 39,
      "outputs": [
        {
          "output_type": "execute_result",
          "data": {
            "text/plain": [
              "array([[ 0.05  ,  0.6702,  0.853 , -0.9559, -0.0235],\n",
              "       [-2.3042, -0.6525, -1.2183, -1.3326,  1.0746],\n",
              "       [ 0.7236,  0.69  ,  1.0015, -0.5031, -0.6223],\n",
              "       [-0.9212, -0.7262,  0.2229,  0.0513, -1.1577],\n",
              "       [ 0.8167,  0.4336,  1.0107,  1.8249, -0.9975],\n",
              "       [ 0.8506, -0.1316,  0.9124,  0.1882,  2.1695],\n",
              "       [-0.1149,  2.0037,  0.0296,  0.7953,  0.1181]])"
            ]
          },
          "metadata": {},
          "execution_count": 39
        }
      ]
    },
    {
      "cell_type": "markdown",
      "source": [
        "`np.split()` 함수의 인자는 정수이거나 정수들의 리스트가 사용된다. 먼저, 정수 리스트가 들어오면 축이 정한 방향으로 리스트에 포함된 정수를 이용하여 여러 개의 구간으로 쪼갠다.\n",
        "\n",
        "아래 코드는 행을 기준으로 행의 인덱스를 0-1, 2, 3-4, 5-7  네 개의 구간으로 쪼갠다. 따라서 결과는 네 개의 어레이로 이루어진 리스트가 되며, 각 어레이 모양은 다음과 같다.\n",
        "\n",
        "`(2, 5), (1, 5), (2, 5), (2, 5)`"
      ],
      "metadata": {
        "id": "jRpXkeLZuGSN"
      }
    },
    {
      "cell_type": "code",
      "source": [
        "np.split(arr, [2, 3, 5], axis=0)"
      ],
      "metadata": {
        "colab": {
          "base_uri": "https://localhost:8080/"
        },
        "id": "heZKSDS5uhrl",
        "outputId": "a5706831-740e-457a-9582-4d86484eab7e"
      },
      "execution_count": 40,
      "outputs": [
        {
          "output_type": "execute_result",
          "data": {
            "text/plain": [
              "[array([[ 0.05  ,  0.6702,  0.853 , -0.9559, -0.0235],\n",
              "        [-2.3042, -0.6525, -1.2183, -1.3326,  1.0746]]),\n",
              " array([[ 0.7236,  0.69  ,  1.0015, -0.5031, -0.6223]]),\n",
              " array([[-0.9212, -0.7262,  0.2229,  0.0513, -1.1577],\n",
              "        [ 0.8167,  0.4336,  1.0107,  1.8249, -0.9975]]),\n",
              " array([[ 0.8506, -0.1316,  0.9124,  0.1882,  2.1695],\n",
              "        [-0.1149,  2.0037,  0.0296,  0.7953,  0.1181]])]"
            ]
          },
          "metadata": {},
          "execution_count": 40
        }
      ]
    },
    {
      "cell_type": "markdown",
      "source": [
        "반면에 열을 기준으로 0, 1-2, 3-4, 3개의 구간으로 쪼개면 다음과 같으며, 각 어레이의 모양은 다음과 같다.\n",
        "\n",
        "`(7, 1), (7, 2), (7, 2)`"
      ],
      "metadata": {
        "id": "UcyHAhdeumEV"
      }
    },
    {
      "cell_type": "code",
      "source": [
        "np.split(arr, [1, 3], axis=1)"
      ],
      "metadata": {
        "colab": {
          "base_uri": "https://localhost:8080/"
        },
        "id": "F14DO_zXulVH",
        "outputId": "4601547d-1b15-46b8-f52b-713dc70b352c"
      },
      "execution_count": 41,
      "outputs": [
        {
          "output_type": "execute_result",
          "data": {
            "text/plain": [
              "[array([[ 0.05  ],\n",
              "        [-2.3042],\n",
              "        [ 0.7236],\n",
              "        [-0.9212],\n",
              "        [ 0.8167],\n",
              "        [ 0.8506],\n",
              "        [-0.1149]]), array([[ 0.6702,  0.853 ],\n",
              "        [-0.6525, -1.2183],\n",
              "        [ 0.69  ,  1.0015],\n",
              "        [-0.7262,  0.2229],\n",
              "        [ 0.4336,  1.0107],\n",
              "        [-0.1316,  0.9124],\n",
              "        [ 2.0037,  0.0296]]), array([[-0.9559, -0.0235],\n",
              "        [-1.3326,  1.0746],\n",
              "        [-0.5031, -0.6223],\n",
              "        [ 0.0513, -1.1577],\n",
              "        [ 1.8249, -0.9975],\n",
              "        [ 0.1882,  2.1695],\n",
              "        [ 0.7953,  0.1181]])]"
            ]
          },
          "metadata": {},
          "execution_count": 41
        }
      ]
    },
    {
      "cell_type": "markdown",
      "source": [
        "`np.vsplit()`/`np.hsplit()` 함수\n",
        "\n",
        "두 함수 `np.split()` 함수에 축을 각각 0과 1로 지정한 함수이다.\n",
        "\n",
        "- `np.vsplit(arr, z)` = `np.split(arr, z, axis=0)`"
      ],
      "metadata": {
        "id": "6TLWvgZRuzMX"
      }
    },
    {
      "cell_type": "code",
      "source": [
        "np.vsplit(arr, [2, 3, 5])"
      ],
      "metadata": {
        "colab": {
          "base_uri": "https://localhost:8080/"
        },
        "id": "VVB3lA2Ku-Qc",
        "outputId": "39b9179a-bcd5-4543-b1e2-4bab976a1531"
      },
      "execution_count": 42,
      "outputs": [
        {
          "output_type": "execute_result",
          "data": {
            "text/plain": [
              "[array([[ 0.05  ,  0.6702,  0.853 , -0.9559, -0.0235],\n",
              "        [-2.3042, -0.6525, -1.2183, -1.3326,  1.0746]]),\n",
              " array([[ 0.7236,  0.69  ,  1.0015, -0.5031, -0.6223]]),\n",
              " array([[-0.9212, -0.7262,  0.2229,  0.0513, -1.1577],\n",
              "        [ 0.8167,  0.4336,  1.0107,  1.8249, -0.9975]]),\n",
              " array([[ 0.8506, -0.1316,  0.9124,  0.1882,  2.1695],\n",
              "        [-0.1149,  2.0037,  0.0296,  0.7953,  0.1181]])]"
            ]
          },
          "metadata": {},
          "execution_count": 42
        }
      ]
    },
    {
      "cell_type": "markdown",
      "source": [
        "- `np.hsplit(arr, z)` = `np.split(arr, z, axis=1)`"
      ],
      "metadata": {
        "id": "ekPfss85vBhl"
      }
    },
    {
      "cell_type": "code",
      "source": [
        "np.hsplit(arr, [1, 3])"
      ],
      "metadata": {
        "colab": {
          "base_uri": "https://localhost:8080/"
        },
        "id": "1HiR1pu0vH6v",
        "outputId": "141e4cf1-0785-47ae-a5db-77c3afb04337"
      },
      "execution_count": 43,
      "outputs": [
        {
          "output_type": "execute_result",
          "data": {
            "text/plain": [
              "[array([[ 0.05  ],\n",
              "        [-2.3042],\n",
              "        [ 0.7236],\n",
              "        [-0.9212],\n",
              "        [ 0.8167],\n",
              "        [ 0.8506],\n",
              "        [-0.1149]]), array([[ 0.6702,  0.853 ],\n",
              "        [-0.6525, -1.2183],\n",
              "        [ 0.69  ,  1.0015],\n",
              "        [-0.7262,  0.2229],\n",
              "        [ 0.4336,  1.0107],\n",
              "        [-0.1316,  0.9124],\n",
              "        [ 2.0037,  0.0296]]), array([[-0.9559, -0.0235],\n",
              "        [-1.3326,  1.0746],\n",
              "        [-0.5031, -0.6223],\n",
              "        [ 0.0513, -1.1577],\n",
              "        [ 1.8249, -0.9975],\n",
              "        [ 0.1882,  2.1695],\n",
              "        [ 0.7953,  0.1181]])]"
            ]
          },
          "metadata": {},
          "execution_count": 43
        }
      ]
    },
    {
      "cell_type": "markdown",
      "source": [
        "`np.concatenate()` 함수\n",
        "\n",
        "두 개의 어레이를 이어 붙인다. 지정되는 축에 따라 좌우로 또는 상하로 이어붙인다.\n",
        "\n",
        "아래 두 어레이가 주어졌다고 가정해보자."
      ],
      "metadata": {
        "id": "4A3H1DVWvKg1"
      }
    },
    {
      "cell_type": "code",
      "source": [
        "arr1 = np.array([[1,2,3],[4,5,6]])\n",
        "arr1"
      ],
      "metadata": {
        "colab": {
          "base_uri": "https://localhost:8080/"
        },
        "id": "Wm3cYBPTvRdz",
        "outputId": "50f76329-aa38-453b-b23d-12f576681563"
      },
      "execution_count": 44,
      "outputs": [
        {
          "output_type": "execute_result",
          "data": {
            "text/plain": [
              "array([[1, 2, 3],\n",
              "       [4, 5, 6]])"
            ]
          },
          "metadata": {},
          "execution_count": 44
        }
      ]
    },
    {
      "cell_type": "code",
      "source": [
        "arr2 = np.array([[7,8,9],[10,11,12]])\n",
        "arr2"
      ],
      "metadata": {
        "colab": {
          "base_uri": "https://localhost:8080/"
        },
        "id": "xgdqs3-UvUkL",
        "outputId": "9cbc189e-abb1-4ecc-80e3-3f6002f6b129"
      },
      "execution_count": 45,
      "outputs": [
        {
          "output_type": "execute_result",
          "data": {
            "text/plain": [
              "array([[ 7,  8,  9],\n",
              "       [10, 11, 12]])"
            ]
          },
          "metadata": {},
          "execution_count": 45
        }
      ]
    },
    {
      "cell_type": "markdown",
      "source": [
        "위 아래루 이어붙이려면 축을 0으로 지정한다.\n",
        "\n",
        "**주의사항** : 인자의 길이가 2인 리스트이다."
      ],
      "metadata": {
        "id": "Sa5ySA2bvcS8"
      }
    },
    {
      "cell_type": "code",
      "source": [
        "np.concatenate([arr1, arr2], axis=0)"
      ],
      "metadata": {
        "colab": {
          "base_uri": "https://localhost:8080/"
        },
        "id": "7I_UgKX6vg_1",
        "outputId": "e0402e0c-cfaf-4e65-a1a3-36030d5fe932"
      },
      "execution_count": 46,
      "outputs": [
        {
          "output_type": "execute_result",
          "data": {
            "text/plain": [
              "array([[ 1,  2,  3],\n",
              "       [ 4,  5,  6],\n",
              "       [ 7,  8,  9],\n",
              "       [10, 11, 12]])"
            ]
          },
          "metadata": {},
          "execution_count": 46
        }
      ]
    },
    {
      "cell_type": "markdown",
      "source": [
        "좌우로 이어붙이려면 축을 1로 정한다."
      ],
      "metadata": {
        "id": "lReENMwPvlWj"
      }
    },
    {
      "cell_type": "code",
      "source": [
        "np.concatenate([arr1, arr2], axis=1)"
      ],
      "metadata": {
        "colab": {
          "base_uri": "https://localhost:8080/"
        },
        "id": "ZTgBvmHVvodH",
        "outputId": "ee16955a-abc6-45c8-875c-bf32836168bf"
      },
      "execution_count": 47,
      "outputs": [
        {
          "output_type": "execute_result",
          "data": {
            "text/plain": [
              "array([[ 1,  2,  3,  7,  8,  9],\n",
              "       [ 4,  5,  6, 10, 11, 12]])"
            ]
          },
          "metadata": {},
          "execution_count": 47
        }
      ]
    },
    {
      "cell_type": "markdown",
      "source": [
        "`np.vstack()`/`np.hstack()` 함수\n",
        "\n",
        "두 함수 `np.concatenate()` 함수에 축을 각각 0과 1로 지정한 함수이다.\n",
        "\n",
        "**주의사항** : 인자의 길이가 2인 튜플이다.\n",
        "\n",
        "- `np.vstack((x, y))` = `np.concatenate([x, y], axis=0)`"
      ],
      "metadata": {
        "id": "LMa9ET0lvs63"
      }
    },
    {
      "cell_type": "code",
      "source": [
        "np.vstack((arr1, arr2))"
      ],
      "metadata": {
        "colab": {
          "base_uri": "https://localhost:8080/"
        },
        "id": "czeYR4bev2lH",
        "outputId": "bb69732a-535f-4edc-8868-f82b9f813f65"
      },
      "execution_count": 49,
      "outputs": [
        {
          "output_type": "execute_result",
          "data": {
            "text/plain": [
              "array([[ 1,  2,  3],\n",
              "       [ 4,  5,  6],\n",
              "       [ 7,  8,  9],\n",
              "       [10, 11, 12]])"
            ]
          },
          "metadata": {},
          "execution_count": 49
        }
      ]
    },
    {
      "cell_type": "markdown",
      "source": [
        "- `np.hstack((x, y))` = `np.concatenate([x, y], axis=1)`"
      ],
      "metadata": {
        "id": "3n2BGbkDwGVS"
      }
    },
    {
      "cell_type": "code",
      "source": [
        "np.hstack((arr1, arr2))"
      ],
      "metadata": {
        "colab": {
          "base_uri": "https://localhost:8080/"
        },
        "id": "fJsT5lQNwDwi",
        "outputId": "e00dc6dc-0750-4459-aa4b-7db42bb4725e"
      },
      "execution_count": 51,
      "outputs": [
        {
          "output_type": "execute_result",
          "data": {
            "text/plain": [
              "array([[ 1,  2,  3,  7,  8,  9],\n",
              "       [ 4,  5,  6, 10, 11, 12]])"
            ]
          },
          "metadata": {},
          "execution_count": 51
        }
      ]
    },
    {
      "cell_type": "markdown",
      "source": [
        "`np.r_[]`/`np.c_[]` 객체\n",
        "\n",
        "`vstack()`/`hstack()`  과 동일한 기능을 수행하는 특수한 객체들이다.\n",
        "\n",
        "아래 세 개의 어레이를 이용하여 사용법을 살펴본다."
      ],
      "metadata": {
        "id": "6Tk6gqXOwOCE"
      }
    },
    {
      "cell_type": "code",
      "source": [
        "arr = np.arange(6)\n",
        "arr"
      ],
      "metadata": {
        "colab": {
          "base_uri": "https://localhost:8080/"
        },
        "id": "FhX0X7opwYSO",
        "outputId": "4fed0d33-e51d-4bc6-d3cd-79186ef99510"
      },
      "execution_count": 52,
      "outputs": [
        {
          "output_type": "execute_result",
          "data": {
            "text/plain": [
              "array([0, 1, 2, 3, 4, 5])"
            ]
          },
          "metadata": {},
          "execution_count": 52
        }
      ]
    },
    {
      "cell_type": "code",
      "source": [
        "arr1 = np.arange(6).reshape((3,2))\n",
        "arr1"
      ],
      "metadata": {
        "colab": {
          "base_uri": "https://localhost:8080/"
        },
        "id": "-MOIQs-uwZuV",
        "outputId": "a0b4df5e-2328-42aa-ca6b-0d669c5fdafd"
      },
      "execution_count": 53,
      "outputs": [
        {
          "output_type": "execute_result",
          "data": {
            "text/plain": [
              "array([[0, 1],\n",
              "       [2, 3],\n",
              "       [4, 5]])"
            ]
          },
          "metadata": {},
          "execution_count": 53
        }
      ]
    },
    {
      "cell_type": "code",
      "source": [
        "arr2 = np.random.randn(3,2)"
      ],
      "metadata": {
        "id": "MHVXsIDywc4D"
      },
      "execution_count": 54,
      "outputs": []
    },
    {
      "cell_type": "markdown",
      "source": [
        "아래 코드는 `np.vstack((arr1, arr2))`와 동일하다."
      ],
      "metadata": {
        "id": "1K1G1NFLwfwR"
      }
    },
    {
      "cell_type": "code",
      "source": [
        "np.r_[arr1,arr2]"
      ],
      "metadata": {
        "colab": {
          "base_uri": "https://localhost:8080/"
        },
        "id": "0v3sqpLJwjvM",
        "outputId": "fea70724-cc4f-4ee0-aede-0690c8cbffbe"
      },
      "execution_count": 56,
      "outputs": [
        {
          "output_type": "execute_result",
          "data": {
            "text/plain": [
              "array([[ 0.    ,  1.    ],\n",
              "       [ 2.    ,  3.    ],\n",
              "       [ 4.    ,  5.    ],\n",
              "       [-0.7485,  0.585 ],\n",
              "       [ 0.1527, -1.5657],\n",
              "       [-0.5625, -0.0327]])"
            ]
          },
          "metadata": {},
          "execution_count": 56
        }
      ]
    },
    {
      "cell_type": "code",
      "source": [
        "np.vstack([arr1, arr2])"
      ],
      "metadata": {
        "colab": {
          "base_uri": "https://localhost:8080/"
        },
        "id": "mGkm1ICOwlio",
        "outputId": "18e34820-a996-4a38-b3ed-c0ca913d8763"
      },
      "execution_count": 59,
      "outputs": [
        {
          "output_type": "execute_result",
          "data": {
            "text/plain": [
              "array([[ 0.    ,  1.    ],\n",
              "       [ 2.    ,  3.    ],\n",
              "       [ 4.    ,  5.    ],\n",
              "       [-0.7485,  0.585 ],\n",
              "       [ 0.1527, -1.5657],\n",
              "       [-0.5625, -0.0327]])"
            ]
          },
          "metadata": {},
          "execution_count": 59
        }
      ]
    },
    {
      "cell_type": "markdown",
      "source": [
        "아래 코드는 `np.vstack((arr1, arr2))`와 동일하다."
      ],
      "metadata": {
        "id": "4GniDg6kwtI8"
      }
    },
    {
      "cell_type": "code",
      "source": [
        "np.r_[arr1, arr2]"
      ],
      "metadata": {
        "colab": {
          "base_uri": "https://localhost:8080/"
        },
        "id": "U6o_Uda4wwFS",
        "outputId": "95960a19-4b38-4030-ca3f-66560d49d74a"
      },
      "execution_count": 60,
      "outputs": [
        {
          "output_type": "execute_result",
          "data": {
            "text/plain": [
              "array([[ 0.    ,  1.    ],\n",
              "       [ 2.    ,  3.    ],\n",
              "       [ 4.    ,  5.    ],\n",
              "       [-0.7485,  0.585 ],\n",
              "       [ 0.1527, -1.5657],\n",
              "       [-0.5625, -0.0327]])"
            ]
          },
          "metadata": {},
          "execution_count": 60
        }
      ]
    },
    {
      "cell_type": "code",
      "source": [
        "np.vstack((arr1, arr2))"
      ],
      "metadata": {
        "colab": {
          "base_uri": "https://localhost:8080/"
        },
        "id": "AO9wgEtgwyIX",
        "outputId": "c7624c19-1855-400f-ec18-7f7d57c15ff4"
      },
      "execution_count": 61,
      "outputs": [
        {
          "output_type": "execute_result",
          "data": {
            "text/plain": [
              "array([[ 0.    ,  1.    ],\n",
              "       [ 2.    ,  3.    ],\n",
              "       [ 4.    ,  5.    ],\n",
              "       [-0.7485,  0.585 ],\n",
              "       [ 0.1527, -1.5657],\n",
              "       [-0.5625, -0.0327]])"
            ]
          },
          "metadata": {},
          "execution_count": 61
        }
      ]
    },
    {
      "cell_type": "markdown",
      "source": [
        "행 또는 열의 크기를 적절하게 맞출 수 있는 어떤 조합도 가능하다."
      ],
      "metadata": {
        "id": "6v9K4DAgw3en"
      }
    },
    {
      "cell_type": "code",
      "source": [
        "np.c_[np.r_[arr1, arr2], arr]"
      ],
      "metadata": {
        "colab": {
          "base_uri": "https://localhost:8080/"
        },
        "id": "2VoQPMUzw6Vn",
        "outputId": "b9738b8c-fe50-42f9-e018-00fe3d500f1a"
      },
      "execution_count": 62,
      "outputs": [
        {
          "output_type": "execute_result",
          "data": {
            "text/plain": [
              "array([[ 0.    ,  1.    ,  0.    ],\n",
              "       [ 2.    ,  3.    ,  1.    ],\n",
              "       [ 4.    ,  5.    ,  2.    ],\n",
              "       [-0.7485,  0.585 ,  3.    ],\n",
              "       [ 0.1527, -1.5657,  4.    ],\n",
              "       [-0.5625, -0.0327,  5.    ]])"
            ]
          },
          "metadata": {},
          "execution_count": 62
        }
      ]
    },
    {
      "cell_type": "markdown",
      "source": [
        "# 7.2 브로드캐스팅\n",
        "\n",
        "모양이 서로 다른 두 어레이의 연산이 가능한 경우 브로드캐스팅이 가능하다. 예를 들어, 하나의 어레이와 하나의 정수의 곱셈이 항목별로 작동한다."
      ],
      "metadata": {
        "id": "lrsxR0B6w93L"
      }
    },
    {
      "cell_type": "code",
      "source": [
        "arr = np.arange(6).reshape(2,3)\n",
        "arr"
      ],
      "metadata": {
        "colab": {
          "base_uri": "https://localhost:8080/"
        },
        "id": "zrzHTiKTxEJo",
        "outputId": "44e13d15-7668-4357-c65f-27dbf45edeba"
      },
      "execution_count": 65,
      "outputs": [
        {
          "output_type": "execute_result",
          "data": {
            "text/plain": [
              "array([[0, 1, 2],\n",
              "       [3, 4, 5]])"
            ]
          },
          "metadata": {},
          "execution_count": 65
        }
      ]
    },
    {
      "cell_type": "markdown",
      "source": [
        "이유는 `arr * 4` 가 아래 어레이의 곱셈과 동일하게 작동하기 때문이다. 즉, 정수 4로 채워진 동일한 모양의 어레이를 먼저 생성한 후에 항목별로 곱셈을 진행한다.\n",
        "\n",
        "![image.png](data:image/png;base64,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)"
      ],
      "metadata": {
        "id": "b2UjtSMExJ--"
      }
    },
    {
      "cell_type": "code",
      "source": [
        "arr * 4"
      ],
      "metadata": {
        "colab": {
          "base_uri": "https://localhost:8080/"
        },
        "id": "OgLTrbRQxXgh",
        "outputId": "3ee93b34-d50c-4d02-dc93-e8aac9408624"
      },
      "execution_count": 66,
      "outputs": [
        {
          "output_type": "execute_result",
          "data": {
            "text/plain": [
              "array([[ 0,  4,  8],\n",
              "       [12, 16, 20]])"
            ]
          },
          "metadata": {},
          "execution_count": 66
        }
      ]
    },
    {
      "cell_type": "markdown",
      "source": [
        "**예제**\n",
        "\n",
        "아래 코드는 1차원 어레이를 2차원 어레이로 확장하여 다른 어레이와 모양을 맞춘 후 연산을 실행하는 것을 보여준다."
      ],
      "metadata": {
        "id": "5NCrjkcixYte"
      }
    },
    {
      "cell_type": "code",
      "source": [
        "arr2 = np.arange(4).reshape((4,1)).repeat(3, axis=1)\n",
        "arr2"
      ],
      "metadata": {
        "colab": {
          "base_uri": "https://localhost:8080/"
        },
        "id": "c6TzbeCuxeto",
        "outputId": "0d5085e5-19f6-4ccc-def8-38dfd3310367"
      },
      "execution_count": 80,
      "outputs": [
        {
          "output_type": "execute_result",
          "data": {
            "text/plain": [
              "array([[0, 0, 0],\n",
              "       [1, 1, 1],\n",
              "       [2, 2, 2],\n",
              "       [3, 3, 3]])"
            ]
          },
          "metadata": {},
          "execution_count": 80
        }
      ]
    },
    {
      "cell_type": "code",
      "source": [
        "arr3 = np.arange(1,4)\n",
        "arr3"
      ],
      "metadata": {
        "colab": {
          "base_uri": "https://localhost:8080/"
        },
        "id": "dtwGwQbOxjOI",
        "outputId": "fdd11d94-dccf-4baf-fec1-2a3211c0f31f"
      },
      "execution_count": 81,
      "outputs": [
        {
          "output_type": "execute_result",
          "data": {
            "text/plain": [
              "array([1, 2, 3])"
            ]
          },
          "metadata": {},
          "execution_count": 81
        }
      ]
    },
    {
      "cell_type": "code",
      "source": [
        "arr2 + arr3"
      ],
      "metadata": {
        "colab": {
          "base_uri": "https://localhost:8080/"
        },
        "id": "YD5WadBQxkZU",
        "outputId": "87d41616-3bdc-48d6-e052-45641ce4d6df"
      },
      "execution_count": 82,
      "outputs": [
        {
          "output_type": "execute_result",
          "data": {
            "text/plain": [
              "array([[1, 2, 3],\n",
              "       [2, 3, 4],\n",
              "       [3, 4, 5],\n",
              "       [4, 5, 6]])"
            ]
          },
          "metadata": {},
          "execution_count": 82
        }
      ]
    },
    {
      "cell_type": "markdown",
      "source": [
        "![image.png](data:image/png;base64,iVBORw0KGgoAAAANSUhEUgAAAZcAAACgCAYAAADAbiGsAAAAAXNSR0IArs4c6QAAAARnQU1BAACxjwv8YQUAAAAJcEhZcwAADsMAAA7DAcdvqGQAADVgSURBVHhe7Z0LvFXT1sAn9+nei+iqXIQeJJISUiGiUsqrpJRS6UFvj1SIhAp1vSpFhaQ3eXVFD3mkQgrR9ahE5Hp0XZHn+vZ/fGtmneOc0zn77DX22fuM/++37LPX3pl7rTnWGGPOOcaYuwQJnGEYhmGkkF3DV8MwDMNIGWZcDMMwjJRjxsUwDMNIOWZcDMMwjJRjxsUwDMNIOWZcDMMwjJRjxsUwDMNIOWZcDMMwjJSTUcblxx9/dK+99pr7+uuvwzP/T2HzQPle9Ls///yzW7FixW/+f0b288svv7jXX3/dbd68Wd572SisLCGLb7zxhvv000/DM0Zp4t1335UjSmHlJ6/vvf32227Tpk3hu+wgY4wLnXHrrbe6Sy+91P3vf/8Lzzq3YMECd+GFF7rJkyeHZ34L//b222+X73Xo0MFNnDjR/fe//3W/+93v3JgxY1y3bt3c999/H37byHaQh9mzZ7uWLVu6Dz/8UBwW5Kp169buuuuuc++//374zfzh/zFlyhR34okn7jBQRukA+WjevLn797//HZ5x7vPPP3eXXHKJ6927d3gmb1588UXXs2dPkbUbbrjBbdiwQc4/++yzrnHjxtllYBIPSUbw8ccfB3/729+Cq6++Okh4jXLuiy++CKpWrYoLEPTo0UPO5UfDhg2Dk08+OShTpkyw++67B9OmTZPzc+bMCcqWLRssXbpU3hvZT2KkGiSMQtCiRYtg27ZtwaOPPhrUq1cvqFy5cpBwOIKEoQm/WTAvv/xysOuuuwZjx44NzxjZTmLEG3Tu3Fnk5z//+U94NgiuuOKKYJdddgkqVKgQnsmbSZMmBQ0aNAgOPvjg4Pe//738O1i7dm1w0EEHBYMHD5b32UDGjFyWLFnivvnmG3fCCSe4RKfItMasWbNcwui4PfbYI/xW/iQUiHgHffr0cQmFIsNQqFGjhksYGzd37lz5fxrZD9MZ7733nmvatKn7y1/+4k4//XSRr4ULF8pU6apVq8JvFkz16tVdpUqV5N9u3749PGtkM5999pl7/PHHXe3atV3CKZVzTI8yM7LXXnvJ+4Jo27atW7x4sXviiSfcTz/9JFOzULFiRXfIIYfI/5tZlWwgY4wLDzyKoEqVKvI+4TW4xOhDhqKc3xkYoA8++MC99dZbLjECcjVr1pTz//jHP9w+++zjVq9ebQqilMBUBFOrRx99tLz/4x//KOtuTLEyVXrcccfJ+Z2BHB177LHy/9u6dWt41shm1q9fL7rn0EMPdYmRikynjxs3ToyDl6eC+POf/+y++uorcXRxkr2s/fWvf3VHHHGEyFG2TI1lhHFh8RSPAQOx9957yznmLpkvTwwj5fOdgeE45phj3Jw5c9x5553nzjjjDDmPYtl3333dli1bbN2llPDFF1+IEalQoUJ4xrkuXbrI2lu1atVk/aUwoFwYvXz55Zfuu+++C88a2YxfX9tvv/3kFYf1qaeecsOHD5cZkMLQrl0717dvX3FwkTnPwQcfLHKEPGUDGWNcmMrC0v/hD3+QYSMLr3Xq1JHOZXiJN4EHGeSKwvDwb4cMGSKeJtNp06dPl/MoCLwJpkPMuJQO8BwxLsiSp2PHjnIwZTZy5MhCT5EyekFukB8j+/EjVK8zGLX86U9/EsPAZ+iqtWvXuh9++EG+lxcXX3yxTI+9+eab7rbbbtuhs5iBQZdlix7KCOOy6667ygiDzuTmr1y5UjqGaYwWLVrIFMf8+fMlmiw/44IiGTBggBs1apSs3TDnCXwfb4HPERgj++Eh9rLkOeuss0RRMDXBvHdhw9ORpd12202cFyP78ToC44HeQY8wg4L8vPTSS+K4EA3G6Dg/iBRD1ipXrixrvV4Ov/32W9FDyFM2kBHGBcPC4hmdSecxJL388std9+7dXfv27cVzYDGsfv36kncwevRo98gjj+zoNLwJhrMoDKa/wHutfIdzTJHw/zGyn7///e8iE4x2gf7H60QhMEJGNnBokJdJkyZJ6HpeU684Jox0mKrNFoVgFAxT6PDJJ5+IXmI6lfBj9BDrLsgBDi8j43vvvXdH2gMgL+gn3iNrOLX8P5g9AdZa+Pd+6j/jSVxwRjBhwgQJ9XvmmWfCM79CKLEPRZ46daqEJicMTJDwTuVcYpQT1KlTJ2jSpEmQMEzBnnvuGcyYMUM+++CDD4JKlSoFCWO14/tGdpPwMINy5coF48ePlz5PeJJB48aNg9q1awcJwxL07dtXzi9fvlxCSzt16iQhqLlJjFqC6tWrB23btg22b98enjWymcQoJdhjjz2CAQMG/EZfnHPOOTtCkdetWxckRjlBq1atRE4AGWnZsqXooZo1awYJZzYYNGiQfJYYtQTNmjWT8wnjI+cynYyJFjv11FPl9YUXXvjNfPhhhx0mUV+J65GoL0YgeA94n8BQltEO4ceEjs6bN08W9YEwQhbQSKjz3zeyG+QFD5SFWAI9qlat6jZu3CijlptvvlkOZIHIIKa9mCP33mWUhAKR+fV69erZqLeUgB456aST3KuvviqzKFEOPPBAkS0gKhXZItmSSDBAhpA11omZVmMaf+jQofLZRx99JLKUMDyFSq3ICP7fxpR88Bz79OkTJDo2SAxJw7M5SXS2JMYNHDgw+Omnn8Kz+cP/s2vXruJNmOdZeqDfSXxMKIMgoSTCs7+FhLY2bdoE33//fXjmVxLKQRJ6+X/gzRqlh5UrV0rC7bPPPhueycmPP/4ossMoZOvWreHZgpk4cWJQpUoVmUnJFnbhP6GdKfEwL04tMGLD99xzz/DsrzCHyciFcNIyZcqEZ/OHSydxjtyZgw46KDxrlAZYPF26dKmEEjNXnhckuLE+s//++4dnfoU1GAJLGBXXqlUrz5GNkZ2gN55//nlXrlw50TW5+fnnnyXgiBGLz8vbGeTxIVOkS2SLLGWUcTEMwzAyA1tkMAzDMFJOkUYuNsjRI5unWUyOdDAZMopLcWRop8Yl+rF1qC7Rjs1kRWEylD5MhozikqwM5WtcOB09oueMePEdyGv08Ocyhfzkx7834iMqL9HDn8sU8pMff86IFy8rhOZH5acwMpSnceEUEQ/EcROBRV6JP6xT44VOI7uX8t1kilNWhI71h/9OSQc54SDLnSMqQ/5zIx6QD2SFTG9kCHniyEQZAipzkNWOTjIZ0gNZIeeGckn87XURsuOPgviNceEtB/uk9OvXT+rmRM8b8UMxxCuvvFLCEikPweGVRGE6tSSArGBUrr/+egnb9Oeir0Z8UEaEEkkkeGayDOHc3nTTTe7pp5/ecS76asQHhoQCmxdccMEO+fEOr5ehguQoT+OCZ0A2O1nx7FFA9rsm1PuiNhg5BmwjywOhCVn75DB07tw5PKMH1QLIHGcL1DPPPFO8Bg7yKejYqOdQUvEyRO0uKiFQh6lhw4bhp3qwfTHOEdvHcg81YQtctoVo06aNetvkg1FQEcNOQUXyLTJNhoCRCiMWtiZ/5ZVXpIqGNvQj+U5sKFfYkvqpgueGfV/QgWT/a4MOZmuSq666KoceohpFoZwUjEsU6uWQYbp69eqgfPnywaJFi8JP9KDOTrVq1aRmU17Z0XEzZswYqTGVDtasWSPbOV9zzTXBsmXLgoSRDzZv3iz1hrgX9E9CcYffLpnw+6iQ8NFHH8mWrgnPJ/xEl6FDhwYJ50i2yNZmypQpUluKvtOGLXPZynvIkCFSRw0Z4h5kogwlHJQgodiD448/PvxEF7YlZiv19evXh2f0WLJkidRNZBvudFCrVi2pu/fCCy+IXtq4cWOQcH6DxGhS+mZnMpRnnkviH4nXYKQPppTwQKltRY0iRnP0S6LPwm+UbPid/jDSA2sVyBCvyBAZ4JkmQ5n0e7MRKllQwRl9xBQlMoRtKMyzncO4RP+BdWr64L7TqXQorxS58x2aKfBbM+03ZxPcdwpxMq0UlSGe60yBazA9lF7YuMzrIf7GyS1sf+Q5cuEfW4emF5QB3mbUsGRCn0R/p8lQeonKUHTkG+2jkkj095Xk31kaYKTCiAXDUpRRC+RpXMA6Nb2gDDi8t5lJHqdRMsgtQ5n6TJsuSh/ITW4ZKmx/5DtyMdKL78SidKZhRDEZMooLclNUo+LJd+RipJ9oZ5pyMJIhqhRMhoxkSUYXxWJcaJzFRPIcmKfThmGc36NaG6w8lQ2I0uFvI3mQI/qQdQPNe0lbLIR/9tlnspCpCddMdBdtp0N+sxHkh3upLUNEem7ZskVeC6uQUwVyiwwhS9pte2IxLmxF3LFjR3fOOedIpvmnn34afhI/bE3bo0cPd+6557r27du75557Tu3mIlBjx46VxEGO++67T1WgswkM9MSJEyUJsWvXrm7Dhg3hJ/FCu8OHD3etW7d2Z599tmQok0ym0Y/Maw8bNkxkh2eHZ2jRokXhp3r4tZpMB8U6depUd/7557sLL7xQEsM1wJiMGTNmhwzR/gMPPCCBFXGDrps+fbpr166dtM3rzJkz02JgUm5c2Auai+KBJMv99ttvl2xzjYeT0RLZpCj1l156SX5Dt27d3HvvvRd+I17mzp0rJXMwaIsXL3Z9+vSR3Q6NosGufOxTjpPw+OOPu3/9618SDqkBCmnOnDlSsoascNofMGCAe/fdd8NvxAdZz9OmTXNLliyRZ2fWrFkiv4yiNGFvd56jTAYn87TTThMDPW/ePPfkk09K9QsNGDWge+hHqkRQcQNdsGDBgvAb8UHG/Msvvyzlcmib66bSiJYOjJJS44IBoQ4Q3h/WGqVA4TMemI0bN4bfio+1a9dKuQS2OH7ooYfc4YcfLu2i7OOGa+7du7eUR7jzzjvdkCFDJHzvmmuuUfFYsgmmMJhSTUe5D0oOMXJZtmyZe/TRR2WbWqYXUPYa3H333aIUHnvsMSk3gpLkt2jCFuIUvcxkGHlR+gdHVxvu36BBg8RBmT9/vqtZs6Y4R+gmDS6++GKRGWaQjjjiCDF2zAJok1LjgoLloihy1rRpU6knxY31e9/HDTeT30DBR6bFTjjhBFHwa9asCb8RHygEpv8OOOAA16RJE5nWwLDiRbD+YxSeo446ShyCoUOHhmf0oH4S9ZT4DY0aNZJXnAMtr5d6focddpi8oqSoA0YhU02YQsJRymSoxcXswejRo8MzelB7q1mzZq5OnTqiA48//ng5r7U8gFON3NauXVtkCaiyrk1KjQtKlCE8xgUPECpUqCCv69atk9c4YU6VucVDDz1UHkpf7G3Tpk3yGid+TYBOREFRlRbPEw+KCtNG4eH+HXLIITIKTAe+GJ8fQaEsypcvL+fiBvml4GX//v1lMZipHZwlTVgvYMSdyaCD0APIUjrwMoRzSz9CxYoV5VWD1atXi2Fl5MTohelVbVJqXBh+4eUxd0z1VeDBBEYvcS8qoQjAe3pesJhHjxuuD3zVWQ5/DzTaN1IPI16mWsuWLeuOPPLI8Gy88IwQBMP0GPKDcfHPkBZUQddUhNnMO++8I2t3OJr169cPz8bPbbfd5gYOHCiRcozAM37kwoORnwEpsDRzisgvaCCdbYNG+0ZqoT8nTZok6y0YFrxgDZAVAggo8Y5iYGqQLSA0ocR9r169wndGsqALiVZj5qRGjRru5JNPDj+Jn4suukgOnFyCqmbMmBF+okdKjQvWmakMHkyf3+Jj9ffff//Ylex+++0nr4QCgh8xlCtXTl7jZJ999pFXrpvrJ6zUL+RrtG+kDqYyGTk8/PDDrnr16m7kyJHykGrAM8J6IZGH7MWCDDNNFfeoPwrRYixIG8mDDkChT5gwQUaBt9xyi6zBaoEho22cE2SXUYx2zmFKnxgiTFiEZJ7RT1ERmgwsMsVNtWrV5OFkKgPl/v7778v5gw46SF7jxLfBwi/TgxhVpsrYqGnfffeVz4ySD0qc0FFCcZlKuOOOO3YsimrCmkGlSpXkb6KekGctKleunJZrziYILurZs6csEbD24Rf1NUEXVq1aVV4JJtCOWk25ceEmYlzIDyDWml3ceEiInIgbosMIQyYyjVBkckwYTbGbZtzUqlVLFn1RBMTVP/jgg2JkWrVqpeqxGMWD/iMUmb7DIWJKg6mNV199NfxGfBAQQwgykYc8O4ycUE5EH7K1rBbkGDEtZyQHC/gkw+JcYqR5RYZwWuKG0Qk5NqzzkOvHCBzH5JRTThFHV5OUj/WvuOIKuaFcIOG4PBQMyTQWlLDSTCkwLUZ0xAcffCAPCkYnbhixjR8/XhZhuV7mOYl4IuoGBWFkBmxri3KHhQsXyrw1obk4K3HD4i/PDGGsyDHb3LKgT4UCTe666y5RjkZykJu0fPly+ZvUjC5duogMaUTgkU/Dmhky1Lx5cwnpJx2EPtUm5caF6SFGLTwQjGLGjRvnOnXqJEOzuCFKjCgJHgziy0lkZATh10Pihj3vUUIoBMqW4HkyxWAkB6NQnAQeTK2kPqYwUQa0Gz3q1q0bfiM+SNjEMSFHgX3TmacnAVk70ufYY4+V5ycbINKO/iNL3adFxA36hsoAuWUIxyFuiJClIgq6l9ki1s7Qx8iWOkGEX8J9q7/77rtgxYoVQbly5ZLeQz8xFAt++OGH8F3R+LaYe+hzHYnhYdL7hBd3D33a5j4mA3tVJ4avQbt27YKJEycG8+fPl3Psxb5t27ZC7V2dTvhtvu/Zd7xevXq2h34RQX44koU99BOOVnD++ecH99xzT/Dkk08Gr7/+utyHxKhe/t/0UX6sW7cueOONN8J3+kRliPvXuHFj20O/iKAnuH/F0RXsod+gQYMgMeoJ5s6dGyRGY7KP/tatW+X/XZAMQWwhMNE8D20YJTEdpzFaygvatqkwI1mQH801ltww23DjjTeG74xMxOcapksHQmzGxTCMzISablQUN4ziYMbFMIwcEN1IgIphFAczLoZh5IDKBOko+GhkF2ZcDMPIAdFyl112WfjOMJLDjIthGDlg2wrbJsIoLmZcDMPIAZv8zZ49O3xnGMlhxsUwjBxccsklkoBsGMVhF5Jdwr+laN8vYUVjynyzIx9ZntqFF3/++WcpH8OGY2Qqa1Wk9bz55puyrS2lP7RhSoJ9ryn/QWVTqklT7Zl7QQQPGcfcj3TGrxcEMsRBH7JJ2gUXXCC1ltKR8U0ZF2qDNW7cWDZv04Q999n0i0oN2m2zYR81ysgIj8oQmeNRGcrvueLfUkKpXbt24RldojL0+eefS4UPahS2aNEi/IYelANi4y1qrWnvCEqxSbZGpnyV3/hQE7b5ppQXW9azxw8yRJUDZIhKAOTSFKSbd2pcMCyU4dCE30ChQDrTVzrWBKVIRWUMmzbbtm0TYW7dunXGGxcqY19//fVu1apVadkRkAKqyDIF+7TvF+1SGZvCqdpt8/ywF0y9evVky4CiGhfqA+IQPPDAA+EZXaIy5I0L24VTHFYbFDzFTNnTR3tnVJyEt956S/YSYsM6bdDBlCKKzbjcd999KoUfo/BQUnCSDh07dqyUH9eENq+99loRbG3YLoD909nLI9ONC3uRUIyRTGGKeGrDqIUtEPC+tGWITcZwUBj5a1eqoKIzDgpKEYpqXFBq9J9WPbfcRGXIGxcqCy9YsCD8hh7UCqReITMp2qMHyvZTV+/OO++UIpTa4FyT8xSbcZk+fbooOU0wLrVr1xZPZcqUKeqK4Z///KdsNfuD8v4HwH2n6BxFMLPBuFCZ2o9Atdm4caNEPbGHuLYM4fG+9957UgRSu22MC14nUzr0Q1GNS0mcFkOWKCGvzeTJk93NN98shk1jX6goVDRmehwHH32gDTqYUX+yxiX/TwzDKJWwVvTMM8+E7wwjOcy4GIaRg5tuuslNnDgxfGcYyWHGxTCMHLBrIjsYGkZxMONiGEYOiFAiws8wioMZF8MwcjB06FCJUDKM4mDGxTCMHIwfP14ipAyjOMRiXEheW7Nmjez/TZ0iQou1+OmnnyR8kexS2t+8eXP4SfwQPvn1119LpA3755NVbCQH9xI5Il+E/qRfNaBdQnlJpF2/fr20T2i+FiQ/fvLJJ9I2Saha1x2FnJJML1zJfVyxYoUYSZJCn376aQmv1oB0DvK7yJcbPHiw7GFPKLU2yDKRf+hBklC1SblxWbp0qevZs6ckAlL64+qrrxZh1YCH8YYbbnD169eX0he0j5HTAEVIPDrtUqaCtskRMooOimHDhg2SCMhDSr4G5zQgt+ntt9+WBEiSMGmf9xo5TygD5JX8GN/2unXrRFlpMmDAgIzf5nj58uWS/I1yv/XWWyVPpFevXiqOAkmovXv3dv3793cjR46UhGhKSaGfNEF2vB6cMGFCeFaPlBuXGTNmSNkITW/PQ+La7bffLl6XduIa9OvXTxK90rn/eTbASPejjz6SJDptSAwrV66cJF5WqVJF+hKvkxFp3JAYS8JjjRo1XOXKleUcFQY02o4yatQoN3DgwPBdZlK1alXXo0cPGbEMHz5cZIkouOeffz78RnyQYIghIwmSkRO15ZjNoF6hFujfYcOGycg7XaTcuDRt2lRi5K+77rrwjB4oBQSJrPDy5cuHZ3Ug6xlvZf78+TJyMpKHrGBKbVAXSxuMCQqe0ic+G5mRAyNTDciEppYfrzhIjGa0Ry5c/8EHHxy+y0yoiUilDYqWDho0SLLNMTAaUXDoAkZKdevWda1atRJdxPSm1ugbli1b5hYuXChGNl3ObsqNCyVjGAJqV4IFOvHSSy+VejjpgOQzBKqgkgjGzkGpVqxYUb0mlydaWgfFzntGNFowBccoHO8TL5jil5qcd955rmvXruG7zIQ+8/2IgfajYBxQDWiP9V7WW1gzpHRMzZo1w0/jh1Eastu5c2d158STci0YfTDTQTrbT/e1G6kFT5PFfTw/lLwGKEKKl1KyHyeFEZy2kaWSNaPwbIH7ycGIgpGMBhQNpWgpU+UwevRoV6lSJfk7blijZLO3bt26iVHLGuNiGNkCC7CMIhiFM1WnBVNxFPtkKoWoNa0pOQ8KmEXobIBgImYzuId9+vRRmy5HXqhkTMl6HBTWXgjUiBvWK7lOplYpPOrXvjEw2pGHZlwMIw9YxCeogNEoU3Ra02K0x2iFgAKmd1nMx8BoQql1NsfKdFCmJINSup4gie7du4efxA8VqCmhM3PmTNnygUACpsjihrUWggeQG6J2R4wYIed9YINmWogZF8PIBZ4m0yjAtIL2ZnlMh7HuxAgGyM9gukwLwvmzYVpsyZIlkhDKKOKaa65RDVLASaAPfWAKIwcCjeKGzQYZndE2IyWf50d4NH9rypEZF8OIwDQCOTZMo7CQzvQUyl1jaopFYDxLFBHtseU1sN6juZ539tlnu44dO4bvMhPylPr27SsJqV26dJEIOCLFSE6NG9bqUORMqaLg2aOJ/mM/lLhp0KCB7MfjDxJIgbxDwss1d9M042IYETAkPjud+XqSGlFKGlNTGBZyIfzBb2ERGsWoCQvP6djcLVVgnJkOYvSJp07uG1GcLLCT1B03jFBIR2C9hY3/+B3cU9I04mavvfaS6/SHDyJgs0FypzQjWWNriTh9dlI85phjZIimDfuH0772Vq10HiGHp5xyyo5EOCM5uJdMSTE9pLXmQTu0R7vRQ8Pjw7tFXolOI4iAeXu2h9beuz0bkiiZzuT5z31o5E7RXyh2+hEd0KFDB3fvvfeqhiJ7CL3muln30SY249KkSRM3b9482X86HXtx05m0T/KUJoSNUlWW2mbsf12SIZeCigosXJdE8NoPP/xw8aK1FCxTYbSZ+yChMm5YG0AJoIQ4Dj30UPFEtSG6SsPDjwuckssuu0ye/9wH5+OGtZ3777/fLV68WBIZSSpv2LCh6qjBQ3AG152ONbTYrhYly4OqPV/s4UGl/XRkp+J1MlePcizJUFiT/bE1y1IUBeSGkQSHlgxF24weWoqBtpBZjnQoIyCgQavIY1zgjPD85z60RqDovbJly4pzkE49gBxpXXdu0iO9hmGUWCjASrHH/CD/h4Xxgo501BY0ShZmXEoZLHBGj/zOGaUX1lsKMi5DhgyRvJGCDiLujNKNGZdSBnPBFPTjYF0InnjiiR3nJk+ebAamlMMWAwXtRUQZd0rEFHQQnWSUbsy4lDJuueUWd+WVV8rB9AewRYI/RwinGZfSzZw5c8TJyA9CalkYL+hIRyCCUbIw41LKoAwFCV4cDz30kJzDyPhz7FiXjgAMo+RANju5IfnBRmJsxFXQQeFGo3RjxqWUQVg4+RMcvrwINaz8OT4341K6YZMrtifPD3JICPEv6EhHdJJRsjDjYhhGDl555ZUCd2xk21xGNgUdWvumGCWXXYLIBDt/UjqBMELq4fiNv7SzO2n/2muvlaJvF198scT+a7JgwQJJLvRrEpqQ0Ej1UhZNyayl9Ac1iVggZaRBzDz5D6kYXbAlM9uxEhlERYFUgAxxUCeLysKUwiDWnp0BtWGTJgr5cf+0850oFLhlyxYpv6HdNnXJiNZiTxj6wcuQH616Gcovj4ZQYyoKp6PPICpD9GGnTp1EjtKR2ElFZaoZU6NLO0iBPfCp6kxttFq1aoVn9SAZ/IADDpBcOCquIEN+d1byeHaW/7VT40LxvHRMk/AbaFf7wQSEmiMdZWv8g8VugHEbFxQICXMkfaZqQyr/+6PGhTbSNdXGbymNbXP/Kd7Ia1GNyx133CF796djq3KIypA3LpSRT8fOpOhDfgd6SLsvuQfoQdouSInHBW1TIy0244L1Ovroo8Nv6IDnRekUyl+wuKgtVNOnTxeP4cUXXwzP6EEVVUZrVKaN27jEATLEETUu/GZGodpQ3oZ9LSjHoS1DKOdNmzZJ6Zh0jFwIJ0525DJs2DBR6hiZdBCVIW9cqG5MGRVtCNMnfJ+pPhSsJq+99pobNGiQ5BVRxkUbdDDTm7EZFxQtSk4TqsOyKMhQcMqUKeojCPI9CMulZLY23HcqqZ555plZY1wohZOOKrsbN26UCsdsvKUtQxg2HIVjjz1WvW1Giq+++qpsd5uMceGe8e/StW4SlSFvXJAlpnG1ISSbXSSZKieQQRMCK84991yZnkcfaIMOpoxWssYl/08MwyiVsN6YjlGCkV2YcTEMIwfMXKRj1G5kF2ZcDMPIAXuvDx48OHxnGMlhxsUwjBzcddddsqhvGMXBjIthGDlgwTYdG/wZ2YUZF8MwckB0ULdu3cJ3hpEcKTcuZEQvX77czZo1yz322GMS609YoQYkBZLV+sgjj7jZs2dLWC/hjBpwjWQ2k+z18MMPu6VLl0qOhZE89CeZ7txHrX4E8kRIHqY/aV+zbRbTt27dKm1z3aQGaDN69OiM3uYY6DNyfdhWgirPhMSn414iS5TTIWeOPtWCa6eEjz+oNLB9+/bwUx1SalxQBt27d3ennnqq69Chg2vTpo07/fTT3apVq8JvxAs3kWSjdu3aufbt20t1Vkqb8LviBiNKXs5ZZ50lJXOaN2/uevToYVE3SYChRsG++eabcvCgaD0YtPPWW2/JgaNC+yQjaigmrpt9VGiTtnGO0rHpVpUqVdRLPqUa7iP5Ym3bthVdcNppp7lly5aFn+pBmyREt2jRwi1ZsiQ8Gz8kXqJ7/YE+ohyRJik1LmQiV6xY0dWtW1duJvO2PKTUytJQ8NRCIiOaulw1a9aUURSLk2vWrAm/ER8knLGHBULMwfXOnDlTcgaMouENC/2HB8qhNfolMYwEMWSXtQfaZRSjMQolMZYK1T5hlusmM537oEmDBg1ckyZNwneZCbqA68DRRCcxciExWhuy+z/++GPpQw0d6CGBGEfpyCOPlIPdQbWTeVM+Lda/f3+Zkpo6deqO8hEMCZleiBuKBKLMyeofO3asZJNShoNM5bihxPi8efNkSoyqBmTUohwYkvNqFB7uJcqd/tQGB6ly5cpSUYBj9913F6VA1rsGtE3ZI0YOKANkR3s64+6773Y33HBD+C4zKV++vDyL99xzjxs3bpyco2qBJitWrJBpuTJlyoRndKDCCVNwZNTTPsfcuXPVKy6k3LhES0xQdsOj4XnyMNI+daQQLgoygpbXizKkTUom+FpaWm1nE9zD6tWrixxpw+gB+aGsBaMYX5NMq9wOxg2ZYToVw8J7RlKaMJ2UqirZ6YK+4zlkzQMvnv7TrM/FSKVPnz6i4JFlTXCoaR/nGjmi/BKGhXuiScqNSxS/0+FRRx2lrigYrVAjiWkGbQ8YgX722WdFoJnv1O5UIzWwuI4XSP9pbX6FYUEZMp3M39QF806SFoyeMn3NBZgO79ixo+vbt68oeK3RGP3GLMbKlStdy5YtRQdpQj02arGtXr1aDGrXrl2lQrY2sRmX9evXy7QYI5jOnTurV6VlGMhcOfON0RGUBkwLsqDI6IUFRSMzYe0H48KIGO9PC+SWdlFSTMfxqsn48ePdTTfdFL7LXNi2++mnnxZFy98E3WiA3DA1j84jwEnbuWQabtSoUa5Vq1ZyzUzTswauueYDsRiXb775RqK0WGc56aSTVIfYRPWwRSujprJly0rUBMNjLd555x03YsQIUUgIVjqmdoziw+iTjdtQ7EyxajlHjHZZfMXTRoaYO9eO8qESLw5hpkNgDaMXwqox1kRvatxL1nZefvlld9xxx4ku+vDDD0UvES1GoErc4NT269fPPfjgg1JRmVE3eonRsCaxGBd2bps2bZpYUDYc0tzBjaEg+6EwpXHjjTdKxIgWCBAeAx3ZqFGjrHhASyN4eIQCM2rAsGjv44Eh45lh/RDjhoHRHL2wxqPpkMUF95G9fDAuvDJNTv5Z3Kxdu1ZGSwQy9e7dW0LKkSkUPdPlWuCoHHPMMaKHkR/tvLuUGhcuAOuIx06EC0NDPDCtJDgWsthcDI8T74uILToZLzRuuD7KlBN6yCIem40xJci1ayoGo3jgIDCVwNQGCpY1D/pPK88FOfLtebnVnlZ54IEHRH4zGe4dB0rdr0GARnAE+XVjxoyR2RumF9GB9CFh0RpBBYzScK45cJLQQegiZFmTlBoXPCyGnnQkF8PubeSccJCIFjc8FGzqA4xg6EzaJhw4bkjgJDoEpYAgsYhG2xdddJF6KKmRPETZsNEX8HCy4ReeqD8XJ8gJo15yMlAKKEVkiZGTVrQakACNx53JsM5ACRv2vmfLcHJN2FGXafq4IZmaaSmOXr16yaiJfiS4hw244gTnhMAF2iYthFfk6pJLLlHfDTalxgVvj1EDsN6yePFit2jRIjk0hmTMZ6IQAOPi2yb6Jm5QQj4bH+Xg26bsgobXa6QG7/EBni8yzaHhINAGUzcoQhw1wqHZ/VA7TwLHkCNT4XkjxwRnEweXHSyJWJ00aZJqYEY6QGbJ9SO3h3wlknAxsuymWdCukXGQ0tbIhKWuF7XFch8asd7sQZFX24Qjxg0hh3m1PX/+fPVQ0myBhUi8QBa4te4hYaO0mfvQWHfBiNSpU0eeFSpN4Glrr/eA3zM+U0GJjhw5UmYTSKRcuHChHMiRNgRlMD2Gk9m4cePwbHzwnLCuxN7/VAihrhnbtqfDWUipcUEZ4CGwb3juQ8NjIJ8lr7Y1HlCSlPJqm2GwtseQLXDfyJDn0Fp3IGnRtxk9NPJcmPpiTYDFfCIdaVNzOsxDXkim7+eCviGYh/qGRKtSmikd9xIZpuICC+v0adxwjaz5NmvWzLVu3TotZV88pvUMw8gBU9vkqRlGcTDjYhhGDqhFxXqFYRQHMy6GYeSA/LB77703fGcYyWHGxTCMHFAyRSN838huzLgYhpEDoqx8vphhJIsZF8MwckBOhE2LGcXFjIthGDlgMd9v9GcYyWLGxTCMHLAXkkb1XiO72SWIVFX0BfMof0ElzzPOOENKX2gnAfI7KKVCuyS1aSc/UeyOQyNxLjfcfw7qIZ188slSbI6kKL+vOpm23Jd0JIQVBvqOgxpH1JijFA6F9NLxe/1voW3t9tPdNvefDaJ49TIU3SUWGcrvufZ7yKSrMrK/d/x26qt16tRJqgmnIxmQ34AuoG3tfvS6GB2olUQchVIy9evXd+eff74koiND7G6JDJHsy28qyDbs1LhQ8IxSFJpgWCg4R8b9pZdeKjdXE0onTJ06VYrfacPeD+xBQ9HLbDEulD5PRxkT6nOxt9ABBxygLkPU1qOuU5UqVdTb5vnBsFAsNhnjQiVflPro0aPDM7pEZcgblw0bNkiItDbUR6SkFdXWuX+aUGH+tttucz179pQMf22uvPJKkZvYjAsKFiWnCZ4uZVOo6UTZfm2PhVo83FhfiFIT7jt7mLNdQLYYF0pxVKtWLfyGHhQspRAkO5FqyxBVlClmSgkg7bYZebBhFdNbyRiXW265RZQ69bnSQVSGvHFBlihAqc3kyZMlwIHoOYqIavLcc8/J1iHsA4M+0AYdzOg1WeOS/yeGYZRKmK3AUzeM4mDGxTCMHLAfCHsTGUZxMONiGEYO2NzqkEMOCd8ZRnKYcTEMIwft27eXQBrDKA5mXAzDyAHrLd27dw/fGUZymHExDCMH7DPfvHnz8J1hJEcsxoVwZsJ4CSXUhhBGQqlJfEoHXDPXzu8wMhf6DzlORz9qt01bPnGYo0mTJpJnFT3Hd4zMxOtjbVJuXKZNmyZ7RZNbQL7GnXfeKTHqGmzatEnmi4888kjJkSHihWQyDbZv3+769esn18y1n3XWWZJVbBQdlCq5GuyIuHr1akkmI/dJAxwTEvZWrVol+4+Td7RlyxYVRU8btP36669LngolWMjziBvyYcipYv9+jqpVq7rKlSvveE+WNvcjUyEpmutr2LBheCZ+3n77bWkvepAQqQUGZe3atW7EiBGij5s2bRp+okfKjcvKlSslMxhvh7+vvvpqNSX79ddfuxUrVsie5/yGu+66yw0ePNht27Yt/EZ8kIVNwidKkczwxx9/3A0YMEAytY2iwT3DoLDVLn9zaI2CeSi//PJLMTK0SfkjFL6GDJEYizGhXZ6fr776SpwjynDECYYEA7JmzRox5hh1qgvwNwfOWs2aNcNvZxYk0ZLhvmTJEklK1ILkYdqLHhhxLUg4bdu2rayfeZ2oTcqNC8ocxY73RekLFD77Q2iAx4W3uWzZMonVJ3sUD1DD+8O44OVy3YsWLZL3eC+2F3nR4d6h5KlKoA2laqgmQLmNo446SjKUMTSUkdGgRo0a7uijj5aRNxnQGJa42+aaUUKHHXZYeOZXyEpnRK5dwiYVIENsHYCh1P79mzdvltc2bdqIUcFJGD58uJyLG2ZRrr32WnHQWrduLa9z584NP9Uj5caFEhOUu6DEBMoBBU/5CQ1ol9IEPJT+da+99pJSBRr4Glb+uvEWaN8oGvQXU4sVK1YMz+hBv9E+r8jwbrvtJtNVWiMn2mQEgxzxGzg0ysdgRPv27SvXG4XSHziJmcjHH3/sZs+eLVN7Bx54YHg2fpCXzz77TP6mZAoGmjqJWrXJZs2a5V544QV36qmnulGjRkn5JeRIm1haZKTSuXNnGY5R9PLss88OP4kfRk0U3hs2bJh4Lqy7aHnAtMfUGNeLt8uwNB0KMtPhQUDZpbt+Gv3JQqg3NBqgmJhWxdtEhsqWLSvKQQO8XEZOHhwjppS0rj3VMDXNVB8KVlO5MqXpZ0vYG4c1j4ULF6qs2yGv99xzj8guI3AMDDXCJk2aFH5Dj1juOMXeZs6cKRdI4b499tgj/CR+qGJ6/fXXy7CUeeLowxI3CBWVW1n8ZOSEx2RkLgSisIbGtJFm+XnWPFhnYuSt+exgTK677jq5VkZLBONkqnPEPRwzZowU39WuKIwRYbbmtNNOEz2wdOlSmR576qmnwm/EB1Oor732moy0Ma78DkZR5C3Nnz8//JYOsRiXQYMGufHjx8uIgdL148aNCz+JH6K0iA4hTh8lT6axn/+MG5TQgw8+6C6//HJRTFdddZVtupShoCCYVsFhKFOmjNrePozWWDtkKoXfQGVnggq0QCF26NBBlDJTYpkITi2Gkee+QYMGsubhQ3GpVB135CF6gOKfONhMUbF+RmABpfvjhjVuro9pVbZMuP/++13dunXF2BDUoDW9C7EYFx6OLl26SOluFiS5wSwyaVCuXDl5QFjQKl++vCyqM8WgAYqBjiT8r1GjRuIxYFyNzALlhFInagwvHkWvOUXHNBgjBuboMW6U79eYUgGUEkE5PD+MnDIRHDtGCYw6idgkMIP+hHr16olnHyfICmtXOCW0zbQYMJqKG/qM9pnKZJ2HaVU/+mSqDnnSIuXGJfoQeG8Pw6JxUdG2eUi4ySgK5q7jJvfD7+ep8SSMzIF+ZM2DnCkUBI6S9n4sHr9OoOltAoEphB9nKjz7zZo1c+3atZODKSkfisv+KJpRiPSdX3/RaBeDhoONzmXEi/7zjj1TrJoOQ0qNC8MxhqPEdDM1RQgj4C1oLEoS2z1jxgwJCWbUhMfHPDIWPG4YetMmodC33nqreE50pGYwg1F8kGF2A8XIoNxJoCRIBIMTN0zd4GHjkBA+S9uA96k5cgLt9lIJo002+GIxnYPNtpjFAHLf4q74zHoZU2LMmLC4TsQaDorGpovoWQIzMGqsfSNPzN4AC/sYXi1SalxI+po4caJko7Zo0UKmhU488UR32WWXhd+IFyIyiNDC62IHTRazWPfA+4wbjAu7V7J4yCujth49eqjv4mkUD7w8PydP4iRKnkOjygRtowzIlcKgAV4oh1E0cAxw7vzhjWX077jAKRg4cKCE0/fq1UtmbVjHatmyZfiN+ODamNZkrYkpeXQxssSITaP9KCk1LnhYLN6zkEQoMGstXGD16tXDb8QLQ2CSpri5EyZMkGgJQqI1rDVrLSQqkSjFyIW2iRxjcc9IDrw9wilxDrTCYfH8aDP3oaHgfX4PazzsqUIYP9nzKEQjeXgGeSa11j/33Xdf2SqdyDtmM9AFlH7RynOhfa6VURMOLiW5GL0RuaZJSo0LCgCL2b9/f8n4xVoyf6sVY06yF8YEpd61a1cZwWgpdwSHKbAhQ4bISA2PQbszsw2cApQ691arHzFofrQQPTSmdbnevffeWxZgeW6Y0jXnpPhgnPHaL7jggvBMvLC+w573Q4cOlchRqkxr6wKSRi+66CJJy+C3pEMX6Wh9wzAMo1RhxsUwDMNIOWZcDMMwjJRjxsUwDMNIOWZcDMMwjJRjxqUEE43Hz+SkNiN9IDdedkyGjGRJRnbyNC5RgTTSg+8D6wcjWbzsmBwZyRKVHf93YWVppyMXspUp46x9UBOHzNa8Pov7oNgm5T/y+izug2J74DOL/VHYDi1J+N/MvaQchfaBDEFen8V9+Fpz/Ia8Po/7APLLyJPx8pOJMgT8bq4pr+cl7oOqCfQh1Rry+jzOA12AHKVLB3PPkSHyr5Ahn69YWDnaJfHjd1Rc5E+v1CkVT9l6EoI0Esii8BvWrVsnGcsklGk/FNSR8vvBaIMgsTXyhRdeKBv9VKhQQQ6S66iZRKIqnVxSFYUXJ2SIB9LvAa9Vsj4Ktbr4HbStlcjroVgq102fafeVV4ZsGUDbZGxTW8tvPFbSZQiQI/qOUvWdOnWSnRU1yjjlhsrYlHOhUoJ2AVMU/IYNGyShNh1JkOhg6kKii5Af9BAJzRTARIaiBicvchgX8MYF5UopExQdDykPCwef5/onRgrhgceoklVL+Q86k2qqVDvlPJ5oJigGvB4MJQqOQn7IkFf2fGYyFC/IBwYGw0qFAS9DGLtMkiGuYezYsW7RokU59BCfoYuM+MB41K9fX+ojIj/oIqpGRB2UIhsXDrwulAJlm3nloKM5b8ohHnjY6Sw8JDoQD4HORCnwHkXBEJXvlXTF4GUIA0OVX+SIA2+M8xgZvmdylFq8DGFA2DKAmYfcMsRnmSJDGBT0DkVxvT5ChpiuQobMwMSDlyEcWvQQ8sPoib+RK3QU3ylIhn5jXHyn4h34CrF0LgfvbfQSH/6Bp1PpPDqWA6VAh0Y9zkxQDDz83sAwf+yVAgqDz00xxAMyghPiZYjRijcsUaVQkmUIcGI5kCHkBvlBDyFPJkPxgowwckFe0D3IEIc3LIVxcvM0Lhx0KoaETuTw3qYfteT6Z0aKoFOjyoGDISiGxc9xlnSlAF6GkJmoDCFTNmqJFy9DXjkgP5kuQ8gN8uNliPMYFpOheEA+vB5CbpAfr4+iMlQk4wKc8l4BneiPqKdgnRoPvsO8coge/nwmgHx4OYrKEIf/zGQoHkyGjOISlSEvRxga/95/XhB5GheIdl7uw4gX32m+c3P/nSl4WUE5mAzpYjJkFJeoDOV1FIxz/we4sOmKnYnf3QAAAABJRU5ErkJggg==)"
      ],
      "metadata": {
        "id": "EsMreJPOxo8m"
      }
    },
    {
      "cell_type": "code",
      "source": [
        "arr3a = np.arange(1,4).reshape(1,3)\n",
        "arr3a"
      ],
      "metadata": {
        "colab": {
          "base_uri": "https://localhost:8080/"
        },
        "id": "vviermfpxrnm",
        "outputId": "4b35936b-7e23-468d-bb90-539dfbe13e65"
      },
      "execution_count": 83,
      "outputs": [
        {
          "output_type": "execute_result",
          "data": {
            "text/plain": [
              "array([[1, 2, 3]])"
            ]
          },
          "metadata": {},
          "execution_count": 83
        }
      ]
    },
    {
      "cell_type": "code",
      "source": [
        "arr2 + arr3a"
      ],
      "metadata": {
        "colab": {
          "base_uri": "https://localhost:8080/"
        },
        "id": "l8qOyjUfxw1L",
        "outputId": "d11576f1-d549-4ab0-e750-b5c1da606be3"
      },
      "execution_count": 84,
      "outputs": [
        {
          "output_type": "execute_result",
          "data": {
            "text/plain": [
              "array([[1, 2, 3],\n",
              "       [2, 3, 4],\n",
              "       [3, 4, 5],\n",
              "       [4, 5, 6]])"
            ]
          },
          "metadata": {},
          "execution_count": 84
        }
      ]
    },
    {
      "cell_type": "markdown",
      "source": [
        "![image.png](data:image/png;base64,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)"
      ],
      "metadata": {
        "id": "FEpkk_C3x0GA"
      }
    },
    {
      "cell_type": "markdown",
      "source": [
        "**예제**\n",
        "\n",
        "아래 예제는 2차원 어레이의 칸을 복제하여 모양을 맞춘 후 연산을 실행한다."
      ],
      "metadata": {
        "id": "BpDsb9Nrx17F"
      }
    },
    {
      "cell_type": "code",
      "source": [
        "arr4 = np.arange(1,5).reshape((4,1))\n",
        "arr4"
      ],
      "metadata": {
        "colab": {
          "base_uri": "https://localhost:8080/"
        },
        "id": "JFaE_iLzx5a2",
        "outputId": "3cdda40e-9395-4f94-b167-db9908ca2af7"
      },
      "execution_count": 85,
      "outputs": [
        {
          "output_type": "execute_result",
          "data": {
            "text/plain": [
              "array([[1],\n",
              "       [2],\n",
              "       [3],\n",
              "       [4]])"
            ]
          },
          "metadata": {},
          "execution_count": 85
        }
      ]
    },
    {
      "cell_type": "code",
      "source": [
        "arr2 + arr4"
      ],
      "metadata": {
        "colab": {
          "base_uri": "https://localhost:8080/"
        },
        "id": "rKC6Oh1lx8yW",
        "outputId": "0661b122-a458-4c35-9185-13e21eb08fe1"
      },
      "execution_count": 86,
      "outputs": [
        {
          "output_type": "execute_result",
          "data": {
            "text/plain": [
              "array([[1, 1, 1],\n",
              "       [3, 3, 3],\n",
              "       [5, 5, 5],\n",
              "       [7, 7, 7]])"
            ]
          },
          "metadata": {},
          "execution_count": 86
        }
      ]
    },
    {
      "cell_type": "markdown",
      "source": [
        "![image.png](data:image/png;base64,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)"
      ],
      "metadata": {
        "id": "8pfWmNVDyMoX"
      }
    },
    {
      "cell_type": "markdown",
      "source": [
        "**예제**\n",
        "\n",
        "아래 예제는 2차원 어레이를 3차원으로 확장한 후에 연산을 진행하는 것을 보여준다."
      ],
      "metadata": {
        "id": "hTGTbxSQyOCN"
      }
    },
    {
      "cell_type": "code",
      "source": [
        "arr6 = np.arange(24).reshape((3, 4, 2))\n",
        "arr6"
      ],
      "metadata": {
        "colab": {
          "base_uri": "https://localhost:8080/"
        },
        "id": "GCI_VjhLyawX",
        "outputId": "cde0b6c2-40f5-450c-994c-d86c55fc6535"
      },
      "execution_count": 87,
      "outputs": [
        {
          "output_type": "execute_result",
          "data": {
            "text/plain": [
              "array([[[ 0,  1],\n",
              "        [ 2,  3],\n",
              "        [ 4,  5],\n",
              "        [ 6,  7]],\n",
              "\n",
              "       [[ 8,  9],\n",
              "        [10, 11],\n",
              "        [12, 13],\n",
              "        [14, 15]],\n",
              "\n",
              "       [[16, 17],\n",
              "        [18, 19],\n",
              "        [20, 21],\n",
              "        [22, 23]]])"
            ]
          },
          "metadata": {},
          "execution_count": 87
        }
      ]
    },
    {
      "cell_type": "code",
      "source": [
        "arr7 = np.arange(8).reshape((4,2))\n",
        "arr7"
      ],
      "metadata": {
        "colab": {
          "base_uri": "https://localhost:8080/"
        },
        "id": "Jici11SSyfLw",
        "outputId": "f84dc03e-6b24-4db8-e80f-077a643e1fc3"
      },
      "execution_count": 88,
      "outputs": [
        {
          "output_type": "execute_result",
          "data": {
            "text/plain": [
              "array([[0, 1],\n",
              "       [2, 3],\n",
              "       [4, 5],\n",
              "       [6, 7]])"
            ]
          },
          "metadata": {},
          "execution_count": 88
        }
      ]
    },
    {
      "cell_type": "code",
      "source": [
        "arr6 + arr7"
      ],
      "metadata": {
        "colab": {
          "base_uri": "https://localhost:8080/"
        },
        "id": "V2RDDSz5yik1",
        "outputId": "df2c50d0-ba0e-410f-f107-8262920c12e2"
      },
      "execution_count": 89,
      "outputs": [
        {
          "output_type": "execute_result",
          "data": {
            "text/plain": [
              "array([[[ 0,  2],\n",
              "        [ 4,  6],\n",
              "        [ 8, 10],\n",
              "        [12, 14]],\n",
              "\n",
              "       [[ 8, 10],\n",
              "        [12, 14],\n",
              "        [16, 18],\n",
              "        [20, 22]],\n",
              "\n",
              "       [[16, 18],\n",
              "        [20, 22],\n",
              "        [24, 26],\n",
              "        [28, 30]]])"
            ]
          },
          "metadata": {},
          "execution_count": 89
        }
      ]
    },
    {
      "cell_type": "markdown",
      "source": [
        "![image.png](data:image/png;base64,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)"
      ],
      "metadata": {
        "id": "sRgYKA2CypAO"
      }
    },
    {
      "cell_type": "markdown",
      "source": [
        "**예제**"
      ],
      "metadata": {
        "id": "03l6wDqDyrHW"
      }
    },
    {
      "cell_type": "code",
      "source": [
        "arr = np.random.randn(4, 3)\n",
        "arr"
      ],
      "metadata": {
        "colab": {
          "base_uri": "https://localhost:8080/"
        },
        "id": "YDpj9FpFysXD",
        "outputId": "c7826ef2-9423-437c-cc8c-f9291bbc94c0"
      },
      "execution_count": 100,
      "outputs": [
        {
          "output_type": "execute_result",
          "data": {
            "text/plain": [
              "array([[-0.4028,  0.2205, -0.1934],\n",
              "       [ 0.6692, -1.649 , -2.2528],\n",
              "       [-1.1668,  0.3536,  0.7021],\n",
              "       [-0.2746, -0.1391,  0.1077]])"
            ]
          },
          "metadata": {},
          "execution_count": 100
        }
      ]
    },
    {
      "cell_type": "code",
      "source": [
        "arr.mean(0)"
      ],
      "metadata": {
        "colab": {
          "base_uri": "https://localhost:8080/"
        },
        "id": "bSfJN2wyyu_h",
        "outputId": "2d4bdce1-00f8-4890-e4ba-28d17b4ee3c9"
      },
      "execution_count": 101,
      "outputs": [
        {
          "output_type": "execute_result",
          "data": {
            "text/plain": [
              "array([-0.2938, -0.3035, -0.4091])"
            ]
          },
          "metadata": {},
          "execution_count": 101
        }
      ]
    },
    {
      "cell_type": "code",
      "source": [
        "demeaned = arr - arr.mean(0)\n",
        "demeaned"
      ],
      "metadata": {
        "colab": {
          "base_uri": "https://localhost:8080/"
        },
        "id": "87OVs-USywHW",
        "outputId": "aaf79f06-dc50-4595-a93b-9696988f771d"
      },
      "execution_count": 102,
      "outputs": [
        {
          "output_type": "execute_result",
          "data": {
            "text/plain": [
              "array([[-0.1091,  0.524 ,  0.2157],\n",
              "       [ 0.9629, -1.3455, -1.8437],\n",
              "       [-0.8731,  0.6571,  1.1112],\n",
              "       [ 0.0192,  0.1644,  0.5168]])"
            ]
          },
          "metadata": {},
          "execution_count": 102
        }
      ]
    },
    {
      "cell_type": "code",
      "source": [
        "demeaned.mean(0)"
      ],
      "metadata": {
        "colab": {
          "base_uri": "https://localhost:8080/"
        },
        "id": "IrIArwWFy0lT",
        "outputId": "eb76db8f-cf19-4c70-a828-adf92888c34a"
      },
      "execution_count": 103,
      "outputs": [
        {
          "output_type": "execute_result",
          "data": {
            "text/plain": [
              "array([ 0., -0., -0.])"
            ]
          },
          "metadata": {},
          "execution_count": 103
        }
      ]
    },
    {
      "cell_type": "markdown",
      "source": [
        "**예제**"
      ],
      "metadata": {
        "id": "Qv81hvRey_US"
      }
    },
    {
      "cell_type": "code",
      "source": [
        "arr"
      ],
      "metadata": {
        "colab": {
          "base_uri": "https://localhost:8080/"
        },
        "id": "A0tJUrrUzBQt",
        "outputId": "3e16624c-dd87-4182-dd0a-790690c0ca74"
      },
      "execution_count": 104,
      "outputs": [
        {
          "output_type": "execute_result",
          "data": {
            "text/plain": [
              "array([[-0.4028,  0.2205, -0.1934],\n",
              "       [ 0.6692, -1.649 , -2.2528],\n",
              "       [-1.1668,  0.3536,  0.7021],\n",
              "       [-0.2746, -0.1391,  0.1077]])"
            ]
          },
          "metadata": {},
          "execution_count": 104
        }
      ]
    },
    {
      "cell_type": "code",
      "source": [
        "row_means = arr.mean(1)\n",
        "row_means"
      ],
      "metadata": {
        "colab": {
          "base_uri": "https://localhost:8080/"
        },
        "id": "C7pMekyxzBzi",
        "outputId": "17fcde5b-4156-4b4d-cd16-01c1a1e4440c"
      },
      "execution_count": 105,
      "outputs": [
        {
          "output_type": "execute_result",
          "data": {
            "text/plain": [
              "array([-0.1252, -1.0775, -0.037 , -0.102 ])"
            ]
          },
          "metadata": {},
          "execution_count": 105
        }
      ]
    },
    {
      "cell_type": "code",
      "source": [
        "row_means.reshape((4,1))"
      ],
      "metadata": {
        "colab": {
          "base_uri": "https://localhost:8080/"
        },
        "id": "eJInhTw2zGEg",
        "outputId": "b470938e-5003-4563-e18b-8218db2d7e51"
      },
      "execution_count": 106,
      "outputs": [
        {
          "output_type": "execute_result",
          "data": {
            "text/plain": [
              "array([[-0.1252],\n",
              "       [-1.0775],\n",
              "       [-0.037 ],\n",
              "       [-0.102 ]])"
            ]
          },
          "metadata": {},
          "execution_count": 106
        }
      ]
    },
    {
      "cell_type": "code",
      "source": [
        "demeaned = arr - row_means.reshape((4,1))"
      ],
      "metadata": {
        "id": "a5hJExKHzJKf"
      },
      "execution_count": 107,
      "outputs": []
    },
    {
      "cell_type": "code",
      "source": [
        "demeaned.mean(1)"
      ],
      "metadata": {
        "colab": {
          "base_uri": "https://localhost:8080/"
        },
        "id": "885gTS8ZzOFw",
        "outputId": "100fdc25-ae3a-497e-824d-19647245c34d"
      },
      "execution_count": 108,
      "outputs": [
        {
          "output_type": "execute_result",
          "data": {
            "text/plain": [
              "array([-0.,  0., -0., -0.])"
            ]
          },
          "metadata": {},
          "execution_count": 108
        }
      ]
    },
    {
      "cell_type": "markdown",
      "source": [
        "## 7.2.1. 브로드캐스팅으로 어레이에 값 대입하기"
      ],
      "metadata": {
        "id": "uM4tYR_rzQv4"
      }
    },
    {
      "cell_type": "code",
      "source": [
        "arr = np.zeros((4, 3))\n",
        "arr"
      ],
      "metadata": {
        "colab": {
          "base_uri": "https://localhost:8080/"
        },
        "id": "my_qQY2pzTAp",
        "outputId": "633001cb-bc48-479b-f589-f5c3f656fb51"
      },
      "execution_count": 109,
      "outputs": [
        {
          "output_type": "execute_result",
          "data": {
            "text/plain": [
              "array([[0., 0., 0.],\n",
              "       [0., 0., 0.],\n",
              "       [0., 0., 0.],\n",
              "       [0., 0., 0.]])"
            ]
          },
          "metadata": {},
          "execution_count": 109
        }
      ]
    },
    {
      "cell_type": "code",
      "source": [
        "arr[:] = 5\n",
        "arr"
      ],
      "metadata": {
        "colab": {
          "base_uri": "https://localhost:8080/"
        },
        "id": "miKHPaGhzVCV",
        "outputId": "1d2aded9-f80e-4d69-e93c-0cd81b8a8bbd"
      },
      "execution_count": 110,
      "outputs": [
        {
          "output_type": "execute_result",
          "data": {
            "text/plain": [
              "array([[5., 5., 5.],\n",
              "       [5., 5., 5.],\n",
              "       [5., 5., 5.],\n",
              "       [5., 5., 5.]])"
            ]
          },
          "metadata": {},
          "execution_count": 110
        }
      ]
    },
    {
      "cell_type": "code",
      "source": [
        "col = np.array([1.28, -0.42, 0.44, 1.6])"
      ],
      "metadata": {
        "id": "TR9Zq6LpzWeb"
      },
      "execution_count": 111,
      "outputs": []
    },
    {
      "cell_type": "code",
      "source": [
        "arr[:] = col[:, np.newaxis]\n",
        "arr"
      ],
      "metadata": {
        "colab": {
          "base_uri": "https://localhost:8080/"
        },
        "id": "8Sf5bEcTzaw-",
        "outputId": "d1c669f5-acd3-473d-aa80-cac00c04f1e9"
      },
      "execution_count": 112,
      "outputs": [
        {
          "output_type": "execute_result",
          "data": {
            "text/plain": [
              "array([[ 1.28,  1.28,  1.28],\n",
              "       [-0.42, -0.42, -0.42],\n",
              "       [ 0.44,  0.44,  0.44],\n",
              "       [ 1.6 ,  1.6 ,  1.6 ]])"
            ]
          },
          "metadata": {},
          "execution_count": 112
        }
      ]
    },
    {
      "cell_type": "code",
      "source": [
        "arr[:2] = [[-1.37], [0.509]]\n",
        "arr"
      ],
      "metadata": {
        "colab": {
          "base_uri": "https://localhost:8080/"
        },
        "id": "KgCnw6j6zeI3",
        "outputId": "dc731fb2-9726-4b68-a8c8-9351bef13a3b"
      },
      "execution_count": 113,
      "outputs": [
        {
          "output_type": "execute_result",
          "data": {
            "text/plain": [
              "array([[-1.37 , -1.37 , -1.37 ],\n",
              "       [ 0.509,  0.509,  0.509],\n",
              "       [ 0.44 ,  0.44 ,  0.44 ],\n",
              "       [ 1.6  ,  1.6  ,  1.6  ]])"
            ]
          },
          "metadata": {},
          "execution_count": 113
        }
      ]
    }
  ]
}