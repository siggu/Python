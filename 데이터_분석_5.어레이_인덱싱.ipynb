{
  "nbformat": 4,
  "nbformat_minor": 0,
  "metadata": {
    "colab": {
      "name": "파이썬 데이터 분석 어레이 인덱싱.ipynb",
      "provenance": [],
      "collapsed_sections": [],
      "authorship_tag": "ABX9TyPVEMrTkjnmVDZqOiMry/Iw",
      "include_colab_link": true
    },
    "kernelspec": {
      "name": "python3",
      "display_name": "Python 3"
    },
    "language_info": {
      "name": "python"
    }
  },
  "cells": [
    {
      "cell_type": "markdown",
      "metadata": {
        "id": "view-in-github",
        "colab_type": "text"
      },
      "source": [
        "<a href=\"https://colab.research.google.com/github/siggu/Python/blob/main/%ED%8C%8C%EC%9D%B4%EC%8D%AC_%EB%8D%B0%EC%9D%B4%ED%84%B0_%EB%B6%84%EC%84%9D_%EC%96%B4%EB%A0%88%EC%9D%B4_%EC%9D%B8%EB%8D%B1%EC%8B%B1.ipynb\" target=\"_parent\"><img src=\"https://colab.research.google.com/assets/colab-badge.svg\" alt=\"Open In Colab\"/></a>"
      ]
    },
    {
      "cell_type": "markdown",
      "source": [
        "# 5. 어레이 인덱싱\n",
        "주요 내용  \n",
        "- 어레이 인덱싱, 슬라이싱\n",
        "- 부울 인덱싱\n",
        "\n",
        "기본 설정"
      ],
      "metadata": {
        "id": "UaWAmWmw7Z6x"
      }
    },
    {
      "cell_type": "code",
      "source": [
        "# 넘파이\n",
        "import numpy as np\n",
        "\n",
        "# 랜덤 시드\n",
        "np.random.seed(12345)\n",
        "\n",
        "# 어레이 사용되는 부동소수점들의 정확도 지정\n",
        "np.set_printoptions(precision=4, suppress=True)\n",
        "\n",
        "# 파이플롯\n",
        "import matplotlib.pyplot as plt\n",
        "\n",
        "# 도표 크기 지정\n",
        "plt.rc('figure', figsize=(10, 6))"
      ],
      "metadata": {
        "id": "ZqW8fbml7xn1"
      },
      "execution_count": 1,
      "outputs": []
    },
    {
      "cell_type": "markdown",
      "source": [
        "## 5.1 인덱싱과 슬라이싱\n",
        "리스트의 인덱스, 인덱싱, 슬라이싱 개념을 넘파이 어레이에 확장시킨다. 리스트의 경우보다 다양한 기능을 제공하여 데이터 분석에서 매우 중요한 역할을 수행한다."
      ],
      "metadata": {
        "id": "sCp7KqzK74Ho"
      }
    },
    {
      "cell_type": "markdown",
      "source": [
        "### 5.1.1 1차원 어레이 인덱싱, 슬라이싱\n",
        "1차원의 어레이의 경우 리스트의 경우와 거의 동일하게 작동한다."
      ],
      "metadata": {
        "id": "iwZfGpWx8RK1"
      }
    },
    {
      "cell_type": "code",
      "source": [
        "arr = np.arange(10)\n",
        "arr"
      ],
      "metadata": {
        "colab": {
          "base_uri": "https://localhost:8080/"
        },
        "id": "j2UwMKgI8YIP",
        "outputId": "a1560344-17ec-4d31-d036-fc76e2204322"
      },
      "execution_count": 3,
      "outputs": [
        {
          "output_type": "execute_result",
          "data": {
            "text/plain": [
              "array([0, 1, 2, 3, 4, 5, 6, 7, 8, 9])"
            ]
          },
          "metadata": {},
          "execution_count": 3
        }
      ]
    },
    {
      "cell_type": "markdown",
      "source": [
        "- 인덱싱 : 리스트의 경우와 동일"
      ],
      "metadata": {
        "id": "YruTmNfc8dsF"
      }
    },
    {
      "cell_type": "code",
      "source": [
        "arr[5]"
      ],
      "metadata": {
        "colab": {
          "base_uri": "https://localhost:8080/"
        },
        "id": "gzPgpYHw8amf",
        "outputId": "9a93ac1f-d3f4-497f-ba65-a23e541db79f"
      },
      "execution_count": 4,
      "outputs": [
        {
          "output_type": "execute_result",
          "data": {
            "text/plain": [
              "5"
            ]
          },
          "metadata": {},
          "execution_count": 4
        }
      ]
    },
    {
      "cell_type": "markdown",
      "source": [
        "- 슬라이싱 : 구간 확인 기능은 리스트의 경우와 동일"
      ],
      "metadata": {
        "id": "WOg4JZKF8hUP"
      }
    },
    {
      "cell_type": "code",
      "source": [
        "arr[5:8]"
      ],
      "metadata": {
        "colab": {
          "base_uri": "https://localhost:8080/"
        },
        "id": "Oqw6zIJq8jlG",
        "outputId": "d1925dc1-c47a-448c-f5e6-3180786d663b"
      },
      "execution_count": 5,
      "outputs": [
        {
          "output_type": "execute_result",
          "data": {
            "text/plain": [
              "array([5, 6, 7])"
            ]
          },
          "metadata": {},
          "execution_count": 5
        }
      ]
    },
    {
      "cell_type": "markdown",
      "source": [
        "- 슬라이싱 활용 : 구간을 특정 값으로 대체하는 기능"
      ],
      "metadata": {
        "id": "R-mmwlXM8lHM"
      }
    },
    {
      "cell_type": "code",
      "source": [
        "arr[5:8] = 12\n",
        "arr"
      ],
      "metadata": {
        "colab": {
          "base_uri": "https://localhost:8080/"
        },
        "id": "uzcSFALu8n3F",
        "outputId": "2713588a-11d3-4f4e-eea2-3a2294741983"
      },
      "execution_count": 6,
      "outputs": [
        {
          "output_type": "execute_result",
          "data": {
            "text/plain": [
              "array([ 0,  1,  2,  3,  4, 12, 12, 12,  8,  9])"
            ]
          },
          "metadata": {},
          "execution_count": 6
        }
      ]
    },
    {
      "cell_type": "markdown",
      "source": [
        "**주의사항** 위 기능은 리스트에서는 제공되지 않는다."
      ],
      "metadata": {
        "id": "c-CgdYvg8lBF"
      }
    },
    {
      "cell_type": "code",
      "source": [
        "aList = list(arr)\n",
        "aList\n",
        "\n",
        "aList[5:8] = 12"
      ],
      "metadata": {
        "colab": {
          "base_uri": "https://localhost:8080/",
          "height": 209
        },
        "id": "78edKMJV8xfw",
        "outputId": "59b4b792-357f-4b8a-ee27-10de50b34fde"
      },
      "execution_count": 8,
      "outputs": [
        {
          "output_type": "error",
          "ename": "TypeError",
          "evalue": "ignored",
          "traceback": [
            "\u001b[0;31m---------------------------------------------------------------------------\u001b[0m",
            "\u001b[0;31mTypeError\u001b[0m                                 Traceback (most recent call last)",
            "\u001b[0;32m<ipython-input-8-f2082593045c>\u001b[0m in \u001b[0;36m<module>\u001b[0;34m()\u001b[0m\n\u001b[1;32m      2\u001b[0m \u001b[0maList\u001b[0m\u001b[0;34m\u001b[0m\u001b[0;34m\u001b[0m\u001b[0m\n\u001b[1;32m      3\u001b[0m \u001b[0;34m\u001b[0m\u001b[0m\n\u001b[0;32m----> 4\u001b[0;31m \u001b[0maList\u001b[0m\u001b[0;34m[\u001b[0m\u001b[0;36m5\u001b[0m\u001b[0;34m:\u001b[0m\u001b[0;36m8\u001b[0m\u001b[0;34m]\u001b[0m \u001b[0;34m=\u001b[0m \u001b[0;36m12\u001b[0m\u001b[0;34m\u001b[0m\u001b[0;34m\u001b[0m\u001b[0m\n\u001b[0m",
            "\u001b[0;31mTypeError\u001b[0m: can only assign an iterable"
          ]
        }
      ]
    },
    {
      "cell_type": "markdown",
      "source": [
        "아래와 같이 리스트를 값으로 지정하면 작동한다."
      ],
      "metadata": {
        "id": "DGrnDaqq824b"
      }
    },
    {
      "cell_type": "code",
      "source": [
        "aList[5:8] = [12, 12, 12]\n",
        "aList"
      ],
      "metadata": {
        "colab": {
          "base_uri": "https://localhost:8080/"
        },
        "id": "W-M1sz3T842-",
        "outputId": "35a625e7-f0ef-45fd-e1e6-407e2cfb08ee"
      },
      "execution_count": 9,
      "outputs": [
        {
          "output_type": "execute_result",
          "data": {
            "text/plain": [
              "[0, 1, 2, 3, 4, 12, 12, 12, 8, 9]"
            ]
          },
          "metadata": {},
          "execution_count": 9
        }
      ]
    },
    {
      "cell_type": "markdown",
      "source": [
        "**뷰(view)** 이해  \n",
        "\n",
        "넘파이 어레이에 대해 슬라이싱을 실행하면 지정된 구간에 해당하는 어레이를 새로 생성하는 게 아니라 지정된 구간의 정보를 이용만 한다. 이렇게 작동하는 기능이 **뷰**(view)이다. 즉 어레이를 새로 생성하지 않고 기존 어레이를 적절하게 활용한다. 넘파이 어레이와 관련된 많은 기능이 뷰 기능을 이용한다. 이전에 소개한 전치 어레이를 구하는 과정도 뷰를 이용한다."
      ],
      "metadata": {
        "id": "hQODAKZa88PW"
      }
    },
    {
      "cell_type": "code",
      "source": [
        "arr_slice = arr[5:8]\n",
        "arr_slice"
      ],
      "metadata": {
        "colab": {
          "base_uri": "https://localhost:8080/"
        },
        "id": "fQAFUWem9bmc",
        "outputId": "c24a02ca-61d5-4326-fbf7-6013a889b2f7"
      },
      "execution_count": 10,
      "outputs": [
        {
          "output_type": "execute_result",
          "data": {
            "text/plain": [
              "array([12, 12, 12])"
            ]
          },
          "metadata": {},
          "execution_count": 10
        }
      ]
    },
    {
      "cell_type": "code",
      "source": [
        "arr_slice[1] = 333\n",
        "arr"
      ],
      "metadata": {
        "colab": {
          "base_uri": "https://localhost:8080/"
        },
        "id": "rSca4p6V9fjm",
        "outputId": "7159508e-ca7c-4f6c-a920-8849dfa1195a"
      },
      "execution_count": 11,
      "outputs": [
        {
          "output_type": "execute_result",
          "data": {
            "text/plain": [
              "array([  0,   1,   2,   3,   4,  12, 333,  12,   8,   9])"
            ]
          },
          "metadata": {},
          "execution_count": 11
        }
      ]
    },
    {
      "cell_type": "markdown",
      "source": [
        "어레이 전체 항목을 특정 값으로 한꺼번에 바꾸려면 `[:]`로 슬라이싱한다."
      ],
      "metadata": {
        "id": "DC2owYdp9mnc"
      }
    },
    {
      "cell_type": "code",
      "source": [
        "arr_slice[:] = [63]\n",
        "arr_slice"
      ],
      "metadata": {
        "colab": {
          "base_uri": "https://localhost:8080/"
        },
        "id": "xFCOywLb9hVv",
        "outputId": "2877db24-385f-48cf-ef19-d7da98ed2970"
      },
      "execution_count": 13,
      "outputs": [
        {
          "output_type": "execute_result",
          "data": {
            "text/plain": [
              "array([63, 63, 63])"
            ]
          },
          "metadata": {},
          "execution_count": 13
        }
      ]
    },
    {
      "cell_type": "code",
      "source": [
        "arr"
      ],
      "metadata": {
        "colab": {
          "base_uri": "https://localhost:8080/"
        },
        "id": "-Nl-BZKe9lYl",
        "outputId": "49e920b8-1aab-46bc-f9dd-f7fbaa2297e9"
      },
      "execution_count": 14,
      "outputs": [
        {
          "output_type": "execute_result",
          "data": {
            "text/plain": [
              "array([ 0,  1,  2,  3,  4, 63, 63, 63,  8,  9])"
            ]
          },
          "metadata": {},
          "execution_count": 14
        }
      ]
    },
    {
      "cell_type": "markdown",
      "source": [
        "`copy()` 메서드\n",
        "\n",
        "원본을 그대로 유지하고자 한다면 어레이를 새로 생성해서 사용해야 하며, 이를 위해 `copy()` 메서들르 활용한다."
      ],
      "metadata": {
        "id": "u5EZ0BF_9u6a"
      }
    },
    {
      "cell_type": "code",
      "source": [
        "arr_slice2 = arr[5:8].copy()\n",
        "arr_slice2"
      ],
      "metadata": {
        "colab": {
          "base_uri": "https://localhost:8080/"
        },
        "id": "HTkFLhc49sll",
        "outputId": "7053edc2-ebca-413e-eb08-a6aedbb2d783"
      },
      "execution_count": 15,
      "outputs": [
        {
          "output_type": "execute_result",
          "data": {
            "text/plain": [
              "array([63, 63, 63])"
            ]
          },
          "metadata": {},
          "execution_count": 15
        }
      ]
    },
    {
      "cell_type": "markdown",
      "source": [
        "`arr2_slice2`를 변경해도 `arr`는 영향받지 않는다."
      ],
      "metadata": {
        "id": "MCqc_5SM94Jx"
      }
    },
    {
      "cell_type": "code",
      "source": [
        "arr_slice2[1] = 12\n",
        "arr_slice2"
      ],
      "metadata": {
        "colab": {
          "base_uri": "https://localhost:8080/"
        },
        "id": "qNp4x_Iz99fV",
        "outputId": "799d143b-6ec6-4bc6-81cc-fdd0da53a87c"
      },
      "execution_count": 16,
      "outputs": [
        {
          "output_type": "execute_result",
          "data": {
            "text/plain": [
              "array([63, 12, 63])"
            ]
          },
          "metadata": {},
          "execution_count": 16
        }
      ]
    },
    {
      "cell_type": "code",
      "source": [
        "arr"
      ],
      "metadata": {
        "colab": {
          "base_uri": "https://localhost:8080/"
        },
        "id": "P6UKjzTD9_h5",
        "outputId": "0c4655fa-916a-4b73-c7b4-818b6976dee9"
      },
      "execution_count": 17,
      "outputs": [
        {
          "output_type": "execute_result",
          "data": {
            "text/plain": [
              "array([ 0,  1,  2,  3,  4, 63, 63, 63,  8,  9])"
            ]
          },
          "metadata": {},
          "execution_count": 17
        }
      ]
    },
    {
      "cell_type": "markdown",
      "source": [
        "### 5.1.2 2차원 어레이 인덱싱\n",
        "\n",
        "2차원 이상의 다차원 어레이는 보다 다양한 인덱싱, 슬라이싱 기능을 제공한다."
      ],
      "metadata": {
        "id": "XgIdEyfq-Az3"
      }
    },
    {
      "cell_type": "code",
      "source": [
        "arr2d = np.array([[1,2,3],[4,5,6],[7,8,9]])\n",
        "arr2d"
      ],
      "metadata": {
        "colab": {
          "base_uri": "https://localhost:8080/"
        },
        "id": "mKMTQkkm-ABy",
        "outputId": "3d5f3b9e-0468-499e-cb93-8000bf8c0c2e"
      },
      "execution_count": 18,
      "outputs": [
        {
          "output_type": "execute_result",
          "data": {
            "text/plain": [
              "array([[1, 2, 3],\n",
              "       [4, 5, 6],\n",
              "       [7, 8, 9]])"
            ]
          },
          "metadata": {},
          "execution_count": 18
        }
      ]
    },
    {
      "cell_type": "markdown",
      "source": [
        "리스트의 인덱싱을 그대로 사용할 수 있다.\n",
        "\n",
        "- 0번 인덱스 항목 : 길이가 3인 1차원 어레이"
      ],
      "metadata": {
        "id": "Dn7jr5xz-Xsb"
      }
    },
    {
      "cell_type": "code",
      "source": [
        "arr2d[0]"
      ],
      "metadata": {
        "colab": {
          "base_uri": "https://localhost:8080/"
        },
        "id": "8LIpYliw-bgK",
        "outputId": "39c4ccc3-fb8d-4634-efa3-8719de6e172d"
      },
      "execution_count": 19,
      "outputs": [
        {
          "output_type": "execute_result",
          "data": {
            "text/plain": [
              "array([1, 2, 3])"
            ]
          },
          "metadata": {},
          "execution_count": 19
        }
      ]
    },
    {
      "cell_type": "markdown",
      "source": [
        "- 0번 인덱스의 2번 인덱스 항목 : 리스트 인덱싱 방식\n",
        "> 0번 인덱스의 항목이 리스트이며, 그 리스트의 2번 인덱스 항목 확인\n",
        "\n",
        "\n"
      ],
      "metadata": {
        "id": "r2Pefadf-c9H"
      }
    },
    {
      "cell_type": "code",
      "source": [
        "arr2d[0][2]"
      ],
      "metadata": {
        "colab": {
          "base_uri": "https://localhost:8080/"
        },
        "id": "bVs_rBnT-cXC",
        "outputId": "28cdeb98-cf00-4725-ab79-268d6a773c4b"
      },
      "execution_count": 20,
      "outputs": [
        {
          "output_type": "execute_result",
          "data": {
            "text/plain": [
              "3"
            ]
          },
          "metadata": {},
          "execution_count": 20
        }
      ]
    },
    {
      "cell_type": "markdown",
      "source": [
        "위 인덱싱을 2차원 어레이 인덱싱 방식으로 아래와 같이 쉽게 할 수 있다."
      ],
      "metadata": {
        "id": "HMqIQmE8-pRt"
      }
    },
    {
      "cell_type": "code",
      "source": [
        "arr2d[0,2]"
      ],
      "metadata": {
        "colab": {
          "base_uri": "https://localhost:8080/"
        },
        "id": "GSaNqxRz-sUi",
        "outputId": "f02a6401-5739-4c97-8682-e8ecdb5f1b18"
      },
      "execution_count": 21,
      "outputs": [
        {
          "output_type": "execute_result",
          "data": {
            "text/plain": [
              "3"
            ]
          },
          "metadata": {},
          "execution_count": 21
        }
      ]
    },
    {
      "cell_type": "markdown",
      "source": [
        "![image.png](data:image/png;base64,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)"
      ],
      "metadata": {
        "id": "SWS164Jx-uaV"
      }
    },
    {
      "cell_type": "markdown",
      "source": [
        "## 5.2. 3차원 어레이 인덱싱\n",
        "\n",
        "`arr3d`는 (2,2,3) 모양의 3차원 어레이이다."
      ],
      "metadata": {
        "id": "1l-BvN73_A9B"
      }
    },
    {
      "cell_type": "code",
      "source": [
        "arr3d = np.array([[[1,2,3],\n",
        "                   [4,5,6]],\n",
        "                  \n",
        "                  [[7,8,9],\n",
        "                   [10,11,12]]])\n",
        "arr3d"
      ],
      "metadata": {
        "colab": {
          "base_uri": "https://localhost:8080/"
        },
        "id": "zHT_zMVl_FCI",
        "outputId": "0b04ee14-3ae8-49b6-bc2d-d2f29fb948ec"
      },
      "execution_count": 22,
      "outputs": [
        {
          "output_type": "execute_result",
          "data": {
            "text/plain": [
              "array([[[ 1,  2,  3],\n",
              "        [ 4,  5,  6]],\n",
              "\n",
              "       [[ 7,  8,  9],\n",
              "        [10, 11, 12]]])"
            ]
          },
          "metadata": {},
          "execution_count": 22
        }
      ]
    },
    {
      "cell_type": "code",
      "source": [
        "arr3d.shape"
      ],
      "metadata": {
        "colab": {
          "base_uri": "https://localhost:8080/"
        },
        "id": "W6DJwEee_NyT",
        "outputId": "bd35b9df-0152-4725-ef53-7e45c511ed4e"
      },
      "execution_count": 24,
      "outputs": [
        {
          "output_type": "execute_result",
          "data": {
            "text/plain": [
              "(2, 2, 3)"
            ]
          },
          "metadata": {},
          "execution_count": 24
        }
      ]
    },
    {
      "cell_type": "markdown",
      "source": [
        "모양이 (2,2,3)인 3차원 어레이의 0번 인덱스 항목은 (2,3) 크기의 2차원 어레이이다."
      ],
      "metadata": {
        "id": "ncwJ1-9b_Qkp"
      }
    },
    {
      "cell_type": "code",
      "source": [
        "arr3d[0]"
      ],
      "metadata": {
        "colab": {
          "base_uri": "https://localhost:8080/"
        },
        "id": "oR_mPvHQ_UpQ",
        "outputId": "25ca512c-a49c-4de6-bb37-d0a989420435"
      },
      "execution_count": 25,
      "outputs": [
        {
          "output_type": "execute_result",
          "data": {
            "text/plain": [
              "array([[1, 2, 3],\n",
              "       [4, 5, 6]])"
            ]
          },
          "metadata": {},
          "execution_count": 25
        }
      ]
    },
    {
      "cell_type": "markdown",
      "source": [
        "0번 인덱스 항목인 2차원 어레이의 항목을 일정한 값으로 바꾸기 위해 인덱싱을 활용할 수 있다."
      ],
      "metadata": {
        "id": "7UpZnwuZ_XOD"
      }
    },
    {
      "cell_type": "code",
      "source": [
        "# 기존 항목 기억해 두기\n",
        "old_values = arr3d[0].copy()"
      ],
      "metadata": {
        "id": "TTK-_0tb_WfD"
      },
      "execution_count": 26,
      "outputs": []
    },
    {
      "cell_type": "code",
      "source": [
        "arr3d[0] = 42\n",
        "arr3d"
      ],
      "metadata": {
        "colab": {
          "base_uri": "https://localhost:8080/"
        },
        "id": "XFNV9Yk__fqn",
        "outputId": "f079dd47-74bd-4508-f3aa-4ff1b20d713d"
      },
      "execution_count": 27,
      "outputs": [
        {
          "output_type": "execute_result",
          "data": {
            "text/plain": [
              "array([[[42, 42, 42],\n",
              "        [42, 42, 42]],\n",
              "\n",
              "       [[ 7,  8,  9],\n",
              "        [10, 11, 12]]])"
            ]
          },
          "metadata": {},
          "execution_count": 27
        }
      ]
    },
    {
      "cell_type": "code",
      "source": [
        "# arr3d를 계속 사용하기 위해 원래 값으로 되돌린다.\n",
        "arr3d[0] = old_values\n",
        "arr3d"
      ],
      "metadata": {
        "colab": {
          "base_uri": "https://localhost:8080/"
        },
        "id": "BMFLW-v0_hv2",
        "outputId": "35a9fcdc-aae2-4286-bda5-24287305a5b3"
      },
      "execution_count": 30,
      "outputs": [
        {
          "output_type": "execute_result",
          "data": {
            "text/plain": [
              "array([[[ 1,  2,  3],\n",
              "        [ 4,  5,  6]],\n",
              "\n",
              "       [[ 7,  8,  9],\n",
              "        [10, 11, 12]]])"
            ]
          },
          "metadata": {},
          "execution_count": 30
        }
      ]
    },
    {
      "cell_type": "markdown",
      "source": [
        "모양이 (2,2,3)인 3차원 행렬의 1번 행, 0번 열의 항목은 길이가 3인 1차원 어레이이다."
      ],
      "metadata": {
        "id": "Tj7Amk-F_qcm"
      }
    },
    {
      "cell_type": "code",
      "source": [
        "arr3d[1,0]"
      ],
      "metadata": {
        "colab": {
          "base_uri": "https://localhost:8080/"
        },
        "id": "AFmhjRpe_mZG",
        "outputId": "c2451333-a924-48e6-f4be-2256d5921403"
      },
      "execution_count": 31,
      "outputs": [
        {
          "output_type": "execute_result",
          "data": {
            "text/plain": [
              "array([7, 8, 9])"
            ]
          },
          "metadata": {},
          "execution_count": 31
        }
      ]
    },
    {
      "cell_type": "markdown",
      "source": [
        "실제로 아래처럼 1번 행과 1번 행의 0번 열의 값을 확인하면 동일한 값이 나온다."
      ],
      "metadata": {
        "id": "IG-bb3iq_2-p"
      }
    },
    {
      "cell_type": "code",
      "source": [
        "x = arr3d[1]\n",
        "x"
      ],
      "metadata": {
        "colab": {
          "base_uri": "https://localhost:8080/"
        },
        "id": "t6P9z7cD_6zQ",
        "outputId": "6725e661-c545-456d-b297-54e67b10b9f1"
      },
      "execution_count": 32,
      "outputs": [
        {
          "output_type": "execute_result",
          "data": {
            "text/plain": [
              "array([[ 7,  8,  9],\n",
              "       [10, 11, 12]])"
            ]
          },
          "metadata": {},
          "execution_count": 32
        }
      ]
    },
    {
      "cell_type": "code",
      "source": [
        "x[0]"
      ],
      "metadata": {
        "colab": {
          "base_uri": "https://localhost:8080/"
        },
        "id": "VHsmL5PZ_797",
        "outputId": "53347122-14de-4ef1-e220-dd976204462a"
      },
      "execution_count": 33,
      "outputs": [
        {
          "output_type": "execute_result",
          "data": {
            "text/plain": [
              "array([7, 8, 9])"
            ]
          },
          "metadata": {},
          "execution_count": 33
        }
      ]
    },
    {
      "cell_type": "markdown",
      "source": [
        "모양이 (2,2,3)인 3차원 행렬의 1번 행, 0번 열, 2번 인덱스의 항목은 길이가 1인 정수 9이다."
      ],
      "metadata": {
        "id": "99L-dzRR_9l0"
      }
    },
    {
      "cell_type": "code",
      "source": [
        "arr3d[1, 0, 2]"
      ],
      "metadata": {
        "colab": {
          "base_uri": "https://localhost:8080/"
        },
        "id": "-7qkUh9BAETK",
        "outputId": "f3207319-5df4-47cd-eb42-5b1ec7b8ded9"
      },
      "execution_count": 35,
      "outputs": [
        {
          "output_type": "execute_result",
          "data": {
            "text/plain": [
              "9"
            ]
          },
          "metadata": {},
          "execution_count": 35
        }
      ]
    },
    {
      "cell_type": "markdown",
      "source": [
        "실제로 아래처럼 1번 행과 0번 열, 2번 인덱스의 값을 확인하면 동일한 값이 나온다."
      ],
      "metadata": {
        "id": "b4pmnYtMAHjA"
      }
    },
    {
      "cell_type": "code",
      "source": [
        "arr3d[1][0][2]"
      ],
      "metadata": {
        "colab": {
          "base_uri": "https://localhost:8080/"
        },
        "id": "GFVngwo6AK9H",
        "outputId": "04fcaf9f-aad1-4ccf-da85-6b9f2599e6bc"
      },
      "execution_count": 37,
      "outputs": [
        {
          "output_type": "execute_result",
          "data": {
            "text/plain": [
              "9"
            ]
          },
          "metadata": {},
          "execution_count": 37
        }
      ]
    },
    {
      "cell_type": "markdown",
      "source": [
        "### 5.2.1. 2차원 어레이 슬라이싱"
      ],
      "metadata": {
        "id": "SMh-cGCMANdd"
      }
    },
    {
      "cell_type": "code",
      "source": [
        "arr2d"
      ],
      "metadata": {
        "colab": {
          "base_uri": "https://localhost:8080/"
        },
        "id": "RpHIlD14ARdq",
        "outputId": "f89a491e-a5c0-4cec-d57b-1eba0d1317ef"
      },
      "execution_count": 38,
      "outputs": [
        {
          "output_type": "execute_result",
          "data": {
            "text/plain": [
              "array([[1, 2, 3],\n",
              "       [4, 5, 6],\n",
              "       [7, 8, 9]])"
            ]
          },
          "metadata": {},
          "execution_count": 38
        }
      ]
    },
    {
      "cell_type": "markdown",
      "source": [
        "리스트 슬라이싱 방식을 동일하게 적용할 수 있다.\n",
        "\n",
        "- 1번 인덱스 이전까지"
      ],
      "metadata": {
        "id": "11IWxFggAS46"
      }
    },
    {
      "cell_type": "code",
      "source": [
        "arr2d[:1]"
      ],
      "metadata": {
        "colab": {
          "base_uri": "https://localhost:8080/"
        },
        "id": "6h-KCbrrASDn",
        "outputId": "f8e170ec-fcfe-4ab9-b6e2-41b1d72260c8"
      },
      "execution_count": 39,
      "outputs": [
        {
          "output_type": "execute_result",
          "data": {
            "text/plain": [
              "array([[1, 2, 3]])"
            ]
          },
          "metadata": {},
          "execution_count": 39
        }
      ]
    },
    {
      "cell_type": "markdown",
      "source": [
        "- 2번 인덱스 이전까지"
      ],
      "metadata": {
        "id": "G_hXy8yYAXR1"
      }
    },
    {
      "cell_type": "code",
      "source": [
        "arr2d[:2]"
      ],
      "metadata": {
        "colab": {
          "base_uri": "https://localhost:8080/"
        },
        "id": "aeJTJthnAZs_",
        "outputId": "cab0fd9d-7f91-4ecc-de01-3493223e260a"
      },
      "execution_count": 40,
      "outputs": [
        {
          "output_type": "execute_result",
          "data": {
            "text/plain": [
              "array([[1, 2, 3],\n",
              "       [4, 5, 6]])"
            ]
          },
          "metadata": {},
          "execution_count": 40
        }
      ]
    },
    {
      "cell_type": "markdown",
      "source": [
        "- 전체 항목 슬라이싱"
      ],
      "metadata": {
        "id": "QdD3iMuyAbjO"
      }
    },
    {
      "cell_type": "code",
      "source": [
        "arr2d[:3]"
      ],
      "metadata": {
        "colab": {
          "base_uri": "https://localhost:8080/"
        },
        "id": "4ZFd9UYHAdUr",
        "outputId": "5cfad217-1763-4094-9d6a-b8e56226321c"
      },
      "execution_count": 41,
      "outputs": [
        {
          "output_type": "execute_result",
          "data": {
            "text/plain": [
              "array([[1, 2, 3],\n",
              "       [4, 5, 6],\n",
              "       [7, 8, 9]])"
            ]
          },
          "metadata": {},
          "execution_count": 41
        }
      ]
    },
    {
      "cell_type": "markdown",
      "source": [
        "행과 열을 함께 슬라이싱하려면 행과, 열에 대한 슬라이싱을 동시에 지정한다.\n",
        "\n",
        "- 행 기준 : 2번 행 이전까지\n",
        "- 열 기준 : 1번 열부터 끝까지"
      ],
      "metadata": {
        "id": "8aCf4ZA3Ae4g"
      }
    },
    {
      "cell_type": "code",
      "source": [
        "arr2d[:2, 1:]"
      ],
      "metadata": {
        "colab": {
          "base_uri": "https://localhost:8080/"
        },
        "id": "Y72nn3tuAlTR",
        "outputId": "2ee526b5-3b2c-4d6d-8c8b-f188a7987bb6"
      },
      "execution_count": 42,
      "outputs": [
        {
          "output_type": "execute_result",
          "data": {
            "text/plain": [
              "array([[2, 3],\n",
              "       [5, 6]])"
            ]
          },
          "metadata": {},
          "execution_count": 42
        }
      ]
    },
    {
      "cell_type": "markdown",
      "source": [
        "![image.png](data:image/png;base64,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)"
      ],
      "metadata": {
        "id": "AawCGzPuAoX9"
      }
    },
    {
      "cell_type": "markdown",
      "source": [
        "인덱싱과 슬라이싱이 행과 열 각각에 대해 독립적으로 사용될 수 있다.\n",
        "\n",
        "- 행 기준 : 1번 행 인덱싱\n",
        "- 열 기준 : 2번 열 이전까지"
      ],
      "metadata": {
        "id": "OE-7VMAXApWS"
      }
    },
    {
      "cell_type": "code",
      "source": [
        "arr2d[1,:2]"
      ],
      "metadata": {
        "colab": {
          "base_uri": "https://localhost:8080/"
        },
        "id": "w87l18UyAst1",
        "outputId": "2b2234ad-34c8-4ad9-817e-226051d2d9b9"
      },
      "execution_count": 43,
      "outputs": [
        {
          "output_type": "execute_result",
          "data": {
            "text/plain": [
              "array([4, 5])"
            ]
          },
          "metadata": {},
          "execution_count": 43
        }
      ]
    },
    {
      "cell_type": "markdown",
      "source": [
        "![image.png](data:image/png;base64,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)"
      ],
      "metadata": {
        "id": "vxjZeahUA0PV"
      }
    },
    {
      "cell_type": "markdown",
      "source": [
        "**주의사항** : 인덱싱을 사용하는 만큼 결과 어레이의 차원이 기존 어레이의 차원보다 1씩 줄어든다."
      ],
      "metadata": {
        "id": "rkkwUhaMA09S"
      }
    },
    {
      "cell_type": "code",
      "source": [
        "arr2d[1,:2].shape"
      ],
      "metadata": {
        "colab": {
          "base_uri": "https://localhost:8080/"
        },
        "id": "BBjwDKDfA5Qu",
        "outputId": "b54f9c79-fa20-4548-ee73-d1762d6a6592"
      },
      "execution_count": 44,
      "outputs": [
        {
          "output_type": "execute_result",
          "data": {
            "text/plain": [
              "(2,)"
            ]
          },
          "metadata": {},
          "execution_count": 44
        }
      ]
    },
    {
      "cell_type": "markdown",
      "source": [
        "동일한 항목을 사용하지만 인덱싱을 사용할 때와 아닐 때의 결과는 다른 모양의 어레이가 된다."
      ],
      "metadata": {
        "id": "WpJmdcqKA7Ob"
      }
    },
    {
      "cell_type": "code",
      "source": [
        "arr2d[1:2, :2]"
      ],
      "metadata": {
        "colab": {
          "base_uri": "https://localhost:8080/"
        },
        "id": "QSxGgKK2A6vN",
        "outputId": "b4bae8d7-f234-4899-c359-ecf8552b580d"
      },
      "execution_count": 45,
      "outputs": [
        {
          "output_type": "execute_result",
          "data": {
            "text/plain": [
              "array([[4, 5]])"
            ]
          },
          "metadata": {},
          "execution_count": 45
        }
      ]
    },
    {
      "cell_type": "markdown",
      "source": [
        "`shpae`은 사용되는 슬라이싱의 구간에 의존한다.\n",
        "\n",
        "- 행 기준 : 1행 하나만 사용\n",
        "- 열 기준 : 0행, 2행 두 개 사용\n",
        "\n",
        "따라서 결과는 (1,2) 모양의 어레이이다."
      ],
      "metadata": {
        "id": "e1vL56GtBCND"
      }
    },
    {
      "cell_type": "code",
      "source": [
        "arr2d[1:2, :2].shape"
      ],
      "metadata": {
        "colab": {
          "base_uri": "https://localhost:8080/"
        },
        "id": "5L9ha6PlBI-I",
        "outputId": "6aa4cad7-59a2-4953-8cde-920a74f91d62"
      },
      "execution_count": 46,
      "outputs": [
        {
          "output_type": "execute_result",
          "data": {
            "text/plain": [
              "(1, 2)"
            ]
          },
          "metadata": {},
          "execution_count": 46
        }
      ]
    },
    {
      "cell_type": "markdown",
      "source": [
        "- 행 기준 : 행 전체\n",
        "- 열 기준 : 2번 열 이전까지"
      ],
      "metadata": {
        "id": "vZ9ZwZbeBPC7"
      }
    },
    {
      "cell_type": "code",
      "source": [
        "arr2d[:, :2]"
      ],
      "metadata": {
        "colab": {
          "base_uri": "https://localhost:8080/"
        },
        "id": "wbZSg_UEBR4O",
        "outputId": "5c123b04-e0b8-4d49-e0fe-19cf3a523797"
      },
      "execution_count": 47,
      "outputs": [
        {
          "output_type": "execute_result",
          "data": {
            "text/plain": [
              "array([[1, 2],\n",
              "       [4, 5],\n",
              "       [7, 8]])"
            ]
          },
          "metadata": {},
          "execution_count": 47
        }
      ]
    },
    {
      "cell_type": "markdown",
      "source": [
        "![image.png](data:image/png;base64,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)"
      ],
      "metadata": {
        "id": "0cq0hMA8BWdh"
      }
    },
    {
      "cell_type": "code",
      "source": [
        "arr2d[:, :1]"
      ],
      "metadata": {
        "colab": {
          "base_uri": "https://localhost:8080/"
        },
        "id": "TqyVtLiXBXCI",
        "outputId": "0451c76e-c8d5-47e6-8a54-c85e8ffd8dca"
      },
      "execution_count": 49,
      "outputs": [
        {
          "output_type": "execute_result",
          "data": {
            "text/plain": [
              "array([[1],\n",
              "       [4],\n",
              "       [7]])"
            ]
          },
          "metadata": {},
          "execution_count": 49
        }
      ]
    },
    {
      "cell_type": "code",
      "source": [
        "arr2d[:2, 1:] = 0\n",
        "arr2d"
      ],
      "metadata": {
        "colab": {
          "base_uri": "https://localhost:8080/"
        },
        "id": "fxxaEhubBZ39",
        "outputId": "d6fc1920-53d6-4992-d103-4bd4a337d0a4"
      },
      "execution_count": 50,
      "outputs": [
        {
          "output_type": "execute_result",
          "data": {
            "text/plain": [
              "array([[1, 0, 0],\n",
              "       [4, 0, 0],\n",
              "       [7, 8, 9]])"
            ]
          },
          "metadata": {},
          "execution_count": 50
        }
      ]
    },
    {
      "cell_type": "markdown",
      "source": [
        "**Example 5.1**\n",
        "\n",
        "먼저 아래 그림 모양의 2차원 어레이를 생성한다."
      ],
      "metadata": {
        "id": "nMO3gG9jBjKr"
      }
    },
    {
      "cell_type": "code",
      "source": [
        "arr = np.arange(36).reshape((6,6)) + np.arange(0, 21, 4).reshape((6,1))\n",
        "arr"
      ],
      "metadata": {
        "colab": {
          "base_uri": "https://localhost:8080/"
        },
        "id": "87KZGwY7DLVD",
        "outputId": "78470edf-c515-4476-ce98-c59e94d086fa"
      },
      "execution_count": 52,
      "outputs": [
        {
          "output_type": "execute_result",
          "data": {
            "text/plain": [
              "array([[ 0,  1,  2,  3,  4,  5],\n",
              "       [10, 11, 12, 13, 14, 15],\n",
              "       [20, 21, 22, 23, 24, 25],\n",
              "       [30, 31, 32, 33, 34, 35],\n",
              "       [40, 41, 42, 43, 44, 45],\n",
              "       [50, 51, 52, 53, 54, 55]])"
            ]
          },
          "metadata": {},
          "execution_count": 52
        }
      ]
    },
    {
      "cell_type": "markdown",
      "source": [
        "![image.png](data:image/png;base64,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)"
      ],
      "metadata": {
        "id": "S9T9jM6cDVwC"
      }
    },
    {
      "cell_type": "markdown",
      "source": [
        "위 그림에 색깔별로 표시된 어레이를 슬라이싱을 이용하여 구하라.\n",
        "\n",
        "- 빨간색 1차원 어레이"
      ],
      "metadata": {
        "id": "nCYCTZTeDYf0"
      }
    },
    {
      "cell_type": "code",
      "source": [
        "arr[0, 3:5]"
      ],
      "metadata": {
        "colab": {
          "base_uri": "https://localhost:8080/"
        },
        "id": "vzxlrb1tDdC5",
        "outputId": "b8d0837b-f9a0-4c35-b3c7-0e9b14459462"
      },
      "execution_count": 53,
      "outputs": [
        {
          "output_type": "execute_result",
          "data": {
            "text/plain": [
              "array([3, 4])"
            ]
          },
          "metadata": {},
          "execution_count": 53
        }
      ]
    },
    {
      "cell_type": "markdown",
      "source": [
        "- 파란색 2차원 어레이"
      ],
      "metadata": {
        "id": "Xu5BNAU7DhfB"
      }
    },
    {
      "cell_type": "code",
      "source": [
        "arr[:, 2:3]"
      ],
      "metadata": {
        "colab": {
          "base_uri": "https://localhost:8080/"
        },
        "id": "ZsUsbv01Dkkn",
        "outputId": "b1528b75-ba85-442d-c07b-9cd76074ae26"
      },
      "execution_count": 61,
      "outputs": [
        {
          "output_type": "execute_result",
          "data": {
            "text/plain": [
              "array([[ 2],\n",
              "       [12],\n",
              "       [22],\n",
              "       [32],\n",
              "       [42],\n",
              "       [52]])"
            ]
          },
          "metadata": {},
          "execution_count": 61
        }
      ]
    },
    {
      "cell_type": "markdown",
      "source": [
        "만약에 열에 대해 슬라이싱 대신 인덱싱을 사용하면 1차원 어레이를 얻는다."
      ],
      "metadata": {
        "id": "UGwn_ST8D5-z"
      }
    },
    {
      "cell_type": "code",
      "source": [
        "arr[:,2]"
      ],
      "metadata": {
        "colab": {
          "base_uri": "https://localhost:8080/"
        },
        "id": "UVUd4W-PD9g3",
        "outputId": "339a5ebc-fc75-4032-e0e8-2ef4ff270a36"
      },
      "execution_count": 62,
      "outputs": [
        {
          "output_type": "execute_result",
          "data": {
            "text/plain": [
              "array([ 2, 12, 22, 32, 42, 52])"
            ]
          },
          "metadata": {},
          "execution_count": 62
        }
      ]
    },
    {
      "cell_type": "markdown",
      "source": [
        "- 보라색 2차원 어레이(스텝 활용)"
      ],
      "metadata": {
        "id": "LqeqZOb8D_Vd"
      }
    },
    {
      "cell_type": "code",
      "source": [
        "arr[2::2,0::2]"
      ],
      "metadata": {
        "colab": {
          "base_uri": "https://localhost:8080/"
        },
        "id": "aEUGws7wEBuB",
        "outputId": "8465ef71-6c38-4d01-f06b-20223a2d87b0"
      },
      "execution_count": 63,
      "outputs": [
        {
          "output_type": "execute_result",
          "data": {
            "text/plain": [
              "array([[20, 22, 24],\n",
              "       [40, 42, 44]])"
            ]
          },
          "metadata": {},
          "execution_count": 63
        }
      ]
    },
    {
      "cell_type": "markdown",
      "source": [
        "- 초록색 2차원 어레이"
      ],
      "metadata": {
        "id": "w49qZY29EOt5"
      }
    },
    {
      "cell_type": "code",
      "source": [
        "arr[4:,4:]"
      ],
      "metadata": {
        "colab": {
          "base_uri": "https://localhost:8080/"
        },
        "id": "SK0bdEt9EQVA",
        "outputId": "970c26c2-b35a-40b0-daab-8f97b2af5bbc"
      },
      "execution_count": 65,
      "outputs": [
        {
          "output_type": "execute_result",
          "data": {
            "text/plain": [
              "array([[44, 45],\n",
              "       [54, 55]])"
            ]
          },
          "metadata": {},
          "execution_count": 65
        }
      ]
    },
    {
      "cell_type": "markdown",
      "source": [
        "### 5.2.2. 3차원 어레이 인덱싱/슬라이싱\n",
        "\n",
        "기본적으로 2차원 어레이 슬라이싱 기능과 동일하게 작동한다. 여기서는 칼라 이미지 데이터를 3차원 어레이로, 흑백 이미지를 2차원 어레이로 다루면서 인덱싱과 슬라이싱을 이용하여 이미지를 조작하는 간단한 방법을 설명한다.\n",
        "\n",
        "먼저 너구리 얼굴 이미지를 가져온다. 알 ㅐ코드는 scipy 패키지에서 기본으로 제공하는 너구리 얼굴 사진을 3차원 어레이로 가져온다.\n",
        "\n",
        "**주의사항** : 아래와 같은 코드가 있다는 정도 기억해 두기 바란다."
      ],
      "metadata": {
        "id": "uXr0utuGEWaU"
      }
    },
    {
      "cell_type": "code",
      "source": [
        "import scipy.misc\n",
        "face = scipy.misc.face()"
      ],
      "metadata": {
        "id": "FbgKSbqMEnee"
      },
      "execution_count": 66,
      "outputs": []
    },
    {
      "cell_type": "markdown",
      "source": [
        "`face`는 너구리 얼굴 이미지를 3차원 어레이로 불러온다.\n",
        "\n",
        "- `imshow()`함수는 3차원 이미지 어레이를 이미지로 보여주는 함수이다.\n",
        "- `show()`함수는 지정된 여러 개의 이미지를 동시에 화면에 띄우는 기능을 갖는 함수이다."
      ],
      "metadata": {
        "id": "5pVVsbJdErIK"
      }
    },
    {
      "cell_type": "code",
      "source": [
        "plt.imshow(face)\n",
        "plt.show()"
      ],
      "metadata": {
        "colab": {
          "base_uri": "https://localhost:8080/",
          "height": 269
        },
        "id": "6stcDiyqE1qE",
        "outputId": "9e705773-8d91-42f3-e619-d2253c461471"
      },
      "execution_count": 68,
      "outputs": [
        {
          "output_type": "display_data",
          "data": {
            "text/plain": [
              "<Figure size 432x288 with 1 Axes>"
            ],
            "image/png": "[encoded data removed]"
          },
          "metadata": {
            "needs_background": "light"
          }
        }
      ]
    },
    {
      "cell_type": "markdown",
      "source": [
        "`face`는 아래 모양의 3차원 어레이를 가리킨다."
      ],
      "metadata": {
        "id": "oEPF1vnaE8L0"
      }
    },
    {
      "cell_type": "code",
      "source": [
        "face.shape"
      ],
      "metadata": {
        "colab": {
          "base_uri": "https://localhost:8080/"
        },
        "id": "EinmcbyVE-nJ",
        "outputId": "c017739a-2224-4769-bb80-8c60e3847b36"
      },
      "execution_count": 69,
      "outputs": [
        {
          "output_type": "execute_result",
          "data": {
            "text/plain": [
              "(768, 1024, 3)"
            ]
          },
          "metadata": {},
          "execution_count": 69
        }
      ]
    },
    {
      "cell_type": "markdown",
      "source": [
        "위 이미지에서 세로, 가로, 축에 보여지는 숫자가 픽셀 수를 보여주며 정확한 픽셀 수는 다음과 같다.\n",
        "\n",
        "- 행 : 768개\n",
        "- 열 : 1024개\n",
        "- 각각의 픽셀에 길이가 3인 1차원 어레이 포함"
      ],
      "metadata": {
        "id": "nGcoTSJLFGkq"
      }
    },
    {
      "cell_type": "markdown",
      "source": [
        "**RNG 색상 정보**\n",
        "\n",
        "`768x1024`개의 픽샐에 포함된 길이 3인 어레이는 R(빨강), G(초록), B(파랑) 색상에 대한 정보를 각각 담는다. 또한 색상 정보는 각각 0부터 255사이의 값을 사용한다.\n",
        "\n",
        "어레이에 사용된 값들의 정확한 자료형은 `unit8`, 즉, 8바이트로 표현된 양의 정수 자료형이다."
      ],
      "metadata": {
        "id": "5fEUeFOMFPQR"
      }
    },
    {
      "cell_type": "code",
      "source": [
        "face.dtype"
      ],
      "metadata": {
        "colab": {
          "base_uri": "https://localhost:8080/"
        },
        "id": "TgCK1dCFE_NI",
        "outputId": "1eeb5701-2177-45c2-a6f7-7781910ef7fb"
      },
      "execution_count": 70,
      "outputs": [
        {
          "output_type": "execute_result",
          "data": {
            "text/plain": [
              "dtype('uint8')"
            ]
          },
          "metadata": {},
          "execution_count": 70
        }
      ]
    },
    {
      "cell_type": "code",
      "source": [
        "face.min()"
      ],
      "metadata": {
        "colab": {
          "base_uri": "https://localhost:8080/"
        },
        "id": "pbPyTEvgFgFg",
        "outputId": "2914e911-55ce-4d71-abfa-76e6fcaf9b7f"
      },
      "execution_count": 71,
      "outputs": [
        {
          "output_type": "execute_result",
          "data": {
            "text/plain": [
              "0"
            ]
          },
          "metadata": {},
          "execution_count": 71
        }
      ]
    },
    {
      "cell_type": "code",
      "source": [
        "face.max()"
      ],
      "metadata": {
        "colab": {
          "base_uri": "https://localhost:8080/"
        },
        "id": "cLDuK5CfFgtq",
        "outputId": "21ab89bd-5f85-47b3-c1a3-8ba7b42fbedf"
      },
      "execution_count": 72,
      "outputs": [
        {
          "output_type": "execute_result",
          "data": {
            "text/plain": [
              "255"
            ]
          },
          "metadata": {},
          "execution_count": 72
        }
      ]
    },
    {
      "cell_type": "markdown",
      "source": [
        "**색상 정보 정규화**\n",
        "\n",
        "여기서는 픽셀 정보를 0과 1사이의 부동소수점으로 변경해서 사용한다. 이유는 여러 이미지 변환을 시도할 때 0과 1사이의 부동소수점의 값들이 나올 때 정확하게 기능하기 때문이다. \n",
        "\n",
        "RGB 정보의 최댓값이 255이기 때문에 모든 항목을 255로 나누어 0과 1사이의 값으로 정규화시킨다."
      ],
      "metadata": {
        "id": "DyiM5ofvFhxl"
      }
    },
    {
      "cell_type": "code",
      "source": [
        "face = face/255"
      ],
      "metadata": {
        "id": "5qJOf1GrFu8a"
      },
      "execution_count": 74,
      "outputs": []
    },
    {
      "cell_type": "markdown",
      "source": [
        "**흑백 이미지 변환**\n",
        "\n",
        "흑백 이미지는 보통 하나의 RGB 정보만 가져오는 것으로 구할 수 있다. 예를 들어, 빨간색 정보만 가져오려면 아래처럼 3차원 인덱싱을 실행한다. 아래 코드는 이미지의 행과 열은 그대로 두고 RGB 정보에서 R(빨강)에 대한 정보만 인덱싱으로 가져온다."
      ],
      "metadata": {
        "id": "0qrFEH2qFw4W"
      }
    },
    {
      "cell_type": "code",
      "source": [
        "face_gray_red = face[:, :, 0]"
      ],
      "metadata": {
        "id": "oLP6N9sJFwSP"
      },
      "execution_count": 75,
      "outputs": []
    },
    {
      "cell_type": "markdown",
      "source": [
        "흑백사진으로 보여주려면 `imshow()` 함수의 `cmap` 키워드 인자를 그레이(회색) 스타일을 사용하도록 지정해야 한다. `cmap`은 색상 지도(color map)을 가리키는 매개변수이며, `gray`를 인자로 지정하면 흑백사진으로 출력한다."
      ],
      "metadata": {
        "id": "CVXQ5zWxGBAX"
      }
    },
    {
      "cell_type": "code",
      "source": [
        "plt.imshow(face_gray_red, cmap='gray')\n",
        "plt.show()"
      ],
      "metadata": {
        "colab": {
          "base_uri": "https://localhost:8080/",
          "height": 269
        },
        "id": "t5cz-I-_GA6M",
        "outputId": "dcefc925-ad5b-4e62-f535-bd52280d0137"
      },
      "execution_count": 94,
      "outputs": [
        {
          "output_type": "display_data",
          "data": {
            "text/plain": [
              "<Figure size 432x288 with 1 Axes>"
            ],
            "image/png": "[encoded data removed]"
          },
          "metadata": {
            "needs_background": "light"
          }
        }
      ]
    },
    {
      "cell_type": "markdown",
      "source": [
        "### 5.2.3. 이미지 크기 조정\n",
        "\n",
        "이미지 크기 조정은 픽셀 수를 조절하는 방식으로 이루어진다. 가장 단순한 방식은 행과 열에서 각각 2개씩 건너뛰며 픽셀을 선택하는 것이다. 일부 데이터가 상실되지만 작은 이미지에는 눈으로 보일 정도로 영향을 받지는 않는다.\n",
        "\n",
        "아래 코드는 행과 열에 대해 모두 스텝 2를 지정하고 슬라이싱을 적용한다. 즉, `2x2` 모양을 이루는 네 개의 픽셀 중에 상단 왼편에 있는 픽셀만 선택한다."
      ],
      "metadata": {
        "id": "AfOi_PbTGW6q"
      }
    },
    {
      "cell_type": "markdown",
      "source": [
        "![image.png](data:image/png;base64,iVBORw0KGgoAAAANSUhEUgAAANUAAADFCAYAAADDlrcYAAAAAXNSR0IArs4c6QAAAARnQU1BAACxjwv8YQUAAAAJcEhZcwAAEnQAABJ0Ad5mH3gAAAPVSURBVHhe7dqtSmxtAIbhd/xJokFEEcTgFIMGbXoAYhFMcwQegV2LYDAYFMFkUBBsRs9AsJmsmvypWibN5968eT5n88wUrwuGtd6nDjfMLFaj860AMUP1CoSICsJEBWGigjBRQZioIExUECYqCBMVhIkKwkQFYT2/+9dut4vXBfltRkdHy/DwcD1113NUq6ur5fn5uZ7gd7i4uCjb29v11F3PUTWbzTI0NFQmJibqQj+9v7+Xr6+vsrOzU8bGxurKIJ2fn5fT09PSarXq0t0/RbW4uFjm5ubqQj89Pj6W19fX8vDwUGZmZurKIC0vL5e9vb0fR+VBBYSJCsJEBWGigjBRQZioIExUECYqCBMVhIkKwkQFYaKCMFFBmKggTFQQJioIExWEiQrCRAVhooIwUUGYqCBMVBAmKggTFYSJCsJEBWGigjBRQZioIExUECYqCBMVhIkKwkQFYaKCMFFBmKggTFQQJioIExWEiQrCRAVhooIwUUGYqCBMVBAmKggTFYSJCsJEBWGigjBRQZioIExUECYqCBMVhIkKwkQFYaKCMFFBmKggTFQQJioIExWEiQrCRAVhooIwUUGYqCBMVBAmKggTFYSJCsJEBWGigjBRQZioIExUECYqCBMVhIkKwkQFYY3Ot3r/I81ms8zPz5fZ2dm60E9PT0/l4+Oj3N7elqmpqboySJubm+Xg4KC0Wq26dPdPUf35kkdGRupCP7Xb7b+f8fHx0mg06sogfX5+luvr6/5GdXJyUjY2NupCPx0fH5ezs7Nyf39fpqen68ograyslP39/R9HVf5E1YuFhYXO3d1dPdFvR0dHne+f2523t7e6MGhLS0udm5ubevp/HlRAmKggTFQQJioIExWEiQrCRAVhooIwUUGYqCBMVBAmKggTFYSJCsJEBWGigjBRQZioIExUECYqCBMVhIkKwkQFYaKCMFFBmKggTFQQJioIExWEiQrCRAVhooIwUUGYqCBMVBAmKggTFYSJCsJEBWGigjBRQZioIExUECYqCBMVhIkKwkQFYaKCMFFBmKggTFQQJioIExWEiQrCRAVhooIwUUGYqCBMVBAmKggTFYSJCsJEBWGigjBRQZioIExUECYqCBMVhIkKwkQFYaKCMFFBmKggTFQQJioIExWEiQrCRAVhooIwUUGYqCBMVBAmKghrdL7V+x9pNptld3e3rK2t1YV+ury8LDc3N+Xq6qpMTk7WlUFqtVrl8PDw7/Uneo5qfX29vLy81BP8Dufn52Vra6ueuus5KqA7/6kgTFQQJioIExWEiQrCRAVhooKoUv4Dwb3P/dEAxScAAAAASUVORK5CYII=)"
      ],
      "metadata": {
        "id": "LgyLQUgrGpGA"
      }
    },
    {
      "cell_type": "code",
      "source": [
        "face_half_simple = face[::2, ::2,:]"
      ],
      "metadata": {
        "id": "4rA_3VOUGsVQ"
      },
      "execution_count": 91,
      "outputs": []
    },
    {
      "cell_type": "markdown",
      "source": [
        "행과 열의 픽셀 수가 모두 절반으로 줄었다."
      ],
      "metadata": {
        "id": "hjhyWwciHQdY"
      }
    },
    {
      "cell_type": "code",
      "source": [
        "face_half_simple.shape"
      ],
      "metadata": {
        "colab": {
          "base_uri": "https://localhost:8080/"
        },
        "id": "SpbtXqIjHM1L",
        "outputId": "bbd925a7-5868-4a51-ce77-bbf5c52db650"
      },
      "execution_count": 92,
      "outputs": [
        {
          "output_type": "execute_result",
          "data": {
            "text/plain": [
              "(384, 512, 3)"
            ]
          },
          "metadata": {},
          "execution_count": 92
        }
      ]
    },
    {
      "cell_type": "markdown",
      "source": [
        "이미지를 확인하면 살짝 흐려진 느낌을 받는다."
      ],
      "metadata": {
        "id": "8EGT6wypHPYO"
      }
    },
    {
      "cell_type": "code",
      "source": [
        "plt.imshow(face_half_simple)\n",
        "plt.show()"
      ],
      "metadata": {
        "colab": {
          "base_uri": "https://localhost:8080/",
          "height": 269
        },
        "id": "1DNF131jHOur",
        "outputId": "2f36754a-ca4c-4b5e-8ee0-dbd94237ca51"
      },
      "execution_count": 93,
      "outputs": [
        {
          "output_type": "display_data",
          "data": {
            "text/plain": [
              "<Figure size 432x288 with 1 Axes>"
            ],
            "image/png": "[encoded data removed]"
          },
          "metadata": {
            "needs_background": "light"
          }
        }
      ]
    },
    {
      "cell_type": "markdown",
      "source": [
        "**보간법**\n",
        "\n",
        "가장 일반적으로 사용되는 이미지 변경 방법은 `보간법`(interpolation)이다. 이미지 크기 변경에 사용되는 다양한 보간법 기법이 있지만 여기서는 두 픽셀 사이의 평균값을 취하는 방식을 이용한다. \n",
        "\n",
        "아래 코드는 짝수 인덱스의 값과 홀수 인덱스의 값의 평균을 취하는 방식으로 보간법을 활용한다.\n",
        "\n",
        "![image.png](data:image/png;base64,iVBORw0KGgoAAAANSUhEUgAAAM0AAADBCAYAAABsfjQSAAAAAXNSR0IArs4c6QAAAARnQU1BAACxjwv8YQUAAAAJcEhZcwAAEnQAABJ0Ad5mH3gAAAPFSURBVHhe7dmxSpt7HMbxX9SYxaEQl2bIXbh17dDFNVfRrc56EVK8AUUXM6ngqkMJbg6lKLg4iotDKDR62vKeIXAifQ7HnMHPB/4k7zMGvuF9k9bTTwX8sYXmFfhDooGQaCAkGgiJBkKigZBoIDTzf5ofP37U4+NjcwWvS7vdrlar1VxNmxnNp0+f6vT0tLmC16Pb7dbe3l69ffu2WabNjGYwGNTR0VH1er2ZxfHfuru7q8lkUh8+fKhOp9OszNO3b9/q5uamRqNR9fv9Zp32bDRfvnyp9+/f1+LiYrPyki4uLmo8HtfZ2dnvbzvmb2dnp7a2tp6Nxg8BEBINhEQDIdFASDQQEg2ERAMh0UBINBASDYREAyHRQEg0EBINhEQDIdFASDQQEg2ERAMh0UBINBASDYREAyHRQEg0EBINhEQDIdFASDQQEg2ERAMh0UBINBASDYREAyHRQEg0EBINhEQDIdFASDQQEg2ERAMh0UBINBASDYREAyHRQEg0EBINhEQDIdFASDQQEg2ERAMh0UBINBASDYREAyHRQEg0EBINhEQDIdFASDQQEg2ERAMh0UBINBASDYREAyHRQEg0EBINhEQDIdFASDQQEg2ERAMh0UBINBASDYREAyHRQKj19FPzfspgMKjz8/N69+5dLSxoax4uLy/r+/fvtb+/X2/evGlW5ml3d7c+f/5co9Go+v1+s057NprhcFgrKyvNwksbj8e/o2m329VqtZqVeZpMJtXtdv99NA8PD3V4eFjLy8vNykva3Nys7e3tWl9fr06n06zM09evX+vq6urZaJ697/r1bffr/Lo9c17+/P15O//f+RMeViAkGgiJBkKigZBoICQaCIkGQqKBkGggJBoIiQZCooGQaCAkGgiJBkKigZBoICQaCIkGQqKBkGggJBoIiQZCooGQaCAkGgiJBkKigZBoICQaCIkGQqKBkGggJBoIiQZCooGQaCAkGgiJBkKigZBoICQaCIkGQqKBkGggJBoIiQZCooGQaCAkGgiJBkKigZBoICQaCIkGQqKBkGggJBoIiQZCooGQaCAkGgiJBkKigZBoICQaCIkGQqKBkGggJBoIiQZCooGQaCAkGgiJBkKigZBoICQaCIkGQqKBkGggJBoIiQZCooGQaCDUevqpeT9lMBjU9fV1bWxs1NLSUrPykg4ODurk5KTW1taq3W43K/N0e3tb9/f3NRqNqt/vN+u0mdF8/Pixjo+Pmyt4PVZXV2s4HFav12uWaTOjAf6ZZxoIiQZCooGQaCAkGohU/QXEMauR5IpISgAAAABJRU5ErkJggg==)"
      ],
      "metadata": {
        "id": "q79IyRDdb2oH"
      }
    },
    {
      "cell_type": "code",
      "source": [
        "face_half_interpolation = (face[::2, ::2, :] + face[1::2, 1::2, :])/2"
      ],
      "metadata": {
        "id": "xleFm9ZZdEBi"
      },
      "execution_count": 96,
      "outputs": []
    },
    {
      "cell_type": "code",
      "source": [
        "face_half_interpolation.shape"
      ],
      "metadata": {
        "colab": {
          "base_uri": "https://localhost:8080/"
        },
        "id": "pchHxhM6dRP-",
        "outputId": "bf67511d-256b-43d1-cdfc-86deffe2b103"
      },
      "execution_count": 98,
      "outputs": [
        {
          "output_type": "execute_result",
          "data": {
            "text/plain": [
              "(384, 512, 3)"
            ]
          },
          "metadata": {},
          "execution_count": 98
        }
      ]
    },
    {
      "cell_type": "code",
      "source": [
        "plt.imshow(face_half_interpolation)\n",
        "plt.show()"
      ],
      "metadata": {
        "colab": {
          "base_uri": "https://localhost:8080/",
          "height": 269
        },
        "id": "xRePsIgrdVuk",
        "outputId": "42b4fb16-42fe-4a13-d19c-8589a494e959"
      },
      "execution_count": 100,
      "outputs": [
        {
          "output_type": "display_data",
          "data": {
            "text/plain": [
              "<Figure size 432x288 with 1 Axes>"
            ],
            "image/png": "[encoded data removed]"
          },
          "metadata": {
            "needs_background": "light"
          }
        }
      ]
    },
    {
      "cell_type": "markdown",
      "source": [
        "4분의 1 크기의 두 이미지 데이터가 조금 다르기는 하지만 이미지 상으로 차이점을 발견하기 어렵다."
      ],
      "metadata": {
        "id": "Ng2kZ96pde2T"
      }
    },
    {
      "cell_type": "code",
      "source": [
        "face_half_interpolation[:2]"
      ],
      "metadata": {
        "colab": {
          "base_uri": "https://localhost:8080/"
        },
        "id": "5CJiY3pGdnzk",
        "outputId": "e787bdc5-92c0-4c8f-cfe7-57059e81018f"
      },
      "execution_count": 101,
      "outputs": [
        {
          "output_type": "execute_result",
          "data": {
            "text/plain": [
              "array([[[0.0018, 0.0017, 0.0019],\n",
              "        [0.0022, 0.0021, 0.0024],\n",
              "        [0.0023, 0.0022, 0.0025],\n",
              "        ...,\n",
              "        [0.0019, 0.002 , 0.0012],\n",
              "        [0.0018, 0.0019, 0.0011],\n",
              "        [0.0021, 0.0022, 0.0014]],\n",
              "\n",
              "       [[0.0013, 0.0012, 0.0015],\n",
              "        [0.0018, 0.0017, 0.002 ],\n",
              "        [0.0019, 0.0018, 0.0022],\n",
              "        ...,\n",
              "        [0.0017, 0.0018, 0.001 ],\n",
              "        [0.0017, 0.0019, 0.001 ],\n",
              "        [0.002 , 0.0021, 0.0013]]])"
            ]
          },
          "metadata": {},
          "execution_count": 101
        }
      ]
    },
    {
      "cell_type": "code",
      "source": [
        "face_half_simple[:2]"
      ],
      "metadata": {
        "colab": {
          "base_uri": "https://localhost:8080/"
        },
        "id": "jc17QDHHds7E",
        "outputId": "87fe064a-48b4-47a5-8ddc-dc983bf7ad5d"
      },
      "execution_count": 103,
      "outputs": [
        {
          "output_type": "execute_result",
          "data": {
            "text/plain": [
              "array([[[0.0019, 0.0017, 0.002 ],\n",
              "        [0.0024, 0.0022, 0.0025],\n",
              "        [0.0024, 0.0022, 0.0026],\n",
              "        ...,\n",
              "        [0.0021, 0.0022, 0.0014],\n",
              "        [0.0018, 0.0019, 0.0011],\n",
              "        [0.002 , 0.0021, 0.0013]],\n",
              "\n",
              "       [[0.0011, 0.001 , 0.0013],\n",
              "        [0.0018, 0.0017, 0.0019],\n",
              "        [0.002 , 0.0018, 0.0022],\n",
              "        ...,\n",
              "        [0.0017, 0.0018, 0.001 ],\n",
              "        [0.0016, 0.0018, 0.0009],\n",
              "        [0.002 , 0.0022, 0.0013]]])"
            ]
          },
          "metadata": {},
          "execution_count": 103
        }
      ]
    },
    {
      "cell_type": "markdown",
      "source": [
        "4차원 이상의 어레이에 대해서는 기본적으로 2, 3차원 어레이 대상과 동일하게 작동한다. 하지만 시각화가 기본적으로 불가능하고, 사람이 직접 4차원 이상의 슬라이싱을 조작하는 것도 매우 어렵다. 따라서 2, 3차원 어레이 슬라이싱의 기본 아이디어만 이해핬다면 그것으로 충분하다는 점만 언급한다."
      ],
      "metadata": {
        "id": "-HyV8EE9d14P"
      }
    },
    {
      "cell_type": "markdown",
      "source": [
        "## 5.3. 부울 인덱싱\n",
        "\n",
        "부울 인덱싱은 앞서 설명한 인덱싱/슬라이싱 기법이 처리하지 못하는 인덱싱/슬라이싱을 지원한다.\n",
        "\n",
        "### 5.3.1. 1차원 부울 어레이 활용\n",
        "\n",
        "1차원 부울 어레이를 이용한 인덱싱을 설명하기 위해 아래 두 개의 어레이를 이용한다.\n",
        "\n",
        "- 중복된 이름을 포함하면서 길이가 7인 1차원 어레이"
      ],
      "metadata": {
        "id": "9Q5vJDPBeL-i"
      }
    },
    {
      "cell_type": "code",
      "source": [
        "names = np.array(['Bob', 'Joe', 'Will', 'Bob', 'Will', 'Joe', 'Joe'])\n",
        "names"
      ],
      "metadata": {
        "colab": {
          "base_uri": "https://localhost:8080/"
        },
        "id": "yfOcLE-leisA",
        "outputId": "5a9d3d7d-1885-4512-81d6-953e5b6ad96c"
      },
      "execution_count": 104,
      "outputs": [
        {
          "output_type": "execute_result",
          "data": {
            "text/plain": [
              "array(['Bob', 'Joe', 'Will', 'Bob', 'Will', 'Joe', 'Joe'], dtype='<U4')"
            ]
          },
          "metadata": {},
          "execution_count": 104
        }
      ]
    },
    {
      "cell_type": "markdown",
      "source": [
        "- (7, 4) 모양의 2차원 어레이 무작위 생성\n",
        "  - `randn()` 함수는 표준 정규 분포를 이용하여 임의의 부동소수점으로 이루어진 어레이 생성\n",
        "  - **주의사항** : 인자로 하나의 튜플이 아닌 여러 개의 인자 사용. 각각의 인자가 각각의 행(axis = 0), 열(axis = 1) 등에 사용되는 항목의 개수 지정"
      ],
      "metadata": {
        "id": "cFjtVeaWes8w"
      }
    },
    {
      "cell_type": "code",
      "source": [
        "np.random.seed(3)\n",
        "\n",
        "data = np.random.randn(7, 4)\n",
        "data"
      ],
      "metadata": {
        "colab": {
          "base_uri": "https://localhost:8080/"
        },
        "id": "sfl3kSVQfGP6",
        "outputId": "9b6550cc-aa8b-4275-8ca5-5e3504cc0396"
      },
      "execution_count": 105,
      "outputs": [
        {
          "output_type": "execute_result",
          "data": {
            "text/plain": [
              "array([[ 1.7886,  0.4365,  0.0965, -1.8635],\n",
              "       [-0.2774, -0.3548, -0.0827, -0.627 ],\n",
              "       [-0.0438, -0.4772, -1.3139,  0.8846],\n",
              "       [ 0.8813,  1.7096,  0.05  , -0.4047],\n",
              "       [-0.5454, -1.5465,  0.9824, -1.1011],\n",
              "       [-1.185 , -0.2056,  1.4861,  0.2367],\n",
              "       [-1.0238, -0.713 ,  0.6252, -0.1605]])"
            ]
          },
          "metadata": {},
          "execution_count": 105
        }
      ]
    },
    {
      "cell_type": "markdown",
      "source": [
        "`names`에 포함된 이름이 Bob인지 여부를 확인하면 부울 값으로 이루어진 길이가 7인 어레이가 생성된다. 즉, 항목별 비교 연산이 이루어진다."
      ],
      "metadata": {
        "id": "ZSKika72fNPj"
      }
    },
    {
      "cell_type": "code",
      "source": [
        "name_Bob = names == 'Bob'\n",
        "name_Bob"
      ],
      "metadata": {
        "colab": {
          "base_uri": "https://localhost:8080/"
        },
        "id": "SmtvWeIUwKaN",
        "outputId": "cca98516-1b0d-42be-f377-0e81c289412c"
      },
      "execution_count": 106,
      "outputs": [
        {
          "output_type": "execute_result",
          "data": {
            "text/plain": [
              "array([ True, False, False,  True, False, False, False])"
            ]
          },
          "metadata": {},
          "execution_count": 106
        }
      ]
    },
    {
      "cell_type": "markdown",
      "source": [
        "이제부터 `name_Bob`이 가리키는 길이가 7인 1차원 어레이에서 `True`가 위치한 인덱스를 이용하여 `data`가 가리키는 2차원 어레이를 대상으로 부울 인덱싱이 작동하는 방법을 설명한다.  \n",
        "  \n",
        "  \n",
        "먼저 `data`의 행의 길이가 7임에 주목하라. 이제 `name_Bob`에서 `True`가 위치한 인덱스에 해당하는 항목만 `data`에서 슬라이싱하려면 다음과 같이 부울 인덱싱을 사용한다. 결과는 `data`에서 0번행과 3번행만 가져온다. 이유는 `name_Bob`에서 0번, 3번 인덱스의 항목만 `True`이기 때문이다."
      ],
      "metadata": {
        "id": "hoUlUGQkwTWj"
      }
    },
    {
      "cell_type": "code",
      "source": [
        "data[name_Bob]"
      ],
      "metadata": {
        "colab": {
          "base_uri": "https://localhost:8080/"
        },
        "id": "ZO2UUrnGwwUb",
        "outputId": "cbef1a1e-72fe-427c-8007-add0644966db"
      },
      "execution_count": 107,
      "outputs": [
        {
          "output_type": "execute_result",
          "data": {
            "text/plain": [
              "array([[ 1.7886,  0.4365,  0.0965, -1.8635],\n",
              "       [ 0.8813,  1.7096,  0.05  , -0.4047]])"
            ]
          },
          "metadata": {},
          "execution_count": 107
        }
      ]
    },
    {
      "cell_type": "markdown",
      "source": [
        "이처럼 1차원 부울 어레이를 이용한 인덱싱은 하나의 축에 대해 슬라이싱을 적용하는 것과 동일하게 작동한다. 다만, 부울 어레이의 길이가 사용되는 축의 길이와 동일해야 한다. 따라서 부울 인덱싱과 일반 인덱싱, 슬라이싱을 혼합할 수 있다.\n",
        "\n",
        "- 행 기준 : Bob이 포함된 행의 인덱스를 갖는 행\n",
        "- 열 기준 : 2번 열 이후 전체"
      ],
      "metadata": {
        "id": "swyjFhrtyZvP"
      }
    },
    {
      "cell_type": "code",
      "source": [
        "data[name_Bob, 2:]"
      ],
      "metadata": {
        "colab": {
          "base_uri": "https://localhost:8080/"
        },
        "id": "3pOiAkTCymp1",
        "outputId": "ff5cf595-d724-43d3-c5b3-e61c03cdff96"
      },
      "execution_count": 108,
      "outputs": [
        {
          "output_type": "execute_result",
          "data": {
            "text/plain": [
              "array([[ 0.0965, -1.8635],\n",
              "       [ 0.05  , -0.4047]])"
            ]
          },
          "metadata": {},
          "execution_count": 108
        }
      ]
    },
    {
      "cell_type": "markdown",
      "source": [
        "- 행 기준 : Bob이 포함된 행의 인덱스를 갖는 행\n",
        "- 열 기준 : 3번 열"
      ],
      "metadata": {
        "id": "XZK7hxCsyqU7"
      }
    },
    {
      "cell_type": "code",
      "source": [
        "data[name_Bob, 3]"
      ],
      "metadata": {
        "colab": {
          "base_uri": "https://localhost:8080/"
        },
        "id": "0mAfYaGeyupG",
        "outputId": "5dd27db7-12a2-4fe0-a858-08d40cb2a2a9"
      },
      "execution_count": 109,
      "outputs": [
        {
          "output_type": "execute_result",
          "data": {
            "text/plain": [
              "array([-1.8635, -0.4047])"
            ]
          },
          "metadata": {},
          "execution_count": 109
        }
      ]
    },
    {
      "cell_type": "markdown",
      "source": [
        "부울 연산자(`~, &, |`)를 사용하여 얻어진 부울 어레이 표현식을 부울 인덱싱에 직접 활용할 수 있다. 예를 들어, 이름이 Bob이 아닌 이름이 위치한 인덱스에 해당하는 행만 가져오려면 `==` 대신에 `~=`를 이용하거나 `==`와 `~` 연산자를 함께 이용한다."
      ],
      "metadata": {
        "id": "m8jE8jxlyxhm"
      }
    },
    {
      "cell_type": "code",
      "source": [
        "data[names != 'Bob']"
      ],
      "metadata": {
        "colab": {
          "base_uri": "https://localhost:8080/"
        },
        "id": "62-nn2UE0cwr",
        "outputId": "38b55609-860d-48ad-b56e-0d0e04502cf6"
      },
      "execution_count": 111,
      "outputs": [
        {
          "output_type": "execute_result",
          "data": {
            "text/plain": [
              "array([[-0.2774, -0.3548, -0.0827, -0.627 ],\n",
              "       [-0.0438, -0.4772, -1.3139,  0.8846],\n",
              "       [-0.5454, -1.5465,  0.9824, -1.1011],\n",
              "       [-1.185 , -0.2056,  1.4861,  0.2367],\n",
              "       [-1.0238, -0.713 ,  0.6252, -0.1605]])"
            ]
          },
          "metadata": {},
          "execution_count": 111
        }
      ]
    },
    {
      "cell_type": "code",
      "source": [
        "data[~name_Bob]"
      ],
      "metadata": {
        "colab": {
          "base_uri": "https://localhost:8080/"
        },
        "id": "WhqWA0930efX",
        "outputId": "738d9fa5-2593-476b-f592-89053b1326c2"
      },
      "execution_count": 112,
      "outputs": [
        {
          "output_type": "execute_result",
          "data": {
            "text/plain": [
              "array([[-0.2774, -0.3548, -0.0827, -0.627 ],\n",
              "       [-0.0438, -0.4772, -1.3139,  0.8846],\n",
              "       [-0.5454, -1.5465,  0.9824, -1.1011],\n",
              "       [-1.185 , -0.2056,  1.4861,  0.2367],\n",
              "       [-1.0238, -0.713 ,  0.6252, -0.1605]])"
            ]
          },
          "metadata": {},
          "execution_count": 112
        }
      ]
    },
    {
      "cell_type": "markdown",
      "source": [
        "다음은 Bob 또는 Will이 위치한 인덱스에 해당하는 행만 가져온다."
      ],
      "metadata": {
        "id": "YibhP4CG0j4Q"
      }
    },
    {
      "cell_type": "code",
      "source": [
        "mask = (names == 'Bob') | (names == 'Will')\n",
        "mask"
      ],
      "metadata": {
        "colab": {
          "base_uri": "https://localhost:8080/"
        },
        "id": "gULrNLwq0nal",
        "outputId": "c3ffae98-b860-479e-b795-b025fd1ed729"
      },
      "execution_count": 115,
      "outputs": [
        {
          "output_type": "execute_result",
          "data": {
            "text/plain": [
              "array([ True, False,  True,  True,  True, False, False])"
            ]
          },
          "metadata": {},
          "execution_count": 115
        }
      ]
    },
    {
      "cell_type": "code",
      "source": [
        "data[mask]"
      ],
      "metadata": {
        "colab": {
          "base_uri": "https://localhost:8080/"
        },
        "id": "DWqPU1E00ro1",
        "outputId": "02979cb9-4915-4514-83fa-e1adf1517700"
      },
      "execution_count": 116,
      "outputs": [
        {
          "output_type": "execute_result",
          "data": {
            "text/plain": [
              "array([[ 1.7886,  0.4365,  0.0965, -1.8635],\n",
              "       [-0.0438, -0.4772, -1.3139,  0.8846],\n",
              "       [ 0.8813,  1.7096,  0.05  , -0.4047],\n",
              "       [-0.5454, -1.5465,  0.9824, -1.1011]])"
            ]
          },
          "metadata": {},
          "execution_count": 116
        }
      ]
    },
    {
      "cell_type": "markdown",
      "source": [
        "### 5.3.2. 항목 업데이트\n",
        "\n",
        "1차원 부울 배열을 이용하여 전체 행 또는 전체 열을 특정 값으로 변경할 수 있다.\n",
        "\n",
        "아래 코드는 `names`에서 Joe가 사용되지 않은 항목의 인덱스에 해당하는 행에 포함된 항목을 모두 7로 변경한다."
      ],
      "metadata": {
        "id": "aF52l7Fd0vmq"
      }
    },
    {
      "cell_type": "code",
      "source": [
        "mask = names != 'Joe'\n",
        "mask"
      ],
      "metadata": {
        "colab": {
          "base_uri": "https://localhost:8080/"
        },
        "id": "xGT7Ftz104b3",
        "outputId": "56290168-e887-4043-a58a-1bac2a206da9"
      },
      "execution_count": 118,
      "outputs": [
        {
          "output_type": "execute_result",
          "data": {
            "text/plain": [
              "array([ True, False,  True,  True,  True, False, False])"
            ]
          },
          "metadata": {},
          "execution_count": 118
        }
      ]
    },
    {
      "cell_type": "code",
      "source": [
        "data[mask] = 7\n",
        "data"
      ],
      "metadata": {
        "colab": {
          "base_uri": "https://localhost:8080/"
        },
        "id": "sfCtOn2-069E",
        "outputId": "46dcbe38-bdd9-4f77-d1d7-132b77e4bec8"
      },
      "execution_count": 119,
      "outputs": [
        {
          "output_type": "execute_result",
          "data": {
            "text/plain": [
              "array([[ 7.    ,  7.    ,  7.    ,  7.    ],\n",
              "       [-0.2774, -0.3548, -0.0827, -0.627 ],\n",
              "       [ 7.    ,  7.    ,  7.    ,  7.    ],\n",
              "       [ 7.    ,  7.    ,  7.    ,  7.    ],\n",
              "       [ 7.    ,  7.    ,  7.    ,  7.    ],\n",
              "       [-1.185 , -0.2056,  1.4861,  0.2367],\n",
              "       [-1.0238, -0.713 ,  0.6252, -0.1605]])"
            ]
          },
          "metadata": {},
          "execution_count": 119
        }
      ]
    },
    {
      "cell_type": "markdown",
      "source": [
        "### 5.3.3. 부울 인덱싱 활용 변수 선언\n",
        "\n",
        "부울 인덱싱은 뷰를 이용하지 않고 항상 새로운 어레이를 생성한다."
      ],
      "metadata": {
        "id": "5gqO68ZQ09Ke"
      }
    },
    {
      "cell_type": "code",
      "source": [
        "data2 = data[names == 'Bob']\n",
        "data2"
      ],
      "metadata": {
        "colab": {
          "base_uri": "https://localhost:8080/"
        },
        "id": "-YxZHuLw1Bk2",
        "outputId": "e4be22f9-0232-4e59-e7a3-6c9c2349d130"
      },
      "execution_count": 120,
      "outputs": [
        {
          "output_type": "execute_result",
          "data": {
            "text/plain": [
              "array([[7., 7., 7., 7.],\n",
              "       [7., 7., 7., 7.]])"
            ]
          },
          "metadata": {},
          "execution_count": 120
        }
      ]
    },
    {
      "cell_type": "markdown",
      "source": [
        "`data2`의 0번 행을 모두 -1로 변경해도 `data`는 변하지 않는다."
      ],
      "metadata": {
        "id": "na7zAXkQ1EjK"
      }
    },
    {
      "cell_type": "code",
      "source": [
        "data2[0] = -1\n",
        "data2"
      ],
      "metadata": {
        "colab": {
          "base_uri": "https://localhost:8080/"
        },
        "id": "YW70pDje1EC6",
        "outputId": "37b9b452-c4a1-462a-9015-2fddded69c02"
      },
      "execution_count": 121,
      "outputs": [
        {
          "output_type": "execute_result",
          "data": {
            "text/plain": [
              "array([[-1., -1., -1., -1.],\n",
              "       [ 7.,  7.,  7.,  7.]])"
            ]
          },
          "metadata": {},
          "execution_count": 121
        }
      ]
    },
    {
      "cell_type": "markdown",
      "source": [
        "하지만 `data`는 변경되지 않았다."
      ],
      "metadata": {
        "id": "VXTa0X-a1Kxi"
      }
    },
    {
      "cell_type": "code",
      "source": [
        "data"
      ],
      "metadata": {
        "colab": {
          "base_uri": "https://localhost:8080/"
        },
        "id": "wPdAbyTI1MOr",
        "outputId": "0dbe7425-7185-4c80-d9ab-e7c638058ffb"
      },
      "execution_count": 122,
      "outputs": [
        {
          "output_type": "execute_result",
          "data": {
            "text/plain": [
              "array([[ 7.    ,  7.    ,  7.    ,  7.    ],\n",
              "       [-0.2774, -0.3548, -0.0827, -0.627 ],\n",
              "       [ 7.    ,  7.    ,  7.    ,  7.    ],\n",
              "       [ 7.    ,  7.    ,  7.    ,  7.    ],\n",
              "       [ 7.    ,  7.    ,  7.    ,  7.    ],\n",
              "       [-1.185 , -0.2056,  1.4861,  0.2367],\n",
              "       [-1.0238, -0.713 ,  0.6252, -0.1605]])"
            ]
          },
          "metadata": {},
          "execution_count": 122
        }
      ]
    },
    {
      "cell_type": "markdown",
      "source": [
        "### 5.3.4. 다차원 부울 어레이 활용\n",
        "\n",
        "아래 표현식은 `data`와 동일한 모양의 부울 어레이를 생성한다. 이유는 부등호 연산이 항목별로 작동하기 때문이다."
      ],
      "metadata": {
        "id": "Hhpj_Lc91nnO"
      }
    },
    {
      "cell_type": "code",
      "source": [
        "mask = data < 0\n",
        "mask"
      ],
      "metadata": {
        "colab": {
          "base_uri": "https://localhost:8080/"
        },
        "id": "C--cl98g1vJ6",
        "outputId": "1d92c926-e508-462d-8b6a-de14b56bddd2"
      },
      "execution_count": 123,
      "outputs": [
        {
          "output_type": "execute_result",
          "data": {
            "text/plain": [
              "array([[False, False, False, False],\n",
              "       [ True,  True,  True,  True],\n",
              "       [False, False, False, False],\n",
              "       [False, False, False, False],\n",
              "       [False, False, False, False],\n",
              "       [ True,  True, False, False],\n",
              "       [ True,  True, False,  True]])"
            ]
          },
          "metadata": {},
          "execution_count": 123
        }
      ]
    },
    {
      "cell_type": "markdown",
      "source": [
        "음수 항목만 끄집어 내면 1차원 어레이가 된다."
      ],
      "metadata": {
        "id": "I4GfM_YJ1yTF"
      }
    },
    {
      "cell_type": "code",
      "source": [
        "data[mask]"
      ],
      "metadata": {
        "colab": {
          "base_uri": "https://localhost:8080/"
        },
        "id": "zpO9HKzS10eC",
        "outputId": "23b145c5-c378-4e87-f49a-354e39943554"
      },
      "execution_count": 124,
      "outputs": [
        {
          "output_type": "execute_result",
          "data": {
            "text/plain": [
              "array([-0.2774, -0.3548, -0.0827, -0.627 , -1.185 , -0.2056, -1.0238,\n",
              "       -0.713 , -0.1605])"
            ]
          },
          "metadata": {},
          "execution_count": 124
        }
      ]
    },
    {
      "cell_type": "markdown",
      "source": [
        "`mask`를 이용하여 모든 음수 항목을 0으로 변경할 수도 있다. 방식은 리스트의 인덱싱을 이용하여 항목을 변경하는 방식과 매우 유사하다."
      ],
      "metadata": {
        "id": "63CgUdmb136u"
      }
    },
    {
      "cell_type": "code",
      "source": [
        "data[mask] = 0\n",
        "data"
      ],
      "metadata": {
        "colab": {
          "base_uri": "https://localhost:8080/"
        },
        "id": "kmJyZdS7193j",
        "outputId": "5e1327ab-f62c-4903-8be2-20c589047a71"
      },
      "execution_count": 125,
      "outputs": [
        {
          "output_type": "execute_result",
          "data": {
            "text/plain": [
              "array([[7.    , 7.    , 7.    , 7.    ],\n",
              "       [0.    , 0.    , 0.    , 0.    ],\n",
              "       [7.    , 7.    , 7.    , 7.    ],\n",
              "       [7.    , 7.    , 7.    , 7.    ],\n",
              "       [7.    , 7.    , 7.    , 7.    ],\n",
              "       [0.    , 0.    , 1.4861, 0.2367],\n",
              "       [0.    , 0.    , 0.6252, 0.    ]])"
            ]
          },
          "metadata": {},
          "execution_count": 125
        }
      ]
    },
    {
      "cell_type": "markdown",
      "source": [
        "## 5.4. 팬시 인덱싱\n",
        "\n",
        "**팬시 인덱싱**fancy indexing은 정수 배열을 이용한다. 아래 (8, 4) 모양의 2차원 어레이를 이용해서 팬시 인덱싱을 설명한다. 팬시 인덱싱은 객체를 항상 새로 생성한다. 즉, 뷰 기능을 이용하지 않는다."
      ],
      "metadata": {
        "id": "HZOAKi7Q2BC1"
      }
    },
    {
      "cell_type": "code",
      "source": [
        "arr = np.empty((8, 4))"
      ],
      "metadata": {
        "id": "_oX-jf2x2Stp"
      },
      "execution_count": 127,
      "outputs": []
    },
    {
      "cell_type": "code",
      "source": [
        "for i in range(8):\n",
        "  arr[i] = i\n",
        "arr"
      ],
      "metadata": {
        "colab": {
          "base_uri": "https://localhost:8080/"
        },
        "id": "M1HjDF-w2UPh",
        "outputId": "f5def9e9-156b-410a-fb70-83f6a5760de8"
      },
      "execution_count": 128,
      "outputs": [
        {
          "output_type": "execute_result",
          "data": {
            "text/plain": [
              "array([[0., 0., 0., 0.],\n",
              "       [1., 1., 1., 1.],\n",
              "       [2., 2., 2., 2.],\n",
              "       [3., 3., 3., 3.],\n",
              "       [4., 4., 4., 4.],\n",
              "       [5., 5., 5., 5.],\n",
              "       [6., 6., 6., 6.],\n",
              "       [7., 7., 7., 7.]])"
            ]
          },
          "metadata": {},
          "execution_count": 128
        }
      ]
    },
    {
      "cell_type": "markdown",
      "source": [
        "아래 코드는 `arr`의 4번, 3번, 0번, 6번 인덱스에 해당하는 항목을 모아서 새로운 어레이를 생성한다."
      ],
      "metadata": {
        "id": "kL4Wzcga2ckJ"
      }
    },
    {
      "cell_type": "code",
      "source": [
        "arr[[4, 3, 0, 6]]"
      ],
      "metadata": {
        "colab": {
          "base_uri": "https://localhost:8080/"
        },
        "id": "oRYLAIfx2hRF",
        "outputId": "b31d81d9-3fc6-406b-ae34-ddd98f718faa"
      },
      "execution_count": 129,
      "outputs": [
        {
          "output_type": "execute_result",
          "data": {
            "text/plain": [
              "array([[4., 4., 4., 4.],\n",
              "       [3., 3., 3., 3.],\n",
              "       [0., 0., 0., 0.],\n",
              "       [6., 6., 6., 6.]])"
            ]
          },
          "metadata": {},
          "execution_count": 129
        }
      ]
    },
    {
      "cell_type": "markdown",
      "source": [
        "음수를 인덱스로 사용하면 맨 아래에 위치한 행부터 순서를 매긴다. 밑에서 셋째, 다섯째, 일곱째 항목으로 이루어진 어레이는 다음과 같이 구한다."
      ],
      "metadata": {
        "id": "18tUsG6C2lAH"
      }
    },
    {
      "cell_type": "code",
      "source": [
        "arr[[-3, -5, -7]]"
      ],
      "metadata": {
        "colab": {
          "base_uri": "https://localhost:8080/"
        },
        "id": "tAD6YDxU2qTA",
        "outputId": "9860900d-82b6-4aef-c24f-4e0930091aa4"
      },
      "execution_count": 130,
      "outputs": [
        {
          "output_type": "execute_result",
          "data": {
            "text/plain": [
              "array([[5., 5., 5., 5.],\n",
              "       [3., 3., 3., 3.],\n",
              "       [1., 1., 1., 1.]])"
            ]
          },
          "metadata": {},
          "execution_count": 130
        }
      ]
    },
    {
      "cell_type": "markdown",
      "source": [
        "여러 개의 인덱스 어레이를 사용하면 1차원 어레이가 생성된다. 이유는 각각의 인덱스 어레이가 각 축의 좌표로 사용되기 때문이다."
      ],
      "metadata": {
        "id": "UPC9TmRB2xI4"
      }
    },
    {
      "cell_type": "code",
      "source": [
        "arr = np.arange(32).reshape((8,4))\n",
        "arr"
      ],
      "metadata": {
        "colab": {
          "base_uri": "https://localhost:8080/"
        },
        "id": "EAkXeo-P22R3",
        "outputId": "5df9d6eb-acd2-40b7-9cb8-e6073f22fd63"
      },
      "execution_count": 131,
      "outputs": [
        {
          "output_type": "execute_result",
          "data": {
            "text/plain": [
              "array([[ 0,  1,  2,  3],\n",
              "       [ 4,  5,  6,  7],\n",
              "       [ 8,  9, 10, 11],\n",
              "       [12, 13, 14, 15],\n",
              "       [16, 17, 18, 19],\n",
              "       [20, 21, 22, 23],\n",
              "       [24, 25, 26, 27],\n",
              "       [28, 29, 30, 31]])"
            ]
          },
          "metadata": {},
          "execution_count": 131
        }
      ]
    },
    {
      "cell_type": "markdown",
      "source": [
        "(1, 0), (5, 3), (7, 2), (2, 2) 좌표에 위치한 항목으로 이루어진 어레이는 다음과 같이 축별로 항목을 모아놓은 두 개의 어레이를 사용해서 팬시 인덱싱을 진행한다."
      ],
      "metadata": {
        "id": "zPfnmcne26sa"
      }
    },
    {
      "cell_type": "code",
      "source": [
        "arr[[1, 5, 7, 2],[0, 3, 1, 2]]"
      ],
      "metadata": {
        "colab": {
          "base_uri": "https://localhost:8080/"
        },
        "id": "LLGluO4Y3Fpc",
        "outputId": "fa142768-ab99-4f3f-e50f-fb5c83a760f9"
      },
      "execution_count": 132,
      "outputs": [
        {
          "output_type": "execute_result",
          "data": {
            "text/plain": [
              "array([ 4, 23, 29, 10])"
            ]
          },
          "metadata": {},
          "execution_count": 132
        }
      ]
    },
    {
      "cell_type": "markdown",
      "source": [
        "2차원 어레이를 얻고자 한다면 다음과 같이 해야 한다."
      ],
      "metadata": {
        "id": "hT0k6-i63Js1"
      }
    },
    {
      "cell_type": "code",
      "source": [
        "arr[[1, 5, 7, 2]][:, [0, 3, 1, 2]]"
      ],
      "metadata": {
        "colab": {
          "base_uri": "https://localhost:8080/"
        },
        "id": "nGjrHFJ83Lz7",
        "outputId": "30884b79-33af-48e4-87fb-832431699122"
      },
      "execution_count": 135,
      "outputs": [
        {
          "output_type": "execute_result",
          "data": {
            "text/plain": [
              "array([[ 4,  7,  5,  6],\n",
              "       [20, 23, 21, 22],\n",
              "       [28, 31, 29, 30],\n",
              "       [ 8, 11,  9, 10]])"
            ]
          },
          "metadata": {},
          "execution_count": 135
        }
      ]
    },
    {
      "cell_type": "markdown",
      "source": [
        "**Example 5.2**\n",
        "\n",
        "아래 이미지 모양의 2차원 어레이에서 색깔로 구분된 1차원 또는 2차원 어레이를 추출해보자.\n",
        
        "![image.png](data:image/png;base64,iVBORw0KGgoAAAANSUhEUgAAAVwAAAFWCAYAAAAljSVKAAAAAXNSR0IArs4c6QAAAARnQU1BAACxjwv8YQUAAAAJcEhZcwAAEnQAABJ0Ad5mH3gAALcHSURBVHhe7J0FfBRHG8afk9zF3d0TCAmWQHB3d3co1pZCqTt1qJdCgdLiUNzdnRAIkhB3d72c334zm6MFPmixXO7o/tv9hZvdS3Z2Zp5535nZd3gMARwcHBwc9Q5f+5ODg4ODo57hBJeDg4NDR3CCy8HBwaEjOMHl4ODg0BGc4HJwcHDoCE5wOTg4OHQEJ7gcHBwcOoITXA4ODg4doTcvPqhUKuTn56O6ulqbYpjQx6nRaNh/CwQC9qehQsuEz+ezhyGjVqvZn4ZeHrRu0TIxMjLSphguSqUSQqEQPB5Pm2J40HZOy8Pe3h7u7u7a1H9GLwRXJpMhPj4e27ZtY0XX3Nxce8awoA27qqoKFRUVsLS0hJ2dnfaMYUGrhFQqRUZGBlxcXGBlZWWwoltbW4uCggKYmJjA0dHRYEVXLpejtLSUzY+fn5/BChVtI8XFxaipqWFFytjYWHvGsFAoFCgqKmLzMnToUCxYsEB75p9pcMGlFSgqKgqffvopysrKMGDAAISFhWnPGg60APLy8nD16lW20+jevTsaN26sPWs40F6bNmxaJvQYPnw4goKCIBKJtFcYBrRaV1ZWsuURFxeH0NBQtG3blhVeQ4Lmg3p9d+7cYcuDWlMjR45krUNDguaDdhrp6ek4cOAAnJyc0KdPHzY/hgbtLGidOnnyJFsuM2fOxA8//KA9+y9QwW0oiBXFbNq0iQkJCWE6derEnD59WnvGsCBiy1y7do15+eWXGdIYGNLItWcMC+IeMTk5Ocw777zDkE6PuXLlCps3Q4N0Gkx5eTmzaNEipl+/fmwdI41Ee9ZwINYgQ4wQZs2aNWw+vvrqK4Z4g9qzhgMtD/r8afsmHR/zwQcfMMQy1J41LIiByKxevZpp2bIl06NHD4Z04sxrr72mPfvvNJjg0kL46KOPGAcHB2bSpElMfHy89ozhcfToUYa4FcycOXOYzMxMbaphQRs3LQPaYdCKRKx0towMEdqYJ06cyAwePJg5c+YM25EYIrQMaKfRs2dPZsuWLQZbHsTTYNavX894eHgw69atYw0tQ4Q+f2qMuLq6MtOnT2du3brFapjeCy61moirytjY2DBffPEFk5WVZZCNguaD9nYDBw5kvv76a6awsJAVLkODWk0nTpxgiIvHvPLKK0xJSYnBNu6EhASme/furLcRGxvLKJVK7RnDgriqbAc+duxYttMwRE+Dkpuby3zyySdMREQEc+rUKbauGWLdovdNjRFqIN7VLFomei24VIwyMjJYM9ze3p7ZvHkzU1RUZJBiW1FRwVYkWgi09y4tLTVIsaWuN7U6+vbty3z//fdsPgyxQVBhpZ1G69at2c4vNTXVYMX25MmTzLhx45jXX3+duXHjhkEOI9C2QC1A2mlQ4+r69esGOxySnZ3NDnm6u7uzbYV6UFSzaB6fVHB1NmlGHjauXLmCN954g50cW7lyJcLDw2FhYWFwM66kd8PixYvZibIhQ4awkzF0VYKh5YNUJBBXFdHR0SDuN4jrapArK+gkxp9//onffvuNncCg+aCTMoa2IoE0YLY89u/fjxYtWrBl4uXlZXATlrRdnDt3DsQQAfFiMWPGDAQEBBjccjaaj8uXL7MrEOi/v/zyS7Rv3/6vtk7EGIsWLWInZ4mxov3WP6MTwaWz3nRmctmyZTAzMwMxydG8eXODq0iUa9eusTOSrq6u7IqKZs2aGeQytps3b7KNm3Z+tGG3adMG1tbW2rOGAa26dEXI6tWr2XKZPHkyOnbsyObD0JaxSSQSLF++nC2Xzp07o0ePHmwdM7TVCFR8aFs/cuQIu0pn2LBh8PHxMbjOj+Zjx44dWLp0Kbuc8K233kJkZOR9q1z0UnDpMpDNmzfj0KFD8Pf3x6xZs0DcPu1Zw4E+3IMHD2LDhg1o0qQJ+vfvzy6XMrRlRjQfp0+fxp49e9g1kDQf1JqiHaEhQVw6JCQkYO3atWynMWrUKHTo0IHNk6F5GnSdMO3EqWFCrXPivrLLpQyt06DLIqlI3bp1CxEREejVqxdroRsaNB/UA6eeRsuWLTF16lS2jTxooeud4N64cQO///47WwDt2rVjG4UhrrGl1gd1WY8ePcr2clSkaEUyNBeJDuvs27ePFVxqPdF1kLTzMDRPg67dputraeOm904tdFouhmYN0gabmJjIWlH03ml5UE+DvmhiaNAXl2h50M6Dut1dunRhh3UMCSqFtBOn5UHXPPft2xejR49GcHDwQztxvRFcOhZ1/vx51tXLyclhXW/aKKhrYUjQB1pYWMha6NRlpZYHzYchWh/l5eXYvn07YmJiWMu8d+/erMdhaK4ezQftME6cOAEHBwcMHDiQHdYxNKuWvgRAxwfpOCcdAqGuN82HIb6YQfOxd+9edpyza9eurHFlaMNTtDxoG1+1ahX7MsOYMWMwYsQIuLm5aa/4f/RCcKk1SN/AWLNmDfuGzNixY1nBNbTJGFp5UlNT2V47LS2NdfVo46YNwhAnx7Zu3Yrk5GS0atWKzcvjvvutT+Tm5uLYsWPsJJ+3tzfb+dFOw9CgDZR2GHSIinYakyZNYl/XNcRJJdrW6XgtbRfUIqQuuKF1GrQ86CQfHS6kcwITJ05k3+ajE/r/RIMLLrUGqdtNJ2Oo5TRlyhS2EMRisfYKw4C6rHQYhI7h3H1XmoqUoQktLVrq6lHLlooudVnphIytra32CsOA5oN2FocPH2Zd8KZNm2LQoEEG57Le9ZhoGzlz5gwrsi+99BJrjBiax0SNKVoetOOgViBdrUNdb0Mb1qECSzvx3bt3sx0IFVva3h8nHw0quHRyjLoVdIyQzurRpSC0cRuaSNHAM3T8hjYK6mZQ64MuXzM0aDQmOnxAAwLRyRg6g0/zYWpqqr3CMKCTY/S9ddr5UQuX1inacfyb9aFv0PLIzMxkrUE6/kwnjmmZGOIQQklJCVseVGxpnaLDIdRjMrS2Tj1YOnl8/Phx1gihbZ2uDnlcGkxw6ZgHHYui47Z0No/O6lErxJCgj4Fas2fPnmXdJDpxQa0PQxt3pvmgwzq0UdMyoT01XUdIXW9Dsz7oJB+deKXDOvTf1IqiEzKGNslH751a5nQIgU7K0CE2akUZmlVL52aop0QNK9pGaGAjOoFsaOO1FKpZdIULHX+mmkUtW7pU9UnQueDSP0hv/KuvvmIrEi0AOmbr6empvcIwoPmgrgVdukbHcujM/bRp0wzO9ab5oJNKFy9eZCsTHed899132cXnhmZ90JcZqKdBOw06zjl+/Hg24peh5YN2fnRtLbWkqGVIrVq6fM3QoO52SkoKOzxF2witV3RFhaGFV6QeE+38vv76a1a7qGaNGzcOHh4e2iseH50JLv0KdZHojdM3e+h4znvvvce6eoa2pIUWAF1JQVci3L59m80DnZ00xIpE43NS92jjxo3s2Pkrr7xicFYUhVbgU6dOsTPGdGUInTF+mgbR0NDYyLTzoxY6HcqZM2cOu0LEkKBtnVroVJzoEk9q4X733XcG+TLD3XzQt12pN7tw4UJ24pW+OfY0PI3g0gf6RJA/woZaO3/+PPtucePGjZlLly4xcrlce4XhQHptNkIWDXQyYcIE5tixYwYZD4HGDEhLS2OWLFnCdO3aldm1a5f2jGFB6xapvMyKFSuYyMhIZsOGDWysB0OD5oOILXv/NI7Ap59+ygY2MjRoPogxxcaoGDZsGBshyxDLg0LDKtJ8UL1q3rw5++9njbXxNLEUnkhwaQHQB04rkpmZGRsoJC8vj003NIhFyBCXlRk0aBAruMS61Z4xLGg+aJAQWug0ZqqhxuKllZfGfiVWB9sgzp49a7DBTminQSNK0fIgViHb2A0Nmg8aoInGEu7SpQvbaTyrQDUENB93Y9jSSF809CiNKPc8qHfBpeL6/vvvM1ZWVmy8UWrpGqLYUvbs2cO0a9fur1BrhpgPes80stTo0aOZadOmsVauIeaDVlx679SKoo07JSXFYCN9UUt2xowZbF6OHDlisGEVCwoKmMWLF7PlsXHjRoMtD9ppzJ8/nzE2Nmbmzp3Lhot8Xm3kaQT3scdwY2Nj2fEKOpFBXAt28P9pxz4aEppdGiSELmuhM5PdunUzyHWQdBJj165dbKAQOpk0YcIEdjmeoeWDLr2jy9do9DVfX182SAidrDS08UEKndP45JNP2HWpdPI4JCTEIAM0JSUlsZOudBkeXXFEl7AZ2lp6Cr1/Ol576dIlfPbZZ+zcDK1bz6uNEOGun0kzOvhPZydJT8H+EdqwDfF9bwrpqdnF57XyWtjZ28HM1MwgJ5bUKhUqyyshrZHAwswM1jY2hpkPtRrVtbUo1268SVckGCp0hQg9aPQ4ujLEEHfXpXJAV4jQfNBOj77GbohiS/NBJ8loh/7TTz+xK0OedwjVehNcunCeWlP0pQa6GsHQlubchT4guhZy+YHlKA0uBWP21CviGhxRsgCNbzHoUKaBtzbNEMkhjToqIADTiWVriJtu3gu1at98803W4zBEC51CX/yhb4rSVTrUizVUaD7omnrqddAwA/Xxwk+9Ci5dR0iXuNAgz4YKfUDr1q3De+veQ0GLAmgsNNozhofxTSFaXWIwoECNYG2aIZIiFOJ4s2b4ePlyg3yj715oJDwa85muTzVUwaXLpahFSAXqnXfe0aYaHnTNM9UsuukBDbVYHzyN4BqeD8rBwcFhoHCCy8HBwaEjuCEFgpXYCh28OqCRfSP2sz6yN3Ev0irSoFQr2c8PG1IQWljAkrjnNpGR2hT9o+zCBVQQN49Rq9nP3JCCfsENKTw+3Bjuv/AowfWy8sJ7Hd/D8EbD2c/6yOTdk3Ei/QQkSgn7+WGCa+zqCo9p0+A7f742Rf9I/vJLZPz4IzQKBfuZE1z9ghPcx4cbw31K+Dw+zIzMYGNio7eHSPAY6zn5fAiMjWFElyTp6UHvj4PjvwonuBwcHBw6ghNcDg4ODh3BCS4HBweHjuAEl4ODg0NHcILLwcHBoSM4weXg4ODQEZzgcnBwcOgITnA5ODg4dAQnuBwcHBw6Qm8EVyOvRml+NrLyilBeq4DhBk40dOi2SwpISvOQkZaGrKIqyFQakmqAMCpIq0qRn5WB9Kw8lFRJoTLcEMgcLwANL7jqEtzevwyfzn8J06ZOxbQpUzB97nv4dvM5JJTVBTjRdxhZMTKuH8PWXxfj44VzMW38GIwZOx2z3/wDUXUhA/QfjQTlmeew+cu3MGfiaIwePxnTp8/A1InjMHHW21jy5yUkFtdCpb1cr9Hk4/KmJfhwziRMnDABk6ZOw/SpkzFpykzM+2QldlzOQrUB9uia2kJknP0VC0j9Gj12Asa/vQ3x1XL9LxNGguqCQ1g8gbSL0aRuPXiMexM/7buGdENpK89AAwuuAlnHV2P5sl+xevNuHDhyHMePHsa+7evw6y+/Ye2eK8ipC46l1zCVyYg+shnLf1qOVWs2YMu2HdixYx8OHL+BXMPoM0jHV43yrEvYsWoNNm3bh0MnL+P6jShcOHEIe/5cg+WLv8Ly3VeRWGQArUJdjFvH92DX9h3Yvf8wjp84hVMnjuHwvu3YuOon/Lz8D2y7WmxYXhRTi9KsaOz+9Reso/Vr5y7sPHEHpQo11PputTNKKGpScGn3DuzcQdvGA8fO44hKykeFQfTmz0aDCi4juY1DG7fjyMVEFBk3Qrdxc/DKlL5o7apGDrEYD+0/hNOJtXrvzjLySpSXlqFSZQEnTx/4OIrYPcdUao3BNGqG0YDhCWHq3hoDZ72HL5cswdeLF2PRvH5oYilDwc1j2LHrJOJTCrXf0GN4Apg7N0Jk/4mYtfADLPryC3z63myMaOcDs/IERJ06gv1Hb6LYYBSXgawoFTePbMGGYwkoUyj/ql//HutPH2B3B2f3r1MxdgjrOwIjxo7D+PHj645x/dC+sTtshdrLX2AaVHCVKSdx7FoWimr48IgcgtEvLcDCBVMxtFNjuGqKkZl4AxeiM4kdrN/wrAIQ3mci5r3zDl6bOgzdgy1haLu+8QSWsPPtgolvvok3Xp+PeS/PxIzps/DyvBno08QRNiIiukmJqCoq0X5Dj+G7oNXQaZg1fyEWvr4AC+bPx/wFCzB1aBc0dxVAXlmG/PR0gxFcRlaEzBsnsHP7BaSoPRHoYXg7AddBWgXfHe0mvIxXFryBhQtJ+dBjwWT0b+UHJ8Pbc/OJaUDB1aDs1k2kVdZCCnsEtwpH40BveAY3R5PQRvC11qCmtBCZSSko1/NenG/lj+bdhmLSlFHo16EZfG0NsEEIzGHt2hzd+3dAmIcVRGzN4MHEyQNOlmKIBeQTjyQaQk/Ct4V/eCRahgXAw9YURiCWFfW7+QII+DwIjU1gYWMLc0PICyNHWfo1nN67G8czTBHYZQh6BBiq4GrRyFFbU40aGQNjO3f4BPjA3c4Cxoa5N+0T0YCCq0ZBdh4kciU0PAc4OzCoLU1FSrYCGpEV7G340NTWoLq4EEWGMg76wqFC2Z0LuJlZiSqFMZyDgmDpaEDbmGuKEH/+IHas+x2/rfgF6/dewJ1aFzSKaI9uXVvARe9jhDNQlqfhxumD2HUyA4KQ7hg5vjeCTQ1VmUinp8nDpY1L8ePir/D1ku/w04qN2Hs+AdkV8v/EyqQGtXArK6ug0pDHzDeBuOo2zuxahaXrTiA6QwIhNbEUCiglNaj5L5SE3qGBNP86Dvy2AadTy6Cwb4Yevdoj0N9Je94AUKXi1Npv8OGrr+L1D37CpjNpkDk2R8deAzC4kw/E2sv0FmUlsq6fwOF9p3BHEIJOQ0djSDMrgxuuuguPzhFYKJF19RKuXjqNo7vWYenn7+Ojr1dgx8UUFElf/IbegIJLbFy1mh1Mp5McTGECbkWfw+EzMUjKKoOaz2fP0W0sOANXxzBqyEuTcHbNZ1jy5y0U8twRMeIljOvVHMH2BjTQxjOFvYc/gps0QUiQN1ztzMCXl6MwOw3JmSWQ6/VQlRqS3GicPnwQR2L5COw4EGOHhsPOENWWtG+hsSP8WnVB32FjMXHqdEwZPxx92gTD3UyK9BObsGnncVxMq3nhrdwGFFwejI3F7PY20CgA/64YMHo23pkzFJ2buUOoIjIrEEAgEkH0Hxjb0Rs0KsjLM3D9z4/x5pKjSFHaoPGgBXhrdn9EBtgaVlkIA9Bt2rv4asVK/LLkfczu3wR2pZex+49l+G7FUT1f91mL1MunceZEFAptfOAf4g/rgjuIT0pFHl1ETIwROpmWnpCMXOKOK/RZqXhmsHDphTc278LmVT9iyWeL8MV3q/DH8rcxKtIHdoIyxF27gdj4LMi0X3lRaUDBFcDW3gYioYBUHjps4ImWfSZi0rBWaGRPqhtxL3hiYxhbWsO6Qe3w/xDUsq3MQty+LzH77W1IkFsgoP87+Py9UegYYA+DGzokDd3BKwCNW0Si04ApmDtjAsZ09gRTlovMmAu4kKfHvpOmFuVl5Sgpq0DRrX1Y8XJ3NA1tira9xuDzMxIwxEhRxf+KSZ0H4P19GcjT63E3YjgJbeDibEIMLG0SMbjMg3qjY3NPuNuAdPIlKK+oMMgXUp6EBhVcN19vWBmLINCQBpBeirIyJTF281BYlI+8YgZCCyvYuLrBVd8nN9ihDzU7RKKma2/pMAmdIGDIv9m0unS99mDJ3amqc5F89Ce8Mv8P3Ko1hnufj/Hjl+PQxtMSIiLGbB7YvOk5xEpXKpV166Dv3i/5KTYxhrm5OYxAzilrUK3XrZsHvsAIImNidNx7iMUwutse+EKIyWeRgEeu1ufekFjj6gfXDZM2o6xElYRY50qSW6ERhEIhDGkpLm0LT9oeGtR2NGvVDk3tzWHBq0LM8cO4GhuH+IvncOlCNO7UEAvYyQ3BoSEw016vr2iqcpF+6xJOHj+Bc1E3kVosJ6kqKGryEX/mOI6fOIETl5NQIlXp7Xg0I8lF6umVmD9/Oa5UiWASMByzhnugJu4yzp8geTh+HCfO3UBeYaX2G/qLMnYrlv78O7Ycu46kgmpIlXRMOh5njh3F3tMJkPGMYWJqDycHPe7J+TYIG/AyPlt3EIcPH9Yeh7Bj3c94NdIUPD4RKP+J+G7Lb3i9uzuczPRXcNWSMuSe24o1R24hT6IinSA14LMRtfF7bDx2ByllPFh7eMPd1RVWBuTN5ufno6ioSPvp8WjQ7PEd+2L0gMbwcBRBcnMDPp3UC11GvINfjqai1twfjVp2Qf8O9g17k4+BPPkktn7zGsaOHoNpby7G6gvFUGtqUJ51EIvHjcboUaMx9rW1uFoi0duJGk11GUpjr+BSoYJYsnJIU7Zi0ayJGD/m73fex8z4AicvJGq/ob9oyu/g5LovMX9MT7QLC4Svtwd8QjtjzIfrcDJDBpGzDwLb90QnB32uWUawJPcZ3LIN2rZtqz0iEdGiCbysSEfB44NnSpe4NYefgwm7TlpfUUsrkHd+Jd4a2w3N/bzgG+AH74AI9Jv/O44nlUBuGYpuPTqgXXNXg7Fwb9++jU8++QTbtm3TpjweDVvj+NaInPkR5o/timbOQsgqSlBcVg0lEdv2w6dizsyhaGFpAF2eWgGZpBoVFRWorJYQi4q6qsRlIsIlqaxARWUlSZdC+YTuh06hr/YSN5y9deoCqmSoofdN8kTzxR6VEuL+6f+aEYG1B7xdLCBSS1BZWoTC/AIUFJaiQiqAdWA3jJq1EO/O7AAnPW/dPL6AuNlGMDK65yBut+Buk6Cz//QzT78HFHgCIcRWdrDm1aCsOB/Z6RnIyS9CeTUDy4BumPTuh3h1TFeE2hmG3B49ehRffPEF7Ozs0L17d23q48FjHmMQorS0FHv27MHFixfx22+/aVOfExoZKvJzkJmaiKTMAlSqzGDv7g3/QD94OtvBUvz8BJcuMVu3bh3eW/ceCloUQGNRN4bnY+2Dz7p+hrGhY9nPT4qmpgh5efnIK5cRqXoYpEGYOCEgyB1WxBR5mhyN2DoCh1IOQaKUsJ+NbwrR6hKDAQVqBLMpJM3dHd6zZ8P/3Xe1KY8Po6xFTVEmEnKqHrk0h2dkDR8vVzjYWWhTnpzEDz9E6tdfQ6OoWyKQQgTjeLNm+Hj5coSHh7NpzwojLUZ2diEK83KQX1iMEtpR8Ixh5eAGdy8veLo6w8nBEsbPuS8PCwvDsmXL0KZNGwgE9WFyMlDLa1GSEY+MSqbOwg12hbmQWLvaK56V4uJi/PTTTzA1NcU777yjTX02GGKQSEsykZyZh/ycXBSUVkKqEcHSyRvenu7w8CB1ysYcJsLn122UlJSwmnXlyhWsXLlSm/ps0LmY9evXs8M7rVu3Rt++fbF27VpIpVJ8//332qv+mYY3H/nGsHbzR2ibbug7aBiGD+2Pnh3D0djL4bmKbX3CN3eEe2BTtCKFQAvi/49WaBXmBZunFFtdwDMyhYVbI0Q89P7rjlYtgp5JbHUFz8QBnoFN0LJ9F/TsPwjDRozCqBFDMaBXJ7RpGggvp+cvtrqBB4HYDE5B4WjdKgKtmrjD4jmKbX3BE4hg6hSAphHt0bX3AAyl5TFyGAb26ojIZoHwdLB4rmJbH9TU1GDJkiU4ceIEevfujREjRsDHxwci0ZO9Zq031Y5vZAwzugTMyhymYqHeChOH4cAXimFsZgkrGxvYWFvC3EQEok8cDQVPAJGpBSytbWFrYw0LEyM2toU+QwcA8vLy2PHatLQ0DBkyBP3794ebmxs7nPOkcNWPg4OD4yGoVCp2cuzTTz+FXC5nrdoePXrA3t4ePN7TdRSc4HJwcHA8QG1tLc6cOYOlS5fCxMSEjdvbsWNHWFg825AaJ7gcHBwcWugQQllZGQ4ePIgtW7awKxHmzp2Lli1bsi+ZPCuc4HJwcHAQ6Cqm3NxcdnXDoUOH4OvrywZIpz+f16oTTnA5ODj+89BXwVNSUrBz5052KIGuypk/fz5r4T7teO3D4ASXg4PjPw1dRxsbG4utW7fi+vXrGDx4MKZPn87GrnjecILLwcHxn4Wur7127Ro2bNiArKwszJo1ixVcPr9+pJETXA4Ojv8k1dXV7PABfXuWCuxbb72FyMhI7dn6gRNcDg6O/xR0JYJEIsH27dvZ135DQkLw9ttvw8/PT3tF/cEJrhZaCBoav1ZPD+YRURoehF7FaMj1enqQB113oxwcDQQV28WLF7ORvmgUvFdeeYWdHNMFDR+8Roc8KniNnYkdBgYNRCu3VuxnfWTltZW4U3wHcjWNtfvw4DVGNjaw7dgRjr17a1P0j8J9+1B89CgYlYr9XB/BaxqK+g9eU//UR/CahuBRwWsKCgpYa5a+OTZz5kw27OWTxkO4C9WTRYsWobKy8rGD13CCS6D7qpkITWAk0N8NEmmUMJVa9Zel+zDB5fH54IvF7KGvqGUyaMhxF05w9YsXWXBv3brF5ik4OBgTJkxAo0aNnullhqcRXG5IgUBddipoFbIKvT2UauW/DitQl10tlUJZQa7X0+NeseXg0AU0rCJ9kYGuq+3cuTNr2TZu3Pi5vDn2pHCCy8HB8cJCx2tXrVqFb7/9FmPHjmXHbOmbY087jPCsPPaQwu7du9nAux999JE21fCgLsDevXvx076fUNKoBIzZv2ZdbxElChB6A+hcqoaPNs0QySKu9+WgIMz58EN2ttiQGTp0KN5//300a9as3tZx1jfl5eXsmlQasIUu/jdU6A4ldGeGffv2sasPRo4cia5du8LW1va5lU29juHSGT06FtKhQwdtquFBsxofH48bKTcg8hRBoM8bQf0L0vxaiPIkcFKpYWXAQV6r1UCxiTXadOoMJycnbaphsnHjRnTp0gUuLi7P9XVQXULfurpx4wa7nY8hj6nTfKSmprLa9eWXX6JTp05sJ/I8y6VeBZe+Y0zXrc2YMUObanjQB0QXOienJGPAwAGwtbPVnjE8zp49iyMxh1FgkgeBnWE2bpYKHlyLPDB97AydrIOsT15//XXWKgwMDDTYSTMqHnS8k7rc1GI3VKqqqhAdHY3CwkL2ld36KI96FdwXaZXC1atX2dlKd3d37RnDY826Nfj2wLeItYgFPLSJBogwX4hmac2w/AtulYI+8KIvC3uePI3gcpNmHBwcHDqCE9wXCLpZtoDuGyUQ6e1B74+D478KN6RgoDxsSMHUyBQBtgEIcdDf2f5bhbdwp+QOu/aZwg0p6BfckMLjw43h/gsvuuC6W7pjdvhsvNvh3boEPeTDUx/i6wtfQ6FWsJ85wdUvOMF9fLgxXA4ODg49hhNcDg4ODh3BCS4HBweHjuAEl4ODg0NHcILLwcHBoSM4weXg4ODQEZzgcnBwcOgITnA5ODg4dAQnuBwcHBw6ghNcDg4ODh2h34LLqKGS16CiuAhFZTWQ171+z9FAaJRSVJcXo6ioFOU1Mij/9aVw/YRRKyGrLkdJQQEKiisgURloRjgMDt3EUlDLICnLQWJcEjLzCpBfVAGZmgEj9EHH0T0Q4mgB0/tiaDOQl2ch+cYlXLgaj/TCaiiNrODo3QgtOnZHp2AbiPhPHnT72WMpMJAWJuJOYjqycvJQWFqNWoUaPPtGaNU6ApHBDvj7DXoN6SwqkRd/GwmZecjPL0J5rRJqRgj3yMHoGOYBF4un7++eKZYCo0BVQSbSU1KQlp2PotJK1CgYiK1d0KjzCHTzE2ovpChRGHse0beSkJJdiGJyba2KD5GFHVxIeYQ2b44WTTxhfe9X/oHnG0tBDWVtOXITY5GQkY+CgkKUS9XQkGfs0W4EuoS6wMHsbj0hZVeUgviYK7hyJxtFJeWoliigEpjCyskd3kHN0aFjOLytjPC0G2g8SywFRlaE1PhEpGXmIK+wFJUSOVQ8O/i2IPWqfQhc/unXqQpx4/ARRKcVo1JlCZ/WHdCqeRDc729Uj8Uzx1JQVqM4Nx3JiWnILihCcXk1MZREMLEKRreJPRBoRKPa3UWFrMv7cOFmOvJqHpQhHqmPbgjqMBg9Ap98s0d9jaVAt535V8jNM6tXr2amTZumTXkyNJJcJuX4D8xLvdsyzQPdGTszY8ZYLGbE1gOZb65nMUVq7YVa1NVZzI093zKv9GnCuJkLGR4PDE8gZsycQ5mus35mjqfXMjKVRnv146NWq5k//viDmTNnDpOdna1NfRJUTMaej5lZwzoxLYLcGAcrMzYf5i0nMx9tucXItVexaGRMVf4l5o+5/ZhO4Y0YbwcLxtSE5FlsxXT76DgTla3SXvh0/LH2D6bJyCYMphEl+bjucP/Onfn87OfaK/4BdRETs/t75s3h7Uk+PBgnK1NyXyaMU6POzKv7a7UXadFUMKe+Hsv0DXNirOj9G5swxsYiRiQyY2y9w5k+sxYzGy/lMNLHLI4PTn7AiD4V/XXPwplCJrxHOEM6Qe0VT4CmlinNOM2smNWH6dAiiPG0M2NMjOkztmZ6fnmJuZV/7zNWMQWXNzFfjQ1jnCxEDOmvaQtnwOMzfGM7xjN8MDNvxXkmpVLGKLXfeFJCQ0OZc+fOMSrVk5etKnM/8+3LI5geLYMZTwcrxpzmw7w5M/jt9cyV+yrWg6iY0uu/Ma91D2TcLI0ZsWkgM+jjrcy5BxvVY1JUVMS8//77zBdffKFNeTLUpbeYE6vfYcZ0bsk09nZirE1pnXFgXEPmMNsk5Lz2ujqkzKkvhjCdfWn9o+V270HqY0g3Zu6Ocu21TwbpOBhiHDIzZszQpjx/qJ589NFHzGuvvaZN+Xd0MqTAKKpQkX0Ll66mokhhAhtzHhQKOTmoxfdgz6ZCefIFHNm2AZtPpKDKzBctuvZE99ZeMCm9gzNrvsUPe+6gRKoiNqSuUaM84TKibmegWCWGSMgDj1hqbD40D+ZDCXlNHm6dv4S4fBnEVuYQqFRQKsj1ak0D3Ps9aGqQn3IHt2+R8pDxIDIVgWSCzYfqwRtjlKgoLofG2g8tuw3AiHHjMWH0YHRr7gZxcQxObF+PPzadRor0Xx2l5w+x1KWVObh9MQoJhQqY2lqAr1SydUv5kGesIV6VwMQOXmEd0LP/YAwbPhSDerZBiLUE2dF7sOLb33E2oxISlfYLOkRTnojrV2ORUqSAQEStbDXJh4LkQ832DI9CU5mAY2vW4uCNLORXyyCXK+vy3gDFQWFqC5GddBsx8QWo0YhhbkyrFqlbyoe3V0ZN2oRSAb6FMzyDm7Nezt2jeZNgeNkYZtS1R6ETweUJzWHtFY7eoydh+sxZmNjO8dFDAuoyJN2IxuXLd1AudkFg50n44Iel+OGj6ejmKYRGnoOTm/cjqVIG4gXrGD4s/Nqh97AJeOnlKejX0htOxo9y24QQmbsitMdITJg2F69N6QgfCzFJ1QN4JnAMCEeXYZMwY+ooDOscBOtH1QSeGJ5thmHS65/ju2WrsHLFCqxY/gMWvTwcnf3MoSrLQ9btKFwrboAWzjOCsZUHmvYahYnTZ2H+5PZwNxHeM6xzLzyYuYeh46jX8OFXP2DZqj+wdt1arP5hERb09oGYx0CWdhlX0yXs8Iqu4Vn6IqLnEIydMRdT+0egkbPJPa73wyD3yEiQeeo3rN6XCAnfBMZiIzzFSNtzhWdsD8/Qzhg8YTqmThiBPqE2jyEyfNg16YkRcz5iN3ysO77AhwtnYkioifaaFwPdCK65O/y6zMbipV/hvblj0dXPjPTgj6gZskxkZaYjNUcJsZMvgtv1Qu8mfsQq6YvhHRzBZzSQxl1CdLEMtWrtd3SGEH7D3sfnX3yK918Zhg5BjrB8lILyjGHpHIkpS5bju4/nY3qvYDgQMWjoBsEicEbLgS/hjS++xPuzhqF7qDOIIfJweBZoMXQaRg/sjKYe1jAREKve2BGe3r4I8LQioqCGSiWDVNoANjvPFHZeHTF98S/45v1XMLW7P2yN+I+o1HxYejZBqx4D0a9dCLwdLCAWimBi64EWoZ5EcHngs5Yl3TdD9wh9BmPeos/x2QfzMKZTI7hbGWnPPAJGBVn+efzx01bckrqifdcW8HSyekRnozv49s3QZdzr+HLJh3h1bC+Euz2yZt2HkZkdnNy84evrC/+gEISFt0br8FD42+uFifLc0IngPgma8hKUlZSiVAmYW1rD2dkBispK1CqE8PX3IhWKASPPREYOdYEbyG/6j8OoqlFYkI/sgkrwRJawcvCCj5PhuH5KaSUK04jbe+0SzhzdieXbYyAXW8EprAc6NrKE5SO9Fj2BGB0qSRFiVn+BNdeksOr0EiZ3CYSPjeGKU01WNE5sXYZvvl6C73/dhD1nbyOjpKYBvNj6Rf8Et7YGtZJa1DI8GIkAeVkyjq1ZjpW7bkJubl5nIWoqUFaugkrnFi4HNErUpJ7BqeNHcTxWCjOfRmjWoxfa2ei5SP2FGsVxJ7FqTmdEtumMvhPfxaoYDVzDh+PNxfPRk1jx5nrXKu6HUVahInY9Fv18CRXWXTDjlYFo4m6DJ5/L1xPI8y5POIsjf67Asl+X4ttPXsPsydMw58u9uE3a+YukufpXtYiKqlVETIljx2eKkBO/G9+/+y1++f4PnJCJSKViwGPkUMg1+PcFbRzPFwaqkmjs/mM1ft92CYVmjdC6x2jMGdsC5torDAI6fMAXQCAUssu3+HwhRMSDV0oVUGmIB6W9TC9hFJCUJWDbZ9/jeLklWr3yLkaGOMKeGCeGCI9vBHMnfzRp0wN9+vVBl4hgeFjxISu8hXNbv8VHq66jVnvti4D+Ca6wriEISbXX8BzgHtQfL384B1PnTEBXEwUURIgZGEMk4uvHeOh/CKYiBtt//AZL1x3DHSYAHUbNwltvjEELS0MqCD7sAtth7BfbsX/PFvyxZB6G+cuQcmYNPpw0FyuuFaBUrr+Sq64qRNbBH7H4ZA3M2y7EhxOC4fRv4716iwhhk37A2v1ncObwdmzeuAW7DuzGhu/no7+3EWRFuYg/uAfnJNrLXwD0TnD5pmYwMTWBCY+BUsmDsWMIBsx9AwvGhsNUIoGatgW+JWysqXVS9x2O+oepicOuHxZj2cbjuC33ReexL2Pha2PQzkVsYB0fDyILOpPeDp269cOwKfPw1Q8z0VKohqroLPYdSUFJhUJPrVziYchrUZKagnyZFFVXvsKIFkHw8/SA/9ifcSSuGCpVNk7++DKmTXkLPx9K135PX+HD2sUNDvZ2sDAxhrGxMUysvBHWoh36dfIHXyVFbWkmUgsadBHlc0X/BNfaHrakAGxJp11TVYmC/CIIzM0hJg0iNTkTatJgeGIveHuJiZXLmbg6QZqMQz9/iV82HUNMjSc6jX8Fr80dhY4+lhAbYKfH4/EhMBJBLDaGqYU17P394GZMh7BkKCoshUypx+OGDMMOuWnIT428EkV5ucjNyUFucTWkSrpmVwVZVRlKSstRJW2ABcVPCJ9PPdV7VobwBGz50Nf66wqBlItAfz2OJ0UngssoalCVcwdXr0ThanQMEgtldS88aKqRG3cD16OuIComGbllEiiNveDp6QM/VyHkBelIunwKZ9LyUZR0DLvOFUJDCkPcOBIt7cUw1XljV6Ms7SZioqNwJSoOaYWkktN6IStHXmocoq9cQfStRKQXy0iiCoraPCRcvUKujUJUfD6qSYPQMBpICpJw5wb9HTGIzyxCpa6nYslzL85KxC32ud9BUl4lqE2nltegJOUarpByuhJ1G5lVdGIyF2d+/Qo/bziKqFwhfCI7ok0zN4hLk3H7GrnuSjRuxKUiX9IAjYKhMRGI20mf8dWriEooQI1aQ3LCoCYvHrExdc84IbsUVbJCJF09ht2b9+Ps7SyUVMuh1ihQW5yC8yQtRkqlSgBrW2uIhKTRa/+ErlCXpZM6cQ1R5NnfTitAORVL0gFUkTbA5i/6JuLSiqE0d0bQkHfx8y+/4Jd7jp9e64OmHlYQ8O0Q2ncKZs8eh97NHLW/XXdoJCXIT7nFtvXrtxOQWU5f4Sbeg6wE6ddIfSNtJOpmBspkSqhqknH17CVci88ln0knR8qzJv8Wzp84iD0XsqERmcLUyQ9B9vo38klJSUlBRkYGfVtXm/Lv6GQdibo8Cwl7v8Pr62KhUCtRm5dPfpJmoYnDniUf44KpCCLHTpjy2mQM7RyAwOYtERkZjLNbkxB/fAXezTsCG2kmbmapwBO5osuYgQiyMobuDVwprm34BD+fIR1AjRSlWRnIow019yqOrM1B7H5TmHtHose41/B2X0tUZh3FLwt+xVUlaTu1uUiskEFFCifl8C/47polzIzt0WLEDEwcOwCRTjrMjCIVl3etwfqtl5HFBgfKR5mGCG5JGs6ufB2ZfxLBEXpjxPe/YnqjeJw9fBG3U0shUYqQc/MYtuZH46CR9n55JnBq1Akj3ngf4xvpeFmSpoJ0EAfw84LfcV1BhFaah4xa0kmQ+p+0/3t8fdkcpmIHtJ7wCiYO8ULlrePY/OsRpIltYWNpBhMxnwhEKfKS45BDygg24ejW3oucE+lccGUxm/HdLydxJ4904qXZyM6vJX12PmJPbMC3iYdhbuaBRp3H4t13BsK7aS+MDLzfClecTcXhE9fJ98VwCWmDDh3C0djdTHtWdyizr+LYhrVYeTwDcmklyvJKodGoUFN0Ab8vnIdd5MEKPIbjk2+noY04AafWr8WppArA2gpmRgyUVUXIyUhDapYSFi7+aD2oL5o9RUyI+obGaPjzzz9x4cIF9O/fX5v67+jGwiWNujI7rq53i76O2Dxp3VisphyZt2NwjaYTCzeHWLgKRgjbwPboNWIcRnX2gnFlGq6fPoGTV9NRZe6HthPewPwhjepeIqj79TpEhZLUG4hhrdabSCmggVxIx1FbjFzSq1PrhLVwi6R1Fq6EWF/EiqSFE3U7h1iyxMIl/1XlUOuLpl8nFm4xKhrAwi3KTMBNem/X4pCYVQY56QhUsmoUJFCrlRxXb7EWrlpVhfJyKRRKImgaGcpzkhF3nV5Tl68rV64iJi4FeTUNMM5GLFRZVTbu0HxEEQv3di6qVdTC1ZDOLg63r9N0auGWoEpZtxJBVZWD+CuncfzwAezbux8Hj1/EDaK2loGdMWHhmxgd7gJb4waoWaVpiLsRzT77Gyn5KJVQi68W5XmpiKX5oxZuahFqiRUuNLGEja0tbO85rM2JASIgwkRccqGxOczMSYci0n0+qIWbl3yTrRvRtxKQViKnvhOpW8TDuNsWbqajTKqEmscj5ZGNxGtncezAXuzZvRcHTlzEzWwpzIO7Yuj0uZg7pAls9MjAVavVOHjwINavX88G+GncuLH2zOOhk2hhmupC5Nw+i33R+eTRPxy+hR8iOkSgiZ8jzHgayMpotLDLuBgdj7T8SihF1nDyDUGLdp3RobE9xE/xRtCzRwuTI+nYFlxIrUL1Q0WSB7GtFwJadEDXYGPUlMTi2LZLyH5UpnlmcG8aiZbNG8PL4sly80zRwlR5uHPpKq7dzET5w3SSxyf/26DpwGFo7ZiLqN3nkFBUhYeGS+AZwYK4fWGduqOl07+3jOcaLUwjQUX+bZzcHYWcR1Ysc3i2aIfwMFcYFSTg1tUYJGYXoKC0EhLS6DVCU1g5usM7IAThbVsj2NGkTriegmeJFqZIPoHdF1JQWEUF6v/hiWzg6Ncc3bo1wcM8bHX2JRw+fwcZpQJ4hJP8NvWHq8mT5+NZo4WpihJw41o0LieXPTR2AoVvHYZeA1rDy7gYcReicJN02FlFZaiQyKGh0dtIefgGhyKsWVOEelk9lRteH9HCJBIJdu7cyVq19I24nj17Ytu2baitrX3saGG6Cc/4tGiUUNRWo6y8BkqhGWzsbWF+15V9Cp5dcPWHZxLcBuT5hmd8Coh7q5RJUFVVg1q5ijRwMcxt7GBrZvTMwwjPIrj6wjOHZ3xi6NyBBDVV1aiWKkh5mMDc0gpWFuJnek35eQsu/X1btmzBrVu30LRpU/Tt2xceHh747LPPnig8ox4Z6w+BbwSRuS2cPTzh4WL3TGLLwcHCF8LI1Ap2zm7w8PKCl7sz7J6D2HI8LTwIxOawcnCBu6cXPN0cYfuMYvs8ofZoeno6Vq9ejevXr6Njx44YOXIkfHx82BUWT4p+Cy4HBwdHA6FSqViL9vfff0dsbCwrtIMHD4aDg4P2iieHE1wODg6OB6DjslFRUazYpqWlYf78+ejatSvMzZ/tJXZOcDk4ODi00CGEiooKnD9/nh37lclkWLJkCZo1awaR6NkDVnCCy8HBwUGgS77opOGxY8fw66+/wsvLCz/88ANcXV2farz2YXCCy8HB8Z+Hjtfm5+dj+/bt7ARZv3798PHHH8PE5PnuOMEJLgcHx38aatnSlQjUqt23bx8WLlyIadOmgcd7/mtXOMHl4OD4T0OXe33++edITU3FN998g27dumnPPH84weXg4PhPQl+Eoi9HLF68GM7OzuzmlcHBwfVi2d6FE1wODo7/HFKplB1C2LhxI/syw7x589g3x+r7DUFOcDk4OP5TFBUVsdYsXWc7dOhQjB49Gk5OTjp5HVu/Yyk8Z170WApWxlZo694W3XzqbwzqWTmSegSn0k9BxdQFx9Z5LIV6hIuloD88KpZCUlISfvzxR3aZF42HEBkZCRsbG+3ZJ4PqyaJFi54olgInuAbKwwRXyBfCQmQBa2PrugQ9pFxWjkpZJe5u1cgJrn7xIgsujfJFl3zR8do+ffqwLzNYWFiw556GpxFcbkjhBUKlUbGCll6RrrdHhaziL7Hl4NAFdI0tDau4YsUKNqziqFGjEBER8Uxi+7RwgsvBwfFCQp33mpoarF27Fjt27GDDKo4bNw4hISHshpUNwWMPKezatYuNdG7IbgZ1AQ4cOID4+HhMnjwZjo663/PpebH/4H5sPL8RqWapgOFmA4JSAQJzAvH23LfRqFEjbaphMnbsWLz55psIDQ012CGF8vJydusYKki0jRgqNB7CyZMncfz4cQQFBaF9+/ZstC9ra+vn9ppuvY7h0lfe1qxZww40Gyo0qzExMcjLy2OXglhaWmrPGB40HzdiL0KmKYbYVJtogCilfKhkVghr2wK2jrbaVMPkyOYjGDZ4GLu86Hk1al1DdzW4fPkyjIyM2DZiqNB8xMXFsW+QffDBB+xqBJqn50m9Ci41yWnPN3HiRG2q4UGzSgfOaSHQjd+ednZSH7h4/jySjxyBE+k8XOpxoXZ9U0Du/bglD2VhavBsDDsMOHOCwZtz30SAf4DBCm51dTUbvIVGxnqSzRH1DTqUQI0SarFT7aoP6lVwuVUK+sV64m1c+PZb+MfGIlibZogkCwX42VWE9F5SwE2baKAIfhXg1NZTaNu2LbdKoYGpjz3NHuRpBJebNOPg4ODQEZzgvkgQ95xnZAQBsU709aD39zgY8Y1gIjSBqZGpXh5igVh7pxwcjw83pGCgPGxIQWBiAhMfH5gFBmpT9I+a+HhIkpNpYbCfHzWk0Mi+EXysfSASPnuU/ecNrUdFtUW4nHNZm1IHN6SgP+jrkAInuAbKwwTXmOTHe/Zs+L+rv9ukJ374IVK//hoaRd026Y8S3E86f8Ju+e5g9vQb9tUXUqUUx9OOY+CWgdqUOjjB1R+4MVwODg6O/zic4HJwcHDoCE5wOTg4OHQEJ7gcHBwcOoITXA4ODg4dwQkuBwcHh47gBJeDg4NDR3CCy8HBwaEjOMHl4ODg0BGc4HJwcHDoCN0KLsNArZBCUlWJymopFJp/291KA41KjtrqalRL5FD960vIukIDFc1HdRW5L5IPlcYwd+liNGx51NaQfNRIIf+XB8yolZDV1qC6uga1ciXUepNpUo/ovUmqUFlZjVqFGqRqPRJGo4ZSVosaUg+rqmsh/6eLdQyjVpB8kPpeLSHPWKVHz/jJ+PsZk7zU6lPbbVgEHxO0/34kUqkUiYmJyM7OxsCB978//u8wUEqrUJKVhISERNy5FYPr12JwKzETBaWVqJYBIlMTiIwE4P8Vf5qBSlqJ4qwE3LoejejoG7idkoOSGgU0YgtYmxrdc+3jQ8NG3Lx5k93xoUOHDk++44O6EnkpyUhOSkDc7Ru4fv0W4pIzkVdUjholeZgiY5iKhai7NYZ0FjJUFuQgKysLGWmpSEvPQEZmNioYC5iZGEMsfPqA27du3ED2pUuwLSqCvTZNSPJjHREBW5K3f0IjLUNBdhqSEu7gDslHTMwt3E5MR25xFSRyNYSm5P5Ed/tiNaoL0pFO8p0Qdws3Y2Jw83YiUnOKUFYjh5ongqmZMR43K6WnTqH8wgUiLGr2cxmfjygLASr8VcA9xdHFuwsiXCPIfZhpU/4fhjzf2pJMJCYkIOnObdy4Fo3rt5KQkV+KCtKha0SmMBEbQchWFlIPa0pRkEHKLi4OsTdj2HzHJmUgr7QKNVINxBYWMBbyadC1f4Ru1plWnobNsZu1KXXwo/mYPGLyU+z4QJ5xfipS6TOOvYUbdDePuCSk5xajnNR5NV8EE9N/eMaaGuQl3EZ8UgpSMwtRzYggNjOD8VOEc6itrWXjD9DdEWgbeTI0kFUWIS+dtPX4O3XP+MZt3EnLRVEF6aRVAphamkFEyqMuKxpUZN1hdSEpLROZmfceWcgtqoBMZA87sye3C2k+qGbl5uZiwIAB2tTnC9WTM2fOQC6Xo3fv3trUf4EGr/k3SkpKmNWrVzPTpk3TpjwJCqYo4SSzalZ7pombJWPE5zNCIyNGSH4KzNyYsH7zmZ8OxTLZVQpGrf2GRl7BZF7azCye0p7xtzZiSANgeEITxtK7PTPm68NMQpmCUWq0Fz8BarWa+eOPP5g5c+YwpPPQpj4u5A9WnmC+GdeVae5qwZgYCRmhUMgIBELG2MabaT5wPvPNrutMdo1Ke7mckRTfZHZ/Np0Z2bM108TdhrE0N2VMTG2YHp+cYKJytNc9JetIPmY2acIsIUW4T3scc3dnkj//XHvFo6mN28388lpfJszDhjE1EjACkg+h0IgRW7ozTXrPYRbvj2fII6Y5JlQxl5bNYkZGejH2ZmI2z0KhgBGKrRjnkF7MpEWbmXMZVYySvfbfSfjgA+aASPTXPX9HfpePpwmDGUQRP/77+OT0J0xRTZH2Ww9HWZrCxPwxl+kS6s5YGfEZvlDEGAnJT4EZ4xzah5n53T4mKrOCkbEVS80URW9nvp/aivG0NWEEpE7R6g8eyb+ZK9Oo1yvMz8dTmaJa1V/18FHUKmqZvQl777tfegicBczZs2cZlepJy7aSOffDFGZQS3fG1lRU94wF9BlbM25N+zEzvtrOXMyqfsQz1jDS7EPMF0ObMf52pH6ZBzNDPtnKnC/6t1w8nKKiIub9999nvvjiC23Kk1DLJB9fyXw4rCnja2/GGNE80LYuFDMmDo2YDhO/ZLbdLGaqlWpt3ZIyp78cxnTxN2dMTEweOMwY19DuzCs7y9krn5Ti4mLmt99+Y2bMmKFNef5QPfnoo4+Y1157TZvy79T/kAKjQm1FEdLi7iBXaQFX32CEhbdEaIArrJlCxB36ER9/uhbHbuWiho3Yp4E06wIObVyOHzdeQqbMBLZOrnC2MYI86zK2fjIfXx/LRYVMzbYY3UEsVmk6bl5PRanaAg5ejRDWLBSN/VxgocrH7f2rsPSnVdhyuVh7vYLkOxmnNm3EnvNxyKqUQVorhUwqg0z5zy5v/UIsveJ0pKVmIU9uAgefYISENUWovzOsmCLcObYWny1YhG2ZCihpeWhkyCGWbWqRFEJbdwQ2aYqwkEB4WANVicfw56/fYfGqs8gnFr5uoeVRibLU27iZo4Cpiw8Cw1qiZWgAPGyB8jtHsOrTz/Hb4RikVdOMMFDUVKC8tAJSgRWc3Dzg5eUJDxdbWGgKEX9kKd5+YznO51aCGLu6hTzj7NsxSC1RQmzviaBQ+oz94W6lQVncIWxY9gN+WHcRhcQJeBDS6yB63c/48xKxiEtriTcqh1ylaZihCEaJ8tx0pBKLtsrIDp6BIWwbCXK3glFlIs5v+hQvv7MVd8rlUGrvT6NSQCGXkbrGh9DYDObm5n8dZqamxAusu+5FQQdjuHyIrdwQ0nsWPl61Hxdu3sI14lJevbAN73T3hL0xD+VXj+J8fDayJaQUmBokXr2Es6evIp/nAP/OM/DVzgPYt3wm2tkwUMuSsX3lbmRUSXU/LiR0RGi/mfho9QGcvRqFK1HRuHjgJ7wxvCVcRRJkJ97G7YvXtRfzwBeawtanBToNmoi507rC15K4hdqzDQnf0gtN+7yEj1bsxolL1xATfQEn9/6Or0c3gpmGNNrck9i0LxdKVnGFsGvcHWPfXoatJy7hytWrpOwOYc0nk9HVSwx5QQaSLp7E2SJdqxR5wiJL2DXqiUkfrMDuCzcRe+0iLl29iJ3v9Uaosyn4Fddw7sIdJGfW0Kth4twYbUcuxNe/7cRRUk634m4i6sBKUg9dSC4ZSGIP42RCFSplOq9YsA/pTfKxEjtOX0FUFH3GB7HqnVHo4C6CLDcFCZfP4mLxg89YDcmt1fh+3VVkltMxLeKqP+bQTv0ggLlrKDpNeB8//Xkcl67HIPrCKRzb/h2mhZkBKjmKTmzG4Yxa1NzXefDhGD4UU9/7GatWrdIeK/Hj529iQstHDykZIvUvuDwxnIPbY9w7n+HVgc3gZiogaXwI7CIwpGcIbC3EpJurQFm5FFJa0RXpSE9LRmKaHEYuQWjSdQjGtQlDYJvxmNTNFnyNBjXRp3GJ9JISnbZxPvh2A/DG4rcxtV8zeFnTMTU+zH0j0bJpYwQ78MFIJdBUVdRdzjODrXcffLDvHA5v+AmLxoXD3cyItokGhgfz5kMwYfYreHlwBPxsxeCTMrJy9UN47w7wJ8Wj0ShRnF9IrHBSHnwbdJnzMRbMGIYOAQ4wF5KOxMwDTZo2R+swF/AZYlHJylFSVjcmqzt4MHLwR9Ox7+Lb+YPRyt2MNHeCwBZNB/ZAEwdrmBFvqaq8AjLiWdDysw1qg15jZ2DKwDYI8bCHpZk1nALaYtLwSFjSaskQIZCoodZ138G3RY/5X2DhtIFo42MLU/qMzb3RrEVztGzsRJ4x9Y4qUFp+742Rf6uSsf7T5biQK0DTTuHwcLJp2A6d1PlG3cdgxvx5GNMhAA7GfPCMLGDrEYHB3QPYTo1RF6OwWAHVA9aSqWMgmrXrjYGDBmEQewxEn27tEOb6fHfabWh0YOFq+b+uV4asrALIlaRnNnKEs5MZLMx40JQXoqSoGMVywMLaFh7e3hCRxmVsbIFGjfzqCq02DamZpKErdG2JEB7Mh7IEZWXEVa1mSCOxhNDOUXuiDh65nh4kC3qNRiqFJDcXRVRjBSbw8KUTP3dv+sGbV6GiohzFJRVgBKYwtXCCu9NTzNA8F+5OwPyNPDsbRTJSP3hGsHNyhLmlufZMHYxGBYW0CuUlOUiKOY4Vmy+hSs2DwLUd2oVYwNKkIQrrwb9J3POyMpSWVYHhE1fb0gGujn83V42yFulr38PP54rARMzG7N6NEWCvf7tj0I5BoaxBVjbpwGlZiTzg5SaCyOj+/ErybuLMjl/x3dff4Kc1e3EmvogoxIuH7gT3Xhg1pLd+x8r9aSgiQmXfrg86BHvBnVR0TU01JDU1kDA8iMQC8jkHF7atwbojSRBYW9StTtCUoaRUCZWujar/Q47sMwdx6nw04mvM4NO4KVp0aKE9Z0CoK5CTdBl/bjqDIp45TD37YGJ/Z4iED68eyrwruHjmJI7frILY1RfBHXugvV3DVKX/Q3obW1YfQHx+BVS2kejcvhECvEy1JylqFMUex68vtUfL8HboPmoBfrokh0vESLzz3Vvo520Di4bqO+5BkXMep0+fxem4aph4BqFx+y5oY6t9xmoJpGnb8OmSY8jiRWDSvBFo6WMPUz0pgnvR1OQjJ2oLVh0hHYORMVz6jUdvD9KB3PeMNSi+cQjbVy3G519/gU/enI2pE6bh5W+PgTi6LxS6LyINsTyyDuLLt3/EyfRKqJx7YMq0/ogMcoIpFVMFEVKlivTvxOJAKXIT9+On95bg5+/X45zCGEbEwuURF0sm09BlpA2IBmXXt+L3P7bjwNVCiIK6oOfg4RjYzFp73kBgJMi/fRLbf1mKTbekMHYOw/A356GPiwAP01tNRSyObVmHddvPIYNH3N7OQzB1TCvYN7hIkcqgzsXxJe/hl+PJyJM7of2EKRjYNgSebMX6G7W8FpWFWezSo5z8YlQoBMRKt4S1rRVMSKYbWrc05TdwYN0abNx7GdlCf4R3H4wJw1qirk9TQVqRioPf/4g9GTyETHodY1t5wclU8H82ckPDyAqRFrUT33+9HteqRDAPHI733uoHX0vRPUNrfIht3OAdHIbmzZogwI14ibWFyLx1GvvX/4jFm++8UJaubuuWWoqarNNY+vZHWHMuExVWkZj41usY1yUE7hZGdRVGQCoOn1Z6BgyxtqwdG6N9z7aIaBeOQJGa2Cd0PY8QQlpiDVbDGFTF7cRvS3/DlhPxqHbpgEGTpmPq4BZwe4o1gw0GI0XhrRPY+etPWHEkFTK7pug77wO8OSAI1nRMU3vZXZiaJJzcuBIr1+1HVKkNQnqNxazZo9HB07xu/LTB0EAlzcOln9/CJ3+cQXypBZqOW4hXx3dHhJclxPdlhA8rzzD0mv0lvl3yOT54ZTS6eiiRe+MgVny8GLsSylCh8xUXf8NUx+PwH8uwauNRxFQ6onn/CZg5YxjaupuxjVUjKUHe2bX4cW8alI0m4pXJbeFvb4IHPPQGh5EXIfXybiz/ehl2x9VCHNAbC754G8Ob2MGUrnVmrzKCf7/5+PinP7Dmt2X4+aefsXzFz/hi4Ri0cVCgJOUWzu8+hOt0CP4FQXfqoK5FReZFbPjiCyw/GIsCk3CMffNdzBwSiSAHU9xdZ88zMYGxiTGMiaipVCJYuoZj+LzXMW9iRzgpJHXLXXgWsLQUQtAg2sagNuUgfl/6KzYcuoFi60gMnDwTL43siBAns4adtHgSGDmK405gN2ncK/feQplFKHrPfAtvju2AAFtt53cPjDQD5zavxKo1u3Eu2wSB3cdi5pyJ6NvcDaQoGhA1FNU5iNn4OT5cug/ReWI0GrUAr780FJ0bO8Hyrxc47sKDiZ0nQruNxPhJU/HSy6/hvTf7w7M6D2mXt2PHyTSUVClIKesepjYVJ9eS8lh3AJcLLdGk7yTMnDkWvUJdYME+Y/pCUDUKb0fhZmEtZLlnsfq9GZg4egTGLNqJqIwKqNVFuL79B3z91a/YcSWf/b26hlGUELHdjzU//oqtUUXg+fbAzPfexrRuQXAgvd/fJcKHc+NIRLbrgDbhzdA0rClatO6G/n16o39rd4COs2fEIb6kQV3Z54puJEtTi/LMKOz+5Vv8svsaso1bYPQb72HuqE6sSInvMY/4ljawtrGGNalgkhoJKqoVcAoIhp+bGQqz8olDRQfe3eDu+v8D77pAnnUKG5Yuxdq90cizaIX+U2Zi+uguaOZp9YAlpc8oUZZ4GvvW/YbVu66hwLQJekx9FfMmdEczV9P/E1sochG1nYjtHztwKoNYJURsZ8ycgP6tfGDfoJnWQF6Zg1t7luLLn3bgbKYRGo1YgIVzRqNHmCusH/GqFV8ogomlHewdnOHuG4yWXVrBz5jUK2UxUlIKUSt7yILX+kaejYubl2HF2t04n2uKxn0m4qUZY9CnhSds73nG9A09uaQGcvrqbPEtnN63G7t27sDucwnIq5BBw0hQEB+FixevIyGXLofTMapyZFw9iM0rV2Hz+VwwPt0wZcECTO/XAu5mD05w8mAkFsNIKPxbiAQmMDO3hp21Md1SHBqlArK7i3ZfAOpfcBkZyrOu4+gfS7Fsy1kkyRzRsv9Q9GntCXFlFjJSEpGYmIqcUgloPeeZu8PVzQOeDgJIi7OREnMZNwtKUZYVjaOX86DhkULybo4wZzFMdGpZkcIvjsK2ZT9i1bYLSJa7omnHruhELDwzWREyk0g+kjOQX1SpvV4NlbwM2TQ9kRzZZZDSmAukEsnKc5GVWpfvLHK9RKcLihlUp13AwU2r8fuOc0iUOyKoXQ90j/CBlTQXyfRek5KRVlRbtyyMKcWtvaux8rc/cTS2CuZBkejUuRUCbelrmckkD0lIzcxHmc7XrjJQVOYi4fgf+HHpJhxJqIV1i/4Y2Ls1/E2IFZiZgiSSl5ScElRJScXSVCA3KQYXT1/B7YxikqYk+VNBXpWPOxdvIpuUgYY0B7Gx+J7VGTpCU4IbO1fg19+24USCFDZN2qNzp5bwtVSQek+fMSmPrEKUy4kemdrAve0ozJ47F3PvOWYPjoCvgxm5d0t4R/RE//5dEO6n4/kEphrZ149g++rV2HT0Dios/BHZqyfaB1tDmU/zQet8GgpqVCBNgUhDLpJi45GcVYpqhZq0DTWkZemIjYnChdhCMEIxxLau8LTRjV34pCQkJJAOOoVt049L/UsWU4GC1IvYt/EQruXLSYVRQFF8G4dW38GRu/Wab42mQ6ZiYMcm8LN0QkAT4lo088DFo9lIOLkB34gS4VYRjf3xUvCEtmg6oA+akB5QrMtyYDRQxe/FH1vPILagBipLFWqyruLo5kSc0eaDZ+KONh1646Wx7Vmrvjr/AjYv2YE7pIdmym8jo1pOLHQNsi9sxtqiU7A3t0Fw9yHo17sDQm111cjVyL1+HMeOnkJ0egX49taoyL6JM1tScU57Bd/IDPadXsaiUUEwZpJwcvNOnLyehWKpKYwleYg7swNFV+5mWgw7n5boNmEq+vrosgdkICnKQNTe9dh9NQ9SvjHMlGVIOLIGGcf/qliwDB2IsQM7IdKnHGnRB7Fl6zVUOHnBw9EGFqZ8qCqycefsQSTKyG80D0BEc3dYmdGFiDpElYCj67fj5M08lCvNYVWTjZsn/kTO+bvP2BiOgZHoMXYCurvbwbPTJLze7P5hD+XFb5GWnInsMjF82/bHkKG9EOmtY8FV087rOA4fuoLEMh6sxFUoSjyH7csvaC8g+eHboeOc9zA8zBrmNfE4teUgYstIObnYw1JEjJHSdMRdvYgLcVUwtmuCxp06o6mlTkvjX1ETL+PatWs4ePAgbt++jS5dumjPPAbsC77/wjPFUlCmMld3LmA60OUFtJU87OA7M30/O8Bcyqt7B11Zcps5seI1ZkCYK2Mp4jM8GndBIGSMzF2ZRj1eZVbHVDASRd3b2E/CM8VSUKsYyaZRjK+tCUOK/6H54FmEMuNf/aPuemURkxP9GdNN9PBr2YPvwnSet4o5lPXkcRWePpaCjLm4dDrT11/w8HsiB9/YhvF9+SRTVatkmNqdzPwIL4a+1/Gwa8EzYzxajWO+jpJrf/8/8/xiKaiYvBsHmUWdSCu9937uO/iMQ6+PmI3ncsjlKcypVfOYvl4WjFjAY3g8HsMXCBgB+cnjixlz1xCm85QfmSNppG79S3E891gKtX8ysxo5MTZ34zs8ePDMGd9OM5gfryu0X/h/pMfeZQY3c2aMhD5M3w+2MGcKGyCWgvwKs/G9QUwTulj+YfkAj4HAi5myPZcpkGgYdeEu5qPBLRgPYyEjEIoYkZERY8Qn5WJkxth6tWR6zfiS2Xyz/F9jWzyM+oqlIJVKmePHjzMLFy5kXn/9daZHjx5PFEtBB9HCaEg/KSS1JnBtEoawsIcdzRHZqQtaBjjB1pgHvqkd7J1d4GFvBrGJNfm3B7wDQxHesS9GzpyNMa0c2bdxnrTfI/l9pmhhTE0hchS28A0OeUgewhDatCXatW2FiKZe5Go11IpalJUK4PwP+W7doR3CG3vD6YGlS//Gs0QLk1WWQCawhKNv6EPuiRxNm6J52+7oGeYAIb8WxXkKmHv4Iyj0IdeGEm8kojUi24Yj8DFcv+cZLYwNLVldDaFrk/+/L+3RrHUndAoPJHXJBBo1HTM0h52LO9w9PeHl6QXvgEYIbdEGnfuOwvRZY9DB25KtW//Ec48WxtSgOEcJS59ANHroM26Glq0i0bp1c/hbP/z3MrWlKJSbwsEzBK07tkPzIPenGl9/pmhhjAzV5XIwInt4Pywf7NEC7Xp2RzMXYxgLVJBJAWNrezi7usHNg5SJfzBCw9uh24ARGDN2BPqF2T2VG14f0cIqKytx4sQJ7N27F1ZWVhgxYgRqamqgUCgeO1oYj6qu9t+PpLS0FHv27MHFixdBeg1tqg5QyyGtKkVeQQUURlZw9nCFzTNM0mg0Gqxbtw5Xr17FO++8A3d3d+0Zw2P9mjW48O238I+NRbA2zZjkx3v2bPi/+642Rf9I/PBDpH79NTSkklKShQL87CpCei/S8tzYJJZPOn+C2eGz4WDmoE15TmgUkNVUoKSkHFUSBdRGZrB1doOLtfixJzSkSimOpx3HwC33Gx+CXwU4tfUU2rZtC4GgwRcmPxXEMsRPP/0EU1NTto3UPwyUEhpUqBRl1TKoheawcXCAo+2zrfghXjmrWbTzWLlypTb16aHP5dixY9i/fz9atmyJ4cOHsx3rokWLWCH+/vvvtVf+M7ocBX1yBGKY2LjCr1FjNPJ3eyax5eBg4YtgbOkId98gNA4NRWiwL9yeQGw5njfE6zCzgaOnP4JDmiAkyBuuzyi2zxNqj1Iredu2bdi8eTP69OmDyZMnw8uLerFPDlfPODg4OB6CSqVih1GXL1+OnTt3Yv78+axla2dnp73iyeEEl4ODg+MB6Lhsamoq3n33XXZFwrJly9CxY0eYmJhor3g6OMHl4ODguAeZTIbr169j1qxZ7OThn3/+iYCAAAiFzz7QwQkuBwcHh5bq6mp2YmzevHnsyoMVK1awq5nYEKvPAU5wOTg4OAj5+flYvXo1O2a7YMECvPzyyxCJnm+MYU5wOTg4/vPcuXOHXQ53+fJldjlcv379YGb2/Lf34QSXg4PjPwtdm3/27Fl2UkwikeC1115j11HTTSzrA05wOTg4/pPQybFdu3Zhw4YNcHR0xLRp09CiRQv2pY/6ghNcDg6O/xxlZWVYu3Ytjh49iiZNmmD06NHsz+c9ZvsgnOBycHD8p8jKymJDFNC4KpGRkRgyZAgCAwN18jq2fsdSeM686LEUjKytYduxIxx69dKm6B+F+/ej5NgxMKq6IN+PiqXQP6A/Onh1gLmofsbSngWlWonEkkQsv7Zcm1IHF0tBf3hULAUaTnH79u2shdu5c2d06tQJ9vZ3wz89GVRPnjSWAie4BsrDBJdHGrnAzAxCCwttiv6hqqqCqqaGvqTOfn6U4FqKLWFmZAY+T/+cMIb8J1fJUSot1abUwQmu/vCg4FKZu3DhAnbv3g2lUolBgwahVatWzzQ59jSCyw0pvEDQkIdU0GS5uXp7qKqr/xLbf6JKXoX8mnzkVufq3ZFXnfd/Ysuhv9DJMTpWSyfHKFOnTkX79u3rbSXCP8EJLgcHxwsJtWrpUi+6M8Pvv//OrkSgb5CFhobW++TYo3jsIQVqih85cgSffPKJNtXwoC4AdTNiiRs+Y8YMODs7a88YHnt37ULM2rXwTEmB73N67bAhyODzsdFBgLz2CvCcDDz85mZg9ber0axZM4MdUigrL8OmDZvYIC0vvfSSNtXwKC8vZ+PXUs2ytrZGr1692GVfz9OqrdcxXBoPko6FUFPcUKFZjY+PR1FREcLDwxvEpXheJNB8JCeDhue2f8YIRg1JKXH3bkjKYRpoDRMrw80HJf1cOkJbhcLa3pq0LG2igaGUK5GTlAMHCwdERERoUw0PuktNMmkfNLzi4sWL2ZUIT7QLx2NQr4JL40FS0aWWoaFCH9CZM2fYsGu0AJ4lrmVDc+7cORQUFKBp06bskhZDhZbFvn372G1Q/Pz8tKmGyfwF85EXkAfGljQpQx2skwPidDEGNB6AkcNGahMNDxqEhoZVpJNnNNpXfVCvgsutUtAvNm7cyIpVjx490KZNG22q4UHL4ttvv8XChQtZr8OQadSkERJbJ4JxN2DBlQBm182wsNNCfPzBv253qLc87y12HsbTCC43acbBwcGhIzjB5eDg4NARzzSkoNEw2Lo1D7W1dVte6xvW1kZo0cIK3t51wShe9CEFiUSNhIRq3LxZxX7WR2h5hIVZgs+vm1V60YcUguyCEOYUppdvzFHomuJLOZfYdc8sjxhSKC9XYt++QqhUGm2KfuHiYszWKzc3Y/azvg4pPJPgKpUaREZeQGGhXJuiXwQGmmHBAl/07+/Efn7RBTc/X4a1a3OwdGkG+1kfWbjQF3PmeEMkqlOkF11wx4eNx9yIuXC31M+6djbzLN4/+T7SK9LrEh4huAkJNaQdRUEm00/BbdfOhq1XnTrVTYS/kIKrUGiI9XiSbej6SOPG5vj440CMGOHKfn7RBTcnR4plyzLx5Zcp7Gd9ZNGiILz5ph/E4v+G4M5sORPvtH8HXtZPt612fXM09ShePvgyksuS6xIeIbi3b1ehVavzeiu4Xbva4a23/NGzJ10oyU2acXBwcPzn4QSXg4ODQ0c89yEFJycxIiKs4Omp27eG6KB+VFQFcbNrtSnckMJdunWzh6+vKYyMdPv608WL5ezY371uKDekoF88y5CCi4sYnTvbwcbGSJuiG2hbP3q0hOiSQptiOEMKz11wmzWzxLx5PmxB6JKUFAm++y4dhw4VaVM4wb3LN980Qq9ejjA31+37/Z9/noLt2/NRUaHUpnCCq288i+CGh1vhq68awc+v/rakeRi0rb/6ahzi42u0Kf/hMVzakBwdxexSLF0edDmIqalhBgypb+ztRazH8bDnVp+HlZUQz/n1dQ49grZ12u4eVvb1edC/eXeVi6HBNQcODg4OHcEJLgcHB4eO4ASXg4ODQ0dwgsvBwcGhI3QsuAwYjRoqlRJKlQrqf18gAYbRQE2uVak15Nv6wt18kPtSqUFjShgmdflgny/Jh/rf8kHKQqOm15KyI9fqVa619USppHXlX+6N1DsN3f+NrYek/PQoI3/Vd/qM9arOPyH3PGO2jRhsRp4vuhFcWomUckhrqlCak4qEG9dw7UYiMkuqUSNTQPWQxsswpLAUNagszkZK7G3cTshGcY0cigathBpyT3LIaitRlJOGhFs3cCM2CZmF5SQfpGI9eG+00pEKp5CT70ilkEprUUt+ypUNXAFJeajY8ihHSR7JRyzJx+0EpBdUoVZeVx73UpcHGarLCpCZFIfbt+KRnF2Eilo5EayGLA9Sb9RKyKUScm+5SE+4gevXbyAhsxgV1VIoyL3dmxW2k1TIIKkqQ1FmEu7coOWXgpwKCWRyJTEAtBc2AGw+ZLWoKs5FRsJt3LwRS/JRgJIaGcnHv9UXWi9lbB2rlcoatH7VPWMpaipLUJCRiDj6jO+kIa+yFjIFNbK0F2rRkHool5H7riVt476DtBcZbe8NWCj1gA4El0FNzg0c+nI02jf1h3dgKFq264RO7VqisX8TdBj9ETZcyUap7N4Hq0ZV2nlsXTQe3ZuHollkJNq0bo6mbUfh7Z0pqGmQRk7+oioZ298Zhh5NAxDUiOSjTTu0I/cVGhaBLuM/xqqTqaj8a5miCrKqVFxY9znemD4E3VsGwtfLEx4e/hi25Bxi8hsuwpqm4CK2fzkdvZqHIJCUR4vWJB+R4Wge2hRthr2FXy8VkRK4iwS3/vwIrwyMQGhwMEKatUJkmwhybTO06jkdH667gAyp9lIdw0jykXZsCSZ1aAo/rwCEtGyHjh3bIbyxP5p0GIWFa84jsVimrSsalMUewuqF/dEqNAB+jZshol17tI9sgUYBLdBl+g84ki6BtEGKRYW0nR9gWp/mCA5qhCYtI9G2XWu0JOUR3mkMXl9+FHcq/iGGgSwWa+f0QrsgD3h4RWLSN3twpeQfrq83NCiJ2Y1f5vVFRJNABIQ0RyvyjNu1ao7Gwa3Qe84vOJ2rgOKvW5Phwo9TMDiCtgty7w8cTToMwzv79Tfy3dOgE8FVEEsqL/Em4jJLISEWFN0XXkl7tupcxB7+GW+/8RP2Xk9HpVZFVXmXcHjdj/j8l8O4WVBDrA8F5JIKFMUfw2/zZuDLs+WoVuhecqEpQ0rMbaTklqGqVpsPYvHWlmbixv5l+G7JD1h5PLdOrBg5JCWx2Lf0e/y2/QSikvJQVFKG8vIKVMuIy9gQ7UGLhghVVmoSkjKLUEmtCG15SMqzcefEWnw2cx6Wx6vqGoZGirTLJ3GReCQ5FQoIzCxhYSYGX1aM9KgdWPXNZ/jk1/MobYDiYJQS1OQn4HpsBkokd/NBLEV5DQrijmD1e2/hh11XEFdBb46BtDSPWOjxpPwqIL1bDxXEmipLxbXtn+Kl2b/gUn4l7uv7dQKDijTSPpJzUFwpIRYqzQep89JS5Nw6hHU/LGHbQuZDOwMFEjZ8g7WnbiKW1Mvy8qo6b6sByoN9xiXZyEhMQCp5jn8/Y1JOxQm4tOVTTH5pGaLLanG3+arkxDupqiD3Xf7AUYGKqhrUKhuwodQDOhlSMDJ3hF/7MZj3+SpsO3wWV4ibEX18Iz7q7wdboRzFMcdx/nYOcqpIKTC1SIm+gFPHziJFYg731uPw4YYd2PrdeDQzlqGm6BrWrzqAbOIyqrS/X2fwrRDQeSxe+WIVNh88jcvRV3HuwHK8NbwlPIRVyIq7iauXbiCPrSMkLzwe+KYuCGrTD2NHtoWHuQgChrjBjzF2XZ/wTMg9EQvw5c+WY9OBM7gYdQXn96/A5xOaw0pRibLMC9h+MBlStrLzYOoWjn6zv8Lqvadw7sJFXDy9C7++MxptHdUoT4tDzElSfsW6zxNPaAYrn7YY+spnWL71EE5fIe5r9An8+clgNHcUQ1Vyi9wv6SAzK4jtxYPYzhfN+76Ed79fh90nLuBK9GWc2fYjXm1nC42sGvkXd+NYfBUq5LrOCw8Wfh0xdO5nWLpxP05cuoqr5w/ij3dHo5OXEWqy43Hn6kVcyfl/xVWmbMbPf5zBndwaKGndImm0ejVMDSPP2CEQEYPm4MOfNmLPyYuIIvd9fONizGxtDXVtBfLO78DRxFrUKLV3yN4sH/ZNSRtZ8CX7xlbd8R2+ePcVjGym27fY6hsdCC4fpk7+aDXiZbw2dTj6dIpEiyZN0LTdAEwbHgl3axPwFGUoq5SillZ0VRbSkhMQl1gJOPghpOsITBvYA537TsKYdlbgaWQoOHcCV8vlkOq08+MBAh/0nPEKpk8Yhn6dST6aEre6C/l3l1YIczciFYr05JXEgmV1ygRWbh0xd+VWrF+2GB9OaA1PMyK4erCbK9+xGToPmYAZU0eiP8lHRPMWiOjUDX1G9kAYqd8alRSF+eXspCZDOpk2k97EK7MmYUjncIQGByCwSRt06dgGbUIcwVPWoLo8D7mluvfFeaYOcG05HK/On4ZRfTqjTfMmaNK0LfpOHYZ2nnaw5CtQWV6JWuKNMKQe2gS0Ro8xMzFr/CB0bxdByq8FWnfqh+lDW8CctASGWO3FlcQi03lPLoBntymYMW0iRvXvirYtm6FZRGcM7NsVnZp5Qky8DDreXlpzr4ySSqbOwN4fl+NYggI+zRvD2d4KQu3ZhoEH2+B26DP2Jbw0tj+6kWfcvFk42nbpi8kDmsGUxxCHqQiFFXS+Q/sVLebuYWjTcyTGT5iACewxHiMH9UArT5H2ihcDnVi4ApEJLOxd4GJvCTFfCVltNcrzE3ElJh0VUiV41v7w87CBnTkPmsp80tjzkU9Uy8zOCd7BTeBqYQ5LOy+0aupFLEQNVKXxSMiRQ3a3l9QVRERtXFzhaGcBY74aCmklSrLjEJ+SiZxyDYztHeHi5QUn9g1jAYRiG3g0DkNIkC88Hc0hImqrD7tn84zMYWXnACeaD4GGHa4pyU5HUkw8chR8ct+OCGvurb1fIaxcPOHmTATMxKiuw+ALoSFirCZuL3giiIwtYW3ZADnjG0FkYQ9XV3tYmfChlkshKS9AStQNpJZLIIMVPH3cYW9vzlZ0oYkFrB2c4WhtCiMoUVtdjoLsRFyOyYScId6IfQgae5rAVKzrvPBgbOMMZ0c7Nh+MUoqq0hwkJCYjNbsMKrEtbJx94F9XsVgYlQz5B3/Csv3xqPQbgnG9msDPwbiB6xcPRqZWsHFwgoOVCYw0ctRWlSI/MxFRt7KhIG1C4BCKUE9jGD8QSElRmYvk62dx9NARnLx8B1nVPJhZW8JM1LA5et7oRHDrYCCtyMa5pXMxZfJUTJ+zEF/sToLcvjkGTp+C/uF+cDHmgamqRHVVFarUpBKaiCFiqhB3+jCORefDnFRIdmcWVREKiuj4UN1v1jmqO9j3/ftYMH06Zr7yHn7ZH4syu9boM3QERvRsAmsDqSOa/BicXrsIs6aSfMz7GN9sikG1e0t0n/Qa5nZzhLHw4dVDVRpHXPcoXEqohJGDB3xatEGEvQ6r0gMw8mpUXfwFc6dMwpTps7Hg8x24UWONRv2nYuLA1gh1I16U9lpqGZanRWPP4lmYSvI9+43P8NOpElgFdcb4BbPQ288alg1mJqqQfPBnfPH6dEx76RW8/fMeXCy2QrOeQzB6TB+0tNHmQi2DLPckVvywDderfNFr8lh0aewKG70RJw1KEy9g21ezMGXaDMx9+2usOF8Ju5BumPzGHPT0MsP9YU80KIs7gT1/fIOvvvoSn3/8Ht5573N8/2c08huqjdcTOhVclbQKmZf2YseOndhz6AxuECtVaOOJRs1C4E2sX9K5k8Yjh1yuIL0hj1hTVShOP43fv/gev6zcg1jGmFgmDHgaCWolGmh0OqRwD+pixF88hoO7dmPf0UuIza4Bz8YbgcGBCPSwIv24YaCpyUf69ZPYs5Pm4wJiMqphZOcB/6bhaOIkfOjwB1OTgejD27FtzxncqbGHf0R3DBvaDl46twrvgVh7sqwr2LdjB3buOYRTMdmoEljDJagpGns7wtb03mrOQFaei/hze7Fz114cPHkF8SV8YsX7o2lEKNzMxdBxFMt7oEJ1GacP7cbufUdw/mYWyhlruAcEo1GQF2zYiqWGvCYHlzcsx4YrFXDpOR0TeoXC01qsR/VOg9qSTMSe2Ytdu/bh0JlrSCoXwMbVH81ah8LFRAjhX8+YWMXmdrAh1qyFMbF0a4qQcfsCTuzegN9X/YY1J7KIFrw46FBwqbthg6Aek/DSS9MwaWQftPYygbIwFqd37cHZOzkopmO4vHvdbj4EAhGxdInbKibWLnu39GwDNm6KwBXNe43AuKmTMX5oN4T7WEKdfxPnTxzH0UupqNbxSMfTwrfyQnCHwZhMPIzxw3qgjb8F5Pl3cGX/RmyNKoP8gTWQjDQXN45uwdo1O3AiUQGniP4YO3kM+jV3QoOOtBmZwCSgGya+9BKmTRqF/m18YE06xaRze7D/zG2kFMmJzN6FB1MHH7ToOwnTp03EmIGd0NSBWL3pV3FwwzZczK6CROdjuHfhw7lpDwwaMxVTxg9Dr1Z+sGcKEX/pJI4cPo/4KgYaWSWKY3bj1w0Xke/cExNnDES4mzlrrOgPfJg7B6JV/8mYPnUCRvVrhxBbJUpSSae4disu50u1y+8EcI0YgomvvocPP/oAH3xAjvcWYObITggUlyH92gns+vMkkl4gxdWp4IosHBA6+DW89fbbePudt/HmSx3hJs/CtT1rsfX4TaQWkydLhdWYHKSJqDVmsPVsh/ELX8Ocqb0RwEhBPQyGZ8bGduU3VJcu8ELb4dMw502Sj7ffxCsj2iDAKBuXD1LL5BwSDERxebbE4ug1Ca/T8njrdcyZ1AeN1Em4engDlm64jEK5mtgqdTCKItw5tQ1rftuI/TEVMG/aF2OmT8bonk3h0pDWLYFnZAqzkMGY9/Y7pDzexltvzEQPLzVKYvZh87ZjuJJYeM9SLz4sXILQfvQC9tq335iHV8c3h0nOTZzatBybzmahpMEUVwC31kMwbs4bbPt469WR6N7IBEVRh7GPeCHH7lRBJSlHPvl8NFlCWogCOWfX49efvsV3Wy8juUhCvL5KpF3ch107j+ByUrn29+oaPiw9mqDzuAV4i+Zj4cuYPbIJjDKu4fiGpdh4Pg+VrOIK4dVuOMZMmYnpE0djxPCRpAN/CTMnjUC/ZvbQVJci//YV3Cw3EAvmMdBpv8gn1qq5oye8ffwR3KwjBk3uj+ZOljBR5iIhPgsFJRLwLKxgYWkJSwEDqVROGooZGnXohs7NnVFdUMy+qcITOsHZyQhGf/sluoVnDCsnV3j4BCKEuNQDenVAZCMHoCofeelJSGyQRedPDhUqCzsXePnSfHRCt35D0c3fCBplNZIvRiFHoapbz6kqQ+qFXVj76xrsuVoC45DeGDt9Gsb3i4CPeQN7GxSeAAIzB3h6ecMvuBnaD5yAvi1c4WiqREFiIjILiu7zOgRiU1g5e8HHvxHCIrtiKOloGpNOgy9Lw/Ub2aiS0FUNDQEPYitHOLv7IKBxODr174Uu7RrDBVUoLUhHbEIxlColakpLIVErIU3dj18+eQ/vvvUW3lt1EnF51cRIKUPCic1YQ72Q2BLt79U9QmNzWJNn7OvfGM3bdcXgsT0QLCJPtTYV0ddzUCNTkWfMg7G5OYzFor+HQ4RWcCTfC/axA09D6p+0EuU1+tme6PLOJ13iWf+Cy8hRW5GH1DtJyCyqRK2cPmiSrKpBUS6pOCoVa0XRWW968zxLVzi7uMDViofa0gJk3LmFzMoaVBWn4GJMNtQ8PgROIWjsJoaxTnf2IO5ceRruxKciu6gCNSQf7Ey9rAJl5RWolCi1Ax0admkh/alWSlBWWICCggIUlkmg0NTlUVVLvlNM04tRVi0lrjv7RR3BQFKchYzUVCJE5SQf9JVWck8yCSqLC1EuJ7lgeOAxd1+LrUHOtf1Y9/NybD2XDqlTS/QYPAg9IrxhVltM8lCI4tJKSHS9YoTkQymtQmFqHBIyClEhkdd1DoyK5C8fZTVK9sUNHslbXcOoRUVhFlIT05FbWg2pQk3S1CTfVSgg9VDKI9eQEmQ0d8tPh2jKkRWfgNSsQlIfZFASq4JRy1BdXo6yCgmUtEjof6RA+CJT2PhFoHOXLuhyz9G5uTccLETgEWPA3rsxwsKC4e2g4zWs5BmX5WciNSkDeaU1kCnrnrGCllN+OWR1VYvdKYHNkbIChbn5KCoj17JvAmmglJQgOyMVCVnlYIiBZmRmB3t96NQfgOYhLS0N2dnZ2pTHo/7nY5lK5CedwqaV5yEJaoFQX1c42BiDV5uDa9s240IOES+BLZp7u8LO2oxYXcbwDWqM0GA7REWlI/70dvzuX4uA4sPYcbWKmCfm8OzcDc3I79DpuBUVpYTdWLY2h1T4YAT4EAvKSgymIhVX9h/CqZt5UJv4wN7FC1525MY0UtJh3MKR9aeRQZRAU3gT+bVE3Mh/hbeOYv/WZNywsoBXeEdEtg6Fr4WuMqNGfvRB7D6fiBKLQDQOcIeDJclHZQZundiKvbEyUga2cG4SAjcRsRzViTiy/BdsOXUHWRIrNHaxAkrjcHZHPM7SX8cTwdIlEOE9+6K1iy7HeEjHUZiKS5t+xv7qYIQ39YO7gw1MeLXIv74Tm89lIL9aAOsmXnC1t4U5U4TbF/fj4PF08AND0cjLETbmfCiKE3Hxz+24VkvKSOSIoCA3mJsYaTtPHaFKwuGV65BkSqzuQB94OFnDBJXIijqIfcdjkKU2gSPxRHx97CG2MEPgoLfwQ7u7ryzXobzyMxZ+sxNnkkQI6TMZM6aNQs+Auu1mdIa6AHFn9uDohXyIAkMQ5OkIa6L50vxYnNu6CzFS8lTFzmgU7AoTEZGemlic2hmNQr4d3HycYWtMyjQ/DpcO7cSuK4UQWpAybRaBprQ96RH07bmkpCTs3LmT3cKHbnP1uOhAcNWQVmTi1pG12P3HCvaVVr6REHw1DWTBg9DEGi6hfdG3c2P4u4pJD82Db/O26NKrCy6nHERc9J/46upWkk56RCK2Dr7tMWFKL3iZG+t4kTf5+7W5uHl4DaJJJyHXEBeUTuMTIdaQfNAJQc8WbdG+Swc0I9Y51BJU5Z7E6vffx4kHBv3Tjv+GZcfJP/gu6PyKCWyDmhDBrTtX/zCQl2cg5ug6bI8ph5Lkg8fnE1eHRgvjk/KwhVtAJMaM7wYXsRACZRri7hALskpJLKwSxB3fRA7tr6LwzOARMRgvN+6lY8Elj1hehXxyM5t3rMXvdRULQj6xWomFyBOawNKpCbr16YRmgW4wRTaqSWO+sOMPnClSEFuKlh+5X1IPNST39G1Iz6YjMLyrJ+wtdbspIrUM828fxZaL6cine4bxBdTWZi1anhHJh3szRLTvjp4trMEX8mDq5IfGTtrvapHl28FCTL5HOkAze3d4eBDDxlLXQiVHZe4tnP1zEy6UKLXPmNyDWg0NTwCRhTN8mo7GqG5usDYjrZd4IrcP/44/jsWhiNy3EW3jNFASBDA2d0FgRGcMGdcbQbpt6P+ITCZDbGws1q9fz/7bycmJ1azHpf5LhG8CK6cAtOzYhlR8H3h5uMHFwQGOLm7w8A5Cix7jsfDztzCufTBctZMvRq6t0G3ULLw+g1hNQV5wc3GGs5svgsN7YeIn3+C19jYw1/maQ9I5uDRDh3YtERbkR/LhCmdHJzg5k3z4NkGrnhMx97VXMGtoKNh3AHj0BQIbuPr6wc/vUYc3XO0sYKrTCkWsPq8QNG0ZgRaN6vLh4uwIR5IPTzre1nUkZn32Ld7vaQ9jOkZOBNXOzQvej8wHKVM3YskY6748xBb28G3RCe2aB8HHy4PUEwc4ODrD1cMLgc27YeSCRVg4oTNauhOPim8JZ1JOLSPDERrgBQ83F1J+DnBy9YCXfyha9ZuBT398D4MCbHW/DlfojCZt26JlWDD8vT3g6kzqlRPNhy8ahffAyNnzsODlEQinHfkj4JkSr8TDG76+nnCxNYdJQ0wo863hSp5li8iWaOJ/9xk7krbrQSz3Zmg3aCa++OV99PeygBm5P56xC/yJJxXS2B+ezvaws7cjHqIbfIgn3GHoDLz23nt4uZOjbiea/gEaxYxatEuWLIFIJMLLL7+Mjh07as8+Hs99197Wra3x4YeB6NvXUZuiRaOCsrYEOdn5KKFjNnwzOHgFwNvR7JEL7KGWoqY0H+kZxZCK7eFFBNvpEeMI8fHV+OCDJOzYka9Nqb9dexUV+cgvKEJRuQRKYnXbu7nDzdEGZjpcwPkku/auWdMUQ4a4wPI+JVFBWlmGovx8FFdIoCDCauNCGoa7LYyfUw1fuPAO/vgjG2Vl9blrL0OMVAnKcnKQV1yKahkfJg6e8PVyhJWxUd2LMveilqG2shh5eUUoq5RBJbaCk5cffBxMnrlhP/OuvYpKFBXko7CoAtUKkg87V7i7OcHevP6GOI4+w6697drZED1oiuBgc22KFtpuK+qecXkV8SaIF+vs6Qsve+OHPGMGiqpiFNJ8l9VCZWQFR9KePJwt8Sg/g7b1MWNicPPm35HE6nvXXqlUioMHD+Lnn3/GgAEDyN8fA2dn54bftfeR8IXEbSMuRaPmiGjXAR3atECwq8WjxZYiMIG5oy9CW7VGq6Z+jxRbXSOydoFXcFNEtGmLtq3CEOhmq1OxfT4IYWLlyOYjPJLko3VTNPJ8fmKrO3gQCM3h4B2MphHt0L5DG7QMdoONyUPEliIwhqmtB7GsWqJVu3ZoG05fiX12sX0uiIjYeAYjNDwSbdu2QvMgdzjUo9jWG7Td2nkiMDQcrdu1RZsWjeHzULGl8CCydIRHIK2HbRDZsjF8/0FsGwJqk/7yyy/47LPPMGfOHMyYMQOurnVG3JNicM2Lg4ODQxdQoa2ursbMmTNx4MAB1rrt378/LCyefsKFE1wODg6OB1CpVEhJScH48eMhkUiwdOlSREREwMTE5IkmyR6EE1wODg6Oe6DjtefOncOrr76KkJAQdighKCgIYnHdKqpngRNcDg4ODi1lZWXYtWsXfvzxR/Tp0wezZs2Ct7c3hMLns3SFE1wODg4OQlZWFru+9tChQxg6dChGjhwJT0/PZ7Zq74UTXA4Ojv80dLno7du3sWbNGiQkJGDw4MEYOHAgu+zrecMJLgcHx38WhUKBCxcuYNOmTaiqqsKQIUPQt29fWFtba694vnCCy8HB8Z+ELvk6cuQIO2ZLx2iHDRuGrl27sisR6gtOcDk4OP5zFBUVYd++fazgOjo6YvTo0ewbm89rcuxRcILLwcHxnyIzM5O1ak+dOoXGjRtj3Lhx7PIvXcAJLgdHPZJZmYkT6SewP2m/Xh5Xcq5AopRo7/bFhr45RsMqbtmyhY0L061bNzYmgoeHh/aK+ocTXA6OeuRIyhHM2DsDgzYP0svj49MfI686T3u3Ly70zbG4uDg2kA39OXnyZAwaNAg2NjbaK3QDJ7gcHPUIQ/7T6Pl/LzLUqqVxa+myr88//5ydKKN72dGwivU5OfYoOMHl4OB4IaFiK5fL2RCNNMqXr68vPv30U3bcVkCDzzcATyS4arWafc/47iGTSUmm5OQM3dKg7tBo5FAoZPddp4uD9mL0b997Lwyj+L97oevuqHtBr7833dAOus0HPWh+7qbRPKlUNDbx38+AHkqljC2re7+vi0Olur887t7LvdfQBkHrFf15b7ohHnSHBqgAnopn0Ac1emndqpXW/nXQ+kN3dLi3LGl7o+n3XqeLg/7NB9u6Wi0ndejve5HS+k6O5ORkTJs2DdOnT8f777/PrkhoSB47APmff/6Jr7/+mt1S4i4aUsFu3aoihfP3rzAzE8DV1RjW1rqNaCmVqpGbK0N5+d/Brk1M+Oy92NqKtClAcXExG7ndxcWFjdpuqNAyoQJrZWUFc/O6ANA0IHxRkRz5+bQy/o2PjwlsbESkV9dtZNXsbClKSmgH93f9cHMzhrOzGHxtsFoaiYlusknf6jEzM2PTDBXqtgpsBBAYN4z19Dxg1AyU1UqYi8xh62irTSVSS/rxrBSGGDHaBIKJKeDkzoNIrE3QEQpSvfOziPX6974HMCVVx9aBB1Nt5ETaiVdXVENI/tuwYQM6dOjw3Jd80TfUnjQA+WMLLl1GsXfvXrz++utsGv2WSqXB6NHXyPm/Ra5RI3NMmuSByEjdDkZnZNTi99+zcPZsmTYF8PY2weTJHujc2Z79TB8QXXdHX9+jYdccHHS8yd5z5NixY8jLy2N3Sbi7pIWK7Z49Bdi4MZf9fJe33/YnFc6WCJpu945ZtiwDhw8XoaqKmH1apkzxwJgxbqSzq3OuaFnQznzUqFEIDg5m0wyVKVOmYN5r89A4hLisfMMU3YqKCmzaugn7UvdB3eTv7aSZcido9s0iSvZ3HeI5ZoLXbg941sXaFN3AVDiAOTMSTNnfr97yXNLACz0Hnpt2txMixsb5xuhq2xU7tuyAkdHzNwDrVXDpdhU0ZNmvv/7KptFvKZUaBAWdus+iioiwwnvvBaB3b92a7nTbjUWLkknHUKBNqRP/998PwLBhLuxn2uvRrWmuXbuGN998k1hbbmy6IbJ582Z2m+bu3bujdevWbBrdYmfFikwsWZLGfr7LqlVhGDTICZY63hzxrbfisX59zn1b7Hz4YQDptH0hFtcJUnR0NH744QfMnz8fLVu2ZNMMFdr50ShTtDzqewF9fUE9wMXfL8aKWyugiKTuupYiL2D116QR3eMVesQD/ZYB9vd38PVOiTuwawFQ6K1NIHjfBtrsAvxu1H2uBczTzdHPvB+2rNtSl/aceRrBfaIxXDrQTGNC0sPYuO4nQAuANuS6g88Xkd6k7pyuD/q3770XHs+I3Ivor/PGxsZsT0fzQYcT7v2uoR00H7RR05/3pguFtEz+fgb0qHsGxvddp4tDKLy/POhB7+/ee6Hl8CKUBz1oVCmaD1rPHnbeUA6BUAAeHfKhfcbdgw5HkfZ0X3nyyAm60ei91+niYIfG6D/uvR/ymabfex1Rt+cZ6et5wK1S4ODg4NARnOBycHD8K9RQFPDuH5d2NnPG6JDRmBU+S6fHqCajYGdqp72LOizEFrAUW2o/6S+c4HJwcDwGPAj41E//G1dLV0xsOhGvtX5Np8fEsImwN71/wpuKrbVx/YRUfJ5wgsvBwfFY8B7YsN1EaAIfGx8E2Qfp9PCx8YYxO1fxN0YCI/bQdzjB5eDg4NARnOBycHBw6AhOcDk4ODh0BCe4HBwcHDqCE1wODg4OHcEJLgcHB4eO4ASXg4ODQ0dwgsvBwcGhIzjB5eDg4NAR+i24jArymhLkpqYgJasENX+H5+TgeEoYaJRSVBdlIz0xAQmpeSiTv9j7enHoDw0guAwYdQ1iV07BgK7t0SayHUZ8dhDRmRJy5i4aVGddxf4f52FMn+7o2b8/BvTrjV5D5uKrwxmQqOnWfBy6Ri2rQmluJtLSspBXVgN91ClZ3G+YP6QHOrWJRLvhn2DT5TRUspVFg4rE0/jz86kY2KMT2nfpiT4DB2FQ/17o3KkfRr+1GmezpZBznfpzRA1J3k0c+nwE2pPyaNuhGyasTECZVK1tvwpc+30hXhrYFpGRkQ8cbdBjxCx8fbKavfJFQfeCq5JBGr8R3yzdhzMXr+Bq9DXEppeiWna3EMglRTE4u30Flvy0BUev3MadhEQkxN1A1IltWPbuO1gRXQnJPdv6NBjKbJz742O8OrIPevUZjVe/3oLzRXdVSA1FTQ5u7v8N33+yALPGDEL/vqTT6D0AC9deR0Kx/qiVuiodN3d/gSmkU+vdfzhGvrkV6UR46u5QiuQjv+Kr18Zh+KCBGDh0OEaNGo5hQ0Zg7KxPsHz/DTywo08DQW5YmYht3y/HntPncelqNKJj01FYKQXpnwkMagvTcOfKaZy+eB237yQgKTkZyYlxiI0+jQN/fI6FH2zE9WLSkTR41VIi/+J6fDt/FPr27oMRcz/DyjOFj95fV5GCfV/OxuTBpH71nYgP1p5GbEXDtw8Nqf9pl/7Ez78dxhVaHtdiEJ9bCxXd+63uClTlpyDh1jU2EP39xzXcuJ2IzPK/dwt5EdCt4DJKyKoSsfvHZTicXAGJQs3uwqBh7tkriZEh6+ZFnDx0BNdy1bBq1Bczv/gW37zeBwEoRU7sUfy+9hTyauS0iTUgKtIodmPntq3488BxnDx5HlfjMlB0t7UyctSWxePQ8u/w86oN2LrvCI4eO4GTJ07jWloZqhq+VdehqURO3FlsW7kaO8n9nTh1FmevZ0JCbo+9Q4YI7pld2LtnHw6fvowb8clISryDG5dP4fD237D0x6VYvus2qho0Oww0Cgkydn2PFYcTkFcth4rWK43mnj24eBBaOMGv1QBMXPApfli1Dhs3b8Dv37yJMWEmqC1OR8yBbTiZVIkqRcOWjbrgCo7u3oaNW/bj2ImTOBt1G8mF8r8MkvtRIfPw71i7bQ92Hyb16+RF3EwvQnlDGySaGuQnXcbeddtwIVsCNSkLtVpDyoScu/fWGJrGwCqgHXqPe4Xdwuvu8fK00egRaKy98MVAh4LLQCUpRdqR3/DL/iQoG4cjwFwE8YMB2VV5SI2PJb1bIRTWPmjcdTTmTp2IUeOmYGgLc3K+EslHj+JGBbGUG9BIVBddwcEd+3HiWjpKpCq2gatJxfm7LmmgUkpQWiKBwDEYEa0DYSvigfm/6xoSDWqybuEyEZodFzNRrVSxHSBtHH/dH1EsjcgRjbqNx7xFpPNYvgIrfv4CC8d2gL+gEEnEYjy27wSuN6RFpZZCmnkUy3/ajdvyIIT4WcDM5MGqzYOVTzi6jpmD12ZPxYTRIzBsGLHmR4/H7EGhMCOXqysykFksh7whjSp1MWKO7ML+Y1FILKI7H1OjhIjS3z3Hfahzj2HDH3txOaUE1QpSD1VE2Gj9atAKRryJvDuIPkTq1Y1yiIPD4P+PG03yYOnTCl2GTsPsOXPYLc3nzJmFqWMHo5OfjneorGd0J7jKapSnncaG3/bjhqIRBs/oh0bWxiAadB9MTS7y83KQU66Gqb0rfENbItjJDvZuTdCppTsEpEdU5t1GbJ4csoZqGJpS3Dy4BXtPJ0Fu7gAnRxt2R4/7EcPcPgyD3/gcn3/8Pt6e1BZepIP5/+saDkaShTsXDmPnwTsoFnkj2FP0QAA+As8MYQNnYtYr8zD3pckYP2YkRo2diPFDeqBdkA00kjIUZychuaShej8VZJUZOLv+V2y+JoV3v2noFWIP6//ryXkQWzvB3S8YAZ4OsBCRb8okqKosRX5JDdQMD3wrL3g5iiFusELSoPz2YezZexI3ak1h4+wMh0feC1FUTSEubFyJXVdKYOnhDmtLs7rdZxoYRpqL5Kij2LnnBsrsmqP/6E7w+pfIiXXzA2lISkhEam4F5CJbOLs5wdZUt054faOj3ChRU5yEi9vXYluMHL59Z2JG3wDYmQih3S37LzSV5aisqESligcTMxOYiTXIiLmCa0nlsHN1YisUo8xHboHivu3ZdQeDyriD+HP7ScQqfNG2Qys097PB/+3RyjOCsZUv2g0fj5EDuqNDiDMsjARs5Hy9gKlFfuw5HN13FNdrXNG02wB08HxIq+AZw7NFe0Q0DYKHjSlEpMB4RuawsLCElZmQ5IcPvkAIowYSKXVtKbIvb8eKzdEo8+qLydP7ItTB7P89p7/QoDo3Hmc3fI1Fiz7FZ4t/xC9HsmHs2Ry9Jk5E9wBrWD5oBegIpuoOTm3fgaM3pXBs3R5twgMeKbiMWo6yq5uxcuM5ZFu3wcDuTeHraNoAkzIPwMhQlHAJx/cewKVSezTvNxqjOrjjnwcGGJQnnsWBdd/j66++wpdffonFP/6GLScTUPpiDeHqpnxU1QVIu7If63dcR6VnN0ydMwwtbI1g9JB6zchkkEtlkNExN4EUFTmXsPm7H7FszTGkC03qLERNDaqrqevLfkWnMNUJOLlxI47cVsC541D079QUASQv+qKjjwcDWUEsLhw5gEMx1bBr1RvDh7SDl/Hj5UJdncWO495Oq4TA0hEugWFo4tgATV0tQXnGVexb8yfOlLqjy/RXMLylPcwfrbYEBjX5ibiw5XssWfI9flm7B+ezAVuflug+qAuCbUz+QazrEaYGqae3YOvhWyhzaIu+/bogMsiO3R7x/9AooCi5iT3LVuFYljWaDZ2MgeFecDJr6K3ZGSiK43Hl2H7su1wC8+a9MGpEZwSZ/9MDJe3cxIIIshTVxZlISbiBy0e3Y/2vP+DbpeuwK7qQ+DAvDvXfSjQSlKZdxbGtu3C+wgNtx7yEca1tYfSov8zUjW+ytiujhFxSipzULORkF6BCwyfFw5BDQ8fatRfpEGIVZpxZj3X7bqPKuROGDO6KcH97GNwok7wYiecO4MDRGBTZtUaPwQPRNdDssToNRl6CtMsHsO/ASUTli+Ea2gbd+3dGiJmuVUoDWVkGbh3fgg1nSmHfdgxenRAJZ7Hw/72N++BBbOUE/4ju6NWzGzq1DoWPFSAtTsbVE+dwp7gWMp3PxjKQZp3D9vX7EF1mh5YDB6Nn60C4PtQs1EAlLUIinQvZkw5x0xGYPLId/IlV3+D7HajKiWF1FIcPRyHLvAW6DRmKXo0t/0FkBLANbIvuwyZjxuyX8eqrr2DuS+MxuEsoXDR5SDi7C2s2nkfWC6S49S+48kJkJ1zA/qNpUIit4GZVikv79mLvgavIqFFASQS2Jus6Ll6IRnxuOaQiEYxERhCRSqhmLOHo2xlT3n4VM6cPQlOBjPR2RHJ5pjA1Ja6sLo0qcp/KgsvYsmIbrlY5otXIUejZwgfOj2kV6g8qVKSewaEDx3GlwB4teg7AkO6NYPU4z1JZgeyYQ9i8ZhN2X8yBwK8D+g0fg9Fd/WCivUR3KFCel4wLew4hXiaCjbstai7vw8F9+3E5rYpdNsjUZCPu8gVExWWjqPZu78yDlUcYesz8DN8s+QqffzAPL/X1giLhDLZ+/zXWk3yV1OpYcZWFuLb1N+yIKodpy+EY1iscIS7GD+0AGSWx6lPOYs2yXYgTh2HArMno6mcNywYa0rkXpjYFMVcu40JMKYzMjSGWp+Hs/sM4eiYOhVQ0NUpUJp3BkZM3kF0th5L4q/49Z2L+B59j0XsL8dq8+Xjj/Q/x/ryJ6BdiBWVlMbKunEG0Hixxe17Uu2QxylpIK0tQXFWD8vSTWDZ7KAYPHoLBI7/G4dxq1GrUyDvxIz565xusP5eIMlNLmFtYwJxP3BO5ChqxE1oNHInhXXyhLC2vW1MpsIejgxGEuqxkjBrl59Zg85V8VFsEI9CqCnmJUaRyJSOnrBYaRoHqogwk3opFYl6N9kv6SA0Sz57EhSt3UGnjCgdrIapuXcDla7HIqFATz0FFdDUD189HIblUCeXdYRt1DQrvnMDm5Suw8Wg8qp3aYMCE6XhpXFcE6Ny6JVDvR1aJwqIqyKqycXXFHAwdPJjUrZH49EAGCmo0UOefxu+fvo+v1pzCjb/WPde5sPaewWgcFo52PYdh5sKRaCrmgS+JxfmLGaioVujUeWIqzmPr1stIrzCFT4AVFEXJiL4Qg/jMEkg0DFT0bcukW4iJz0V5dQlyzmzEhus1ELq1RBNz0qlcu4jzt7NRIiH3zchQlpWAO3HJyCqRav+CbmCkFaisrERldTGSzqzD59NIWx8yETNeX4OrUgYaVS3Sti7AlLm/4GROBWn7PJhZW8PMxBhCbRXiGdnBwzsYEaGu4KsVUEhKUFjRUBOyz5/6txH5IhgTF87Dzw9+9x6+zrASCcgN8GBk6QRXOiNJekURudbRyRFOpBHXlBUjMzkRpTI5JJUFuH4rE2oeDwLrQAR6iCF+2CBwPUHsbVRmZ6NCoUR1/BZ8OmM4+nTuhG4zv8Omi9lQaMqQcGwVvpi/EF/uStF+Sw/R1KKUdFyVVVXIj96OX+YPQZdOXTBk6ptYGS0lOlaFypiVmNJjNL65oF2TqpGhPO0cNv34I9YeikWJTSsMnDoHc6b0QZitLt2Me+FDKLaAg8cD9crPFy7WYhgJaOMlwuriCmc7C5gIlJBWV6C0uAyVEmJdqenSNyICGgWxhnkQCeskViaTssvidImmMgd55XLIqxOx98vZGN+nMzp1m4FF684hRaFBZfJpbP3qNcz8eCtia+WoyM1DhVKOmphlmDOgB7p16oQeC9bjfHIZVOp8XF67CO+8swTrz+Zo/4Ju4AlNYWXvBq/7ysMbXh727LI78PgQ23rAm10lQtq+RoqaymrU1Cq0L0OQVqaQoKy0GHnF1WD4QghF5rA00U8vsm6d95N1zfXeWngmHmjUbQ6+2bgFW7bcPTZhy/qF6OlqDlO+AK5d5uK9T17DmLYBsDP2go9fEBr5mUFdmIr4s/uw9fw13Dy/FX+eLwPDE8E2sjPCbcQw1ekcARF6UxvYOzjC0fGew9YCpmIhOcuHkTGpHDbEvTOhpjdpzsRaVMhkpBGTQ0GsdW3ZMCqlNl0OhZK++FGXrhtIpTezgo39/fmwt7WGOZ2dp6sOSCW3dbSDhZj8GypIC65i65IvsHJfNDJFTdBvyiy8NKYrgs2UbN7kpBNS6doI4ZnAMaATpizZeE+9osd6vNPHC85mpEE7d8LEtz/C6+M7oKltIeLO7cQfP/+GrUcv42Z8GjIz05AUcxbbf9iACzXEkhSYw8PLBSbGD1keV4/wBFSoHOBwT3k4OtrCykzMWn58IanrltawtaKrRIQQmdvec532sDGDWEibs4CUryWsrSxhpuP1bTyrMHSf+gF+3nRPeWxahaVfTkA4EU0+EWTv4V9h+bcz0cnVCsY1sTi1dx8OnojC7ZRMZGcTDzH6MHZu24LNZ7JJEVvBLiAMTRtiQvZfoGJbUlKC8vJybcrjUf85EZjA3N4bIS3DER5+z9HMG3Z0goNUKLGtFwIDfeBma0YqlAWCItqgU5fWcOOXIuXkMszr3Rk9pv6M85VCiC2DMXLGYPhYmuh0koDHM4LbkM+wetN27N6zB3u0x85v52B4KzcY8W0Q2Hk8Fnz2Meb18yWqqiCubhqijh7CoUOHcPhKGsroEAmjRkVGNC6dOUzST+JKfDaKZTpUXL4dWo54A1+u2f1XHvbs2YW1P32MSc1N2CVflqGTsXTbSsxtZQELQTr2ffEeftoVhaQqG4R2aIvGzhrkRh1l83Xo0FGcungT6VW6Vlw+RGZ28AxpeX+9Cm8OP3viKVEL19gGbv6B8HO3h6VIhpKUi9i79F3MHNoZrcKC4B/QGKFth+PVNbdQTTpyE8++GNbLBw5Wup1+4rsOxNsr1uPP3X/Xqz07v8fC0W3hK+LDwr89Bs37At+8MQgh9u4Im/wDdv5VdnXHjs9GIdLPFkKBEyJGL8T7H87FiDYu2r+gI4SWxOMIRNh9bb0pwoJdYcFauAKYOgajaRMv2JkYQSBNxfn1n+PVIR0REdoYQYEhaNlpFF77+TDu1JjCyb85ek8aitAGnw28Hyq2eXl5+OGHH7Bt27YnsnL1r+sgiDw7ot/kV/Hm5DbwIr4Io1YRh14MM9dwDP9yNT7q6QBLYn3pFB4PYudGaBbeCq1bt/7rCG9MrCkrY/CJIJtSdykoGL5OpoC6CmWp27Fo9AiMGDkKo1/fglultVAQIY778xO8M3MURox6CR//cQI3dPrSgBGs3fzQqPm9+WiFFk0C4EZaBY9H3DhLV4RENIOPtRGEqjhcicpCcZkCGkUeov78Fu/NGI0RI0i+6DFyAma/8xN2p+j5VDLfHHauXvD1c4E1rTuMBmoldWWJTSCyglvbSfhqzTcYF+IAG103cLEz/MNIx3FPvWodHgI/F2uYkHonNLGBs3cwQvydiStuDAuPJoi491pytAx0hjXxrHg8MSxd/RAQQA0YPX8tVmQHZ1d7WFuIAaUMUpkUMhUDgZkzgrpOwvwvFuODvq7/supE9yQmJuLNN99kRbd58+bkmT++P9RAgkv+rMkALLmUhNSCfFz+aRQ6BFj8fTPE2rBr1BNTv9qKM1EXcOLgfhw4egZXLu/HsslhsCe9fsPcOI99uA8ef0H+ST/+ncJAQ1+VfeB1Xoa+P65NZ+NIaNN1x0PyQI97YdPq/nnv/d17738d7FiW9oIGxxjdvzyDq8kFyL/yC2Z3DYYNrSx8FzQf8DqWHo7CzdvXcPHUYRyg1iHxMi7ejMX1fd9hRqQTsYQbqGbdUxZ1xwNFct/nB68lB5t6l3u/2MAQj8q96VxsTC9CYV4qTr5D2i99YYaesu2MWUv34EzMdUSfP45D+/Zi3+HTuHj5Ik5v/QpzuvmgIeZj/4mTJ0/ijTfegI+PD9566y20aNFCe+bxaJjaRSGiam5jCzt7e9j8r73zgKuy6uP47+7N3ksQRJxomjv3XrlSMUdmw2zYsDdNTV+zLLUsc7w5cZamudNSc29TEBVFVKbsDRcudzzvOQ9XBcVy8QB2vp9OdQ/PhXOe8z+/8z9bSyc5yr5ZsUQOpY0rPAMbo1WHjujQuhECPeyhU5YUVlVB1iAEH//4OyKuHMfmuWPRzd3aHksc4Fr/Lay6FIWoqAeEK8ewZvJgtL39nUpDAufabTE2NAxXLp7BqTVvoDZJEp8qZRdM2nwQJ6+Uk34arobj0Ka5eL3K9PtEkGvsYO/oBCd7HVRyidVe6CSbGlpHN3jWrI/nWrZDxy5d0KV9SzSu5QEnWy2UMurh8w9XPrL66DV+IbZHXMHprfMxqafn33p6ilYfYtG247gc+SeWju+J5x0rr2qXhThHUhVsaHk4OsJOXWp3KekVqrR2cPEJRP2mrdG+U2d0atccjWr7wNlGU6rsKh86bBAaGoq5c+eie/fueP311xEQEADpIy6VqiqlUj7E+sUSGRRKFZQK+Z2lI1UJkdIWTqSrGhDgB283e2hvv3+RhFRwB3gG1CLduwcFP3g524DYYKUjUWhg70m6ogE1UdPT/u4ZFyItnL19UbPc9NPgDz9vN9hXm/XI1KakkCuUUKpUUCnvb+yrBCIFdI7u8CGVuqaPO5x0f28kIrUj3H38iB36woNflWH9QTVAJCZ1Ra64Wx5Sunap6kAnhmfOnInt27dj5MiRGDRoELy9vSGTPbqTUbUFl8FgMCoJOjmWnJyMCRMmIDo6Gq+99hq6devGrwqRSB6vRWOCy2AwGPdQXFyMiIgITJo0iR8jHzNmDNq3bw97e3uIn2CLKxNcBoPBKEV+fj4OHjyI77//Hm5ubhg9ejRatmwJtVptfeLxYYLLYDAYVtLS0rBjxw5+fW3NmjX5YQS69OtxxmvLgwkug8H410PHa2NiYrB582beu61fvz7eeOMNfnsyHVJ4WjDBZTAY/2qMRiMiIyN5sT1//jw/fEA9Wzo59rRhgstgMP61FBYW8iJLhxCuX7+O3r17Y/jw4dBoNNYnni5McBkMxr+S3NxcnDx5kj9kJzs7GyNGjECfPn0eeTPDo8AEl8Fg/OvIzMzEgQMHsGbNGt6bpTcF06GEioYJLoPBeCzouRrF5mIYzAZBQ7HZyJ9BUhq69fZhjvOgz1Gx3bp1K1avXo3g4GC8++67CAwMtD5RsTDBZTAYDwU9hL80uYZ8hCeH41TCKUFDeEo49MYCaypK4MXYVGT9VD5UbOn5tT/88AN+/fVXhISEVNjk2INggstgMP4RKlbUsyzNxbQIjNw6Eu1C2wkaRm0ZheuZ162pKCE5LxmJuYnWT/dD008PDKfebFhYGD799FP069evwibHHgQTXAaD8UxD19heu3YNAwYMgJ2dHWbPns2fIVyRk2MPggkug8F4ZjEYDPwZtoMHD+ZXINAzbOkOssc9fOZJYYLLYDCeSUwmE6KjovHZZ5/xJ36NGjUKnp6elSa2FBFHBzf+gYyMDGzYsIE/fJeeA0mhX7NYOJw5k41ierOrFZ1Ogho11HBwkFtjhKGgwITY2EKkpxdbYwC1mqZFBWdnBf+ZpjklJQV5eXnw8fGBQlESXx2h+aDndNIuko2NDR9nMFiQlFSE+PiykweBgRo4OspJF0rYU0Zv3NCTdBqI4d+1D1oeXl5KiK2nUNOySExMJHFexHZ0fFx15a+//uK3gtra2j7V7aBCQk/Jik+IR1JBEiy6Ulc/GZVAsh+pRKV8NIUecLwFSA3WCIEwknqb4UUSW+oKIWUBYJNO/ptf8plenVQkga+dL+Z9Ow8vvPDCUy8XOlQxY8YM/mr4efPmWWP/nocWXDqrR8Nbb71ljaUtCIfXXw9HZubdwXRauYcO9UCTJnbWGGGIjy/E+vWJOH787i2a3t5KhIR4onVrB/4zzSrtXtDxHHofl6OjIx9fHTm4fz8it22DW2wsiOlVW5KItxHu64uQceP4E/SrM++99x7Gjh2LoKCgJzrCrzKh4rFz507eGaEHbd8mJkZPvMTLMBrvykWdOlq8844vaSxV1hhhoHV97tzrJE2F1higQQMdBg50R+PGtvxnuqnh1OlTSExIxNq1a5/KSV/3UqGCS28GPXbsGJYtW2aNpa2hBX5+f/Je1W2aNbPDtGmB6NFDuKUWlMjIfNJ1uIrNm5OsMUDdujpMnx5IDKfk9lL6gujau7Nnz2LixIm8V1VdWRsaimPffouAixdR2xpXHYmWSrE/OBjTFi/mb3mtztA1nQsXLuQX0Fdmt/VJoKdl0WVTKpWKPwv2NhEReWje/AjpVd31elu3tsfSpcGkgdFaY4SB1vVhw84hPDzXGgN06OCETz7xR9euzvxnuiKBatbp06exZMkSPu5p8ziC+0jNMH9Z3T2BxJYJt+Pufa7iA/mz96TlNvc+W15cdQvkX3w+KLdzW10DzUt5eaxuoSQr5f+sOoXy88HH3hfuf06IQP70fekg/y7zTEmoarBJMwaDwRAIJrjPEJxchSz7QBxE+zLB0LI/XAaHwPPllwUNKXV644S8Y5m0xIt9idUxs2P8O2GW/wxhUemQ7N4SqzGiTNAP+g/8PpuJoC+/FDTcaPM+flG/UiYtlyQNIaqm45sMxpPCBPdZgniORpkWaXApEyyOnlB4+0DlI2ww2LgjQ1w2LXqRhg62WRPMYPy7YILLYDAYAsEEl8FgMASCCS6DwWAIBBNcBoPBEAgmuAwGgyEQTHAZDAZDIJjgMhgMhkAwwWUwGAyBYILLYDAYAlG1BZczw1iYg/RbiUhMyUFhqfOQGcJjNhQgO/UWEhOSkZajR3G1LA8OFpMB+qxUJMXHIe5WOnJLnfHKYFQkgtyiZsmOw/Vjv2LhnmiUOvz/DhLfzhgxsC0a+TlYE2RBYeo1hB/Zg98OhCE6rQAmqQ7OfsF44cXB6NfEFUrrjQHCUozw9bOw+Xw6MgvvzYgY9rVaom2PAegSSG+SII2FPgM3/zqOs5E3ERObgNS8YpJ/KQK6vYl+bQLha1dJ7Z0pBqd27sHeA5eQbL4nHyI5FLp6GDB5DFqoSdmIDIg7sRMHjp/HhetJSMvKQ6FJDJnWER4BwWjRtj3aNw+Ek7AXfJRgyUV67HH8/P0uXCnXsHzQOmQAOjQJgJuMQ378BZw9/Af2nr2OpLQcFBQZYZYooXXyQkCjdujbryPqOCogq4RiMV7YgB+2/IWYND29rKAMYruaqN+mJ0Z0D0K5R30b43F47Tr8eSkR6cUOqN+1L7q0ew7+OuHriDnxLA7u+wPbz97CvaYFsRTSwIGY9GoLOKtlpMYYEbVnBXYeu4SbWRbSFJZGBLWLP57r8yaGNhb2gPMKhR5A/k+kp6dzy5cv58aMGWONKcFgMHPu7nvJe9pxJzRvfoTbtSvF+kQJpoSz3KH/duS0chknk90f1K0+4dafiOEKbz+fFcUdWzuVe7mVP+esknDEbDiRWMYpHQK4pgOnchsv53F6o8X6dAmXL+dyAweeLZOWunUPcBs3Jlqf4Diz2cytXLmSGzduHBcfH2+NfRQKuC1vBnH+Topy8qHkanZ+i5v9Z27Jo5ZCLjvhELdgeGuucVANzt1OzSkVck4mt+E6TtvHnYo3lTz3mKwm+Xizfn1uDnk3O6xhq70b90Xw22XeAQ2hoXFcTo7R+k2C4SS3+pMXuYZqkp578yG35ey8hnLL0shj9BVbMrk/ZvTnOtZ24LRKBadUazmNWskp5CrOxr0O12rIRG7+nmguv2xx8Hz00SXOwWFPmbSMlodwO+XyO2meJ5VyvZo25c6cOWP91iNgSuKun/iC66EtJx80qFtwb4Ue5iJ5wzJxScfWcDNfCuIc1DJ6UQwnEolIEHNikmfXoHZcyOe7uIsZeq6Y/+WPToMGDbgjR45wJtOjl61++7tc2yAXTlFOPpS+7biBM/dy2dZny0LydXAu92prX85FQ96DshbXd9oG7kiq2frzRyM1NZWbMmUK9+WXX1pjSrhwIYdTKneVKcvWrY9ykZF51idKKA7/ift2ZGNOXV5dVxLb6bGYi8zSk1RTCrkDX/Tj2vkp739WpuBc6nTkxm3K5J8sDa3rwcGHyqSlY8fj3O+/p1qf4Li0tDRu2bJl3Ouvv26NefpQPZk2bRr3/vvvW2P+GYHacg4kdTBZJJA6N0Dn3r3Ru1To9UJdeNqrwZ8hxRUjNfIY9m7ZhN/OJsPs2hhdh4/GqL6N4FRwE+d2rsCiTeeQqjfe5wkIgcVigslohsbnObTs2LNMPjq3bIgAp9udBhOMRcTDvXwdaWZbeNV0g5qk2Gw0wmi+tzUXGlIeNB8mKWw8gtCsW+ny6IEeXZvAh3isvHFwZhQWiuAQ1BYvvvIOPvxkIiZOeAshnevBWX8NZ/7Yhk2b/sTl/MrJEWkRYDZZYBE7oW6n3uhZqjx693oBDb0dob1t5cSbtfOoixbdh+DVt8fjw48+wLuj+6GNlxlpVw5j87LVOHgjB/l3b4wSDouZtw2z2hv1mndAj1L56NW5NZ4PdIbM+mhpzOmnsTV0Aw5cuoV0fTGMRlKuFg7kn8qB3nVoJmkQ6+BY83l0LZWPPr17olcLX2hlEv7YcP5xkm+TyQyFSyAatul+51kaunVshYYeldF1qjiE7TzJNNDV7oV3J0/FlKlTMdUaPh3dGQ28bEuGEyxpiI44jzOk25en8UJQhxH4z7RpmPzBq+hRS0H0OBknN/+GSzlFMFSaaonh0nQARo77pFQ+JuO9Eb3Qyvf2xZQyqGz98cKIdzD+w4/w8Stt4KtTCDOG87CIbOHdsAuGfjjlTllMnTIRn3wwEM9p6HACfUaFWp2G47UPJuOz6dPw2eRPMfnTT/HhK33QtpYNzDkpuBV1ARFplTmgK4VMHYAu707GJGJbd/Ly6Rj0auQDJ16pxND5NEK7oe9h4pRpmD7jc3w+83PMmPwRxveqBYWIgzExHBEJhdCXuhRVaMQuz6HHy2/hP1Pu5mPy+FEY/EJNlL3ylKTRkoWL25di3f5YUpQO0KqVqJSRtnIQaT0Q0GYw3i+VjymfTsKkl5vCWSm9I7gl0Aa9PfqO/rhMfZowbiR61il1UeQzgLCCS6/CkCqgUckgkVBBcodvUAM0CPSAvUbOFwKnj0dCfCxikk1QOtdA4PPt0CbAGx6126F3KzeISQtqiD6DsJQi6E0lv7UykMhVUMhlkMsUUNu7wyewLurU8oarzvpKRSSfTg3x4vvEcN4cjv6t/GCvkFSZClGCCBIZyYNSARkpF5WtK3xq10dwfT84ku4Gn1SRBnU69Ue3dk0R6KqDgqiwSGEPZ1d3eDiryTPEW6ae+30DdkIjhVKjgkwigUxlC1ff2qjXIBDeDlooSzICjXsA6rdohxca+cPdRgkJTTJxApwdbSClV7KobWGrkkAicK0og1gGhVIOObUttR1cfGqhbt1A+LnpSnqAVjiLEfnXdmP50l2IktRB506N4UvKp8qcNCwivVlSN1QKGfmvCjonHwQ2aIRG/k7EhsQltlUKsVRO6pOC1Cc5lDonuNesg3p1a8Hb7tk6O1lY0zLrUXDzIFZ++xVmzfoK3yxYgZ93n8DlW7kotE56WLIzkJWRiUwiphqdDg6kwmQnxOEWifDy9SIGRSq4IQFxicUorrTZZQ4ZF3dj47J5+PqrOZi3aCU2kHxExGVVr5UUXD6SrxzBtsVz8NXXs/HtwuX4addRXEjIh9n6SHlYitIQF3MD0fE5EKsd4OQdiNqulVkxSLfUEItjq77FN1/Nwldzf8DSn3bhyMUEZOqN1BcsBYei7Fu4evI3bNu6CRt+WoNF2yLB2Xmhbvt+6FDbFjaKymsVuczLOLRpOb7/+ivM/nYRlv30Gw5diEV6acPiSJc95wYO/vgdNkdKUKP7GAxt4w8vmyokToWpiD2zHUvmkrr+9Tf4fsk6bD0Yjtgc0/2TaYScmyfx+0/zMeerrzF3/hKs3rIfp6NSUFCd6tNDIJzgEg9CTE0/7S9s3/ob9mzfiJXfTcH74yZg9rojuJRcAKqfnF6PQn0hCjkRaRlN0KdexI4fF+LHDSeRpdKUdHO5HGTTgvs7VahAxHI59NdP4uifpNJuWY/l336GiR9PxayV+3AhpbBSxpYfHTGkUiNpzC7jxM5t2LH1Z1IeM/HJu+9j8vI/EZ1rKXcckDPlIzViL/74fT+OXLfAIbAxWnXvhCY2lSdSImLFUnEGwrZvxe4927EpdD5mfPAOJny1GnsikpBTZojAgszoU9g0YxSGhozCmxPn4ZdIC1zrd8OYj0aipbsO6srycCXEsy28ifPHD2DXti3YsHIeZn76MSbNXIod55Oh5w2Lg9mQhcSToZiz6gKKa/TEmFe7IMjNBlVmtJN4txJTLjJIHdm5bQd2bArFolmfYOybE7FgTxRSC82l6gjRBakMhqRIhB3ehW3bNmHtolmY/p+PMfGbTTgeV1BN6tPDIYxpSUjXwrEG6jRtj54DhmLE8BD07/w8At20EKWfxc/fL8bWk1FIooOyREXNFlLZaUEQYU2PO4Gtq37Fzi17EV4shYwYnIgzwsSrs/X3C4YYakdfBD3fEd37D8WwYS+hT4emqOOhhTnhOHZvXI3QHZeRK3i6HhGRAlrSxQtq1o7kYzBCQgbhxc7NUNddBXPaJeybPx1zD6bf6XXcwVyEnBuH8cvKVVi/5yLyXZugQ5+hGP1iPWisjwgKUVqZ0gGeQU3RtucADB0xAsMGdEGL2u6wE2ciYtNCLN9yDGG3isqYCh0OsnXxgo+PFzxdHYlHSzxDYy6SYxORWUhsqxLKT6x2hHdtko9u/TB4WAgG9+2EFnW9YGtJQvgfm7Bi+Racz7GAI2WQl/gX1s9dgZNGb3QcNx59ghxhX96MWiUgkmtg71kbz7Xphr4vhWDYkP7o3qoe8b456GP24/tJc7A3Ls86HCiCws4dfsGt0an3IAwJGYIBPVqjsb8jpDlROL19CeasOI3MZ0hxBRFcsUMAGr78NXbu24kNKxbhu+8WYuWWXVg9oQNqOymB5CM4eOoGbiQZAZmMeF5SSEkVscARHoE9MHbyOIwZG4I2ymIYSSFxUEKhEFfCTS1yNHt3NTb8uhk/hy7CggVLsHbjKswZ3x8tPGTIv34FF08cQ7je+nhVRVoLHd/4Aj9u3YZfQn/EwoVLsCJ0BZbOHIz6GjMM+dexZf0BZBpNd70L0o0tTDqFjQu+x9JfjiNW2QCdQt7A+2/3R4NKWO/JI7aHW92h+HzXfuzesAKL5s3DghW/Yvuaj9Gnvit0SMHpw6cRGX0LxdavUJN3CGiOQVNC8dM68p1Z4zE0WEI8xo2Y8+5HWHY6GRlFwiuurOlb+G7dJvy6IRQ/LiA9ujU/Y9XcDzGqtSfkBTG4eekY9ofpYc5LRfwfP+KHo/lQNRiOUe1sYNFnIjW7AAYTKS3OjOKCHORk56LAIHwXUFKjHQZNXIxtOzdhzZKF+GHxMoSuW4n5rzSAltiQMXYbNh9ORw7vrstRf8jn+GHNFmxetxSLF/4Py9eswuIv3kYvfyWK05MQtW8XjueX/O5nAUEEV0Q8CqWDK9xUpf6c2A7PDR+AZi52pCD0SElKRW4eUSqNBmqNGmo6a0z0V+5YGz3e/AjjhzSGPC+vZPyHfNfBXgqJ4FP+pLJ6uEOnkN2ZnBCp/dGqRTO0CPaEiHhJuZkpuJVRxZtkkRZ2drawsy2ZqKSehtTWG74tBqJPAwm/ZCz/ZjSSjBbrWC4HU1YYNs6dhUU/H8ZV1EHXV97Dx+OHoLlzZfW/KTLIFQ7wcFOVMmQxbBoNQ6/n3UF62ShMTUJaTg7y7mioCDIN+Q7xilu06YK+w9/BrPnj0Iw04OLck/jtj2tIzzYI3nkS27vDVaeEkh8zI4jU8GneDM1bN4af2Ah9XhZuJaaj2FCI9JgYZBQXIuf4dPSq4wtvNzfUeOl77L6YCqM5Dvu+fQsjR07Ad7tulPwuAaETjzZ29nC4Mw4uhYb0ploM74fnZBzElnzE3UiCgVRu0leFjbMzbLRqyG5nW+GOoPrN0KNtACTEmy/KSUBMSiWNHVYAlVlbwOXnQ0+HEMj/y4hXKxFLILF3hqOTIxxJ4eRmZyIxNpZ4tRYYDAW4cuUmTKSQREo/1PQlXq68kjyrMnAoMhhI+qgPJYFYLKNOejWElINZj/zbO+jojDF5vfwb1l/Gr7OmYv7Gw4i01EWftz7Gf94ehOYuVWqR2124AugL6Rg/yQvtLVG7sv7oPujuJ2cizipaGTjiGWah2GwSXHDLgyN2VVxEbIskRiwWkzpSLQ2LON0WWGhdJ/mg71UmJw3933RP6VriwkI6DETquoiu2LD+4Bmg4gWXK0ZW4hUc3b4NR66ml8zik66FPvYQln+1GsduZaNA7Ay/AE84OqpJC+eHGn4BqFVDjuLkaEQe/R2/XYlH0sVt+OnPNFhEYqgatUEzRwU0gjYXHCzZp7Fj416cuZaGvGILOM6A9Mg92Lh5F/44lwRO6wRnL18EOJKEcUbSNY9D+OEDOHDwIA6GxSG72AwLZ0FeQgTOnThE4o8jLDoJmYIuKOagv3EaRw8ewJHLScil+TAVICPqKPasXIzNly1EgxTwavQcPGVEqCyx2PXlJHy78RguZtmhYaeOaBaoRV7kcRwiv+PAwcM48Vck4u+6kAJBekA5ybh5bBs2HrrCT8RQLPo4nAidjXVH45GYJ4ajrz88nZ2gs9zCxUNbsOp/67H7zHWk5BTBbDEgP+kifv9hNQ7nWUhjLoGzmyuUpMUUtCm3ZCNs1ybsO3UViTnFpBfHoTjjKg5v+hVbdp9BHKeBraMnAgKdoLTzQsNR87B561ZsLRU2zxyCFjXtIZW44vmhH2HKlLfxUksP6x8QCNJTjY84gUN7DyEsPgcGCwdzUSYSzu3Bj3M34oKZNGlST9QnvUG1kjQeeRdxePd+HDkfgzQ9aeSIVuTGncLeHRuwdt9NWBRaaD2D0KBSV8A8mMzMTH7409XV1RrzzwjgohiRmxiG3T9MxPoYNTQaDemSky4r8STSU5KRnm+CbeP+6NEqELWcyIsV2yGoSTO0aROMg6vO48rehRh/8SdojBlISOUgUdRAr9H9EWCjutMNEQRSCZB/AVtmf4dTuWbSK9dBhWIU5ZN8pKUjK18Bz+bPo023dqhNHRFLLrJubsfs1+biWDFH2p1cpGYWwkh+z5WtszFjnwIKmStajPoQb73+Etp5CGdURcSody5ci1/O50KtU0MhJV56TiYy09OQZlJC49seY195Hjq5BKLiSzhxJBKxSfkoNhXh8h+rMO/4Rn49Lo9IBY+G3TDy8zkY21BYD8ycl4ToPxbiP6tuQqXVQKtTwJyfg+yMFKSk58FgE4yB3VohuLYLpNxNJEUewMZvfkWEWU0qPPWcJOCK8pGdlkTyTbwp57bo3dEXjneGWoSiAJd3zMP8o2nIAqkfKjEshnxkpaUhPSsPUvcmaPhCT/QIkvMrZOxrtUAn37LDVgbZcYTqaLqVcPSrj+BGdeDnUnarRMVjQFL4boQuXofDGWpo1cTGRQbkZmUiPTUVBrECzm3fxLDm9rBVisClReFA6A/Yfi4RhRod1KQKmPTZyMhIR0aWCLY1gtAupB8aCZ2Nh+DGjRtYsmQJ0kgZDR8+3Br7zwjgI4ohkUghExuREXsVly+cw9m/LuBSVBxSDLYI7DwWk6e+jt7P+cCOr69i6Pzbosew1/BG33pwMBGhvXYVV+NyYHaoh67vz8LE3r5wUN7dHigYElJRpQVIiyOed/g5nA+PwKXoeGRYHFC7yysYN/5NjGzrBRVNGN1yWpyDlNhYxMbGIS4pG0X8ll66DjQFyQlxJD4BKVn5sDpngiGWK4jnWoDsW9dIeYTh/PlwXI5OQIbRFv7tX8bEOdMxsp62RFSJF68vNJZ0z4nXrs9Os6ad5ouGeCQkpyO3Erb9iSR0cb0ElsxYRF2+gPNn/0L4pauISS6C2r8jRk2cjDdfbIbaDsSwREpobWygU9KlcNcRFXkZFy+Q8ou6iVu5Ujg16ov3v/ovQhq7lhp/FAoJVCoJCtPjcTPyAsLOhyH84jXEZpigDeiIwWPH44PRHeBLDYsur5QpoVYTWywVVHIpJLSbTnqAtIciJ8Isu90oCoaY/F3iwxG7T75O3m/4eZwLu4So2DTkK3zRfPAkfPf1KDzvqoKCKo+EjlkbkJNCyi8iHOfDwhBx9SaSC+RwbfIiRk+YhI/6BkAtdDb+gdOnT2POnDkoLi7GyJEj0bRpU+tP/hkRPVDB+v8PJCMjA9u2bcPx48exbNkyayx5r6Q76uv7J5KSiqwxQPPmdvjss0D07OlijTGjKDcN8cSQrsYl4RapnFl5BkBpDzfS3fP1C0DtAE84aRWQ3nmxpEuVl4akG6TQLl/D9cQsFMsd4BEQhLr1G6Kutw7ye8aAIiPzMHVqFDZvTrLGAHXrajF9eiBeeqmka2WxWLB69WqcOXMGkyZNgpeXFx//cNANF8mIPBeJmHjSXU3JQFaBkTh49nD18oGffwBq+nrB3U5Z0oqR7lFRbizCjl1F+oPm0IgIOPoGIqCmN5x5lX541oSG4tg33yDg4kUEWePM9m645DMQk8O7W2NKCA0NRv/+7rCxKenQmLLjceN6NK7eiEdySjqyST6gsIWzpx/8/UkI9IeH1upxm5Nx+cQlJOQUotwdryIpv0PNt34w/O85/WzChMtYuTKedL3uHk4wWr4eA7GZvJ6SdQPRpEu2r1EjTF+8+JEMl2Ix5BHxjMT5K3G4lVhyklkR8fBsXWvAz9cPAbUD4O1MeiLUsLgiZCfHI/ZaNPHWk5GUmoXcAtJ9l2ng6O4LPz9fBAQFwot4t9LH3A7YsGFDLFq0CC1btiROxiP0WEijlnI1jJQHachupRDvroD4igrYuHjB28+f2IcvanjYo/Sc871Y0q/iXGQcUnMlcCL1JMDPHQ6PMcdBPbb58+fzIk7ryG0iInLRrNlRFBXdNebWre2JHgQjKEhrjTEhNzkGMVFXEB2fjOS0LOQVcZDpnOFB8lGThKBaHtCR8uBTVpyGG5Gkft+IQWJyGjLyimCWauHg5gW/gABSJn6o4Ww9Y6UUtK6HhJxHeHiuNQbo2NERn3wSgK5dnfnP6enpvGadOnWK90SfBlQqd+7cyQ/h1KhRg2hcT6Ixdfl39bAIILhWqMdnLEJBgR5FdLmKlHgctqQyyO7f5ncHeh5ukR75+UUwSRTEQ7FWnnKoeMG9DV14rodeX4giIzE+kg+NhngYinv3h1csTyK4JVhgMhTxm0yKjKQ86FpprQ5a3vV4OlS04JZAGkKLCUX5+SgoMpDmXQqF1pZ4snQStpwSITZlKi7iy89Ax9QlcpJv6vk+eY/psQXXCmc2kPLQo5AeG0nzodZArRL2uMgnE1wrpDyMxYWkrheh2MRBrFBDq9MSb9b68zJwsBBd4Dc7GUywiEl5aDT89v8HZbsyBLeoqAjr16/H0aNH0aBBA/To0QM1a9bkexKPgnBFSbo6ErkaNvZOcHFzhYuTLdR/J7YUEd0Xr4O9szOcHWweKLbCIiLapIGO5MPZxYVPl1pgsX06iCElFUFn71iSD0fbpyq2wkG8JbEMKht7OLm4wdXFCXZqWfliS6F7/En5UTt0dnWFq5M9bCpjeKocRKTRU+vs4ejsAhdnB9hqKuds3idGLIVMqYOdozNcXF3gZPcgsaXQIRIVNLYOpPxIvp3soPsbsRUa6o9mZWVhwYIFOHbsGN+YDho0CIGBgY8stpTqWJwMBoNR4ZjNZsTExOC7777DlStX0KVLFwwcOJDvGdNleo8DE1wGg8G4B4PBgLCwMPzvf/9DfHw8Bg8ejL59+8LBweFv1xD/E0xwGQwGoxT5+fn88MHatWv5+av33nsPHTt2fKTJsQfBBJfBYDAIdLyWCuz+/fvx888/85+nT5+O4OBgfoPD0+CpCy5d80ATStdtChks/OSp8GtBqwO0TCx01085760iA/27jGeb8sq9ogOt60/btuh4bVJSEn777Tf88ssv8PHxweeff86P1z7JEMK9PPVlYfXq6fDqq95o2dLeGiMMMTF6LF0ahwMHMqwxFbUsrGrwKMvCpk6thbZtHaHRPPpSpSdhwYIY7NyZgtzcu1dzPP1lYVWHJ10WVhV4lGVhwcE2mDgxADVqCHurbkxMIT777CqiowusMU+2LMxoNPLjtDt27OCHErp27YpXXnnlqXm1pXnqgluVYIJb9WCCW7V5FMGtSjyu4NLdYtHR0Vi3bh2uXbtGnMVX0b17xdUfNobLYDD+lVDP9ty5c5g7dy4/nDB58uQKFVsKE1wGg/GvZPfu3fw4rYuLC2bMmMFPjlU0THAZDMa/CurZ0mETOtTQu3dvTJgwAR4ewhxl+URjuHTG8LXXLiArq2Q8rqrh7a1CSIgHWrVy4D8/62O4sLFHTkBbHEcra0TVIyhlL2qmHARnKplIY2O4VYsHjeHGxhbi448v8/M2VZGGDW0wYIA7GjWy4T8/aAw3OzsbX375JX/S3ZAhQ/j1tTY2No+9c+xReSLBpd9MSCjkhbcqIpOJYW8vI8ZTYvzPvOCSSm5RaFAouucwkSqE3JgHmTH/zroeJrhViwcJLhXapCQDKbaqWdeVSglsbaX8MZeU8gT35s2b+O9//0ueUfE7x6i9abXap7rs6594IsGtbjzzglsNYYJbtXiQ4FY3Sgsu3Z5L6zw9wzYoKAgvvvgi6tWrx+dRaNgYLoPBeGahxypS4Z01axaaNWuGYcOG8ZNjlSG2lIf2cOmhu3TL2+zZs62x1Q/q4W7atAnh4eF455134O7ubv1J9WPzxo04S7pKvlevwt8aVx2JIR7u0bp18cGXXwoyS1yR0NOkvvjiCzRp0qTaeri0rq9YsYLvdtM6Ul2h943t2rWLF1tfX1+0adOG92zp5Fhlls1DCS49zGHfvn1Yvnw574pXV2hWo6Ki+G5T48aN+fvVqivXiNAmk4bDhhiWnYBjUE+bHJL2RHt7NG3fHs7OJYvWqyu0MacVm14qKOS44NOEeoQRERH8LitaR6orNB/0aMWcnByMGjUK/fr1g62tbaWXy0MJLt1nHBcXh0OHDiEvL88aWz2heaGeLjWo6lopKHw+jEZagNU6H9T86Ly3VKEQbKa4oqC7lqhdVed80PKgtkWpiK2tQkHzQesFXWM7YMAAyGTCXnD6IB5KcBkMBoPx5LBJMwaDwRAIJrgMBoMhEExwGQwGQyCY4DIYDIZAMMFlMBgMgWCCy2AwGALBBJfBYDAEggkug8FgCALwf4cBgRbdr5lXAAAAAElFTkSuQmCC)"
      ],
      "metadata": {
        "id": "hvoBWYZ63w4v"
      }
    },
    {
      "cell_type": "markdown",
      "source": [
        "먼저 이미지 모양의 2차원 어레이를 다음처럼 생성한다."
      ],
      "metadata": {
        "id": "lAO7FBHr38ky"
      }
    },
    {
      "cell_type": "code",
      "source": [
        "arr = np.arange(36).reshape(6,6) + np.arange(0, 21, 4).reshape(6,1)\n",
        "arr"
      ],
      "metadata": {
        "colab": {
          "base_uri": "https://localhost:8080/"
        },
        "id": "ZpLcwjhX3_Dj",
        "outputId": "fb3b1d75-3a91-46e3-8d51-47364f589156"
      },
      "execution_count": 138,
      "outputs": [
        {
          "output_type": "execute_result",
          "data": {
            "text/plain": [
              "array([[ 0,  1,  2,  3,  4,  5],\n",
              "       [10, 11, 12, 13, 14, 15],\n",
              "       [20, 21, 22, 23, 24, 25],\n",
              "       [30, 31, 32, 33, 34, 35],\n",
              "       [40, 41, 42, 43, 44, 45],\n",
              "       [50, 51, 52, 53, 54, 55]])"
            ]
          },
          "metadata": {},
          "execution_count": 138
        }
      ]
    },
    {
      "cell_type": "markdown",
      "source": [
        "- 초록색 1차원 어레이"
      ],
      "metadata": {
        "id": "ZmUb8qNH4PQg"
      }
    },
    {
      "cell_type": "code",
      "source": [
        "arr[(0, 1, 2, 3, 4), (1, 2, 3, 4, 5)]"
      ],
      "metadata": {
        "colab": {
          "base_uri": "https://localhost:8080/"
        },
        "id": "6XM8icUa4RNv",
        "outputId": "8a259b23-f88c-4b7a-f48e-28784052233e"
      },
      "execution_count": 143,
      "outputs": [
        {
          "output_type": "execute_result",
          "data": {
            "text/plain": [
              "array([ 1, 12, 23, 34, 45])"
            ]
          },
          "metadata": {},
          "execution_count": 143
        }
      ]
    },
    {
      "cell_type": "markdown",
      "source": [
        "- 빨간색 1차원 어레이"
      ],
      "metadata": {
        "id": "6WohLpdI4eRu"
      }
    },
    {
      "cell_type": "code",
      "source": [
        "mask = np.array([1,0,1,0,0,1], dtype=bool)\n",
        "arr[mask,2]"
      ],
      "metadata": {
        "colab": {
          "base_uri": "https://localhost:8080/"
        },
        "id": "kgoiSBqS4f_G",
        "outputId": "450c90f7-8923-4ed9-cd14-91521e6e96e4"
      },
      "execution_count": 151,
      "outputs": [
        {
          "output_type": "execute_result",
          "data": {
            "text/plain": [
              "array([ 2, 22, 52])"
            ]
          },
          "metadata": {},
          "execution_count": 151
        }
      ]
    },
    {
      "cell_type": "markdown",
      "source": [
        "- 파란색 2차원 어레이"
      ],
      "metadata": {
        "id": "w9smP8Y65SK0"
      }
    },
    {
      "cell_type": "code",
      "source": [
        "arr[3:, [0,2,5]]"
      ],
      "metadata": {
        "colab": {
          "base_uri": "https://localhost:8080/"
        },
        "id": "a8draVll5UMN",
        "outputId": "d7fd1853-eb8b-410b-dc45-11810dacb395"
      },
      "execution_count": 157,
      "outputs": [
        {
          "output_type": "execute_result",
          "data": {
            "text/plain": [
              "array([[30, 32, 35],\n",
              "       [40, 42, 45],\n",
              "       [50, 52, 55]])"
            ]
          },
          "metadata": {},
          "execution_count": 157
        }
      ]
    },
    {
      "cell_type": "markdown",
      "source": [
        "# 5.5 연습문제\n",
        "\n",
        "https://colab.research.google.com/github/codingalzi/datapy/blob/master/practices/practice-array_indexing.ipynb"
      ],
      "metadata": {
        "id": "s_pW_Zi46GDN"
      }
    }
  ]
}
