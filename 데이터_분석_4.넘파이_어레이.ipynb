{
  "nbformat": 4,
  "nbformat_minor": 0,
  "metadata": {
    "colab": {
      "name": "파이썬 데이터 분석/넘파이 어레이.ipynb",
      "provenance": [],
      "collapsed_sections": [],
      "authorship_tag": "ABX9TyMBgpxCTBH9Vqd3Op8dHsrG",
      "include_colab_link": true
    },
    "kernelspec": {
      "name": "python3",
      "display_name": "Python 3"
    },
    "language_info": {
      "name": "python"
    }
  },
  "cells": [
    {
      "cell_type": "markdown",
      "metadata": {
        "id": "view-in-github",
        "colab_type": "text"
      },
      "source": [
        "<a href=\"https://colab.research.google.com/github/siggu/Python/blob/main/%ED%8C%8C%EC%9D%B4%EC%8D%AC_%EB%8D%B0%EC%9D%B4%ED%84%B0_%EB%B6%84%EC%84%9D_%EB%84%98%ED%8C%8C%EC%9D%B4_%EC%96%B4%EB%A0%88%EC%9D%B4.ipynb\" target=\"_parent\"><img src=\"https://colab.research.google.com/assets/colab-badge.svg\" alt=\"Open In Colab\"/></a>"
      ]
    },
    {
      "cell_type": "markdown",
      "source": [
        "# 4. 넘파이 어레이\n",
        "기본 설정  \n",
        "`numpy` 모듈과 시각화 도구 모듈인 `matplotlib.pyplot`에 대한 기본 설정을 지정한다."
      ],
      "metadata": {
        "id": "F9j74s7qGpDN"
      }
    },
    {
      "cell_type": "code",
      "execution_count": null,
      "metadata": {
        "id": "WIL1VUseGgMx"
      },
      "outputs": [],
      "source": [
        "# 넘파이\n",
        "import numpy as np\n",
        "\n",
        "# 랜덤 시드\n",
        "np.random.seed(12345)\n",
        "\n",
        "# 어레이에 사용되는 부동소수점들의 정확도 지점\n",
        "np.set_printoptions(precision=4, suppress=True)\n",
        "\n",
        "# 파이플롯\n",
        "import matplotlib.pyplot as plt\n",
        "\n",
        "# 도표 크기 지정\n",
        "plt.rc('figure', figsize=(10, 6))"
      ]
    },
    {
      "cell_type": "markdown",
      "source": [
        "## 4.1 넘파이란?  \n",
        "**넘파이**는 numerical python의 줄임말이며, 파이선 데이터 과학에서 가장 중요한 도구를 제공하는 패키지이다. 넘파이가 제공하는 가장 중요한 요소는 아래 두 가지이다.  \n",
        "- 다차원 어레이(배열)\n",
        "- 메모리 효율적인 빠른 어레이 연산  \n",
        "\n",
        "넘파이의 기능을 잘 이해한다면 이어서 다룰 **판다스pandas** 패키지가 지원하는 모델링이나 통계 등 데이터 과학에 필요한 도구를 매우 쉽게 활용할 수 있다.\n",
        "\n",
        "리스트 연산과 넘파이 어레이 연산의 속도 차이를 아래 코드가 보여준다. 아래 코드는 0부터 999,999까지의 숫자를 각각 두 배하는 연산에 필요한 시간을 측정한다. 결과적으로 넘파이 어레이를 이용한 연산이 50배 정도 빠르다"
      ],
      "metadata": {
        "id": "Z8TfePcsHI3Q"
      }
    },
    {
      "cell_type": "code",
      "source": [
        "my_array = np.arange(100000)\n",
        "my_list = list(range(100000))"
      ],
      "metadata": {
        "id": "HfsH0qZ_HoUo"
      },
      "execution_count": null,
      "outputs": []
    },
    {
      "cell_type": "markdown",
      "source": [
        "아래 코드에서 my_array * 2는 my_array 어레이의 항목 각각을 두 배한 값을 항목으로 갖는다."
      ],
      "metadata": {
        "id": "uhxAj-IvHwNg"
      }
    },
    {
      "cell_type": "code",
      "source": [
        "%time for _ in range(10): my_array2 = my_array * 2"
      ],
      "metadata": {
        "colab": {
          "base_uri": "https://localhost:8080/"
        },
        "id": "9gEddd3iH2It",
        "outputId": "b1dfc769-b429-48db-b232-307ac794e7cf"
      },
      "execution_count": null,
      "outputs": [
        {
          "output_type": "stream",
          "name": "stdout",
          "text": [
            "CPU times: user 4.28 ms, sys: 25 µs, total: 4.3 ms\n",
            "Wall time: 8.27 ms\n"
          ]
        }
      ]
    },
    {
      "cell_type": "code",
      "source": [
        "%time for _ in range(10): my_list2 = [x * 2 for x in my_list]"
      ],
      "metadata": {
        "colab": {
          "base_uri": "https://localhost:8080/"
        },
        "id": "Zi9HIQbQH79v",
        "outputId": "dcd85b22-a394-48da-ed50-8581748c10db"
      },
      "execution_count": null,
      "outputs": [
        {
          "output_type": "stream",
          "name": "stdout",
          "text": [
            "CPU times: user 75 ms, sys: 24.3 ms, total: 99.3 ms\n",
            "Wall time: 104 ms\n"
          ]
        }
      ]
    },
    {
      "cell_type": "markdown",
      "source": [
        "이제부터 넘파이에 대해 필수적으로 알아 두어야만 하는 내용들을 정리하며 살펴본다."
      ],
      "metadata": {
        "id": "daTXN8IZIDWu"
      }
    },
    {
      "cell_type": "markdown",
      "source": [
        "## 4.2 다차원 어레이  \n",
        "리스트, 튜플 등을 `np.array()` 함수를 이용하여 어레이러 변환시킬 수 있다.\n",
        "\n",
        "### 4.2.1 1차원 어레이\n",
        "- 리스트 활용\n"
      ],
      "metadata": {
        "id": "lTZZuUCKIHKP"
      }
    },
    {
      "cell_type": "code",
      "source": [
        "data1 = [6, 7.5, 8, 0, 1]\n",
        "arr1 = np.array(data1)\n",
        "arr1"
      ],
      "metadata": {
        "colab": {
          "base_uri": "https://localhost:8080/"
        },
        "id": "HIapssEUIZcX",
        "outputId": "753ba984-db82-406e-a02b-50125ae47f73"
      },
      "execution_count": null,
      "outputs": [
        {
          "output_type": "execute_result",
          "data": {
            "text/plain": [
              "array([6. , 7.5, 8. , 0. , 1. ])"
            ]
          },
          "metadata": {},
          "execution_count": 6
        }
      ]
    },
    {
      "cell_type": "markdown",
      "source": [
        "- 튜플 활용"
      ],
      "metadata": {
        "id": "xBN7l9viIeSj"
      }
    },
    {
      "cell_type": "code",
      "source": [
        "data1 = (6, 7.5, 8, 0 ,1)\n",
        "arr1 = np.array(data1)\n",
        "arr1"
      ],
      "metadata": {
        "colab": {
          "base_uri": "https://localhost:8080/"
        },
        "id": "4feH115WIfyb",
        "outputId": "1b394d19-26f4-4ff5-a973-873cc32f82c3"
      },
      "execution_count": null,
      "outputs": [
        {
          "output_type": "execute_result",
          "data": {
            "text/plain": [
              "array([6. , 7.5, 8. , 0. , 1. ])"
            ]
          },
          "metadata": {},
          "execution_count": 7
        }
      ]
    },
    {
      "cell_type": "markdown",
      "source": [
        "`ndarray` 자료형  \n",
        "넘파이 어레이의 자료형은 `ndarray`이다."
      ],
      "metadata": {
        "id": "QNRNTp9pIkvk"
      }
    },
    {
      "cell_type": "code",
      "source": [
        "type(arr1)"
      ],
      "metadata": {
        "colab": {
          "base_uri": "https://localhost:8080/"
        },
        "id": "x39UpCfoIpEH",
        "outputId": "3473498a-5b56-49b2-cce1-03b39bcfc711"
      },
      "execution_count": null,
      "outputs": [
        {
          "output_type": "execute_result",
          "data": {
            "text/plain": [
              "numpy.ndarray"
            ]
          },
          "metadata": {},
          "execution_count": 8
        }
      ]
    },
    {
      "cell_type": "markdown",
      "source": [
        "### 4.2.2 2차원 어레이  \n",
        "중첩된 리스트나 어레이는 2차원 어레이로 변환된다. 단, 항목으로 사용된 리스트의 길이가 모두 동일해야 한다. 즉, 2차원 어레이는 어레이의 모든 항목이 동일한 크기의 1차원 어레이다."
      ],
      "metadata": {
        "id": "pcuCyuWuIqlx"
      }
    },
    {
      "cell_type": "code",
      "source": [
        "data2 = [[1,2,3,4],[5,6,7,8]]\n",
        "arr2 = np.array(data2)\n",
        "arr2"
      ],
      "metadata": {
        "colab": {
          "base_uri": "https://localhost:8080/"
        },
        "id": "KBuhUWPKI0Eh",
        "outputId": "bb11a934-12b6-4851-9b34-a46fa0c2f91f"
      },
      "execution_count": null,
      "outputs": [
        {
          "output_type": "execute_result",
          "data": {
            "text/plain": [
              "array([[1, 2, 3, 4],\n",
              "       [5, 6, 7, 8]])"
            ]
          },
          "metadata": {},
          "execution_count": 9
        }
      ]
    },
    {
      "cell_type": "markdown",
      "source": [
        "`shape` 속성  \n",
        "어레이 객체의 `shape` 속성은 생성된 어레이의 모양을 저장한다. 행렬 모양의 어레이는 행과 열의 크기를 이용한 튜플로 보여준다. 위 어레이의 모양(shape)은 (2, 4)이다. \n",
        "\n",
        "- 2 : 항목이 두 개\n",
        "- 4 : 각각의 항목은 길이가 5인 어레이"
      ],
      "metadata": {
        "id": "8TOV5ddiI6IF"
      }
    },
    {
      "cell_type": "code",
      "source": [
        "arr2.shape"
      ],
      "metadata": {
        "colab": {
          "base_uri": "https://localhost:8080/"
        },
        "id": "TavzeOcFJIL5",
        "outputId": "d512aa91-37e6-43af-e3fc-c70047fe4efa"
      },
      "execution_count": null,
      "outputs": [
        {
          "output_type": "execute_result",
          "data": {
            "text/plain": [
              "(2, 4)"
            ]
          },
          "metadata": {},
          "execution_count": 10
        }
      ]
    },
    {
      "cell_type": "markdown",
      "source": [
        "`dtype` 속성  \n",
        "어레이 객체의 `dytpe` 속성은 어레이에 사용된 항목들의 자료형을 저장한다. 어레이의 모든 항목은 **동일한 자료형**을 가져야 한다. 넘파이는 파이썬 표준에서 제공하는 자료형보다 세분화된 자료형을 지원한다. 예를 들어, `float64`는 64비트로 구현된 부동소수점 자료형을 가리킨다.\n",
        "\n",
        "arr2 항목의 자료형은 `int64` 즉, 64비트로 구현된 정수 자료형이다."
      ],
      "metadata": {
        "id": "ePjFPCLmJJ6e"
      }
    },
    {
      "cell_type": "code",
      "source": [
        "arr2.dtype"
      ],
      "metadata": {
        "colab": {
          "base_uri": "https://localhost:8080/"
        },
        "id": "ruMogoXkJbb9",
        "outputId": "d3ba1d57-3d94-4c46-d6e8-af8a3ca8165a"
      },
      "execution_count": null,
      "outputs": [
        {
          "output_type": "execute_result",
          "data": {
            "text/plain": [
              "dtype('int64')"
            ]
          },
          "metadata": {},
          "execution_count": 11
        }
      ]
    },
    {
      "cell_type": "markdown",
      "source": [
        "`ndim` 속성  \n",
        "차원은 `ndim` 속성에 저장되며, `shape`에 지정된 튜플의 길이와 동일하다."
      ],
      "metadata": {
        "id": "H6Ysxln4JdXI"
      }
    },
    {
      "cell_type": "code",
      "source": [
        "arr2.ndim"
      ],
      "metadata": {
        "colab": {
          "base_uri": "https://localhost:8080/"
        },
        "id": "G2FiC2djJji7",
        "outputId": "457fc6ad-e813-43a7-a70a-6da47525d043"
      },
      "execution_count": null,
      "outputs": [
        {
          "output_type": "execute_result",
          "data": {
            "text/plain": [
              "2"
            ]
          },
          "metadata": {},
          "execution_count": 12
        }
      ]
    },
    {
      "cell_type": "markdown",
      "source": [
        "1차원 어레이의 차원은 1이다."
      ],
      "metadata": {
        "id": "sAv1IuvJJl3a"
      }
    },
    {
      "cell_type": "code",
      "source": [
        "arr1.ndim"
      ],
      "metadata": {
        "colab": {
          "base_uri": "https://localhost:8080/"
        },
        "id": "RxKTs2AQJlXM",
        "outputId": "c0d0e3fb-dd5d-4640-f129-9c1f77f25476"
      },
      "execution_count": null,
      "outputs": [
        {
          "output_type": "execute_result",
          "data": {
            "text/plain": [
              "1"
            ]
          },
          "metadata": {},
          "execution_count": 13
        }
      ]
    },
    {
      "cell_type": "markdown",
      "source": [
        "1차원 어레이의 모양은 어레이의 길이 정보를 길이가 1인 튜플로 저장한다."
      ],
      "metadata": {
        "id": "7-w18FaGJpv-"
      }
    },
    {
      "cell_type": "code",
      "source": [
        "arr1.shape"
      ],
      "metadata": {
        "colab": {
          "base_uri": "https://localhost:8080/"
        },
        "id": "aQ32GPOWUiCx",
        "outputId": "3e82247a-da28-4988-ff5c-589129500927"
      },
      "execution_count": null,
      "outputs": [
        {
          "output_type": "execute_result",
          "data": {
            "text/plain": [
              "(5,)"
            ]
          },
          "metadata": {},
          "execution_count": 14
        }
      ]
    },
    {
      "cell_type": "markdown",
      "source": [
        "### 4.2.3. 3차원 어레이  \n",
        "(n, m, p) 모양의 3차원 어레이를 이해하는 두 가지 방법은 다음과 같다.  \n",
        "- 방법 1: 바둑판을 (n, m) 크기의 격자로 나누고 각각의 칸에 길이가 p인 1차원 어레이가 위차하는 것으로 이해하기. 이미지 데이터로 이해하는 최선의 방법이다.\n",
        "\n",
        "- 방법 2: (m, p) 모양의 2차원 어레이 n 개를 항목으로 갖는 1차원 어레이로 이해하기.\n",
        "![image.png](data:image/png;base64,iVBORw0KGgoAAAANSUhEUgAABRgAAALGCAIAAACh6WqbAAAgAElEQVR4nOzdV38cR5Ym/HDpTXkHS1Ik5VqzPTv72/n+1+++Oz3daolGNDCF8ja9i9iLBEGKrgW1djWknr8kCCSqsjKreMEnz4kTVClFAODTl6ZpFEabzebZs2cvnr+Ik1gpRSm1LMs0rWaz2el0Op12o9FoNpq6oQshKKOU0t/7xAEAAAAAPjHi9z4BAPhtcM4t05INeXx8bJhGkRdKKUKJruu6bjiO43me6ziWZZmWKYQghBCEaAAAAACA26OoSAN8HqSUVVVVVZUmaZImVVkpoiihXHDGmCY0oQld0znnQghKKVI0AAAAAMCvgyANAAAAAAAAcAvs9z4BAAAAAAAAgE8JgjQAAAAAAADALWDYGAAAAAB8PpRSSqksy9I0jaM4iqMoitI0K4q8yAtFFFFEcCF0oWmabduO4zi2Yzu2bdmUUcberjNJKauyKvIijMIwCrMsK/KirEpKXg0cUfWXer0kpYRQShlnnHNNaJqu65qmG7qhG5qmcXE9rAQbZwB80hCkAQAAAOBzoYiSqqqqKIrW6/VquZrOpvPZfLfbhWEYJwmRSimlG7plWa7rdrvdXr836A8Gg4GmaZzzdyNuVVVFXoRheDW5mkym+/0uiuIsS19P7qyDtKq/o5QSxpimaZqm2Y7jOq7rup7n+b5n27ZlWYwyxhmCNMAnDUEaAAAAAD4HSqmyLJM4ieN4Op1eXV2Nx+Orq6vpdLrdbqMoSpJEKaKk1HXdsizHdXq9Xr/XPzo+iqIoz3PP8zzf0zTtzTgtK5nl2T4Ir64mT548WS6X+/0ujmLGGGWvH6YUUUrVz6uDtK7rju24nuv7jWaz0Ww2G41Gs9n0fd80TdM06+r0uzVwAPivD0EaAAAAAD559TaQSZxcXFxcXFy8ePHi+fPnFxcXYRgGQVCWpZRSSnVdOY4U2RDO+OXFpWmao9Ho9PT07t27X9z/4sHDB77n1z3Y9ZGrskrTNNjvxpeXT548nkwmm80miiLOuaZplFFKKKNMkZvNcBQhhDPOGBOaMAzDMAzP9VzP7XQ6/X5/MBgMBoPhcOj7vuM4lmURQrAtJcCnBUEaAAAAAD55dUd3HMcXFxd//etff/jhhydPnozHYyllJSshhGmYQhOEEEponudZnhV5UVWVrGSn2zk/P5/OplLJfr9vGAZj7CZIl1WZZuku2I2vxj/99NPF5cVmswmCwDAMTWicc8ZYXVWui9KKKKUkeRWsKaWMMdM0LdPq9XoHhwenp6f379+vf1qfGGWI0QCfGARpAAAAAPjkxXG82WzG4/GjR4++//77y8vLKIo0TXM9z/c9z/U817MdmxJKKY2TOAzD/X6/Xq83602e57P5TBHVbDbb7Xae58PhsGN0Xh9dESKJlLIsS1lJQoiu6Y1Go9Pu2I5tGqamadfTxpRSSkkiq7Iqy7J4pS6Y74N9dVHVRfL1en3n9M7pndPDw8N62pkQAnVpgE8FgjQAAAAAfPKiOJpMJk+fPn38+PEPP/wQRRGl1Pf9O3fu3L17bzAYdDudRqNBGWWU7YP9ZrOZzWaPHz9+9uzZPthvt9sojhrNRqPR4ILbjt3pvg7SlFLCSL1wmguuCY07/PDg8MGDB91u1/N8x7ZvHqyUklJmeZZlWRhGQbDf7fe7zXa726ZpGobhYrFYb9ZXk6vVcpUkCSW01+8ZpsE5fz0JHAD+a0OQBgAAAIBPXhzHs/ns4uJiPB7PF3NGWavVGgwG9+/f/5d/+ZfDo6Nup9tqNusNruqC8Hg8JoQkcVKW5TycB2Ewvhw/az9rt9vHR8dKqetY+0ayrZdD1xPC+v3+w4cPDw8PO92u7/lv5t9SllmapWm63+83m+16vZ5MJtPpdLlcrFarMAzLqtzt9rKUQgjDMAghvuczyrjGGf0NZo/Ve4ApqSpZSSnrenjdTH49EY1c3xSo+9I54/Vi7w/FeKVUWVZSVq+fzijn/K2X4JQzcX1AxhlRpKoqqWR9OowyzjnjrD63siplJcuqrLvfGeOCcy7evpugpKr78+UrSr5qoiev7m7w1xfy7kT06zejklJJKeXrZ73vwR9y/R5KJZUkhLx+07CT2R8VgjQAAAAAfPLSNF2v14vFIs1SIYTnesfHx/fvP/jyyy8fPHzY63YdxzFNs449QhOmaeqGvt/v0zQtZRmGYZIkYRROp9PFYhFFkZKKUPJ2JCOqTn2a0DzX6/V6BwcH3W632Wz+7GFKFUVRVmWapkmcBGE4n83m8/nFxcX52flkMonjOAzC8dVY0zWlFKHEb/iEEsuyDNP4598NJVXdUh4ncZIkWZplWVaURb2SnHNeT0ozX7Fsy9CNulz/zrEIIaQqqziKwjCUSjFKhRD1E/MiT+IkSZIsy9Is1XXdtmzLtizTsmy7LMssTbMsq0/GNM36U6ib3uM4DoIgSRIuBGfMdpyG79u2zTi7OQ2lVF7kRVGkSZokSZqmRVHkeV5dJ2opNE1wbpimVV+IZZmWKbh487OTlcyLPM/z+u4GpVTTNKEJ27RN2/wlMVhKmaZplmZ5nteN+vXl67r+5lw6+ENBkAYAAACAT16aXAfpLM2EEM1m887pnW+/+ebrr7/+8suHnuu9WXF1XEe1lN/w63L0dru9vLycL+ZRGM3n8+ViGUVRVVZccKrerI0SoggltN7dyvO8fr9/cHDQ6/farfZb51PXLetaaJ7n69V6tVo9fvTY8zwu+NnLs/liXpZlVVVFUfgN//j42LIsIcRvEqTrwyZxstvtdrtdGIRRFMVJXC/zFkLUKdr3fd9v+L7PGBNccMIVVe8Gy7qcG4bxarWuqopzpuu653mMsTRNd9vdbr8LgzAIA8uyWq1Wo9EgDWoYZpEXcRSHYZikSZIkvu9zxjVNy7M8TdPNerNYLva7vdCEEFqn09a4MA2TvKoYk1e3JNIkDYJgu90FQRDHcRzHZVmUZamUMgxD1w3Xdf2G73ueIkrXdcV+dhVlVeZZXuf2IAgYY4ZhWJZFCTVMg/yCDgAlVZZl+2CfxEmapJWUnuf5vlJ1aRpB+g8JQRoAAAAAPnmWbfW6vZOTE8uy2+32cDi8/+D+yelJp9Opd2x+88H1mmdDN1zXbbfbrudqmla3Ddclx7oRWkr5s3naPw+YddhjjAkh3o1SnLz+HcGFbEkhRJZlZVUyxqWUURIXeR5F8WQyGY/HFxcXhmkYhuF67q9+E6SUWZZlabZer+fz+WKxWK/X6/U6juO6LCylrHuz63sBrut5ntftdgeDfq/XazabzWZT0zTO+c2FSyWrsori6Pzs5eMnT/I8F0JYptkf9Pv9/m63G4/H0+k0DMMoiprN5tHh0dHxkVLKsqxgt78YX0wn0+1uu91u+73+vXv3+v3+crFcLBfT2XQ2m+33e9t2bNs+PT3hjNu2rRs65zzLszRNgyBYzBeLxWK1XK23m/1un+d5nmVldd1nLoQQQti27Thus9mo9xVrtVqNZsN1XMYZY6zIiyAIVqvV+HJ8Ob5USpmG6Tf8e/fu6YbhOPZH2rOllGVRxnF8cX5xeXm53WyjKFJKHZ+cnJycdEhb40I39F/9kcGnC0EaAAAAAD55ruseHh5WVTUaHYRh0O1279y5c3x83Gw1OX9/wZAyapqm53m2ZdePqWRVVVVZlXXf8HtWDL9Zn36FqH9wbowzy7I0TatkxblmmlaaJPvdfr6YB2GwWBTj8fj8/Nxv+O3225XtW5GVjKJov9u/ePHip59+Ont5tlwuV+tlluX1WuWbMyeKUEYd27EsezQaHR8f37lzenx8rGma67r1+uGbY5ZVGYbhi5cv/vf//v/jONF1zXXco+OjMAzn8/nTJ0/Pzs+iKIqiaDgcxlFMCDEMo9vtbvfb8/Pzp0+ezuaz2Wx2cnIilczz/Pnz5y9evhiPx3WQrgN8WRTNZrM/6FNGdUPPsmyz2cyms2fPnr148WI+m69Wq/1+X39G8tUGY5RSQolpmJZlNRqN09rJ6bE8NnWTK041WhRFfaqPHz/+8ccfy6q0LKvT6XAuRqMD0zC44B8K0mVZplm62+3Ozs7+/v3fF4vFPthTStMsdRzHtEzLtv6Zjww+XQjSAAAAAPDJsx13NBrpup5lWZ7nvu/3+r1Ou2PZ1oeCdK1OYrXrcVWcM8bomz/42RMIUUQRpa43vLreL/rjL6Hruq7r3W7P0A1NE7PZbDqbJmmy3wdBHKyWq/F43O/3j4+PpZS/Yn5V3X2dZulqubq8vHz8+NGPPzx6/uJ5XSiux3EJIeprkpUsykJWcsM2jLHdbheGQRxHSirXcSmhjuvc1NiVUlVZpWk6m81++ulZGAWa0FzHTdO0LMvlcvn85fPx5TjP8zzPdUPf7XdxHOd5XpZlFEXz+ezs/Ozy8nIymSRJ4rleVVY/Pfvp2U/P5ov5drtNkrSsSqVUEAZZlpVFWZZlnhe73e5qfPXixYvHjx8/efxkvV0nUZxmGWecc14vgVZKVVV1Mz/MNM0oisIwvC6b25Zt245wKlnVS7IXy8XLs5dJmuhCb3faw+Fgt/u6Xpeu6+/v8C7LMomTzWYzvhw/efJksVhEcaTp2nA4SpOkLEsl/9F9FPhMIUgDAAAAwCfPtsxOp2NZVlGWVVWapuk6rmVb1+nxfaSUYRTO5/P9bl/kBedc13XP9VzXrTej+vlI599gmLYQwnacVrs1HA6Ojo622916vU6SOIzCyWRyeHBYnwnj7COn/V5lWRZZsd1unz9//v333z958uT58+eL+cK0TcdxGo1Gs9n0PK9u6s6yLI7juna9D/br9TrPs/1+Tym1bbtuaDdNk5DXFfh62lYQ7He7HWMsDEPGWCWrNE2LvLAsy/M9wcXh4eFwOGy1W7ZtCyGKoojjZL/f7/a77Xaradqz58/SNJ1MJtvtlhDSarf6Qms2W+12q9/v+56vaVpZlmEQTq4mjx49evTo0YsXL87PzxUhtmn1eg3Pc33f14RGGVVKpWlaT0ff7XZRFI3H4yAI8jwXXOiG3u/3DdPQNM1xHNd1NU1TSsVRvCt2URyPx1ez2dQ0jWarqevae9/YPM/3+/1yuZxMp+PJVbAPiFKapmlC2I5tmebHb9PAZwxBGgAAAAA+eaZpGoZRlwelkoyy662JPrylU1VVYRgul8vtbpsXOaXUMAzP81zXNQ1TaG/+Pfnt2d31/15//WV0XdM0oZQcDAfHx8ez2ezi4kIpEkXRbDqbL+bBPsjzXNf12/4lvaqqJE12292LF8//8pe/PPvp2dXkKozCw4PDXrd3eHh4fHw8HA7rSnscx9vtdrVcPX/xfLPdBsFmuVrMF3PTNNvttmmZrue2Wq3rcV9EEUKklEmS7INgu90SRbjGpZT1gPSqqizLqtuzDw4ORqNRq9VyHIcxVlVVkiRhGAb7YL/fK6JM06r31g72geM6nXa32+02Gn6j0RgOh3VCzvIsy5PJZPrkyZO//vWv0+l0Ppv7vu8f+4PBYDQcjkajutFAKbXf78MwfPnyZd1bHgTB1eSqKArHcRrNhm7o3V5X45pt257nCSGklHEc7/Y7sdvWq7sbjYZlW57nvfeNzfM8CILlYjmbzaaTSZbllmV6vic0Ydu2aZpCIE/9QeGDBwAAAIBP3nU7NCPkjUFf9cCwqqrqXYjrnZBlJeMkjuN4sVj8/fvvf/zxx/lsrqTyfX8wGDx48OD45Nhv+D8/vHrr2zpeXjd43/I8hRCO7bSaLd9v2LYlBC/LMgiC/X4fxXGe5Zxxpb9nevZHlGWZpmkY1q3csVTSNE1N005PT7/77rvT09PhcNjpduq7C3W4Xa3WXHCiyHQ6Xa1XURDV+113Op1+v18UxeuafL3rNKGEkErKsix4xYuyIIo0/Eaz1Wq1mo1Gs9VqttvtbrfX7XY8r6EJrX5W3YBdbwa2220NU3ddbzQcdXu9fq/X6XYdx7Ftq9/vN1tNrokyieM4jqIwjpOiKDRN8xv+cDh68ODBwwcPev3+YNA3DZMyqohK4iSO43oEN2NstV5t1pvdbjefzyeTSbvdTtPU0AzDNBqNRrfb7ff7QRgEYZCl2Wq1evnypd/w/Ybf7Xbfekvrjv00STebzXwx3+22SZoKzn3fHw6G3U7Xcz0TFek/MARpAAAAAPhslWWZF3lZlFme53leFkWe56v1aj6bX15efv/993//4e/bzVZK2fAbx0fH33zzzb1793zff+dI8rc6JcaYZVmNZsP3PcuyhaZVlQyjKAjCOI7zItd07ZbxnFRVlWVZFEVpmuZZxjn3fd+yrK+++urf//3fj46O6tZuQgkltN5UebvZcs4pZVKpfbDfRbvtdjudTofDYRiGZVESQhhnhBBGGKWUMsopU0pWRSWpVFIJIXq93sMvv7x3757nuZ7nOY5rWVad4YWmMcrqGrhSSkmV53kQho7jnB6ffvfdd0dHR/1+v93pCME1TbNsy7EdLriUVZLESZLmeSalcmzHsqx79+5+9923//Ldf2s0G81mU9M1SilRpCiKsiwdx6m3ni6KYrFYBEGwWCwmV5PRcBRHqdY0TMNsNBv9fv/o6Gi9WS8WiziON9vN2dlZt9s9Ojp6z3uqSN06vtlslstlEAR5lpm+3263j46Oer2e7/uoSP+R4YMHAAAAgM+QUqosyyiOgn0QBMFutw/DMMvSPM+Xy+V0Or26mpydvdysN4SQVqvV7Xbv37//4MGDo8OjDzX6vnF0ctta9I26h9x1Xdt2TNPQhJBKplmapHE9Kc00zX84wOy9BBeO47Y7HdMyGWfNRvOrr776+uuvB8OBZVmGcb1DtZSyKquG3wjCMI7j5WJxfn5eVmWcxOv1ervdxnFclAXj7PoSGaGU1t3yRBEpJaH1azn9fv/evXvffvut49i2bXPOGeOU0noyOH1jZlslKyaZlBWltNvtfv3116enp+1O2/cbdem9rn4XRcE4Y5SZptFoNPv9vq5ruq4/fPjwy4dfPXj4wLZtx3UYu16yXg9OL4vypq+bEJJl2X6/X6/X+yDI81RJj+uG4zjdXvfo6OhqcnV+fr7ZbPa7/cXFxcHBwX63r8qKMvrmYauqqqoqiqL1er1cLuM4llIahtFpdw6PDjrdjmVbmqbddiwcfDYQpAEAAADgc1NPsc7SbDqdXl5cXlxcXFxczuezLMvzPIviKAzDJEmUVHXH79HR0Z07d7788svj4+Nms3mTOW+w32LY2A3OuaZpuq5pmsYFr8pKSlmVsirLqqjqXaxvdUBDN3zPH41G//Lddw3fz4uMMW5Z1v0H91vtlmmagr/+az+llAuu6ZrrOO12y280LMvknKtKpWmWJGme57KUSn/VuC5fP5EyShjlnHueNxqNhsNht9vxfE/XtVet4K8eq65Xlt9ETV3Xfd/vD/qD4WAwHLTaLcu2OWd1nbz+hzPuuR5R5MGDB6Zp3bt3TwguhBiNRscnx47jXNeib66FUEKJYRrNZrPT7biOqwmNEFLkRRzHWZrmeV5VpVKaEKLVbB0fH5+fn3ueN5/P4zi+mlxdXV1tNps4ievJ6tcrw5UqiqIuRy8Wi8VikWUZF9x13F6vNxoe+L4vuPjQZHf4I0CQBgAAAIDPjVKqnik9m82e/vT079///dGjRxcXF3meF2VRVZWSigsx6PdHo9HDBw//9V//9bvvvmt32p1u5yZN3fht01KdYw3DMAxd0zTBxXWQrsqyKouqkErettyt67rf8E3LbDQa9x/cV0oxxoQQruc6jvPWDPB6Pbmu667rttvtRsOv1/pWUiZpkqZpURSlLKuqunmKUupmpTSjVHDu+f5oNBqNRu1O2/c98kZgJtcLyesnvP5NXdMbjcZwMByOhsPRsN1pv7vRF+PMcRzTMD3XOz4+zrKMMUYpsyzTcZ16lvjPnkIJJdQ0zWaz2ev2XM/VNI0QUpRFnMRJmtQbcSmpOOetVuv09PTZs2ee53HG4yTOp/lkOlmv10mcEEJuKsx1I3oURbvdbrVardfrLMs0obme2+11RwejRrPBNY4U/UeGIA0AAAAAnyFKKKecM84ZF0IITQhNqFfKqqrKMo6TzWYznU4vLi5831dEua7LOeec/zwWKknIzzaP/qfPjV6Xdyl5lQyVerUl9e1fgTIqhKCEMsp0U6/KqpKVrGQURvvdvizLLM+KopBSKqmUUoqoLMumk+l0Np1MJmEY1iPZiHrtrZeof5NSShkTQqsndbuea+jGP2hvptcXKDThe36n0/FcT9f0mz7qnz2W0nofb0IJF9yyrLIsq0pmWRHHi7Iqi6Ioi7KsyutrIYoostls5vP5+dn5erWuN5GWUl5fxqvr5Yy7riulHAwGg/5w3B4nSZKm6XaznU6n4/G41+8ZhqHrOiFEKpmkyX6332w26/U6CAJKacNvdDqddrvdbDYty3rv+cMfB4I0AAAAAHxu6qTKONOEZhimbTue5/men2d5VmRZkqU0LcoySeLlotJ0rS5jMs467Y4mNGKQ1zGpzrZKqrowq35N0P3QSRJKCKVvbq/161ZHU0IJI1zjlFGhizzL0yzN0my73e52uyAIwjCM47gsy6qs6jCd5/l6vV6v1xcXF/v9vigLedNSrt5ZBK6uh28RQhhjQnDbsjzPc53rCvD7KEpep2hCiCY0z/Pa7bbt2B9JoXW/tKZpjDNRiSRJsywJgt1ms9nv9/UO2PWMsaqqpJJSyjAIt9vtfDZfLBZ5njPG6o3QCHl9FYwz27E1XRuOhoeHBxeXF7PZdB/sd7tdfSdF1/VOp1M/WEqZJul2u91sNtvtNgxDz/N83+91e512p+E1LNOqx5vBHxaCNAAAAAB8dihhjHHOHcfpdNqj0agocsMw8iwv8iKKozCMkiTOszzP8/1uf3Z+Vlalbui+5+dF3u60fd+/2YP6VaBU5DcK0VJKWcmyLKWURCpCCKWUvUJ+xfwqWtfNVR2hd/vddrOtp2Qt5osgCMIoTJKkDtJ1hbYsy3oT5vl8HkVRXcSuL7N+wLuXWlekOWWCC8MwHMf58Nhq9cZ3199zwW3L9j2/3rzqQ5eiiFJK5UWepmkUJdvNer3eLBeLxXK5Xq+TJI7jOM+LqirrxeRKqXpDr/1uv96si7zQdV0RRQmlhN7c+KhnvBmG0e10R6PRaDgKgr2UMgiD6XR6fn7earVOTk6Ief0BxfH16LUgCLMs73T0bqfb7XZbrZbjOrr+/oo6/HEgSAMAAADA56bOwLqh9wZ9oWvtTufuvXvBfleXMaMwCsJgs9leXl5Orq6iOFqtVvv9vizLKIy++fabP/3pT47t1OOjX5eNCflNZksppepNlesZ3UVZEKW44JouNE3TNF1wfttqZ93DnKTJeDwej8cX5xfnZ+dXk6v9br/f7/Mil5WsZPXGVC+qlKzPYbfbJWlSVmXdBf2BN/R6cFj9hXLKOReauN5o+kNnRV41V5PrmwVccCHERyJoPWu9Kqv5YnF1dTUej8/Pzi4vLtfr9T7cR2EkpSzLkihycyGU0rzI8yxLkiSMwusLITezzshbn5njOgejg9PT09lsyhhLk3Q2m718+fLw4DDP8/odqIpqv98vlovtdptlKaXEcZzBcNDr9zzP03WdcyyQ/qNDkAYAAACAzw4llFJN1/r9XrfTqRuAX9VZVRRGQRBMJpP/9f/9r//4j//46dlP09l0v9/HSbzZbMqq7PV7d+7coZQq+k6w/KfjUz0ROkmTNEuzLCvLkjEmuNCEpmm6pmmc819xzKqqsjQbj8ff/+37v//97z8++vHi7CLN0jRNKaVCCP4K44xRTimtqrKSVZZmaZIqol5VpN+54jos38zgZpRRxjgTQgghPlhbVjdJ+romzSir4zcX/CNZuqpknhfLxfLJ4yc//vjDox8fPf3p6X6/z/KsLMq6aM85F1xwzilnjDKp6lltZZqmeZpLVxJFPjRS23Gc0eHodHXy5MljznmapfP5/Ozs7MsvvyqKUlWKMFpVVRiGi0UdpDNKqeM6w+Gw1+v5nm8Yxpst6/DHhCANAAAAAJ+n64leb2U2RTjj9XzmL7/6sn5MGIVxHMdxPJlMLi4uJleTxWLheq7ruK+PdhPL6M365l9DSZXEyWaz2e12URwVRWE7tmM7vu87jmMYBhfaRzqf3ysMwvV6fXl5+df//Otf/vKXi4uL7WZLGOl0Oo7j2Lbt2I5pmxrXhCYY44wxJWUYR3EULRaL2WwWx3HdpP0Lp6n948t/4+fqzTHeH6nrK1IUxWq5XC6WP/744/fff//40aPFclEUheu6A2dg27ZpWbZlaZomhKYJUTfEZ1mWJPF+t7+aXM3VvJ4V96ECu23ZvW7v8PCw1+v5vp9lWRzHs/lsPp8t5nMhhK5pcRRvN9vFYhGGIaXUtu1mo1n3dRsWUjQQgiANAAAAAJ+bOj19KOlQomkaZZQx9vDhw1azlef5ZDpZLpZ5ni+Wi6urq6urq8VioYiyLOvV0xh5Kz2+0ex8K1VVRVG0WW+2m20cxUVRCC583280Gq7rmKahCX7bnLYP9ufn5z/++Ohvf/vbf/7nf4ZhqJSyLfvOnTsP7j/oD/qddqfRaNQ1ZMYYpbQsy/lisZjPHz16VFXVbD7ThEYp/eWrwH/drYSPX1qVV8vl8tmzZ49+/PHv33//4sULRQijrN/r3/vi3unpabPZbLValmkJIbgQjFLG+X63WywX4/H4L3/5SxiE9XZfN5Xwt1iW1e12wzAcDAbtZnu1XqVpWi8mn8/nhmHYjpMkyWa7qVePU0odx2k2m71er9FsGKaB7aOBIEgDAAAAwCet7h0uiyIv8rIsCSFEESFEPYv73Z2KCSGMM53rQghN09qt9sXFRafTMU0ziqIkSeodj7abreM6r4Y/0ze+vHm02yWqen1vnMTb7XY2n6236yRJpJSGYbTb7ZspVrdq7a57p8MgvBpfPXv+7K1podAAACAASURBVOXLl+PxmHHWbDT7/f6DBw/+7d/+7ej4qNftNRoNTWh1bzchJMuzs7OzemT32cX5crW83fSs97wbb/6Qvl6l/OphdS36vZ8IIURJpSqVpulquTo7Ozs7OxtfjZerZbPV7LQ6p6enf/rTn7799ttOp1N/WNdt6oxRSheLRT12+/z8XNM1RhklVH0gSeu67vt+v9/v9/uDwSDN0s12E+yDxXI5mUwMw2g0GnlR1H8MkjTRdd3zvFar1el0Gn7D0A2kaCAI0gAAAADw6VJKyUqWVbXb7tbr1W63q3/f9/12u91oNOrpVu9NbvXKYWISy7Js2zZMo565VS+1jZO4KIrr3mBK2Afqz7ca4p3neRRGq+VqOpleXl6uV+ssyxhnrueORqN+v1/vYv3xCV5vXX5VVlVVBUEwW8ynk2kQBGVVNtzG8fHx1199/c033zx8+LDX69m2bVkWpZQzft03zkjdyy2VVFLK6q1G6F8WFj/8qDfD8y95SlmVRVaEUbher6ez6WazydKMcdZtdx8+fPj1N19/+dWXd+/dtS3bcZx6lTVnvO6x1zSNUVb/YZCVJPyNXcTU2zuKUUbrHap7vf7pnTv1flpxHG+3m8vxmGtamqZSqe12u9/vZSVdz+31et1ut9Fo2Lb94e2+4I8FQRoAAAAAPmFVVRVFudtuL84vprNpvXh50B8wyizT0okuuHhveKOUapomhLBsy7Zt0zA551LKoizSLI3j+GaG88+e/eoX1+nsNkk6z/MgCJaL5XQ6HY/H6806z3POue/5BwcH/X7f8zyh3e7v55WsiqIIgmC5WMzm030Q5Hlu2/bp6emf//znr77+6suvvnQdl7K368CKKC64okpKVVVSykq+2nv5l+6/9Y9XSb9Tf/7w2nJZySzPwihcb9az2Wyz3aRZyhjr9rrffPvNd9999+VXX56enL57IYSQul9dSSmVrFRFJLmph7/eGfuVelyZZVmDQf/u3bvL1XI8Gee7fLfbjcdjTQhZloyx7XYbBIGu667jDAaDTqfTarUcx/nAdl/wh4M/BwAAAADwCZNKyapar9c/PXv209OnUspKVicnJ2VZcs6brSYXXGPvqSIqpfI8z7MiDMMoipI0raqqHqBt6IZhGJqmvSf0qVcTs+pR1pSoj8dORZRSWZZlWVbvV/z82fMXL1/M5rMszUzTtCxrOBweHh52e903lmT/MoooqaqqKsuyKIoiL6SsOOWaprmu22w2HcfRdZ2Ln/WKSynLooyiaLvZzqaz9XoVx1FRFpUslVKv+9h/wwbmX3CoevB4WZZ5lmdZVpUVoURwYZqm7/mu6xq68daF1CXo64L8fHZ1Ndnudnme1/tIk5tO8veFd6FpnW7n7t07V1fjF8+fbzabJEkm0ytKaZpmmia2m21VVbqut5rtwWDQbDYN0xBCMI7to4EQBGkAAAAA+HQppZSUsqo2m82zn376y3/+pSiLsig3m41hGH7D54J7vvfe50qp0jQLg2i32+/3QZIkVVUJLjRNM03Ttuzr4Vs/e73X39JXM6j/Ya6qyiqJkn2wv7y4fPLkyeNHj1++fLmYLwglvucPBoPDw8Ojo6Net3fbIK1evwFVWZZlVRJCKKe6pju243meaZrv1m/LssyyLAqj1Wo1nU5Xq1UURUVRVGVV13F/2xD99rE+NLH7zQspy0pV9b7ThmHYtm0YxntLwWVZZnm23W4nk8nleLzdbusiv5Kqvs/xocFgQvBOu1PdrV6+fNlsNrUrLUnT2XRWFVUSx4Zp7na7qqrq5euj4ajVapmGyW8/Bw4+VwjSAAAAAPCpui45MpoXeRiF2+02DMM4jjnn3W6v1WpRSm3HdhxHcMEYu2n3lVJmWb5arZaL5Ww23e62WZoSQgzDcF3Xc706hbJ3YvJ1dlWyKIo0S+MkjqJI068r3owwQogksp4BJqWsyipP8/lyvlwsnz59+vjR459++mm5XGZZ5npuu90+OTk5OjoaDofNVtMwjF/5Ply/Daxek3xT3b3+Wlb1FOtKVlLKehvt6WQ6m0/n8/lut8vyTFVKKllVVVmVRVkURWFIQ8lbrQH/h2f50VHn9PoR19dCWD2xrJ7Qdn1ORVF/IlJJpVRZlsE+2Af76XQ6m82Wy2UcRVK+WvRdVVVVllV5vYX4z3HG/YbPOR8Oh+1223VcWVWr9SrP8zhNLNMKo5Bz7jpuu93uD/q+72u6drt5bPBZQ5AGAAAAgE8WJVxwgxrNZnMwGAwGg6qqdvvderN+8eKFYehZniul2p22Yzt1eZZSWpRllmXBPri4OD8/v3jy5OlysciyzLZty7a73V6v12t32rZtv72fMyV1HC2LMgiCxWLu2E5RFPUmST97TFkVRZGmaZIkwT6YTCaT6eTi/OLs/Gw+nxdl4XrucDj84osvvvrqq5OTk1arZVnWbdffUkoZZ0IIXddty643hVJEJUkyXyzOLy4sx+p0u4wwwoiUMkuzNE1Xq9VsNhtfji8uLtfrdZqmhBCucaJIlmdJktTDt3Rdl5YkhCj5Zile1Vn3H57beydmf2TIOaVM04Sh66Zl2bZd35so8mK/219dXTWbTdfz6mFsnPGyKuv9n6+urqbT6dOnT6fTWRiGVSU544yxsqrSNEvipJ7EblqmkurN/Z8ZZ4ZhUEo73c5oNLq8vNzv9vtgn6VZmqSmZVJKbctutprdbrfb6dqOjRQNb0KQBgAAAIBP1c3AsEazMRwNR6PRZrMpi3K73Z6dnUkplSKaEHEct9tt3/cppZzzJEnDMFqvl48fP3n65MmzZz+tVqs0S/2G3261642RbvZYeusVFVGykoUqwjBaLlaGbuZ5HkXRdaN3HbUkSbO0zur7YLdarS8uLi4vL+fz+Wq1iuPY93y/4R+MDu7fv//tt9+enJy0W23Ltn5FRzVjTNM00zAty7JsSwhBFEmTdLlc1Nt6xSeR4JwxJqUMgiAIgqurq5cvX56fnY8vx9vNtg7Sgot60XiSJEmcxHFiW7aS6nVmVtf//fJzvM7SPw/UHwrhjFLOuaEbpmncDMcuimK3302m00632+31Ou22pmma0LIii8N4s92cvTx79vzZ+fnFfD6PorCqSsEFo0yWVZom9U2BNE3LolRKvfnSlFLDMAzD6LQ7o9FoMBjU47ullGEUWqbVarXa7Xa71e50O51ux3XdetswgBqCNAAAAAB82iilvu+fnpwG+yBJkjiOsywvy2I6m3LO4jiqt8JyXZdSyhhLkjSO491ud3l5cTW+Wq/XjLNOp3N8fHz/iwf379/v9rqGadwsiK17uevXUlIVZVlV1XQ6+eHHH2azmed5lmVdz6OmhBCqlCqKvMiLOI6jOArDcLvb7nd7KaXv+61mqz/oj0aj+/fvP3jw4PDwsNFoCE18aDXvxy6cUM444cT13MFwcHx8vNvtVquVJHI+X/zw4w9lWQZB4Hku51wpVfe9b7fb65HUhn5wcKAbuq7p292WMhqG4fhq/MMPPxBCTk5OTk5PfdfTDf19m1h97FxvytF1i/ubWfqdJutrnHNd1y3H6na6BwcH6/V6s9lkWRYG4fPnz6uqCvb7i/PzenvwPM/jOA6DcLlarlarqio7nY5tWdPZTHBRt4GvV+vnL547rrPfB6cnJ4eHh67veq53M7Gs/nA93zs4ODg9Pd1sNleTqzIry6IsRanrervd7nQ7rWbL9VxDN95uT4A/NgRpAAAAAPjk+Z5/enqqpEqSJEmS2Wy22+9Wy2WaJNPp1HVd13VvWruzPEuTNIqi3W633+0VUbqm+23/i3v3//znP3/11Vf9waAOTpTStwqqlZRlWWZJNpvNiqKwLbuOdvVPb2qeZVEWVVHkRZ7nZVFKJaWStmW3mq12p3337t17d++dnp4eHR+NRiPbsoX2/j26/gFKKKOcct/3Dw4OtpvtYrGYTCdJki6XyzAMwyCYTqe2bQvBKaVxHCdJIqUkhGhCazQbBwcHnu9pQqOchvswCILJeMIoq9+csixHo1G3270e5P3zAvPNTtG//Hw/suSacaYRzbbtTrdzfHyyWq1ns/luvwujMD17ud/v5vNZt9MVmqZpoiiKJEnyLK9Xffu+PxoODcMwTZMSstlsgjBIV+mLFy+KogyCMEtTpdRoNLIsi3P+5im7jlvn9vPzM13oeZZLKaWUpmn2er1er9doNWzbFvz9u5HDHxaCNAAAAAB88mzH7g/6jLEgCPI8N03zcny5Wq3KqtztdnX9WdO0umhcFEWe5/XwKkmk67jtVnt0MPrqq6+++eabk5PjVrP5Zt2SMaYJzbZt3/f9/b4oijpjJ0lSFAVn/HWt8lXYkq/US3PrLuJutzsajY4Oj+7eu/vFF18M+oNOu9NoNCinv7raWd8acFxnOBomSbJYLtbr9WKxCMMoTuLFYpnnhWEaggvOWVGUVVWapuk6ruu6g8Hg6Oio3W7rui40Pp3M8iKvqmq3202n03a7vV6vfd9vtVpCE7Zleb6fF4WUled51xtrsfdPsa7nhGlCM03TcR3P8xp+w/N8x7Z1XefvC6XXM7pNo9PpHB8frdfr1WqZpkkcx3Ecb3e7ujWdcy6EppSsR5Q7tmPbdqfdOT09bTQanHPKqKZrSqkgCtIkXa1WzUaj1+sO9oNWq/Xu+DTLtvr9/tHhUavZNgwjTVOpJOfcdd1+v9/tdn3P/9VD4OAzhiANAAAAAJ88IYTjOFLKL+5/oRt6r9c7vDyczWZxHMVxUsnqphiqlLIsq14xq2marhudTns4GB4eHdy798XJ6Um71TJN8+bI9Q5MnueNRqMvvvjCtp3tdhOFkaZrQog6RddVWUXUdXn21TQuITjnQtd1z/Vcz+10Ov1+f9Af9Pq9fr/veZ5pm5TfuqP7XZbl9Ht9JUkcxUKI8fhqsVjs9zshBBdC40IIITThOq6m661Wq9fr9nv9/qA/GAx2u53nes1Gs926bDQaUklDNzzPqzed0jSNC65zfTAcPnhwv9PtKCld1z04PHA9Vzfe3qT6GiWUUNuxB4PB3Tt3BReWZR0fHx8cHDRbDduyPjS4i3PeaDbqncmUkr7fWC4X6/VaSsl4PViNCyE0TdN13XGcTqfT6/YGw+HBwch1Pd3QXddtt9vNZnOz2ZimaVqm53u2ZWuaxjh7t39e13XP81qtlu/7lm3leS6VtG273W7X1fg3/zAA3ECQBgAAAIBPXj1yTNM0QzeGw+HR0dF4PJ5Mrmaz+WKxiKIoTdKiKOoacR0rTdNst9udTvvg4PD4+Pjo6LDdbrfaLV3X3zwy59wwDN/3R6NRkiStVivYB3EcE0JuNtOqH1l/U08d44ILIUzTtG27jnbtdrseX9VsNi3LNC2zntH9mzQM27ZlGLrjuJom2p32y5cvz87OJpNJkiRpml4Xe3Wj0Ww2m82Dg1G951Y9T2u/33danW6322q1Gs1GFEVVWWmaZtu2buj1/QLDMEaj4cOHD4MgqO9EHB0deZ5nGMYHZ1lT4jjOYDiI49i27Xqs+tHhUavZsm37Q1cthGg2mq7tapqwHavX619cnF9eXu73+zRLi7zgnDPOHMdpt9vdbvf4+PjOnTu9Xq/Vapum4blup91pd9qNRmM2m9UbX3meZ1pmfSHv3rO4DtLtlud7tm1nWUYIqY8/Go063c5tN/eGPwgEaQAAAAD4HFBKBRf1QmippK7rjUZjOBxtt9skSbI0K4qiHhvGudA0zTR1z2v4vt/ptOsYaTu2pmlvZTzGWL259MHBQb3tcJqkaZa+WjD8sxRNXgVpxhlnvF61a1qm67qu57qOazuOY9lCF0L8lmtuKaWCc8Mw2u02ocQ0zFardXJyUgdpQqjgXNM0z/c8z2+3271et9Pp2LZtmma937XQhGVb7U47TdOqqjjno+FoNBq1W23LsjShHRwc5FmepIlSStf0o+Mj3/cN3Xh3sPkNx3EODg40ofV6vaOjo2azeXh02G63bcf+yATseg2z7/sHo0NDNxsNfzgcRlGUpVlRFowxxpjj2J7nNxqNehmz7/u242hCNNuturXb9/3tZlvfN2m1WsPhsN/vu677buzP8zwMw+1mG4ZhfdPBtu1ur3t9ZM9/68YKQA1BGgAAAAA+F5TUHbxccNdxB4NBmqZpkuZFXpZVWRSKKKUUY7wuYJumYZpmHXcN4/WY7jcJIRhllFHOebPRLIqiKIuqqq5//EacfvO59VMEF1zw62q5rl03WHN+3WP8G143JYRQTRfNVtOyrVazdXh0GMdxvRqcEMoYFUIzDN00TatmWlzjmtAopUIIx3HbnfbJyUlRFEoqyqjneo7r1O8MZXR4cOA4blkWSql6CXE9pexjQdp1RmzUarbSNM2yzDAMx3Uc2xGaYPz9dez6HgRl1PM83dCbrcboYBhHcZ7nZV6WVVl/EJqmmaZZX4tpmfW6a85Zw/ct02w0GocHh/VqZ6VUfR+kLrC/u1N3nuX1qPP9bp8kCaXUdd1Bf1AvkG74Dd1AkIb3QJAGAAAAgM9E3cPMCdd13XVcRZQqVSWrSkpZVZWUhChFFKOMc84Y55xxzj++79T1MevWaK8hibwpPv+sKE1/Nr+6/hVj14ty6e2GW/8qlDDK6ozs+35ZlrKSZVnWmZ9SSinTNME5rydy3SR5nemarjuO02g0pKyuN6wihHNel83rR7aaDd/ziFJKEUoIFz87yHsZulH3BahKVaqqN/H+h7t81a9omIZhGp7nyar+6GRVVlJJSimjjHFWn17dAHDzXNMyTcv0PE8pVVVVvfXWq4+bvfW69ZUGYTC5mpydna03qzzLHc9ptVqHh4e9Xq/RaFiWxcQHetfhjw1BGgAAAAA+R5RQRQknnHEiKeOMK1VnX3od1uh7p0997ICcMsIIeXsfp3p02dsPvh489v8kRf9c3eVe0YoxVu+ATQkllDJG3zNnux6xTSkXjFZE1XcGKKkfefP+UEI5ZzcXfhOwP3oehCqqqKKccsUJJdf/3uZCKKOccMooY+x6nBsldSb/4DtL67Pl5NVHQ9nbD1RKlUVZVuV8Nv/x0Y9//dtfZ7N5JSvHdobD4Z07d3u9nmEYTPzGvQPw2UCQBgAAAIDPVJ2YCf1QI/HtDkZ/j0z8q1BKKX911XX0/fhZU0IJoZR9cHLYL0zO7z/yP/W+McYII5x8sIH8Pa/5Sz4pRaqqyrN8Pp8/efLkhx9+2O13VVVZlj0aje7du9fr9Qzzw6PU4A8PQRoAAAAA4PP1CQT//7uUIkSpsiyjKArDMMuyLM+TOF4ul8vl8m9/+9vTp083241hGMPh8M7p6cnp6eHRYaPZ+MjybwAEaQAAAAAA+IwpqVSRl+v1Zjqd7na7IAw26/XLly/Pz87PL8/H43EURb7nnxyffHH/i7t37hweHhrGxwaSAyBIAwAAAADAZ0spJasqy7PFYvH8+fP5fL7ZrBeLxcX5xeX4sq5RG4bR6/e+/PLL+/fvHx4eNpuN3/us4b86BGkAAAAAAPhsKakqKdM0mU4nT548ubi4WC4X6/U6iqI4ig3daLVa7W7nz//tz//j3/7HvS/utVqt3/uU4ROAIA0AAAAAAJ8tqaQsqzRNZ7PZ06dPXrx4MV/M97s955wL3nP7h4dHDx48+O///d/+57//z063YxjG733K8AlAkAYAAAAAgM8WZ1xq0rbtw4PDb775ttForlbLIAgNQ9d1fTAYHh8fnd65c++Le41Gw9CxNBp+EQRpAAAAAAD4bFFGNaE5jnPn7l3K2N27d8MwSJLUskzTNDudTn8w6Pd7nufZts3FO/tsA7wPVUr940cBAAAAAAB8ohQpynK33W632zhO8jwrysI0TNM0Pd9rNpuu6/7epwifGFSkAQAAAADgs0YJ58x2bEqp63llUUglNaFxwU3D1HX99z4/+PSgIg0AAAAAAJ+/m+BTf3PTwo1ebvgVEKQBAAAAAAAAboH93icAAAAAAAAA8ClBkAYAAAAAAAC4BQRpAAAAAAAAgFtAkAYAAAAAAAC4BQRpAAAAAAAAgFtAkAYAAAAAAAC4BQRpAAAAAAAAgFtAkAYAAAAAAAC4BQRpAAAAAAAAgFtAkAYAAAAAAAC4BQRpAAAAAAAAgFtAkAYAAAAAAAC4BQRpAAAAAAAAgFtAkAYAAAAAAAC4BQRpAAAAAAAAgFtAkAYAAAAAAAC4BQRpAAAAAAAAgFtAkAYAAAAAAAC4BQRpAAAAAAAAgFtAkAYAAAAAAAC4BQRpAAAAAAAAgFtAkAYAAAAAAAC4BQRpAAAAAAAAgFtAkAYAAAAAAAC4BQRpAAAAAAAAgFtAkAYAAAAAAAC4BQRpAAAAAAAAgFtAkAYAAAAAAAC4BQRpAAAAAAAAgFtAkAYAAAAAAAC4BQRpAAAAAAAAgFtAkAYAAAAAAAC4BQRpAAAAAAAAgFtAkAYAAAAAAAC4BQRpAAAAAAAAgFtAkAYAAAAAAAC4BQRpAAAAAAAAgFtAkAYAAAAAAAC4BQRpAAAAAAAAgFtAkAYAAAAAAAC4BQRpAAAAAAAAgFtAkAYAAAAAAAC4BQRpAAAAAAAAgFtAkAYAAAAAAAC4BQRpAAAAAAAAgFtAkAYAAAAAAAC4BQRpAAAAAAAAgFtAkAYAAAAAAAC4BQRpAAAAAAAAgFtAkAYAAAAAAAC4BQRpAAAAAAAAgFtAkAYAAAAAAAC4BQRpAAAAAAD4Z6jf+wQA/l9DkAYAAAAAgF9NvfEV4I8CQRoAAAAAAH41+sZXgD8KBGkAAAAAAPhnIEXDHw6CNAAAAAAAAMAtIEgDAAAAAAAA3AKCNAAAAAAAAMAtIEgDAAAAAAAA3AKCNAAAAAAAAMAtiN/7BAAAAAAA4BOjFFFEKanKqlJKMUoppYyz+pvf++wA/q9DkAYA+D/s3WlzJEeSJmhVO9z8jgtAHiSnp7v//0+ZDyOyK7vbI91dZN5AHH7fZrof3CMQQCaTRxWrSJY+RUlcEe4ejiyRfEPV1BhjjDH2CxCAI7KWhnHo+t6Ok9JaK6219LSSkoM0+/PjIM0YY4wxxhj7JYispWmyXTdUVdMPg/GM7xufPCFQSl49yv78OEgzxhhjjDHGfgIREcE4jv0wdm2fl2Wel0VZFWXZtn0Q+L7x0zTZrNJklUSBHwRGKiUFCO70Zn9GHKQZY4wxxhhjP4EIrKWuH8uqKfLi/cdPHz5+Oh1PeV62bev7QRAGu93u7u7u7u52u13doPR9RCWF/EdfOmO/AQ7SjDHGGGOMseeIAACsI2uttbbrh64firLO8+KU5Q8Px/0xq8q26afRIg3W0oCqJnEaLHTDOPRTHAdh4Pm+p6WUSgmBCMD1afbngDT/X4QxxhhjjDHGzpwDS9APY9f3TdudsjzL8lNeZllZVvU02dE6IaRURkhFzjnriIjASSHSJFgl4XqV7DbpOo2jKIrDQCmlJAjBSZr9GXBFmjHGGGOMMfYEEViCyUI3TGXdZXnx4dP+w8f74+mUZUXbDWGcRHESr3ar7S4Kk65tm6bJslN2PDZVEZx0YOTNbt00t8Notw6U0sG8QdY/+qUx9jfBFWnGGGOMMcbYYpzsOI19P5ZNV9VdXlZ5URdlXVRNWTWDtc4BCBVEURglfpiEUay1P47jOAx1XVdV2TYVugFs73sqDkwSmlUSp2m0isMkiqI4CIznG08IAVycZn9YHKQZY4wxxhhji7bvq6Yrq/pwzPbH/HAqsqIqqtYRWhAmiKI4DePEhHEQRlIbFJ4Q0pJzjqZh6Puu75quOrVlZvuWxk7QFIV+HPm79er2ZnOz26yTeJ3GSklA5CzN/qC4tZsxxhhjjLF/XvO+VpO10zQNw1jUTVFWp6I6nPJjVpRVV7d9P5L0jDZBEKfReh2na20Czw8AlSMkQAEgAFB70gSeCaQQArGt5VDT0Ftqh34YJ+tG67p+bNZd1w+BMZ7xPE8pNT/8H30jGPsluCLNGGOMMcbYPy/r3DjafhiyvMzyIsuLY15mZd0OQ9uNDhQqTyjjB7EJI88Exg+U8YXUUioQwpF0S1nZERFZR87avrVj27f10NZ9W099M/WdRDKeDDy9SqJVHG1WyXqdrlZJEHihb3gIGftj4Yo0Y4wxxhhj/6SIYJrcMNq66feH7OOnTw/HbJ/lRdWQUIAqiFZJmMarXRQnYbwSShIgAThC64AsgCACJHLgCABQCiGF9rQSiR36vm26pipO+348Nm11yktyUxKYOAhe3G1fj1agQACjFaJErkqzPw6uSDPGGGOMMfbPhQicc3XTtm1XVHVRVFlZ50WVF2Xbj+3kJgfS+FL7fhj70SoIY218z/MBBSECgCMgQkIERAKAOVI4AgREQASJYCdrp2Hqu66purrq23rsmmnsJTlBNg68JApWSbBeJdtVlMRRHEdh4Evu9GZ/BBykGWOMMcYY+ydCAEQwDOPhmB2P2cPh+LA/HLOiH20/WqGN8kPtRyaK/SjRJlQmUMrM66AJARDngwAhEcDckn2JFI4AAATi/D1HRI6mgaax79qhrfq66pqyr0uyg6BRS9itk+0mfXGzfXl3s9tutac8T3F1mv3OcWs3Y4wxxhhjf35EMDlnre37oevHum4eDqfj4XTMiywvy6YDoUB60o/8OPXjxASJCSPl+UJqEMo6ckTg4DxnG79Qjzt/iwAIEABQSgGASgtyUhuttFIeCkWEQ1cPnevHAYtmnKy1NE3U9WMUBlEcGONppZRWnKfZ7xNXpBljjDHGGPvzc47qfmi74XDKHvbHw/FUlHVZ1qMlhxKk8kyo/cDzQxOE2g+ENkprFBqFBFSWvpYbyD1+CoAEc+Ea58IykhMANE3OjnYch74du3Zo664tx74Bu2w6HfleEvnbzfpmu16v0vUqjuPoXAJn7PeFK9KMMcYYY4z9yRHRZG3bDVnZfHg4/uX7Nx8+fuq6sesHyGhjcAAAIABJREFUL4zjdJOEqzBZRelaG195nlTaARAiARLhXI2ei9Fzqv0sU9PTz/F82scaNSrlaY3GmSAiZ4euauu4rYoyP1Z1mxU52NEoePXitm87OznP00EYSgQAbvRmvztckWaMMcYYY+zPiQgIoKzqLK9ORbE/5YdTUVRN2bRdP6BQKD0vCIMwNlHimdDzA+l5UmqhxNybPQdpAoSnQRqeZWn3LFRcitIwP+XyHwCQc0Bkx37s26Fv+6bs6mrs66lraeoDTwaeXCXRZrvertPVKt2sV77vGaW0Fr/l3WLsF+AgzRhjjDHG2J+Tc2AJPt7vf3j7/u37jx8fDp/2B0JpwsgEcRSvwmSl/VAbX2oPpYdSoZAoEBFRAAISABHCl4L0GcFVa/c5WiyPmkd8IwDAOQMTzUcksuCss5Mbu2kc+qbq67ytiq7Kuyr3tIxCf71Kvv3mm3/57pv1KkkiE/j6N7xZjP0S3NrNGGOMMcbYn8o42XEc+36smrZu2k/3h3cfHz7tj0Xd9CN5gdF+EqWbKF1FyVp5PkoFUhMigQDEOTjPDdpET4Lz1zusnxfozhVpWg53foSYFz4LlFJIDUprMymlpVRCaOdoGMbBjlM99GMO6E2Wtpt0u47XqyjwTej7QnCrN/sH44o0Y4wxxhhjfypl1WZFeThm7959ePf+Y9l2/egmh14QeUHsR7EJYz+MpOcrz0cpQcjzBtECAFAAnGvQAoAcAlxS8ecJ9rEiTcvX149/8hRaDou4FLcdApB18xZZbuzt2PdtPTRl21RdVfZ9LYEEuM0qeXG7fXG3e/Vi9+rlrfH0Fy+Fsb8brkgzxhhjjDH2Z0AE83yvtm0Px/zN24//73/8n//vP/7TkgiiJF5vX+1evf7uX/0oVcag1taCJXBwDs2Ay6bQ81cOEa5qbkSICED0IwH2Kyn6qnBHS5aeH0CCAGjeJ8sLtOdLpGS1RTdlx/3+/kNz3+8P96fDwyqJjqe7qm6FFJvtSiopkaeQsX8krkgzxhhjjDH2xzaOUz/atutOp+x4yo7HfH8qTllZt21Vd9oPw3gdput0c5Oud9r4IBVI6QjssuczAFwWQc9/ELrL5wtEpOffgyW/u8tx8PNa9NO8QeeofXUc5+Z2cgGE4AS5rinrqmiKU5mfyvyEblISfE/uNunNdrXbrnfb9WaVhoEfhEYJ8fllMfab4iDNGGOMMcbYH1vbDWXVHrPiL//9/X//8OZ4ysuq6Se32tystjfpehun2yBeSe2hNCSFA3QAbp4lBnMB2c0jvpcU/RiCrxZJf6m7m86t3Y8Z+8nDBDwJ0lf172WXaQQAIrc0ezsnBAgAsBO5yQ1dWxddU+Wnh9P+oS5OApwA9+rl7b/96//8l3/5drdJb7appxVykGZ/X9zazRhjjDHG2B+MI7LWWWv7Yej7oSibLC/3x+Ltp/39IW+6YSKpTBCutpvb18l6G8Yrzw8toSUgAkfkgAjEOeLSvBoal88Rzk3dSxWa6Bd2UT8fUXY+0Ty72y0rq+H8B57Le4gE6BCVlhI9NL42fhAlgHIY3TDZoa2bttlntfdxbwnLqq7bJgqD0Hi+8ZSUSknkhm/22+OKNGOMMcYYY38w4zj149i03fGYH07Z/pDtj1lWVMPkhom055swCeI0StZRstZ+oLUvlHYAjmD+k66aus/cVfX56bRuoPPqZ0B4bMq+rMqmJRMjoAAU+PhjsTzp2dHOWXr+IZ3XUuN5oTYiSAAEcnYiOw1t3dRlW5V1lTVV4cae3KQkbdN4s45vdpvbm+3Ndh0FfhgFSgiBXKBmvy2uSDPGGGOMMfaHMWfW0U5N12dl9e7T/dt3Hz/e7x/2p6ruktU2Xe9Wu5c3L16ttncgFQjtCB3A5MCd68zXf165jBpzAHg9IWyuTM9zxug6oyKBo8uDAM6t4cuW03h1jutge/WUuaFczE+ZW80dgsD5IgCF1FJ5sR+mmxuaxqI4Fvnp/sPbj+9+yI8PSRgksf/61ct+mFBIR6A8DzQqAYInkbHfEgdpxhhjjDHGfu+co2myw2TbrmubLivLLM+PeZnlVVY0JLzV7kV6I+cSdJislR85FAQ4L2K2n5Wgv9KViiAIlkXL50AMQBaIzuVnOrdmI+A8OxsREfArhz2vv36arenLj5i3yFou2BIQkQAiQOkFUUI766TS680O3IQ0Nf305sN9Udfb9Wq3WSVxlEZBFPiepz2tBF4X0Rn72+DWbsYYY4wxxn7vxtH1w9Q0/THPjqf8/nC4f9gfstw6mBz6QRSn2zBZB2Fswlh6vpAahSIhHKirCE30hcLwZ86Pwash3kAWHJGz5By5OdsSIqIQKCSiQBQk5kXX4hwxxLm7+8dbu+eHzg3g80ZY53Oe95qev3boCICQCMiNfdf3Td9WZXassmPfV9PQCrC7zXq3Xd/ttne3u5vNOg79MPS14k5v9rfHFWnGGGOMMcZ+dy7V33GchnFs26FuuqJqD6fsmOWnojiVXTuS0kZ7Jki28WaXpBtlAs8EJKQjsIQESECfrYX+aZe520REYMm6aRzsOIzjYMfBThORm4O0kFJKLT3P00YohVKjvBzDPa1CfznM4lcvb+lCX/biQimVEii1MkEwhBEKBUJCoSZH/dAUTe+osBbGibpuWKdxmoSh73lae0pKKYQQ3O/N/ia4Is0YY4wxxtjvjnM0TW4Yp6qsi6rO8jLLy7yoyqYr63YiJKlQeX4Q+UHkBZEfhNoPUWgpFQl0gAR4mei17BG9/MN/rv/OudbNn18ywdylPf9UIFhn3TSNQ99UVVsXXdf0bTMOvXPOTRNKJZVU2guiJIoTM1+GCQAQBdLS6o3XJ4XHk/6CGIIA4ADnCrgAIgJrnZvGrh2GtmuKti67prRjb/vOKBH6Ogr87SrZbtJVEq+SOIkD32hjNCdp9jfBFWnGGGOMMcZ+R+YRXJOlabJtN57ycr8/PRxO++PxmJXD5PrRmihNNptks43TVZykQmpCQYjW4TR3QCMCCiLn5tT6mB4RwOGyvbNb6sV09QEBaNnimcjRNE1933VNmZ/y7NCURduUfddaa91kUQoptTYmXW2HdZ+sJxRCKk8IMY8uo8f4Podncf0qf8k9WZI5XdrThUIhg9TEYjP2m76t6qo47T9lTVc3zSkbtaB8vS7L+na3mSY3vzsgpVBKIs8hY381DtKMMcYYY4z9483TuyZHXdt3XV/VTVHWRVFlRZUVVdv1nUXlR1qZWGk/TPxkHUSJNj4I5QCJHje1ejzgeRT24yCvhYMlSy8Puh4BhogAbhzGaRjy7HQ67vPs0NVN21bOTuQskSVHBDD2wzg1jijPc+/Tp83u5u7l6+3NXRBGfhAJKRHmUd/LdLJLAfyXmmeazZ+dXwoRgCNAR4RSen4QkXPO03ro2mloaRysEHndjo7Kpt0fT+s0StM4iYIwDALfVxK50Zv9ahykGWOMMcYY+10gAGtt3bRZUe0Pp/uHw/GU1U1ftx0KrUyggySMEz9emSBSJlTGBxSESLjsAU0AJJ5mQwcIQOLzGvDTTHvO0gggEJ2Dse+but7ff3r7w18e7j84O1k7eUp5xvO0BgAi6oehqaq2bR0BEd6+zMmRUhIBfOOjEOfZ23NyX0rUV1GfvnAhl2z7+FE8ecRjH/r83oEDIaT2hdTK8+Ik6Zq6r8uuqYauPlV1UTeHkwg8tdmk283qZru53YFUGkh4WvIUMvbrcJBmjDHGGGPsH4aInHWTtf0wdP3UtO0xK4+n4pQVxywvymZyZFFpL/TCNIjTIE7COFXGl8pDpR05SwQAhMtELoDzflVf6J7+ampEnJ+DAORcXdeH/f2H929++P6/D/cf4zhJ0tgEQRzHQeDPB6qrCgGtdXVVlWUlpYyiOIoiT5k0XSmp5sOSgzk1o8D5LF+bLkZ03XiNT7rB8erz+YMjAoESBUiplJLO86XypPKk52GhLKEdu2kah6m3WPXD1PfjMIxd14WBH4fGeFoppZX82p1h7DMcpBljjDHGGPuHIaJ2GLqmy4vimBWnPM/yOi/rbrCjBdR+4AXaBF4QeUFsgkh6vvA8knoSAggIBKCbl1WDmNckwzlzOlr2Y57bu38aCkQUgOisK/Lsw7u3b3/4/v2b78vTMf636O7u5e7mJl2tozhCAgBXlWWRZcfD/u3bN2VZ9m1TZKdjGEVh7MZbUB4Isay2BkKA+eBzHqbH3E90XX6+vp7PatEAlxh+mWMmHJ072EEBotCBiYTytPKCIE6Gvh7adhrafpqGrOzatsjzhzjcbde7zWqVxkkaKyWfn5uxr+IgzRhjjDHG2D/AHAinybZNUxTVx08P7z/eP+yPZdtVdS+08YLYj6Iw3USrrR/Gyo+UZxyBnWdugSCaI7IAAEAH11XoX7kzj5hbq52byiL/+PH9x3fv7t+/65rqf/7bv794+er1t9+uN9s4SRAAiaqyyE/HKIqKIv/w7m3ftmWW+ca/ubl10wjkkBAB3Lz/My4Z2uFlrhnObwUskR8QgC5bPn+Wop++wMdXSQACCOfBZogoPCk9gxD50eimvququsyaMm/KrC2rgiaNFBhdvrjrht46K7UyxhNLvZzTNPtZOEgzxhhjjDH29zP3cltnm6Ytyzorio/3D5/u90VZV03Xj1Z5Qbpbe0FogtgEsQkiE0RSG4GCHquxSOAuoRKXUWVXcK4B/wJ4/SlKpb0giKIkTdYb7ZlkvY3i1XwlKBU4AiSpPM8Evh/6JjCemfenAnLzFtgIJJEQCSUIwMnase+tI0ABKIQQQkghBZEDAVeDxRHoasr4nJ9/4trnWyEQaCl0I81HEVJ7foAA2vMC3/RR1DfV0FZ1133/9t3b9+9utuvXr168vLtZrdJ1mvq+0Vpzpzf7SRykGWOMMcYY+7uy1g7jlOflh08P799//P7t2+/fvBtGh1J7fnTzcrW+eRHEKxNE2oSolBQaUBAK64gQCIEACPF6fvXFeT42AhI+G5L98+qtBICI2vOCIIiSNFltPRMmq00Yp34QSc+AUIgOiaTWvu+HQej7gWd8ck7MC62JBBCCRRACCQEAcZrs2Hf9NAkhUWitlfCEQHQgLq8AUTwuhUY6v57LimiAx3r19fUCODiX6pcud0cgUKBE6Qfa08EUTlFouzY/7Y/jmGd5kR3y7LBdp/f3r7/77vW3r1/Rt7SiNEbkIM1+EgdpxhhjjDHG/h7GcRrHse/7qqrrut4fsvv94X5/PGZl1fTDRCjJIx10Y91NKiBPKOl5QmhUigiICB25S74E+LzuTE9rtyTgOkvP/dVfvUZHJAgBUYRRvNnejuMkpRqG4fbudRglyvMRlQMUMB8a5+2y5i2zQKCUYvlPoESBQG6aur7vh76oyjzP264LoySKkjCOhZBaa7pU01F8fkH0rNj+xUr74/QyevINgYiIAoUTDnEc5OCgHWzTT3U31N3QDVPVDnlZB8dcSmUdbVbFKk2SOPJ93/d9JSVyvzf7Eg7SjDHGGGOM/T10fZ9l+SnL9/vDfr+v6rbpp7YfpA43Ny+bbmi6oRvtKS9H+lj3dufERhjPl0ZLREBnl12sHvPw16ZfLx/Fsr/UeRdmehYLn1SzCQCccwJRxEn68vXrME5u7l7aaXrx4pUJYxSaACdLAkgiWOfGcRqGYRrHaZqkFEpK4xlPK62VEEjghnE4HveHw/7h4eH+/r5pm7sXr168/Gbn7jzloR8gAKAggPPYcXG5mnOKpsu4NIRnu14vF414eSk0L7ael3sjCqJpcjT24ykvssM+O+zzLK/bXvvRTRAmURDEsQNxvz8dj6ckidardLdZ397e3t3e+r7RSkgO0uwzHKQZY4wxxhj7rSxjpomIoGma/eH04eOn9+/ev//wYbQklC+0UX6wTbaqbsZj3tZ1XjZFO/UWUQfKRDFKZXyBj0nyqvr6POHhF7P1Y116TtHX+0g9PuVc1kUHDgTGySoM4+3tZMeJyHme53kGEAmALM1p11maJjsO0ziOdhqF0FIK482rjCWCm6axq+vD/v7Nm+/fv3v34f37tmmGfvC08YMwSVZ4voCrK3dz+r/M5j5X4OesjF/I0uc7vfxofsnn506WxnGs2+50yj/dP5TZsa4qO9rtarXbrgKjjZYE9pidyvwQBGazXt/e3lgHfhghIpAW3tycznGaPeIgzRhjjDHG2G/CWjeMtuv6wynLTtkhy/bHrMirbnResg2U0UHkeb5UvtAm6oZ43dRN2w1j1w/W2k8fPmTZKUnX6WoVx0kURX4QgEAlhANwcGl6fsyUTxKpe/zOZ76QpZfkScvcbERAIbRSUggiklLNFV46l3wFABFY50Y7TXaarFVOIhKBa5ry/v5D1/fH4/F4OpyyLMtO42i3NzeeMa+/+R93L16tVmvjGaJLUn6WjOdK+jLH+2qsGsBSnj7X5PGxGo3ikqWJnGvatuu7uiyKLK/Komvqvu9MEERxbLROkihJYt+TWiKSM1ESpitykwM65rX74f0hL3fr1W6zXq9XcegncSjEF5rP2T8nDtKMMcYYY4z9JsbJNt2Q5/Vffnj/l7/8cMzzqu6GcYpW6zi9CeM0jJIgjIXyhNRz6m67/nA8nrLj6ZR9+vS+7/rVZrvZbG9vX9y9fOkZI1FJlPOOUZYcAIF7XEj8WXV3+fpxbfSy8dSP1KWvpnohohAIQsilUI1Lv/SlMo5IQNbZydrJWmsnRxKQAF1dl/cPHw/7ww/f/+XTp0/jNE12Wm92L15/+/LV693ty5vbF1GUeMYDsADPysuX6d1zanVwLkYv3368HryaUgY4PxIFgEOEybm6rrPTYf9wv7//WOaZ9oynvfVqvbu52W62fmCCwFdSSCQkF7XbpK3rPMuzQ1kUp7xCZ+9udt9++/q7b6y7WQeB8ThIszMO0owxxhhjjP0tOeeapmu6Li/rPK/3p+L9h4+fjlnXjRMJGcQmXkfrmzBeBWHsB6EQClESgE/gjwMIKZQiwHGcnCM7jUWeCxSOqB/6MIzCKFJKzxO9nvZ7X/qfnwbjH6lKf+UHAPMQMViapB8jqwN8jK+AiFKilCgFChyGIc9zIMqL4nA6lkVxyk792BvPj5Lk5sWL16+/efXNd3G6StJUaSOEdJ+Xop9dBYj5rYLly2Vyt7icHy493yDcNFmy49D3Q9s29el0zE6Hssj7vkchfD9IknS93W1vbjebrfK01loiCiQgJz2j/QikmggtYd/WXV8fi1p83I+Ta5qma7skCsMw8I2RUgghuNf7nxnS1//mMsYYY4wxxn6Jfhjef7h//+nh4/3h/v5wzAtHwpLw/CCI0yBOTRgHYaI9Iz1PS28prgISwOTc0PXd0NVVXZZFVZZFURRFTkRCSmPM7ubu9vY2Xq3iOPaDYFmEDeBo+YwACeiqvAzwo+t7v5aiLwe4pFYCh8vZQAiQCF3TVEW+f/j0f//v//X//F//u6lLciMi+H7oB6Hn+8b4QRhtbu52N7frzW693abpWmmjPV9Iee4V/7zefDnj08XQl/rzOeXjJe8TEdmhH/q+K/LjYX+fnY5NUzVNo7X0gyAKoyRdpek6jKIgDI0fCCFRCIkg5tK2nchNQ9cOXd01dVvmdVGMQ2OHQYDbrpLNKnn14vbVq5d3tzvfaGMUJ+l/ZlyRZowxxhhj7K81V6cckXPUdv2nw/E///LmzZv37z5+yot6s7vb3LwIV9ubF9+sdzcgPBQKEK/HUgMAIEop4tSkYu1u3DAMVVX+5b/+s6rKU3aqq8o51zQNkXNESkrfMwAAAhFAIACAW7aGQvhZ5bIfqUjjdbK9XB19/gQUQnnGM4FnAs/4WXYoToeuqTzf90xw+/LVd//jX19/+913//Jv//Kv/x6GsZASpXQOrCM4b4W9HGqJzZ9dByBdLaLGq4FilxQ9L6cm64a+a+vy8HD/7u0P+4dPk53sNO1ub1frzatX36Tr9Xq1EVI6AufI0bLOXCDOPewCvMgEyXpD41hmpyI8Pnx8v9+/KU7Hh8DEoV9WDQjtB5EjkgKV4s2x/nlxkGaMMcYYY+zXI4DJurZp66bN8+KYFcdTdn843R+zAeX67vX6pUpW22S1jdKNFyaEGlASiMuw7MednokEgiVHDhw5QPSM2d3dgRDbIiuLsutarfXpuB+GrsiPcZJGURzHsTZGSi2lRAAUSASESHOR+mtbZP3YSyJ6Eg6fxGdCBCQCsAQolOeZKE5uXrz8tvr3IIqK06FrmzhdJav17d2Lly+/uXv1ar3ZKc8HlISCSBDQeStovD7Hj10rAl7P5F7i9Xyh02SdG7quaZu2qYsiK/O8aSogWq03xhjj++l6vd3exOnaM6EjQYQ0v0BcxpkRIAG4c453BABSmChMcEtCesFqm5MdaRqzevyP/36zP2abdbLbpOs0Xq3SKI4kghBfqe+zPyFu7WaMMcYYY+xXmjd1HsZxf8gOh+yHt++//+Htx/uHwdJgKVytNzcvVttbP0yCKJHaoNSIEkCcu5fp6r+FQKR5ITKBIzdN4zRMVVXkeZZnWXY6nE5HRGGMF4bR7d3d7d2rKI79IPA8XwCikARgiQiI3FLzfpw19rNeFj55ymcB8VIQBuvIub5rP354e//x3emwz7Pj2Hc3ty9u715sdjeb7S5draXSSioQAhABhAMgclf158uIs8t3xNO8/PhjxKuXQjSNwzQNRZ6djofT6ZidjtnpKKUMwzCOk81ut7u9C8LI+L7n+SgEnvPu5aYjAKJABCQHROgI5ozkHJGd+n4aurapi+MhP+2Htpq6WoB9cXfz6m77+vXLb16/urvdaSk89dleZOxPjSvSjDHGGGOM/VxzciaicZoma4d+aPqhbtr9w+lhf/x0fzgWddNb6fkm8OP1zWr7YnNzq0yoTQAonAPr5mz6xS2fEeZK77mPWaJQvo+h1EZr4xljEGGapmHorbVNU+dZhijato2iKAgjT3tKGyEFokDx2Af9a0pnRD8WDR/HgwuBgNrzV+sdgoiidLu7seO02d3sbm6TJAmi2PcD58gR0bIhFxDR0y7uZyPEn0/GxiXY09wKT+SctXYax3Fsm6rrmqIsiiyrynwaB6VUGIar9Wa93m52N9ubnfYMSokoiZx7dujHceZIIIAcIQIRIqKSAjxPGi+IvSABVISyylXl3NDVedUCnibCwVLT9XFo4tA3WmsttVaIKDhU/9lxRZoxxhhjjLGfyxFYgnGyddPWTXvKsv3hdMqyU1ZmeWUdgNBSGxPFfhT7UepHiRdEKDRKDYg0d0W7S2czXbL5vHczXq2YhmUdMQqB0zRN49j3fVWWZZnXVVmXZds18/P8IIzjJEqSOE7jODaer7QnlQIEEEgA5zbv81F/wlUKvCxjftbrveRbAgfk7NB3w9CN/WCngRz5fhCEofa0Uloq5Wh+UQIeq8tPburV6cTVKfD8TsB8VwjIOevI2a7ruraq66rIsyI/9X0/jgMRBUEYhGEUJWmaRklqTGACH4UEMReyxdIk/nxlugBY3iC5KosLAEAiJAJnh64d+qZrirbMu7oY+3rsG+PJKAzSOLy72d7dbtdJnMRxHAZKCq146fSfHFekGWOMMcYY+2nzIOzJwTS5ZrBZ2WZ5/v7Dp3fvP3y639dNVzd9st7cvdztbl8m6028WoPU1oEltCQs4dIkjefI/KQwey6Nink75MekR0RkSQgZhDoIwzhJb6e70/HwcH9/2N8XRZ7nudY6jpOkTofNAEQucgHQvAs0wheWO/+CStqlLn2pGZ/j5xzzAQhQ+mEcxIlElAJxXp5Nyx/T5EDgUmdexpg9O79YsjRe1aLxcgJEJCICIHLW2smOY9uURZEV2el4eDgc9gSktRcGYbpavXr9bZKkQRgb4zty1jl3fq/iPOybiH6sHWBejj1PAV923xaIUurY+FJspmHbt3VdnD59+CEr8lNegHvwtMxev+qGsbuxloSQyvekFFII/NFx6eyPjyvSjDHGGGOMfQ0ROKK+H/phrJqurNu8rE95eczzsmqqpu/6AYRC6YVxmqzWSbL2gtD4AUhpLThAR0hLx/JjrrpaqwtPi7xwFTaX/IrndmGyzjnXNHVVlVVZlGVRFcU0TfP8LN/3jfHDIAqjKAwjEwQmCKTUQohll6j5IO4nM8CT/EfP4+BVG/Z5CfacGgWCQHA0zzGfX4Wb1zxfnvRZkD4f8elZltFfzpJz09D3fTd0Xdc2bVO3TdN1dd/1zlrrrOf5QRiGUZSu1ulq4/uB1kZpbYmIwM3vTDzuiQ0En7V4XzampvOm1OdfCCIIAIEgBTg7TMMw9nWRH4vs0LfV0DVuGkLjhb5O42iTJps0WaXhOo3DwITGeFoLiYJbvf90OEgzxhhjjDH2o+ZpXdPkiqouq+ZwzB+Op4fD6ZiXp6J0IKXne36UrjfxamuCUGmjtEahBAoHSARE81bJ+Jg/n20vdXW2L30THidvnQ8wrxKehrGqy2bpcM7quppjdhCESZIkSZqsVnG6Nr6vlSelnPfIunR6Ezxdj/x5ury63KuUe7n6J28NIDx9FNHVdcN1Mp/bwa8OPy/mxsfXh0tAJ6BpHO00Nk3VlGVV5mWel3k+DN04jQiYpKt0tZo3iI7jWGpPKg9RIgoU4nGSGy6noy+HeVzOueRsvL7ay28OEQAckAVnp6mzQ9fURV1mdZG1VdFWhdEyCfx1Et3d7F7c7rbrdJMkSRJKKRTvOf2nw63djDHGGGOMPUcEzrnJumGa+n5su/6Ul1lRHbPilBVZUTf9OJFUJvCjNExW0XqbbLZKGTzn5wmWhb3wLEUD/Hhg/qKr2D33JwuUQkntaWOFlsY3SikUUkjZd13ftZMdm7q2zo7WDeMUBKExvjG+1EopjWJJhSh+9PRf+P7T2WMIgs7XdnWF14X0x6t/uvs04bMUS5cdrs5LxIlGuyb5AAAgAElEQVQmZ+00TdPY993QtXVV1VXZ1GXXNMPYA4IxvueZ1Xq93e7iZBWnSRBEREAgHNH8J1ztU/2Tr+/qer/waAJAgnmEmxDSUxJ8H7VCqYTUAGKaHLmpHSwVDQplLXVt3zTduomCwPi+53laScWJ+k+DK9KMMcYYY4w954i6fmz6sSzrrCjzrDgW5Skv237sBjtZkMZI7ZswMmFigsgzgfYDREmIS1R8TNEw9wifj/35P7/pq1/Ck3Q3l3fnVmFHzlrrxr7rurbt2qauq6aq+74dusHaSWujjRf4YRBFUbT0e2vtCSmFFMsa7OWcT2ecPTnfpZA+fyIuS7uvsvSTqDzfQgBxVZG+LknTubmawM0F6WU9sQCwZMm5oe/brm2bpq6ruiq6tu2aZhx7JbVSMgiCMIyiOArCKAgjzxitjdaKSLj57QtaBps9nZTmAOcUf3mJ16H2uiL9xdd12XOaACyAc+Poxn4aur6p+7bqm2bsajv0SoAWEAd+GoerJFylyWadJnEYR2EYGHy2bJ39MXFFmjHGGGOMsUdERETjZJtuKOv+4VTc3z887I+nosqK0oEU2tMmCqPVansThLH2Q218RzA5cPOQqvOoqmuPPcVf8Gz21edfXj2TABDILWlPaKVQGeMn6cpOU1nkZZ6fTsdhODZVS01LREEQRHHcd+k0TUIIIPKMgSW9As7B9vPTXm7IZ3tTXYaOfekZlxQN59XRT55/9RS6jFVDcHO6dERuss6OXdfWRVGURZFnZZH3fTeNEwKsVl4UJ+vNbrvbrVYroaQQcq5qz+l8efsCnsTlp/d6qYg/aziH54+nZz+Fy9AyWJZ+S6k8T8soomRNbqzyPDvuy+xQ11XfVCeFke+lUXBzsxtGa60TKLVSQqCUiMiDyP7YuCLNGGOMMcYYAIBzZC21bVPWTVk2WVlnZV3UbVk1ddePFoaJpGeUH5ogCqI4iGLl+VJ5UmlLQG6pVwJ8tsvT56HtuS//m/wL66efFqdR4FIyduScG7qu69u6rquyqKtqGIah74AIUUglfT8I/CAIwzAMgyAwxveMEVLOk8iIrtZOPzk70pNl0uKzRd549bbBk5XWeL6661IvgLuuhc+DyuzkpmmYhrFp6q5t6qZpm6br2mkap3ESQiitPW2iJE6SJIziKIqMCVCiwKVC7paU6+a5bvT05i/nXV7C5SLF9YPOc8ivLh+euVy3JUdCgECSAOAsONd3TVtXfVP1bd03NdlBuEkiRb4X+madhOtVsk6jOAqTJDLG01ppzXXNPyoO0owxxhhjjAERTZOdJnc4ZZ/uH+4fjoe8PJ7KfrITIQmlg8j4sYliEyUmjKVWUnqA4tzqjHMjNwmAy9rcX7R581cubf6Il8Lx8vXjHKxz5iPnnHPTOHR937dtWZV1mTdN3Tbt0HcChRAiiqI0SZN0laSrZJVqrZWUAgWRm4O0vY65c4rG627nucj8tE4OcJVOrxZIn3e0unq+uzwGl/cBHAJ0Xd+2TVvXeXbKs6xr2n7o7GS1ZzxjoiiOkzRO0iAMgzBUSgshhJTLbT53Yc/R5sfvtbvcpvNVXb+in2N5xjyRHAEEOARCIHBEZMk5Nw5D1wxt09V5WxVDU4EdwQ2R76VxuEnj29vdi7tdkiZx6Pu++VmnZb8//BYIY4wxxhj7pzZOdhynvh/qtmua7nDK7/fHwymvmq7qB0IltK9NEMSpH6/8MNJBpE0AApeOYrvslkSAeOnWnbdBXjaL/tt6bDm+fHbeggqElFIpKaXSnjFGauUpqT1PCtkg2mmcpqlrOwSYpmmaxmka/CDwPd8z3hyzEUAC0Fzg/fIFzCVfWl7n+ZtXl/djHovVuOR2Nzo7TeM0jE1T1VVd11VTV01d2ckiCs/oIIzCMIyTNEnSKE60MZ4x847TdP0/fFIk//rZn3Wqw/nuXT3967+0S40d6LIJtgAJChWC1kJKpT0hJKAEFFPfjK1rBufKdpymiWAY7apuV0kcJ5ExntGekoLXTv+xcEWaMcYYY4z9k5r/HVw1XZZXeV7sD9n+lBVVW3V9N0yAGqTSJvTD0AsibULPD6Q2QnmoFMC5kdudh4rNtWgAAAHgEHBeb3051Rf6tC8Q8MlXjw+8ahJ/1qy8xLk5vC/fOtelichZO43DOA1927Z13TR12zRt00zj5OwEAH7g+34QJ0mapkmcGN83xiy7RjkgIEeXZnWE807I5K5mj/3s5IfnQjQiIAoh0NrJjtPQ92WZl2VZV0VdV13TzUf0PM/3A98PgzAKo9D4wTymG6UQUp4L3UjLmvTrm3UOzIhPf7h88/HO06WQf3X3v17Snh98tcwb50PS8rYDIggiay3ZcRr6qeuGvhnaemhrO7Ru7MFOxkhPqzSJ16tku17tNuvtbuN7WksQ4ivnZb8vXJFmjDHGGGN/A0tXLc0Nwg4ABAoU+PlEpc+/c86b9FjQ/Y1rc/MJLRFZV9fN4ZR/uj+++/jpw8f7dnIOJCgvTMIwTKMkjZJVECVCaak0AVoQ8wWfXzJeX/CSpy+Lis9Vq+vRXF8Mal+YbfXZJlLnT688vVFuGYeFiCCV0kbHmIxR38dJ2zRFniuZVWVRdk3XtnVdKSXbZmXHEYgASCmllot/XNg859V5CDe5+eadC7hEPyf84VU797naLZy149A3TZ3lp+NhXxVl09TjMIRBGIaRH4Sr9SZNV0EYhmEkpQQhEIUjR0BEDhFg2YLryQ344m25fg8CL33py3z1J+9EPJ2fRl88xOODARHn+/P4IAuIUikltfYoiKxNh6bqmrqdd5zuhqJpp7GPwnyzTsummxxqE0IMpIWnBA8h+6PgijRjjDHGGPtrOee6pmu6pizLPMubtjGe8TwvjuM4iQM/sNaO06iVNsZorVGgOAcw51xdN23bEIEQqJTyjW98I36z8tw4Tv0wtW1/KvJ5X6ssr/KyafqpGyaSnjCBNKEfRCYIPT/0TaCNj0KiVARAhOfRzXNsw0sIxmW18vkf2G7JddcbTX0hSz8dRfY0RT35x/rV50/eccAvPQOBUCAiuGmy0zj2fde2Xdc2dd3Uddc24zBO0yiFUEoZY6I4SeI4jOIwiowfCiFACufAze8YnOvP9GSaGJzfOoCrNunnENw5HyKR7bu269qqKssir8qy77u+74BAoFBKhWF0+c8PQ8/z5hXRjxdwOeoS9MVjq/t1/f4xMV+eNN/o8zZXgLS8dXOVXOdf1OXdj2e/jOfvdTy+NXDd6Y6X7zsiZ+3Q2bEf2mZo6qGrh74d+w7RSQFGyzQOV3G4XSWbVbpZRWHox1EguTb9u8cVacYYY4wx9tey1tZtnZ2yDx8+vH379ng8xnEcx/HN7c2rl682m03Xd33X+76fJIkQQoIkXEKMtbap6+PxROSkVMZ4sALP8348l/21psk2TX/Mix/evH/z7m1W1HU3DBOZIDZRaqKVn668IFWep7QnpRZSgpQESITn5dAzuXy8SsJ4GWRFX4jMhF/eZOoLeRiW2vKyDvd8nqt5Y+eC8bNq9tLeTQS4LGdGlFKLQGrPi6IkTrq+bZu6rsq8qsq2rsuysNMUx3GcJJvtbke3SnuAWiGiBLLzHtPLZO+5q5rc5bR03jHaLa/wySsggDliC4EgBE4W2rbNTsfD/uGwfyjLQimptIqiOElXSZLGYRxGsfGM0lopPb+i5VU+Nrjj8qVAAndVEYbHra2u3oLA+XciCGB+DQDnNezXtx0vd53mnP74lgg9fSSdj0/ny7nqOBA0jyWfe70FShNKbbQXBGE8DUPf1X3btHXZ1EVe5IfDUYC93W6+ef2iH+9ud+vANxykf/84SDPGGGOMsV+PiJx1fd8fj8cP7z68fff2/fv32SkLwiAIgq7rAGAYhqqqqqoKgmC1Wq3X6yRJkiSRSgKAc65t29PpRM5prYMwMMbESSwvMfVvcJFARJOlrmvbtsvL+pSVx1P+6eF4OFXdaC1J6WkvSqN0Y+K1Hyc6iFEoFBJRoMBzlsWf2835NEWfl/Qu5c+59f3pRlFf2hxrWeV7nRN/bLPnH7mK5SyIAgWglBI1KK2M9jxjtJJKaikVALRtO01TVZREYCfX9Z0fxGEUKq2FVEJdvWVwnWcvld5lz6k5pj5WeVHgPEncuqkd+2Hou7bJslN+yqqqHIZBCGF8PwzCJF2lq3WarnzfD/xASi3m3aUcXbXQXm94PZfHCcRSKH5so79kaQScU7wEckRuachflhKgQBRCivm3PD/vMQ9/odX+2TCyq4ZuupShBV5++UtMRwQUUoJQUnnSG4XSUhsQ0gES4TQ0wzAdixrEvuvHsqqruk6jMAwD3/elFEoI7vX+HeIgzRhjjDHGfj1n3TAOdV3ff7r/r//6r/uH+yzL6qpu2kYpZa1FxLZpD4fj6XT0/WCzWd/sbr757psgDOYgTURd35Vl4ZwzniGgYRh+7fLDZ+O4zt8lmiy03fDp4Xh/v384HPfHLC8qB9IJL0wCHYQmiLUfzhO5hQmE1OdGYgIHKByAIHJfaWA+n3mOT09ewDJh67xg3JJw5Eg8z9KfXTktcZSAfuQRn3/57IcEj1F8zrdSKjQglJRS+mEY10mdruq6buuqqessOxVF4X3yN9vtZreL01Ucx4HnzQui7VyAds9+OwQwb2JFKBCAEMQ8ngwRicQ4Dn3XZdlx//CQnY5d13Zdq7WOwiiI7qIojuIoCEI/CHzjS6WEVCCWKjTB878K9OTjXAi/5FoCABRLh71AQBCIbg7VdnKTHafJ2mmyjqRUQkilPekZPY9YA7CXSvOyezYtd/Gq4fvs6S9v+eFya8jNt2K5oiWho0SByoCQSmrPD6Nhte6bqmvLqWvuD/n9/vj+Y7ROoxd3N69fvri7uwmMjozmVdO/QxykGWOMMcbYr2etHYexqZv9fv/mzZs8z/u+H8fRttY5BwBa677v7+8fHh4ePM9brdKiKPzAf/XqlTEGAIio7/qqqpxzoxmFEMP464L0s9XEc3svEdEw2n5yRd18/LT/7+/ffLx/2B9OdduvtjerzV203iXrXZRuQCkUioQiFCCEc+CI5iR6ru3iPCjrF1zPUkNFArckOwQBy6QyEngdxz5bgovXnz2rhz5/xI/CJw3NAoVQEqUH4Pu+czSsuq7tqrK4//ixbpqqLNu2JaK2ayY7kXOeUr7vz7trifO2WE/HqF16zXHpcUYnlio8OZrGvqvrcv9w//bNDw/3n+bfynZ3E90mdy9eJmkaJ4nWHqIQ8nEvaOfovD57OfiXbtGXUjbBvIE1Agh0AATk3GSHvh+HfuiHcRystVJqKZXvB0hWGh9Qzp3il27t61tMy4y0z8/7hd8AOYJzln5c0S0QHYEUUkrlGR8iIGft2JZ5XeaHhw+nw6nIjoHRvq+zsnGolPHXUaAFaKXmyX0//dtmfy8cpBljjDHG2K9HQM45ay0ASCXX63UYhZ72uq7rus74fhiGQojNZhOGQd/3Xdfv9/uqrp37QjX2r4PP4o11rqyaqmmPp2J/zI6nPMvzLC8dqvXNy430onQdpRs/jL0gAqUBpUMJgNdzmL/Q4fvzOUdERG5sh3EazsPM0TPG84xAAQgk5kXXl57i8w7JX3t5eB1ff+Rm4NNS7rlhmZZxw8teXQhSecbAXEP3/aCqyrqq2rYBgIdPH6uyPBz2cZqm6TpdrT1jlFZKS+fAkSO3pN65eI9wnijmrCXbtk1dlWVVFnmW53nXtkC03d0EQRD4QbpardfbdLUyxpdSPb7x4eB5Zzxclkn/tHnguERAoGmcnB3rqirzU1nkVVXVZTn03TiOdlpWfodhlKbrdL3dbG822xttfCEkyqWV/ZzLr/86PHvHhr6yB9ilLr38ds9biAEJd4772o8iIUAI40dNXUxDO4192Q7/5z//8vH+/naT3mxW281qs16nSSwRhPgr/kKyvx0O0owxxhhj7NcjoslOzjlEVFJFafTdd9/tdrssy/IinyYLAEKI7Xbj+/79/f0PP/wwR7UvBOlf1839xJPpy9Nki6q5fzj98O799z+8+XS/B5SAIl5ttzcv0u2N8RMviIRSFgWhJEBaCpn4uBp4+Ui/tL0WlwW5zk5D29ZtU06jJXJCinS18pSQ0psPbul8KoEAjubC9ZM4La5e3nlU+GUBNj4+hq5nal9f8HluGc3x8f9n7z2b5EiSNE1V4849SBKgu3d6Zu/u//+TOzmRux3Sw6oKQJJgzqmZ3gcPlolEAYVC755M+1MimYFwD3cz8yiRfE1VX2XTVZAxBEBuuFTa87zl6qYs8izbZ/v95vnp6fkJAZTWYRi9/+OfGGcxT6TiQnBnnbVgpwg10jHSfuw27UZyztqyyB4fHp6fHnf73WG/NcaL08VqtVqtb9brG+MdHblxcvQ+WYJPofqzkL4y1f76+h/PwynBHNw4dG2z3zx+/OXnh4ePh932sNt3XWvHcRyGcRztOAZhvFzdrO/v//wP/7uUIoJUas0EP1qVX76V7kpWv9yh+JqWBoaILzt1oZtSBBBQeoE0nhdEq5v7vqv326fd9qnMdg+PT27s7m/X725v/tsf3wMK44VKHB3TZv6XMwvpmZmZmZmZmZmZ72fSz0IIY4zne37ge56ntfYD3zrbdV3Xdc45xphSmnM+jrbrunEcfy13+3sVNRGN1llr266rmzYv68en3eNm//i825dtZ0F7xnhBkK7C5W2UroXSXBkH6OxkRIWXpF43yaXvy6Z1k/OUs3bsu7qunh4+Pj89dF1jreWcL1fr9XodhJHnBdp4yARDjohEU4ency8l9lZo+kVp9avxITJ6oz/VKUB9ah91dutyCIwjAHDgUkkA4IJzKYWQ1rlhGLqutdbWdbXfbhGxKosojoIwmjols7PtNREQjaOzdhz6vq7rtqn3+/1+ty3LnJw1xkRRvFqt1uvbxXK1XK2llKfwu3Mvi66P3cVOJcbnMO43KEhkAGRtP9ih6w775/12u3l6eH76tNtt+q5HhlprUMpZ23dt13Xj0G6eP9V1yRnTSt3cvVssVqHiDhCPWfGX279W0Vedzl4OAul1GfkrGE1amjGOjCEwrRmCHvzR0ujIOmi7oS5sUfW42QMKR6xu+9g3UaiNVkpKKcUsqP8XMgvpmZmZmZmZmZmZ74cxpqTyfT8MwyRJELGqa0fU9/14xDpnm6ZBxLZtrbVw7Cz0ih8gCoio6/u67Tab7cfHzePTdpdV+7y0xIQOb6KbIIqDMDZB5PkhVx4wYQndpJ+vRRHB+b3jaL9FUL/MpkYiO/RNVRx2m//8t3/5t3/5x6oshnHgjK1v727v7m5v72/u361Wd9oYbQJEfrw1ECASAaA79mjG6yWa0r/pS/sNRwPq17iXHbbOhlroXl5HSB2GqKTyPH+1vs2zfZ5lZVnkRbY/7MIwXCyX6XKRJIs0XUipOGMISEDWub6pyrLMi2K/2+53277vrXMMcb2+DaMoiuM4ToIoMtpwxqcy4uNQTkv35vYK0Tkd4E0tfVVJzgABxm7smyrP9j/9+7/9/NO/VUXeda1zNk3TOF0YbaRSDFlTF3VZPj0+fPzw4fHTT1wwAtf3jZQ8ikIG6AiPkXJERwDu5ejOX4m3vhvIXr15bMAFeCqhBkIEArKABECOHCIxbsJkyaX2wjBa1GXWN1XZVr88PB+y/JcPH97dLu/v1qs0SZNICPGFm8/8z2AW0jMzMzMzMzMzM98P5xwUGGMmLd00TVEUeZ5PFtXDMBy9x6wdhqGuayInBGdfLPT8Hllw7Gnk3DCOVVVnZfXh4flf//2nnz88lk1fNn2crm7frde37+I0jZMFCkmTfia0hHQKfr6wzzpbXMG3qejz6UebZ0IgO/RtXWX77cef/+Mv//j/lEVux4Fzdtg8HTZPVZ45ayVjYZwKxrmSU+Y54FQ5PaVju1PvrJOB92Vwb7t+f2Fcr9S1u8wU8MrQC7iQWukwjBbLFZHdbJ4/ffzgPrrnp4fN06PxTFnmTV05a5WUvu+DlJzx0Y52tHVdHQ677eb56fHx6emRce4HQZoubm5u/vTnP4dhrLUWQljrnLPWnTPNcWp2ffTo+h4tfSrOBmCIdhjrqtpvNr/8/B//8j/+Xzv2WusojheL5T/8b/9HuliGYSilLIpDlR3+7//r//z0y0+750fGkOyopFguluv1amobjojIjg+FpoT/z3IAvvERTCsNAIR03Rd7CnJP20sMhPZjL4iDKE3T26o8PHz8qajqPM+exk4LLIr3wzg66xjnSinOUHB21Pqzov6fyyykZ2ZmZmZmZmZmfhdEZK3t+75pmqen5yw7lGU5xfKcc3a0jpwQUkohhTTGS5NkkSw4f9Um+rW91LfdGkbn3GiLqsqz7JDlu0O+32eHoq7qTvuhjvSKaz9M4nQZRKlQvgWOhJNMcsAIkcjRlZh8xW/WJ6dmU4gwjGNVV2VROueMMUop43nGaMY5AO13u9H+82azWa5uVuvbKE78OPa9gAnBhTzGNBEALB3bIV8MxN/i2+3E4bP8cCQ6x7vJER1TwIF5xl+vb6QUcRyvVqtxGACobernh4eqKDzjGc8oqYax74ehruqqLJu6Ukre37/zfC+KkyhJF+nSKM0QydlxnArHv6iZj8FpfGVU/vXHMClSAuiHviiK7HCoirJtG61UnC7v7u9ubu8Xq1UYxkppZKiUGT3f+L7yPKU1AbRts31++o9//0vT1Na60TohpVJGeyYIIj8MlTRcSibEqYr+OzgG4c/hbDiZtRGhO88ZOVfK+NHq5l5K3dV53xQ0tv1of/nwUJbl8/NmsYjTKEyT2PeM1lopdZ1yMPPXZhbSMzMzMzMzMzMzv4MptkY0CenN5vmnn356fn6e0qHPGdycC875u3fv/v7v//ynP/0pXaRTYupnV/rNt7fj2Pd2d8h++eXDx0+P2+1uu9kRk9IPtR9H6U2wuNF+IJUnlEImHONA6IABsGM8Fhlc6opP5cnTr6/IkuuAMLv62PEy49DXVVWWBTnS2vhBcPfuPori3W572G73u+1288ykurv/w7v3h5u7d+vxjq1Rk+GcnRKxj+7aBJbORt3HMbJJD58abMFv19IXrmdqCZBomo/xfKVVukjrm9u6Kvbbzeb5OTvs6rKw1hrPC8PQaNP1Xde1fT/0fQ8ASZre3N4nizRNF1GUcCkkl4BonQNHJ8fx68U9V21fCtOP8vLbJkMOEAAYELmh66uiPBwOZVE2TauNlywW79//t7u7d4vF2hiDjBO5URtrR+P5xvOlNkDQtu1u80xE283zOAz9MGjjBUEUJcn65u7m7o7C2DCfc0G/Wa++3Cc6thmf5jldi02v7VQizyVnzHAptUoWy6bK6nxX5fum2B8+PTw/8zDQaRT98d3dH96/W6RpEjMp1VsVEzN/LWYhPTMzMzMzMzMz8/1Mva/GcRyGoe97IpJS+r7PBRdcMGSAyBA551yI25ubd+/ev3v/LkkSxj6XfAQA7pvTlQHAOWqaNsvLjx8+/eUv//bzzx+6fuz60Q9iX3pRvAjTRbxYCWWQCeDMEVo49iI+aZpJnxIQ0cmo+9t8rd4Y5ymSejqMjHGulA6TZNXdp2n6hz/9KV0sgig2np9nWVGUfd8XeQ6IXdc3dV0VeRTHYRQb40mlhVKAiMicI2unnGiwRJxzLiTn/Bi3xutRfbuWfgMCmHKsHSIj4EJIlEYbKZRvPAQa+n7o27LIm7psm6osMsH56Jy1ljMuhDCeH4bRarVI0kUUJ74fOCJy5GjK5SY47rD8EPvpF1egkxDnQiilvCCM4kWSrpJ0FacrL4yV9rhUztFgx7JuDrt91bSMSz+IPN8P/NAPQiEEOTcOQ9c2XdsU+WG/e27rcuibxep2sboJuUQmkMO3ZtfTZ92vL/+eyt0ZXb1JAAwQGWeMCcnQM5wzxhCRhq61kJV1U1dVts/6rm+a9ma9Wq9WizTRRmmtBWd8qp6Y+WsyC+mZmZmZmZmZmZnvx5Ebx3GyFrPWRlFkjCEiz/OM8aa/5hFRSimlWC5X9/d3d3d3URRxxr968a8y2jHPi4fH53//9//8x3/8518+fEySZZwswzhNF6tkuVZBzKUExgmRpnDfORZ6Nhe7OCwTvYxI/6aVOCnYS6W1UMqPknTdcyF9P0zT9N37PyyWi2Sxun//x912u9k87/f7tml3201ZFNvtUxTH6/XN+uY2TdMoScMwZoIzxsdhbLqu6/op5VgpbbzQeB4jxgU7j/5HFsoSOSROk8YjjkhSBH64Xq0YAgK1TV1VVXc4DMMgpeBCRnEcxfFyuUrTRRTHnudxxiYNTWdztN8UNf3KqdNzfLWVgFKbMEqWN3f9MAKyKI6SZC2Nx7gk4NaCda5t+qfHzU//+a9PTxsHLE6Xi+VqsVyFYeh7nhS8LIsyLw7ZPtttuq5tqqzK9+//VHHGjAm4JMb59y/2ObngaB13kdDTgZM1GdC0jyKl9nxyi7HrrR2L/bY47Ha7uqmb7WZ7u17d3d7e3t4sFslikfq+Z4xSahbSf11mIT0zMzMzMzMzM/P9kKPRjuM4OueIKAiC+EIihHCOGEMhuJRSax0Ege/7WmvO+e8PSTrnyrJ6et788uHjf/znTx8/Pvy3P6vV+p3nx0GYBlGC0kPGp+pZh0CAx+AgnkUvTeHo48+rBONvHtwbJxMiEAqpgjAkIs8LksUiTpL7+/s0XaztYMfx+fkx/vDx44dfPvzy83b7nGf73ZYZY6oi79p66O6ALEeSSgsh27avyrJq2tHaYXBeEAJyqSSiAGDn0Cj95nbXX5mZI8fwGKdnyIzWFMVAVJfFQYpxGIo8q6vK+L7n+WEUecbESRJFoe95UkqGYEcLpyyAN5Plv5i//RU7uouKfoVSKowTAgBgSntam3ixMCbgUhMw62B00A3jPjt8+PipLo8UnacAACAASURBVAsmZLq6vb2/f//uD2HgK6UZUrbfKSnK8lAVh+1203VVU+WM8zhdLm/ugHPmADgA/QbLt/OqnmbxttYlAJw6aoMDIEYAKLg02jgdxN7Ql2XVdDY75FVZbze7PC/Kuq3bvu0HAEZEiMA5x5Pb/GxE9tdgFtIzMzMzMzMzMzPfDyIyZJxzKeQUi+acM8Z9z18sFkpJALTW1XVZFEVRFFmWGWNWq9VqtZoaF/8uCEbnhn7gQibpohtdECbAZd11T9tN0fbSD6UfCO0pZbjUyDlyPjUbhksm9tkIGxGB6DPJdzbFOr5lX3UXfjmiyYTaAoKQ0vNDzsUYhOPQG88TyjhAQME4BGFyewdSmSCMFstVVRZtXfV917Xtpw+/FNlh8/wYx4k2nvH9rh/LqmrajnHJmIjHQRvjjQGbAvt4VHRfkkx0FQB9Ef38DMRjAy0GBIDWjsM4jkPftnXb1E1dNVVRV2Xbtlp7N7d3i+XKOsc4Y4wbYyzR4XAYRls3jWd843laGymVUBIZZwiA7Oxldlx6Bid/sRcLjS93Na4fwJsi+zxBzqUxPiJyIf0wElL6vu95vtYGkBECMqaUWa5u/+7P/73rWgQnhFgtlsvV0igtBANnEYAhZPu9H0ZVVQmuJtNtOrb5xtM9f0tp/xfPpfOUjxF7AiI3deUe+65r666u2rqoy7wps9FSmCw9L/CUNFoYY5xQu7IdH7ZZ1cZRkMZhFIe+5wW+0VpJKSSfA9Q/mFlIz8zMzMzMzMzM/A4QGGOCC6WU1tpaxznnnHu+v0hTYwwy7Pu+79qqrLquG+04haPTRSrh9wppArLjOIwjVzJOFw6lH8UgRNV2RbfFrPCjxI8TP4i8IPJ84KAFZ68KiY8B5al18xS9uyil8xlHU7Vzn6Vf0U8nsYpCKsaF8TwiInLTQtlJyQkVRInxg3S1Wt7c3r//4+bp8fnp0+75qSyy3eZRCOH7vh8EfhCFcdwPY1U3XT9oz9deiJyHcRolI5EgAoZIQC87SL8Kk7JrLX0xV7s6a2rCjMDYVQyTnBv6vqmrLD/kh31V5nVVtG3LGVPaS9KlH4RKq2EY+r7rur7r2sPh0DRNkRdBGEZRFEax7wW+YFPHaQBABEeAAHRlzf2WbP5VFf1yy+DSGwuAC8EYU1oHYWRXN8imcmPOGAPOAAAdSmVW61shJTnLGVNC+IEXBqFgiEB27JEhZ7jfb4MgzD1PSDk19744jeNZ7X97UPpXMh3o3OgbEYgcOHLWdm3TVlVZZGV+qIq8b+uurZXgYbL0jfaM9o0exqFt6kPV5nXLN9soDJZxtFwmy8VitVxEEYSIs5D+4cxCemZmZmZmZmZm5vthyIQQSiljTBiGdd2M41gUxW63U1JqoxFxHMeHx4enpyfrrJSSM26d/TG3JyAA60gIGUQRCB0mqzBZjo6abhhG17TNCND3Q9v3bdtqzzPaF0pyLpngk/JEYASOzs2kX0touFZzeFLUxy5XX4wAT4qRcc5AirP/GAG5SaYiCsmlMlJ5Qio/CKSSgjOO6NxY5VlTVXVZcs7jNG3bhnExEnEulFaB73u+r7VkbJoCfqF11+ejmqKdDq6k9LU8RWBAzjoi58axH4exaeqmKeuqqsqiKou+76wjIaXv+X4QhGEUxZHxvK7t2q6tq7IsirppAKDvB6wq51zfD13Q9n2njNZKC6UYCsYEIrrTAhIc47xf5tdi0fCqPpzxqQL/Oj5/bNo8JR5wx0BoL4icG/q+77tuGFnbknMMAcjZvivyrCiLcbRS6TBKgjAMwyhOF8YPOBdsMnmbmmC/sQPwjVw2dPDcJtuN1rpx6Pqu7dq2qcq6Ktu6auqq73pApk3ge14cR3EUaqW1Vl3bsrJsmmrsu27soBktVc1g626suz4p/SQK4tCTQiolheAM52TvH8AspGdmZmZmZmZmZr4fxplwQikVhEEcx0M/ZHnWNLu6rp6fn4QQiOisy/M8z3M/8JfLpfGMlPLHdepBQMaFMn7INC3v7ld37/veZnlRVlU/DE1VtU0rykIqHURxGEZeEHp+oJmHDBjjx/5RhOfQ9Nm5+6yOzgFaeJEjjXQl4IhehCXxrMnd67Dq9KGpezUgcqF9n7mFE4xrrcjZvqn3202RH4a+IyAheBinURgHSToZUMfpIohTrTVn/CSKJjn9Rmj0OIgrjvZqVwbliIjAENFZsuM49F1Z5lVVVkVRVmXbVM5a66wQIvJibUwYhGEYGc/zPCOE8vxhHG0bxkFY1XXVNk3T1KO1RV6UZVmWvudlQRCGURwEgdKeUgIZsnPWvDtvBbySo6eE5+upfGnz4ihq2UnUItB1qBrpFAMH5MimQ6ysqv12UxUHrZTSggGBc86OVVnUVVmWBXKeLpaL1Xp1c3tz/4ckXUitGRNXw/gGLe1enArH3l5A4BDZefWJaBzGvmurMi+Loi7ztmnauiZnEUAqbYznGeOHQRiEZ298GYwq7IK+b5uqrSvb13XfNl1eNu1uf0jiYJHEy0WcRlGSREZLJfjvMUqbmZiF9MzMzMzMzMzMzPeDiEIIrXXgB2mSlkXZdd1ut9vv95eoF4G1drTjDdys1+sgCLTSU0jv999/+smF0h5IJpc3t/d/+ruu6/lmC7tdnmVVXY2DdUSci75tx753o2WIknPGJSA7FjTDxaeLphfuKMc+C4ZeB6jPWvq1cxr9atDvGBolAkAuldKac+5pqaWoizzfb4s8G4a+qkrj+X0XccaTNLm5f79Y3qSrG+0FXGom5Nnz+VeC0q9GNqloOn1g0qZARM4hY3Yc+65tmirLDof9tsjzqiq6rlVKKaU8z4uTNEnSMI6jKFJSMc6QcXCOHHVhH0ZNXdf7/c4RVGXZtHXf901dKaXbuLXWAgEQCqEAEE7fgfPCvtSjl0rpF2f9yqpezj+VYZ92R+CyKTIVghMAI+RN022enzfPj0pyKTlDAnJkbdfWbdMgopQ6ihd37//47v0fk+U6ihMpNeGbmdJfiUufi++JXsTQkYgAHBCNY981dVnk2T7b7Yos6/t26DoppecF2vhxmqbpMggC4/taa0AGiATgE4zjWJdZVeTFYdO0fVu1RVVzsHHmF2Vdt23XO+SCiEBLjQJxDkz/LmYhPTMzMzMzMzMz8/0gICFxwcMoJKKu78qqrOv6cDhkWTYO42Q/FidxHMfL5fLm9ubu7i4Mwx/S/uo8CJg6FBMhoOAcPS9JEyaE5/l+ELVt07XdMAzOjUV2GPquqkvfC/wgDIJIKDn1ZJ5Koc8qE8/mV3gWSHitzgBginFeRVOvSnW/aeSnpG+Cvhuyotzt91XdDJb8IH73RwlEq5vbm7v75eomXa3TxdoLQqM9xuW5IpqAXsroN+5+raWRITlCPCW2u8nYyg1d2/ddU1dlWdR12TZNU9dEzvf8IAj9IPB8z/cDPwg8zzfaIBME6AjRERE4QmRCKOMBI2BKeVVU1VXZ1rW11tmxqZtxtEVRBmEUhrHnBZ7na2MYY1wwAnDu1Aia6Fr6XqK40yR+tc0XgUNgdIo9f9YXHOmcn4+AAFywqb6fM0QExhhDQAlKeWHklFLGM34QLlbrdLn2g1BKff2FeLngX3vup05dx2poZADgrHXOdm3btnVT13VV1GXZd+3QdcjQ90MexsbzPN/3psX3Q6E1MuGmhSECYNP3VSrthRFjaLRu69gO7di3lkHW9P3Tvmr6fZYlUZDGYRIFvmf8wBOM4Y9LDvmbYhbSMzMzMzMzMzMzvwM8BqXjOPY9v+u7LMv2+/3T09PT01PTNI6ckkpp9e7du+VyeX97f39/L4RgP8T96CpGfBTSiJxzJZUQ0vPDOoyjpCmLPM/zqijapqnLsipzKbX2zGK5BnJ+EHLGhJDu1EJqco+a0riPUUSGJ7WKn1fz4tRx6DiQ3zT0k1wkaPs+z4v9PqvqdhidHybru3dRFK/XN+vbuyhO/Djx/QC5YEwQMnqRy32WQvR2bBrxZAzNgNyUDoDIEAHQkXXWDXVdFXmWZ/s8O1Rl4cgROW0m+RbFSRLHqTZaSMmFRGQMmQOc7n+0Y0MuFBdSS+OHUVI3dV0WZVmURV4WRdO2WZ4DURgmYVQkabpYrrhgUiqGAgCRkQUHjhCP/tj4K1r6swmeX5619IsTjmnehNfLxYAxLqVW2gARgkM2WdBzpZRWOgiDMI7DKPL80Pd9LhUygXhqovbiFq8c6l4eZpfnPT2FYz430EDW2r6u8v1uk+33dVlWVckAhRRaaT8IgigK/cALgmkAXEy18Xi2wHPTM0CUygipjGdsFPVt3ZR5VeZ9WxV1leXl/pAryZdpfHezul0vVotUKI2K8S8my8/8GrOQnpmZmZmZmZmZ+V0QkbW267q6rsuybJqm73vOeRAEQggCklxKIYdhqOumLMqiKH3f44L/mMRSvBbT0xvIuQDkyAQTXGklpRBSKiWrouCMjePonO3qpmAHN9ggrDw/8PxAKC2VRmTI2NEEalJCb5thv3SNvmjpbxr0aciEgHA0OkNkQkjtB1G6vPGMSdPFYrGIF4skTT0vUMaTSk2ztHRu03We/Dff9phV75wdp0B017VdXRdFVuV5U1d91xCRklJI6QdBGMVRFAdRFEYRF5IjA84cHe3Kjo5rDggAGTJEQCa5k1IxzjkXQiouBOeirkqsq77rh7EvywIAnHN913pe4Pu+UIpzzhk7O5Ad8wJez+11Cv2bnCPSr98+7j4QkeOcCSG8IEiXC84ZkCPnOGNCcCmk0UobE/iBH4Z+EAollFQEjBA/X+tT+65fW/VpWtNrBs6ObrTj2PeTnVuR50WWVWUxjgNnqKQyk51bFIVRbDzfM57UBqdEAobTd+CVnEfOGAouuBNKaA1cgpC8UsD40FQD2aEbsagdYdv1TdO1bRsFnm+00YpzJn7U/5J/G8xCemZmZmZmZmZm5vshInI0DMNmu3l8ePzll18+fPiQZZnneX//938PJ+8u62yWZZ8+fZRSjs6+e3evtFJK/ZhBnBsHnfKCj/FMBlJIRM4YV1pHYVDHcVPVVVnVddXUTV3mRbbX2vOD0I/iNF0mi6VQmgEyxh05d4p90oumUa8csGjyFftmLX0SU9OHpysQCKmDMCRnjfHSxdIYL46TKIq05xljuFDIOBFzUzEtfRaVPYnPl8LzUn2Mp1WaSmPJwTD0XdeWeZYd9mU2tVZqGEMhpOf5XuB7vu97gef7xvek0lMgGhg6AgKchDwBkrvcyNLU44ohAhfa87mUSmkThnFVVXVVNHXdt13ftflhXxXFTqs4SdMk8cM4CAPteQwQkDlwp9phOEeTz8v1hSW9hl5HpBEQ2PkbAkScC2NMki600ovFisgBEUPkjAnOpZBSSKGkUkooxRg6OBYkn3L7X3vLnV+c7vHSER0BgfGptRVR3zdVWVVFnh12+eHQ971zIxF5xmhjPM/3g8DzA609bYxQinOBDAHQwbXD+VTtTec5AzgABCEYch0gl0qZwAvjoa26phrauh+HzT7Psny/z56e/PUiublZrpLE8zSfsttnvo1ZSM/MzMzMzMzMzHw/RGSd7fv+sD98+PDh06dPu92uaZrb29u7uzutNOe8H/qPHz9Oh4SQiGg8c3t3+6PG8DIyS9exaS4El0xrFfi+s3HXNG1THw7ZfsvsMOR5lmcZ59L4QViWQKS09gCEUoJNF/iqk9d1dvm3aOk3jhIQAEop/CASXMTJgqzVxoR+YDwPGGOMTXm8DsB9VhJ9uspZc7689ln2E53MpYics6Nt26Yqi912u3t+yg57ctY5G/i+7/txksZxEiaJMUZpJYUixElGOpouhqd6ZqSLWj+248ZJtkoplQLPM0HgxjGsq7qKijw/7HZd2zZt0/c9ArRtOwx9ai1yFFI6xs9lu1fh6MtE3n4Wv1o4fcwHB4fAzhbhnHPGmJQ6imIgmvaEEJBNOQnIGOfnvQeaysDfWuLP7gP48gGdjckYOCKwo3XONnWVHXaH3Xa/3ex3G0TUWnue7/t+uliGUeQHofE8xiUXAhCPPusnB/hjmcGl8PukpR0g44iMKdRSac8Zv7djO7Z1WRyq7FAXh7oohrbK8nyrRVmurXUM0FEgBJdSMIaznP4WZiE9MzMzMzMzMzPzO6ApJdYhopRysVh4nkdE6/X69vZWa42IwzAkSbJarRBRa6OUkkK8yLydVNOP+PMdL1LVncZnYco6Jia1QmQEKIT0gzAuirLIu64fhrHrmufHT0WRBWEUxrEfRsb42vMFZw44HOXXV2pi4avGzZfM5HMPYTeNkjGhtOaMkXNETgrFpQKGiEhE7hxwP5mb0aRZX1yazmO4pKM7mkqhARlZ68i2TVNVZTUl2Zd537bjOPq+p5RWWvme74dhEITGeNp4XEpA4RAd4JSATi/aVuMLW+0rL+vpHHtKWkfGlTYEwBgXUvlh2FRV09R91wHi4XBouzbPMz+MwjAKw0hpLaRkgl8v6ZQR8LUV/rVVpykHnegkRPG4nlPPM2IIU+3ytGtAQEjTbwAARp91F8MXuebnQPVpb4FN3tjAkNlh6Ma+b9uiyIsir8uyLsu2bRFgsVhpYzzf9/0gDEM/CLUxQmpgEpBdWpVd3fxFSfh1Mfn523/8+iMwzrkCDYEjwaXWnudFfVvBOFjX7/K2Hz89bferRbpaJmkcpUkUhgFDYD/CxOC/MLOQnpmZmZmZmZmZ+X6IyDnnnGPIlFTL5VIp5fv+arVarVdSSkQch3G9Xt/f39dN3TYdMuRCvNKgPzII9pnGON6AM8W0FEppHUTR0PVVVVVVtdtut5tNdtgXZd73XRQnq/Xtan2bLlbGGI6CARIgEDl0l17ReDJ/vsjhy/2/WUtf3mScKaZBqkmDMkTGGCE/ZpVfhPcxxInkzu7RU93vtZw7tjYiAHYUcgAwknPWVmW+eX7abZ+LPC/yTErl+34YRXGcxMnC8z2tjVaaS865BGSAYN3kNI2nkCyDi25nnz+6k6DE06AYciYQuZDG84MwGoa+LquiyMs8y7LDITtABlII4/k3N7d0S0EUegyFlMdlIjfl6l+8x07pzed3vsLVIzlvBJyqxU+B51PAfhL/NM2RTnXgADDZ0L3kHIUGOLvVEdAx6xoROTJEHJ3tmzov8qeHT0+PD23TjMMAiGm6WCxXURxHUeKHgZRaKMmQnxYcifDrQfDLt+5lBgUhIkeBjHHBpfYC34+7qOmbqsoPVXHYl+XTZsfA3qxW97fLP9zfMSY9E4CYBv/VZf3bZRbSMzMzMzMzMzMzPwBEZIyBAwQkR13XVWXFOScgZ13Xd0TEkE35tEAwDmPjmr7vi7Jo6sa51/rkdw3mlby59B1iyJBxIaTUUgshtTaMMcZQCl5WRVkCubEsMufGrmu7rjV+YIyvtAfIGOPE4BKWnK79Kkz66znGl0++tgqbfLquq2oB2UkavS3eTkfpuh3TFF6dgqpTWfBo7TD2Q99VVdlUVZZlWbYvi9zZUWvt+36UpHGcRnEcxYlSWkjBuUREZOyYKH/ZkbjqufXVSV4Mv6b6YAEcOB3jokJIIYWUEhhOjdOctV3XZoeDcy6oojCK/SBQWiulUTCc+kWRo5OKpm8zHvsS507myKY+YCePdjw/ycsc36o7v35nUtGXjIBTSTfZwXZjN/R9VRZ5npV5lmdZ37WIYDxPa50ulovVOgyjIAi05zPGkXMAcO5KDn/p1r8+++PHGCAyzogxxiXjiknNpSFkhByZsA7Hvimb/uHpMI7Utv0hy+LQj+LAM0oKLuWsGd9gXpSZmZmZmZmZmZnfBSIyNgXQoG3bsiydc2qjtNaTViFHfdf3Q88510oHQeCcbbtu6IcsO0yMw8g4o18rRv7tA5t+vfSnOrfwRQFSaya4kDyKgpvbdZFlWZYXRV4UxWN+yPb7p8eHdLFa39yni5XURmsOiJYYnQLT9OLCROfmTN+kpb/470um7vHQW1m2yPB1su9xqsco6JSljNh3fVXm+eGw2TxvN09935NzjLEoisMwCsIwCEPPD6XWSmvOBDI2aXg6m3xdJYvTeY/iK7w4/5wfjQAw1fAawwRTRhvfS9JFVeRlWdZVXVXl4XDwPC9KkihJ0uVysVxK1Fxwhmjh5BVGxzU7Rd7xjcrxLzyFs4Q+MS3jZx2zrnpZA1ycwF/J96l8+fr2DJExdNY5Z4euOxx2h8MuO+zzw75paimlMV4QBGEUB2EcBIEXBEpqLiUim2q03dSD7bNq+MsaAsDrWVyfdy29iQgdAAAHdICCCaY8zhg3JuzipK/Lti77ujyUZVlVnz59igLv/fv7P/3x/WqZpEkwC+k3mRdlZmZmZmZmZmbm+5lqQCfB4sg1TVMURV3Xl0RZOHZ4JqIoipfLRRAE4zh2bV8W+dPj03a7HYZhHEfFfpCJ9zU0Fb9eyaFTcSwiV4oBqCDwOUPnhmyfHfaHX3755dhOOc8AeVNXU6Ns3znBOeP8GH4kmrpWXcQ//lYt/dZ4r17/eoo4AkyZxleS+/gJhkfXKXKWAJqmyg+HzfPTw6ePjw8fGWOe7ydxEsfJu/d/CKNIe57S+ujFDUf9RojkAOgsO78v9nu9m3FcH0SODBgX2uggCKMoHoc+2x+22w3R83ZT7TbPQsqyKuu6JiCldQAAoEEATJ5fpx5WX6kI+C1P4WRFdv7nq6PHhXl1uZOKPk71JMURACYVXVfVbrN5evx0OOzKPBuGfnVzm6aL1c3tan2TLhaMS8E5AVpHRKekBGRwrIu/ynS43OXzvYDzwc/ndfpaEgBw4JwxYEIr7TEiO7RD1zRl/vzp5yw71EXWN5VgUDUdMeGIOAMp2JRLgrMN2RWzkJ6ZmZmZmZmZmfl+JoU8jrbrurIsszzb7/ZFWSC8cBMjR45c13WTJ5nxvDjum7YtiiLLsilw+mPD0SfwKoL6ygrrmJntiIEjAC6NidPk3jmp1ermtq7qqq4Zw83zY5HnUZwkSeoH4WSnjIwJjgTgHJ5aZL1emt+qpc+hzi+nLF814AKAY4Hyde43ImN2HEdr+66byo/LPC/yvKkrALi7f+/7QRRFUyJ3GEVKG8bE1Bf6JBNPWeHsEmT9TRP5fEbX/5xi3QhkJwctRCakH4SEoLUJw2ixWLZtM4xjXZePHz/lWRZFcbJYhHGktVbKIEO8iNovfW2+Y0fjnGhw5roa/Pq6pxfs/PXCqTjaOdd2Xdd3ZZ5lh0ORH+q6rptKKX377r3RJl6kaboMwsjzQ2CSYGppBnQqu7c0+c+dg/9vLOnnX5U3T34RUL/Oc6DJPA6RS6kJEVb0B+N7dZE1ZT50ddmN/+Of//Xh8XG9TNerdL1arJZL39NacclnFzKAWUjPzMzMzMzMzMz8Xoics13XlmV1OBx2u12WZQAv4nTOOXI0jqOU0vO8KI6HoW/bpiiKLM+MNlpr+qz17+8a1DEW96Ky9+VxAHBEBOAcMATU2iipjO+t1uuqqp4fn56ennb77Xb72LVdki7SdLla3dzc3mnFGUqGkk4Zyxd5c53j+zu09MvXr1oW07Gk+lhKjUCToTQhMoY4Eg19X5bFxw+//PLzT2VZdG0LAHf37969e79YrtJ0EUYhY4IxBohASPZSC41sqq2edje+9Zm8eRq+paXP/mjH1HSGnHEvCIzvT85bTV1tnp8fHx92u02eZ3Yck8Xy7t272/EuSlMlFWPinPY8VUrTiwz+lxrz6ilcH8frx3T1Pp3K6s/uYdfTOTWzctdh+mmThnDq8e2ati6y7Pnx4eHh02G/44JzzhfL1e3d3fr21guCIAg5l4CIyAhgnC7GTgHoY3U0AhDhqbsYXW73Ukvj9cpfVQG8Dp5fzj1m7CMiMClRcqm08fzFet0UhyI7ZPvN8+PH//jpJ6NkmkQ369V//4c/I9eAjDOchfTELKRnZmZmZmZmZma+H0REhlJK3/fTNBmGARGNMVxwLgScPL2ttdbaNE3X6/VqtYyjSBsdhMFytXTkJpmNDN8Oqn0nx7Rn/KKKhkskmRwgQ8YZ50xIpT1jPCJAxrhgCJAXBQI1dZFxhkBD1xg/8DyfK82ZQM4Rj/e5aKDvHffXHLTo9JPgdEsia51z1g59P4xDXVVlWRZ5tt/t2rZBRC8IjDar9c369i5J0jCMPN9zjsiRJUd0Wip4GbYn/Ma5fOmEqa74sxmddzHOqePEhOCIoBTn0mhDRKMdEaGqyqoqh6HP9nvnXN3UbV0bzzPaSC2RcYYM8FS9jBel/kJsEp2E8Tev8xc2QV6muRM5AiJHZMn1Xde2TVPXeZ6VeV5k2TgMQgg/CP0gWK7Xq5u7xXI11aIDoHXOEV184C919wRwWraXw3gzwn/1T3Z95LOo9dV+AQHhZAQ/2XpzLoVEwzhDIYDxthuatiNruxH2Rf3hYUPI14t4mQRJ5BujPa254Jx9Icf8b4BZSM/MzMzMzMzMzHw/yFBwYTyzvlkzxlarVVlWXdt6vuf5nnOu74ZhGPq+H8chiqLlcrlYLsMgCILA87wwDG/vbjebzW6zwx9ZgnnSCsfs5PN16RQPpUvdLsB0GhEAuek4YzxOYqVUEAWL5SrPD1VRlmVZlVlbl9uNTtJlmq78KAqCSHveVLVKgBYIEMhdCsRhqtT+Elcl1l+ezhtdl+iYFw0IZK0dx7Hv2izLsuyQHw6Hw76ua8aZHwRBEMZJEsVJFMVxlCitkPHROiLn6BjSJTZp5pO9lrv01jrZeX2Wun4c2OccM5PxlBf9+cROGn1aKyIgZBboaKsutUrShVAqXSzz7JDnh6au67rKi3y/2/p+kC6Wy9UqThKllVSaXQrGp+A0nlbotZb+ms31peCZ4GWb7nP8/zrT4thE3Vo7unHMsv3meZMddk1dt03DOQ+j+Ob2NoqTKEmCIPSDUGqDjFlHNBXZu0uX6pNyhtdqfeILqiVhBgAAIABJREFUYeCrMvHLd/y0N3QZ8ykUfxLUOD0EIARHwIAcOUQCJqUfJkwIrZc3N3VVtFU5dM3Tdr/Z7ZZJdLNe3q2X69VyvV76BpVkkiO8HuvfBLOQnpmZmZmZmZmZ+X4QkQuuQKVJqqRaLBZd3wNBksRJmgzDUJVVVdVd13Vd6/t+mqZxHHPBhRAxxjc3N03TMGRFXlhr/0pjfOvNF7JwCmgSTZnegAAoWKiiOInTRdo0dZHnHz78MvR9UWRNVTuirmvHcUytZci4FIxzRA6IeMybpeuaVSR6W0tfS7Wv5IEftTSeq4yP7ZUJgIah7yZfq+128/S4222zw6Hru/XNTXJzd/fu/u7d+/VqjcgmeWidG0Z7WYOzndixU/O5c/NJW382sNNH3WcKz52PvrLvupoonVK7T5ciAgsWCYGQMyZEpFWcpuM47ve7w277+PCpKIv9flsWUkrVNjWR45xZ5yMi54Ixhu6sKI9a+rQTQKcUePpCIfHLOR3X4uUTPF9kmjIBAbnRWjuMw9gP3dD1u93u8eHT5vnRWuvGMV0s4zi+vbtPFst0sRBSEoADsM5ZO8XN8fTzkhoBr4LMrwO+L/MDzrr4rJCPP9xJlLNL1BpffurklIfgTo+amBBKCOMF8WKJQNlu8/z4afv0cNg9H7ab58A/5GVRdd0ITHqWwHcctOB4bCb+N+VFNgvpmZmZmZmZmZmZ78c556xr2/bx8fHh4aHrOiLiQtTNsh/6PM8/fvj49PTcNHVd12mavnv37u7+3Xq9Wq9XUsrzdSbTsr/GCIncS/FBr38hIE1trOk4FABEcOTAMURQSgZBcHtzq6XK86wqiqZpEVmRZ8MwVFXhH2LfD0wQKKW4EExIRMZOEog+a2L0K2O9aBE8S9CzkuUABOQAwFnnnLPj0HVt33V1VVVVWVVVU9V93/l+EAShlDJZLJLFIopio4x1hOimDGc6x16nqdI5VukATp2xz1KSCF6nRZ+X8oVwOrXjoqsTrsPR+ProlUXaOZt5OuCAMSRg4BlDiwUgaqPX+U3XtV3XOee2m+eqKoIwCqPY9zzjeVobIfmxA/Z1T+7p0TKAVzL0aznr+HroBABkgWi0drR2bJumqauqqpq6auqqbRo7jlGUGGOMMVEUJ+kiThJjPAJ0zk3h30m00qs7vSjTPv1i1w3Czy9fxdUdILxokDbZ9l3Fnl+r8xczpHMWOAESgTt+zxARhAmjxS0T2gRxmCzB2RHxeV8MDnZ5uYyDZRouIi/wTBAYJYQQnLG/lQrqWUjPzMzMzMzMzMx8P+RotGPTNI+Pj3/5y1/6vmeMa6OHvifnHh4e/umf/umnn34qy7Ioipub2z//+e+qqgJyaZqchTTBD1fRx5gokbsSLXT188W5dBYySKeYLwGBA4sMhVBBIJRWy+WiKIrDfn/Y7/e7w36/L4pcSa09P10uF8u1F4TGMwoRuWDAjq2Jj2m0L3LMERmAo0konYO47CxtGVwJpou4Pgaj4ayiy6Ioijw7HLL9rqoqxhhjLInT5Xq9WC69IPCDgHMBjDmaxnJSx6dLX4/qdJcXB08C+ai9EaYgNJ6LwU+RdDo2WXKnFWYI5AjPZeq/8oivhnSUdlNfKZxacwVBsFqt6rraPm+22+eiyDebJzuOk5V6nCRJuoji2JBBwzlyvCoWfiGhj6kH17d9Pa7rMDS+PDpVRJNzY9+3fZfnh2y3yw6HIs/yPJNC+EEYxclqtV7f3Hi+b7QWUiEyABzPWfSnVG46uYu9nRt9jq8jg2MGAp5Gdd5bcXAsh/5SK+w3F326zjl+zaY+0+dqdiLgyBigNEEiTZgs4sWqqYr8sMv2202WH4qKf3xYLeL3N8v728VNGiEgeFNL+VlIz8zMzMzMzMzMzHwN59w4jF3blWV5OByIKAxDznjbdrvdfrfbFUXRNI21Tkpp7bjfHz59eliv1y8Sub+gcL+Rzz/3hlb+4rnX7746bVKGwBgC41wYUJoxzjmXUjImALHvBuvsMHRVWTgir608PzDGU9po7XEuGWPIOUyi8sXNXwVvL5WurwpxYUozJiJy1rlx6O0wdH3btU1T18dAdF1b54SQnucZz6TpcrVep+li8rUigNFa56a+xNex0N+WiItAZ9WGDAFwSu2+ZBUfNwVe6NM3FOKvdjojNyWYH6PkjAsmkEuhlDHGAADjKJXknNdNDQBNUwOidbbrWj/wfT/USgmlhFCMMTwlBtApJ/7VkC75zohTuvPxzVNfq6mKe/LMG8dh6Id+6Kea7aosq6psm5qItDa+7ydpmqbLxXKZLpZKKcY5Q2bJTb5u8CpPm371CVwfPWZV0FHYI5297QDAAb1SzPgqRv0rl76EvM/pAMeYuQPkTAouhVTIhFSGGLcOCdg49MPQlXX3vM9GOzRN2zRtFPlR4Pu+J6WQUnKGV73k/wsyC+mZmZmZmZmZmZnvxzk3jmPf9X3fD8OgtU6SJE0XQ99n2aFpGsZYHMdaa62NtWPX9c/Pz2VZOveqsdDv+Iv77L59JemuD3/24quzupIwAACEDMkBACqtI0StteeFi+WyKMqiKKqq7vu2qkuZaeP5nucFYRKFkfZ8bYxEhciQISGeXM5wCk2+DASfJfQUjoZzDJUBWLJ2tOPQ13XVNnVZFnVR1E3Vd/0wdJzLMAyN8YIoisLI8wLP96SSyNhoLRy3BPANFf2m0LnWew7gmJ49ffRURu4Qz7HHaY+AznnEJ7l3utznd8DX2wpvQcf5WyIgRI5C6iRZauPFyaJY5VVZNk3d1HVTVW3TZPtDGEVhFAVB4IeR7/lCSikVsinQygimlt/4Sk7jWWsjTpNlp0EebbvI2bEf+qGpq7quq7oqi7IqimEcnbOImC4Wnh8EYRiFcRAGWhkhJSAjR5Y5584bM/Da8OzXF+GU704A4Ny0kYEAyIAzRHZc9tO2xRTYxi9FuC9XfHHjKQ7NJq1+Xpfpa2/PPmhcCO1F8VJKFSVJ01RtVbqxy6u2qqo8LzYbvUyi5TJdpEkcBmEUKiEk/6+spGchPTMzMzMzMzMz8/0Q0Tic/hsGz/MCP4jj6Pn5+XA41HXNOY/jZLlcLJer7Xb7888/T++/EtK/ZwRwypmFt1X0W/m7X+bNP/zplK4spJRaBRBGcToMw36/f356Jtwc9oeiyBFRaW2MP/Q9uTFwFogYAOMSgV+3MXppCH2WMGcJfTUSso7IDuPQd23bVEVeFHmRZ0WeNXU1XSaKVRTFy9UqStIkSYXgROc05EkKv7rql1X0KxjgFGSeTKaddTQSOYaMMYGMIwMEflX3+2qdv3iLb9LSVyuFyLnkkVIxS7uuWzR1WRZPjw9DP9RV2XWdc7Zrm6lo3FlHDjxPM2SMT3nK51L5Y6+sVyM7rcvRbw2nKTty5Kwdh65tmmbKoy+KoszzoiwZY0pr3w/TdHl7fx+Gkef7WinnyJKdPL2PdnBXS/HbEi+m7691jiw4N5VoM4bIxdSY7Xjly97AtBlwzLX/8hU/h706afq0A8JJSAshlQqiaByGMjuUJisOm6Ku2zovyspIzIuq7oZudKMjZML5mogpwX+oG///j5iF9MzMzMzMzMzMzO9g6ljE2PRzGIYszxy57Wa73W6JSE/BaONNf08zNqW7/vULKScFA/AtyuUY9PtiOenpktMvd/SE5lwEQUA3ZDyTJHGaL7q27YfBWtvU1TiOVVl6fuD7vjG+53lCac4l55wQr4K8k8hg5zDuUdEdXbld37d91zV1XdVV01RNXbdNPQ6j5EJGsTJaaxNEYRjFQRgZYwCRTsW8U5nxlYr7JhV9rbQQADmCc8PYD31fl0VRZF3bKK2NMsYPfD9SxmeMIRcAQIxfOiPTMY37TR31VRV9tRjT+QTIHAA6QkSptOfTan0jlWqqsm6qvu0IYOiHosj7fsiL0g/8wA/0sem0ZowzxhAZXd0eL3cDPC+QI+scubHv+q5v26apqqquyrbturYdhkFro43RRnt+4AdhGMWe70sl2SVtnQE6YnhUpNOavuxljV8WtdfL9P+x92bdcRzZtfA5MWZEjlUFEAQnSd3Wsnzvmx/8/9/8dr9luwepJVESBwAkasp5jIjvIasKBRCkKHW3W7RzLy0KQA0ZEZk17Nj77GOt6dqmroq2rvqmGbpaCKl8rbXmQnLpEUItIiIZQ+H2V/IH1veWa3z85/5hIBxCxY3bl2gTKpTvU0I5k55qq8QOre3basC3m6yo2802u47WUeTHvg59pbTyPfk/r3Z6ItITJkyYMGHChAkTfj0QkNAdi0bEvu/zLG+bdrVabTabsVN0HMeMslGWIgQppeTvqlDtU51+rqHUnYnc8/O7LNrZ0V+LgEgo1b6vlEpms6IoF1Wx2W7X61Wepk1d5lkquPA8rXw/imIbJ1pb4gGhxDpAgrvwLgtIyE1p9I4CWQJujIdu67os8ixL8ywt8rzv267vBBeep7Tvh0kcx4nSWkiPCwFICEVrwe3pm7s7m4/Sovf+bAcEx5Zeph+aqtxslteXF3m29f3AD8I4maMFzhgywRgAoAGwsOuhNZ6CY8PwzfN/xOYG3HDBPQdzYEZyRylD1IRKweMoLsuiKPIiz/MiLfK8aeoCc0q5H/hBEAVRFMVRQBGZQLqr7d5L9Luw9nfr0q0ZTN9VVVFkWZ6nRVEURWGGwTlHCA2jKIjiIIzCMNR+QBmjjBNCCMFx/8IhOIeHELt7Wmnfsyq3b8Ix790569q6zjbbfLuqi6wpc6V0PJ+bJNFhzBhFJBTBIRq3P9KdUPB7VvvnT8DRmNGBQ7fPlKdMKJ97ylN+EERtXZb5tsy2TVOWmxzcZrXxQl8uZvHpYn46S+YOPM4nIj1hwoQJEyZMmDBhwg2QIKNMSqmU0lo3TZPlmbW2qqqu6/zA97WfJEnXdl3fEUqCIAAA7eu/8Rfr9/GCX8Klj9zG+C73wTsHQUQEgpQg54ITSqQnKWOUEMF4VVV1WVsLw9DXZYHgjBnaulba95RmXDAhEOlYOw17QkXAAdhhGIwZhr7v+7ZrmyIvyiKv66quK2N6SplmzFPKD0I/iMIoDKOIC8kYRUod7IRod3+o2C/Yv3DOjZyTIFqArm/rqlhfv3n14vn6+m0YRWGYFPO0Lsq6LJUfaD9kQlDKxnC1Q+vsOw20Hdh3TtbdpX3vkOBA8REJpYRQRrgQlFHGuRCCckoIa5u673tjTNu0zqXGDEPfdU3jeUp5mgtBKWOM7fPedjXeCM5ZMMZ0ph+6tqnrthnbihVVVfZd76xjTDDOpCejKIlnM+0H2vel5x2vrTtM5nA5fez87gLHiDlrm6bONqvlm9fZZpVvV55Ss+1JNl/EyTyezbwgkp7mUiGhSOlOcj9a3OPihl8xkNtzIIgADCkAUsIoY1wAEiSsLkVb0r6rmsGavDYO+sFUdVNWVVXXWitPCikEpZRR8j/A7D0R6QkTJkyYMGHChAm/HpRQLrjneUEQJEmyXC7TNC3LEgGRoOd5YRTGcZymaVmVjLHFfCE9mSQJY7e+iN5t2/ORcDf/ul/JVm4DcacU3/dFHw95UXvB1gFaZwGAU048SpBIqZLZLE/zPMvrumrqpuu6Is/KIveUVjrQfuAHYRBEXEjKGEUG+yJXhLEet2mauiyLIs/Komiaqqkb54AQ4nmep7SntNJa+76ntBByNC2PLmJwYAEdAWf3iWY3M0H4FWXpo5EA3dC1VZWvl28uXvxw+fpFGCVRlGzXy816PZuvZovFfHHqR5FWvlQKAQ9edQAHSMZtCeuOc7fuLO0N9s7jwx/tu4llDmB3pghhXPoBCiGklGEYlkVZlmVdV0PX12XVN21V5vlWBWEYRbH2A9/3Bad7K7cb67CtBedc37VVVVZlXuR5kWVt2/R9b8zAufDDcHQBaK2V1lprJiRlfD8nN3LMA43eLd/O4Q43jvdfAuecc0NTldvN6s3V6/Wbq83ySgixSubxfD6bnySLk2S+mC1Oo3jGPSWoIojW3ZB5slfc3X5z5H3LDrdfQUeCNDjnHJKbDQHnxsx9pJQJzw9hNEi0ftDWRd9WfVtlRVtV3WqVLiN/FgXzebKYJbMkVp6gRH76PHoi0hMmTJgwYcKECRP+ChBKOHDP86IoWiwWZVmuVquyLEeBevR1z2azpmkQUXnKU14URXEUU0rvPNWv4tLvMOm/jkyPYuf9zXfHO9whAIeKWEYpCuF5YRybYcj87Van6Xa7xU3fd21bd107Vji3TW3NQAjRziGIHVMdmyw5a0zfNGVZZNvNdrtZ53k2DMMw9EJ6vg6U70dxEsczpbX0PCElIAISN9bSuqPlQHRHq/OrQ9FxR6WdMX1b1+l2ff3m4u3Fi6rImzKvq7IsiqLImqY0ph+GDhPLGBDCGVBAAgAW0YHBfecs+Chf97vFw+9w6V3+GyIiF0SAUMoprYehL/J8u9kwQgqXt03dNTWUUNCs71rbD84aRpAzRinZMV8HYJ01xpihrqs8S7PtNku3eZYOxgACY8zTfhCEYZREceyHAWecCw4A1oE9FOPvxugOQz1UQTsARPLxXPpWabi1XdcUebpZLVdvL5dXrxjnRZEVRVoUWV6kTVMZYwCcb2NGEKggBMd6cnBkX7F9s4vygeW/Rzs/Og2HuThw4BwCIqWMUi64hqDTflfpuvKLdN0PtqqLoa3d0KV5vtmqoq4HYxHRGk0RBWNIEPHvW+Txd8VEpCdMmDBhwoQJEyb8VUCCXPA4jh89esQY830/TVOllFLqwYMH5+fnSZIAgOd5hBApPe3rOI7/htZud++PfxXea8bdMVI7+rAPd0Nw4NDt6CKiUF4MwBjzlAzDoKqquiqHwVrr6qq01pZloXUQBKHWWnAuhOi6tqrKuizyPM+LtO+6YRgE51orxrintPJ9rYNRjuZCIuW7cKldbvmtxDSHcBjfDYs+plMfh9GJjQCcCz/Qvu9LKTkX2vN8P1CeRyk1fb9avi2KLIqukvk8SeZRHMfxjDGBhDhEY+xgLaGUcUEZ28nAHziqBdj1rLpvSLuS5t1knHN2LDl3gEgYZcpTLnZScK114Add23Zta4ZhaLvtetnUVZ6mge/7QRAEIaHEAZje5EVeFEVZlnVZNHVtrZWe8hnjUkrP833fD0JPac9TlHIgdOzJZQ/DgXHM+wbPdy8bcL9k6Q9zR4Jj33LPE1p7SkmlJBciCHxfK3CmyFM7mDzL3l5dzBen85MHQRgFQSyVMsYZa0arPwISyikfowrIR71O9rz5+Fzd/LTvpmZ2VgcEwqmnPSSAlEvV1WXblEPbUDDtYFabvOv69Xo9i4J5HIVhEIWhrxWlYwLcx6/NbwUTkZ4wYcKECRMmTJjw6zFmcXMukiSRUgZBMJ/Pq6qSUo4ydZIkSqnxZ0op50IIIaS4Y+3+K/ErneEfwv3WboBdl2lnR8EVb0RgZwEIICAhnvQkE0p5URQ0dZMXeZGnWVYUeV5VZVUV1jg/CJNklsSJ9jU6XZbFerXcblZ5keV5Rin1PE8pP4jCKIqVH3g68KQijFHKgRAAYvZ9j3a+8FsBXXft0QC/Yp9hVJEdEJCS+YHva+UpKaVQSoaBlkpSRoa+K4usbho/CJL5/GRx8vD8MSNEKs0oA8S2H9qu49JTiAcnwp7pj7+8s9rvFPQi3rkRAAgecWkAIJQAQU8pLnjg+01Qd01TFkWRZ1VRVFWVpyWhWymE0vrk9AEBx4VwAG3XrVfXy+vrqqq6rrXGaq2V9n0/8MPIDwJPKc9TjI+JYgQA94t/TJxvr//NNGHk/L+wVtoBAXRIKJWSK8/TSmnlKU9KKSNfa63avi+zLE9TeHMppPfg4XlV5KcPH1GCQrChG7q+N9Y55xCJlIoQgpQC2tts/55hA7hbDPru+dkp727nj6cADhlnhFImuVR+ELVN1TVFWxV1mbVl1qTFerPmFE6SeDGfPXxwAg6kEABACL5nz+Q3jYlIT5gwYcKECRMmTPhrQQhKTzLGGGOe53VdxzkXQnie53meEAIJcs4JpYxSyhj527WW/TvI0T+D94x7lKTHellCCEVCCSWMciYEoZRzxphgjDMu2qZtm8YMfZlv+67mG8oYbdu2LIumqY0xnhhV0MAPwyCMgzDylOJScS4ACBC0gMe0+e84c7erq2VM+Mr3gyAMQu37nqcYZUopP0i4VGmWAkHnTJmnZuiGvqvKXEiPEEoIBUKB0CiecUY9pRw4a+9omx+DeyulCYA9JqgIODZYY5RRSiTnjFJOmWCCc84oGYbOWlMWubOmyFNCKCAYa6uyqurKORBccCX8MPD9UAeBHwRa+0xwzuWYL3d09MO/h0ivv85nceR6dw6QjBtVhHOh/CCMonyjhZSeUjoIojjujR2MbbuubVoz9Hm6sUNflXmRbsJo1g9D3xvGufCU0j4ACCkRx0Xbj/f+nZZ33PfvswfcWDIQkCIlhBBKKDBBKeOMMybGF31Xl0NbDqbbFnXXDU3dFkW12Wxns2Q2i6UUnLFPK9l7ItITJkyYMGHChAkT/logIqUUAZVWjDNjDCWUEkoZZYwBAqMMJSIiJRTxdsXuUd3sx1TP/n1xiFn+WOzv6mBn7AYEtDDqdQhICUehAxCCS0/5QVhX9ZgF3VRV01Tb7bJt6rapkSBjQkoZRnEUJVoHyvc95UvPE1JRNqZhj4WvY6S423NpHAcAAIDva7R0c5dfgtE6btEh45yAHwRRFCVRmAjpWQfS02fnj2fz0+12k6brPE+LPEvXyzLbXrz6iRACSCjjfhgHYWzMEIQho8TYIx6NR1O4s6A34z5Er9/i0g4RnEMgDuzRpeNGywACMMqIREqoEMIPdNuEdT1657Miz9+8uSrLwlkLgIRRrX2l/cAPgyjyg1B5SiotpBRCMs4JZUcsGu/dv3gP2cR91fT7rd33X/dutLgjIpee74dhFCvlMy65UFoHSbIQyhOerusq26Z5llZVdbV9uXr75tL/SXjKWjAWong2PzlbnJ4JLjECgsQ6uHXl7Ad5m0U7OK7oxqP9gzvzdu7opIynCgEp5RIJMkalkDoI+qbq67JrirrI3q6y9Sa9uLyMA//zzz/7/RefJUkEnieleO8S/fYwEekJEyZMmDBhwoQJfwOMllfGmbfrBnQLlFEKd9PFfnP4NTze3ThjR/6BO0vsvsaVMEoYo6CU9oM+6rumzdI899LV8k1ZbtLtcrNebddLIb04ns3mp4vFycnJSRAlSgXS04RSpGzMw7LOObvvEE0A3uXG71cOfzF2jYzBAqADTgUS6gdRFM+jeAYAxljOxOLk9OlnX8SbeLuNLl6/KIssTzdt07Ztba11AJSJ+cnZyYNz6akHZ2ew67IMbp9o7d4RRfee9NtbLLe59K6rFqJzt2mqHbtZASIySpFS4EIr5Zzt2qbr2vWKdV2Xbtbr1fLq8nXfdYhESPng4flDIaQnk2Q2PzmVQnLpjXsBQBCA3CpBPxrtzYLds/x4dMt7uLS798l2vxMARCq48IMwjGaeDriQXErp6SCKZ4vF/OS0LIrl2zdvKC3ydPXmahh6Sjih1AEBxPnJw77vORd+EFpr0QHcw6LhQyz6aNnvY9FjjfTO7I0AgATRUeRIGQgPtAHbt03VVkWR8TTNl5u0q0swna8EIXQ+mwkpGefyntX57WIi0hMmTJgwYcKECRP+odgRInhPz6l/EN5HqscwqXtcxocH3vwf9z2y9n9EQhmXEMVOSkaIBTTODX1Xlzl1znRdU5V5lm1XqwCAMiY8pUd37zgc+w4R+wVlt798l8DhgZMCIEEHytPJbDZbnORpluVZVVdd1zvnOOe+72ulBeOEEgd2bIVtjAHSMi6B0CCOT1YP49mackm5B4hjYNUHR3Bkdbbulix6wG6Qe5q6r5vGfeD4LmbauK7riqJI0226WWd5RgmZJTNjLSISyiihRZF7nhr/gxC59MjIopHYo5rt9xFfd0Qpx5Hdnc2HJnj/6Rm5O6Vcekr7odK+EB4gabu2LIt4NpNSOmu172utOGXgnB2MIw4NGQZjrGNcqGWodKCDMJkvxosQGd9fOe8WSL/Lom+m9y7w1s/7BDhAIATQEkRrwAF0g0uLZrPOVtt8nRamq6kbEKFuu7rtuq635te0B/sHYiLSEyZMmDBhwoQJE/7RQPjbFU3/LXA/vcGbmw4lsR/5NCMPRGSUckI8IaIgZBQRjRm6PNswzobe9F1bVUW2TYXQnHs6CPdpbgR3fu4bUfSWnvizNPlXe+YRYWw/TIAQKpUfz05m87Sq6qauq6ruu9Y5J4QgJNBac8kJonPODEPXdX3XWQAAaqyN4tlmvZynpyqIfCqQHm9FHP9s3xnx3rb+AS49yrfO7uqm3di4a39dORgG23ZNUWRZmm636yLLOGfxfE4QYTdgUxYF51JpX/k+lxIBkCIAcYi4b7d158pwh9V3hxNhEcntCuT37MrcuczubM3Ym3sRxqTSQRAqrbmnnLNt25VFZayT0qOIjfYLpTlj4KwxBo11zrVd23U9Eio831N+nMyrsqRMSKX5/Sz65+orDlcf4j4+bXc6js4KOawMIQwREIhz2PQuzevlJl9t801WwtAI6hgjVdvWTdv1g313l+i3jYlIT5gwYcInD+ecNbYf+qqsyrKsm7pt2q7vrLHGmrEikVAipZRCKqV83/eURylljN3zvdWBtbapm7qpm6Zp27bruvsPvJePCBJEZIxRRjnnggshBBecUUbZb97JOWHChL8pxnekwYwkqh+GwVhjjBkZDWWUM844E0JIKQ9vQb+6y/HfFjjW3JKR1+/+BvBOIrgFAEDndu7i21Ld+yRiBESya8tMkRBCPE96nucp6Ws/CEIAVMr3vEB4XtvWm83SOlPkuQ5CP4io2IU2GRh5IvwKDzfajyHUd57W7c8PceC49MIwSWbzt2/fDoNZ/uczAAAgAElEQVTJ8+zq6lJ4nrPGGrPdrM1glfaF9Gazed/3fT8Mg3GIDqh1rmmboigol0o7erQj8M52xZ0BHP3iAGAMTL+77LBToB3ZexussYO1XdPUTV2XebrdZummrivGRTKbaT/wfZ9SCoDGmqoqy7JknFV1tVy+7bqhaVulfc9TQnpICKF0Zy/fNZTaLc2d7lB47EP/KKv9B87J2E8LCGFSeL32lQ6DIKiqsqprs7pWrxSj1AxDtt1uN2sHGM9O4hlIIQmhVV1XdUW5J4QchqHruqZpPN1xIQDut1G/t9O1g7Hyf/+rPZ4WAtwyaSAA4DAMnTVD3xZ5XhRFut2km3VWVBaZDhMcGuJ6LgWhzDqwzrlfU1jxj8REpCdMmDDhk4cZTD/0ZVG+vnh9eXF5vbzerDZplvZ93w89QcIYk1LOZrM4js/Ozh49enR6eqqVppTeJdIOAGDoh812s1wul8vlarXKsgzf+Zbr9gISIcgYY5RJT2qtta/jKE6SJAgC7euJSE+Y8L8NZjB93zdNk6ZpmqV1VTdt03c9EiRIlFLa12EQRnHEGb/1FoH/3cbu+w+GiAiUELq/2Y5dmkc9cl+c7ByAc0eEaU+m3udQdw7ILgHrRsxGcICUMB2Es/mJUnpxcqqDMEvzPMtWq7fX128o4w/Ozs8ePgqTeRBGSgTonHXWOHRwcODunnx/LDgOHMMjq/mtEd1dBfKeZRmV3XHCwDkPoiiaL4RSDjHL0h+ff7fZrJy1zhoHzjkXRkkcz2fzBAkzxjRNu1yv16u19JSxrq4qHUR3CNvRQY/kaHczjyOq6gBx32ns1iQQd1HmiIQggDPt0Hdtt10vl2/fbtbrpi7rupZCJPHMD4MgjMIwpJwBoBmGLMvyPCuLsqyKLM/X6416o5PZfHF6mswW0vM8phHR7Uik3Ue93bLy3wz4cG3gz7dmc/eWCZDD1JAQSoVQWvlhEERx17dpmm6366au3r65stbWdd33g/LUo6efJ/FsNl9oP8iyNMvyoqrqunFInXNd1/Zdb9W9hosDk31nuM4BHtp6376eEI8WwToYO0IjQWzaoSzzLN1eXVxcXV02TW2tRQStw2Q+w6GxTSGJVZ7/aYV1HzAR6QkTJkz4hOGcc9bVTV0W5Wq9ev798+++++7i4uLq6mq9Xndd13UdoYQz7nne6cnpgwcPnj171nc9AMxmM8KIEAJv+ymdc8MwpNv09evXL3568fLVy+X1cnfbnk8fPj3HnF7OGOdcax0EQRRHp6enDx48mM/nySwJw5AxNjbDIJT8loybEyZM+BvDWmuMaeqmqqosy5bXy+vldVEUY2NeREII8X0/iqLZbNb3PaPMUx5n3O3yin4DLBoArHPWDTgYN8Luk7gBCUUkSHZ+4R13OBIfd89871PjgT7veQjCSJUIoZ6n4mQ2m82fPP0sSpIXP/1U12WabrbbtB+GfuiQoAPHGBVcuL1KeUuUvl2zje7Icnw05ffX496U9brjKexsvLt3fuss5VIFUZjMPK0pY3VdXV1drJZvxykGQTSbL5LZybPPv/jsi997nucslHX9/fffPf/hOeOCUNYPxhjzHmp5y9S9HwXCwdQ+3rzja7fmjAgIjqAF58BZ65wZTFNXZVEur68vLl6vrt9aa501i9MHyXx+/uhxGEVRHBPGAMAMQ5pu0zS7vHydl3mWbvM8I4RWdeUAKOXWWTrarG6fSrePHR+3W24norm9d/pDTNp9wMQAOMaNEUoZA2uU9sN4NsuztOu67XpV5Nnbq0sH6KwTQgaf//7J0y8eP/ns8dMncTLbbrabzebqzZvLy4usyCnj1jprxwy4d4bh4ENZaM4B3pXXj/wA49bG6GkDcG5wrqzKzXa7fPP2xcuXL1/8CIDKD4Iw8IL47MEC+rrJlsQ0wlOI5M7zfRKYiPSECRMmfKqw1lZVVVXVi59e/OXbv/zw/IdXr169fv06y7KqrtqmdXujFAISStbr9YuXL3568dPz58+fPn365Zdf/vNX/zyfz4Mg8NQuYncUE/qh32w2r169+v75999///3l5SXsv0gdSdOj6gI4fjsmZLR0e54XhmEURovFYmTUI+I4jsJI+epdcXvChAn/AzD0Q57nWZZdXV1dXFy8ffs2z/OiKPq+N8ZYaw9bb5RST3rzxXxxsnj86PGzZ8/iOLb2ozzHf19YsM46a7eb1fL6zWa9atu2axtKiZBSKT2bz2azhdK+FIKxoz4973DpjwfuArfGSC9COdNan5+fa602m+1ms8mzgjC2Xl03dbPZbIIw9oMoCEMuPMo4oQxGunYkJ+/riT/CVfyem28eiOAcWDfyWIsASAiXUvnBbHZy+vBRmefWDIgYRXEUJ8l8MZ+fzE8W8/mJ9kPGhANAJh4/+Uwon1DmaV/7gR9G48iP8OH6WASy//DYGaJu5jzSbHQWAYwxztq2LsuqrIoiS7dZmrZ1ba2Lk7lSnlI6TpL5yWkQRlx6FsAZCwDWAhdeGDpjzzn3ZvPTuqrqunYOltdvy6KIojhOEh0EWvueUuMnHyJY58DuHd031wLe4dL3z3EXkwb3FQTcKYFHAEII84NwfnJWFGVeFG3TCckFlzoIgzCO4/mDs/Oz80ez2UJI7YByTwcJnBHq6aDp2jCahXGsdMgFv1vpfctWfXswO119dzm8c2IOlwoxw9APpmnbPMvyPM3SLE+zoigckrNHT4WndBD5QRBqKbUYSoOEOYPu9tN8QpiI9IQJEyZ8qjDGVFW1WW+++eabf//3f/+P//yP9Xq92WzMYEYL5fiF1To7DIM11jlnnQ384Nvk28ePHxdFobVGRMbZgUiPm8l932+324uLi+c/PP/Lt3+5uLiAPYVG2MvXd7QOBNg3v+GcSyFn89n52fmTJ0++/PLLr/7lq8ePH1NKPe3BxKQnTPifBwfGmDRNLy8uv/3226+/+frFixc7UwzZvRfBaHgxQ9/1zrkkTpIk+T//9/9IKYMg+C2URzpwztrB9Mvl8puvv3nxw/dFkZVFLoQIAn82mz/9/HP7uZ3NLQnjW0Qadjz48NsH3uNu3zTSaHQOrXOAhFGmtNZanz8+z9J8tV4vr1dXV1dXl5fr1Up62vfD04fnZ+6RHzqPwOiNP35TPvKaf/Ctdn/b+4qTj9/d3V5SddYBUsalUkGyOD07f7wRqzLPnDPz0wfPnn1x+uDh4vQ0SWZUCM4EEnSAwgOug9NHjx0iIgGkSCghFAjuw6t+ju/vAsbI8VTH5QPnRoJKwDnrnDVm6IuiWF6/XS3fbjeb7WbNhYiCKElmi9MHp6en2vel5wkuAMFZsHsuzLhkXAhPz2aLsqyul2+Xb99mWbpcXg9dn8zn83w+X5wsTk4Yp4xxQhHg4EzY10s7d3MtoMUbzfw9OwW3uPS7J2kv1SI4QEK5DuPF0OV5vtmsq6qS0pOefHD26MmTz88fPwvCKAwTLgSl1CGRnmLC84Po5KGxxhHGCONICBIC++oEeIfBHzsdjgoVbrqLARwc3LsZjHfrnW27tijyy8uLq4uLLEvLsrLGzk4enD0+D5N5ECdaa2I6Yruqa5BSNyAguncJ+qeAiUhPmDBhwqcHZ93Iol+8ePHdX777j//8z6+//vrVq1fGGEKIH/tBEARBIIUUQgxm6Jqubuq8yIuiGIZhtV51fRdHcRRFxhohRBzFx9WJoyjdNM2YXpbnReD7whOe53nSO84HGr/72tEtd8Bg6rp2K9e1XZZlZVVlWfb5F5//7ovfPXn6JAzDMAo54//99ZATJkz4e8BaawbTNM1mvbm4vFitV13bMcZ83xdCcM455wci3XVd27Zt2w7DkKbp2zdvLy4utNZ5njvnxuTC/55h38veLDhn3TAMTVOXVVmXZV1VTV3VZV6VOedCa59SKoVUSr9bSPoxqtoNyQIHOGZM75RMBwBICGFMMME4IYIywZi0DqyxTdtaY4e+LbItQaiqwvdDpX3OBROcUoZIEAkS2Nmz7yVIBOBI+3/3Du9O4DgpHAkiEAQuPT0/Oe3aLkrmZZ5ZY84fPTl/8nQ2X0RR4oe+A3QO3DgaQMm5RO0ArAXrnB1Lk+5GdL2DWxcD2ZPoA9Fz6MA546w1pjf9MPRtXdd1VWVZmm43ZVk45zylfT+Yzeaz+WI+W0SzuRCSUoKEOmeccWb3UTY6JgihjAuPC886h0gY5wRpWebOuiIvENEMpqlqpbX2NeOcEkoI22+JHGzwDo6c0O+zbu9nie+5lRxLtQ4QCPU87eLZ6dmjru9VEEkhpZQnp2fn509PHpwJqaT0EIlz1jlAShkjDIQco9ccOACzu9jcWIF++9Dk6Fe7OzG7zZmxrxUiuTlZzjjr+t6Yvu/6vivLOi/KLM82m01ZNxZQKs2YiBcnycmZHyXKD4QUrq1sZ4HSOxP85DAR6QkTJkz49DCYYeiHdJt+8/U3//7v//6Xv/zl5cuXVVXNZrPFYnF+fv70ydOHDx8qpbTWfdeVVZWl2YsXL169frVcLjebzWaz+fGnHxlnhJCTxcnjx493Bcy7TiF4MGwjEilEnCQPTk9PT0/Pzs5ms9nuHvvSr2EYhmFomqaqqrIst9ttlmVN05RlWRZlURYXF69fv369XC6zLHv69Oln/DNUSNk7UWcTJkz4BGEG07VdkRer1eri4qJt2mSWLE4WZ2dnDx8+lFJSQnGf3NV3fd/3eZZ///33P/zwQ1VVo+fFGOOcI5QQ/O+LHbpfiEOklEoptdYEgXPW1GVdlV3bhEEYRIGUKozi+Oee+f2m6bu/3BBpB8Y5Yy0OrgeDlCrtLwgT0lssTtJtlqWboii7proqc8/TQRQFQRhGcRDFQniMC0rRWtipheN09nLnzbHIfUPZ6Y3khjTvsRce0YEDC2OVOJdqcfpQqaBp6r5tnLFhHIdxLKWiUgw7hobW3kiex5MFC+7u+/8HJUm3z1Lbh1qhA0CH4KwZrBm6uqqqqiqL7Wa93W7btjHGAECcJNoPgiAKw8gPQk94hHLrwBkAa8b5uX0a2G5jAxAQCRNRNBNShWE8m6VFllVlWVZFutmUeb66lsksiZO57/ueUtJTlDJC98l5iDf7BGjRjdSTuPfb1+9j0iPD3H9OOnQIgJRJpQk+eER0ED+pK8YZp1xp3w9C4fmEUDMWTN9e1FElt+CsO1wPZL97c/OKu73DMm6CjBl7DhHHvYz9Z791Dqwx/dC1TZ3nWZanaZqlaV5WlQPCOPfDWPmhDkLthyoIufSA8N4AWHB2x+r3xeaf5JeBiUhPmDBhwqcHa2zTNNvN9vvvn/+///f/XVxe5HnunI2i6Mt/+vKrr7766quvfve73wVB4Pt+27ZlUS6Xyz/+8Y9//vOf//zNn/M8T9P08vKy7/tZMvvqq6+GYaCOIt95uG4BkHGexPHTZ0//6ff/9OWXXz59+nRn8EZAROdc3/dd141Pu9lsLi4uLi8vr67eXF9fZ3mWF/nri9fbdNs0jRkMIs7nc0YZIPwNgzrdLlZ3F6xr32ngsdsiIDtr+oc5/KG8fF9reEuud9Yd9AsAGI30gDdjOBzx5qu0G3X73XdIMuYV7RbxvUd31t1M5OiL+U5yev9cDotxM/33HOsDK3CY7Giq/Jh1m/C/E2M9SF3XaZauVitCyGw2Ozs7+/LLL7/66iul1PGFZ40dhmG1WjuAq6urtmuvr6+ttVpr3/9thPciciG1H0TxTHle7+vNypV52tRVut1slsskmfftvU0Bb706PiBPO3AOrAUKNxWqI5d2zoF1YIwDcIRS6Qnp+WGUuId2ubx+c3nx9u3VZr3KtuuK5W1TdnVpzUAQrDLSsyAkErqLCyOHQLJ7x3AvbkeWHU3EIaA7MCnHqJjNT+aLE3BurDEmo8YLYJ214OwYKu7AuZ0xfE8sf9E7ydFgbhbUIgDYsbrZDH3bd21Z5nmWZtvtarVcrZaAKKWnfT9OZg/PH/tBqJUvhGesGd+IrXPgxs4TOHJoBwAOnQMEBAKEch2KMEqiKEnieZ5v31xeNE1VVVXfpQDQd60ZhqGPjYkBgHPBBUfCEG/nn42G7z013fHSe/DuguzVWrfLTAdARMKFJwRXfnDy4OFoYCBIAHD8XLLWmuMjkJtPLhhbbI+8mOB+6wRvn/RjjXpcmN2Yx4C7gzhujXPW9m1bt3VZFqvl9Xq92qZpluVN24fxLIhmyeJkdvowjmdIGBBqAS3AeALQjUR6TIg7FIF/YpiI9IQJEyZ8emjaZrPZvHnzZrVapllqjfF9HfjBl//05b/+67/+/ne/f/zk8cnJydimVUghpGCcNW1DGTXWFHlRN7VzLk3TUaDO0kxp5TP/ToI3jJ/bBIUUYRAtFovzR+fPnj075lQO3PjNuGmaUYVerVab9ebV61c//fTTxeXFdrPdbrdFXvz000/OOUqp7/tPnj5ZnCzinxF1Pgoj7TSD6bu+67uu67q+H4bBWWuMOajrY/daIYSQQgjxgRRx51zXdl3XDWYwg3HgxlavAGDMrq9P0zSAMDbKVp5SSiHi2Cx3HMShWe7ImNu2reu6adsxL3UUuzylKCHHyry11tndxkTXdcMwjP3ARxBCdjHpnDPOpJBCirH69EA/xi/i4zi7dhc4hwQl3935Zx31hybA/dgBth8YY4eDcs7/+lM24X8e3MGYjDj22/M8Twjx7ubN+HpklHpSBkFgjCFIhmGw1h5v/fxDgICEEACWJPHnX3yRxHHTlE1VXryQfdtsneWck3217gF7fe++N5OfIQcfmu8oUIMbGyYDEtTaPzk9FVKEUZzMF13bGmOGYUi3m6apPeVrHXjaF9KT0mOcU8rHPGq8GeRHL8TtGmkAwCOjrzv6fRycG7VqtxOczcEzjHspdV9t+5FD2B/XHrjgfuMQnAVr7dC3fdc1TV2VeVXldVk1ddk2LSF0vjiRUukg8IMwimIdBEJKRGKsOVxi+7fBndzuyDiffcnv6Hy2aNAhEi6l76LTMyuVVxZFXRZt2xDELE2busmzTCk/CAIdBEJ6QkrKOCIhZCxrRhiJ6M+cgvtt9eMgdw2/nAMEs5eqHSBBtM7tXn1ur/EedzE78OJDNfrd6/fumrujf/d/HGcCAGCNsdYaMzR109ZNWRZFkRdlXtdVVdeE8nh+MqNch5EfxMqPuJB2HJBzDtCOHcARkZBfnc/328FEpCdMmDDh00PbtHsivcqzbDAmieJHjx599c9f/du//dvjx4/DMFRajRvV1lnf933fZ4zFcVzX9eXlxXK17Jouy7LVerXerNMsRYpKKcaYAzcSNtip00CQSCmjKFqcnDw6f/TZ55/dHZAFCzuyNwxDUzdN3fzwww9ff/P1X/7yl2+++WYsz+67vixLrfV8PmecKa3+RkQajLGDMdVo7auqqqqbpjFmMIMBgDHrSHpyzDQKgoAQAgwIvV/7cs61XVuVVdu2XdcBQBRFnHFnXdd3dVNnWTb21macSU/OktnYRWzoh67vyrKsqmrsB+Z53nj0uqrXm02e58MwWGOCIJgv5oRQIW766I7yrzGmbdvRJF/XdV3XI521xo49xMZodKWU7/uhC4UUBMmNnODAGmcGU1dVWVbWmPGE+r5PKSVAkP68Lj3GQdV1XZZl13WCC865Vlr5aixunzDhGA7cSIN3JJkxKeX4fnJvfBIllHM+XsNd1yHBkUj/A4Z+BwSIRUJpMptHUTg8flQWRVnkBGy2WbV1ITg7VLWM+ACLPtzhA6+YY6/vjZfl5i9jne2oL6PWWkoZJ8msKMqy2G7Wq9UqS7dNU282xvN0EMVBEAVBaIPQ8zR6yICMCuuOYtmf4VHHx8dbfzsETe29OntKZkfajeCA7Pjn3qe8+/dIoL3537HoeWtFbq8C7vTSkUXf7N5a23ZdVeR5nqXbVbrZtG3d9z06F0ZxPJtHcRwlszAIKZeMifGs2X0j8F021p6h7w5FAG4oH4AFO7apJowLZIxLJWfzeVFkWbrNttt0u03TDQBwzj1PzWbz2TD4QeCc9RRQyhAoITsdf6S744Rv2QTGxbnpVHa86ofQb9htX+CurNntHU9mV/Ju4WjFDxPczRCP1/n+bPxjkn/MovdbGLutFQSw1g1D3zZtnmV5lqXb7TbdFGVhwTkH2g/CZOZHiad9TweMC0A6bri4nd5PcOcOJ7DPq/90MRHpCRMmTPgkgYic8ySZnZ2dEUJOTk6ePXv2+RefP3r06OTk5Fg5pEABgBKaJAkiLuaLKIyVp8ZKxbZpm7rpum6UXm8dw90EsBCkY/9STymt9QcGNrahNoOhjFJGpZTDMFRltV6vq6pab9YXFxc//PCDH/hJksxnc0IJY+xXGIZH4dRYU1V1nuV5nq/Xq9VqVRRFVdV1XVtrxq/miEjJjkjHcbxYLGazWRzHSZJIKRljByo7ou/79Xp9eXGZpllZFNbaR48fPXnypO/7LM02m81qtVqurillWus4jp89eyaEBICqKvM8v76+vn577SlvPAoAIOBytbq8uLheLe1gjDFnZ2eff/EFAARhyBhDgsaYoR9Gip5u0vVmnaZpVVVVXd3pHiSlkNJTSs3n8/lsPpvNklkSRiGllDE2KlRlWb958/bN1VXd1H3fE0IenT96eP4oDH3P84QU963o7qQPw5Bn+Xa7Xa1Wq9WqLMoojuIoni8Wp+RECIlkMnhPuAWChHEmhFCe0lqDg6ZpVssVFxwAPM8bDbTjna2x1tgsy5bLZdM0hBKlVBzHQgg4qoz4h4EgAnDKqZROeQQBwSpPcc7ouMV4z9bAO4nDtwnRO1z67hzfMfvuq4EtwqE0GJFQRhhjnBFKd5XnSBjjdVXVdYUIXVPnzgxD17aNUlpp31OKckGZQEIAEA/WlZs21D+P21O5O6+jTYQdTf2A+v2Rbxz4zg/OOWuMtcYMfdM2XdtUZVEWRVUVdVX2fU8IVZoLLuNZkiTzIAz9IPSUHuVPZ/cFL8dj3zua3Z2DjyeU7OaCiICUUCoYASGRjJtFnFBKEPu+tcaaYajKEsC1Ta20r7QS0hPSY4JRKsguWX0nEbsdlz66Lt4btW4BiLspIB7N8vZgFD88+mPW975e1ngzMADc74DsWfRInx0YY6wdhn7oh7Zt2qapqrrMi7Isq7rqe4OESS6YEH4YhclMRzGXnhAeIBoLoxC9mxgBaw8bv5/858hEpCdMmDDh0wNjTCk1m81+97svmqZhjC0Wi/Pzh0+fPQ3DkHFGKb3zECRIGfU8z1Oe9CTnnBBinTXWjCbeMenn8EF7/PPhD+7g33z/x9/oPUbAMZNMeapt2q7tnj9//ur1q9H4/eOPP0ZxdHZ2dnZ2prSi9Femjg3D0LXd8vr64uLi4vXFxeXF5eVlnud1Xbdte1yxjIiCCy74fD4/Ozs7Pz9/8vTJZ88+S5JEafUukb66evPnP399dXW5Wq2GYfiXf/kXa11dVa9fv764vLi6enN1dSWlnM1mDx8+BID5fO4cbDab6+u333/3/ffPvw/8YDTYG2Ossa9fv/7hxx8vLy+tM87a3/3u99ZarRUiaq3RQd/2eZm/fv361ctXl5eXl1eXI82o63p3avbTYYyN+vCDswcPH549efL0888/J4SMK2msbds2z7OXL19888032+22qipC6Fdf/TMAWPsACb6XSDsAANOb9Xr98uXLFy9e/PTTT9vt9vz8/NGjR5/1nefJIAgoUCRTC7MJNyCECCGUUkEQJHGSZdmYaJjl2Wq58qRH2U31wTCYrmuLvHj16tV6vZ7NZ3Ecn5+fd13Xd/2tXIB/HNyYb2zBWmeNtdaMOdOjpXYnpO1aN+0bCN15F3N3Oecx8CAS/jyX3RcW7yuMAZAxgYogEuGpKJkVeZ7naV03bVPXZdE1TZGlSvt+EPg69PxA+wHlklC2ozJwELvvO/7td/i9v3pnDd6HOh9KZQ9+bXJLhYY7z3B7+sdS/L6X0s2tZJS53d7MTZwba17apmmaqiqKvCyyuq7qqur7hhAmpKe09oPADwKtfe37QkjGOSAZDc/HYvB+6M7hoTr4nTHi3piO+xyyvVLOhAwiFFIopeNkVhdFVRZNVQ19t1mVRZYp5XlK6yDww1Bp7SktiAdICEG7P/LRWu+Pd4tLH4/D7hdlvMnCzRzszb1uP278nN7nhN046t3+zgiw2yq4OdIY3waHR4z57NY5Y+3Qd2VZlmVZFXlRlHVVtU3Xdh0i4VKrkHvK93xfKC2U4tIjlNixqdvOUXF0qF2WufvYV8BvGBORnjBhwoRPD4wzrfXiZPH73/9eKcW5SJLkZLF4/Pix9vX7qlgZYYwxzjhn/MBdrdtZso+FIGvt7jPu+IN5V7E3/vIhLj3GfcdxHARBHMZlWY5Fxav1Kk3Tbbp99frVyenJarkqi3JsJPNOus3PY0xcK/LizdWb77777vvvv3/16tXFxUVZlmOK+Ogydc4ddGlCSJIkDx48WC6XXdtJLgGAUHLc0AsAhmFYXS+fP//+hx9+vLq66roWHAR+UBTF8x+e//TjT2/evHl7/VYpfXJ60jTN2dlZVdXW2vV6dXFx8e233/7XH/4rDMO8yB8+fNh1fd91r169ev78+eWby3FVrXVnD86efvY0DMNRaCmqYr1a//TjT998883Lly8vLi6Wq+VYpQx7Q+PYZgwAEFAI8eDBg4cPHxZFyRjTWjvnOOdj7FNVVVdXb54/f351dZWmKQASgkmScCGUUmEY3rukDpyzruu69Wr94sWLb7755ttvv12v13meW2uDIHjw4Mxah2iR4MSkJxww7tyNl9ZsPmvaJk3TvMirqtput4ILxhhjbHz76Lqua9u6qdNtWjf1KTtNkuThw4fr9Xq72f7jFekRDtwYWWCdtcZZC87BDZfeF9Ye7r+zHH/Mq8IBAFjnjloefcyjdsKvcwBIGWdcCKmCKBr6YZtudaq36xACvQ4AACAASURBVNXa9E1Tdl1jjW2bum/rvm1CMyCi9BwTgoAAAoBkpE3vcukbvoVHv+6m7O4I0EdTInD0PB8+hQfP8Lvm7gPNH7n0nnEaMxhjTF3XZZEXeZal2zxL27bp+845FwSh0n4ym80XJ/EsYUxwLgDAjrGQhw+uG8/44cgfaLmN8J7OxpRzLoTWQRCEZujzdLtZr1LEPEurskSsmkp4Xtl1rel7a4ZR0yaUAWWAOIaVu71l/4gEH3Ppo6W9NWb77m13V/bw2/Fe+I3d/nAncvTEeLikb9Zit3vgzND3XVfXdTZGcudZked11VgH1oFSvlJ+EMU6DHUYMy6AoCPEul08uNvR/n2m2G0Dw3t3cz4RTER6woQJEz49CCHCMBzd3fP5nFKqtAr8IEmS92XejvW9+wriqus654AzPsZoecrjnB91v7yNX8eYECilTLD5Yv7ss2fX19cXFxdZljnrttt0uVyt1qvtdssF931/9J9/JMbvRl3XvX379vXr1998/c0f//THH374YawoFkKMOvMYLWatHQazK10uy6ZpXr9+vd1uRxG+qitAUEodZ48555q2yfMi3W7X61VTNy9evoiTuGnaq6uroig454uTkzAIT05OTk5OoiiSUtR1MwxDXddjC826rhllVVX3Xdf1fVEWlNOTxclYMn12dhYnsSc8Sik4yLLs9avXP/744x/+8Ic//fFPm3TT1I1zLgxDrTUXgjPOGDWDGcxQlVVe5HVTr1arbbpt6maMFvviiy+00pRRzoXneVIIxlg/9GmajrN+8eKF9v0kid/3fd8a2/d9WZXX19cjmV8tV2VVDv0wBtdxwSkl7wtpm/C/FwiEEi74bD571j8TXEgpN+uNAzcmDnR9tw+NR+ecc1YK+eDswdnDs8ePHz9+/DiZJXVd74j0P/pr9UGT2yU43RiWd/Ff8Ff16sFRgMWduv2rRnjTwQiREKU0InLOPK3LYlbXdVNV455amqZN26VZNurSnu8L4QnpISFAEAHf2bi4UWmPQG7IDqJzd2jw3Yf8Imp0nN2GCPsaAAsEh2EY+r7tuqaqq6Yee3q3TTX0AxLi+wHjTAipta8DX2vf0wEhHACNs7tVskda9M647G6o3I483uaWN5r6HZ3X7qa/04UtICGUKe07B56QfhCEUdR1rRkGa23TNL0Zqqb2ikIr7Wlfac2FZExQQh2BG3e9HQ/zPi5950TA2Dps/+i9iewwoZvVdLeu01vXLLm5++GVuT8F4MA5Z4xp+6bt2rqsirKsqrIqy6qqht5YZNIPmRCMe56nPK2l9oWUhFJAdGM590H73g1vvNgQCDrrDofHm3F8kpiI9IQJEyZ8ehBCUEr9wJ8v5saYMWmWMjrKPvc+xDrbdV1VVWVVVlXVdq0DxzgfM4GUpxhju/ate/v27c/BX4yRawkp5vP5s2fPLi8vFz8u3ly/tcZkWbperVar9Tbd+oH/i52cDqxxbdu9fXv93bff/fFPf/yv//qvly9fCimkkKenp6NUO7bRtta2bVeW5eXlxdXV1WazSbPUWTeYwRiDBJNZcnZ6Bvwme8wY0zRNnmdplm6326IsXr165XmeMWZs4qWVfpCczpLZfL44PT2NoohzPhLpqqqyLEvTNM8L51yW533fd33HGfc8GZ4GgkshxcOzh0mceJ7HKAOAPMtfvnz59ddf/+EPf/jTn/40DIOU0vf9KArPzx9HUaSUEoIPwzD0w5s3b169elVV1Xq7zvKsKirrLCFEKfX08VM/8IXgSnlCCsbY0A9plmZpdnF5cfbq7GRx8uTxY+fcva2wjDFd1xVFsVwuR4f5er0eo84450IIzhhlHxFWNuF/GcYkJ8HFfD5XSkklhRSe9PI8S7Os7/sxeX5M6RqL+T3Pm8/ni/ni4fnDR48e+YG/XW8R0Vr7j2fSN3B79uycc+9RKH8xjls8/9LX0i2NEQAACaPK10p7fujHyayuqjTdppttnudFUdR1jnmKSPwgipJZ1M/9KGKMMBRjdywLYO0d8nYvlwY4qmwdjdl4Q+Lwtlh6K9Dsfat2d+5ICMK+aoQA2N4MbduURZmmm3SbVlXVNvUwDEIIIaQOwiiOoyjylFJKUcaRkLH1lDU79nxH8n+nc/X4PnhnpvbW7XfmsbMFWABAiojM0770lImjoKqaqszzLE/TMs+bpu6ynnImpef5fhwnsZlpbYkmjDEEcEjAje6vA2vfcel3x3l7JOMntT3w3/3WD9ymzniXSx8/HG+I82FdCALFsZ2Zc9bUdZ3n2TbdbjebPM+7vu+7gXEhla+Ur4PID0LhKc4FFQyREoIO9z3P9mPeVybgQfe+mSvcb3D4hDAR6QkTJkz4/9l70y+3jTxLNHbsAEmQzEWp1GJ5r+qempqe///be2fO9HldZZdlS7Yl5cqd2PeIeB8CIJmLZMu12HLz6hwlM0kCARAEcON3f/d+eFDaaQCApmk//WoJJJBN0wRheHV1PZvNwjAsi5ISYhqG7/u9Xs80TcbYpjLwDys3QoAQMk2zP+gPBoOe17dtK4mTLMuSNE2SOEmSsirfV8wppeSiKcsyiWNV1s6yjAtumdZwOHz48OGTJ09OTk7UBAGXvK6bJElc1zFN6/XrV2mWhmG4Xq0vLs5933/06FGSJqZpErr1PFOKd8WBi6KIomg+m5uW6dj2aDgaDAa+77uu57ruwB+MxiPDMNI0BQAIIRre1E0teLkOcF03ymG73+uPx6NBf8AYY4wdHh0eHR25rqtq5lmWhUG4Wq3SNK3qilGmYngfPXr06PFjz/UM02CUcs55w/uDvmmalNHXr14rT7Lr62vXdY+PjqMkIoxQQimjjuP4vm/bNsGkaXgURpeXV4eHh2EYVlWFMd6N3VJoeJPneRzFq9VqvpgncSKkYBqzLLvX69mOwzS2r0XvcT8gQBjpuq4c7xBAuq6HYehGkfIy3BBp1eRvGIY/8Af+oN/vO65DCHmbi/6viu3hrvgKBDfoNITgHyVF/zmk+u6qJFRnWYAQQRhRTAljECKMCVVCFkpUh0hdlWkSCcGrKq/yTNMNpmlU0xHCEOGWCG9FSW/j0rfX/suJEERAdnlT7bUHAimF5IKLuiqrssyzNEnTLE3TLM2zVDScEEIpMy3LMAzbcV3XsW2HMkY1pkrlUqgr3q5qevOoZXG3duPN8avqcEv+7p0E2G0rhghAgDHBhGKAIKUEYYwQJpTmeZZnuRCCc56nKQSwqZvczq28MEyLMUaYhhCCCELlaiZ2LMPu59K3hrzxjdvEQd8arbyPS29r0Rta28nbJee84byuSmXPEcVRFEdplqZZXjcNRISZTNNNw3QMyzYsWzcdQqnKX9yqNXYGuambt8buEEqJIOCqQwJ+4Cwa7In0HnvsscfvHirnuSqr5WLx5s2by8vL1WpVlMXQHo5G4+PjY9/3HdvZ0kj1X5s2vDNz/IuAIGKMmabpOI7nuY7t5FlR101ZFirhqSqr9yXSXHBeN1VV5nmepVnTcMaY53onJyfPnj17+vTp06dPT05O1P26lJILnmf5aDgcj8aUkiRJ0iQtimI2n89ms9VqFUWRquhuKy4QbmYrVIE6DEPHdU5PH5+eno5Go/F4ZFmWruuGafZ7PdMyaUiR8sWFEELY8NbE1et5pw9PT09PHz96dHR8pNrUHcfp9Xuu60IIVTB1nudFUWCELdPq9/tPnjz56KOPHj16/PTpE9u2mcYIJkIKKeTB4cF4NO71e3VdzxfzpmnW6/Xl5eV0Nl2v14ZhQAtqTOv3+8fHx1dXV47jrNfrvCim08lkMgmCIM9zTdfuKrTruk7TNAiCdbBerVZlWTLKHNcZ+v54PFYm57/8UNjj9w4IISYYQOC4DqXU7bnqwG6aRjSCCw4hRBAhggghypxMRcRpmsY5B1s1zG8AEAKIIOTtwxumEZsH/9LuztsdyHDzK+xYGEQEa0CHHtB1zbIsx/XSJE6SJE2Sqq7LPCvyNIkjpmmW7bqeZzmeputM0xHEAgHQBhXDrrS5y6XVhUHeGkxnWC4BAFDeIK4/uWtU9bi94ECAAOSC84bXZRFFYRxFaRqlaVrkhWLGms503dQN07AsyzQ1Q9eYThlDCEkVWy060bvcIc43dlpbUL7Z3H6znL61Arnb5dRVtjvVtxRd5rQACFOqQRtipumO46ZZlqdpXmR5nlVllcZxliR6HJumZTmu47iO41JNw4hghKWUHPDNSKXyltsmXe8osbcbtFGed3rv3YNit995y6W3teg7LBpIIOuqrsoiicIwXEdhlGZpkqVCAoAR1Q3NMDXd1ExLMyymmZhqiDAJId9OJ7WDl8rpHMBt0bw1jtsxSf87NW+/DeyJ9B577LHH7xxN09RlHUXRdDp9/fr11fV1FMecc8uyHj48efDgge/7hmmo614r+gXo1hWuFY29/00jRJBQYuiGZdm27ViWjcmS86YsS9XSXFXvTaQVN+bKDlsKxqjjuLquP3785A9/+MOzZ88eP3p8dHwEd5JqqrLq9Xr+wI+T+M2bN5PJpKqq9SpYLBbr9TpJEsMwuOCqVRsCqIi0ejvnvG7qLM8opaenD//85z+Px+OD0VgFOEMMlageEwwh2gjYOOcFLzDGlmmenp5+8fnnn3zyyaNHj9Ri1esRQmVZlmWpbIERRKZl+r5/fHz8ySeffvHFF48enT5+8tg0TIzxRi8wGo2Gw6FpmRcXF99+922RF3Ecz2az5XIZRVG/39cNXWOa1/OOjo/G47Hreoyxqixn89lsNluv1kmSKBvzWwWnuqqTJAmCIFgHYRg2TeM4zmAw8If+cDjyPE/Zs+2xx9ugpp8opbZtSymVR5QqykkhN9JuZUmAMNp4OuR5/luh0B0gUOnFba14h6LIjSh2137x713XzQdghwztLv9OzbG14FZ0CyJIGCCMQss2LdtxsjR1wnBFKYmiKInjLM9gnkGIyqKQggMgpXQQRlhSCFFbhG25z3116TsdvLutuVIVyHcaX9+xW7Ya386aQkjZVHVVFlmWhMF6vVqmSZIXWV3Xmq5rmm4Yptvru65nmKZp2criDqK2zXvDot9i8rHjiA23kuPuabRTi7531PDW5nd0XUop1fQCRJhiTKlmWRbnwsySLE2jKAAANHWtTvV5nhd5Xpal4BwhZErJgI4ZknJLg2V3aMEbuxfeM57ta+++4haXvqGd6OKb1X5QELxusjwt0mS9Xi0X8zBY51VVViVhumHbumlYTs/q9TTNZpqBGZMSCoCEEFKKRgrQmoBvytubjOj2kICdr7sa1AfPoQEAeyK9xx577PE7hro8hmE4n83fnL355ptvnj//Zj6fY4R83z89Pf3888+fPH3ied6GcKq567cYlv1CYIQJIZQQxiilBEMsgVT31nVdcyEEFzfuGX/GAimllmU9ePCgLMvRaBxFIef8yZOnz559dHh4aDkWvNGjByCCSmHe7w9c1zVNkwvOeVNVVVEURVk0TXNzJdu3Y4x1Xe/1euPR+Pj4+Pj4yHEcTdcIJYpzb+O7lC4SSNW0TAi1LGs0Gj1+/Pj4wYNev6ek0W25GyMIIMZYo5rv+0+ffkQZi8IoiqPhcPjk8ZOHp6e+P2CMIYx2d46ma2ow/V7fMq2maYQUZVkWRZFlmaLlEEHbsof+cDgc+r7vOm5RlUmcLJdLRacBAIZp3PJ4K4oiCIL5fB6GYZEXSh9+cHDg+77q08b0PTzh9vhvDgihUmurox10rZLtV+A+y7rfApeWQgIgIYQQAwAAAgBBNbMoYRd/taFQ97z9JwkkvMfG6u2vvv2a7cLbpdw0mNiakEmEEGGaCRCEUNcM23GTOMmytCyrqiql4OF6laapadmW7RiWZZqWppsIE4QwVBS9XZpoi84Q3TuQ+3bAPd5j2w9btnlOELbTAFzwMi+KPM/SJImjNImLMi+yAgBoWQ6hWDdMw7RUrpVumIxpECIptyx6s+5dsnh7ZDvH2413SbHLjt+GbRF+9/e2It99GBJA1buMENNUfDqilJm2lWd5nme85kLINEkazuM4smzbdlzLtjVNZ5quvi+bPSulilSTW7n9jc3ZPoY7P++Z5wBACffV56J8w5XuQAjBG57neZamSZZkcZwmSVHkVVECTAybmajHDEM3Ld2ymWFqmkkYBQgJISUAEordfSkAapPLALyVrS7vH9VOcbq7fH5Y2BPpPfbYY4/fLaSUgos4it+8efP8+fNvv/325cuXZVVRQgY9//Hjx3/4wx+ePHnied6Na+9W2n23Wfq9L3PKhBVjTClllDHK1C21EEKFVAnO22jqn82lEUKEEMu0Hjx4YJpmlmVVVQEARqPRaDSyDIto5NY9ujI2BwD0+33P80zTzLK8KjPFP6uyaprmzm1xO5uOEGqJ9Hh8fHz84OQEY+UWc9t1q5uJl0ACBBGjzLLs8Xj89OnTk5MHXs9jGtu8S/0ghCCEhv4QQDAcDcuyrOrKdVzfH/b7PdVQjeBNIs20Xq83Phj3ej3LstTml1WV5y2RbniDETZNczAYjIaj0XDoum61XKRpulqv5vP5fD43TXM4Gt4YvQRVVQXrYD6fR1GUFznT2IZIe55nGsbbrOz22ONeIIggadtDNuXK7fF/9/su72en/2xs7PrVINrweSAhlB2Lbm/zlZE37OqWmwRp9eQNUnX/mm4VCt+KDSG/+5qOaO2Sq47ctTtPACAhxgwiSpiu60L0vDxP0yxJkzAIoihMkjRJ1nXdGJZlWk6vN5DDEaEUQYQJhgBJCQSEsI2whwAA2LlbyXZn7Z5lb5EmuKs07t6P4CYMux10uymiEXmWhsE6WK/Wq1USR2q2xbSUksmxbdu0HY3plFFMWKfHBvIOJdvuo9v7bKduvsPeQFtUBptZgvatnZ/X/Zu3+/tW3d4tEQEIIIUapYxpumnZZVVkSZwmaRzHSRRnWRonsRDCdtzBYNAb+F6vRymDGCnLTy6FSrluB4AEBAjsNDu30vUbpXW0ObggANvpDyClkAC0GwiBgADBzg6u4bzhTZrEi+VivVrFURjHMYSQMsqYZjqOYdlKy63pJiQEYQYgkgC2gZmbqv6dqYjNpMZNzQLYBJjf/KhuN65/KNhfEffYY489fm9Qdz4q+CQKo5cvX3799dfffffdZDIpy9IwjPF4fHr66KOPPjo5OfF93zCMm+9/y1J/2Wg20RoQQgQ3heLWBlf+otvmLmvH8zzGWFVVKsuKMVaX9apYNaJRuu8uR1RKIcuyrKpqNp3GcdI0DRcNF0IIwblomkZlTe+sYQuCiaEb/X6/1+/Zjm0Y+k9sLgBSSoSxpmu2Y7uuNxj0XdfVNO1uOJlSehuWMURD0zSbpqnrGmOMEIzjlItQcC5kq4xVSTxCSinEbD5TIV5tDLgQnPOm4eqVCCHVz9wb9Eaj0Wg8StNUCJEm6Ww2u7i4cD33pDnZDEMIIbhQft2z2SzLMgigbhiDgX94eNjv95WJ1K06/x57/ARuzBv91MHza99KQwilEFVVlkXRVFVT16IuJa9BU/K6lkLumEi02tSdsuzP5tLtu9/1graT911c+taJ8/7lQYQQBBhgCABGBBNGqaZ+UMoIIeqbXmRZCADnTZ6lpmlblk01nRJGCG7ZsLxNHjcbvMM73xq+sN0K1coMEQBC8qaRsiqKvMjzLI2jMI6iPEubuiIEM6ZrumZZtuN5tuNsfLkxxhBhKaW4f23vrPQLqTzBIQQbX3EIRNczfM+7bpfdu/P3rd3d/druKVWPxxhBgABSzm8EIUyIhgklmBBKyqIsyqJpqiiK6qbJ8zxLUsOyTN1gug4RQqglyXdDLbZ0+i1j7l7U6gkg2DRHt1vdNDVvmrKssjRJ0iyOojAKkzipmwYRShnTTdMwTMO2DdNmuk41HRMGEFEseuNkILpDcfeb0Y3tdoV5l1fffGrTEAB/6nvzm8OeSO+xxx57/N4gpWyaJs9yFU38zTff/O3rv71+87quakrpaDT+7LPPPv/8i48/+Xg8HtuOTej2WvCPl1ZuCfN22R17hpuJ7DuKtHdBvQcTrOs6oaQqq42weZEuVL5XnuV1U1d1JbhQlXllwf3jDz9OptdpmqoStGxnyG8M7876gG7og8HA87x3uG2pEv5mSzDGhm7Ytm3ZlmEYjDGM7tNFQwABJIQYpkEIUX10WZaHYdRmfudZVVWKYLdzAkIIIYIgODs7S9O0rmpVcGifVFsCAaUUIqhq14eHh4v5AiFclMVsNnvz5s3R0ZGyd1JvVL2sSZLM5/PJdFKUBWXUtZ3RaHhwcOC6LmVkt+d8jz1+Z1AJxlzwPM/D9ToK1uF6XWapaxuuZVZlJThHAMG2GCohkEClRsEduvW2Aunuit7Jot+hln477j7f0tpdTo8w1jUdY8wYsSzLdr00ieM4ieM4SeI4CuIoJFTr9Qf9ge84Pcd1KLURkGortyftrki6U2ls6/K3WBIEUFlzdyxaKIUShhAAVNZ1XZaqHTcIVmVelEVOCNF1w/V6lmWblm2YhqbruqZhSgihEGEAYFtRRvcogTsyfPOp3b2gepwhglujM9z1Rbei7A1Plbc+kC4dEt6aQwBAhUsrRgk7Ls0RwFCoDgdCoGFARihTuYZZr7Uiz7MsS6MoDFYrTdP7/f5wfNDv+1RjGtEAAFxIgZQSXtw+NiC8E22ldoDYDl9ICIBE7WehZgwggHVdJXEcheFqtVotV2VZNpxLADXdsHuG3vqKGUTTKGWYUIixhAh0uZhKiS279UEINu5r2/1/57tw5xiGypasffLDvLbsifQee+yxx+8H6l6nqqoiLxaLxevXr7/66qtvn3/78uXL2XzmOq7X8x4+PPn888//9Kf/cXB4MPAHjLG7yxFC/KMElpsIViGFypTaBIso8R4Av4SdtVwaYwBBXdVN02RpNplMZvNZsA6iKEqSpKrbSrUqtyol+XQ6XcwWWZZ1awebsvgtJt1d3oGSdnue5zgOpfSdw+puByQgGOu6Zlu2ZZq6rlNKlTXOve9CGGGAJZVKZ75erabT6WK5iKI4SeKyKKu6aupG1aKFFJyLLEsvLy/TNK2bGrQW64DzjkdDiAnGBHued3hweHx0fHZ2RimpynqxXJyfn3/88cdVVbWJRBJwzsuyjKN4vpgvFouyKpmmuZ47HI4ODw89z9v2ge+xx+8TimaAuizTJJlPp9OryyRcj4aDyvfjKKqraufE2LIwxaO3ZOAfNBEpOr/HuzrwOyXXe+rEt1gklABAhDDCGFDGdF23HWE7eZa5VhyhCSqLokjiLMu4EE1dCc4FFxhBghGEBCKM0KZU2Mm0b6209cq6p4IrAQJQtKdXKYHkHALBeZ6lWZquFovp5Hq1nKtLhOt6umEM/IHr9mzHYxrFWOWiKWkzUGHeb3Wq2gY57dD69pFUn1VbkJZCCN7+EXXXodaAe+d9CAJFYG+4Td/HpQHo5hs6Lt3GUkGIIcaIECyZphsm505d1XEc6Um8XC7SNI3jKAEQAlCVBYQYI2xaFgIAYSzbgW1dzrrBwbbc3A51Z3w7H5UaefeBCSmB4EIImSTJarVaLReL+WK5XAgJmKZphqWZZm8wNCyL6QbTNCUkkxC1DQ0Atu7ob70W3PP3nzE39KHqusGeSO+xxx57/G7Q1hUFn06n52fnP/744zfffPP8+fPVasUFHwz8R49Onzx58snHHz979mx8MHYc5/4a6T9jYJzXdV1VVVVVnHNlwaLiqTDG4GYP8M8Eb3gQBlEYXVxcqFgv1f2b53ld1XVTb26JlIOaEkCHQRgnsWoUJ4R0KV83sGu9ph4oezNCyFvJ8B1ACBHGagN/koKqHOnlavnm9Zvz87PJZKrsxKu6qstaSLG9GVE8XYKqKtfBuixLznnrXgsBVHLAnbUZhuEP/eMHx8Ph0Hbspm7iOL6+vp7P50EQGIahaRqCKM/zKIoWy8VyuQzDEBPsua7v+8Oh7w980zTvitL32ON3BpX8RDXNsm1N1wEAeZ5fnF9MLs7jYLVeTKqycHs+hBAThDHGRPEu1TJ9O673n407lW3R8tY7kABIKXbHBiEklBkGUEEDlmVFcZTESZblQvD1cp6nSbheWI7ruT3X6zNNI5gSgrkEQAgAIYDiBrncJjC14nZ1ohJSIAgRQABB1YGSZ1mSRFEURWEQBkFVFbzhjuMYhmmahmk5tu2o/U8YgQhLuDtPcaPU/C72BXdOhFICCBBq85eUv1aWpWkclUWuaTrTdV3TNV1njPHtQm9NSdzc2Xfcy7fr3WkB3ugURLdACRFEBFOgWxailBBqWU6SxEWa5Vla1/XV5dliNnF7nut5jus5jmdYFsQIIyQB4FIqf+9N4zpojwShGDOUO4VrqbzxIEKoaZqm4UVZRlEQRmEcRnEUp1kqJLC9AdMM3TJ1wzYsy7BswhimVEIMIJCgixbr6O6/9Cj/zWNPpPfYY489fj/gnFdVNZ1M//a3v/31r3998d2L73/4HiLkOM7BePzpJ5/+x3/8x+Mnjw8PD0fjUWul+8+HYrBN07RRT4IDRU0JYZQSgn8ZR+OCB+vg4uLi66+//utf//ryxcvVerVerxveqLhaRdQRRLuu10oBXlW1ElTv9nbdYx3W/QEhRBkllCD47rFuUkUghIhgQghB6KeItAR5ls/n81evXv3Xf/3XV199NZlM1qt1nMQQQuXsjTFWcVlQ/YOQC54maVVWEEI1IQIBRBDcur1TLfFpko6GI9fxgmCdxMkUTBeLRRRGPa+nlp3neRAEq9WqzdAa9F3XGw6H49F44A8Mw/j5Mwh77PGhoDNh2pHoIqgxzbYsjekAgDzN42AZh6syT6oyIxj7ZQkhwhhjjBBCQgAo5Sas6NfGzaiqHdx0hgIAQUIIwVjTNcu2mmETJ1G4Dlbr9Ww6XS4mUkoV43R0fEIIRtAlOkKQHDZQJAAAIABJREFUACkalfaENrbMu9uNdrk0AAAIATFGCEIIoQQNAFmezqbT2fR6uVgsl3ND13v9/mDg+8PRaDTSDIMShgmBEIH2zAmFbE9tYCc/qasb38+mN2fBjk9LBCFBEAJQcw5EkyfBfHIVh6Hturbjua5HCIJM65rPWxH0TWXW7mP4U1xaveGmSlztGIQQZAYmuiFt2xk2vCjyxXy6nM+W8/lscp1l6cD3B75/cHgMEdRNQ82RCtmV9SWU7R7YvX4JoCrs3UcN248aIAillHVVpnE0ub6+vr6K4yjPCy6E1x/2/KHjDizP000HYYQQhgiqXmi1PRJ08e4Q/BaO8t8U9kR6jz322OODh+oBLqtyMplMJ9Ovv/76L3/5y4vvXqzWKwhh3+udPjr96KOPPv/i82fPnh0cHjiu845e35tL/rvHJmTTNEVepGmaJEmapg1vMCEaY7qhG6ZBKX1fzXBd13VdB+vg9evXz58/f/78+ffff395fSmFpJTZjmNblqq1MsYopSpoR5WkV6v1fDGLwribRNgGj76tSVrZpGGEN8nS79jcTde1eiNC7T0kQvdU3aWUVVVVZXV1dfXdd98pZ/XXr19nWSaksCzLNE3LsnRNb+278ZZIV1V1dXU1kZOmbiDeYQI3V6ExzXXd4Wg4HA6HQ78o8yAIojhaLBaXl1eWZan27DiJZ7PZarVKkqSua41po9FwOBx6nmeZFqG3XdD32OP3BCkBgAICBCAklBiGMfD7x8cngIvFVMMYJSECQErBy7oOwmC9DoIgcHsRohRR9rZS8D8bG/Vya9e8HcI9Tlwt62rjlNrwKQSU5JghBAnGhFIlns7zvGmauq6CYCWlsB3XcTzLsijVCNMRwqqWLe6/RnSVSwEAAE1dc940VZ2kcZqm4Xql3KEhlK7nOrYzGA4HA7/fH7iuRxiDEIFWSwy6qclbGVdv3dVSAAC7+ukmXQtwAACv66pJ67KIwiAKw/lsOp1ex2Fg2Y5tu4fHDx7KJ4ZuAHHXgPrtiv23cGnZvufWcxBAdaSocHIEEQCSAimpxjhvEITqckFDijBK03SxmHPJ0zS1bNuyHcoowhSSHcez7aK364BQdG3hQEqRZWVZVmmahFEUhVEQBGmWSwl1w8KUeQPfG4xMx9NNW9MMqa5hEICOj8tuWa0fwB43sSfSe+yxxx4fPAQXddPEUfz9y++/+uqrb7755sWLF5PJxDCM0Wj09OnTP/7xj1988cXJycnR8ZFlWz/BorvL8y7F/OVjk6IqqzRL4zgOgiCOY15zSohu6JZpWZalopXfa5mqm/d6cv3y5cv/+v/+6/Xr15PJpMiL0XA0Pjg4PDw8OjocjUaGYSivacXVlbD8+++///rrr1+/fl1VVVmVnan3O6zGAFB3J8pq6+0jlS2Llpv9pnTjCCH4lpl8wUWWZSqf7K9//etXX301mU5Wq7VpGqPh+OBgfHR4dHx87NiOYbYabFUZllKGUfh//s//qes6iqKmaaS8kyoCAACAEGLZVr/fH46G4/E4DMMgCPIsXy4XFxdnrufYjq0xLY7iyfVkuVzleS4lMEzj4OBgNBrZrk0ZxRjvb6H2+P1hpxYtgWyVq5RQbKDxwaGpG4eHB7Ory9nk6vrq7PryPApXZVXPFgvdvnb6A9NxLce1bNJGfG3Y679w1mm7pvYE9hYz6227CpDbXubu9C4BYwxhV9N00zRH41GwDtarVRSFSRyuFnPLsnsDv9/3e/1Br+8TjJX4BUrAt9OQEsCuZbfTFyMEyrJMkyQKw9lsMp9Oy7LgvIEI9Xr93mDguK5jO6Zta5SpCTsJ2k7jG424spN1b65IcldNILeKZlWohQAICZGAEAEJgJBlkSdxGKyXVxfnV5fny/lsvVqkSarrhm6YaRzZlj0ajQFEsJU0v3MieaNkf8vu7rj0jTBtAIRKcJZiG20FIcSYuF5PN3TH9YajgzgMgvUqCNar1SIM15p+ORofjMcHdq9n2bZOTQGAlEhuzbM7w49uJ0HY8l/OeRiE6/VquVqtlss4jiEmEGPb69uuZ9qubtm6aROmY8IEgHJjUrdpNm8V6eAGW9+jw55I77HHHnt82FBVzSRJptPpd9+9+L//9/++evXq6voqz3LHcR6ePvzyyy///L/+17/92x9VJOfPana9K2eT4JfxaSFEXuRhEK7X6zAM4ySWQmpMs0zLtm3btjVNe++KdFUHYTC5mvz444/ffvftfD5P0xRBNPAHX3755SeffPLR06enp6e6oSu7bIIJQCBLszzPPc+L43i9XkdRVNWVlOIdkwVbdg2BqgP/5NiklLDVwXWuNq2vGrh7/8EFT9N0tVpdXJy/ePHiu+++K4qiKIpev/fw5OEf/vDls2fPPv74436/ryYFVL1COY5Np9MwDF+9elVWpciF3KHRu6SXUEIocT3XH/qHh4fT6RQhVJTFarU+O7vwh6OjoyPHccIwnEwmq9WqLEqEoGPbBwcHo/HIcRzK3umvtscevyF0M1bvf6uvrJsgRJgATHBfGw79UVNVo9F4dHBg2iYAACAoAYyTZLlaTKfXhmkNmgYRyjQdQATbU+vbRb+/PpQupuvYVWc+CQAAhCpDadvreYKL+XyuaUxKMZtNV8t5msRVVTZVBQBgmialJFQjhAEA0ZZvirZfXIhNgEAteJok69VytVxcX15Mrq8AAIZhuJ438P3HTz9yHIcxjVAqeNNwITvJstwSfwDUSBXDe+eO7aRA3fmctwYdoqnjMFjOZ/Pp1fmbH8/fvArWqzSJyyIHECEAGSEPHz6qHj3BTCOs9QYHYMfMq5M2//yr4K15TQmAcgoHUgCkkshbfooJYsx2sSsGvC6rJIlf//h9miV5mGZZJqXgvIYQcCEgBBghgJT0vb2+wM0OUx+o6MCbPC9W69V0MpnPF6vVMsszr++7Pd/t+f74sOf7EFFIiABQCMAlkEJwCZCy4YYbAXn3QXTx3XtssCfSe+yxxx4fMJQf9WQy/f77l99++91f/vKXV69e5Xne7/WPjx58/vlnX375h48/fnby4IFlWoz9vNrvO6+VP9/NW1l1V2W1Wq7Ozs6urq4Wy0We5qZl2o7t+74KlDJ0432NrIqyCNbBbD5frVZhGEohPc/r9XqffvrZv//7vz969Gg8Hvf6PUopowwRhCCSQJLWXQxyzlVwdCfDfq+V/0LcUyyWQHCRJul8Pl8slkEQ5EWu63qv13v69OmXX375xz/+8eDgYDgcmqapNOrKaZxzXteNlEBZuPGGS6Fq4PfbjwMAMMaD/uD09PT6+vrs7CwMwyRJzs/PD8bjx48ee15vtVpdXV2FYQAgsCyr3x8cHh4O+gNdf1do9h57/KagaAlsb/ff945fSVpFO2cIpQRSImi6zhAeSQwM2z6YPYyiMI4iiMn1ZJKk+cHR8VGc9PoD1/NM2/kVaMZOquDb1r5z1m9DE+QuJ4Sdj3UXYAARsixrNB5rOvO83nA4qsqqaeo0jfkVD9Zr23Ydz7MdT2M603Xc2nq3i6ibqi7roirSJE6SJI3jJEnyPKWUHD94YBiG7TiO0+sPBrpmQESEBLw9GXeTIDcCqHZUAzecnnevZh3tbhcgoZS8qcqqLvMsDNZRsArWy/VqEUdBXVcDf9jv94WUZVHMrq/mk+s4XC9nk9n1pTsYen2GCeo0PreG8X5OW1IKsInZaq813QEGuh5sAQQCQEipTCUR0nR9eHCIMYmidRJHRZ5jjFeLWZGlYbC0HNeyHNO2NaZTxjDB7eIlkEAKLsqyKMsiieMoiOI4SpI0SVMJUc8fDwi1vZ7teKbjUsMSgAAAIW+nk6UEErZzLa0rOIQbpcZtH8s9AAB7Ir3HHnvs8eFCTbaLRkwnk7/85S//+Z//+erVq7OzM9u2j48fPH369E9/+tP//t//cXh01PM8y7LeNwcYbqsBN4iZlPJn1mY551VZLZfLs7Ozy8vL1XKV5ZnjOr1+bzga+r7f83qGYfyUg9et5YKyKIMgnM9n69U6jmNKaL/Xf/z48RdffPbnP//P0Xhs6Lqma6qbGAAAIRRcKHcgAIAQomkaLvjOZv1z7w9a5TjcuRGUQALZNE2apIv5YrlYBkFQ5GXP6x8dHX/68Sf/9sc//ul//MmyLcM0MG57o9t0rQo0DZdSNg1XEdOiTXbdRnndAqV0MBg8evTozZs3lm0hiJIkuby4eHB8HIZhnuWr1ery6jKMQgCgbdmDweDo8Mj3fUM3/ql7Zo89/rGAt4345TsY5g1IIHe8pZSkFWJkOq5h206vd/jgYRCsLt6cXZy/WS7m0+n15cVZnERlVR3XFaHUtBwAQVt0/Fd1TMt3/Lb5a3fCbjevpV3dGb77te2NBRBAYNqWYRiD4WA0zrIknc6mk8urxWIeBOuqbnpefzQ+Go4q1/MIQYRSKBFEUEoJpORVnedZEoez2Wwxn6ZZVpYFAHI4HB0dHw8GvtcfOI6rwpxVkZNzroh0G1oFN+XV24Dbs+juVUNA1L4TSKnU4byq8ySKwvX1+fnV5dl6tYzCdVUVg+FoOB65rmfZdl1X//n//j/Ti7MkXC9n19PJJSak3x8gBCEXQKizNgRoJzT5fZVZUnQt7Pd9ShDKlkELDgBEACLEdGM0Phz4fhIGQRCE6+VyMVstF+vVQtcN07KGo4PR6AA4LgaSIDXXCdXJnzd1niRRHM9n0+ur6/VqKSECENlevz866A1GumXploMJBRALiFScmGpC306sbA4LcLsxujuS1H//qqP8N4w9kd5jjz32+FDR1M1iuVjMF8+fP//2+bevXr3Kssw0zIPDg08//fQPX3752WefnZycej1P0ygm7+e6DLvqzlYuDLeP3w0hhBQyy7IkSSaT6asfX718+XIymRRFQQhxHOf4+Pjw8HDgD2zH1jRt1zX3JyCBlLJpmrIo8rwoyqKua8aYYRr9QX/Q9weDgee6hJBbhuRCijzPg3WgFOZpljZ1s9UB/oyN+uV42z21BFLKsirzPC+Koq5rKQSl1HXdfr8/8P3BYEAooey2GVtZVUEQzGezMAiUA7mU4t1TGwghx3UOD48ODw/9gX9tXnPOl8vl1dXVxfm5ruvXV9eLxaIsSl3T+v3+0B8Oh0PXc5l2T8z4Hnv8xrCN2BVCSiBat4K/Y4mb9yJCMIImwUw3NMMQACBKdNOgU5YkiaYbyutRSNHFX/0Gq3YdVdr+du/LoGyJE0IIQQKopARRXTNU/jAmOE2SJMkAAFkaLyGoyrwqMk3TGWOU4LrhvGmyPEvSJEmSNImapqYEM+ZoGhuOxqPR2On1HNs1DJMLUTe8M6IG3X9QvjdV3Y4fQCklaOqqKYs4DNaL+XoxXy7mSRxLIU3Tdl1vfHR0eHTs9jzHccuyOPvxR8f1EITBenVx9sowzNHBoY4gkK0pBhTb/dWV8bvd9zMnpjsSDt91NQAAACAARBBAyJgGAYUAIIyZunZLWVWVBLKpqjSKoJR5llq2bRgmwgRhrOZV87yI4zhOkjAMqrpBlFHN0HTD6Q+8wcjpDYimM6YDCAUAYkOFN6bcbz967z75XkL33yv2RHqPPfbY40NFWZXnZ+fPnz//y1//8uL7F9Pp1Ot5Jw9PPv/s8//55z//2x//OBqPXc/RNPq+2UUIILDrT9O1YsHW1OSdnltScs55w4MguLq6fv3q1bfffffixYvZbNbUjWmYo+Ho8aPHDx8+9Ie+Krf+/Dq5mnQXQjScN3XNBZdSQgQ1TbMsS9M1VXa+u0DBRRiFV1dXk8lkuVomcbLZHPDOzfknob17FFJwUdd10zRSSAABIdgwdF3XNcoIIfeK3rMsm82mb968mc1mcZyUZYExUapviO7fFoKJ67gYkaOjo4ODg4uLi7zIwyi8vr5+9eqVBPLi8mK1XiGI3IGrbMb6g75jO4Ts7xP2+M2jnQuDQEohOJdQCKHidiHYcRRr7R5a++Gf5NmtuBcKKRAAEBGiG/bB4bHtuAN/OBwfxFHINF3TDaZrCCEpRSuABR1h+rU7pTftrT/VktN6Z0EANhFTSuaCCNagNvB93dCGo2EUhkEQpkmaZ9liNknjMFwbKlxAY1pZlmVZZVmWpElR5AhjQ9dM07Zcx3Fc07It22aahjFuRNPKaCAAXUAxAFs6J2/05oKdh3d3aevZpZ6VoimKIouj+XQ6uTxfzmdNXUsJvF7f83per9f3B/3hUDcMXdeyNB0dHI4PjqqyjMPg4s2rfn9w8ugRoQRhSgjhsgs3QzuGGTsPtoPc7OF7P/R31LJ3fOAU35ZSCCEBABhTy3YYpUzXvZ6XxnGaJHmWFnmWp0mkB5btmKZFNY0xLS/LJEmTJE2zNMlyABE1TKvnW45ruZ5uWMwwqWZAhFSz+U3ZfLsx4uYf1S8355pvbATcibP+Lc4g/fOxv0Dusccee3x4UK3RWZadn59/9dVXz799fnFxEYbhaDQ6PT1V5egvvviCUKIK0Zxzzvm9i9rVDN9DaHf+oOxLmqapm/reRSkBMxe8LMqiKK+vpz++evXiu29//PGH8/Pzsiwxxp7nHRwePH7y+MGDB/1e/5e14G6cbJTbtvKyVv3PUkohBZLdXY8EQggueJZnq+Xq8vJyNp2FQZjnOSWUMgokkFLIrl/6XwrlZSOFEFyVs1QlSJXTlU5S7dLNP865ECIMgqvLq7Pz8+VymRd5XTfK5UhNYUhxj7obImTZtq4b44PxwcGh7/vX19dpms7ms9evXzdNc311HYah53qO4xweHQ6Hw16vZxjGf897oz0+REAAhOBN09RSVHVV1w2ijWo7ha0tUxscrbj0T9bT1PdICAChgBAihLFONUMf+KP+YDDw/SgMmqapm0YzdNxNOUkgt7NZvw3XsZ+StrezdXCnxUZ27l4IEYSho2le32uaOlitnVUwm0wmZRHlaV3laYJNw8hNS2NartQ1RVGUJRfc83q25/b94XA49vp9jAnCrY+X4EIoCfZmfmM72nsH+7YtELdeJKWs6zrL8iiOVuvVer3WNU3T9IE/evDw4eHRsWXbpuMSihFClGmj0cHxycl8OonDcFbmywcncbBijGmmRQlWsWYStS5n8saqdmqyN+K5ftGHDoFK4W7t1iQAUiKMdUZN0zItezDwg/VqNZ+vAYjCII4CFEdpHOuGoemmZphFWYZRnKRZWVVFVVuOZ/fd/mDk9gdeb4AwERIKAISQapIJ3tyCbhRQ3hrUzQe3urwAAJsM9d/Gwf6vxp5I77HHHnt8eCiyIozD87PzFy9e/O1vf7u+um7qxjTNXr93fHzs9TwhxToIIIRoUyDZvb1Tf5ESAEAp1TSNUUYYofSGP3MXIQmEEHVVZ1kWhuFysZxMJhsf6s2iVMevkpYFq/VqvXrz5uzVq1dnZ2+ur69VLXrgD46Pjz/66CPlB2aa5ntvOQQQQIwx05iu64wyggnnPEmSxWKxXC5XyxVCSNd1xpgQQkiRpVmSJIvl4vvvv3/5/cvpdNrUDSUUIii4qKs6z/M0TcuibOpGsrfcxf2jAQGUSEIEGWWGYaqYLghgWZZBsF6tVovlYrVe6bqu2KwQoqqqKIqSOPnhhx9evHzx5vXrJE0IIUIIAEBd10VRpmma53ld1aq+vaMpABBCTLDruEfHRycnJ0maTGfTKIpev3kdxdF8Meeca5rmD/2Tkwe9fg9jvGfRe3wY6Mp9VV3FUZRVjd0fuou55VaUaphSggnGSFHFthC6SUvadazaJCepXxHccoMud0n9hRBmOw6hlHMhhGCM6boBO2P/22Tj16AXP3te8B7Nizrrt49lK0iWUEoANcPoDwBCwDCY7/fLPC+Loirz1XJaFWVV11VdM6YZpm3Zvd7A7/u+7bimaRCM1USGBFICKDYUGt7KiAYAALnzxxuzALf35A6L3hHzY0J0w+j1h6IRntc3dNMwdc/t933fsD2kMQ4QlFACBIk2GB08efoxgrAqiySOlovZqx9eFGU5PDjq+xhArMi/2LSQ31uZvb0Hf8mHLnfd1DshdWtNBjEmzLJsKSRlhDFGMUrSNI7C5XKBCSOUIcIQZZphmm4fMc2wHNNxDdslhskhEhK2dmIA3Joy3zwW3VpvaQFuvXj7yWyV7vJfdOH87WFPpPfYY489PjxkebaYLc7Pzn/44YeXL1/GSYwgchxn0B8cHR31ej0hZBAEUm6MqTuT0G2fk6rCCsMwbMs2bdMEpirqAgnE5i5K/Wvn+LMoihbLheM6rZC4E0UrB+w8z9VrLi8vr6+v37x5c3Z2Np3OmqZumqY/6B8/OP7s08+ePfv48ePHw+HQMN/byEqtk1Ci6Zpu6JrGMMZc8CRNFsvFcrlcrpaapqntVe7c6/V6NptdXl3+8MMPP/zww3w+r+uaUCKF5ILXdVXkhSLSggvJJcT/KiYNICaYacwwDV3TCSUQwKqqwiBarVbLxXK1WrmuixACEDR1k2XZdDK9nlz/8P0P33///ZuzN0mSUkKlEFyIpmnKskiTNM/ypmmklLcU+AhBKYHjOA+Oj2ePTi+vLgEAcRKfn58vl8uiLJqm0XV9OBw+eHDS6/Xet6l+jz1+PbQkt6rqOI7DJLP7c3cw5AIYtm0CC0Goko8lABABuekNhbejqhS92xKNXVW4qhNCAKXAlFqOZ1qOOr0CoKYsYafslrvL+9dz6U4gvfv7XdwlU5tu5Za+yW4PbZpoNcPQdc00DX/Qy9JkOZ+tFovZdbScT4PVkgshhBwMR57n+f7QH4380UjTdUQoxEiIrnm9LXsqUzAAANiNjL5Vmoa3nLq2Cc7i7rZJASAAhDDNMPs+0A2TN5VpWpZpa7quaRqhTALAAZQSEQkxof7wAANRFtlscrVcFKvF/M2rHwCEuqG7nosJQxBLAJAEAsouZKo14pagmxDYEUa3+/Pnf+h3X4UgEK3MW6jDB2OMkWE6jGm2aRKEEBBFUcRRuFqtAMQQIqs36A/Hfafn9H27P2SGiTUdEwYgbACCnZL7JkmWG4H6bskd3hjL1knk7rPqk+zk7/8dufSeSO+xxx57fHjI83w+n19cXCzmiziOy7JUBdg4TiaTSVXV19dXjOmqoRiAlhB3qTAAdOpoIXmv1z88PFTWX1SjhFAAJWojMKDqgRJCpEk6m800TeOcLxaLnQZjAFp9ssjzPM/zOI7b4vBqlSQJhMB1XcMwTk9PP/30s88++/Th6cNev28YBiG/MKBY0zTXcQeDQb8/6Pf7RVGURTmbzV79+Mp13Olk6nquaZpN09R1vV6vF4vFYrFYrVYQQtu2pZSapkVxFEdxkqaTyeTVj68opZquDf2h4zp1Xasy74aJbqzXfrKdupPI3zVIv0dfiRAyTbPf7w8Gg36/v1gspJRBEJxfnLuuK6TwXK/X60nQTmTMZrPZbLZer5umcRxHSEEpiaIojuK6rter9dnZmWEaqrHZsi3HcSihCKNNl7tlWQeHB6cPT19898IwDDX3UVUVIUTXdc/zRqPRwcGB67rv21e/xx6/Hrpvlgow5jzPiiAIuQR6npmGqRuGoRuUMUIIRhiANiO3ZQ5v5zzwBq9Toh4hAVCFSqhuolX63G5c0q+Od5+lWn4KOlJ6g1XBzqu60yxLta8UMMQIYV2HjBBGqGwaIEWeJsF6qRpShJBKIi4Er6oiy1IuBSGMMgogApDc2PNqFfex6JZAdx/OztlT7FTRb+7vri+dUAykTjDWdUMKqemarputfQbCEkgphARABSYblo3AeHRwNDo4yvJcADmfzQjTmKZDREzHtVwPEwYgBlvHiht6cnDvyR2867ja3cpb9uPtT7SlrhJI0Yha8KYqq7Io8jQvqqrmDZdcbtK0JMJEN23b61tu33Q8wnSACUCo7YLajBD+DHuADqidk5Fd63bDeQNAa8iBEIY3XDx+qofg94g9kd5jjz32+PCQ5/l8Mb++vg6jsG7qpmkwxmVZTqeTr7+Gum4QghHCGz3ibUsRKQGQquf5+Pj42bNndV0jjHq9HiVUAgjQlgpKIKuyipLo+vq6KIrFYuE4DmgZY7tQVZGuqlJ1yKlGOSklQmgwGIzHB4eHh0+ePP74408++ujpcDi0TJNQin6+WfdNaEzr9XoH44PDw8PxeLxYLLIsm8/mL+jLoiwHg4HrOoZh1HVd13WSJFEU5Xkb0ezYTlmWURy9efMmjuMkTi4uLwAETdNwzk9PT08enGCMBRegK4D/TLQ0u2XSXcG+i50RAmB4+zYDIWRZ1nA4PDg8ODw4XC1XRV6EYXj25kxwsVgsXNd1HRcAUNVVURRhGAZBoGma53n9fj+O4ziOLy4uy7KM43i+mL98+VIIUdd1WZXHx8fwAbQsiwG2KS+bpjkejaOTaHww9jyPc15VVcMbl7mu4/q+Px6Nx+OxZVuKb+yxx4cDiDAihGCCm6aO47CqG0xCxpjruLbjWKZlWqaumwi1wXiqgAnADueBncfYrqCjoyDbQrOUEkLZxc6B1svgvpPFr16L3qFzWwYNAOgcJW+wqtt1yx0P7bYwLSRAQEmNmea4HoK4zMssieu65lwILg1dF4KnScylyIvcsh3Tsg3LolRnGgYAYVVobde3Ld5uduAtntdy6Y7Sw1u16N0NgAACSDDFOpGCqtkNhAjCGEAoJICdSktIAQSQABCmYez5B0cnjz/iEoRhEISBhAggUjVidHA8BtgwLcI0BKGEW4+ujuZvVAc/fa24/YLWB283aBIBIFReWfeUFFzWTVkWRZYmSRwlcZzFcZomRVNDQjXThggjiG235/V9bzCkhoUJBRBJCdTmqj6GLghabiYpurXe2O2bWwZlfKZkAxBIKTgv8qoqAIAIE4wJYIxApgLf/p4ppN/K9NMvwp5I77HHHnt8eCirMo7jIAwUhaasTbeK4phzofxj22wn0F6OO8C2dgKEFFIIkaappmlC/RRSAAAgAElEQVS9Xm84HKoyrKJ/hBJKqaZRxhjTWdM0cRxXdRWGIWPsVulF2WLVdV3VVdM0ahmWZXk9bzwaPX785KOPnj5+/PTJk8cPHjxgGtM07b0SrW+BaUyZlh0fH52cnHDOy6qMo3gynRRFYTu2bVuGbtR13ahJ/LJECD08eTgajRhjUsgoirI0my/mDW/W6zUAQNM0TdcopY7tuK4LIWSUMcY0pgkuGGs9tN8xbAghwogSyhjTFJhG6cYyXQBwm5pihC3b8oV/eHh4cnKyWq2m02kcx8E64JyvVivbtm3LBgA0omnqpiiLsiiVev/BgwdJkiRJAgAIwnWSJFmWTaYTSillVGEwGGhMwxjjbtW6ofu+n2XZaDjqeb0kScqyrKqKDmjP642Go9F45Pu+pmn3GobvscdvFhAAjDCjjDEdAFjXdcMTKSVCuCrLuiwbr5JAQIgIJRSwXYUOAABICdAtDvrWL7sEAGxY9DuIwL++O/q2DmbLrOG2N7b7asMNtbp3SehuULC6dkAAIUKUQtO0KaFZFkfBoCgKwSUXklCKMa6rkguR51lZlnVTcyEMU0CEEKYI4c7e/KZf986DW0XTO35W97HozbgJRnAbPCGFlEK0gxetnBwKIKBEEFDGMKT94cHxaSYkqH94MZ/NgmANMW24FBJqhiklMABgCAGIAIKbtW7+hzcf/Bx01m43tUudEgB2HFoI0fAqz7IsTcIwCIMgjuO6qqq6biQimqEDjCCCCJu2q8rREFOIqARIAigl4HIzsM2BsG1vvpdFg5ZFd3RaCil4U1dlGmdxBDGiTKe6ASEChG0W+QsgP3AWDfZEeo899tjjQ4Su6b1e7/DgMIqisqqauiZURQ4zqjFlXn23ZWlzwValBcGFEML3fc/zLMuilLZFVAkwRo7jHBwcPHx4mhelYRiKmBFCKSWKGe4Wu7vbCKlMcTVNYxrreT3f94fD4fHxgwcnD8ajcX/QZxr7+zXDlFLbtn3ff/L4aVlUjuP0et58scAII4QhgE3NC1ggiCihlmFpmuY4zsOHDx89fkQIaeomCIOqqoQURVEgiHRdN3QDdaa1yl386PgoL3KEUJ7nDx8+HPpD27Ype6scnTJm247v+w8fPlyv17quHx0dHR4deZ5HKUXoHu8uiKCu6cABxw8efPrppwiis/Nz13GrplJW5FLIqq4wwQQRzdIGg4GmaQ8fPvz444+Pjo6TJI7jGCHU1I1lWIpCq0Sxt4lMMcaGadi27bqu67rmyszzXAhh2/bR8fHB4YHneZqmYbJ3GtvjQwMElFHLtiHV3OGBNzrgXOR5UZVlU1VBsC7KPEtTwwoty7Fti2k6pUz1QdxiEWDDMm5Q4VuCXrjbaX0Pl/iVatE7ba87QulWj4s2IpsNM5W3nJpvotssCDb8UQII0eYtUkIIMSFU13TCGCGMUkY1HSFcVVVZl0WeNXWdxLFh2qblGKZlmI6mG6AVBkOww9ffRasglFDC3VfdjScA7W6XUgCIuio6AMpk7kbvr7piAS4BAJDqZn84brgsq5pzURRF0zSL2QxTBiAajnN/PPYwRlgJqW45eL8fGdyI6ndah7otBABBDKDkvBFcFEWeZWmWxnESJ2lcFEVZ1Y0QWDMs02FGSfNcKwre8KbhEBMJkWj7j5AKwN4oC+CNHddy6c4+7f7NgEBCCDCATVOXeZYn8XJ6uZhcM13vDXynP0QIM91QARPvtQfu7o4PF3sivccee+zx4UHTtV6vd3h0WNUVwrip67YBbLcFepfjttjOfavOZ875cDjs9TzLtBhjGzUZocRxncPDgzzPIIQ9z9vehN1zdwgRggghjDHGmDHmup7neb7vj0bD0Wg0GAz8gW8YBqGE0Dbx+O/ZfPr/s/eeXZIcR5qumYvw0JGiVHeDAMkFZ3Y4O+fs/QN7//+3vWd2qQYECbQslSK0dLsfQmRkVlWjGwBBNugP0NVVWZkR7h7RVfm6vWYmJWOMMfbrX/+6N2xHUfT69es+Qqu1btuGSCulpJTL1fLi/OLZs2eff/H5r3/5a+RYluV2uyUiLvh2u83znDTZjo2j4Y0LvlguXjx/QUSO45Rl+fnnn5+dnwVBYEnrqVFZUgZBcHZ+/otf/KLPWj87O3v27Fm0WAopH50zY0zZyrKsFy9eAEAQhIvlMgiCzWaTZWlRFpp0VVU22pZtBUFwcXFxeXn5xRdffPnll1dXz+I4TtNESgkEnu/XVVXVled5QojDO5vjswohOOdBEIRhGEWR67q7/Y4xFoThZ5999uzZs2ixsJT1w6+RwfDTMd6qUlp+GNiEZ1dX66tfFHW1u9/s97uyKNJknyYyVnvH9ZarldZnfkCcM0QJQDORCABjsjPiA2P0TMQND/VS7YGW/vupaOgHPZtP/3ObIcyLN9BkRx5KaB0JKRwEOR4FpQdpOqUsY69FERkXQjm254VeEChlS6kAcLvbNPu6LMukiTWR5wWuH4aLJQBKSzJkHJnuE9s1zBo1M4DDNZ36gY9/xl9tR1HhadSzBSF9JO/YI8+jsZqXtN3F+lJaTtdpArx59/b29ibe3xJi13Wd1lIpz/OFYlwL4AeF/n0YHd3j7+txKQE4Yl8TT2vq2qbIks3mbrfbJsk+TuOOAJng0nI92/PCru2sMi/zvCyKMs8ZFxpYR8AAEXC2j07HKnq2Bnj60Ph7g6Y1Y4i6aessSzZ3N6++ef3Nnz0voLaRwrKU0x8chw4fH3nPj44Qwu+9lH9/jJA2GAyGTw/Hcc7Pz9u2dV1vvT7rupYh6wPRQ/PhKdPpyaA09YnN69X62fNnZ+dnnu9Nbl7O+SJaPH/2nDMeBuGL5y/g5A3kcJD+S2SMMYaCCyG5ZakwDIMgjKJwsVxGYej7vud6XPCPSjl+D73F2rbt1XrFOBNSuJ57tj6LkziO495bzpDZju04zmq1Oj8/v7y4vLi8WJ+vEbGqKtu266aWUu53+yzPurZbLBfLxfL84jwIA9u21+t10zSe752fn1dV9cUXX1xeXgZhKK0nhbS0rCAMLi8v+vLXQogoipar5Wq1EFJMbxoezgUY+L5/eXkphLAsKwiC7Xaz38d5nvXXSynlum4QBOcXF5cXF1dXV+fn50EQCsFtR1VVpTWFUVSWRVmWruv2Rv3lctkPY57tTERd2/Um/KqqtNacc8d21qvVZ599dnl55XmeMXUbPjEO4WPkjCMTtuOGUaBqBwC54FmW5ansuo4A+loDTdtmuR/4ged5lmUPuQyMMUQNY+M/TTiW+h5P8PDck3r+vvbW78VM4uKwETD/7uToHqOTHLFp6qos27bqDbVCWpayhZSAfF5O7AloOu9hCINeHcQ6MiYsoWzlup7j+FxwxhkXIsuzIs/ruiGtiywFgrZp8yxTjus4HrcU5xbnYizlDXQoJ6ZHWxXN1ebpSvywZafhdxiXyvEIVueXmkhIiwm53+/8IBLSYkwg4xqGZGB8aHkfF2T21em90geiH9mH7s8PAAht07RtU1dVnqV5lqVJHKdxlqVV0wJKKaVUjuU4rhc5ftg0lUZsW82aFhkn5IBDTvv3/jXbVyJjAINCRmBIdZVv72+uX39z/ebl3dtXzfIsWCzapux0994Z/1NghLTBYDB8evief3V15Xnes2fPsizTWg+lv2h6Dzjy0E58rKV7hRaGoed5gg+/FDjji8VCctnn4hZFcXwImI7Qf9LLeMaHoLTt2LZtW5ZtK0sp1adw/1gqepoFF9wPfCmlbdur1erzzz/P8zzP867r+rI0tm3btu2PeL5nOzYCSktalsUYWy6WRVHUVd12nes4jutGURhFkeM4FxcXruNeXVxlRdZ13XK5XC6Xjusq9aSQVsqKosiS0nXdy8uLvp214zhBFAnO3/8mQylrsYiUsjzXvby8TLOkyIuyLPvvWtJStnIcNwiDMAx8z/d8n3NUtuKCP3/+3HGcF8+f101dV7VlWa7jeoG3WCw8z5NCzoVx13ZVVeVZHu/j7XZXliXn3Hbt87Pzzz//xcXlpfvxPckMhr83fRPhcRuRgHOubGXZjpDSdd08y4s8y7O8KPKyLNMk2e/2tjPkOCwWy8VypZTinDHGoK802KMJ2Kw00+GH61Fi6xgS/k45+mPSa+kx4XXeBPuQ3YoAjCFHEAyKstjf38bxvm/m4PvBYrX2gwgYAOfjJE/rUcORfNXwoO80Tf8TECAik5blea7tuJalPN9LsyzLsyxNi6IoijLeb+L9jgsZRssoWnpB6PmRdDwAAGA0RIn1IYd3UIZ0pOBh1HyzB4YHP4DDZTpkiyMyJpSKVmvLUrbteUEUx3sppZDKjyJlO5xzQA5DsPc4dWq+bHg6Uhg3IHD2eT+Q/tcxGyzrUDdNEu/j/X633ex326qq2q7tCIRluUGgHFc5nnI8y3Esxy2ytCob4DkB04DUrxH2h6XHkg0+iLEA2nj/IJZ5enfz9vW3f7l793q3uWGclWXe6ZZ01y/dp27P/iEYIW0wGAyfHrZtSylXy1Vvz4ZR005v83AKFwwcFC8AAOsLmZAm3XvCe2P2ISIteBAEvuuvz9Zd23W6g7FI91ihZzigJt0fFhlOcM6nlkt/OxhjjuM4jhOG4cXFRV+ju65rrbXuNEMmLdnLeCGEkEe/72zbdj338upSt7rtWtLEOONMcMmlEMhQCBGFUb+8BCSl5Fxyju95oyallEJ6rrtcLvuLMnQI4Zzx74jxWpZlWZbv+4vFomu7uq6rqmqapv+uENKypBDSUpZlyWlh+1fZyl4ul23Tdl3XNE2/lyGk4IIPee8zmrpJk/T+/n672e72u7pplFSLxeLi8uLFixfn52vXdb/HtTAY/s70tbbHxGAhmJRSWrZUtuP6npcXRRHHMdttO63TJMnSpCiyssjLotCaOBfa823bksoCAmSEdFzO+sH5jjcp8e/iTp1p6f7LycpNCMQYIAADoq5r2y6NNzdvXt3cXAMRaVidnXPGlLK5PNSteO8c9PiRTV5c6kXboKL7QaAQQrlOEITKsf3Q97I8S9PY3m+2m7quqzwriqrTuqmrtqm7tmEAgiHjknGJiMCQASME0Ifq3JMR+SRX6cM7OU2cqOjB3s76/GTph5Hn+bbne1GUJWmnO6071w+VshkXiOzx8+HJ2I6HeTAHPHgGEQB1WvclS9I03mw22839dnO/2W6IgEvLUspWrh8sbD+wXc92XS4sbsm21UymgJxw2IAYBjIYx79/5vLBPkVad7rMku399d316939TZLsXC9o6kp33VC1Hg+v+nQd2t8bI6QNBoPhEwSBc06MQAPyk1YWQ2xk/PLwN85/4w1PpUH6sgcRYwTkyHqNrJ9UxdPppk7FQzL1T2jz6qV7/7FPD+7fQXDOh2zqBzq2fzIAMBy+OzbGHGfQP8iQcUZAjHHGH2sOfXxMAmKM0RirQMRpi+ED58IZBwEKFeNMadU/yJBxIThn/DHT9WH6mgshkGHf3efR/lX7eP/111//7ne/+/blt3G8Z8jW6/UXv/zixYsXy9XSdd2+9pLB8GkyhKb7tNs+R7aPNLrIEZmUluf6aZDmeVpXVds2eZ5dv3u7326DMAijRRhGjuc4jsM49hUb5wFZOlELR4UI8PjH7d9shoczHs560NIEAIQMGCBD4Ai6bfeb293m/q9f//nrr7569/Y1Z5xz8eKzLxDBUsoNAlcKZHzKCBqHrwHY6PrW48EfHxKNHa0Ipt0MQMY4l0rZiCiktJQd+H6aZVmalkWpNSW7TVUUSRy7XuAHkR9EyraFVFwyAtAMCOAg1h5tyzzX0h/1S2f23GlayACIIWdKOWEEynZJa01aWsp2PcYFspNfrP2RHtHJT313ylfvh9A2TdNUZVkmcZIk+yRJsyzNs1wTeUEkpFK2Y9mucj3b8aVtC8sGZgETBIKAD6W5hzRoBIThlxT+EH/3ME7Quizztkr3u02exnWZA2glpbAEY70BgsYY+z8v5velwWAwfHoMopdAsB/tx/iJ2Ou/nPoP/5BD/a1Bhhw5By5IKFLTPvxQofbxAmnAkKEY8u/6yrWT+oUxDfvoLB8wqf669IP5qBdOz2ScMc5IkKWsqVbOvCX1w6NN0z9M/HguBwh2u10vpF+9fhXH8XK5PDs/+/LLL1+8eLFcLj3X+87gucHwj8khZYWINBx+DHBmoQKhLGX7QdDUVe813m02281931KoqesoWlxcXnZty2DluY5gvBt84oPNmGjwUT+ipQ5DeDx99kdnrpOOI4GjrxuBIQjGaup2m7u/fv3VH3/3uz/+/v+8ffXKspSUqioLPwiWyzUT3PUDBI6jJD4cF8ZCX/AduwNHBm8CItBDxjrYtqOU7XlBEIRNs0qTJI7j3W53f3u322w0bYWQtuOdXzzr7cSCC4lWN+Rf98W2pzT16ap+tJ37CDyZ0MEhDxyRUDmuVLY/5ApoRIacIRsbJutDp7QHbu2jn5/Dd+nwJIS+6tvwO1zrrizLeL9/9/bN9bu3WV40TU0EfrgIFgvXCx0vtF2PS8WljUwAY4wxYJyAETIC1ICjlj5aCurF9VPtzd8HjVVFqSyzbLuJeyFdlQQkLSktwTgbN0umFfhnDEeDEdIGg8Hw6fI316sIT+2y/6PxlMh872smufn4NL/38v6Q63I0kQ+WtA+nT5qquup7aPeUZVkUxe9///v//b//9x/+8Ic4jvtG07/85S//9V//9dmzZ67rfr99E4Ph7w+epF0cvavv99QYQ8E557JvjMcQOWfSsvIsy7OUSMf7Xdu2eZakaex4vuO4yra54JxzAiTQh0rYT4iGWZOon4bJYT1FPAGBGBADqIp8m8a7u9s//uH/fvWH379786pIU8ag6xrQuiqKMs+qqujadlCR9ODYhyZX87XVQKxXtwRApGmszDEbB4wyiyEHBsCIGENpCcYYF1JIicgYY1VZtV1H1GXJ/pp0moZ+ELmeLy0lbcUYZ4Npuq+fNtgDBkFN+OE/JCfGiU6W+H7kOMb2cdqb7L9JpAGRQAPOou3joQ4X4cFZhk9mtgVEIKBOk+66ui6rskzTJN7vkziO47isG2Rcub6UKogWfrR0XN+yXWk7yATnkoARoh5u5z5Ve/4/wOO7Ch8RnZ7aRzOAVrfpbnfz5mUSbzlDP/ALRiW1jAvEcdflp7zZ/yExQtpgMBgMhp8bXdelSdpHfra73W67u7+/u7+///rrr//0pz+9ffsWAAI/ePH8xb/8y7/8+7//+8XlhTF1G34uDJprcATrQX8hIDIQwMF2OBeWlL7nr1ZnaZKkSZzE+ySJt/f393eO47ir9dnl1dX67Mx2HEtyAOw01wQA+iTqfCjy1YM4ZVf/uCLjxNQ9ptWM6hVhiCUCMSKOlO63L7/5y7df//mPv/s///Wn3+mmUco+Pzur66auagTqurap676Y+XHtC5r9GR7Bw5cIOFQd6yU0TbXGAHrlSOP4iGY7C8gYF8pxuJC2Y7uOt1qv0iSN4yRNsqLMtruNbTt+GAXhcrFaLZcrqWzOORNI1FvHCXsBqWlQ773x+5Fi2O8D+y0RNtn259F9NusdidRnzPfz6md1Eos+vsZzaY0As5B+334aSeuua6uy3G7vN9v7/Xa73+3zPOdCcql813P90PF8y3aV7TJhMSGQS0CmgfVtrIiNtogH5iQYCqGx7+G2njq+4bArRbrr9vv7N6++qfJE2ers/GLLoGuqIRHsMMd/asxvTYPBYDAYfl4QdF2XpdnN9c3bt2/fvnvz9u31u4G319fXaZaerc8uLy9/+ctf/uY3v/nyyy+VUlLIv/e4DYYfBk5/H73DP4TkEBlHi0mQwnEd1NR1Xa+i3zJMkjhJ4ixL+yZ5fYpv0LWcAeMCQPRCC0HDqUieneEn8rjS/ONor+3TmXXbVnVT3V6//etXf/zT73//zV/+6/rVKz/wV6vVarXebXf73Q4RSOu2a7Ruj4dMDz6ZnwSGydKQFAMAMGSjD0nlk3GaCEdRSgDYJ8wwzi2LXM8N/LBpm/1ub9/dMXZXVUWa7vI8LcuiLAqiTnLm+p6lbAkWIDLGALBvUKFxsN0POxiPpk8/uXLDGB+48BEGAz+jQUWPkwECYPPa3O+zu49eajyq5a1Jk9bQNE1ZFVma3t7e3txc7/e7LEnqpomWazdYBMv1YrX2wwUyiUwQoB72ChgNyeo4dKfqRwtHqv7BdOjJbz4BDrU+SGtdV2Wy393evJUM16ulswibqsji3ZD3NDqg8HvJ6Z+NAjdC2mAwGAyGnxEEBNQ27Wa7efny5Z/+67+++uqrly9fJmmSpmnbNEqpIAz/5Te/+e1vf/vb3/72s88+U0pxwX8+b20M/5QMEdTHaiLg6ZNgkBkMGTHbdRhnyNB1vcurqzzL8zwjgndv3mzu7qLlcrmIwsUyCBau7/fF/MZkYH1IDKHpv7/9NB8LRg6D6Kiui+s3r27evvr6j3/86o+/e/vqJWP4y1//6vzi8ovPvwjD6M9f/TnPsoMEffos3zmM2af0yLcQABlMxR40EI4WagBAFJx7not4brtuEASr9TrPi6osqyq7vX6z390HYbRYrIJoYduO7TjIORuz1ien9PfR0v35NdCJM3zWY+uhz32a08MlmB4ZMuo1IACwQ3lK3XVFUeRlsdvtdtvNPtkXeVGUJRfW+uLKUo7rh14QKNeXtkvICRgCEmB3dJ6DlX3y3B/SDQZzACHofo+BPjJBut8l4pw1VVHm2X5zl6VJ27S254RRFAbe5v6OCLQm6MvQIR5qiXywf/xoAT99Y7gR0gaDwWAw/Hzo38u3Xbvdbl++evmnP/3xP//zP7/99lutdac7z/NWy9WLzz77n//z//lf/+//+vzzz9erlaWsvlb533vsBsMPgGZih40m1SF4OkXP5ioPAYBx7gjHcZwgCK6unhVF/u7du+t3725vb969uc6LfLlar9dnl8+fvXjBbMfhyBkHItRDlLKX5HoIvA4dA6bz/a3+TdHDYyOBJiBdl+XrVy//8J//39d//P23X/9Xutt88av/9usv/+VXv/rVF7/8peu4WZq9fvXqPe1/D9Jsrh9PlaqebRqcquijADcCEB4E31gwrO9p4Hq+5/mr9To/W+dZfv3u3ZvXr9Pb2/1+W5VVtFhdPXuhqaNoaSkp+o5efVh21t17kIs/SEtPh/swX/RTClDTkFrel60AROxj2ZQX+WazeXf95s2bN9vNRkgppLVYrdeXz1bnF9KylXIAxVg8jA2O+dlghsoZfTkAnPz0NNx3NFOmg47+iNVgQIjIOHLOi7bNkni3uSuyrK1rEQVhFK3X61fffgMARBoBsO94gYjIBr1PH1tT5eegpI2QNhgMBoPh5wMCEhLjzPf98/PzFy9eJEkihOjf4iyXq2dXV198/sV//Md//OpXv1qvVspW7LGuWgbDp8RcRc8eHfKliR5WFCQYU32RM0TOhbSUEFZdNwSAjAHgPo6FEHmRb+7uATDPc9dzPc+VlhJCci5wLLuEo0A8Srv9eGn3wQynHfzNSAiY50Ua726v33zz5z9//eevdvutspR79fzzX/23f/sf//Hs2fP1ak1aS0sBsmkR5kvy8bKG6CC8CWaJ1OOhNBy0c/84AlBvnO6VG2PIARBRCqtrO607znmSxHGSMgZpuqd3XZ5neZY6rmc7jlQ2MsGQj1H4vgXWBy/4oWMWAtCgpfU875ge3EUw93VPc5s/abAmsFHAEum2a7Wuq6qqiiLPN9vtdr/d75NOk3Rc1/Udz1uszvzFmetHjFucCw2ImjpNiDBb2NFvwA5G86PxHS+5Jvj4opHjBogGwLYqst3mbnt3R0ThYhEtV54fKWVzLgCo69q6rosiy7MkSRNLtRo5IJsy9Z9GP1rV/Dtf9o+MEdIGg8FgMPyMQEBCy7Kurq4YY2EY/uKzz+7u7xljjLHlcnl+fnF5cXFxeblaLpWtTI0xw88cAsDes4uoDyq3T/IlDQgdDYXvGTD0wlBalucGy9XZfr+P9/sk3u132zSJr9+8WZ2drc/WYRh5fuA6LnA2cysT4k8XYjvpxgUAWZq8fvnyr3/5r7/85avXL7+1JL/87LPnz1/893/77b/9j//wXA+A9ttdpwfVS7OY4LTlMLnf5y51PBJv/d8MoJvFrmGuoqcxTh+no40R5aFoth7+ACKzLLlYLiwlF6vVfrfd7vZpnKRZmiT7/W7ruF60WK3OzhfRUijFpMLRETBI1/dp6WNhfKql6XCUQeydTESPAvvxGOqsOyEOmdZd17R1VZbxfru5u9ttt0mex1mGXNpeEJ1feX7kh5Htecp2gCuNfd/yPoGb6f7TXpr+4KbQjzLf7xk/I9JaE5Vpsr272dzeWJKfX704O1u7foCc9w3A2rYrizyNY2HvmO3bXmQpRyj7iUaTJ+hZesXAp6uiwQhpg8FgMBh+biBIKc/Pz4MguLi4+M2Xv8mLnHPOOQ/DcLlYBmGAiB9b6tZg+DTpiz3D7O07TdWmCIg6HAo5MY2Ijut5nu8H0fL8LInj169e1nWVJHEcx6S7pml017ZNq7VGAC6EFBIHDmrzY+X0d0i/p183zgQAqSzK+7vbt69f313f7Lb35+cX51fP//Xf/8eXv/mXX/7qSyId7+O22+o+dXYQaaej/a4s70OZraM06UdU9LhVcTjDIKFGLd2b4gdphYiMCz/0gyg4a7vtNgqi3ds3r/Myy7OkKoskiZumYQw5Y3bjgktMCGQc2GDGPmjpD1q5Iy09uQoeHGAKRD+5LFMgtt9F0V1HWrdNnWVplqb3t7e31+82m/uq7cqm86LVIlwszy/9cBGECya4JtBd36+aho5WONRSG/MR5gnbU1D3yZmeWv7fuwx0yAsnIup0o7smT5N4u0nj7fnl1cXl1XK5tF2va2oi0KTbts7zLI73TPnMDjTwvoJcv3ee4JwAACAASURBVKTvEdPzfxo4q5D3Sdu7jZA2GAwGg+HnBiJywW3bRkTLsvzaZ4xxzpVSylbvSY80GH5m9JnSoB+G9XCIjE5hZCIA1FoTIgEKLlzXOz+/lNJK4jhL4rIskLH9fl/VdRLHvu97vu/7obItaVlSSESG/CAR+6zpH+junkUOH3kcCGgIIwOX0nG9IFiEi0W0WLm+j4hVWaVZHid7hqyua03d2DfreIHwoEQfD7wODbK+1wyQjmX3SXAbYLB/E3W96xxtx1kxRETHdXfnF2VeFEVOpDd3t2maeF7o+4Htebbr2baDnDMmAfs+WPjYBEbBeOTGnmvpOZNY1fAoU23y6cqSJk2d1lp3RZEXWZalWRLv0zQu87JqW+X6rmVzy3GC0IuWbriQtk3IOg1ajw3EYCZpAY52SabHv18pi9ny44Otk2n+Wus6S6ssSeNdWxUMyHXs1XrlOg6RLvKsKoumbpqm2++2KBRTvorWdhNoIkSGh9pqw4lmnvOTTO9HnQufJEZIGwwGg8HwcwMRpZRCCMuyPM8bXYIwFIgxsWjDPwfHSZj0iP949k+h99Yi9BIGOBeOw6UlV6tVmsb73W633W4395vNfbzfSSkdx12dnZ+dtUEQuESCMeTYl5giIGRj9eYpRXjQGfRYIu4wBBjPfjq2R9J2xwAvDeJRCOG6briIosVysVq5roeMl1WV5dl+H1tStk2jh3pog5v30R8EP2qQcJrLkVV8SPxlk2ecQIPuZbwmZOC4ruu5vu+fn5+lWXZzfX3z7nq/3202+7puwjAKo0W0WC/WmjMmpGKSI3KAXinSaWi5z9SeewaGgTw11yckNAztpActjYcj9KHaum6SOL6/u9tt7vf7fbzfMc5tx3M9P1qdhatzy/W4cri0AZEAqd/YoCMVDfMo94NkgdMNglm0/3Sos0encP0h0n28n4IApLsiz+LNXRrvmrpkCK5jr1YrwVmeJkWWVWXZNHXXaWJbQqGCZZjnTVgTEWdMP7ibntDS9OCTx8f/SWCEtMFgMBgMP0MGsykD/j1KzxgMPyMe6KceevSN/JTCiQCMMwstEBYiMGRCSM44Z7yqq67ruq7L0gSIijz3fN/zPEspS9lSCsY547zX0kcnnIfsJnfrEBA+iKnxWe/Z8DrKNO2/UMqOVuurumqbmnMGWlvKzvPi5uambTvbsjjjeZZmWdp1DZGeNNtRlHPmkD6sj/5+0Wg9zPrJORAeFnsQqf35OUPGOCrkQgrL0l2HiMpWSu2zLBeCV1WZJNtOd3leOI6rHNeyLCEV730B2G8XMgAgPV6DyWb+VHXF7wr3IgCOCdREpFtNpJu2qeumrus8z4qiSJMkieMsyzoA6XpKOV4Q+EHoRSsniIRykAvgQhORJn1qkh9HOoTPh/TteeAeccrintLOj8P943bR8WFn6vkhfTO3ti2SZHd3U6R7Btq2BFBb5knb1vvN5vb6TRxv26ZmwlKO60dRGC2CxcL1AiklwLyO+oNVo4cDmvT/owvwyWCEtMFgMBgMBoPhnwh6WkUfBX718C5fSssPA9tWnussV6s0jeM4ztK0Kss8y2KlXM/zfd8LwiAMHcexbGUhQ4ZDeWxNdHRoOpGusy+OXc9stHafmqNHic4GOzYB2I6zPjuzlXJcZ7la7rfbJN6nWV6W5c31jW1Zrm3rro3327ZptO4A9FAqDYDhTCzj0K1q+FI/GOTHMAs6HzE2XZ7l/BLDUUtr6lOHgTFU0losV47tLKJFkqRJkiRpmsZJmiRZmnNx5wWRH4Su5zte4CiXS0sIhjTlgePUynpYSj1b4ckoAADACIh6c/nRWHUfXkUERDZUzCJqu7qt27zfnEjTOI6TeF/VTdt1BOC4/uLcdxzP9gLlesKymaWIMQLsNTTNrApz28J83QAQZ3nMswYLdKiYPnvs0cU/CTz3t8+R/52IdNc1dZ7Fu/vbukgFA2mpri43t++yLLm/u7l99y7ebpq29l1/uVo//+wXl88/u7x67vihsNQPzhWiT1RUGyFtMBgMBoPBYPgZM1hl51GwiROn6WnwmgCAOOeWJcF1PS9Yde12u5XSAoAkjvM8q6qyqqqyLKum6XTXtq2nNbjAGWeMTwbXh05qBo9EQWeyDuaBxMn7CzAPdB/8upZSyraCIPB8d71av3vz+uXLv5Zlked5UeSWEI7jIFES75u6bNumbdu2a7uu01prGrN0x2Lgg5h+0uP8o0CHgGvfG5n6HGnq61r1thohZSBlEIZhtMjzLEnS63dvm6rOsqyoiq7TbdO2bdPUTdd22uuUssF2OJeM8T6NZRTzjwTH8Xi5p8Zgp08aHAAEfWnrruvatiyLsijiJIn3+7gniQlQSMtyHCcI1+eXthcoxxHS1gCacCiWrg/C+Sln9rCBMn2C8++clnA7yl+nwfrwYPPi6F/B9BAD0LrTbVsVRRrH+809dLXrWlKIusy3G53E+/u72/32rixzrclSKlosz6+enV9crs7OhOV0HWl62nhwZDB/D5+YhO4xQtpgMBgMBoPB8DPn8dLS73v+EZ3W2EckuXA9nwCU46RJGqVxXdVNU3ddlyZJURSOs/M8z/U8x3Vdx+3rkHHZZ/AOg5iUDz6IKx4UyVT0apBNhKOsHeQQgyG4PVVwIgBklnKCCInIstX6/CLd75L9vszzqsyzOM7zoiirPMvieL/bbv3FepHnRAz5FEDHoT/1pKI/wGv+JLONhOO03CeeDJPCnM8KAIAxpmy7T7G2HS/N0izNirzQmpqqTLquLHJL7VzXd11POa6tHEupvvNfH9vvNyAOEvakWsRjpbwO9nsA3Wmtu7osy7IsizxNkyzN8iLPi6qqK+AiWKykZSvXsR3P9SPl+dJSgKKv8Kb7OvFTkzGapPB73O9HOy0n+ykn1ob3390PTQHTN5q2LdJ4v73f7Tb7eAu6bRpVN8pSStaN1uT4ISGrmzbPS6FcYXvScpm0EHlfE4Do/Zd1NjiE6X749ALQDzBC2mAwGAwGg8Hws4UOAvbDOE4R7kXPEOVjyJC5vuc4TrRcFnmeZ9luu91uN/F+VxRF3VSWpVzX9Xx/sVjScul6HmMoh1JYk1AmnJKjnx70fBi9ofhg0p1Cp3OVAgiMKdtRynY9b31xWRXZ/e3t5v7m+u2bd69fp0VWFHlVlnme90I6XO/zLGdcSqmE5NOk8TSC/gPNu3g4xnddhimVnIY48tD5GQW3BLeUcj3v7Pw8jdP9frff7bbb3Xa7abOUCBnjfhD6fhAEEYQLjoCWRC4Zogag3iqvx2JkGoANdRiP6tGN4hbHMG4fpte6a+o6y/Ohu/g+juN91TRdpwmZFwRhuHCD0AtCx/G4kIxbgIwQh47b9Ih9+Tv6jZ3k9w+V4jQCe8It8EFa+rA7gYCAbV1nSbLdbva7bbzfA7VtYzetLVVt2Y1tO44f2p6f50UcJ5bjW7YrbYdzC5D1fvgnRfq0i4LDHav12OQLaCzd9gnLaSOkDQaDwWAwGAyGGTNBCdP7fRhFOWOMCSYEAIq+jzRjQlhFkeZ5RkRt22ZpCkRNXXm+5/mB67pSWpZSnDHWZ09PjbcI8BDR6wtM0yAl9Sgqn7RYzx3Cg4W595MzzoW0LMtCAKUshgidbps63e04Y23b5Gm6226j7Xa32yJyL2BCyOEw8FTlqI+iF3ujDP5QvYRzyzfB/C/GEACRSS4kABFjIDnnnAvBi7yo67ptO91Ueaapa9u2qqrUth3bcYVlcS45533cmRBAT+XRD52Zx0EeLgdp0l3Xdk1TN0WRl2WWpmmapFmal3XZAXJLSSaEpbwg8sPQ9nxlu9J2ARGAEWC/BL1iPrmM39W1+wOWCuCoz3R/1PlfT7xu9l1q27bv2tW2LXLOGbdc1/F9x/Nd33ccTzkOaUrTMsurYLH2gpWyfWFZgEhDI3CY6/3HRjm42Uf9PjkxPl0RDWCEtMFgMBgMBoPh58vBRg3Qi7vveO9+nO6JM5fxkJA8SVshJGMckSnbiaJFmsZpmuRZmud5VZZNXcf7veu5QRD4QRAEYRAEtlJMSCZ6SQgINMrpUVbMJU7/UdMjnao0zY3fMGlpIs0G6Y+IjAsvjGzHEULYlpJSxLvt2zcvtaY8z3fbTXi/ie42QijLUrblAEM8HHf0lE+rd6rZPhgcZeoHtdaaaefDvIYcagAC0kQkhfB9z7Is27EXUZikaRInWZbVVVXmWVOWRRYntuMFYRAEjhc4jstsB5EBYwiMGCGwMSKKs3MfRkiaiHRdVXmZ5dlQTqwoirKqmqZlQirHtRxHOb5yXMt2le1waXEuNDAaS2/TuGqPq+gfKCTxcHEe8vDYhyXFw5O6rqnKoihzQpS2Y9syXC4Xy8ViuY6Wa0vZnMumafKiqerOD5f+Ym27gRBqtsf0pK8CTm7q/t8Q/oB76R8JI6QNBoPBYDAYDD9LDtWaAJ7ue/QdxziYpyezca9sGRdcgLQs1/e6pnU913Xd3U4S6aau6rpsmqauyrqq6qrWbYcA1HW2bSNYKBiMgecpX3o4E/U+YALs5VdfuXmuVQig70o1Zkbj6F1HJE3D5gFDxrhyfOmjFFJJSVp/8/XXlmVroK7rqrIvmJVXZdk27VC1DCe1hfNI9/TYxy7fkYwaq5h9yAuPz8YIAEj3apw0cc6ktG3bdh2na5v9PraVkoLHcVxXZV1XdQ1FmXVd3bVN17akOwTgUnBuAQM2Hn9S0TNdq3sJ3bVN27RZlsZJnMT7ON7H8b5u2k4TIHNs1/ZDNwi9IHK9ALlgXPbD1lNr6LF4uP6hivmY04PRd+rSE1v9zOZNeqg3R5ayvTDyfG+xXq3PzlZn56uzSyksIiirKi/quiHX84PFWrkBt9Qjd8h3j5qmG+tnoKSNkDYYDAaDwWAwGE45+IrnaBqULUNNevKtIqJlqwBDJriynTCM8iIvikK3LRGlSdw0dRzHnucFgR/4vud5nu/R0FRp+L8/GYNJUc+rfD1Mmx6twb0b+kE/aNJADLXWHQABMCGlrSzHsV2HcbFcn51fXq3PzxfLpe95fTdgAJhqgv+NdA4+Wj57GvVIr+mnDNspoEu99GVAg7eA+sC743mAYCnL9X0/CKuyqOqqqequbePdpizyJIltx/P9wPMCy7alUFIyTdCNC4uj+G2brmmqcrRx53leFEVRlK3uUCjH8rglhWXbjqdcz3IcadnABSHTo1V/mokGOK0Idpgrwvv15BjGny/KEJLH0Sj9WNB52vmZy+bjNZ431QJL2UG06HQXRmFdnTuOHS7CMIw8P7CUg0wQEdcYLs80CaXsIFpayuH9roHuRfwTOdLjPKcvx9v0R8kd+PtjhLTBYDAYDAaDwXDEoFQeq+TcC5q+O3EvSPo6ZLaylaUc1wmDqCrzuO96HO/TJEmzLEkSTTrwg8VyWa+WCGTbNvTCB5HhSe0xDcAQpv7TD+t0HVvAH2hp6pOBCTRQ24EGZEJKy1a2oxxXKWe5Pru4fLY+P4+WK8cLhJTUW3UnQT/AxvH8aDyupY9UdP9xiOdOM5u9CKlPJgcAzhhnjuDKtv0wCouiKIok3sdxnMRxlqZpmiGiENK23dXqHIkYkPA4Q9kffAoX9x3HGt1WZZElyd3d/eb+Li+Kqm5arS3bVsq1fd/xfdv1LduxbRe56JUzAXSEiEiAiPhwgv0DfaXw0aSOB5396I32kCdugdNnjfJ1PowH99Cg5KWl/HAhpATQqDvl2K7ruLbDpOBcEkGntVQ8XJzZbsS5ULYtpGKMUa/aNU2H+jAeU9Gfpq42QtpgMBgMBoPBYDhhJnIe4SAe+j+IAAwZMERkjHPBAJkUUkoppaWUqqqqrqu+S5bu2rZuyrJqmjpJ4rIq27YFAJzJ6Xnxq8fC0bOB4vyvg04dVLgGzQiQMSFsx1udn7/4xReWsi+vnp9dXC6Wq8APHMfhQoyB75ml+kQffbSv+zFOZPSp/j85yaNu8oNjfwrJI0POGOMMEbgQjCEXwrKkZVlCyLZpuk53TZ0mu65tMt/3/ND1fKkcqRxgSAC603ldVlWRpVmSxGmSZFlWloUmEpYlubBdT7m+7XrK9ZTjCymZVH3uNo2rrWHS0icedhz2X8Ymz8NyIiKQ/piVfeDzH9fpsQD1o3sWx3cScils1xVSMiRkIIWwlSWE7EuOEwAiY4xJW3BpM8YYl8gYINJgFRim8CFRZjzJ0J6N51PECGmDwWAwGAwGg+GIh77aB9DRZ9S7hKkPBwohXc+1lKUc2/eDosjyLM3SrCzysiyyLM3SZLu9B4Cua5u6bppmcCkPNm+GiMCwNwf3Xtwpi/fIqcseGSRN+mnoCI2AnHFpu+7l1fOqyKWlouVqsVwtFisv8KVU2B+ITfOaaekfnfdoaRr7XR3OTgAPA7xHZbMmhzQhci6VYgzRUsrzPN8PoijP0ixL0yLL8yTebza27XphGISLxeosWksGXBM1Tb3fbrbb+3i/T+I4LwpkDBlXtmM5nmW7luNariek4pbiQiIT3Vg1azJ1s9EgToN3+7AXM6nfPhzdy+k+m3qubA8rQfOZfgeHptQP91qOd0NwbO01OB2QuJAKUSqFQAyBM0TGCRkAAuFwQzPOEJABAiIbBfbUE/vpiPRk7MDTG+tw+T5djJA2GAwGg8FgMBh+CKPq6TtXIXLGORe2A47jNn5dV0ESJ8ra73ZYVVVR5E1dpUnap0YTUV1Vbdtq3dJQcBsYRwAg1ucs97JlXvUa4QkVPX5/enZvImZcCOW4ZxdXnDPOue14rhd4YWg7DjJBWg9diuExyTOf6o8ifhgOKc5w4t4+6LEPOEv/0qN6YUwwDkxIYWtHe77neVVRxvtYcA6a4rrMsqQsi6oqq7IkBG5ZQohWU1WVm83d7c11ksRZljVN63iB67m2F7hB5PiBUI6lHOB9qJYRYdefdejthYCgD4J5TO9+IiMcx2WAUYefbN2MXcM+AoLHz3ZQsVMYeh6R5lxw3o97KAM23jnjuLDPQGB4qGn2yJEeY5aeAMNOzXA/E2giItCaPrgA3T8aRkgbDAaDwWAwGAw/BDwIJxjkCPZ1uxA559JSfkBCcKks13WzLG3quqnKLMuSOM7zTGutSQdR1NR1bynniARAvY5m/dFoyIXubbRPZ9WOscwpVRcREZmQlvLDqO9kLS0llS3UaE6ejLl6HiLFh9nRP46/G4D6HHDq5zMmo7NJTh6d5z3pwONIDyb4PtKJDJC4tBQCB2BSSM/zwyhapGlZlHVd50XavHl1v7knQE3Q6q4syrIqCbkfrbhQjufbTmA5rnQcadkoJaEAQgKkWVewB8b0o72Ah1K6f76m05X8IG/0D+AQvn/6RDQ9ox8RAQAeNipmKfTvaXA+zZfNkyOoD9L3NzKR7rq2aeqaqqptm74S+48wyZ8WI6QNBoPBYDAYDIYTTmQOPfbd0wTiubYdLLSInEvOuJTScV3f96vFosyz/W63323TNN7v97vtPTLGGMuzrGkbIGCInDEAaLuOsTHaOTTBHg47+MmPWmiN553swWPSNQBDjYyhH0au59HgHmfAJE1hxl7zsWns71mNH4GZ/XxQzr0qnQY8TgemQuIPmMVHpzrUhyRvZBwtpqSwlFJ+ECzrOs/zPM/v7+9u3l3Hm7jY3Jdl2WrdEQKikEpalhcs/WgdLFaW4ynbY8ICxoAJAtCIBDhe2vmy4JBRP5P085kePh+j6HhibD5a4B9/tSdx/AFB7tndAzDEs/uc78H5P0zo0auCx2H0cU9msJPjkL2vu67r2rZpKl3XTdcSafpRC9r9NBghbTAYDAaDwWD4OfPAj/q9D/Bdz5uFRQEOIheRcQLOGEMUQlhScsYtS2rdVWWluzYv8rLIN/f3r779hjEehotwESplCyE5570yHjKm4RCx/cBhDSKKIWjGuGRM0CACkRg+LtsGiX7QXz+6upsikDj/WgMBMIZsbA81KNQHU6WHV3U2xiHKDQhIfVV0xjnnAjm3lAUIjKO05e3tbVkVbdu0moAJxw+j5bkfLb1w4foLLm1hOcgYwVhYa4jQAsDpuj2IS/ctumbDgcGeDwQatNYasC/3Dg/W9ni1j7/5Qy7DE3nMQ/myk2vc32U0bQMcGcTxcdU7T8YeZ43Y9znHTnd1VTdlke/v8v19sXtXbDa8K5uqBgBk36/P+98TI6QNBoPBYDAYDP900FQmCQAOevEoRjhGTIdXfICKmUuVQ/bulFDKGGeSCc4sKcMoUJYlBLeU9eb1q3i/u7+9IaL9bn/14sXzFy+Wi1UQhlL6BLrPXz7kqLJeeOKDDtKPD2pstzSpG4DeXH044gO1+oiWfmy2CPTxOxQPfLxEGoioN3sz4igYTg5zQkB9cjEmyXx0oEOIG2eKd3wJQ8uyuORnllwsg7OzpZCiqitMsqrrkMvF6vzZL76wvYhLxYQCJgi5BgYI1B9t2MI4bJA8SErupfZgMJ+0NI5bFghAQKQ70h1gv8HCnvA7HO0LwOnNdxSN748KPwCiR3q9ze4JNm/l/fi/hdmdNPomiPVZBYwzhl1Rl3mW7Labd6821y+bbEtl7Euo6xoAGLKHA/gHxwhpg8FgMBgMBsNPytCl+bH37ieybKpD9MPfZNPs4+HTB8G/MajcS9fj2PL7j08zbTM6f0+jfMgYAya5cB3BOWOMQHe62+92CFAU+eb+rmlaAOCcd63WRIjIOGeMw3SoXp+xSV1+wLQPinNYSBqSXRGQwaGV8qNx7kdU00Px/NFaeiir1ve71kS6aZqmrnSnJedSSCEEF6LvaIWAD+LS7xWOw47BoVZbH4TnUgiUnucKsYiW0T5Jb29vm05TVaOwgkV0fvVcKK/tsCPsNLZ0UONH0dbvOPNwiSb/NgIhke7atuvatmnbruk6xoW0lJSqD01/+NLhQaz245tf45ONhdNE7CcuFA0vP77Raai2/UisuN/CgclWcKSiZ/F6IiLquq4DyLMk2W1397ebu5vN7S1ViaBKuVLrDgE/ORUNRkgbDAaDwWAwGH4yiIiIdDf8xxgTQjxQtwNa667tiAgZCi4AP05OHynn9/hGZzqxd6JqTV3Xat1rMGKMCS4YY8MBh02A8UWz105qYrLrPqzr1GsdTaSJCAkQhRBBGJ5dXHIu/CByXRcQ37x+tdtu/eswisLlYrVcr5WtBJeci2EDQA+RyD5BGJ6u4D3M7zhVdxrmgwzkcR4fttQn2xPHs+192fhIg+PpGQgA0HZt2zS7zeb+7ibe7wXnUogoilbr9WKxEEIKKQAYke6rfNG0F9MfYpzeSeSW6HSnoQ96aw2kORFwzi1LWVbdEkMukUkNvAOmATrCbpTfD+Y13jE0zf5oARgQAvX6mSEAkW7rrm2SeLfb3aVxXHe6bTsvWi3PLsLlmnPOhZy3lx6X78TTMAXlNQzHH9fg9CLgYXSncvrIZUDT9IYJjU2qH1jnEafjkB6D08NOwXgp2Diqfn9Ed13TNU1VJXGcxvs0TfIsLYsciNZnZ7zzeFv4iruuh+y07/YngRHSBoPBYDAYDIafij4C23VN07RNywWfejg9CKeB7nTbtV3bSSk76DjnBI8Fsd93tj49+LufNxRWYgCI0HVad13T9i16hJDAOXKc2ubSoXVT3wj4SGtNnuRBSk+P92ciIE2aoR4LVktpBVF0UV8px46ilaXUuzdv3r5+AwDKscMw/MUXX3DBI1xwhzEudTeWOJ67nTU8qqXpWDn145uPayY+Z1L0Y6KDJ4rrQ7Q0EWgiNrb/0l3X1NV2c//Xv3z97s1ryYXg7NnzZ0DacRRD4BZHoA5BawKaNfYCmMK5Y/j0wbBmV4aIqA8OExEgE1JalqWsllAziVxo4Ai8Q+p6tfrkQsyOjoNshqne2BiF5kAMAEHXTdnUeXz/7u3Lv9zevGs6aDq9vnrBBHd8H1BxEsSGvs3Hqpd6VzlO99uYNj6NYWaun7mvj9tOHTN/5IGW7ic0m+Q4VQYImvQ4llMzOY6d2xCAITIGuqWurvMkvXn7+t2b13mW1XWJQOtVdHZ2ZmGLTeZy7XkeDrtUn5iWNkLaYDAYDAaDwfCT0rXd3d3d3c2dpazFciGlLIqibyeru66pmziO3717x5C1bQsAgR+EYcjYj5lFOTaHGt/9MwRNdV23dbPd3N3c3Ox32/7NveO4QRj5QeC4rut6QkrOBWMMDvpzOODcHPtAjA4ata8qTQQagMYS24wxIaXjeqvV2vODvldVWRZd1xFRvN+/fPntfr8PgsD3fGEpy7IYE8g4Ihs0EBKMhcKPpjk7PR4P5eFznrb+PvaC4+xomn8XT74+1dKIwGb2AmRMcGEpy7Ed23aqMs+zAoG07uJ4v1xEi+XSsV1l2UJagIwhIwDdF8mivpA2PjHDR6ZDg0gGQGCMITJkDJEBcg0MAfUU86Wjoz4GjWHjSU4DAoFuibqyrrumros8jTdpvL159+rd65e77b1wPK5c0h3CMIC+LNe4bidXkMbs9umMT13JwyNPbwE8PRMCPLn+1DdG1wDsYCGfSscPwwMEYP29TNTpTmvd1nXbNmWWZXmSJUkax1prZSvHcy3LWkX+cuGztuhyElSzvmf6p6aiwQhpg8FgMBgMBsNPBwIiNm3z9u3bP/z+D67nPn/+PIzCLMuItCbqdFeW5f3dfZ7nQNB1HRf82dUzx3F6d/fHC4Snx4LQRykBkCFqgLos0yT5y1++/sP//c9X337TP2OxWJxdXJ5fXF5cXF5cPfMC33ZcztSgose4KGnqu1IhjP2QZyE7GrJtZx8G6UF6cHprKaQfhZcXz8LF4vlnn8f77Xa7SeJ9nmf73c7z/ShaLBaLMFpG0ULZjpTABJt5f2mQXf1p2bji0xgeE8p4+gkeGmi9V9p8uO7pVfSDUx/c0ZILZmMYLi6vroD0zbu3Wby/ubne7TYvv/3mdLtcSQAAIABJREFU6urZ1bNn69XZarkOowUXEvstlbFj0mRhpieaOw2S+DGZ2g9ksIsDDoIWsD/2PPJ73NbqMJveRY04eLlxsBy0XVMXaZLut/F2s7l9c393vbm73t3flGUenj1beqGlbEsqISTnw67CaG447ML0seVRRc9G8GD1T4zd9GAr5/HrNe5CHALej74ENc76XfUz7fPWGcDQEwyg023XtXVVpUmcxvskjpP9vigyKaTTN38LIz/wHImOZE26yeuUmvrRcX0SGCFtMBgMBoPBYPjpQESt9W63+/blt5ZllWW5XC7LsuyD0jUyRNzv9wTAGHLOPdcLw1BrrUFz4D/aMBgCDCZtZH2LpK6p6yxLbq/f/vXPX3395z9xRMb5YrlK07jMs65tGMe2XQMR95EhZ4xj70+GWUrrZLE+7it9iAoP2oUNtaCBCEATMSFc210sV8vVGpBt7m/tN68ZY/d3d3F8XxZlXVVVWbVNhwBu29qOoxQxxpGxWV72cTTyuILUU/HVYzvx+7KaAWaB6A/Y1Dg+8twAf3icMc45D/xQn7UIVJXlfrdJkn2S7OGemrpqqqouK91pAFC2YzsOMtE3VjoUIf/usUxDwNNy7eMODQHSsJXQ+8APT5kt3WPTJgDQRB3pTjdNU5dNWSTb++397fbu5u76zf3t22S/ydKd7nS46mzbdmzbUpYUApjAXsM/WNZHHAJPz5M+dBEe54lNiKP0+6lM+bB9NJTko053oHVT11VdFXkebze77SaN4zRN2qZeLNdeEK7Oz1dn51EUYVdiW2ZtUXGhmx8w4r83RkgbDAaDwWAwGH4iEBAYIEMhhW3bcRz/7ne/IyKllK1sQOirkLVN27ZtGIUXFxdRGAkhOOec8x8xHH3ax3iG4MJ2lO/7ju04nuu6nqNU09T3tzdVVazW5+cXl+uzM9f1XM/nIICN0e3jkN6RqmEAeh7GRBgqFQ8Sro9IdqS7rkPGGAPbcdbn55ZSUbRYrc/qsmybtq6qzd1dmqa+5/th4PuB7bi24wghGOeI/BCI1KOifrpFFj4hrT/M4f3jgQgAUllBFHLOGBdhFO22m/12k2UJQ7i9vSmKYrfdXi9Wi+VyuVy7nme5jmXbyAQC+xijwmmc9nvM9LAdAAB9jW7SRF1d5nWRlXmS7nfpfpsn+zxNiywl3fm+zxkoWxHR+uJqfXYZLlbKdpCJIQb+4ZsT33e073nGtA0zr3nGgDRg33wN2WBxYDiGx4eC3I1u2qYqm7IsijxLs6LIq6pq69q2HdfzpVJ+EAZR5PqB5XqErA9ga6L379f842OEtMFgMBgMBoPhpwIBARljlmXZtv369etvvvlmu9uen51fXlwiw6Zu6rouyqKqqhfPX/i+L6TgnDPB8OnC1N+fWdWqcYAkBLdtO/D9xXKxWq4YF0TUNdX2vri7vU73cdfUDAEIlG1zxkcZPUSknxQHDAAQe1U7dM09yvomIK1127WcJCAo2z1T9nK5zrM0z7L727ubd++22/sszdqu9T1/sVoslssoXCAA2baFwDgbEofHuXyIln7q8Z9S5SCispSS0veCKFr84rNf3N1dX799e3P95vb6+u7menN/f3t9HQTh1bPn5fNqebYOYYlSCGCcs+833Lkd+sNf/f+z915fkhtJmq9rARkqZSmSze7p2bv3zL7sPfP/P8/DbJ/tXbKbLJ06FLR0t/sAhMisrKokWawiOfgddmZkCMDhQFTjc/vM7E5aOEHdmTNgTVPmabSMlvPlzcXi5rouctPUYA3n3HFdpYRbO4jQg6Pj2cFhOBorpQkmgPDGo76zFXwqHnJc25j+5mrcDaHT0hghZBEmCKH+J7IIEIBt26ZuqzJP4iJJkjiOozgvckoZZcwfjceTaTieKsdRjkcoRZQAACAMXSLH71tHD0J6YGBgYGBgYGDg88IYC/zg+Pj4/Py8KIrry+uyLNM0xRi3bWuM7azWrWmllEEQKKUI/mjp7Z8HIITA9inMQnDX8w+Ojr/Ov/X9YDQajcfjblRVXSVRnCRRXZerxRxjBABKSnCBc0kZe6iW2/UM7jNTd8IMrIVN1SZAhBBCKKHUQZgx0XVu4oIXeV4UBaWkKqv1et3WbVFWjuNIrZTSjAkuOCEMY4wJ6ZOntyXQHqrSfpGOvhOWvyfiTXBf+Xwj8KEL0BPadRqTSiGECGFSKqUcLXVRZHVd51l6/vb1cj6fHR+dPH5ydPrI9X2Phpju2Y4/Exgj6KrUAeCmbqoiixbL5c1FtLopsxSsEVJy12GUdqfCtA2rBaHU80LPD5VyKBP3ZKl/Oh4yH7CpBodw3zT7zjjwVjwjhLrmddY2bdXWdV3mdVnUeV4VWZUXVVURShzHFUpLrf0gDEcTLwgYl1xwwMQiBGC6WPbvXEQjNAjpgYGBgYGBgYGBzwyldDQePXn85MWLFwAQp3FZlavlCiEEAIQQ3/d9P+Cce543Ho8dx/lVwtEIoY3Y6G7sldKE0idPkeu6WZZ6ruu5LsLIGFsW+cX528vz87Ks4mhVFjnnPPB9QgklhLIPJW/jB2i828WSEULIAmCwCCFCiJQyCEdCyNFokiRxkiRlkZVlkURxmRcsih1Xe17gep7juq7rCQGUcYIRYHx3z++ZyO3TsHvi04idvQ1u841hX0sjjLa5t4AswoRQ4noB4zwIgsl0cnryaH59eX15Mb++vLo8i6Lo8Pq0qkpCCcLYdQNKiLWAdo2Xf0X2JgpjggimFpqqrOIomt/c3FxeRMsbKbhQ2nPdIAgdpYoiK/OsqkrCGCFUO452XCEVpfTuVh9yrXw6oN8f3vd1242vu3sP2ahovMm8aJqqLLIiT4s0zbOkyjLbtrZpKefa9ZTWjuc7ri+1I4RiXGJCjAGELXTh+37fv3spPQjpgYGBgYGBgYGBzwqjLPADfIon4wljrGmasixNYyxYhIkUnDEWhqFSyvf90Wik9L7k+JRsvNgAFmGCmBBMCilVOJmAMUJwIQRCCKwt8gxj3DbNzdXVahnF65Uf+pPplAvBuBBSvU8WPCQIDO8+AIQRWIQQAkwJodTlzPU8Mxq7UeS669VqaRa2LMu2bSDP67psmqapq7ZtAJDWWkgQXGBMEN2r7P0Ag/cvFNDvFJh+71a3WhpZ6FJvAQAjjDHBGEvNtOOisR2Px1VRSMmKPL25PFst5mdvXpVl4Qfh9PDID8ddde3NDu6vp/aQdYyfetQYIYz6+uFN0+RZnmVZlqZlWSilvCCYjKez6czRejG/aY2xAIRSyrh2PKVcIRQhDHVF0ntLNe5/fiaRiXtPQL/Ygu2txQ6MN1YGDAAAxtqmrZu6qqo8T5MsTfI0KbK0KguKMcFUMO75QRCOHT9wfZ9S3lf3hi7Puv+qdd284f2l734vDEJ6YGBgYGBgYGDgs4IJ1o5GCI0n4/F4EvhBmmd1lVpjCQWMhZAyDMMwHAV+oLUWXLzTlvkTjQSjrmcSoK5dbnd3TxjjQCmmzGKMEUYUcyGDcHR8fNo2dRKv8izJ4mR5M+dcSKkdx0No25v6Fr9EE22TV2EnEonUGhNMGVdKZ1lYlEVZFAC2Ksu2aYqySKKki0s7rqe0o7XGjGzKmd0ez6+sY24X5bpPS2/KnW0Lmm+SunfNlgBhRDAAMm1j2saaxpoWWUMQUIwo2qaEb4/s1l4+PP17kg4enCq9/yYLQCwgTCgTwg9HGJnRZNIlBThKSSmMtVXTZFkOAFJI7fpKuUJKShkgbLdqcn+N4zNqadj56zcyHiHSd/PCCCEMYMFWVVmVZZlnZZEVRV5XRV2V1rSMc8GFUEoKobXnuL5yXK4UxhQQ2s/Yv084/76D0oOQHhgYGBgYGBgY+KwQQpRSUsjReDydToIgbNomAduYliOGMFJSdj2T/SBwtEMZxQ/O7v2pbDfcaWnoxocIIggjbBEiGGFMqcDheMwYydLo4i1rqipL4uXyWjlOOJr0YgTfqxY/AWB7sYMpVY6jlHJcJxwFRZ6vo1W8XidpkmdZVVWEUEqY6/uj0ShsW4SQUpIi1pU5QwC3ui/DdoGii1pb9OmGf1+m9H2zs5v/bvoIgt24utpUCFNAYE3btrVtGzANsoYgRAkmGO116P7QGD4+xL4U9U+YArBgkAUAQijnwg9GrusQAqMwDMMQgW2qKkvjsm6yvOScOV7geaHqfN2Mt0BMNzUYb2ZgIzw/i5bu9rQLDpPNaktfUh5h1OU1m6rIu+7QaRoXWWpMa60RXCjtOI72gtDzAqkU45IyjjGF3Rd2z7j/ax/P52UQ0gMDAwMDAwMDA5+bTqu6rjOZTGazaZ5nGGOMEWWUc+667mQyDsNAa8UY+2ntjX4BuwhqV2G7b1RMCMaIYM6ZEpxSAtbWdVXkWRzF4Sip68pCr7jRryClt526+rFhjBllWGBMCGGAEKVMSCmlyrOsbU3btE1VxVHc1G1VlkWeKceVSkspCaWk6yIG2whs34Pr1i5+ls/559Cn6O5/elMeGgDAmqaO1sv1cn7+9s3l5cV6vWJcHB0/On389OjoeDSeKe0iTADsh0b8oYN5R0xvotQPADZrE4hz7rieVQojyyhyHK21Lsu8aeoiz6uyquuacS6k0p4vpCZdsXeMUbczixDZpSX32+6nqLMkbK6trUvhfn7aecCbYDzqV4EAI4QxwcjatjXWtHVVV2VVFnmaZmlaVUVT1RhjKRWlVGqtteO4rnZc7XiMc0oYJgRguyyCUOe8f/9ix++XQUgPDAwMDAwMDAx8GbTWk8nk8PBwsVgwxsAA51wK2dUYC4JQCNFFhj/joAD1wqaryUwIRrSTF53wsLZtm6Yu8yJjSZzneVXX1hpMMLaAPmlRtFu509ugXu/zxoQyLrFHQqW16/lenhdZlqZplqZ1VadJksZxHK2V1kEYBqNJOAql1ppqjCkg29e57op9YYsRAfTu/j4C3hd3P4+digbUCzrACGNkkTVNVS6uL9+8/PHFD/98+/rVYrGYTKanj548+/rPT7/+9uDoRDs+QsTad1zrDwP2/rv9wnu3dUsSQp/8y6WkjGFkMQaCQRCMEG6bpsiyLI6rsrDGYEKFdJTrM6m2hbA3/aYA7CY0DXB3IQNv9whor6nZLwP2B4AAdbF9TDDBCBBuTV2XZZYkabxO06Qqq6osujUcoV3HcbTrKqWlklIoxgVjDGOKttkNdxppYYTuMZX8vkPUg5AeGBgYGBgYGBj4Mmilp9Pp0dHR6zevKaGWWcaYlNLzvOl0EoS+VPLXM3Xfx0auAOrqI1lrLIABMKbJ0yRL4ixNyjwri1Koqi6Luq5M2wLAr+fEvdOdGhBCFrrAIaOEcY6xqx3PdfPcdbkQBNMExU1dl2VRVWWaxlVdW2sBrNcYjDBnHGOM6UbL3bNQ8WVih116NEYYYwStMW1VZvH86uL1ix8vzl6vloumrj1/9M23f336zZ+OHz0dTw4QJgh1IdCfxp54hlu/Ng/fv8Fb9dQAAUaIcUEEprjLLgZkW7B1UzVFnqZpXFeVtUApE0op12NcIEy3ahhvfAGAUJ+yv2cK2PquN/b47WLNrWHs8dGVjdsSek/MIwBowSBoTVvmWZGl8XodR6s0ToxpjbVSKqqF4/p+EHhBKKUSgnMmug10tnjYWAy2w95ONcZ4Uxju9y2hOwYhPTAwMDAwMDAw8GVQWs1ms6OjozAIGWMIIymlo50wCKeTWRiEUshfb+/3SpDNKwCmreqmqauqLMo8z9JkvZyvl/NXL55fXJylSex4gRBCSskYwxjvtNAn4a7QwID2YnoY403tY9zrMMKEdBDFiCipfc/PgzTLs6qq6qpqqnJ+cx3HkecHru97nu96nuO4lFLKGEYYwKJtea+fuyBwJwb5s+glJcGoqMs0Ws6vzi7evnr76nmWpa7nTWeHT7/65tmfvj06eez6ASK9HP0pec2fEuj81pta17YvwA1gDBhbV2WepkUaW9NyIaTUQjpcaMLEbrR97vg2zv3O/N1fg/zew/1or3W48wAj1PVsRxasNca0ZVmURVbkeZ6leZ61dWPaRgjOhMc4V8rRjqu0Ix0tlWaMEcoA7RpkAdi9AcM9a0C7v3/3WnoQ0gMDAwMDAwMDA18GrfVsNjs5OQn8gAuOGyyFdFwnCIPJZBIEgZDiV9r1+3NM+6RVa0ydp2maRuvlarVaLeY3V5fz64ubq8v59VVVlpPDlgshhKCMYUw+feB8T4O8O1rAfe8o3JW6JlQQIphQSoExZdlJoXS1XEbrZZZncbxuW+P6gecHk+n0AI64EARv+3MT6Jtt/WRB+qkjjNBFyJu6jNfL68vzy/O352evOePTg+OTR0+fff3NN9/+xQsnhElEaDdksGjfmf7rsl82DdDWMdHt3gDCgMCCbdu6qvIszbMEYco5F1IJpYXUCBPoLjT8rvaFrZN7u4uHTe4Dz8C+mO2rAFCMEEbGGtM2RZqslvNotczzrMgzyphSWmvX830vCLXjSuUIpQhlhFKMu8bQe+Z8SxDaVkLvsxAAbfprbS6WP0ay9CCkBwYGBgYGBgYGvgxSyCAIZrPZaDxyXbdpGtdzXc8N/CAMQ8/zBPvJQnobHds+s1Uid+Nx72CtBdvmaZJEqzharpbL1XKRxHGWxlmSZGmSpak1xvP8cDQ+Pjo5PjmdTGZa665iFyCMLIKfrCm3odzbZlvA+3rqPSmmm9Ai7mURJQQzhjGmlDHGCCFCMJUmaZqWZUUIKYtivVoZY7I08Tzf8zwhpeCiC033e4E7UcTdFAJgjG0fFIU77uKP6qMHCShrW0AoS9Obm+vLi4sojtu29bxwdnj05KtvZkcn2guZUEBIbxv+ck7hrQlhIxS7XmpdffHOy5CWea4cT2kllWZcYsJg2+VrYwPA2w30G+u19F4PsFux3QcK0XeXYjapyp3HGhBCbVNXbdNUVZ5leZ7mWZpnaV1VlBDX9aSUynUdx3M8z/UCIRUTgjGBMMaEbBzw7wxnl8m/G/7OTXFLe/+OGYT0wMDAwMDAwMDAl0Fw4Qf+eDwejUaBHzR143u+7/t+4Idh6DgO5fQh27kT58I7fXdPjeP7RUhnyLWtqZvF4vrNix/P37y+ub68ub4qy8I0jbG2KzymtJ5MZ2E4evr1n549+2ZyeOQ4Lr6n9PVPAr/zeC9VFr/7KkIIutLinZrdmmi7lynjilDOmRDC9dwwz7M8y7MsSbMsTZMoSqKYMTaeTCfTSRiOgiB0PYYw7lph9y2yAHr9tumKBQhhslFIfcRxG358N2X31kzvKcUPZB8DQshaA2CTOLq5vro8Py/ynDHhBaOjkydPvvpmNDmkQnQq2r53Q5+DXvXuFmk6Sd016qrrsqjyrMyzqsyU42rtKEcxzlFX1HpTiHtr6obdVrZLJ/tKuD+9D5PQu6zq/dR9vIn24z4N3SILTV1mSZzG6yhax6u1MQZjRClzPd9xXa0dqZVUmgsppCKUE9J3HNu2ZNvb7a6B17Y7+/4KQffT3rcm9HtkENIDAwMDAwMDAwNfBiaY67idkB6NRlVd+Z4fBmEQBK7nKqUY/fjN6t0cWYvQnuC4Y4x9n4rGBIOBuqqKLL2+vHz54w8vf/zHarlYr5bIAmGUc6EdRznuZDo9PDw+Pj45fvTk+PETx/OF1JtE2Z/B/sfITnEAQpigrrb2buB3FPUmUt1p6a5LFsEIY8IwxowjIYT0PK+sKr8o0jShdN42TZqmeZ4bY6wxpm1M03Y1rhhnTIhtvnefib3b/UbyYYxsP+NdjWZ8q6TUh3nve3A3ARasbZu6ztJkfjO/mc+ruuZCBeHo4Oj46PSJ43qYCsDYAgILiGzM1V/YLtzPA0YAYEzb1FVRlVlV5k1dEYKUVko5lHPABMG2w9adSHMvQ6HvSPX+Pd2tFNY/emc5p9fS3R9kY0pHAGBt29amabJkHa2W0XqVRFEcRaz3cju+54+nM+U4XErOOSEME9LZLvbsCvdP+t6K1t034H7Nqq9w9/Dr5jfIIKQHBgYGBgYGBga+DJRQIYTjOOPx+ODgoK4r1/Umk4nn+1JKSikhH62ftOMebYEQunOb/k7zIECIEEwpaW2bJNHV2fmrF89fPv/h4u1rIeXhwYEfhGE4CsKR1o52HD8IwtEoCEd+OHZdj0tJKLuvGfNPBf+UP++82Hdjxhv/tUUYg+0lFMacM0CaUEII046bZWmapEWeG2PWq1WR5+vV0vO9YDQej8dSa8klZRwQQshaQIgAsrslibuG4Q8pobsvfEgyYYQRBmSbuimKLEmTJI6yNOWch+EkHM/cYCS1Q7gA1IXNEZDeRPwFI5z4zvWFwQK0dV0WeVWVbVMDGMqYdhypFKEM7fnAb6voB+/wnge3Y7zb9tYIbXPOu/bQGCNjTNPUdVkk8TqN1nmelnlWVxVldHZwILXjOp7jetpxteswJrqW15us5z2P+P7+0B0vN9qo6K33HXbrLZu/EaDdesLvkEFIDwwMDAwMDAwMfBkIJQL3Qvro6KiqKq2d8Xjie56QgjL6wN5X96rYez+5jZ92W+7rdWFECEbIxtH67OzN61cv3rx8sbg6f/zk6dHTZ0+ePnv85OnJ6alSWipHKiWk5FxixhDlCFPoegd/Mp8xuf14f7t3cr33X9nOVG/1BoRwd3SUUMw15Uoqx3En02mWdh2mV9dXl8vF3FpDKXMcfXL6iGIcIsQJ41wAgm4AFjAiH2gwta+FPm6i/wAYI0DQtHWZ51mSxHGcZ9l4Mg0nk/Fk6vmh1A4izG6CmdtJ+UD89tfjjklgTybapq3Lsqirsm0bsJYx2glpShlszfIPqLL9Hm5d7++5+Pcd3b1nvyvQ3TZtUxVZEs+vL24uL6oyN6YlhEymh9PZoR+MPC/QjkMIIZSifdd+f8AbSbyfNgFoU1dsu0+0OzN7OQJ9PHy3uT1+b3J6ENIDAwMDAwMDAwNfBowxJpgLPhqPTk9P67pRSo7HYz8IKH2oiv55dFWz7gyHUMq5YIxTxgllXV0oxoTj+aPRVDuO43iUM0wIIcwgbDunK9mUb/oESuDTHXKnXggC1NfmxggRQhhDCGFCKGcMY8wpy4uirktjzGq1atomDMJgNA6DUGlHa40pwZtSZrtoJOn021Yv3QqTdp7vnxNtRQgBapumrMqqrpumbq1lXPh+6PmhVJpShjABstnT3qc+I3gvJ33zFN4pSmuhrus8y8qqMgYwoYwJKRWXijD6/sFuhenmwd3lgf6PrhMa6vt/4/58oN6R0J0lCwghILjPs8ZgrTVFWdV1ladxGidpGhdZaq0VSgsulVbhaBqOp47rKa05l9te0Jvg8dZAf2vFplfG/ci33LIv2O7LAf2vPcENu+383lQ0GoT0wMDAwMDAwMDAlwQjTvlkPHn65Gnd1FJKz/PDIGDsV75Nha35FQCwtQghrKT2wzAYjb1gnCYJYryqm7JurUWYMM6llApTCoBMN3TS65nflArojgtjvGc7xpv/YYyRlJIxqpRyHOdgOluv14vlIlqvknh9dXHh+d50djCbzWYHR4IfMiI6hdYLvK1w6oXS+wz1CKGd5fohE7RV5saYuqqbum6NRQgLKf0gdHxPSIkJgd0eN6P4AjWgd1HwnU97o6WNtXVd5UVeVTUAEMoZl0Jpzjl9b6rCHRW909KwfaV7oWuzDRgj0iXEb07uVt92fwBG0LU3g67+WVOn8SpaLaLVar1aFnkulRJSe2EYhCM/GEutlNTdEpLFe4tD/dnfj8C/myUN+1fau3N1z7IVbHLBf7f8toQ0AICF1rTGGGNM9ySlXa94hjH+6MIkAABA9/G2bbs/P/D+bpkGY0wI2f6khGLS7exn140YGBgYGBgYGBh4EJTT8Xj8+Mnj1rSMMq217/s/KTv6FwAIIbAA2CLAUunReDI7OJqdnDZt4ziOAVJWVZpmcRwjQimXjDOEKcIYMEb259tzfyW2d76wu43dqZXu7pZxzoXQGvm+BwDufE4ZtdbkeZYkUVUVxrSmaTDGQnDtuJxz2nU8ovtHu7lZ3hYn27tvvpM3/TDrNe67iAGyAAhjxpiQUjuuH4au43HBMcHbXNwPKfjPziYo36kZUzVNludVXRmECGWECS4U5wIRhnrRe49CuaOib28f9721dlHo/hWMEAZ8+4W+hhdYa5Ft27atq7LIouV8Ob+O1us0iZu6lkq5nj+ezqaz43A0wRgjgsF2ldDAbgvO7ceN98a6X/XsY3L49vHe//D3x29ISANAXdd1VadpGsVRlmXd98Rz3dFo5HmeEIIL/mEt3bZtVVVFUa7Xq2gd1U0D1gLA3ayO7rxjTAghhHDOGWNSSqW0UlIqKaVkjDHGCP6N/es4MDAwMDAwMPDHglHmB/4pnBpjuvCJ7/uUPKjx1c9hP5ezfwassQDIcRw8OzDf/lkIcXLyqMjTMs/ysnr+/Pl8Pp9OD2YHh8FoHISB6/mUc8I4stjurK2/BU23ZVNVze6Cit3z3YvbKVCOMzs4EFL6vj+dTsuyats6TZPzt2/Xq1UQhkE48YNQKiW1JpRguqtutR90ujdZ9ycMd5NKK7jQjhuOxgeHxwjhyfTA8wOpNaEcWQB8V4WCRV/2hv1WiBwha6FpmrKs6rq1gCljXZoAwnTjvP5AsA5vf23XCzZK5rYMur1WgXf/9dnK1rZVWdZ1kadJEsdZEldlUZalEPzg6FgI5Y/Gfjh2/FBqDbjvgo4AwyYvHyzgvVpqAIjcyl/AuwpjHz/x26vjN/Ud+UX85oR0nufz+fzi4mI+n3fh5IODmWlM1/yAcfYxIW2KvFyv12/Pzt6+fVsWpTXGWnNHSAMgsEAZZZRtJLTyPM8PgjAMXNfzAqT7TuODkB4YGBgYGBgY+BUhlIRh6Lne1pNMGSX0k92DdfeO26xM2FqCNwBCYC1CyHE81/U8zzs6PlktF6+eP3/18scTATdkAAAgAElEQVT1cjm/vm5Ne3h0fHJ8evzo8aPTR5RyDlgShsi2nvFvy8nYJ57aPlC6X9cZADBC2AIiGGPsOI7WejKdHhwcpEl6fX15fna2WNysV+u2bSbT2cnpY2OtHwSUUY4F3t0e37V3/3Iwwlxwx3FG4+nB8QllfHp44AUjqR3GaB8dI3tq0yLUlSknX2b23zEsIwuobtqiLOvWWIQR4ZhyzDgmBOH3eplvr8L01yzeO3UEbcQzvq1I78rp7vIGY21VZGkcLeY3i5vLOIo66ROOJ7Oj48nsQDuecnzKOGCCCAHbfze6dZdtLLITX93OLKDb07xLDX/Qxf+JCgn8RvjCQro7PVVVFWWRxMnV1dX11fXZ+dnbt28XiwWljFH69OlTjLB2NSJIa/1h/0xdVVG0vri4+P6777/77rs0TU3bWmsxwQSTO/9kduFoSinnnHPuOI7ruq7nhWEQhmHf0nA8chzHcz3GGKFk0NUDAwMDAwMDA58WjDFjjFHW38hj9JCEvtub2EW8yCa7c8dHDdibRj2YEEKxVA6hlDLWtC2hZBHcLBfzPEsJoesoAoyrqlxFURCOgvFYOw5XinPRD/jXLJD2AN5VKXclDmzVz1aOEkowJow5gCnjxhpAIKXM8zzPM0xIEsfGQhJHjh84ruO4jhDSmMYa02vyd04Yvm3nfeCkdDmZTAjHcSezWds249EkHE/Gk7HreYyJ7RLIztlMOi395dcwusWUTulTxoVyEUIEgdZaewGlHGMGCN9zij7ILRt3b87f/bnBIgBkWmNMi9umrqqyKMs8S5MsTco8I4R4nq+0I5QOx5NwPHX9UEjFuECEQNflDPpANEbIAn6nlfUHQuh/HG38k/jyQtoam6bpfDG/vLz85z/++cMPP7x5/ebs/Gy9XneB4izL/MA/ODwQQpjAUPR+nw+gsizX6/Xbt2+/++7//sd//EccJ61pwdrOJoTeSXrGuJPYGBMsuBBCaq3CMByNRicnJ0+ePHn85PHJ8Qk6Qq7rcsQHIT0wMDAwMDAw8MnBGEOX1dvLpJ+hi/aE3H4rqM4JfH9vql0SMe6LaIE1CGHMuHD94NEjMhqN18vFcjFfLebROorW6/LqarFYOM7Z4fHJ4cnpZDYbTyac8XeEx+dnWzt5vwzye4cE/bT3AWqEEKFMKj2eHmjXm80OoyiOo3WaJGmardZrpbXSOhiNJ7NpEAaEIII3/cNuVZDe8T4ddq/wAuizuTnj1CGzg0PHcZuqFlJKJRmXTPJN6eje6dxv+XPHorcze8fagG1XnwkTLrXrh8pxBKOO47rBhHCJMEFdmXeE9nK938u+hQBt8tu76DDeVOju/wRAYK0xxlhjTJLE0WqRRFFdV1VVcC4c13dc1/EC1w+k1kJqJhUizHYFAgCZbku36mfvFqT6y+Od6mCbVYH/olr6iwnpTkJXZVWUxfX19Zs3b16+fPndd999//335+fn19fXcRRrV2ulPc/705/+lGVZOAo/XDkMIdQ0TZqky+Xizdu3L1++StPEGEMwEUoooQgld9bLoC9HBmChe4kx5rqu67qXl5fL5TKKojzLkUWT2cTzPAc7mAx+74GBgYGBgYGBT8wvaXZ1N+t3f7Pv3+Htx33mdFdfmFAqOVNaTQ5m48lkPJkuxuM3r17nRZGlSZomURQBwoQxxpl2HNfzEBDSOWt/w5piG47G2+ZG3fOdVKOEMuYJ6YehbRtvvXY97+ryqijKoizqpsnyrGlbhMFCyxkXnNZV1TaNtRYA+irdXfnq27PwoFO7SQUmjFLMuBC+H3Yb6nKn4faYvyx3IsvbRRRACGOiHNcfTzECKYTjOK4fEsoQJrs65p3+fdjR7Dm5O2P3dsUEAViwxpi2qaoqL+qmrpsmXq/Wi0WSRAAAYJVygiAcTQ+8IPSCEaYUELYIIUCdm9tCt4zV28t3Ee/O4rHR0gB3T+PPbXH2B+HLCOlORRdFcX5+fn5x/urlqxcvXrx582Y+n8dx3LQNJVQpxehHMqLv8s57GWNaa6XVwexgNptprShltOstDl0lO2vBNnXTNE21oTVtmqZvz94mSXJ+fn51eTW/mT99+vTx08cnxydSSinll0rDGBgYGBgYGBgY2Af2QiN93mCnufD94vw94W58989NdE4IEYQhZYwyHoTherVar1ZFkQslq6oqiqKp69Zaht9JIP2cwN1KZ3dU2n7o8EPqB2z/Boyl1iOEKKWu687iuCzLosgRxtF6nWap4EwIVmRpEsd1Vbpu3QWn9mPTfbz6gffzGAMARhgsIHI75ox7yz/cqpr2ZdgI2rt0axEEU8a5H4y62B1nTAihHBcT1l+au2z9h+yqX9/p/BJ429cKWYwAWWNMU9dVlsaMi6quq7quqqZtasDE80OhlNLacT03CBzP51IjTACwve1e2J/T7ug2ue9478l9n8fuEP4rK6IvJqSNMWVZnl+c/5+///0f//jnjz/+eH5+bqyxrW2bllAilKCE4n0/wQPZixZzLjzPnUwm33zzzV/+8pcgCISQQojuArC2bVvTNE1ZlkVRrFarxWKxXC4Xi0WURVEUXV5cSilXq9V6vc6yjFDiuR5CiHP+K1aSHBgYGBgYGBgYeDhd3A36oGjXt6fXcmT7lm1BMIQIBrSxB7+/9FMvpS1wLrmUnh+E4ejk9PHN1dXFxdlyPrcAVVWWZVk3jTXWEvu5LYvbGOj9QfBdjHH31J6WvucDgGBb4AohpZRSyvOD2eFRURQ319c319dxHEXRuqxKIZgUvK2rqsgRgqZtkL2drGy3LZBhq8ngtiv7njGgbQkxjMkt3/adjOsv1IK4t3PvXT2dyEW4N2xjxoQfhI7rEowJwYQQgikhZKOif1Jcfatx+58YAUGAkcVgEVhom7aqMmMAUJZlZVVXdc24cBzXCUbj8Xg0mUqlqZCMcYQw9Gb+TUWy7W7wbilmK5vfDRyC7ZwB+CMdhv9r8GWEdFM3eZ4vFovXr15/9933FxcXVV11BQO11lmWrVarJE1sa4016H1OnY8DlFKtdTgKT09Pv/322+l0KmUnpBEgsNaa1rSmraqqruooijoVfXFxcXF5sV6toyiq67qrH44xFkJwzo9PjrngCquu1/Qvnw3bCXpjmqY1bdua1lprbZ/KQwihhFJGOeOcc0IJpfR93nKw0CdHNKYxDcGEMUYpxYRQQpqmqeqqqRtAAACc8+6Iui94a9qOLj2JMcYZJ4TUTV3Xddu2bdNaaxljXHDOueCCslurCQDQHUi/oaY/kO3CGyWUUNLtthvY3QMB1H3ctMaAsdZSQhlnXS/xhzjqu/8jbdrGNMaCBQQY427q8KY1+MDAwMDAwMAfDIyQads8SxsgcRzHcaIchDFBXSmcvYzpdx7dx14UsBPlBFPErNIO59xYCwhr7bWmaVszGo+045Curi36PNHSW0FZvH8sALc13t6B3ObdZwH1UexNBnB3q0sIYZRxxnjbtpgQ6SgZqyxNjWmsaeq6zvPMmlYrR2mHS620I6XqyhDtpP5uq/gjIXGEYONehr0qcfB5pvbB3Gvh35a4poxT2uWU9p2Y4c4bf9K+MIauOZUFYxsLpsrzIkvyJM7SpMgSJiTjggolpBLKEY7rep7r+a7nSy/gTGBCECEb20a/ewv7BblvqWh0z0WD0WZlCmxv9b794n85voyQrus6SZKbm5vXr9/885//rKpaazU6GR0eHh4cHCzmixcvX1xeXOZFnhf5L1nvoJRIKX0/ODw8+vrrbw4OZrIrq9ivMPYVAYwxpjV5UWRpFkXrN2/enp29ffHixYuXL66vrrMsy7IMISSk6PpvjcdjSilnHNNPcNW0bVuVVRcVL4qiqqqmaZq26a7xTu5KJbvi4UIKhND7JKW1tmmbuqqLosiLnFGmtVZSMc6AsqIooyjKssxYC9ZoR4dB6LkeZZRS2lRNlmdlVXa6WimFHcwYK4sySZI8z4u8aNrGddyuWqPneZrp/b0DQNu0ZVnmeZ4XeVmUbdvWdb0pu4ClkEJIx3U813UdFwR0+nbzeQQImrYti6Isq6ZpTNtyzh3XUUp1yv/DKxedim7btizKoihMawABxVS7GiHUqfFPsvYxMDAwMDAw8NuhWyvvCuXkdRssl6PlyrdIKC247AozIYT6G3/o/cYfufXvYrN9ZStskUUIYUIoE34Qci5Gk4lpTdM2SinHdRil/W5uN5r6lcCYIGTvCtJNN+sPp2nDNuW139b2he2P7lW81b8YE8pZMAq1I4PQT7NJmiTr9SJeL1NjqqIoi5xzyTjnXCrtKuVyyQUXuBNeuLtJ62XYxqf9oVHCNmxrYU9L38rg/eJsj+NOvn0XuLG9PX030fDzDgHjPlUBEIA1bW2bqsiSLI7SeJUnUZ4lCqyyPmVM+4Hjhsr1lOtI5VDOMROWbJZ4YN++gDsH/ztHhDYjxNuLuT+P/SVhMUGA+jTr/8pp0l9GSBtjyqJM0yxJkiRJhBDj8eTJk8enp6ePHz9+/ep1lmdxHDemweXP/rIAQqiLfzraGY/Hx0dHh0eHSqlOi75L07RN06Rpenx8fPro1HEcY0xd1cvVcr1aU0Zd19VaB0Hw+PFjKSTGWND7N/Wg8QG0TdvlYydJEkdxkqRJkpRlWVdV3dQIIQDEOddaOY4TBMFoNPI8z/M9x3G6MPUdWdi0Tad7l8vlcrlUUnUf4UIwxtbr1dXV9XK5sBYA7HgyNq3pIu1CiDRLuxz1Llbsed5oNJJS3tzc3FzfRHGUJEld1ZPpZDweT2dTzrnWujsQa2wX2I+jOEmSKIqSJEnTtKmbqq6stQgQJlgpJYQcheFoPB6NQtd1Pc/rAs6EkG4JtK6qOI6jKM7zvChyRzuj8SgMQ8dxGPtIzrw1tmmbqqiWq+VquWrbFiEkhBhPxpRQqSQhZAhJDwwMDAwM/PHAGJvWFEURZ0UUrZfLZQvYdVvtWMaZ4Bxj3NfvfthtP3TRWejdrRs/MiGUKM2VdgDAtMbYFiFECcH7ge/fAHhPEnd8/KDxXjx7syawtfkSzLTDXM91fN8ryjSJCUFtU6dxBGDrpiryLI5ipV3X8ZTU2tHgWEZ5124W7dns8UZEfywuvXn1dvey33hebreespcuD+8u22xD7rc++G6a+2YDFgFYA6axbdNWRVMWWRKlSZSnSVXkbVMDaEaZ0joIRuHsQGmfK82EsGCtAUCo6wmN+/O7uVLh/vviXYwLYQz9kQBYaxCAtV1VuV3Hs/+iKhp9KSGNCWacuY7z6PT0r3/9q+f5Xz179vjJ4yAIgiCIokhKuSmj/8voV9IAwG4yZ94LpQSAOVofHBxIKdu2MdYwxn58/mNZlG3T3tzcvHjx4uDg4NmzZ5zzEIedS/znjAtQ07Sr1Wq9Wl1dXV1cXFxdXSVJksRJXdfGGGNMFy5njHLOlVKj0Wg8Hh8dHZ2cnBweHQZ+4Pt+19NrS1VWi8Xi8vLy+fPnL168cF339PT08PCQMsYou7y8eP78xdXVFaWEEPL48eP6LzXGWCmltT4/P//hhx8uLi46v/dkMjk+PlZK/fDDDz/88MNqtcqyzFrbLXZ89fVXWuvRaNQF9dM0Xa/Xi8Xi4vzi4vJitVrFcZJlmTGtac125hnjnLMgCKfTyezg8OTk6PTkdDQa+YGvtQZA1kCSZBcXF2dn5/Obm5ubmyAIHj1+9OjRo+OTY6nkhye8qqskTpbL5csXL1++etm2rRTS87yvv/5aSUUpxQQTOlRcHxgYGBgY+GOx15PFWptl+WK+KKtW6Uhq7Xme67pdlRzKGbJ7VY/vzyx+r1CDTRiu2yshBGOGPpTw+4nY1XcGtAuwbyAIWYRJL1ARQqiryAybd1O0NYDvm9Z7bvtz4fbWYe83QJciSwQXrutNplNKCLamrSoAoIw1TZMm8fzmpmmt4zqO4zquox1HKd2lKm7SibdbvecE7HnW75/W3dLA3RJZX5g7SwOwC73vnkH3vNr7JNDe+gJC0KeQAmpta0xTl0WVZ3WZ10VRV2WyXhR52rYtpUxp7Yfj8Ww2OzzSXqCUppxhjMFY2DgL8Hb/sFeA6m76/M7dvTVxYNI9MnVdtU3T1HXdttYaqbRUmnRGDLz5/AfAd+fnD8CXEdIEE8qo4zqPHj9qTTubzr799tvHjx93Z+/i4kJKuVc+4ZfuDvZ5/+YIIZxjxqhUcnYwo4wywhhlWZZdXV41TbNYLDDGTx4/WcwXgR84jvNzx4MQgGnb9Wr1+vWb58+fP//xxzdv3sRxnKRJ25qukj1YsMgSTCilQojJZDweT549e5ZnOQBgwK7jInbrX8OyLJfL5ds3b//+97//7W9/C8Pw22+/jeOYEkooffny5f/5v//n7O1bIYXgIo7jLsDuOE7TNBcXF999993z58+VUlLKo6OjPM8dx/nb3/72v/7zfy1XyyIvMMFfffVVnudCipPjEwR93bg0SS8vLl+/ef3jDz8+f/F8vlgkcZznRVcXfVNFs3deBWE4m85OTk7+8uc/I4sQICGEVroz/WRZenl59eOPP7x+9frV61fTyTROYmOMlPLw8PDDE9slul9cXHz3/Xd///vfjTGu405nU6nk0fGR0oryoUTcwMDAwMDAH4s+zRMjggFha2yeZ6vlIisKxrlUejIZm3biBz6hhAmOCQBCyCLYeZx3wE7U3C/N9qUfoWSnDH/t2kt435F9d2y7YC/GXW1nANT1ziaEEIwRIrY/OLilpXfFpu78RrfeBbs0Z4wpF10KMHYdB0xT5FldFRZQ09RJklpARVm6nue6XhiGAMAY47yL2BMAi7aebXT3UHZzSO4RZ/eckv3g6W9Aor2rpT/4ZnxbXXZSdtNNvav1ZS2yja3LKkuSaJUmcVUUTVkWeVxkeds0mBLtuEEYTmcHs6MjyhXlCmEKCJuuue9On+9f77dOP96rvrexnkPXsxoDYILAWNvWdZ4VRVGURdsafzSinDGCKKYPWce41wT/e+fLCGnGWWe3Nsa4rhsEwenp6Xg8ruu6aZquWPfuZO++2J8h4aQvqoAQGo1GJ49Osjx7+/bt27dv1+t1Xder9WqxWFxdX4/Go66vNf7p46qrKs+LxWL5j3/88/vvv3/96tXbs7fzxYJgQgmVruScM8osWGtt07Zt0xhjVqt1HCdlWdZ1U1ZlXddSySAIOOeM9+exaZuyKuMkvrm5ubi4SJKEc945nBGgm/k8TzOMMaOsK8PIOccEW7BN0yRJMp/Pz8/PhRBc8CzL8jzXSp+dnSVJ0jYtY0woobUWXHDWfzDN0jzLX71+9f133//4449nZ2dnF2dN3WKMtdaMUcYY6i0Btu66wuf5eXUeReu6qoqiSNPUghVcEEYpoZ1FpG3bKI6urq6LomCMMcbCMHz27JngomsG/u6sAkBRFovl8uzs/O3bt69evqKMzmYzz/e6XuKfqjjcwMDAwMDAwG+IXhkCo8x1nBZwEI7C0QhRZtq2rsooWtd1lWaJ7/mO60kppFSE0K4aFmwSRztu54i+e4v3+YWA3ez3zpM7h922ohdY2xqTZ3GWpFVV1nVljFHaUVJr7UjtSKUwIV2+656e3pqR72Grn2+BMUaUUW5YK4RUSjmuhzFBGEuppHKkFNa0WZYa01Z1mSSJ43qu63IhOROMs84wvBP2d7hTte03ffvWXxJ4k5gOCPAuCPzRD9/yeG/0DyCE2rY1bdPWZZFlZZEWWVYWWV2WCEBIgcElyHJGEFgEVkjJuei6/GJMAONNq6x99byd6u3QbkWIyTYhHiOMcBfXq5uqrsoyz9NolSZR07TWAuFcKgnWJ5uY3ocXMXZfKowA/8ZP6E/gCwlpxjzP45y7jnt0eCSkcF1XSGGsqZv63jW9z5/aqrWeTWdlUZ6ePjo+Pm7bdr5YZEm2Wq9ubm6Ojo7KsgSLEHlPesH7KcpivpifvXn7/fff/ed//ufl5eVqtSqrajadTmYHYRD6vq8dba01xmZZGkVRFEXr9borFVaURVHkhNDJZEII8XxvK6SttXVV53kexdFytcyLXEppWmOMMWCbugYEfuAHQRAG4XQ6C/xAStnV58iybL1eL5dLSiilNE3S1WqllIrWkbGmq6nuB8Hh4dFoNHJdV3DRtm0SJzfzm+fPn//vv//v77//PoqjOIodx51OJpPJxHVd13MJIQDQNE3XSGy1Xi2Xi6ury7IskyRpmsZxnPForB3dJUJzwRljVVXHcVxWJaGEcf7o0aMsz7XjcMTuVAtH/UowKopyuVhenJ+fnZ2fX567ruv5PiGEUsoY4+QjtcoGBgYGBgYGfpcAgAXOued5TDrjw6PJ8aO6aaIkybMsieMoWmmlPT8I/CAMR+FoJKVkTJBNHWNkYReSe6+Kfne3/e+P1AD/hbwrUrqQ+ubl3tJtwVqoqvLmZn59cRZH6yxLmrrxwzAIRpPpwezgkLEppZyyrgjWrvoXQgghgrut7O0DIdw/c2sIBAEggG7OCKVcSO1oIbWUUkgthSCE5UVXNTiPojUXMhyNR+NJ4AdeEDDOcNdHFmw3ENjf476KvhMn3xOCgH5Tegx2bujNyszmeHbv2II3092/BAgACEYE460ib9uqyJI8SZJonUbLtmkALMFEa8fR2ji6KkRV5G1TNXXFGMeEACADiHY+UNRlvCPUF0pHuxoBu1H0MfC9n/3YMEbWgLVtkaXRcrFezaPFPF4tEMZCadcP6yDojP7bLT1IS2/2CuhOmbPfJV9MSDPKpJQ46FdJMMbW2qqqkN2/0Lbmgy8w01LK0WhU1/XR0dHR0fF6Hc0Xi6IskjhZLhbrKCrLylpDMP2p6qwqq9VyeXZ+9vr16+fPn6+jdVM3jHHP9Z48fnJ4eDiejD3Ps9Yaa1fL1c385vLiIsuyvMjrpmnbtm3MeDx5+uyJ0kpI0RX9Qqhvf1XXdZ7naZpWZaWkstZ20VilVBAEvu+PwlE4Gj16dDqejrWj26ZPecjzPE3SzgKfZGmapo7jMMo6bT8ajyeTycFsdnBwEIahEMJam2bp/GZ+dnb28tXL169fG2OssaPR6ODg4Omzp2EYjkYjSikA1HV9dXV1dXXVtu18Pl+ulgBQFqXW+uTk5NGjR5hg7WjGmaMcrTUhuBvVDSaCiZvrmzRJfc/HGt8V0tAfeJam8/n88upqsZhH65hiihHqKpxxwQkjQ/fvgYGBgYGBPySAEKPMcRyB6GQyOTg4yMvKImjbNs/TPM+bum6apq4qa1qMkOO4UmspVedFRATfich+7Oaue92+o48+NQ/YZKe/jG3rps6y9Pry4sWPP6yXiyxL2rYJR5PxeFoVRSdXHcd1HB931b/6UOp+4u4ttk2P79CH8ftibIQyyqVyXc/1fK2VEApjAghVZVmXVV3UCCWmNaY1bdtaCwCIde1vCEZor6PSRkU/cGJ+A1bufe6kQ+/M0x8bKkYI+npeAMhCa9q2afMsSaMoSdZZvE6TCCPEmeCKKa2CcGzbuhSsYLwsUgRAKEV94d7eL7ufC71p4/2RdlVdtBgB2BasNVVV1FWxXswX11erxXUSrbN4xYXyMQbX25ywBxUIuOfwf/8qGn2xYmMYw14tgzvu6O2V12UHfKkyywQTIYRSyve90WjkOg5nDAA673SWJlVZGmMQQhj/tKZKdV2nSbper7Msq+taCjkZTcaTyf/z3/7bf/9///vBwYHruVprsGCtjeN4uVyeHx4SQuuqzvKsKqubm5ub6+ub65sgCDzP22266/CwqRvZtE2SJIyy6Wx6cHBwfHR8fHJ8eHjouq7ruuPxeHYwC/wgyzJjTO9px6gzYCOEPNf1PO/Ro0ePHz8ej8ee5weB73u+H/jj8dhxnLZpi7yI1lGapFVRAaAwCD3f++qrr/76L3/905/+5Hqu53uMsi4i/fjx4+Vy6Xt+17MaIbRar66ury4vL6+ur7ng4SjUSk+mk5OT04ODw9EoTNO0KIub+c3N/GY+v3Fch1Asb9ddBwSd5E6SZLGYz+c3ZVlSShzHmU6nx0fH49FISjn0vhoYGBgYGPgjgzHCmGAipHBdR2pNKdHaybI0y9Omqkzb5lnSNk0URb7vB+Eo8APteI52CCVA+kDvLWMkQe+kEd9RRngT6tuGID/bzcaeuxujpm2yNFnczN++ef3DP74vshTAUEIRINuauqrjOLq+uDg6eXR88shxXC4lYwwQRgCbNl/bKPd+eP69JuWNmka2c5NiTCkVUnteIIRgQmrXzbO8KPOqrKy1i8U8TdPFfOm5bjgajUdjqZXgnHIGyFqMt+nb6J0p3mfnS4b3vufXZZdEj+++gDBCyPato/sk6V0C9Cbq23kgtkbuzkptrWmapq7KNE7SJCqKrCrKpq4QAtcLhJBSKa0dz/U8z6/Kwpi2KitEKHS5zBbtNvl+U8UdVd+dZbKNRSNU12VVFEWWrpY368VNkkR5ltZlQQkJRlPX9/3RJJzM/HDEOMeY/EE08c/iywhpdHv1qwP60g9288Xde8OXMNNTShFCWmvf9zszM6MMLHSlodMkLavSWIsJpuinxDkBNU2TpMl6vc7SrK5rx3GOTo7+9PWf/u3f/u1//n//czKZcME5590/JmmaRev45PisKqvVanlxfrFcLYuyuL6+vrq6mk6nBwcH2213OpqQ/ltUVVWapoSQw6PDk+OTf/mXf/nXf/3Xr776qkurFkJ0ncCstWVREkwIJqjT+VnKKANAnud/++2f//3f//3w8EBKKaXknNMNRVHkeb5er5M07bR3OAqfPXv217/+9X/82//481/+rJTSju7OtTGmyIs8yzkXy9VqtVzFcbyO1tfX11fXV9fX10EYnFirtJpMp6dZfnBwMB6Pq6pKksQYM7+Z39zcjMdj13GQf3tGAZqmKcsyjpPFYrFYLKqqIpS4njubzo6Pj8NRKKW8U+F8YGBgYGBg4GJae3IAACAASURBVA8D3gTHCMGCc9d1MWPa0X4ZZmmaZnG0Wq+WiyxO4vW6NSYMwoODQ9u2BBNHa4oJYACwtq+rhTHaJPHuuBNl3N/51nP8mVX0LgG2bZosTReL+dmb1y9/+GfbVEoppZVp27qq4ji6uhKuG9R1rZSmlDBGiZAWwILd9l3air3bXvV7tPT2ddtVWkMIU0I5lUp5vu+6vna9UThK0iRJkihar5ar1WplLVBKtdanp08YoYQgwSinuAUKFroScOgeJdDzkGc+G+/rF74nm7dl1Ld25t5l3YtsQIARQYhgTDCyrWmrskiS5c3l/PqqLAtrDMbYC0ZeGHqe39VvU1JppbIkqquC5FknZe+ravbeuXmfA4EgRBCYqsrj1XJ+ffbm1cXZ67LIrTGU0cnsIByPR9PD0XQajCZcO5wxjPEfwKH9s/liQvpetkW1ob/afj6fIPaIUZdb23mnpVKUUYSRbW1ZlVVdtW1rjYGf3k5JSjmdzp48edo0jVTSdd1Hp4+ePH3y9ddfT2dTz/Uoo13BM4QQwYQx1prm4PDw8OAwjuLValVtynQVedE27a7mWaekUV9mr9sCpXQUjp4+ffrs2bOj46PpdEpo19KPUEpb0+JNn7v+31AAMCCkmM2mT58+ffz48cnJ8Xg85px3nZy7sQEApdT3/aOjoyzL/n/23rTNbVvLFsZIApypsSaXnTjDfbq/9If+/3/h3n7OeU+cwbHjsqtKsziPAN4PoKYaHDtJxz6JVpwqSUWRAEhRWNhrrw0hODs/Pz8/O7+4+PKLL07PTsMgJAahtMtMVkpRQhljg0F/OByGvV5VVqIVZVnpiuJVWSrRJTiFYTgcDkajUZZlaZoWRbFYzq+urjzf8zyvD/r74ymF1Hx7tVwul8soipRSruOGvbA/6A+GA9d1EUZHFn3EEUccccQRfwNABCFCkBAqAbAg0r5YGGFKCOe8zIuyKBGEaRK3bZtnaRytbdvhtsWZpUtabQrnqg3v2eK9XPqTsOjNCoIUoqyqPM+qsqzryjToYDAcDoeW49iO17YiLwqpxHq1fP3zT0WRj0/O+oRCCCHeD7s/OP1+rF9qjzRujKogQhgTSk0AtN4YE0oNgxDTYLwsiqaulVJRtJKidVee6zmO65jcMhlHZOc3/EDW+Wem5P5AdfmDlwXcJLYDpVop6jKvq7LIkixJsiyp8hxIwU2OKTFM03J9y/U4txjnBmOEUIgJQBhABCBUEOkCV2p3rT6kxn+8hQgACJQQTZ6lZZZGy/lqPo1W8zRNMFSOY5sm47Yd9gZBf+B6geX63LIxNZD261Z/hWzn34bPi0iDzXLN5/BR0fpzhJFBDc6ZaRqaSAspmqZp6qYVrZTyo5sKgeu6FxfnnPPxePTVV19bnPd6vV6/1+/3OeeYHCiQCSGWxQPf7/XCwWAwmUwwwW13r8yLsmjqRkmlKfT2EBurAIQQMgxjMBx8+fzLJ5dPwjCkJu0srPcV9Ycxfwgg5/z09Oyrr56fnZ16nsc4QxAhjLbvggAahjEcDjHGvu8/uXyS53m/PxgM+kHQC/shNekdNbU2CXddt9/rDXr99WoFAGjbpiyLrMjqphFKMsIAh37gD4fDs7Oz5XI5m82yLFst12/evOn3++fn53dGVCpZFEUURav1crFYRFHEGPN9fzgYDofDfr9v2dZ2YeKII4444ogjjvhLQ3WJyxBihBUBnFvUMBgzXcetiiJN0zRJ0iTN0mS1XK4WzGSs1xuOx2M4GJgmM0wTQCCl2oQMD12VD7j0Pv5kMnH3cEKKpq7rshKihRC6nvf02bOvv/nG9XzX89dRdHt9s1gukziKo7gsS8MwXN8lxCAYAYiUkqqLS+t53r4S+f4R4Z2HahPQVhAoCAFCCGMKIUTIMEzbdlzXHxRFEifraJ1EcZoki9mMc+YFgR8G/cFoMBoxyCDBCGGlZ9jyz1yb+HBsr4HHroS76LbrspQhBEon5iuhlFJtU8fraL2ax6tlHK2qouAWt7hlua7jepbjEpNRk2NCCcEYY4iJQkhBqDaB6MPwY7cUITdHvstyDxu7/aMUbbRazK7fLWc3y+ltlsacc9t2/MAPeoMg7HHbtWyHMk6oiSkFCHVVszYlyv+G+LyIdJdrobbrWx9/WiAAACD0UGLAb9gZhBBCjLH2kcYIQwCVUm3Ttm0rW6l2jf0IcIsP8Mh1/ZOT06oqCCG6dDPCSEpZlqWuvQz2/mvbVlNiTDGAUErRtk1VVXVdCyGklAihLS3ePsAYY4IZY2EYXlxcjMYjbZb+673G0OLWeDS6vLwcDAeWbRmGcX9LQokf+IyxXq93WV0KITjnnFsYY4xQ0zRN1UilE2d2oySlJJQwzrQJWdu2VVVXRdU0DQAKYWRiw7atfq9/dnqmy3EJIaI4env19vT0NEszvbctRZdSFkWxWq1Wq3UUR7r8dRiGg8FgMBiEYcg510L9I4444ogjjjjir4hd1SAFO/MqCAGEGBOEMKLAYAZTtmzb2opj27IQRGWR13VV1xWIo7ZttX7OdhzHdTGhsCubCQ9Sojs576Npw+BPDwbtiJBSQrStaIBSCEHbdk5Pz7766ms/CL0gnE6nAKJWyvl8sVwuCKX9QT/s9yzbJZQcaH3hg7vf30QdJuLu3rqLiEKIMIYIYoKByYBSjuO1sl2v1oRSqMCiLrM8LauyquuyLKUCGGPbcxjjhmHokNB2pveZ0rQ92+1f2RDsolwaSopWqLapm7oqs2y9WixnszRZ52natrVlWZbjBEHP7/dt14cIA0wB0NHtrl666oykNJeG4L63O1RAQfVetr9pjwJKtk0drRaT61+Ws9t0vWzq2rF5vxcOT06H45Nef4AwQYQCiBRECiAF8eaMd+W+/ob4vIj0xrNAgU3h988C90pFb1v521YfMcYGVQhBSjFjhpBCSZWmaV3XVV01tS4d3QgppRRKKqlklmYvX768ub2Jo7ip6712PDBQqktWUQgj0zRt23Ycx3Eci1nv4ZNqU3YMIaSJruM6QRBwxh/TyeuS1IABjLHJzLYVSilN76uqrJta96VtWyGE7Mz94M8//3z97nq1XBVFIaWm2VJKuSmjAAAAhJAgDC6eXLx9+9bzvMViURTF9c317e2tLuhNMNHhcQVU27RJksxms9VylWe5lJJzPhwOh8NhEASWZVHjWPjqiCOOOOKII/7agPvRS6VtnqBSSjsoSYgQUIBgw7Iciikh1HGcJEmyJEmzpK6rqzevr6/fhr1er9f3g8D3Q9txAQBdBpy8HzmBe0fbqxKF/pwpx12bLYwQIdQwTGIYmFBMCTENaprYoJgSN/DPLy4wIUqBJE2qqpjNZibn45MzxjmhuHP6gts41kF5YwAAuGeovSckvvPv/kYQIoghsW0HAsAZ931/MBwVeV6URVkWtzfXy+XC84Nevx8EgWXZlrWTE6o7MZlPj445bqpA7zNqBQHc07zDfRYNAYBASSnKoijLPE2ieB1lSVTXdV2XBrMcLzA5dx3X9TxuOwa3EDY0cQXbBHyo14q2FPpO0zYERQfj9v7+mIJCKSVF29RlGq+X89u6zDg3e73w/Mnlk2fPgqBnO65BqBBtndcKQIAwQBgRExIDbqULEPw2WvRvjc+NSHfYflbUH8Wo1b0HH4mD2gBbHv2bgBCiBqWAKmYqqfIiz9JMl3GO4zjP87KqqrJq20ZTUG3T9ebqzWQyiaKo3hBptbnX7YbokFpjjJnJHNtxHEfXpn74ClebO5Q27sOIEso59zzP8ztR92NjQighlChTAQDats3SLE3TOI51X8qyLIuybuqmaTYO5/D63fW763fL5bIoCqmkptGdoGiv5UEYXFxcjE/GnudRQouiuL29ndxOkjhp6gYYwMCGLmIohEiTdDqdrlarIi+EEIyx0Wg0Go40ke7WlI844ogjjjjiiL8kdjRlE5rrAtRa+Kr9uBXEEEFkWQ60bM/zxbgtivzm+t3t7c3k5no6uU2zdDQ8GZ2enp9dEGrYjqMLoSgA1EF9rN2kAsL9WStQAACp4J/EpbeHhQAABCGlxDAMSiihlFCDGAYxDEINTKjrBSazmO3EcXJ9/a6uqvl8ChA0GRuORsCgm8TkXZBy20UAwH0Wvdnqwbzc7iwcVFtCCANgO7ZlWb2eqMqqqsrJ7c27t1eT2e1yuSzKIgh7ZxcXom3BAFicd0RaAQnkRnXe5a7/EeP22wG7pmzZ4x6X1lfaZkvVratABABEelCAlLIq82S9nE0ns9ubKFqbJqOm2R8MR6dn/eHIMJjJTIgQhEizZQU7T/MuvXIz2urw6aZ9Gy6wad62ZXpdqDvLEEKlIFBCSiHbpqrSZLWaTwiCg0H/5GR0efnky+dfMW4rpYQQoq6aIpMKAEQgodiEFJHdspGCfz8e/bkS6f1s3094WpRSSirRirpumqYRUuiqXYZhEEIxIeg3MTRdRq+sytVytVwt57P5dDpdLBZJkqZpUlW1juLKTURaF2FeLBbaSasj0vv3pvtDpCkxRJRS0zQNamCMf/W2rjk4gghjTCmllJqGqQ3GHtu+aZq2beM4Xq1Wy+VyNp3N5/P1ep2maZZlbdM2OhwthZRS72e1Ws1ms8VyWRSF1qjc3z9CyLGd4XA4Ho2Hg6Ef+EVRZFk2X8xvbm+ur6/DMAzCACPctm1Zlqv1ajqZRnEkpWSM+Z4/Go16/R7Xd+G/3wf7iCOOOOKII/5WuBPi2OkbDzgXBAhACBBACCOsCMKw1+9DCAjBhmlG64gatCzy6WxSt+1qtbId23Zcw2SGYRBKdhrazlnrz+ziPiTY668CSAGICbUsx/V8ZlnUoACCqqqSNDUZhxBSggGElmW5nhuGvSzP8iydT0B/MCiKDGEMMNosC0DwAUT1YB5698F22O8QPAgBQARjjBBC1CBN2xdSUJPGcRwnMSYkS5Ob63dFnsVR5DiObdmcWwhhhLcZuf9LLPojgmR7ft2qew72n+4K/KKOyCohhazbuiqqsiiyLE3iNI3LPCeUBkHIbddyHT/oeWGP2w4hFGMMUJd7rFTHex9yYNviMPQMt792Tx58DwQQAqmElKIVTdPWFTEppYQxEyHYNE2ezaJ1FEerLFpn8VpBiAxucDscngajU8OyMaGI0A+Vuf+18JkS6c8BOv9ZSlk3dVmWdVWLVgIFMMKUUsMwCMYQot9wE21FWxTFerX+/ofvf/zxxzdv3ry5uppOpmVZlmW5kUADoC9uCCGEOg24KIq6rpumocav5Dlr6NQUatA7BmbvhybShGBCulvde4h0VVVFXry9evvDDz+8evXq7du3b9++TZKkLMtN5LxjytudlGVVFEVnk6YUBF129/5yAMbYtm1CyHg8Pjk56V31JpNJWZar1erd9bs3b94AAFzPBQC0TVsW5Xq9nkwnSZpACC3bCnvhaDQKw5AxdmTRRxxxxBFHHPE3gSZDmmVqqbXavAq70BwEQKmN/BVjGoShZVt+GI7GJ3EULRaL5XIxn83m84XBzOHoZDw+8cPQ83xC6WHt4PdlSv9vY5OzDRQESkklEaHUdhzfD2zboYaplMyyLFqvbccBAECEEJSEYNd1+sO+nMr1alnmebw+y/OMmAYFphZ+byy+flvv4F6M+oHkQwCAPj8QIwoNPwwZY71Bf71erdbrOIqSJIrW69VizrnV6w9G43G/PzAZZ5hBuJFPKvU+2vZ7lzc+hA/q6LCO+6p9bagWb8Nu0QB2Wm6lRFM3dRmtV6vFIl4vq7KsqoKapuv5luM4XuC4HuMWNU2MKYRIKgjUhkJ/GDZVe/ZF/0rtim13u5JqM+tWYFPsB+iwtJJCSYEAMQgyKG7rKo5Wy8Xi6pfXt2/fZatFtl5AjInlWEHv8stvIcLeYMgclyLjj1MR/zvhsyPS2/jkJ9cHaBlD0zRVWeV5VpSlaFugACbY4hZjTFdURh/zcdXkvMiL5Xz57vrdd9999z//8z9v3ry5vb1drVYAAKUAxphgrCtgaegBqZu6Fa2QXbLxFlsTbXD4KtjkMBNKPrT4k86O0WbfqCsWDR/SBOjYdVM3cRQvFouXP738xz/+8eLFi5ubm8l00tSNVLI7OqGYIIywLm8NAGzqum5qIYRScnPC7x4DIaQN2Hr93ng8Ho1GURS1oo3i6Ob65pdffrEd++z8DAJY13WWZ+vVej6f53mOCba5HYbhaDQKgsBk5oefnSOOOOKII4444t8R6vDnlsttpvWaWe9IidxGLDBi1HEcz/WD/mCQxAmipCjLaL3O8lRGEgAAIRRC6DkSIphgCncAn4RL7zTEumMAKgAIJtyyPN/3fM/zXIxJnqWz2cT1/bqtGcYAAIIwt6wgCJJoXdVlnuVpEmVZyi2OMSaQgA/jke9t2AOP91/UaesQQkiwRaltO74MbMdxXO+GXJdlEa/jpqrTJGnbFkIEAXJcRymFCUG7aePjTl+P1Xf+IMhf3+TgOFsWvUu27EJHSgEghVRSCNG2RZ4VeRatluvFLI7WUimlJLddP+z1BiPHdR3XRxhLne/YqR4OI8kbVr2n5D6Mom/SGVSX4P5gIHq7j80jtEnwFEIpoYBQSiglRNtkadQKNZlO311dTd69yVeLMlpKiJDJuN9jzA4HY9OyDJMhC0rxdyPRAHyGRPrzgRCibdqiKOI4WS5XaZo2bQMRNJmp71CMMYwxwvgD76HaoVoIMZvNfvrxpxffv/jnP//5/fffZ1mGEBqORmEQ9nqhbducc8YYRh2PhRDWTT25nUyn0/l8vlguhBDbRR915yN033TgV+XxWyILdy+8vy9SyLZtkyR58+bNTz/99N2/vvvuX9+9uXojpfQcz7It3/d937cs27atbsUBYwQgRHAxX9zc3kymk+ViuVqtukSX+82GEADguu7JycmTiyfT2RS/xVVZ3U5uf/7559F4JIQACqRZul6t1+v1erVu6oZz3u/3+/1+r9dzXdcgD5iNH3HEEUccccQRfyFshK9bT6eOTiiggFKyywntSM5B6WMIgFJSCqUUgIia3B6dnFGDxVGcxHGe5wAA7eqyjtau69mO67ouY4waBiUGhBDhbfLwZvL0v19wE27Sv/dmTxIhZFBq2/ZwOHpy+bTI0iyJr355bdvOcDBUvsQYIwAoQiYlCEIpmroqiyLPs6R0HWqynXb4o7nooxs/aHC1C1krBZRUChiM+QAAABhj/f4gz7KiyBVQi8UsSxPX8/3Atx2HWzbnDGNKCd4PPe/nAP+m9r+/1Q/8VXWBaAX3rj+wKYGtlBKylUJUZVlkeVFkWZrledpUlQLA8XyDM8a47Xqu59uuS0ymAJBKKrnNsD6cjHcsens4BYHaRP8fU20DuUulhgcUeutaBmV3RpRSUgIpoZKiqfM4WhKs0FIho65qglF/OHK5WftuXuR5WYm6qIo0T6IqDxzPh0p9sIX5XwpHIv0opJR1XRdFkSTxarVMs7RtWwghM5nv+67rcc4JJQ9l+D6+TyHrqp7NZt9///3/+7//74cffvj51c+U0n6/fzIef/31N99+++1oNPJ9z3VcTDAlFACggEqT9LsX37148eKH738oqiKJk26PD9LmXWrGB8X14f6WOyr+aEIFAEBIUdd1mqZXV1f//Oc///Wvf/3000+LxaIX9gaDweXl5Vdff/Xs2bMwDMMgNEwDa504wgihly9f/uOf//jX//cvJVQURXrJ7r66W/fEduzTs9Mn8ycvf35JCa2qajadvXr16uuvv26aRmKZZVkURev1OooiCGEQBMPhcDAY9Ho9x3E+UAN/xBFHHHHEEUf8u+IgRfcgpKC6RGmw9Vc6mNgoIDtjJqlVfIxYY8aGo5MkiVfL1WK+mE5up5NbAIDJmG07g+GwHZ14nmsphRFCiCilfaAARPuWU39Spze9UgoohBAi2LHt0WiUP/vi3dWbm+ur5WLeD/vr8ycUY27ZEAGCkUkpRkC2bV0VZZHnWVKVoe00ECAI5EeKut+35f2h2Iuv6uHvXjNNxhizbKc/GGRZOp1MZtNJtFot5rO6qoMwDJNer9fr9wcEI2hCpTDaFKJRssvq3tDpP4JLqwM59L1eKE1lu8NtRNUQQqAkUEApIZqmaeo0jqLVKlqvsjRO09QwDNvxHM8L+sOwPzA5J9QgmOgDKrEdeag97mAXeN9URlddkBoCubucH+HSD7NoCKE2AO+2Ql1vpFRK6KSHpq6yJFZtUzaybCTjtuv5g9FIBq6sy/l82txOiqKsiqxIo7rIZFujT5jk8EnxeRHpXSXkP8a94XfdyqqqWq/X0+l0MplMJpMsTQEElmV5vtfv933fM5n5UVZjUsiyLJMkmc/mN7c3N5ObLM8ABJ7vffHsi2++/fb58+dfffVVr9ezbUu7ZBFClFJKqMiJbm5uLG4ZhoEg6kQkG6NtBNB9xgw3a7Efg/s7eRht2+ZFvl6vb29vr66ulstl27bMZKPx6Juvv/ny+ZfPnz+/vLzUbuHbXGstU4/iyLZtalCIu2W77kw9dDDO+WA4uLi4GA6HruvWdR3H8c3NzWQyWS6XEEJ9gqI4LqvStm3P88bjcRiGuurVsXz0EUccccQRR/zt8cBkaDPz0Cm3OikYQggRQRgAbjlSAYQwggBjXNeVlFIplaUpUDd5lti2bdkOMznjnBCCMUEI3XF1/agpGLz3YLeX+xOkjq+jw/K9SimIEPZc//TkrKmqIkujaBUn8cufflyvlp4fmKYxn07n88l6vcrSpCyLqsyrsmqaSgkJ9/f9YQ3eX7R4oPGPQxej3sgSdX0VSChBCEIE27ZFEDGTM27lWUoIrcpyvV43TZumqWXblm2bpkkNgxLaZUFushiV3OPSYBO3vpdWDUFXP+pQ2QkBkI8JvB9Ko+xknxAApZOMm6apq6auyjwv8zwvsiLL26am1PD8gFuW4/mu59uex22bUgMiDBHsatc8dJRtR+DBEe8O/wZo27lHWv1Ab5RSUiohpBBSCAWEKKsaE2ow1w4dzw/9MHRsqymzpswkUEmStUJiTOCd4fv74fMi0g/iU52fqqxWq9XNzc3t7e1kMsmyDEHELSsMwn5/4Pu+aZofxfelkkVRRFE0Xyym0+lqsdLk82R88h//8R///d//fXp2en5+zi3LoBQTjACCCAoppJCtaE3T3NbTA2Bn/f/+oPOmrNWH3xI3T97btaZp8izXmcm3t7dZlmGMgyB49vTZf/3Xfz1//vz84nw0HhnUIJRsKbT+4BuGgRCSUm7cGd5362WM9fv9s7Oz0XAUBuFitcjzfDKdTKfT+XQOILi9ub2d3MZxVNe153lBEJycjLXNGKXH8tFHHHHEEUcc8ffCNgwHFABAblKjddhun11ovbe2YoLaf0Yh/RxSTG3bMYjBGAt6/SSO4jjO0rSqqixLzIjbtm27rud5vhdwzg2TGdQAYBNCVF0mMLgzj0UbjvbQ/OR98ugHuDQCAMDOOEoBCLWgWClgOw4cj+u6LPMMKJWl6Q/ffxf44WA4sGxnvZyvlovFbJolcV0WVVHUZdHWjZRyq1L+qKHeqIu389IPff9+FavOQ0wpiJBBzSAILW75QZAkcRInaZqkSRzHUZIklFLP9wM/cFzXth3LtiilWiKqgJboA7CNdgO49ZsDnR35pnX79mAPV2Te6+VGs929pBQACnaewEAXjhaybdumzIsiS/Msy5I4S+K2bZVSCCFLt9ZxbNvlto0Ng1IDQKQ65r+D3Aa3PxoPs2u4Ky19Z8vNSCggpGqFaoQSUkkhq0aYEvR7g5MnX4S9oe97jLEiWRbxqiyK+XxZ1g01DIwJQls6/Xeccn9mRHrjUr19YXP70+rj33GGfnVdZnvETSbzer2+ubnpnMDWq6ZpOONhL+z3+8OhJtIfl38rpaqqKkmSKIqiKErSBCjAGBsMBl9++eV//ud/hr0w7IWUHqiR26ZtmkYbXdR1XTe1XhNV3eoUBOC92TiHbhvvx4ePr2hFURZxEkdRtFqtiqIglPi+d3Z29s2333zx7IvheBgEwUFDFFBSCiGkUlVdlWXRNM0d47T7ME0z8INiVIxGo+FwmJf5Ml+u1+vZdHZzc6OUevvu7WQySdNMKWCarBf2Tsanvu8bprG/7nDEEUccccQRR/xVsZ+dtj+jV/ceHL5Jhyk7Lg0AAFI/UghjRjAzGedWEDbR2jEMEyMUx1GRN6Jt26apq0o0QgnZ1C63hOQSU0xxJ7jbGk7dDfCiXe2q7et3ajHD+3T0MZ4Cd791Yq6ULULQME3HcfuDQds0q/VqvV43VdW2jcV5FK+SaJ1Eq6LI27pumrqpG9E2QHQTSwgVOIx0P3LMw+YBAPfs3ODe6fgV7NY5OjU1Jtiijm07tu04ruu6yWw6aZs6z/OyLPI8k1KItm2aqmkbIRvGuMmYLqbTuf5o/fKuRpgWSG/nxHDbvHv9fGBeusc/ug7tuPimxI+Qoi7LuirzNMvSNEvTIkvzLEUIGoZpMtPz/KDXtxyHccs0mY56K7lZgdis8Wxj5O+NI298wQ8G+95Wh88PO6runB+lHYAxQdSACBKTG9wLBifnz77q9Qa2bVOCU5PESHHXM7lFzdQwGTUYJgRCrHaLDH8vfEZEWlPoO8WWNmkHneXzR1t5b+tHwU418r6NFVBAtU0bx3Gapq9fv37x4sWLFy9ub2+LvGCMhWHvycWTk5PTwWDouN4dxvsBUEKKpmnbtmmbVkpJCKGUcs65xRln1KAI3uV+TdukabpcLqez6c3tTbSOqqra3LC6wXnfsDwm/bi32Z1N3l/sXiqpi103TSNaAQCghDLOLcuyLMtk5i5zZbdDmRd5kRfz+WI6mU5nsyzP3n8UAABG2DANy7aGo+GTyydpnqZJmhf5Yrl4+fNLKeTtZHJ7e1vXNWMsDILhcDgajz3PO7LoI4444ogjjvgbAh78RACIcEcaOAAAIABJREFU/b8q2aWFbrbSOXJwP1C84Rb6BUQwtW0HQsgt7iV+EsdVVTV1Ldo2jddVmXMea6W3ZVuWZVODUkIxwUAzrd0eNwRpb4bSxWH32/xrhGRH+u9AKinbqqxW88VyPqurgnHr7PzCcT3fC9u2UUpFcZQlSZ6ndVMrJXQirpRCSbXnaq6j3Hcasn+4XZLtJk94r3UfVbIJ7A/O1qoLQiUhBBAhwzQdAACE3LbyNE3TrMhzKWWaJlVVJmmyYpbjOI5jM851wReMCSYYAKiQ2sRrFNiQ6V0PD5ct3tMwAAEECAKgkyb1MgkESkopVVtXVVPXVVkWeZZnWVWWTVWJpsUYe0HIGOOWxS2LWza3HWqaCGEhpQJQbuL4SkG0Nww6QUDdPb931oi2jP5OqHAbON92d39ZSdfDkptLUO32AzEhhu0F4egMYxj4Ya/fH5xd2n6fclshWos2r5q0qOq6AQgTygxuWY5nchsR+rHn/C+Dz4hIa1bYaYAPufSe2f3H7G/rubWP9wlnlJJKm1FPbie/vP7lhx9++OGHH6bTaVmWjuP0+72nTy/Pz88Hg4HnuobxcRFppZRoRdPUTdM0bSOFxAY2manJJ7c4JfROdg0AoKk7Ij2bzabT6TpaV3XVhaM/wOjsd1YRe0wTrqTuS9M2rVatUEI545xzy7JM09TfH/sQQhZFuV5Hi/lsMpku5os8y6X8lYg0Jhhh5DjOaDR6+vTpfDG/ubmJ4mi5XL569UoIMZ/PV6t1U9ecsyAIhqPR+GTsuO59Jn/EEUccccQRR/xV8Rgdgrs6uhsyuOERBzQDHfDBThUOAMIIAGQ7jmXZYRhmWZYl6Xq1XCwX8Xqt5XWMcdtxXdfzwwACAIFNMUaQqp3srgs67qmKtw83YVJ1ID3f79chT73z/u1mShdaqspyuVhcXb1hpjEcDEbDcZCmaZYuF/PFfJZE67xIiyJrmgooiTRnk1JKCZQuCrZTpD8eTz44PuwipA934YOC0ns7VgexaWwSrG3ehsNhnMTRah2tV4v5Io7XUgqEkGGYvu8HQeB6vvI8jDCCEAKyXZbYyz3eVIyFAD6UTPx4qzpLXLhh0Lqgq1CibZqqzLM0zZIkjeMkjkXbKqkwxq7ve37gep7juZZtI4QRpgBABaCQSjuVgU2CgQQ7BqD2WenBPH8zlhIADB/So8KutZvOPxKI7g6zxxIghAhT0/HC3uiccz4YjoajUTAYuX4fU6KkbOq6qJssL8tGSICIYZrMslyPcRtjqj7qLP+F8GmItOZgmkwKIQDoavRlWZbneRzHZVm2opVSSiUb0eRFHscx59xkpk5BAQBoUwe6wZ1DwI1SpG3bqqq0t7NhGIwxw9RFw7szLvX9Q8iqqoqiiOP43bt3796++/GnH1+9er1cLpUCvu+fnJw8e/bsyy+/PDkZ245tGBTjjxs9CCHGmFJKCKWEIoyEEnVVZ1kWx3G0joAC1KCEUKCUlLKpm6qpppPp27dvX716NZ3O8jzXrBUCKIWs6rqu6rqum6ZBGGH4u6jjfc7c5VY/KIeCEGNMCCGUEEKEFE3bFGWRZVkcxUEQGKZhGqZOz27btq7rLM3eXV+/e/vul19+ieNIa7wBAEqqpm2qqmrqpm1bKeQd7QCE0DCMfr9/eXn57t27l/bLxWKRJMnr16+lkmmSVlXNOQvDcDgc9vt93/M5Y3vlKI444ogjjjjiiL849icsD6vx5EeGFtCmGJQuW0wAxJBLhRGCCCKMmcnKsijzQgEl2jZLEyllXVaWbdmWxS2LUsMwKEIEIghRF4Hca6bs4pwPtvYjsIl5Q4gQQgjXTZtnWVUUQKmqqjjjg8HItizHcYLAj+NVHK0wntZ1U1UN1npQACFACAC5kUTDX+HSB0fvugAfWgn4WOxqcG2fA+0cZFk2kIBgTAgxmVGVZdPUusjOer2u6qYsiizLLItblkUMg2CMMdk4ah8snMC9f2AXir/T1w0RhRspOARACinauq3apiyLvCrzIs+LIq+Ksm1qjLFBDUKpyZjreI7ncdtinFNiAIi6AdqWnYbb5oCD5O19vrupVf1HQikApdLXtzauR5hQk3O7PxhhBBkzAz/wg9DiNiYYSCmausyLJIqXy0VZltQwXZ+4fmA7rsEYJvgD3Zj+evg0RLppmyzL8rxomrquawAAhFBJlWZZmmWr1TrLsrquW9EqqXRIdrVaaefnLWfWpNSyLNd1D4n0jkFJKTWRjuN4Pp8DAEzGTcNQG3c8HYWu61rbQa/X0Xw+/+WXX67evLm+uZlMJ2mSuK7X7/eePXv2/Pnzr7/6ejwe29yi9IHo8fsBAdQfMNMwqEExJqKVeZNHUTSfL2azOYSYcwsoCIASrYiTOImTqzdXL1++fPnzy+l0UlWVFFLvS0hRlWVZVWVZVnVlGMYuCPzx1/JuNFQncT/8893t9YkwDMM0TcM06qaumzpN0nW0XiwWnu+ZpskZ17kjeZanabpYLH784Ycff/zp1atXaZLCjWJALxmUZVlVVV3XbdsSQnR+0RYY416v98UXX7x+/drzPIywrrylgGrqBiHkOPZgMBiOhr1e6HouwfhoM3bEEUccccQRfwt0ob2DycvdhMA7LPqAqT2+ZwjVVuutAACQUoNgQgi1LCsMe2maZkmc5VmR5XmeVWURr1fc4o7rOo7jer7n+qYJEKIIYSCl0LZS6FcO+yHY5rZu9wUhRJgggqWSVd3UVZGm6Xq9fvrs2dn5BRkNT05P8zydTW/mswmAKE2ztkkQ7qqTatkm3CfGOzXw3XG5FybfrmPc49IfWYZqE/rtdqZ2ZxcY1EAe4pzbjtPr9ZMkjuM4y9KqLOM4zrIsiU3Oued5ruc7jm1ZFmMIdkmjEEAtl9alxO+2cl/R3ymjuwA00r8hUEAKqGTbVmWe5lmSJnGWxnVZNk0tpKSEcs647Ti2a9muyRhjJqYUY9SR4V186tcTL3fj+4clH287uH9cJYFECBumgaBDKfY9lxLMOOMmIwbFQLVt01ZFmaXJerWczcqyNEzGuOX6oeW4jHOIsHpgSP8W+DREuiyr5Wq1XCyzLMuyVCmFIFJK5UWRZdnNzU0URdsQZZ7ni8Xi6uoqTbMkTjDBumSfaZrMZIPBAGPMLf7ggYQQ2t9rNpu9fv06iiLTZIZhKCnlhktLKauqqqpqtVprBfX19bvrm+s0SYuiQAiFYfDkyZPnz58///L55dNLz/dMZv6WgCcEhmFwzm3bdhyXc57neVGWq/X65ub6559/LstSSmEaBgCgaZrlcrler9+8efPmzZvJ7aQsS0oNg5m0KoUQdd1EcbxYLOaL+Xw+d1zHg54UsrP+29x6PmSFaFNM6+Cj+v636VWMTV+cuq6rqkqzdDabvXnzBmPctm1TNzran6bperWezqavXr365ZfX69UaQmg7Tt3UBSqEkHmer1arxWIxn84BAJZlMcb0jV0fjmDi+z6E8PT0tBf2OOdN2ywWCwAABJBxZpjGaDQajUa+73PG/paf5SOOOOKII474e2I7f3lMiXxI/OA9Uv2IKPz+JphgCCk1DMu22rq1OE8Zp+sVUKrV2W5Nru27qrISrQBKWZZlMGZIQ23IfRfb3ISjf0cN3j1ZOIQAQQQQJpRSgxpGUWRZFud51h8MhZI2t23H9jxXiLaqCs4tSgwIEcGEEoox3ZrLwL1db1+5ly+N9rfahnY3L24I4+8ngXKzCwQwwZQakANuW6IV3LapaRKCIwCqqqrrqm3buqqEEEK0bVsJ0UopKDUMakCEdgO/kaNv+nJ3QHejsGmEFAoqKdtaiqbIsiyNsjROkyRLYyFaAABGmBqm7Tqu63te4DguIRhjquC2Wi3cjAsEG2vuTwkl1TYkiCAGBJmMEqRMipCiCGOCgBJtVRRFkadJvJonUZQlKcLY8R0/HHpByCybUFMCJDdX4aft05+PT0Ok4yh6/er1q1ev5vP5crnQxeIUUHXd1HU9mUyur6+jKKrqqqmb1Wr18uXLPM9t27YsGyGklEQIOY7jOM5XX31lmEZ/0O923VHj7pPQNE2SJLpIfZpmtm1RSjHGalMTSodM67pu6ibNsixN0ywrirwqK8ZYEISe537xxRfPv3z+5fMvL55c+L7PLf6xsWgNjDBjzA/8wXBwenqiC1SnabJcLF68eFEU5Wg0Ojk50dF10bZRHCdxrOXuCKNBf9Dr9W4nk3cARFGUZenV2ytCMAAqz/LLy8tnXzzTkni1/4WiNgrtX4cC3YddbQPTj4ESatt2GIbD4ejs7FxIuZjPsyy7enuFEb65vRmPxmEY6uFN0zSKoiRJ8jyXQvq+H/bCsqx+/vllXuR1U83nc0opMxmC6Mnlk9PT0+FwyC1uWZa+rUMEOecQwuFweH5+/u7du9VqtY7WQAFCCaXU9/yz07PhcGhZ1t/vU3zEEUccccQRR7wXj5SbejBI9+D7dzpnpTXaEGPMOEcYEUq4xX3PK4qyKPK2aUTbxOt1XZVRFDm2Y7uurd2wuIUxhgAiABEEaM/Q52OxobAKdi5hCkIIMTQMGg6Gl198Obu9mU5uiyybTCYAAN/3XcdCCL57e3X97u1yvijLEkJEqMEtmzOOETmc+B08ubMUcbiZPHz6h+IgOg0kkFAhCCBCmFsWhIAxZjuO5/tlUdR13TZ1XVfLRZNlaRLF3LZcx3VdzzCZSSnR+aHyzmqBOiD/G0k3hF0esmxF21RtVZZZWhVpkWdlmddVqaQwKCUWp6Zpmpxzzi3H5JwZJsYIACQ7rgGU2tQp08fbO+t/+qR1I6/Qed4QAICUklIq0TZFEpd5jKEyKKaY6HWQJIpWi0W0nqdpjAmxXa8/HPeHp64fEEoVhH9QgvQmQ+HfCp+GSEdx8ssvv/zjH/94d/3u9uZGl3cCAEghWymKvEiztCgKKUXbtBDCVrSLxQJjQikBAEipMEZ+4IdBqJS6vLx86CBKKdU0Tdu2ZVkWRTmdTimlCCF9M9iyTV3vSufxNnUjpCCUUkIGg8HZ2dnTy6dff/31t//n29PT08FgEIbhr7t/PwKIIONMs8GTk5PpdJokiZRytV61P4nZbNbr9QeDPqUGUEoIkeZZlmYGpZZtOY4T9IMgCEzTzNI0SZMsz8qyFG1bV3WRF1LKMAyrsmqbHZFWW2L8/itTbVfLwPYDpnZymgdAKLEsy/fDk/H44uIiTdPVcpnl2fXb6yROrt5e9fo93/X1obMsS5KkaRrXcV3X7fV6/UEfQphl6c3tbV3Xy+WybmoIYdM2SZoIISilAAJmMk2kEUKMM5OZo9Ho4vzi7dnbsixn8xkAABNMKPF9/+zsbDAYcP6wNuGII4444ogjjvjL44APAbCJlT46n/mw+dyG/2z+15FNRBDHnHNuW47v+VVZxHEUR3EUreMoyrI0iSMFlOt6Qa8f9np+EFLDxAhDACBEcBudfrQZjzKU/VxrtadghxBRavQHA5MaEIAkSeJoPZ3crpaLwA8Gwz4zzet319dv3y0Xi6qsEEQGNSxumwan2vpHbeyi7ykvD8dRHrbtDyJT74Xqui0hhAhDzi3GuOsFnhfkeZokcRKt4zjO0zTPU4SQYRicW/1BHyjleopgRHUf0Hu8eFXHMoFCXcwaCiHqsizSJFnP49WiroqmqaSUjHGTc9txHM+zHa3l5ghhuBEZbKLpUHPpTuD9aULR20n+zl6s+wsECiipRFM3WZZGixmCkhmGQZCSUkmxnC+mtzfRekkppZS4nj8cnQxPz6lpIUJUF2lX6tf95n+lcf+O+DREGmNICDENwzRM0zS3Ja+UUkoqSghjZl03SkmppI5VGoaBEO7cBZVCGDGTGYbZceNtfyhhjPu+Nx6Nz8/Pda1mTclMk2G8qS+3R6QBAEpuaCSEmGDbsmzHORmNz87PLi4uLi4uzs/PgyCwbOv3WFhBCAkmgIF+v//si2fb5PCyLPWDqqrW64hSgjBGEGGEPM/1PX8wHPT7fd/3fd83TbNpGkqplqObhqmAqupKp5RDCBlnvu+PRqOz0zPDNE5OTkajkeu6GD9qRYYJNgzD9/zxeHx+dt6KVghxMh57nkcw6ZYeDoEQMk3Tde3Ts7NvUi3Oh5rEQghbIbI0U0JBBBFCCijbtgim4/F4PB73+/2wFwIAoihK0yxJYiGENi1rmqau67YVO8XA3uhBCG3bHgwH4/HJZDLRxdIsbgV+MOgPxuNxGIYmM3/zCTriiN8AJZUQQiqpJ0QIos4x9L3QySUfVJbvsePqz4iUonNbVYe2JQc/ALj/NXUYd/j4JmzTBj/+bb/anF+F6mYiECIE9c1NSaUTdqTcWxP866KbnXXPdGoj1ImOCigppNLVbO7eSvXWv/2Inye6mjldYiNEEEEIEUbHOoh/R6g/jNE9ltu7i2LCjg9jokxgQgyVAhhTSqlhMp7ZdVXWda0UyLKsFaIoiiRNbNu2LItzblBqGobOS9bGMXs3SLlHZDvypR5qxX1AhBhjCMDBaFwWJSGkKoqqKvIyn0xaoORscjNfLOqm4bZjWU7YG3hewLmFCJFdHOXDR1A99FQ98tc/FghAgCCAEDLGEIIIQoyxYZgp42bC2raWSjZtE8Vx27RJkjq2Y9k2Z5xzRqkBEUFdEdnOxFsBgADAAEAlQKvaVtZaMp5nRZ6WWVJXhWhbjAmhFGPMbYtzi1sWt23GOKEGxhTqFGzQVQHbaR0e+/r7Xwbc+7544NAQIghaKeuqydJ0NrmdXL2SoqYEGRhhjAnGVVUJIUxuOa7nuF5vOHT8PmM2oIYCeH/p6j1LVntuBRvOtcfDwEZE+8f0+U/EpyHSlFDHsYMwqOpKiLZt293fFNBlzXVhJKUUQghjjBHeM2xXmGDP9Xzf9zyPGjvuRAixbavX619cXKxX6zRLhRBKKYwxxliXi1KbAOy2BjNCCCOsZRm2bftBEAbBYDgYjUbD4TAIAj/wmck+vnD0ASCEmGCEUK/X+/KLL5nJTNO0bVt7UOd5jhCq6lJKahgGMU3X9VzXPTk5ubi4OD055ZZe9bQhRI7jrJar1XrNTJNzrrmuUopQYlt2r9+7uLhYLpfUoOPx+OzsLPCDx4g0gogSyhgLe+HF+UVZlkIIIcTFxUUQBoZhEELur9thgiGEtmOfnZ1ijAyDcsaCIIiTOEkSpYCUsixLalBqUJvbjuuEQfjk8snTp09937dtW2e/Sylns1mSJHXdOI5LCEFovwLa3eNyzvv9wXg8th0HIUQIsW1bh7hH45GO2P+ec3TEER8LnYmltTMIIkQQhfSOW94dKKX0pwxBRCj5rUQaCCG0W2nbtFIqhDaZX5sSHweWLQ99Q+2S2w6+/D7om2xLpD/KQ+be9Oru71895mbhW1cYhYTSjduF0u6SQmzjJJ1lxD5+U17Op8fduereyYQAIAgRhAgjSqhBiFBKtEK0rV5kUeCgHCkEdwNN7x+SP2dG/HuwKWjTrY/rOQMhBAP8IUUij/gLQh38+l172tvVHTXuZomqu81AhAxqYBeZjFmW5fl+nudpGidJWhZFWeRpksRRRE3D94Nev98LQuhapkEx6DJ3IdjLot3865jJB13FXagJAkiJiS0yHIwQwo7rLufT5WKexNF8PsvSJI7WcbRmjAdhMByfDYZjLwhMbiFEOqMduFuZ2g3F7x7M3457/EwBAICEHedXGGPTZAhjxlnlem6aZJ6XZzpbM0uTJFqtOWOO43ie1wv7GA0wwoBgBMG2wi5UAEGAAcBAQSmUaEXVZFEUx1GeJnmeNWVJCCIYmVzXe+WMc25ZhBq6hg1EaEOhQXc67l4znwb7XLr7tdFY6O5LKeqqTJJ4dntz9fplXaYYAIKhyThjzGAWY5YfemF/2BuMHC+0XQ8ZXEGk7b+7ucDh6v0WXclenRyhKbPSxcYVVHvfMH+Yp9qfik9DpBljYRienp4ahmFZlibSG+a0WZfb3rO2AmUAwKZqPcbYth3HcQaDobXnNGYYhuu4g0H/6dOnSqosy3R8df/o2zRgTaQ1H6OU2rbteo7n+r1+LwzDMAyDIPBcj1BCDfqHfBkjhAACnu9hjC3LopS6rnt7ezudTpfLpVaYE0IYY7Zl9wf9wWBwcXFxeXl5enqqG2maJsLYc93pdDqbzfQ6nB/4juMQQgghrucKIb549oUWSIdheHJ60uv3CHn4XEMECSWMscFg8OzZM0KIXsh4evm0F/Z2Yvg774IQE8wZH46GnHNtPBYEwWw2m85mVVm2QgClTGYyxoIgGA6G4/H46bOnT58+tW2bUlrXdVmWCKHJZLJYLLMss2zLtmzf9y3LMgyDYILujTkmhDGTc667QynV4ffhcNjr9e75tx9xxP8Wtpkj2pS+LEqEEMHEZKbt2CYz94u9I9i5om6lN2VR5nlOCLEsy2Tmb5juN01dFGWWF1mSpGkmpdzsBIKDO+hjRHovGeluoAN84Nf94WL7B73hXrD4Aya826/ojkcr7TeJIMSU2pxzi0upM3Saqqqrqta1WxXYzoL3WOfjer7PGXciyneCzBghjJBhUItzzi1dSLaqqqZp66ZR2zndVtV3OAR/BSKtJwtKKSUJocw0GWOe77muS+inmecc8anxv3XBqkNap1R3Y4MYIYAwISYDnPO2dcqyNJlJDDNar5uobcqibmqVqbZplJRKSiEaBEBZl60QnTcNUBBIBHWNYQWkUugD71mbhVSFAACYIAKp5wfUMB3bNgwKIBBC5HlaN40CkFDDcb3h+OzJ5bPh6MRxPJMxANE2Iv25Q22+UPTyGUYIY0KJYqZlCcYYt+yYMUSwAipP07Is2qbWzrhKKgiREI5SXCmlpEBdyjoESgEpZNvIVhZ5maV5sl5H0boqiroqpRCUWCbjju3Ynms7rmGazGQIYdXdgvTPrcL50+VB38PdtQilANypHpQCOp22KssiS6s8garFEApHAABMbnPHCfuj/vCkNzoxuUUJhZgq0Pk2dxMB9f5rVXWS4INh+fQj8zvxab5gXNd98uSJxa00S7Ms08HnLfYKpneTzs2cYZvHq6XFzDTN4XDge972vaZh+r6vuXGv16vKShej3v+iBRtVJNBLgLokMiYmMznnlv7PsjjnnHNiEIx+V33m+9A243p9wHGc8/Nz7cWlg1TaEJuZzPM8z/eCIAjD0LZthJGuAqUA8H0viuI4igAEegng5ORE5293zSakP+gTTGzbdn13OBw+SqQhNKgBLDAajSCAg8FAyyP7/f5wOHx/9xFGpmlCAE9OTnSp5ziKoziu61qIVillUIMa1HVdz+s64vmeSU1EECb47OyMEHJ+fp4maVVVhmGYzNTloD3fZ8y8b+pWleVyuZzPZ0WRAwU444PB4MmTJ/1Bn3GGCf5tPnBHHPGxaNt2vV6vlqub65u3b98uFgvGmP4UjE/GvX5PS64xxvrCti3bcR19T2uaZjafXb+9tmxLJztgggn5uNB0HCfvrm+uO9y0TYMwQRCBzhFnj0VvKdTer0efA/ChWU7qo+cIu2PBOy/c+wK+14Td4CillEQQYowMwxgMBqPhUGsm8zxPkjRJMyHFJs6uNnf9bWz+znTi875jPC4r3XpfQAAIxoZBLW72+oNBr1dV1Xq1jpK4LMqiLKVSuzKqB/sAu9F4/znv1rQ/u7HavwIVUFJKKQVjzLHtfq//zbfffPt/vnWwDY5h6SP+CGjjZbgr+AsVUBACpfSLe/oaCDEmpmm6nk+owRh3XC/L0qIoiiIXQizm8yRar4NgHfpKiLIqmraWUuwFkbYB6m7Vs/vgv+dK3r+hKgCAggibpgGAOxInjLEgDIfjURJFVVlWVem6Xn8wHI7G/eHYME2I0K7E8ebwB0uuh7hDif5gdHP1/fv2/W12f1JKQbi7KRJKuWUDhAxqWo6bp0mWpnVZNXWVpWlbN8vlMgyCwWDAOSuLCkKgl7qlVHVZptG6qJrVKoqTpKnbtm0xwp4fmKbBOeeWZTJucmaYjBAMEd4E8Depo9vWvafxu14C8FvTbT4Wuy8/XapKKYCk7JzbiGly1/OG49O2TOsyhbIlCNqu73i+44VuEDp+z3I8ymyIDQkRUDrx+6Cbd0Lf29JsW2XHHVkHhPun+N/yNv1piLTjOKZpnpycSCnvhIsfwMHNaQeMMYTIoJSauyCkYRqaWPZ6vWfPnu38uyHYJi2A7cRqs8OtelzrwSDSKVY6zeqP/wbWoWNmMs/1Lp5cVKUuCF1JKXUlMNxl2FDTNAklW106AIAS6vt+c3FRVVXTNEABiCDGmDHGGIMQatex0Wj0df01hJBo932DPhaqhRBqAbZBjTAM26YFACigCCWmaVL6vlC8LkKma3oNh8OmaeqqrqqqbVvRCqGE9kjXcWmdDL/tiGEYZ+dn4/G4aZqmboQQECGEIKWGaRpaAnD/0GVZrlar2WxWZIVSijE2Go0uLy+Hg6FePjhOl474cyCEWK/WV1dXL168ePHixbu37yzLsizr4snFV199dV6et03bitaghmVZtuOCAeQW1xmbTdPMprMff/oxDEKTmo7rmNB8bKnrMSRp8svVm+/+9eL777//6aef6rrGhGKENrMeHZfeEGm1W74H4P9n7z23JMexNMF7AVCTpt09VKqqzq7p3lN9Zt//KWZ3drq7sqsyOzKUu2kzahK4+wNUJjzcPXRE8juZHiZoJACCwP2uBICDBfD4/SHvvBVE5wMw3v6j6qfHoYdvP0m131Z8ThEphkwI5jjOd8+eff/d92VZ7va77Xa3Wq/Xm01Zyka6Oto4HtziLwm1TAJQy5kAgESGMGzLDHzv6dMnT58+i6Lo+vp6sViEURxGkSLSjhGty+Gxe8JXjO7NVKqUUnquOxwNnz15apjGDz/84Lou+6rveo8vC1TTZg3U3ruNmVo7G6POliG4MEzX84PBMMvSOIpXq+VqvdxKHoxsAAAgAElEQVRuNuvtMk+z0Wi424xNy2AcSEmlZMWUW3ZRVedtl2jCOn34Ubt0Y1jLXJRinDFuG6ZpO850Nk3ix1G0j+NYlmUpC9tyfH/gB4FlOYZtA3KdWAGgWf+bDn1a1CwaGi59j0rUldFNISAzDFMI07JtOQjKvIyifRyFm+VyMb/ZR9F6tcqzfDqbZnk+mUyyNEVt0kaUREWahrvNdhdev3mz2ewMwzJMKxiORsPhcDTWTt3cEIIx1LnZsNF2ANSajrNDdvThQcXZh1Xafnd0FMlEgKAIGSggxplp28Fg9OjxE4tDmceoSs4wGIyC4dgJBo43tF0PmAlMKEACko0O9rDxrRcctXS627maQDc0uqvn/foW6s+UbExwxphhGHcnlIbbNeU6LT3nrGOERETkaDBDJ+vrZhRDrO0sHYc/aORNRG2abkXPj4ZK+uRoMpOAhBCWbels25XLoib2DavvOCMKIbjghmGYpql1EE3LueAI7W8t28K6Z2/PflRRdMNgjJFVqT41n7+Tl1YXMFAIYZqmZVlu6eoQdx3fzhgThjCEwQU/+qFhGIYwDMNQtmoUvcgYP7ynAKCUiqIoiZPnvz//9ddfnz9/nqSJ4ziz6ezp06c//PDDZDIxxIdxv+/R4z4oy3K1Xj1//nyz2XDOR+ORZVp6zdnv9tdvrnXuK/0ce54LRJ7rggNccFKUpMlms+VcpHmqy78T0YMmcJpm69X6+uZmu9snaS4Mwx+MgyBQpP2aQYtCbYAWHezaR2frbIj6p3dLTqe+a/dBY0I4MQq/7TS1lQYBiKRUShZ5VuRZXpS7fTRfLPOi2G13YRTlZSlMx3SEaVlCCKJO2NXtS+BDevA5cKJzqG4VESlJUhVFVuTZers3rTU3zCRJVpttGCcK0fEDLgxhmpwLqG/0cSTa3ZFpX5hDfKe9CICayShKkihNk1Kp9XoHwFarTZaVUipE3m8OPT4cjnhsVXyKOiSlMSwzwZGYzgTIOCcAbhiW5di2HUcRZyxJ0zDaF2VW5lkpy7IsyrIAIh1VhwDAjpzJT1l0e3EChcBa/03NcBA5F5wx5IwbwnFdqZRU0hSGZTuWZXNmUGVT7dpRu2c/j8ZyfkyTzn3+AFRW/of9BjrjhIDIgRRjzOSMA5ApBEcUgjuuG4dhFIWM891mE0fRdrPZbjZRkiZZXiqMssLLikICYyIYDG3Hdzzf9wN/MHQDXxiGMA3OWvGYuiboO5x7asP17d99kpW2uYxWlChtTOdcmJY9GE0ER1VkSJIxtF3fdj3Tdg3LRmERMEJGBKqNLzqY9t3us0PrdANEZACESIiIQKRISWqcxL82fB4ijYjAgCN/b0UXHrDM5lNALjgjdsaD78iLTQePsWrR+9TxcwgIKLhgyAQXrUONZpScnWkSAhICA22pbo+vc//qoysJEqtv79UWRC54I2E9SKZHRAJinBnYlukmXdIQK83s2V+B1qo0d6pNk3SAsiy32+1ivvjt199++eWX58+fc879wL+6uvr+++9/+OGH0Wj0UINejx7vg8YinSbpcDicTqdVLLTgURxleab1WVLKspSWZVmmdTGbCa4L+KkszaMwdB0nz3JNpB/agDTLNrvdcr1JsgK5MRjNfvjpT48eP1FSSdU+x9AR77pZcw5fHFo87oe3SQRv/dmDLtTKZIgMAIBkWaiy2G3X6+U8iqK8VOvtPkuz/X6f5bnjB8E48IOBHwxt123DeOBwMyeg1pv8Lcv+l0u/UPPospBlsVrMb968DHfbfRiJ5SrPiyhJSoJgMPKHI9f3HdczLadO4g0ADxVXvohxoMM/jYqIIXIEKYvNerVZLzfr1Xa9lovVdrcvikJJRZx9IV3o8a3giCA0aQvw4CtkQAoQmeCGZrOG6Q8Gw9E4CqfhfrvZbHab9Xaz3m1XcRxZlmGaps5rwBgDQEKtJ2rtQLfQ6db5CNo/etmvqTFnAkx0mWnbumiw1vMyxgGZItJZ0866jp9+ho3t/dyR+N5xIMgQoKnCpd2L7v4RVo7G1W8REBhw4I7tWKZhWuYgGM5m8Xa73e224W673+/3291mvdps12ma56VSwN0o8+Lc8Ya2Nxj5A88PPH9o2Y5hmYYhtERL2OaGp9oge59OHx1zxFK06f1Tc2lVzVzGmGFabDi2HRtIIShE5EJwYTLOkQkJqAhP9tTqVFqTc6SEx6ZjrRcVcqapDNNfKEWqlDov5jvIQp8dn4171Azx48yXKmHZ17FxIkPOOId7R2I3vbulrsc7ju37DVpjZn9YhbCTi2oOrqQqpVRK6hy8cRQ9/+/nv/322y+//PL7i9/X6/XFxcXV5dV333/39OnTq6sr0zLfpzJZjx4PhVIqjuPNeiOE0AXqiEgplWVpHCdxHGsHjSzLoihijO/2uyRNHdfRSq6yLNMs0yUliEiRuvuShyhKGUdpFCVSETftwXj67Puf/vTPP8uCSllVgGr2bOr8f4rGBPGwHezdYqQffKHqWFZ5gJEssrLIb968lIpKqRRgnGRpkkZJWko1sJzJ7Gp6cTWeXQSDEXSTbMDhft60//yi90VvH3rRJFIyz4os49zYbtfb7SbJMh7FSsqskMC4OxhePX02nEyDYGT7PinoWujvdxfwzKtPiPO0v5M+DQA4Aucgi+zmzSvLtouiWC6WWRYlaVaWUhEpBbfXf+zR471QM5JaX3lglqO6Th9yxjiAYdmI6HpeEPhh4CHDPEt3u02W51EcFqVp5Pl+t9/td2G01/7JjDE4iXSj7pW7OLQJ1hn7CRgyBBScAYc2Dlqvh6g54TlefAfaFOON/fl9Sgk3p60GFCtHdd1V7OqCb29nw6aBKiMZRxScoWnbNg1IFqXre57n3jCWJmlRFHES7bbbLMsLScANbnlWWXJhBIPRaHrp+oEbDAQXuodERLo4NOo6uhXJx8Ot7bZNBdugnO5mWL/Eoxv4UUH1HaOa7iLj3OAuc5wqfx7qO4wEoIgUHd/eExngoPmHWqX6UQAARVKpMkvLJE6iKEliyrKiLPqs3T2+DHzR4t/dUFIVZZFneRTHUVhhsVz+7T//85dffvnll1/WqzXjbDab/eu//uvPP/98cXlhWqY29PXo8cmgExDo+P/xeHx1daX9L/b7/Xq1juJoMBgEQRCGoa7JBACyLKtaRNrVpN46390xBxGRCdNyPDYcTy4eP3r67PtCUlmSJCBVU12tYqrzWJ9Ck5KHNqK7nT6USMOBpPl2wUFBJX8wxoARlUUm81Qqtd/t4jiGqoY2ImMCmeP4o8lsevVodvl4NJ4SkKLGlbkeDaWFxsZqj2e49Jeth0UAUEAkZZ6VeRqGO+dlwIWJXOjaqlwYXAg/GIxnl5OLq+Fk6vqDyh+PoKmGdS8bT3PFz4SqkQe6JuoKcIKDYFDmKQGUpVyv14ZlKSlrw9gXfSt7fHXozKdDYocNS0KovWa7IABEpYu6mrYV4BAR/SAIhr7ru/Pr17vtdr/bvH790nZcWcrp7GJ6cWnZNkdknBMBIRCRXsAQ2pUNobu0dh8VBCS93zQKtI4qjSpqWDfusLFHLz4R6jJg+tHFpgV1sHRHX3H4aLd20roSZLdDzVgxxlzX5YwbpjkYDKezmfMPm0iFUVwUhMK6fPrs0ff/FIxmjje0vMAwLcZEZS2uqm1hc3ube61LRtfbOlLH2lxb6VtnrO6mX6UoO5osRxvQx2KY3QlceRgogCqrBkDd36qdpK10VBuiO53oigOHnhKkB44B6Nq2SqmiKLM03i9vdqs30epNunkjVJrEMyL6GhMG9/Sjx5cFqWSe53Ecr5bL5XI1n88Xi8XLly//9//+f//93/9jvVknUWxYxuXl5V//+te//I+/XFxcmKb5tXgf9PhmoIP8LcvyfX8ymVxeXgohTMNcLpdKKkAYjUaz2cw0zSiK4jgGAKWULCVRrf2t+dv7bJHIuGnZIKzheHL5+PHTH38ocsjLSnmsqqbe61QPtYm/pwdIc7kzRLrxlzu0OjIEBCrzTOZZVhSrxWK73RZZVuQZMKaDYVzPH01ms8snj548G88uFanjPBxY+7Id6tWPqvx9gRmqD6Dt7FLJIi3zdLVauF4gTJNxAQjIkAvDMC1vMJxcXF08fjqeXXqDMelaJc2Uo+bPW/F546PPNRI7fwHAYCg4lFlSSpXn+fX1G2FYGaaAvZtSj/vi/CR/e+bFxrO1w6UbWgpN/MgBnQMAxTizhG1bVjD0EWg0GriuYxhGmvznfrfTuRKzLPuplJ7vG4ahI5x1tV5FhErBAf2lShV63gyKtR5R+59XycPqNUDn1Gj0ZXU/6vbePUS3D8w7oM5XriO7sWLO9XZRGYCbJCAdk26bfBGr8yCytrZBR9WBnDuO57j+aDymp2q/2wGpKNwJY58XEg3nydPv/vSXf3G8ETBBzFBAihiB0tsGNZdpDciITTHxjj5CAbLG2Fvt+7qqmQJqDkdARsQORv2sYvejcOlWxUxVFrtaS1EPGzW56hlqFQVq5YtSWpdTn+FAa9A2vGbRCMAQuOBFLmWZp1G4XFxf//5rup2X8doRKkkSRfB5d5t3Q0+ke3xZyLJst93N5/N//OPXX3/9x83NfLlcLhaL129eJ0niOPZkMq7M0f/885PHTwI/6Fl0j08PxlgQBFdXl1Kq9Xqd57muPLfb7lbr1X6/V0rlWR7FUZIkusIfMkTGP+g20VJyYAyYAGYA16nLEAhYfcidO/BbXeU+CtrLnVz7YCdvDq7d6gBL4ByRATIARpXvWa03r1MsAtNlQVkjftQVM7FS/XczTuKpHuELXVU0NazZsATJkXNABlh7WVZpYPSIMUAOKIgJYJwUEKtcIppIvPv083MtsW9vJDXaHAbAEIUAzoGJZjTg1p/26HGAM7OEWlYGQKSOjj4r8GvCcUh5zk3Ami4yzoAztGzLcT3fDwaj8WgyMU3LsmylaLlaqF9oMBj4QeB5gWU7lu0wzhofWXybK9Gx9olaagQAB3T6oAPti+NTHy/V2KwznTPjuV/ehcrSLFWpVJrGcRRlaSo4F4JZtm1btmnZFbeGhigfnqElojW1O+R4RDXpRb0ZI2OMCXQcxw/8wXAkgaVZiYZlu55lOdw0FDHVWGVVe+ruqzZCSO8rnVY1+UCYNswSAZVAZZ6lWRLneVoqKhUIy7Vd33Q8xgUi/7Q6XDycApWZvR67Eyd9UgCsEwbdjvBhpFRbmrHSXJMiVSZxURRZHEVRuI/CXbRZkyqF4MJxfBO1SewjWd4/Knoi3ePLQpZl2+321ctX/+f//H//6//5Xzc3N7vtLgwjqUpF6nJy+eNPP/zzz//8P//v//nzP/08nU1t2/7cTe7xR4QQYjAYPH785Obm5vr6OkmSIAiCIEiSZLvZxnG83+8Xi4VSqigKy7IAQHAhxEH+/DP+Zw9A7VEGpIikolJSISmXlOuwa4CGaHT2vQcHY38i0NmXAI20VkmNSkklC1lIkkrJOq+hTq0AgERSkZJKlaUqldRmeaJa3MGz1/jK9u5atgdSIPWtVyQVKUVKgapj+BSBUiSJSqWKknJJpEhHzx9oMe51sc+KtzYSAQAYIkgJUkHZuK/36HE/nLWhAVUODVgl5e64URNU1VQPFD0ti7ttSa+pBgPSJmVt1GOIzDBN13Mn02meJZwLzw+EKdar1c31jR8Ek+lsMpmNx+PxdGZZNmMcuXaBJZ0uvJM6sbva16Sz2xy9ZzBoaRKrW1e7AuHheY5+ffTh+UftIeuG1gogUaFUmefr1frmzZvtZmVapmUYw9FoOp0NRqgrwQIyrcXQJO1cKskD5XF9aw60BkQKkWk3JGTMsp1gMJTEeFYQM0zLAsaIUBJJqQhAVvm4oOtQ3hnn6iLdaUCV8RmwMkcTI0mqgDIrws1+Pd/vtmkh04K80WRy8ZQbJgBwxpC1HuNvH+MPAuwUBm6uVbNgao4BAFAEDKEeivYMbWubROvYTC4EQCSlZFkUu+1qu17ttpv9dp1EkWDSYGh7rlA8cAzHdb9Gv27oiXSPLw2kKC/yNEvDMNxutrvdLoqivMg913Vd76effvy3f/u3v/71r3/6858eP3nsOM7nbm+PPygQUVdQl7JcLBbz+Xw4HA4Gw7Is4ijOskyXizct06ohTINzzg7dTd9n32gNCwSKQBGUCqQC2dIl1TkSoLVkfmWoJBIGoEhVvFGn+GxLj9RmB1JESpEiKhWRAtUaYb4RVMKKQiKSEurqabXlpFOLRQEoBYpAKlVKIKKq9OeXQZA/CBABlWLISwWKUBEoQk0SiOjEcNWjxwFOWTRA5fGsCiV1FQQllZSAgMgRGTe44AIZAseOu8Ydbj1H3+lVWxN0RCa4sCzL8/zReCqE8Hyfc2O9WkXhvihKIpKlrjLNHNezbMswTcE4E3o3QeywuyMjY/fC7UqoNJc+PKj+5VFPbutYc7buAksn/90HNdNVOmHndrdZzG84Y4yzKAxlWciysB3Lsm3DMBg3GHBirDJRN5nTkEHtPHDqG920pd4AlXaoRkRhmrbj2oWUmEk0uDAAmdLZpIlUk/Hs/CA0lzq4pq4xodO4KSVJllTkMo/LNNos3yyvX2/Wy1yxglipyAtGJMfQ5vq5xY3hQ+/djRv8uRPTGdu4IsJGMVO7bLTH1W4BVENJIiWLoizyLIk369V6OQ/32ySKyjwzfdvzPItJQZZvMcuyeot0jx4fAJZljUfjJ0+e/su//AvnfLvdJklSlnIwGAwGg2fPnvz005++//776Wza17vq8RlRluVut7u+vp7PF5vNJgz3SlFRFKQoz3MppWEaBOT53nQ6ffzo8XQ6dT3PNE3+4dIHN4Xiu8VGOp57cGQ2qISerysUguhgp24dCFEPgHb2q5PatgWtCBSpRphD+Oo6fgsaeRAZgjxMoFolscPmDVYekAjAahfMWpr8BkZDzw3qSO21LfprlMZ6fDHQFRhUEkdRFMZRVGRZUWSIzBCGYVm+73u+LyxTkGCiWc+xQznvINVH3rQV6VAAAIjM8bzLy0fBYDidXuzDfZamRVGGYVgU5Wa98f1gMBwEwcB2HNtxBBeMtRVGux7b9YpIBxc9qCJ/30Xgjv68B0i1+TaQcWEIy7Rcx7Fte7/fhbvdbrPZbJbD4XAynoymY88PXNezHZdzA4XoUv/G//6Wpp5lp5WaVtWlAbXBvrFnn/XgUnWuQ2r1KNh+BARAlV2ZSlIyT5M8jrNoH26X4Xa5nr9Z3rwO91vTG1n+aCAlADDOqwDk7uBQy03vHsr3gObSJ9c4mc/YedNuRYCd/QT1w6NKWZZZmuRpGsdRHO7jKMrTNM9S07Q9f2CbhusIzzIoD8t4wyln7MjS/9WgpyI9vixYtjUajRnjnIvpdJqmaVEUDNloMhqPxpPJZDweD4YDznhf76rHZ4RSah/ub25uFovFZrvd78OiKLMsRUQiQkAi0lbr2XT27Ltns9nMcx3DND6UhYzVRLIhUJ1I1lPfsGPftq8GdfKeZtdubSCIuipWHTdXc+m2q0S1juFb4I0A0BFdGlH5UABCZNr1tKHQ2jxbG2kP8vt+5aietXNGsK9vovf43NDsiSEQEJGUZRJHq8VivVqkcZwkMefCtizX8+TsgnPmIHJblyE9MAbTEfd4ywWrg/RTrKNUEBlzPf/i8urxk6dJkiRJOr+5efXy5WI+3242ZSmHw8Hs4rKY5oPhkCGibTMUR37dXVfjoyt2XjxsGfgYXJqqWhLVpskZY8KwLMt1XcuyF/ObxfyGSN3cmIHnPXry5En+dDK9AAAhDETkupSXVkUAq4tm3R+t+rny3+k49XTt7Qdt7npAARAAqxJc17nPiBhWuTsUSVXmeRKFu/VutVxev1zdvF7evFov3qRxPLp8OuamlCVUGa3Z6YU+JZc+h/PzuculWw92Pf2BgEpVlkWWxvtdtN9t1uv1ahGFoWEYQojReHJ59WgymVgG2AKT7Xy3KFSqECud1JcafnYreiLd48sCZ9yyrQEEBMpxrKIolFKI6Pu+53ue57mOa5rm525mjx4VfD/47pmhHj/xAz8IAsaY3mQEF5zz8WR8dXXl+75pmtqpu1J8f4g9ETt/NR7kTffVoZUOW+13/d35Pn8jhPHt0LyRDt4ffU+V/V6HP36r8wMAOuwBP23Snh5fKWr6W5GBysBJUkkZRdFifv3m1YskjuM4RADBueO4Ufi0LPPxZDoYjQwhOjOOatvemanXco/6LbC6cEND4aDOcca4EIbjoBCmlIoIbMdJ4ziJE8F5nqbr1TJP0zgKHce1Hdt2bEOYhmkwJhAZsNY8fsD76vjWivLgSRPrb99zSO8LHZlEhIhUlX1mrutOpzNE4JzZtpVEYVnkQHK/3b6Ucr/bbTbr0XjiB0N/EBiGJYTgXCBAw8TeocFajVG/fdsANI7Q9RBjk5au0YiUZSbLrCjSNN6nURjvt9FuE+020XaTpzEQCWFYrusFg9Fo4geBZZmMM4bNXSM4zVr3mXB+PhOBru+FOgGJ0joDWZayyLMszdIki+M4juI4LvPMMi0xErbj2a47GAwH44njBxwKBiUw3gni/yrX7J5I9/iywAXX2RS54IEfKKV0wQPDMExh6tikz93GHj0AADjnXPDpZOL5fuD709l0MpkYhgFQBaNKJYUQhmHYtm0YBgGRotM8NO+zdWD31bcbD9rhzQeSRe3HS503tUCMVcnoPwDOSVtnJbAvRDT70Ggt75Uve+cZU3fJxT3+8KhMi9r2p4NaiRSVcbybz9+8fPE8TaIkimRZEknLsPIs1oWZbdv0fb9h4VhbpG/TVh1UPz/QabHajaiyi+rEgYwJyxLj0cRzvdnscrfd7LbbJI7SON4sV9F+b65N13eDYBAEvuN6rueZpsW5wZBT06e6j3S4GHZJ9ucEHrxEzlzPE4bwfH8wGD56dLmcz1eLm81mlcThbrNarRaD4Xg4mUxnV7PLS197etsMmQ6wxQetcK0bS5Vx414xuli5y3fcufWyU5UXU2WepvE+Dtfb9XK3WUb7bRrusySislRKGqbhBQMAHE8vJxeXw9HEdlzOOBzk9KLax+qzoDsMp7m764mso8q0M7csZVFkaZwlSRzuI+3LnedFkRmG5fmB4/neYOAPBpblGJYlOAMJsih1jo/6UgBfYdHCnpP0+LKAiFxwLrhl9WbnHl8uEJFzbhqmcMR0Mp3NZo8fP370+JFOmKGkipM4iZMsz4q8KGWplFJSKaYY0wlRPogIc9b17NtEtbs2e2xbl+ac7x3Rexe6/jpAJ3/rlzU7qD9qSfQ3aZTuRBceOCD26HEPHK3HOoMjESkppSxlWSopsyRK4ogheoE3HI4Gg0Exu+iWbz4gH6ezr0OKul9RS1RQ80AikEREwBjjnBmG5eNgOCo91/Ucd71arqTKsyzPsjxLyyIvi6IoMj/PpZSO45qWbZCFjDFW6VYPnZE/ODnDW9/etdRgHbnTvkdmWJZlW34Q+IGXzSa+75umwRDW62UShdG+LIsiSZIsy9I0nkym48kMRmRZtjbDvMPueuTLfR+0PdOUmrQKj5SUZZklUbjbLLbrxW6z2G2WeRKXeabKgjMmTMGYyw2TMzEaT8aTmT8YmKbFsFPKkQBa6/SXA+o4gxECAClSSqpSlkWZZ0WapnGURGEch3EY5WmiFRumZQ2Go8F46g8G/mDIhCACJXU1iarMxFe9VPdEukePHj0eDEQ0hOG4Tpam6/U6TVMC4oK7jiuEUKQWi8VyucyzXNulAcB1XM45Y0wbS99372i33JpM0nFdim8MR67slTW6DpGrB+KPjGY09Jszw/FFyWU9enwhQKzNbIhAwJGREKPR5Ief/uR5XhqFaRItbq5v3ryKowgAiqIoilJJBdoBQjUUA08WqlM+dKaAUFMhWVcAOoh5ri12lm0PRyNhCMd143AUJ3GaJFKWSRynaRpF8W639zzfCwae75umbdsW4zqxOFJbCbu2UlOXCXZa/O5mUDy/wDAAdSunbqyuVYQxKQCmALT/MznuaDJjnA+CwWa93GyW0T6MkziJdkm8f/X8t4vLx89+/PFZ+f1wPDZNExl/GI1uVY718nnf3td3WTsXIABjVJZZmsTRbrWYL29ebtY3ZZGrUpm2GwxHpuBKSlWWRZ4XWcYYd/2B6weW7XJhNje88hU/vDn0kQ21jSNXo21hQADVvGb1uDBojiMgpZQssrTM0jSJsyROkzhLkzxJlFKMMccPLNsxLdtxfcf3bdc3LJsItZtpfZcO5wzBLdPki0ZPpHv06NHjwWCMmabp2E4SJ6vdilbEObctOwgC0zKVUq9fv37x4kWe5wDgOI7rurPpzLIsxVoHuw+gh2332a9v+3l/HFhaWs/MPyC6JhWCZmp1fN6/ZfTqgR7vjZYIEyDjQtB4MrEt68mjx0kSZXH0699/KfK0yHMAyPOiyHOdwKUqt6TqDJDVWSo0NK07Sat1qqbhzaf6XZu0Sv+WqoMt27Ztx/P90WiSJvFytVgvl7v9NgrDNEvMcG8Y1mAwHOW5kioYkGkIhgw5A2AAsqGy3VXy0DYOWIXEIp58ezBW+m/bRLzDA4gdDspb0VB+LgxumJZhjUbj/FG8W622m9Wrly9evni+Xi026812s149WSCQ6zimZQ5HI45AyIgeGNLTdeahhlXe6bqDtS9ydeMVqDRL9/vtcnHz+tWLzWpumoZlma4/mk5nAz9Ik1g7P2dpAsDcYOj6ge04whB44EF9XKsCAUi9h4rjreiwaOhEHSACsXpfxTouoZqfShEpkEWRJkm4i/a7MNzFYVgWRVHklmnbruv5wWA0CYZjy3G4YQkhCJAIlNTaXiQ66E+zY3118Vg9ke7Ro0ePB4MzHgyCJ4+f6HJWURitVqs8zw3T0GHS+/1+v9+bpuF5/mg08jzP1AlF2AdWLH8gLxVjyuoAACAASURBVPGvCZ1KJfX/f7gxOEInRXfzicYffWR69LgHqhxhVYQtIgLjhmkxRMs0TUPEnDmuawhDJ4VqmCSoyo5NAEBInbBZOKKpdECEkI6f1iq3PnTtckSKKot31S5kQpiAgDiQJTJuOpblOEkc6eihLMu2222WFVEY+f7edlzHsS3b5pzrSl06qxmot7mr4LlU0Xj4oraeKz142qjeZCromLcZknroIlRbKxkAIOecoY2eGkrOeRyGy/k1I8qScLteOI4dhfs8TWRRgHpArNOZmKAPA6UUccNw/QEBeZ7r+77v+4MgsEwzy4osl1KBMGzDtGzXNS2HCxORdcJuCKvZcWAfZ59KI1p7Q1DNpam5tQAkpVSyKLKsyLMsSdJ4n8ZRnmdlnjOGtm27rms5ruv6jh84nm+5Lhcm50IbuSsKzRBIQbtp6St+dQy6Qk+ke/To0ePBYJyNRiMg4JzLUhZ5sd6sf3/xu05Ayjk3TdM0TdedjcfjR48ejUYjy7aEIdr8IT39ezg6Y0ZHsuotboV/BHRF3LsNKV9a4N0HQP8c9Xh/tLUANBtkhjANLpRhkCqVLA3D5ELoMkWIiMgbg7I2ShPDjiMInCSuQqLj5/PIHbzz4/pvbZ0GAFAgtWlXcBOtgA9t1/EC3x+EcRRGYRSFYVEU2+12u9nuHNdx7MFgNBqNh0OyXdswDUSUCiQpYECKAA5tgq2bcttIPDkCaq7VfV29Q+i+PlmJ7r/wsDpEBREYQ0AuHNszuOEHC8e2DYYyy+P9Nt4PsiQui0JJ2Rm6Wxe5KjFcnSz9vdCa9XV6MAAAQIYMbccZTWb+YDAcDUfDoWlanDFZFCWtoiRFANe2HM+3bNe0bGEYwBgdKlqwoq/UvdrHX7c7bvZaM1RNTtIBAkBUlHmeJkkYRvttHO2zJMmzFAA455ZpOq7nOJ7tepbrmrbLDZMJkzFOiNXzUA0UqzuE38Dq3RPpHj169HgwOOe+7xvCSNN0tVpxzsMwfPXqlfblNoQxnozH4zEiuq6rLdJCiA9ujv4DQZduUtXrxmBzfFhVS/Rbo4r3wIFraivJNnqbjoj/7YHORoQDfL1Wjh6fFdomzRhykCw3LS4SzjkyhlWN9uoRo4ZF1z+kuwI96fDfhik33K46F6kqUrXrXKIIGSICGsI2uO04lm07rhO5rjA2gCyOwjiK8yxVUmZpIkupMyr7hU+kuDCQc23/RAag8Ci8qEOkah/f028r8zPrfN4wa8Tqt3j0wwflzm8YMVVe4QxAEZFSsiyKIs2yLFOq5MiE4IYQRr233tNoq/Xd92/PvYGMcWGYrheYts2QhsPRaDQCUnmaRcW+KFWa5qYhuGE7/sByXG5ajAlVB4jredWZIceN/MgbG3WngJ6Quq66UkopKcuySie234XhPolCJaWSpTAMw7Qc1/GDoR8MTMczbFsYFgFqCl09KViFANQ8HWpr99eNnkj36NGjx4OBiAwZ55wzDgA6t2tRFGVZIDKGrCzLsiillADAGMM6l0znFF+TZfDUwe+zteJIDu0Kgh+NRXekwHNy573O0BxOH7B9HWPQyaedt98qf9Y4Cvikbkacg+979Lg/sErmTKCIFIEi0gbNRifV4XsNee6EHx/Pu6rgVddxFlrXmuZM1GSP7Jwbmqe6Wkka72cuTMvSRUMd24njOI7jNI6LoiiyPEmSPM/X65U/CPzA94NBEAwd10WODJE4AB2Vxep6nx/U8bpt1WKn32LLrd8Rld+vtoUSAskiXy8Xq/mbX//rv3799e9vXr/m3Hz63Y/f//Tn73746dHjZ34wBGSqygB95tJ0Tr+hblXA3QP16OhQI229NW3bp6EsXSLFEBzHNg0zTeMsjeNwm6dxWeSmaZq243iBYTlV8tHTElMfBQgH7uIHkQfY2Z5YZYIGQCCplCrTJE6iOImjOAzjOJR5oUgxLkzHNYSwbMd2Xdt2Ldu2bJcbgjGDdKRDs09j47/NOg/Q+9yALwU9ke7Ro0ePdwEy5IIjQyJSSpWyLGVZlpIzkEzXTGmJNDQ2jK8QFfOrd7/PzaVbybP5l+BjmRigy6IPfB6rBtxHAuqwaNA2qw/MpbtCK956k77yIiN3QMvJdDTYlfis/iDl0Hp8WFDNtXRWBtVw5mMu3X5YxUvfcrb6lT6+YdOqc6Yuuzg9E1a/rh95zjnntmlatuOWozJL0jiKo3C/3Wx3ahOFYRJHRVEGwcAfDGYXM0Ru2TZHzgxOBAoksLNUBg/+uQV4+Prk4BPn7geAkGozN5AqivVy/vzXf/z691+e//brcj6/evzkydNnf/75L9//+Oerx0+5YSJjt0U+n2XR7w1qrPYEoBQhomnZwhAAwBA4MobEgEhFWRJH+22axmVZAEPTdtxgYNg2Mq7rn300I/lRi7to7w4efolA2qUeCUoopSzSONqsFtv1Og7DMNwLIRzbtV3XcX1/MHRcz3Zdy3YYE5xxQiACWZ0SoUpF31zjyEvoq9+VeiLdo0ePHg9GWZar1Wq1XL148WKxXKRpOhwOHcdBRMEF51URDlnKzXrz+vVrInJd10a73VI+DD76JtTdXb+QLY86oYiNgeg4mY8Gfjhr7JelBjnhynhekv1S7tlHwlvytFfxd6TUt61A6PERcFB1XRPmtihR7YddgVBbqmtz39mFqAM64C0de3bLAmvbNjWu4h3Xk9p2SI3ODAEAGOMGINjAEAXnnAvbskLXjcIwTVNATNNkuVzlZbnZrj3X9wLPsmzTNLkhDmyUdAefw86Lj/RgNe7FCCDzPMuS3Wr++sXzX//+t/VygcCGo8njJ9/9+ee/fPf9n8aTmWHaVb6uW3Nv3tHSh3ekvo1IegbUTWfIBEOoMtJRqZQs0jSJ9nG4K4uCc2aapuk4puNyYQCy7l1/j03mbg+3WsVIBx9hG6lcTzICgKIoZJnnWZaEuzgKkzhK4jjPUi7YYDA0LMt1Pcf1Hc+zvcC0LMOyGTehroatKm1PdVZ14t2gvT2wO+G/WvREukePHj0ejLIs5zfzv//979fX14vFMknT2Wx2eXnhuq5pmkAwn88Xi4WUcrlclmVpGMZkMhFcaHX1h8Atuvd7/AzuvWEfW06/GC59HsdC1D162f3JWwTII439O0g83R98sDE8f6Ljtn3Jt+z9gScS5Jel8ujxdaCbhgqgXQ2oJRon6PCA2qOYAGoSfvt6crII08mX+u+xJ4UOWa0MoVhfsckQgGgIQ3BhWpbjONlgkMZxGEXRPtyFu91ul66X6/XSMMzJdDq9mI2G48Fw6JmGzo9NBECqCWi+pcefCNq1GBGzIg/32+Xi5uXvv//2j79nWWqa5mR68cNPf/rL//i/Zo8e+4MxF0JVhvpP7DJFAKhN541tF+tbpohAKZIyz9M43MfhTpUlF8I0bctyTNsRwiSsc7LdNVvuh1v9brr73BGXrktb1eZjICQq8yza78L9brOab1YLKUuGTAjD9XzP8x3Xt13fclxhmNy0ODcY44QMAGWTZE/nH698xA97Qa2X2zewWvdEukePHj0eDCllmqa73S5JEgRwXffx48f/9E9/DoLAMi1ZStdzGWNZlilSWZ5pN28i0qVA3it+7K3A82z3+IP7bGC3srRPTMwQu06Q1Kq5Ozhu0t3qeYAT4n2bKem8mzS8myiA8FY76rvjWBbvyP7vqHP5FoAA7JsQ1np8TBwZMhuLKFTUGo++beIp6sWpw6IfsCQckovaKE0d39duxO8hF+qYtuvDERE5Q0QDDMu0PU+lrud4vuu6wDHP8yjaJ0kahqHusiykIqWUEqahK3tp9nobl76tV6fq1nv86G3A9j/K82SzXl2/eT2/eb2c35imNXo0ffrs+6fPfnj23Y/ecMiEAciBlA7seAf/6I425B1+29D3tnSaNskCkJJSFXmWJEkcJXGITJiGadqWadumaQNyaEkl3Gcg6XBy1l/gmePPz5yjA+pxRtARaqSkLAopiyjc77eb/Xaz36zD3Y5zbju2aZqe74/GM8fzTMs1LBuYQMYRscorpupr1ebvW7bUM5op/Gqjb3oi3aNHjx4PhhAiGARXj66GwyERmIZxeXV1eXXp2I4QQkr5jJ75rp9maV7kQojZbGZZFmMMWZt17OPRaWj39RZ06OKqk8K2hx8eqz+6ne69veV0eP63HEz3kTqb6LEmtW3rZVnt2NonsXN5fd0HaQvwPJfGylZ1LFlSLU9Te73zJ9atRsAqWIwUIJ53Qrwnwa4c5TojUV2TTtrY/fYdcGBMOCjHok6iQc8Wlen0qDs+J+IgAACo4+S+B505PLh7d08dBAmg6yzbo8cd0AsKkX5GUSeNRGQgOQPWesDe7oz6/va1k8mPnde3XBXqdQgAqlxO+ilChqZlIkdhcMaF63phGEZRmMSxlHK1XIRhuFot/cAfjiaTydhyHMswuWFqWyLRQVLv21SMRxyuUnPSmWe905H2D7RrQPtPtdqTBIJoH91cv3n18sV+v1NKOZ736MmTH//859nlpbBNYEwRkSqbheM9b0KXVN+5elLnX6qXR6qTdREpWeZlnqRZnMRhGieOH9iOY9ueMCxkggDoTJKNdkSPlk46XIEP9cW3qi/aJVXnNaODvPIMCREZQKlUWWRZmuy3m/12G0dhlsR5ngvOprNLy3Y833cc13F923WFYQnDRORa31IX8CaCY4ZMrVNFIw2oTuMbIt+2+6vj0z2R7tGjR48HgzE2CAaPrh4xxhzH8RzP9V3HdYQQAAAEvu8/evQozdIszaSSQRDYli1EW0f6Y7Do7qbakSeoyzL1Nod661O6iMmRLESNNeIWZnhny1FvraTgKCa8WzSFQFXyxv1EH90AdfJJJcc0kYNNG/FEEjne5E9EvA6XPqXYb+HS7dtGRDzXJQaAiASMSGGHS9f35ozYdl7MOib8b2eLdPL6nnPvWJgjQKTqztbGmO68qeupUueTzrnocKppf9JW5lb12HUlqW69cN3r6k52nThZc82eOfd4F3QmDSlCrnk0CIYEyI7jSA+fU3pv9obHs/folG9l0bUNtPlfAQAhAwQmODNM03Fcz/OnF9Nwv99ud5vN+ubNm8V8LqU0TMN13SdPnwnOhogmFwyxjvnF2kiO1bpd277xnIoUm/Xi9lJXpywaDlbczu5I2kZKUbyf37x59frFbr9ToFzff/TkyU//9OfReGraFjImiZRUlebjjoG+A6eayE6z7/gQ66Ufm9NQKWWRZ1mWJEkcp2ns+IHtuLbrGqZRpUZT3c0Z3s6ib2nI2U4TIqDmrC0J197yjJRsinQjANOluktZ5nkc7hc31zdvXqVxLMuSMXZxcTmZXQ5GI98fOK6LjCMyQI6IgEzWPTgaFqw5O6JW7nT3fX2b2p0c6ymDt3bni0ZPpHv06NHjwVBKhVG4WCyiKCqLUillmIZpmQyZ3haUUrKUwhCGYdi2PRqMhqOhIpWm6Xqzmc/nZVl+iIac2VkbxnLKn/T3CASsdVg82rgaAe5YUDj698yG19n6GYI6opn6kI6dmros6g6cSqqtYIEHtuhWEj1m0ceoTE/NCZsfVBboc1waABkeDew9ulDljSYtidaSR9fO3hUs7zjVLZLTyevuX3VyzJ3A07fYCLtMW0fedvtOL9bMN9SjqeoD6WSe3DJ7ic5Nqvtev0eP82j0fYhAioq8KIsYiRgSkCqyjDHgjDGGSISIdVkmQKpKJ3cftvenc6dvzy/0x+/roxhAJ1wYETkXiMx1CZELIThjlmUnSZznGRFtN5uiLIaDwWA4CoKB63qO4zDBoa4L3a2R1VG+HufIP9+u096cparYLi/65GVRFnke7nbr1Xqz3hKBPxiOxuPRZBKMRqbjIPJqGaVGwXbu4vdYCQ72CrzlqzPdwOOjsBkTIlCyzLM0TtM4z9KyLBjnjuvatsWFUblTI9675kSXrOLhp3f8uDIZ60R4oBAIEYkUKCpVmaVpnqdRuA/3uygM0zhijPnBwBCGZduj8WQ0Hrueb1mOMOzm6nTsj0Rt56vKFBWXPjUa1G1GAGxuOJ4O/VeCnkj36NGjx4OhlNptd69evXr96vV8Md9ut5xzLjhDVmnXlVJKDQaDyWQym80uZhcXFxd5nq/Wq9V6Nb+ZF2X5kSV9Ld6d6M0RtPb8wP2uy7OhJkzQcMfKFNvZv/VZ8NDkeGgjPWce0ENDnbd08v3BSQ6/PayBeVSD5vBnd7LoU/kPEdRxf6gzhKj1/Io6Zvyu7eisiZgAahqrase3jtIeAXU+4Fbsvd30cAu61zq64e82xQ7v8uFXiAigsJkiRGcjvm/RwjRWkSZTsT5ay8OHonA9t+rbXI2xrhPTCGpn0SlO+i3UKe3xaYAMGTIFZZ5n0X6vlGRECMRIITLOmbby4dEjish0ASsCIp0EjCp95cMDdu/UotUX7Wo2SbOy05IQbdknRMaYbdvCEI7jeJ43m11sNpv1erXdbPb73fX1G8/zJtPpdDqdza745YWFFuMckVF3xT50YeoWub5vV2/rYc24KqspyaLI4zje7febzXq/39qWORyNJ9PZcDT2PF+YJjV6Ap2XDM/p4+79+B9p7pr/TpvcRmedscTqpVzPECqLIkuTPE2LPJNlyThzXNdyHMZF69StNe8E7DRwGA+vcQZvG/VqiW32Sd2hlrCSorLM8/12vVkvt5v1brtJk8S2Hcdx/SAYDIZ+MLRt27JtIQzG2xzj1NDpW1XA2CQOQEBQqmuUPqsE0if4NAW1Pyx6It2jR48eD4ZSqiiLPMv34X4+ny+XS4YMGWK9nRMREcVxjIiWZbmO63lekiSbzWaz2iRJSqTeW/t6fpeHDkGtX3SLT+g8moS1my40Zsb2dPXneOB43TGgNh80rw+KQx5ZBwi6CXRa+88heXwfdMhu99M7z9tYAgig7WsT6kWH+zrWenc4NEe0InOHVB8KZlR/Vn1Mleh3eKtuVzF023DQxc7f088/ICoBGoEAWHu78bCldNhAbK3W2LBoosqTs6sJqZIQt7qLajwrc/27PCtfoUjW47MBEREYMgCCssjjOE6iMEsSWWSOZdi2GUX7Ms+VUkQNj6hmNbFDHdw74SyJql50mTtrj79VR1g/ONBZA5ExwbkwTXTAdV2plO1UsUhFkedZpqQCgLIoiQAZep5nmrZpmgwZ4whY8ccTfeGxKvOMarP97vaFre0S0weVZZEmURyFURQmSeK67nA0Go7Hrh9Yjg1aZ401kf4gxsxzxPVdbysRqaLIkjjKsqQoCiIlOLdtxzRtLoTel7vxysc39AzZbGuyEbI7POjb+6DZLFSp7HTKU1Jlked5msTRZr1cL+ZhuI/jWEkpgkEwHI4n09F4OhgMGHKsgnB0JhLqeDc9QHlyemireqg3lg9xCz8DeiLdo0ePHg+G4GI0HD158gQRXdfbbresZtLQEmk1CAbT2XQymUzGk/F4nGapEMK2bHj9Ko7jRon+ocEOzCUAcLztVfpyAG2XxtYniwgZNB7XVPmcEbX22RYHpaOgpTttMGET0KpIkaq3U0SFWj/dUMsuz+808q1S1wHw5MXdIICuSR1Bm5qh6rIi6ioaEJFpYYKUqoeHtRqD2qByZK6qwtErkU/XOlUAREiAvB6luqomHrsQ3NKdjzJtbgXCYUikHhZtpmIATZBm9W19pBaRKjMRaXcCJEIgUNBGEnaMa1VQHR2cptF20IHF6c4RuE3F0KPHLajnVCllUeaLxfz17883q4Xn2J5rrRY3m/WyKHIlS2goNB1N1s6M/bQP6TGwXrUr7V9jktTrPmOInhcggus6o+FgOr1IkjjLsijcvyrL1WoVBIPxZDIcDF3Xc12XC36kHq1QbybUWn/pcKtoTJEKzuHsaYmoKMo0y7IszYtCERmm6Q/HbhAYlkWACKxOq36mUZ8Gt+sLSKcaK9IsiaMsTUlJxpgQwrQswzQZY9UIdRwXdK3yzpZySum7uzkAAL01MRdWp2+mADAiqco8y/IsCfe7/W4T7vdZlmZpapqW5w8s1xkEw2AwclzXclxAXhuJkaq73OxxWF/ltm364KZ8wwtxT6R79OjR48FgnA0GgydPnjiuM51NoyjmTIfQ1TmviIjIsZ0gCPzA9zzP9/2iKFzXdRwniqLFfPGRN3+9x6rzQgZp4tbYGBHr7ZKqP/UGTKSJEgHS0TZ+cMKWRVen7chxihQoCVAbYrUXWxNkVWetOuGQD+HSDxxNgiorT/vT1sJRHaBq0xMCaCUJASgCpkcDjjTt2jtbD7vUF0FVNU3HztfJtolIASIqhhw6+oYju/QXxKJbi09rRiZAAIXAujb1VrzSTa3Jc+UTq3PP1IlbqdG5tKJhGzevDSkIOij9UF67ywPwA1mVevwBQaSULItitbj5+9/+4+Xvv/qeF/huniXxfqtUKWXZlt5lQOrI8wVPXaw/DxAJADsxEC2PRmQcPd8LAlddzKLwMgqj6zdvXrx4frNdr1brPM/Gk8njJ0/loxKAHNsG0EuVPnGjgaSqgHN14spa3y5iByPDTrn0eXKOAERlmWdpkuV5WZZEYFh2MBx6wUCYJlS+3HpZqa2tnxZ3rUBKSVnkWRrFRZaRUoxxIQzTsoRhoFapAhyqEas/Z7dZ6rx4yz58dHg1PEpb+bUSU+ZprEtzz6/f7LdbbgghjNFkenH1aHp5adue63qIjOrCbnpvr/37sVM9ofuiq7js3k8E0MLIcVH0bwY9ke7Ro0ePBwMRhRCmaRrC4IybhhEEQTAIlFJZmmW5VvKmRMQ5N03TdmzHdWxlW6bFGHNfuoyxj6dG72yxJ7KL5qyIIFUcx2kSxWEUhmGWJtqkXv+88g1kXHDOhWV5vu/5gWFaQphciOPYM9T7LSEAKVWWeZEXcRyGYZhEUVFkWZ4DESLjnNuOYzmu47quDhhjgnEO7JRLn8H9WOSRVfiWU3WFPaIyL8qyzLIkjeMkifMszbKUpEIExplp2ba+i65nOw4ygZxrhteJNT+sJ6aASJGSWZpkaZomcZLEWZJKKWUpueBCmKZteo7v+Z5hWaZpcqPelM9V2rx//98PdCgJKQAgIiVVHEX7/TaOIiBFpDzHH4yGru8DMqgzt1HnHLVGhkBRmiVZFCdxlKZRGsdKSSBCRVC7t5MCYMiE4NxwfX8wGrn+AFlt8q4d7x8iMPf8+Y+Lh8rsRFrjhwRgW/ZwMLq8erT/8SchmCwyWeRlWeR5IWWRZVmapmmWpFmaZykygchbwyjWjhWfGE2QBXUcQg6S2zeGxO5zwRkDy7IRWVGWipTtOLpKluA8CsM3r1/FUbTf7T3Pc13Xsh3BBeecsSpNVFOm/d4dvvMhVtrSqk24ju34wSAYjoLB0AsGtu0KwwTkgDWj6zoVHeL+AdIfAUREeVEkaZIXhULkwmDC5MLkTOBxpi4AveQfcum3nV3/Oaz7UN1yAAZavUlABIrKspSyLNI0T5MsjaMoiuMwjWPDMAejke24lusOhqPheOo4vmmajHMAJEnVYwHY0Tfj+dZh1/h9m17jDJf+Btbonkj36NGjx7sAsbI86Kg53/efPHmS5/l6vZZbGas4ThIuhCTJOTcN03VdxphSChk6rsPYR9XOso7MxDq0kkgRY8AYU1SG4X41v7m+fn39+tVmteKcc87bQwEIwDAty7Y9L7h8/PjR46fBcIAuF2joc1VDUUlu9SVIZWkSR+H85vrVy5eLxY2mpgTAGDMMczAaDofjyfRidnk5mU4N0zaZjaqynRBCzf8fyJsaENSOjLcKJIduZ6SUyrI8TaL1ermc36xXy3C3i8JQygJ02fBgEAyG04vLy6srxmbCtARjyLGyTVdtbk9eGfNJlUUe7nfb9Wa5nC/n881qXZZFURSGYdqO7XnexdWjy6urwXDkBwOHCwBAhgeCyCcTyo94sPYfAAAgKaWUxXazevni+fLmhpQiVc6uHn0HP9qOq2vtnOXSAACKSKk4jFfz6+XiZrNcrFfLsshJ56vVcdOV7wMzbcuw7avHT77/4SfTcQUaTHtNvM0dokePM9CMQt7ybWObbT9QoJBAoWU7ghukpG1ZF7PZm1e/X795oUIoyqLIszRNkyRJkyRN4ixJhGEZloXAutZf+ixcuuE6h+m0T9aSxoRLkiQCcM5t255MJ67nTi8uN+vVer0O97so3O826+16s3Tno/FkMp2Nx2PLsi3LEpwzzk5Ile4znluzGq73doUYNc0XQhiW5XrecDTK82wwnHh+YDku11Uku1y0oxFts158ZBZ9FNJ7pPjUC1pRlkma5kVBgEwIJgzGBXIOyJqMHF1LbuvW9fYrAwIoAN45jpAIQCEAomI6qzwpApJSllmaZ1m43+42m3C/zbIsS1PDNG3HdTzPHwz8YGg5jmnbpmExZErrTgGqpOJty2ql5tHtrRSmDZfu3P+3PgTfxmreE+kePXr0eDCIKM3ScBdGUZRlWVmWXHDP8wBAShlF0W633243SinHsV3H9X2fMWaaJiIWRWGa5sfzcqI20QyciCzacMx0cpwo2s/n1y+e//fv//3rcjG3Ldt2HMZYcwYC0JbYYDCyXWc0ntiuaynZTdTcuA1W1gGlpMy32/Vifv3qxYuXvz+fz2/KoijLXDuJcyG2G3/lz+NoTyQ5Y0EwNISBosoxg9S18cLRZe7qfMOhz8fjHZxMjwIRKZXn+W632axW85s3N9evl3NN/iOlJAIhY47t2q4bhjtZFgDgD4b+UKDCivl3/Cexcu5USskiz+Jov7y5fv3q1WJ+s1wsdrutkoqUYpzrEq9pmuZ5dpFlAGAYgjHBGD+2tdzVlQ+GEy4NAKRUniVJEi/mr3//7b9e/f47ACBQKYvxeHJxdcVRYKeY89Gc04Q5TeLVcv76xe/z6zfz+RuSJWNVRSFEJAJtnLYc13Qc03IuLh9p30JABGCICqoIvW9D3YxPoAAAIABJREFU+urxUXDPyXHbYUoSAJimhZbF8Mpx7OFgIAwuZUFSyqJI4ogxXhR5GIbr9cr1AsfzPd8XpsW4QOT6wfmM07TmYm/17mncsPXBnHNkwjBdLxgMCu16M78RRVEkSRInUZ5nSikiUEq6jus4rm3bpmlwLqRUUGVAQITK4/qhq9KByrNew4UQjm0Ph+PLq8dCGLPLy8Fw4nieYZiks4vpdJlNhE7t460LSz2wCR8GHc0CEoAikoqAccO0LdsyLJsbBjKmtQBnm3iXObri3dhSVep8qPkzKVIoi1IpWcqyyJMoSpNov9vutrs4ChWRVMoxDH84Go0nmkhzIapmUxsLXXVJ26OriXWoLa2OwaaMdvv3Lnwz63hPpHv06NHjwSjLcjFf/O2//pbECRFZlpUm6X6/n8/nv/3228uXL+M4jqJ4vw+zLE3TjDHm+z76aBhGdYqPsI3Q+be1hpgAQenEtIhIVMbhbjF/s7h5s1rM99u1ObvwXYcbBjUJlRGFadm27XquZVpccFZnJUdUR5dEJJJKKZnE0Yvfn//tP/59tbjZ77dZmnqeNxzNAEDJsijLNA1322WWxFKWZVk8evzMdlyLCx0+XUcfHpz+YwimCACMqaLI8izc717+/uL357+ul4v9bpMkkWkYge8jApAqyzKK9ovrN/vtOtrv9/vddz/8ZDuuZfP/n7337nPcyM5Gz6mADDB3miTJu7Zf39f+/l/j/n6+9u56pYkdmANyqDr3DwAkyO4ezWgl7Urmo1E3mwSBqkKh6jwntsN7dFoGwJDlVRHttsv59O1f//rDX/+SZikCCsZMy5aGWSlVFHkch/e35Wq52L5cK1UJISzbsYUDdfrg0z7/KjauIy4NAKSqfLddLRfTD2//+sNf/3z38YOU0pCG53lZGpFWwBm0kQp7Ln0AEWmVZfF2vV7Mp5v1MtrtpBCe59m2XdNpqKuDIZOWJU3btEwuZVtt6CjXL+4H/HcjiJ3xM+GJx+WZJ6a2qj2hr+uEN0tDOp7PGCcAPwiWsxeL6f1uvdQEmmCzWeO7d1EYjSaX48mF6we265mWfaAcvy6O/aufYjsnR+8fKqxXmtb0COi4DudoSOF7fhiGWZqkSaKUWi3nu+3a9Tzf81zP9z3PsZ06BXS9YTBsU2l3DZJfYF1tXzbfqV+ZhgkeXF5dIWMXV9e9XhD0+57nC2kSYVstCvcnaU/19yHRBMg6vSEAAsaFNC0bkTEGlm05fo8Jich047PQ9PfxuZ56+4leIdYZSQgb/2tqVtsiL4iKNMvSOIvjJInTOK6UIoI6i5hpO47rOZ5vOa40TUKmDt7bj6pdHpTlXzCzmzlFulWt/6OkDPjFcCbSZ5xxxhlfjbIs5/P5999/r5X2fb/f76dZutvtFvPFx48f3717V5ZlnVosSZIsyz3Pu7q8Mk3zyKP7l+HSzymFEZs004jAEQB0EsfL+Xw5n65X8ySOhsOB4zqWaWkC3SbakoZpWJZtO4ZpSs45x0MYdcdAWFsICLTWZZImt7cf/vv/+3/DcAekDcPo93oXkwkipFkWRbvdZjV7eIijSGsNAJbpXFxcAlmo64w2z/DHn307RmTIClJlkYdheH93+z9/+XO4WRdlhgDj0cgbDgXnQCpNkvl0evvp/XI5j6IozRLLtm9evETLflJYr73+VVFGu+384eHdD3/903/9p2C8PxwOhyPX9Xr9fhwnq9U8iaLNalkURZaljuP2+wPGuW07KBiRfuRN8OS4/Hzj0UilHbsvEZGuqnK3XU3vPn56//2Ht/9z/+mDbTuW7YzHoyyN63xDe8m9KznXacgJiEjlWbbdrFaL+W67iXY7z3M5D1zH5ZxzIRrpGZmQRq27kWJft7d2VWCAHS+Dz/uHnvG/EARA1HWVeaJeUwefeXjqU3BDOobheG6vH7x682a9mC7u72bT+4eHh9n0YbvdxFG8WC7SLKtPJaWwTKv2SPm7cLkODXraN+To4M7QUMs+iQgZ2rbtOE7g9yYXRRIn8+nDfD7drNebzSpLsyAIfD8YDIa6KoGIM8Y5p3q865SMTYXFL12dCJrqCW2WR0ICZGgYppSmNI1ev58XhZSSC8GFlFISAOq6TtZhv+tw6V8Z9VB2Sw6gJgBELkxpOdwwTcNwXNd2AyYMqItDALV+TM+0+om3u4plOGS8A4Lua9JVWZZFGYfbcLuONts0iZI4EYbpeoHj9Qeji8F4YtiOlCaTQisiIqUPWTYZOwRZPb7259AepOnQAdK/cy59JtJnnHHGGV8NIirKIk1TKaXjOL1eD5FFUZSkidbaMAzf9426ygWAqqqqLKuqUkpRmxD7Z27Plx22d8nWAFpTVZVFnhGQZZpSsOub63/5lz/ajqc0ad2ouBkXQkrTsv1+33U9wzA540Rt1dSuRRpAayrKqiwKrTUguq7nB8Gg37958eLmxQtEzNJ0t9sQ6TSNueBZnmzW6ySJ8jw3rZILZMAJ2upSe6PJ3yQfPS2P7N/SWhdFWRS50hUgOp43MAa2Y19MJpcXl4YhECmNIwAqiqwsqySOZg/3L199k2ep5TiMS2QCOsWPa/9CApVE0Xz6cH/7KY5DBhD0glev37x6/cZzfdf34yQeLPuL+WI6e5jPpkkSr5bL2XTKGPc8X3DWetT9emyxYyRphKqyLMosDXeb5WI2n03DcEekDWkIzjnDOkt9LXTtx/Mg0e5N9QRKk1aVqiqllSFl0AtGo/HrV2+urq8Yl3XQY+OdyQXjMugPXM9HxhFr20aTMw9PZMkGv9t8sGd8DdqpQXQgAR2P1K8it02xAmQIyKXBGA/6AwQyLMO0Xcfz4zhOs4wIKlXFaWKnqVOUmuos9j9lwWpqOTVOy03jO+c5dRc/vcDh789dff/ZMwc1BRwRGRfcQBMABqMhE8yyHcf1kjhCQKVUFIVEOk0SKaSUItxt0yQpy1IrjW1ZRzzyL++2/dGdaOpCHPNhxhiAASZDJi2rrkDIGEPG9lbrQwQP4q/MpZ9bmalZ/ZBx6fq90eU1EBmGYVmW7QWMCzpkMDl85fgM9MirgfaZyLBxeqJaT8QQEOo880WWJtF2DYB5nudFkWdpHsdKKcN0DMuxbMfxe44XuH7PtG0hDeRNvcd9azQg298FOjht/MijQ/TMoB+8BI6j5n9XGtAzkT7jjDPO+HoQKKXKsjRN0/O9wXColIqiKE2z2ot7NBqNRqM8zzebDWnSWldVVacl+8Va9EXYV6IkTUqpqio5Q8dzDCm/+ebNv//H//X8XllqrYHq4k3IkHHkjEtDSMm4QMYadUArxCAAMCRkmlRVlnlZATJpWq7jvHr1+sWrV5cXl1dXl4CQ5/lmvSqKPNzt8rwoyzLcbZM4KsuiqhTjGpDaTDk1i6aal3YrrvyksTne5zv7ulZUVWVVFojMNE3T98eT0WQ8mUzGF5ML25ScszQJgaAoitlsttls5rPpdrPOs1SXFTLBkRHoOut0k7yUFGkdRbvZ9OH+7lOWJKZpTS4u//mf//X//Nv/Y1qmYZpxEq/Xm+l0qkmtV8siyzbr5Wx677ju+PJCkEANHXnrsVH+l5lIuimmXYvBVVGGUbhaLZfL+XI+TZNYMOa6jpRSCilEk7230zzqyLJ7j0BNmuqnAAFsx/F878WLV//0z3/85s23XAjORV0fjBAIODDGhJSGyRlvUgrVU60hNwe0FpTfs7njjK9DV7XXJJZu+VV3AXnWXtqhNwTUqG8QkNmOawjue54fDEYXk8VytZjPoigGZGmaZllaVpXWmjHEn3VKIiC1LLp5NvH0iEc4tGBPmx9/9lgn1UnNoAGQcWYa5mAw8Dyv3++HYRTtdtvtdrfdJnGSpemGMcuyTNPI0iSO46rMlaoanddBtdXVc9GzC1drtKR2Han/ZpwLxrhuE1rXTWQIumXRnWpMHT+Vp6/y864UT3Pp5vKMC+n3+kIaiCgkl9KQholM6ka7iPuDn3LuJoQ251irNGhCoKFecInVu27NsVVVFjkmuN0YeVFmeZZnhVaqdhlwvcAPAtv1bdczbYdJQwijNp/rViVeDyPrPBd4yHrxY+PWzKfHznCd3aDZc3+HSs8zkT7jjDPO+Hrs06oAEDUJxuI4TtOkJtKD/uDi4iIKozRJ8zwHBIJ9XcZfHD96DSJQmlSlqrIEAENK13N7vWAwHHh+r8xVqQiQESAygYIhMgKsXY1rZQAdu9keGToYcz1/PL7o9Qevv/3uzZtvBsPBaDgi0EWeGYa8/TRwPVcTVZXKy7ysSlVVdaBdTZ6h8ZTbW3fr8s0/QQp6VqQlIsQ28Tgi48Jx3MFw5Pve9fX19fX1sD8YDPu2aUiOaRI93D8Mh6Pdbqe1qvK8KHKtlCbNjxzgGndD0ppUlSbRarlYLuZEYLvOaDR58fLVN99+yzhnnCVp6nq+kMb0/s40DK11FIarxWJycanKkgzz1KLzS9PFEzWF1pogTdPNerWYz3abbZomQGTbFm9bwznnjGNjgTqyCNV+onUWsdq3WytdK5KEEKZleYHXC/r9fh+ZqDU1yDkyxjhHJhSBIq1VY6SixuDfSmMH+0eHGf2yo3PGbwEEWquyLLWioiirqmJCE2ETY9BlPl+QVbvrC4MMBTNMKR3HNW3X7/UNy2VcGJuNlAY3jDqDFHxmxflxYGs836uhTkokPibQz670eGwlPDn0pJGP21x/GZEzwYWUjouW7TiO77penWAsS5KqKMoir6oyy0SRp3EUKlW5WVrkeVUV9ZLe6i5+hD4RdinXnkVjvZswABBYB2NTuyE80eOjvnxucH5GnFxGU91PBGTIheV4huUgQ84Fb6K6vnRJp8OoQLvHUm2CZnWObqq0qnRVVkVRFmmRpVorxrlSqiirsqo4F1IYlmUF/UF/OLJdz7RtKS1FpAnq3bz2qX+ci/urp/ETLHp/mie59Gc9FH5TOBPpM84444yvBiIapuE4jlJqNptGUZjneZ4XiCg4tzyLc17kRVEUAMA5l0JKKWt/2F+uVU9uYoc/W8GKgAiJaoO0KitVgdaqqrbb7d2nT9JcZmmRl5oLIYRh2o7tOpbtcCGZEI1aHI5PjUAEGjQyLqTp+8HL199Iw3Rd9+Li0u/1DdNWGpXSZaXyqiqrqlSVBuJSGNIQQjLB22SvGoBQAzHY517Fv0U6pb05p9vgg8zLBXccR9MQET3fs2273+/3er60TE2QF2WFECdZkqZJmiqlBBdCSMs0RV1OtREUavJfyyO1n12eJWkchUmSeJ7n+0Gv36tzaxGBqjQRci4t07Id1/W8sizKsojCXZYmqipJK0D+qNzofvJ8Lif5TxwlqKkvICBoKqqyKqvtdj17eHi4u82zzLYdDlBYVpmlWZYVec67Nr+90Nc07aD4ICLSikhrrbVWVVWxvAh34XQ6RcYVgSZgXAjDME3D9X3P85iQAAxZbY4+HoOnWPQZZ9QoqzKOolzBbheGYeySQCEQee2mXduYG5Gfnkw39gh0+K0JkIBLaSEORyNhGIPxhCFDZK7rOY6DjDf5tr4S7RfqRbAJNT580qS2qJtxtPJiE0XxxLPwVVz6KbAmqoJAaWKMmaYJiIjouG4ax0kcZ2mSZ2meZUmahOGuLHNpGNIwDMu2Xc9xPGCstU3/yJLVoVxdSszqr9X5+wk6rOxpFUO9ru/tvF9mUP3JOHHRBgAAfXCB4MgZ41RPCWr2nBM9wOfm4MEhC6jO841NmTUgXamKiixO4jAKt1G4i6OdNC1uGMK0TNN0/J5l25bl2LZj2a7luNwwAIVq1PnHFLe5Hh1f/Yne/fhwANTtPBQsRDxMxQOXht/NAn4m0mecccYZXw1ErEtDb7fb2WymlNJaK6WDwB+NRr7nc86LoijLkog451xwIcQ+VdcvB2r1yq2weOR1ddg2SVPjb17pqqqLTe52u9vbO2Q8itK8qAzTMkwr6PcHwxEBGJZtMt5kDan3QQYAHYMsESIzTJNzZprmxeWVIaVp25ZhMsYUYVnpoqzKoiyqqlIVAQkuDNMQkjPG2qIpTcNRQ10G6yduttjV5p9anw6ejURCCMuxpZS+511eXUvBDcOQUiBCbUNFUkmapUma1URaCikN0zSElJzVrnC1/ychAkMiIK2rqsyzLE3iKEuSfq/X7w96vb5pWciYVrrSmghq26xj267rR9GuKos4CrM0UWVBWmGdCvtZH4afbyLtWXRTVYUISJVVkWfhdjOb3s8e7qXgtuXYhklVWeTZdrvZVSVDxmCfobc1p7XiWOO/qGtPDFI1jVaqxBIAwjCczWZFWRaVLivFpTQtx3G9yUXFhLAs4FwicnjU/RMWvfd1POMMACjLMo7jOC93220UJkxYpoXSELWSCKixTf84l25pT/MXAGnQQEjAueTSkKblDwaV0lpppRRjwpCCMfaTJyOevmibxro0ufFshsMaj0j6mCYfnr+9CvKUWbbHPddWrP16CYA0AQMCZEKaQpqG67o00XEU7jbb7Wa9XMzjOEyTJIp2WZZKwzAs03G9Xq9flQUTkgl8humfombRNX+m1sH7YJBt1aqPzvVo5A4dbZ1jfokl4rl1GQEA640XGXKGutUQg24KS7Ev3tbosMESw9qdGxCAVKkqVWRJGoVxuInDXRKFplKGbVuu53iBPxh4ft/1e47jInJsZ2btJKBbl6EfHZsvHrqT6QedCIeGS+91QdQRGr5wHP6RcSbSZ5xxxhlfDSHEYDB4+fKlYZjb7SaOYyEEIuv1euPxeDwa1+SBCy4NyRnv9/uWbUkp26zdrYPh37KRnIiAz5+pq2gmgMZBTkNdtaRUqsyzoiyXi+W9f48osrwoiqqWBjzf6/X7g8FoMJ6MJhemZTMukfNHjScCAETGGAoJiEJKzpkUknEkrVWl4jisw4C3m02W5ZwJz/dH44kX9AzD4IK32W7b/59KEPRcnPRPlpMYMsEFRxRSmJauOV+aJFEYhuG2yJMqz8Pd9v27d5vNmjE2nkx6/eF4cmmZFuO8ps6dGwoAoBpzf1lVldIVMmaapjQMxlnt3N8MFjLOmJDSNGTKmSqLsixUnZROa8YI4TldAju28HSp7JPj0YmtPPVbaDUXe/uxhqoqo3C7Xq2W83m0C8uiDDx/PB7pskjjKAYQXOztQng4L3Y0Ns0FG45OpDVp0pXSZZknlBIAY7woy0rpSunaa1NIuVyMF/PJaDwZjcZBr0+N7qYrGR83vvMGfnYIzvh9o461IYKqqrIs2243D/d3cZpalmPZtmWalmVyLpCxVhv4497dbfLiveYNqXE7QWRcMM4Yaa611nUerJ9giz6+3OFJPjzSR0/Ul56pThi2/7t+Ttrg58Mq2uE63eeFtZ/X64yu30EEBIaMgIFpmV7g1doGxpFIFXmqVaWUjsJ4tVpxaRaVtmzbtG3DMKVhCikQoPEPOtn5GpfofXiIrrl03SyC0y2sVhL8kizsa0/95PHY/nrsGnCkDjj+9Nhg3YayIACRLqsqKwpVlkWaFlm2Wc6223WaJKS1NKTtur3+YDiauEHfCfqW40nTQi73xL5djbsXPWrY454cpiI7fGGv3QDdWJ/p+ftBcJQ1gOjJZ+S5dGW/AZyJ9BlnnHHGV4NzPhwOv3nzjRSSSFdVZRiGYRij0ejq6moynmR5VhSFUzm6rw1pjEYjx3GklD9rHQjq7mg/Bt3dzJuAbQIgqIoqTTPSarFcGZYjhChLVZZVXuR5ltuW5fn+cDh69c13pjSxD4bFpJC6Pmf36hoaAY4xySQIwRAYZwCkSWlVRWE4mz3c3n7crNdZmgZBP+j1J5dXvV5PWgbjdWYpIgBi7a78ZaaMnw5EZMCBAzJEQAZFnmd5Hu7Cu7tPD/efws06iXZxuNtu17vNuj8YXV5ev3rzzeXVtVX7aQPqgwkWEZAISFGllFK6psTIUBpSSsFrmaMZ+Pr6jHMuhRCM5VqrqtKV0pUmRSBOmeGjUEM8Eblbyf/RAU9Mk1qcfaSnAAKiqix328304W45n8VhqJR2HO/y+kWZpmuc5mnKGe+k+AGA5y3nrI6UJE1aaVJK51mW51lVKQDMi1ITaaIsy5IkVpVajEbD0ej1m284oue5CIhPxBZ+DieD8nvLbHPG00BAZHXaA6XLPN+st9y824Wx7Tiu5/V7fej3LNMU0mCcExGxIz5J+uDs2o2/QWR1QgiqE1zB4StQF9ADZIwD1JmasOWqT9OS53A6S+uzd+jH6bbxtKGwXVQQWO0ejkefEQER0wRYV5KjZguprdzHTcWW29Td150HnIBACOm6rhRSSG7ZFpDK0qQsciKK4wgZV4qSJPWDwPN7nu97fiA4B4YMgQgJ6wpR0BhnCUjXSTmgDcXRh3Y/08+jEdhrX/8OhOzUGAvQTKK6OkaXe7bqSjhRAXYd2vfzEgERqc7FUnsHFHmexXEaR0kYJmEYbdfhZp0mCREZhuUHvdH4cnJ9Y1iuYbtcGowJfTqASIeGPuHNg3uq3Ukj2RRoAIao68bU00kzBAJCrOt97UtXdNP61T+I2iiE08HrDtpvkk6fifQZZ5xxxldDcOH7/s3NDRGVZckYt23LNM2Li4uLi4vRaJSmaZImQCCEkFL2+j1DGoy3CZHb3eVnwCHJx4/LbK3RsN4oURqG43i2GyutVFUxxrUmImRccAKdpkWWlVmaRGEahZZp9YI+45xxQ5p214OXGi+xWjBqohH326lSKk2jJEkWy4eH+7vpw0OSxFIarucNR+PJ5YUfBLLO1nNkZsUTueTnGKynUBuY6kRXDKqy0FpneRZut4vZbL2cR7t1HO3yLMuztNcfOK47Go08zxNSMM5U4314aB4B6NoAqzVpTUQMUQjBOatTj2uqc5whIGuM0lzUHICU0lqBVo2ocjQG9d9Ppu15wo51yigJARiQ6hzQPTPURmmtdFWVWRJv1+v59CHcbUlry7R6/f7V5VUc7bIkEkLsHQWxtgMemyro5MwMAEAIaVmO5bgEoLTmQtQZ4DkCB8zzrCzyNEmqMt+uF6ApCHrDwdCwXUOIA5n5zG38gnfO+N2iKdqEnDHBOWOctC7yDBgviiLPc60UaeW4nm3bZl1LibN9tsgT7FnqE0niYZ8FsckMgHxv62u//BN7cHKZg1rsaWPf8x8QQVkWWldKK6U0EXEhJBfIOXKOyGv9VueBPdHvnpgej69GgECMM84NwQUiGIIn8W69CuIo1AQEqCqVZgnuuFK6KKqyLJVSSjXq5totqy4P3562OTHW7e/w4adI6j8mjhrInv/oMbrknzUKDKpHqObPmlRZ5lWRpXEU73ZJHGZxnCdJlqWVqgCQCyGlcF3XD3pBbygMi0mDkDelN46u9ZhFNwb+pq102M8OW4jWRLrSmnSllQIAQAaMMSaBSWht7HiqUN3fxFrg2V+EtROqq276h7/Dz+BMpM8444wzvhrI0HEcxhgBWbZ1Hd4YUgohgiDo9/uu65qW6fkeACAi59yxnD2LBmhUzfDrqs87YiAAAOdyMBi9fP3G94M0TUir8eRifDExpAGISqntar3ZrHabTbhd71arxXTqeT1kQhi27Xq12aM1SrfmWICDtQCBiLRWWZ7NZ9Ppw/3D/d3D3e1mvTJN4/rmxcXVzfX1i9H4wvV9xkRt8OnE17a/jlzPfua9ts7d3ULrtlonY8glNwzTNM3CNMvCKItca53nWRzHu92uN0yV0rzTeQDoWnXqpDKNeqPhmt2kO435GtsP97JM117wSI6Fzhn2wEd/PvbOe+7g/buNIaQoiiSOtuvVerVYLeaqUr7vB73e1eXlcDhkQIZh1LlzEBEZNsWkWzJNrUx8kMyJaqu75weX19da66LIijx3XW8w6Pt+wBCRsXC3Wy4Wq+V8uZjPHx4MaYzGo35/MBhPDNtGwVtDzZc+L2cW/b8QiCAN6fs+caM/mfQmVwSYZXkSxWVRbDdr3/eDoO8HvuO4tuPUXjCIoJvwjD1FBmgX56OJxJo3OlTkgJ9xbeoaCj+36p3SdwQg0lRV5W67CcNdmiR5nqpKub7veb7n+bbnW5ZT2++bcggH5Rc+deajZjRLfHs1gjpAhUtpWJblur6QUkgpTds0bS6NqqrWq2UUh+v1yvW8Xq8/GPRN2zINg3OpSTcL5SE9eWvShKOdYP+q266OP0Gr8vgVudhz9RhrHnr0yaGSVdcQ3dG90sGWXrNohrV/BauqoqqKIk/D3TbarbM0LtJUFQXn3HYcKZhp8MK2lKq0KoVhcSFZUzWQESA1LcH9/cX2dtcs/bBwHzcL21FlAMigqqtSZ2kWR1kcITJpWtK0bTew3IAx3gnkf0alecSij8axGZh2MJ4Y039snIn0GWecccZXgzFm2ZZpma7rTiaTqqpqLiGlFEIIKR6n5jzNaoPA/iY3767v1I8pvPGg+d+DSzEYjl6/+TYdX5RViQCD4XA4GpmmyTjXSi3n8+V89vHt9+FqtV2vXNe3Hc903F5/fGQ/OJy3kbWa/CgNka6KPF3Mp29/+Ovs4X6xmOdp/vLVy+ubVy9evry6eTGeXHAhWBN0fSR//EpciBrhgggaGt3akA2zptJmmRsJQ6WrvMiTJAqjKMsyrfS+dEjNvvetbhzUu/eolotOxQSsCeeBiTbUm4j2yYVP2/pML7DjlICPfn6u/13xuSyLJIq26/V6uVwvF47jBpPJixcvL6+uxuOhKnPDNNpyV8iQMYZ1tWfATobtNla0HgfGkAnp+8HV9Y1lWUpprSrXcwf9ge/7gnMu+Hazns+mtx+c7Xq5mD0wxIuLi8nFhWlbg/Gklvm+yhy9f//xoJ/xO4YhTd/3pe0NJxfDq6s4yYpimSTbaltWVRkEvdE4UWoCAJZloeB1TmkkTbBPR0AA+ASL/tVtpCcKsGcup/eLLyKQBk1UFuVmu5ne3243mzDcVWU5Gk8mk4tqrITcX/qMAAAgAElEQVSUju3UJAmAiFhHtfdFODzmdaQzQ8aYlNKybc/3LMe1HVdKUwipCFbL5Waz1Jq4kLbtXF5d17XnjTpdiAbdGMa7lsz93vmEG9J+HE5G46AC+VW59Ok7x9ZcaCfUPkL5CRZ9+O5+vUIEaJ3zicqiSON4vVwsZvdFluiqYohB0PN9H22rtIwiz/IsLbJEGgYXkjFRe8m3FSsRADScbj+603w8bUYTlY1AjCFDLFWVJXG4WW1Xy+1qIbi0XM/1e0RoWE5diuKJ6hj7c5+y6Ocm229ypT4T6TPOOOOMn4KaTggpav4MtZsfwzo19+eLWvzt0IcT7VXde/mmJh118FmdnnN/6cO1BRe9Xg+AyjxXqkIA13Vt15VSMs600lophhBu1+70Pop2pap24TYKw6zIlFLIEFi3l4fqvohEmrTWu916tVzMp/cf3r97uL/N89z3/Ml48uLl65uXr0YXF64XcCEABUHjuksd+fWUNbZcqlNB5ImhbGp7NIHIDeM/kc2Oz9wJ7CJgiNKQtuOMRxMGOBz08yyOw+18NlvMp0Sw227ffv8/lu0Mxxc9AsO0uTT2tuhGZYGMNSWRGTLURGVZlqpURICsbhbVbVSktK5UpbSuA6YZ44isyZqruxbzE/N0R6w/uscno3EYtOOv7/9sRFjSGojiKJpOH24/fpg+3K9Xy6osfc8Pt5vpvSRVzqfT+0+fFvPZbrNOonC1Xnz69MHr9Z2g7/l9IQ1gbB9guk8ohMiFINf3CLTjuXVBadM0XcexTatO2cQZ45yTpvdvvxdSaF0lcbRZrwbjC63bCji6KW6771LtKt/c56cmORFoOjHgn/F7xD6sFJEJLhk6jh0EPdNyGOOGZeZpkqUpQxaHUVVWSRTtNlvX8xzXtR23floJADQ0JbKYxkdL0Kk59LFeq2skfVQs4LTJzW8NdVHfU4K+J/Wnl67jiduDsGuSVarK82y3Xd9+/PDXv/x5t1mlaaKVWs3ns4eH4Wg8Gk+Gk0mv1+8NBlKYjDNWF3t/ZAF+Uod3SJVYv9m2sdYnMsakkKZh2o5j2i7joi5knGVZWZZa03azKoosCHw/6AWBb9uObTtMsNozZ+/C0478U2vac7tn665Ch+RwR0d3TtscTqQBWHe16CpVHy2ZR5d6Qil6dNFTStkh2E+jYa016wTSWsdJkmdpEodxFCVJlCcJEZmWI4UwDTPw/SAIVJGnMQOiqqqQcQBGyHTj4YSNbXyfo/5Y592dnycUfx+TraoyjMIk2u02q+1qsV0vo8062q64kJbj+f3RTVmapmV7PhcG57wWS/SjzpImZEgaav6OcKw2aZ6lQy68zwzUPyBOzSZnnHHGGWd8ORCRC850G/zM6syxn1tXj/fnJl6ZNNGXZlM6fPn0dbshtQp+wsObhwPrLY5x7vd6tu2QrmoXO84ZZxwZYwy11qSV4Hy1nLt+YGw2inScRHESFnmqVMlBIOPQKpz3V6i130RKU7Vdr97/8P2H92/n8+livvA9b3R1c319c3X94vrmhesHhmUjEwSoD3mvCAH3YVqdLtY1Q+i4N58dHTqIRNQ2DTpnbrZ61hzdOHUjMwwDASTngR9oVWhVZml8d/vx/nZwf3//8HC/mM+C/uD65Usupce4La32zFjXYkKOnAnG6ohERlqXZVmVVc0JCZqMY5p0HZ1elIUihYicC1bHMbZJa+mox63QDE1Ss70c+5khIWhisoF0TRJOpLwmjS6R0lUY7aYPDx8/vJ9OHzarlaqU6ziWaeRZvFrON4vF7e2H+ewhDLdhGK4W8w/v3wlpXty8vLxhjutJ0+BCQltiqO4mMoYoHdc1TVPXlb801aZswRjjjCETQlqWzQD6w6Fl2YCQZMl2s86SRGtVR/XTo5lczxeiOiaAHtVo7Rx1FnV+12i0cFSXoEMhhGnbfuC5wC3H8Xq9OAyjMIyjMA7DzXq1XVumaQ2Go/Hl5QjQsEyLc0BQezal20BOADjmtnsQe+rB051vPTvrCGCfVaJ7jsaXRbfLFuIheqZxJm4K+z2K70AAxEqVaZpuNutPH97/5b//M9xtq6IkIsd1XdcNBsPhcDS5vHr95lvBuesHBphMSoD2KnuvmC6tRwA4LljULqp00kdExpmUwnZcP+hbtuO6Xq8/DHfbzWa72+122+10eu86zmA4Go6Gk8mlYRhc1E4uTINuO07NtvLkwvakZgwR9IFLH4/rvqJxu/Kz1nmqWWT1gc41hK4NzNmrYo9Ho91RqPPuyeR4qpFtW5sWNzs+7Vl0/QKBlCqS3Xq9XGy3m3C3ybJUmqZpWI7n+Z7v+55jOY7jZHGktSrygrGcEBsrNCG2pQy7G+t+BKCpitbxIeoKBk3mM01alXm2nj1M7z+t5vfr+XS7XmbxLot2XBim7QXDsSGN/nAshGA2omBIoAg6p8V6Qwds6HWjHeoQeOoOOxGB1k+t4//IOFukzzjjjDP+JiA2+Wa+AgTQ7BgAP4+UT3WwW3tKaAWFo1oTe/lCEyHpumiFEJILXudh3tvSNWnSmiHYrmtYJuOCiPKiKMpCKUWkoXEmPpy+DrhiQESUpkmWhLOH+08f399+/FAUBUP0/eD6+uab774bDi9G47GUJiEDxkhTazdvON1ToePttWjfiUdSaLtN7we0M7BHuvjuGVWlKlWqqtSq0lXFOePCkFIa0giCgCMwRlWemYaUUoZRlL39YbVaLhfz7XbjBwPb8Vs35kMKOc6YkEIYUkjJuFBap1laZzxCRMSmg1qT0rosyzzPq0ohY1Iaos7CxfcSYVe/cpBOmiSon/d4Pla1tPr+04/bsdJa6SIv4yQKozDLslKposjjJN5sVkm8k8LYbpbL+Xy7XSdxnKbJbredzR5M2xOW3RuMpGkwKUQ7xofCXW2icsYZ4xKRMeSIwNr0woyhNKRlWkWWObYjJQeCqizzLCurEkgf4q+P3Wsb/cA+rvxEpdBOkN+WWHbGTwPtfZQb06iwLJtJwzQt23Zty7IsiyOWeZ6lSZokaZJorQFQV8r1Pc/zpSE5b/SDtX6t4577FJ5M/Pf5rxwdRE31oJY/H03eJrc227M4qo2unzV0ayKtqqoq8ixL07TIcwDgiKRUWZZxuFNVVeS5ENK07FFZBkHf4W7tyn6ibTz0ow56gfZj3Sw62DaKYG9LBmTIODek4TiO6weWZbmeb5omY4IAqrIoizLWERBVZQkEiOC6rmGahmEgY02K/mOb5Rehk3T90PL2xdFGBY2BtPvpM3hqQaE2c1bnk5MCVz+WzeHwKR7+kVaKdKXKsqqKLE3Wy9l6MY/iMMuySinLcR3PC3r9Xm/g+75pGJZhktYyjliT/ZE1KmmA5oY+VTuxUQzs7fLHc4k1TB6KIs/TONquF9O72d2H3XqRhLsijcosrrKkxDTPkkqVk8sXeRIpzyfLPPacOOguCKje8fZbd7N1EcHRyvxbXaXPRPqMM84449dGY4j+BTeOVqo4Fipqf0BSpFRV5flmtdisl1JI3/c8z3cc23Vs5IwIoGoU5kRUKV2Rkghc1Iyb1fluT5yOEYAhMMYqVawX89vb9x/evZ3e3yZROBpPxpPL65ubFy9fX11dW45rGhZyXgdxAXQ3Wdhz6c8LIz9pQI5Q/51l2W63CXebNI7iOPI9bzya9AcDQxrSkJwxIYAhua7X7w8cx0HEsiyLosjTrCwL0op163ogEDDOhTQM0zRtyzJMQykVhVGSJEpVjIEgRrw2EpNWKs/zJE2qqpSGYTuOYdnykDDmS/vyJfj8d2pbuRDCsd3AD1RRklJSCiBKk7TgTPA0jqM0S/OiLKuqUlVelEmSRnHYJI8lYrW1p/bUBCIOWlFRlVVRJHEcx1GR545t27ZTExtTGjWrJkWKtFJVVVVlWSHjjDEhpeAcaxMJIrYp0WjvWHmgMT/fTDnjNwpqCCkR6Hp91YSAjHHDkJ7rSSFNKV3Pi3a7JI7jKCrz4uHu03w+7fX7/f6wPxj0BwPX9xAZtIXqqLuIHrMOBDhV0Xy5x8zPjTrEgTFmWmYQ9G9evozDXVUWhmFIw7At27KsLMt24a4sitn9XZal1zcvX7/5RsobziXjApER6H0/n+wFdd5/6oCWYtdUE5FxIQzwfJ9z4bhuv98bTyZJHGdputtu8yyb3t/3+oPheNgfDF3XczyHM0GkNTSOSc9tk62iEeHw8O+59N8VrX6yVauefEr70WUArT6RSFORpXkahdvNdruKd7uyLMoyF0KORuNaLeF4gW07lmUJw+ScAzJAbBdDPPyjPT2HZwek0dAe9DJYe2BQbabX0W4zv79dTO82q0W0XUtp3Lx6JfmbeLuKtqsoDOM4papSqtSqIq2gveozQ9LRvfzucCbSZ5xxxhm/Olqv11+UTB8uhtBxzUMiUkolafIwnX56/4Nt2ePJxcWFEoL5vsu50B35URPVBZEBQDDOheCMNbma2660rn/IECWDiqr1cvb2r/9z++nD7OGhLIvv/umP//Hv/3F982I4mgS9HhESoKrdwEgjI1CHrb0lpXSUButnGYfHXJphlmWr5XI2vd+s5uvlYjK5ZIiu60ghOOOGwQTjgqHn+0WRO46LiKosi6LIsqwsCtKaIxB2PTqBC45gWJZlWrZhWlrrKI6SOFaqEnXhTYYaAbRWVVkUeZrEWmvbdm3HNS2TS8m40NDSxWe783MOTf1PSGk7jh/0tVJEWiuliZI0YQwYQhzHaZYVRV6UpVK6KIo0SeIoyrKsUiVpDUBNPe4mwEEjoCqrNE3X69V8PovDsN8fDAcD3esJzizD4AgMmQZNWqmqVFWlqooMyRiTUnDJkAFD0NgcVXPpo0Q5T9bJPuN/Fdo4emqjJmpGjcA4B2SGNAzXc3s9f5SXaRzPHh6m8LBczJbLZZqlo/FkNJpUVWHZVq/fQwRA0ARKHdwZnmQkp28i0qO6vb8OiIC05owbphUEvZevXjNEzpjve57nmpZtm9bt7cf/+fNfbj99nM0e7u/v0jh1XXc4HBomcM6b8+y78vwDdWrgbVUYR19ABGRcAHJmCMP3Aq11mqZZlj7c3X54/265mGdZmmfpcDJ5lbypywS6rs0YEnHQRKBJaYQjsz8dv8JHbfk7s7W9zvoznxLVlaERkLOaTqPWVOZpuF1P72+nd5+2m6VpWaZlDUcXw8lkNLk0bcewXM4EQpu6ktXeCkjH/zQgo72LwWc3kHYLrytwNJ4HpLWu4u3m7sPbu48/lHlW5NnF5eWrV68uLybrxcN2Mbu9vbu7vU2yQlelViVpBVojA1A/41D+ZnAm0mecccYZPx1pmsZxHMdxGIZRFJVFWValVjUJAimllNKyrMAPgiCwbdu0zMaliToZXn4C6ESi6Lzc52JqTSZ4MJO0HmUIRDqKdtPpg1bV/d2nXj/45s033373rWXbgKyqqtViuVoubj9+WG9WeZ71hqPBaNzv9W3L0lqt16tdGKqqIiDBZa83GPQHSlGh8tVq/vH9+7/+6b/DcEtEnueZUpJWWRqvl5BEoSbUBIAMOQfOuZBMCMY4Q97k0KG9thwOzT64rdPjPp8603W8xo7HeK+Kh9ZsAgyRlNptd9P7+zSOiaosjceT8cVobJkGZ7ws808fPnz6+OH+7q7ISylNx3KCoGcapqrK7WazC3dhFDLGTMuyTcuyLNuyXMedXFxsN+twu10uFre3n96/fx/4gTRtU1pRHK/Wq4f729n0IQoj23U8359cXvpBjwvZ6hKek8cO3u8nRptmVh3m1n7I9kz/ZOYcUoIxAZ4fXN28NC0rja+TONa6Yu0QcQbL+eLh/nY+ncVhGEW70eTqzXd/+PYP//Ly1et+r88Fz/MsiZL1brvbbgzTDHo9x7FVVYHWeZosZw/z6XRpO/eOPZlMrq+uL8ZjIaQUPNztVsv5p48fptO7six92ev3BxeXV64XMBS6zgzUsYUdosNZGwb/jAXtV9FVnfF3Bx2tia1rcEvuavccZEwYBgC5g9GQM2bblucFcRwCsixNHu7v0zSdPdz7vV7QCwzTlMJkgkN7ajyZZngUZQqIT4fvPt/i5vfJCnXwzml8hE8oKmgC1mXszfF1jT3GuDTtwXBc5x+wLdu0LEMKwzAqpStFluPMZrPFfBZF2/u7W8Mwa48hIZ/aS/Z/YHd8O7vLUV/qcdj3qn5wCQGBIQNmWibnOByPtK4cx47CMIpDxni4271/+26z3iwWcz8IPNe3HYcxzmoFXn023dnZ9pd5YtzaVhx/vrdWN+RRN5sMHR9zeHWk5X60hzzLUI/uZtsGPFjPu5ZiVVVllWdJmiRpHEa7Tbjb5lli2ZZhXruuZ7u+3+8H/aFlu9wwGRedXteT7VG1RGoVGx2dwuNdpGnDPnkIAQFyBKV0tNsku/Xi/jbarFVR+EHfC4LJxcXF1bUfuHmaJnFkWLZhOQq4ZTumaQspkTOtngjHPh2cNi4JH82lw/d+ayv2OdnYGWecccZPR5Ik8/n84f7h/v7+4eEhiqM8y8uyBAQEtGzLddx+v//yxcuXr14Oh8Me9gAOoar7ZGOaNH6NAZY63228+uCwkUKTuKy2Fe/dDbHRVDcVmyiOwsViFm7WVVWappHGoRQs6Pc4l1VVfvr06e7Tp9uPH1bLZZ7nhjQmk8lwOLJsuyqrxWz24f27vMgRwDStb775rud7RCoOt4vp9OO7tz/85c/IcDyZ9IOeIUSRZ9vVese2dSgXETAphWFI03Jcz3E9lAZxQBJ7Q2ybF6zuCO6F4y4ffFKk6Up3x8m66hO2A41NqlnOGSJL4mg+m+62m6JIk2iXJ68kKNu2OWKapu/ffv/nP/3p7tNtkWemabueP+gNbMuuKrVZr25vP93f3Qope71efzAcj0e2afief3lxHW3DaBetlwvTsN6P33mO1x8MBoPRar369Onjxw/vZ7OHKAptxwmC/uXVtR/0hBR16Pgh9PC4m23F0ZZOHglPjyVD2o9nHc+4H9POSZEjA45Br29Z1sXlhaoqXZX1UYjAERmH2w8fHdcXwlqtlkzIy5uX//pv//5v//c/PN/3e0FeFFGUrDfr92/ffXj/3u/5L1+9vry6NqUwDCNLktV8fvvhHUdkCNfXNypLUJWWIQ3DmN7fvXv7w9t3b6d3t1VZGIY5HI6urm8Cv4fIjvhJozIhTYgIWgPxRx62h/63ot1Z1PldY3+jW5Zy8OaofbwPZJcJw2T9wdD3veFoGEVxuNvOZrPFYh5F4cP9vTTli5evXrx61e/3PR9t6RLpNgFiQyebpalLHOBAK7GzfgE8Wp6a9w7Jxk4+OLymff7k5sR10gTAOiT4aG3DJk4XGRPSYP3ByPM9RORMMM4FQ874+ILbrjcYjvC//nOzWadJ8nB3V2dA7A0GvK7Wrk881ve7R52jq1lsDovHE0/WoePUeDcRKgSs81law9HIc52Li8vNZr3ZrDfr9Xq9ns2mjus6jj2eXF5f31xcXBiWZZpWm7yzzV9Y/1fHeXRGsN1GoR7Ykz4cAnbrn41zNRJBUy7iaFfpvDokzWrfPcysk/t3tO0AQJ13tLlW3bD2XAyAiKoqL4t8t1os59PNcpmmcZYmlmMH/X6v3/f8gdfvScPi0mBcIGOaEFvzPGHnxhyWeNhfC6ieYHTipr/Xv3ZYfd1aYMCUrqLNanr7fjG9S8INaj0ZT77547/2h0PXtRmCtDdMmMKwDMvRKE3bMR1HGiYio46k0eHS3THaqzJoL7N0pJb6Lrb//3ZwtkifccYZZ3w1lFJ1jqjZbPbh/YePHz/OprPpbJokSZ4XVVUCACJalmXbzmazLYuyLMs0TbXWUsqyKrtn+ynbxkmisjafE+1zZmJDojv+wQQaiRECcMY5Z1IIQ0qlqnC73ugq8D3Pc4OgJ6ShVHV/d/dwd7fZrAnIcb1+fzC5uBwMh5ZhalWFu91s+pAmCQC4njsajUhVlariKN6st5v1ZrtZm6aphgMETJJ4/jBlQiiltdKagBAN0zJt2/H94XAiuGCNv1otNXXyoQLAPmEJQJuXrBVnaU8oqbEYnezLp6C9FaKWIQTnpmXZji2lwRjL83S1WFRlDroCKm3TYohJkn549+7206c4ii3LsRx/PL7o94aWaRVVFUfhcj77+OGdaVpFngKQ59hA2nGcycVFmiSz2ZRxmabpdHpvmuZoNNqNtuvN6vbT7cPDXZYkhmH6QW84Ho8nl54XMC5+bELse0n7SmiH1C20F6aawWkHik4k5CPVDSICWqbtOE5jgm7D4BkCQxAMEPkuSsM404hK03B0cf3i1avX3zDBOedlqaqijHfhbPbw4f3bwWBg247v+8LzpG0Jzhky0jrJ0jxNELQpBanCkNKQxvTh/t3bt/f3t1VV+kF/PJlMLq7Gk0vbdRFQ75nQQbpF2CcYOtzZrtJk/yjQb0ssO+On4NFNrp/ufWEpatVyiMg4NwyHM9dz/aCXR0GgSadpWm7XaRyFkTINUwpR5kVRlL6XcyGF4Mg4azJDdHkZPKIKALDn3Z81rlGj16KG7B/pfYigKe62T+68Zya1P8phsu+X/FrrhZwxw5WM+XVmMGgDZ103cF3ftq3ZdOra79MsXa8WZVn0+v0X6Ssp5L7w3lEz21+ku7tJfVXd8NfjVMt1x4gOpKhOelHn15DS8Vyn1+s7ruO6LiJPkiTchUkcZ2mGwKQQDNFxXc/zhGFwxuoMcB2WS43moGNm3mtL6ief4dHScOyL3vLbJt17p0ttQb2n7l6rOHh827sNgyZAuWbRbK/vaH5qrXWllSrLLE3yLN6uFtvVcrddk1ZE2jTN/mAwubxx/cD1e8B4pbTSpNrJ0WS4o0euCu2rJ8uGHSnpDyyaAKDJfUmkSJVFuduuZw/30W6tq8q27cFw/OLVG9f3AajIYg2sqDQgNyxHmOC4gWk5XBqIqOscpMeG/6cc7/fTuDuIv2HPIfH3Cuc444wzzvjtQik1n8/n8/n79+/fvX03nU4BwDIty7K6RaRrMUJr9TB9WK6Wi+UiS7P+oB/Hcb2XY1vFtxZTvqYJTx1MBKAbH94jubKWtBCAQDXSpG1ZL1+91rr6NOjffny/Wa+iKP7Tf/+XYRicCwBM0iRNEiHk1fWLoNd/8+0/XV5dB0FPGrKslNaV1kqpqh4NrbTWpKoqL/Iiz7kQjusBQJbli/ksiqLZdIaMaU26zdZp2Y4bBP3BSGtwXFdIyYQA3uirO7pyAGgTtLRDdUyzn4DujsDBqtDRkddimAJpGIHfU5fV62++Lctiu1mmSbzdbHRVrhZzxhgAqLLabLZpmrl+0B+OLi9fvP7mO7/XY5zlVVlWZV5kWZoS6TzLyrIoVam0NkxzOBxrRbvtNs/yPMvCXfjnv/zJsW3HcfI8j+Ioz3Pb9Qaj8avXb25uXg76Q9O2AWAf5PnMre+KcvSZcTjmzd3RADhMvsPBGoAqQgTN9jmQAQEYgmJMEePSMG3HcnzHz03bRcZLpTggtaVWNAFpamaE1kDEhbBs5+Li8rs//MGQYjF7WM5nZVnd3X1aLmZ1Eek0S8PdDpBdXN185/lvvvvDzatXrucLw9KEDR3QnV50xfmDwuCYSnenwFnU+f3j6JmHNn4U4KB3qtcOBEAFoAEQpTQcz7u+uXEcZ7PdbDabKI6I6P7+br1eu57neX5vMOj1erZtScOQQgIwhocAVILDc3Qarf9ZGt0+xM287egO20YfLNJdi+hhJey8236hjVnRippFpE28BlohA46MI/NcZzweL5fzXRgVZbFZr8PdVghhmpYQRjceYt+fOg6mQ97p+OKnmsvTIag1AlprQmyHzzCsoNcDANu2J5dXaRwnaQoAi/k83G69IAh6fd/zXD+wXacO+a7zL7DOpVpKTKz19GL7Kz4JbHUsrU9OQ3phf0vrG7Ln09015eSc3TtQG8k7R7X+YG3eOq2VIqWyLE3jOI3jON4lUViWBRD1ej3TtizH8Tzf6/Vs12PSUJqIlG7K+514oZ/sArV/VdMLhM7hBzXzs+OBiFprVZVJEu22u816Sary/F6vPwh6AyEkaVK6SvMiCqPNepMXleV6pul6vb5hWUIIQq7bdCmPuHR3rDpb8H5gqTPY9VP8m1quzxbpM84444yvRlmWy8Xy+++///6v37/94e1ytZyMJxcXF57nWbZtmma9eyVJEkZRGIbL5XS73Wy3W875i/JFEidAUJO0Azn8Gjw+uivOAMCJlEWtmEMEHIEhWpb96vXr0XgY9HyGWFVVFO4e7m81EUPOOJdSSiEvrq6uX7x+/eabmxcvr65fGIYJAEUea61VVTVEuqq0roiUqso8L/Ki4Fw4XlDkWZblZbmAxmGr2d7rbEC25wf9wfgishx3cnlp2Y6UBkpqRcrjrb8VKk+6+vRIHEk+XdHu4GnWOmqCIQyj1zcNWZWFFPzDux8+vP9+tdisV3NdVVrrOsaPC8m5Mb68/qc//Msf/+X/XFxcBb1+XmSQxmVV5HmWZgmBzou8LIqqrKpKWaZljE3bdvI0A8IPH97dfvqwWiwYr3O1McaY7bjD4fjbP/zx9as3Ny9f9QeDNvNq62rwrPzzBRPm0PXHo7HXJ3R8vImodfxGBWrvi4itrEWMCdN0HDvzi7I0HQcYL0tV+31qrQ+ZnrRSWtcloIWUtu1MLi+54EHgf/8XoyjyzWp5v1qmWQJEpElwJqTh+v71zYs//uu/3bx8fXF543q9JiOd2ntYHKtF9qSCGsLRNcbvhbPfsLHjjC/Dgdy1s6B9lw5xAXvraL3GICAiF8I1hOc7Ny+uN9vtfLGcTWd3tx/vbj8BgGXZvu9f37xAIKAAAQTj2BqmO8T3OCzncx4Qxyqwx+E8rSOF1sAbK+z+Ug0DRDy+2sGZHFpeD0CgmghlTVTpSpGqOOcoOWPMc93xZBQn0Xw+T9N0u17V0cBbR0cAACAASURBVCWcC2EY2KZY666wHWLUcX1pL3nEvI84UTvejYd2XXmxqbRoWZZpmq7rTS6usjSdTh+m04f1armYz7Is7Q8G/f5wNJ6MiaTgXEgmERGw9eymlrK1FZmpU7PsebTuWu2d6ra8XTeO/Amwc0R3yPfYa0RaW3RTEbr+rF7KFZHWVVFVVRLuNqvlZr0Od5sw3FimGQT/P3vv2eRGkq2NnZOmvAHQhma4u3dfvVIoFAr9/5+iUOjqmh3a7oYrbzKPPmRZAE02OTMcNqee4PQAhTLpKjOfY6N4tbm6ud7cvrAdBxlHxjWA0lqDIcfYE9TBo+CRnA699Kjnsqfr36VLkDFslarrKs+z4/Gw2259zwvC1cvXb6J4xbnQmtpWlWWVpNl+f0BkQbRabW7CKLYcl3GpehP+3mgBzx44pdaT9j+X+H9NoIEfAQuRXrBgwYKvhlLqeDi+f/e+LMvVerVarV6+fPn69Ws/8C3bNsl0gaCqq7wojofj27e/vnsrLGnleX5/d59lmZ4sF3+k6emUeQ6HjOqCWZaNCC9evm4bFYbRMTmmx4PS2jgOS8uyLXtzdX378uXtzct4tRZSIuOaNJdis7n6+7/9s64rALBtZ725Qs65ZYVR9OLlq7ouHddtmpqZZEhEXcrfzp+XiMhyXT8I49XqxctXvhdYloWcTSjwI/uhz7bV6Y7n9OQTcg7QeYwzy7bX6w0QSSl837t98bKty6autSbSmiGzLMey3ZevXr/5xz+vb269MABE5Nyy7CCKX775mwa0LCuOV5urjR+EjHHj0SYt5+r2RavJ8fx4td7tHoiIQAvGuZSe57/+5c3rN2+urm5cz+8TlA0FP2+E8xo9DVPhwskv/cYS+4zY0O/xB35ikotKy1lvNgQQrzZZ+uLq6iqMYuSMkGkC5NL2/NXm6u//+Cdj3A/CV69fh/HatlwCxoXlh/G1pqZRtuMe97ssPZZFbtRlQkrLcoIgfP3mb6/+9o94vZGOawwFe77foycNDEB3VLo7dNGmcdzWL/ipocdXph8tw3YdBk6Eg4JOd7t+Qg3IwUQKXMUrAESGjuOWVaFaBQhZlr5/92tyDDwv8H3fdl3XcbmUgnPGurzpTxaHPsYuhoLOTqbZL+fXDvUcGcxwjIEJhd/UZbF9eNg/PAiBnusi0t3dh+N+V2RJXRZNVTZ13TaValsjR7uUfvjSY8evMy50+vvFJQj61kJgXEjGAWC1XgOi47ie52d5ypA3TXPc75RSWZK4nud6nmPblmUJy2KIyDj2SvvPWFvP0U9x04b8rP7z8d8mZBkAxnxXNPxGum21Vk3dNHVTVWWZl3leFHmR5a1qHde1bMvxvCiOwmjlRZHleCgEANNgtNCdlfqFUnW9PV0nZiXFs44ZamyEQDg7ip0RPnI/jK9e/hJ4/vrmZbS+tr2AMVZX5fF42D3cFVmq2tb1g3i1vr699cIYGaduoj5fmz872n8WLER6wYIFC74abdseksPHjx8R8cWLFzc3N7/88subN28c12GMM9ata0prpdrkmASBj4BEVJXV/f19nudkIod8z2XFMBIE6DaRwLiwGbu9fRX40d/+/m9FnuZ53ipFRIjMtmzLkq4X+L7veZ6QthGTAyCX1vXtC9fzlNYAIDgPwogLAcji9dpynXAV//2f/0Mr1eWb7v23AUB3n0lIIaVl2XYQhkEQCstijE8CsnwnmMhrQsg4Xnmus4rjV69e51lSVmVdVcZzkTFmO67reH4YRvE6CEIuuAYAZJbjrZAJIa+ubhhnju3YjuO5HnKuCRGRS7m+vvH84ObF7d/+7d/SNFGqVarhQtiW47pOFMVRtLIcx7Ismsnov1MjDB535qGDc/2gcOvKQuA47tXVbRBEdVO3bevaThCFyAUhaiIuhOv5XArbdm5fvpJSmpFjSVsTIJOOFwhh26734uWrosjLIq/rwigyLGHZjm3bXhCGQRhK6XAhlDZbRTxtCyQkIEAGBGT0Pz/h/mzBtwA7leDJiJhqSXvbYEDUesgahMC5DMLAdpwgCF6+eLk/7Ha7XXI8FkV+POwc1wuCIIziOI6j1dp1XbAcabHeM7kzInl8IH7rEMXHhYejkAkBetdpAgBgAIyjVqSbJs+y92//9V//8e+CYRRFtiW32/vd7j5NDlWZq6Ztm6qtW90qIP27LEpz/g96IJanp/U26ojSsqJ45XpeFMfrq3V6OB6Ox2R/OB4PaZo+CBHFcbRahWEUBIEHwKWUiOce3Y/jy9XC+b/PnzgR8OHQBUbgOPzTWuu2rsq8yLI8S5PkmCXHtm1Ja86FH0ZeGPh+4AWB6/nCslBYBKi76A9TJnw+sga1dPcPO/JMMEvFeHrZtMTTe5l/jItoff1Kk+95V9fXwWptOy4ir6r6uNtt7z7lWUZEtu3E66vr29eWHwKyzkf+rzoJL0R6wYIFC74aRFTXdZ7njuN4nntzc3N7e/vy5UvbsWd2dwQEFPjB3d1dEARFUbRt27RN0zSDv++3l+ELP41L72MqBMY4Ax4EMgwiAmrqqqorrbSJ2iKktKTFOWdcGMM80mSWSy54GEd+EAAAMGRma8o4Z+hK3/G8aLXSqle59/L6PiiY+UOAgMAAkXHGOENAQPZ0RcgXz6PTA5+7JyI6ruu5ThAEV1dXdVs3dVXVNWkCQsa5Yzm27QhLci6Y4EpprRUgCksyyW3XXV9dATDGEE0WL9bvgxj3fN8Pg2i9vrop67pq2rptGiG4bdnSti0ppbDABGuZGKXSGNbmtBJduKGzms5OHqwTz7bhj233J3R0tBU1FzMCQpCWxQT3At88wFgumL0sATDGLZtL23Y9/0rfGn6LiAyYJmSIUtiWtF3Pg6ubVtVNXbWqNUb/QgjLsqWwkDFkjDRoTWqwv+8StfT7ve7w+PNnenax6/5LYKK7nYwKoosvQD8qzKDqWBOBMTyxHXRdT6nW9VwhJCIeD/uyyIs8I9Jt25qAiY0fuJ7nOC4XQggxTvuPykeH1657MU9o96SUM8PiR2909jMCmsAEmpQCwgaM941qmzxLd9sHrdrkuBNcpOk+SZMsTUlry7KEEGyI7NGX42KjTeejs0rO56jekF7PL5lNy91/Xdoux3Fc17Udx/M83w0456ppizyv6rKqSkBUWrd107aNalvLsmzH4VxwwU0osl7V+jlQN8uZmAtkcmt9HpfveaHxoZNAgiJNmjS1qq7LpiqLPM3SNM/SPEvzPGOMWdK2XTeM49XVlev7tuNZlk19CFFtcv0RQ9QXn/VIKS6cdxIF47Fx2YXiQyYtGa3Wlm07thNFoeN7jEHbNHl63D087B/uVd04jheEURSvwjgGYSMyPX3KOHw+07Z0Vvbu67Nyju4g9LOzRl+wYMGCPxuIKIV0XRcR87x4uH8IgiCOY7d2GWOdUg9Ia62UPh6Ox+MxTVOttRBCSlnXNfRrx8Cov242vrDN6cONUm8zN1LmcaHTJraKKZ1Z7gylBY2MS+lo0V3POEfGjLLRbD1okNSjBkCTYdW0R79oMgINE341/N5ZuvVketaUxvFtclifVc/E8wbqGSad8KOzLzTZmZK55/yGHbXvm84YDJjcnJxzsAAZl7b5BZFxJpgQAKgJqNV6dNVFhgw4ImO9OhcBkajPVk269+FDbkmbMaml1gqRcS6EYEaiD0Pmj778unczm3p8mg/YhTWnnnpT3wlj1JbRiH4YHH1lh3uNbYLICGjuDDhtUw3AiLSpYefvaHpuek3HIUyDABFDBibrrbl2QgAQObdspiQAEQJnDBnTXftqIuztGs1Q7sYoTDqehkHe8+ueZffvwaQKy1bnpwcOxhzdyzchhETUBWjujk2MHMZMgQSgiFARASGi63pXV9e248RxlCTrsizruq6b5rDfFVnmel4QBL4fuJ7neZ6QlhSccTE8E2BKjhmcTmvEkAB4b8A7jODxhOEm1Gf8BaAhs8HsEQhGK65UW1dlVddaNdS2XWoGywoCf71aH3YP+92uyNMiz8siQ85d1wtXq/V67fmetKQJhNCxt8kkoMFQzq6taJBsEdDpzDpcNMxCM3ncxLi+a3+ccDkgYoxZlo0RIkPXD/I0TdO0yHOlVZYmdVVleXpwPD8IPN93PddxXMu2OWfGzH5oHE3Euvmm0xX30w91IdwQJ+Y/BJM+GObQSTGHPxMZiJnbjSIazSyrtGrbuqqrsi7LIk+LIqvLqq5K1TaMszCOHcd1Pd/1fMfzXd8Tlg2MqX5NmzNJNhRu6Ot+2uv9podgGuav7mVE1OdXe5SaDi8BaQCGTEiJCFJKz3elkI5tc86asiiqfPfw8HD/cbd78IPo9uUvVy9e+eFKSEsj69epUUoBAF9yD0AgMhFBLzW2fl7T9aKRXrBgwYJvgWVZjuPUdV3kxXa7jaJotVo1TSOk4Iyb1a1t27puDofD8ZhkWcY593zPtq2i4DCQm57pfpV56sApT493P+BEJDyepMdrR3oF0BlDIuOSS5hc0+9IDG3sFnVEmOcWgX5hN2DmHDaNhoKAXQqraVFPS9+L3y+0gyYjn59sIKd1Hq4bNxUDm9YAoM/czMyumgH1oUY1Ipo4J8iYYEJIG/oNqmHZE2467BHRbKT43HJRd3XTvSsbM6lQpJAg5EnxgbrELSPVBej586kKp29O0oB9g+nTGw5t0m9TaFIw6DtSz8/XOLMH0Gfd0J1vksn2g9VYVZsdETN7VURE5BMS3xWx7xpje4BMSOQgxseY03Un4QHduRwyIJp0HvXBu9m81n3fT16oCUH5zJZuwc8AGmePydCnManUlEXDkENocjmA8WcY5kPmuq7jOvF6lWfrLEu324f7u/v9flvkWdu0rueGQRRFsYk77XnA0Ob8bF7qoMe3lACAWCcWGrS8QzbjfmrupjRNwPs3GLGfCfsK9nXtdKuo2rYsizzP6qpsytL13DiKbSkC31+vV+lxd9jtPn360NRVU5fRahPHq9ub29Vq7fm+ZduMdyKvqZB3KLkRDZrnIhgK3b9zoxAXelHWOB0aixYjf+0mmUF/P9yiazNtIlbYtuN5wdW1So/Jbr/b77a77cPxuNdac84ty47jVbxaNW1MAIwzQMvE7gQcco9pDYx1j5gthWMTTwbM+ZCaTOoIY8Ys6r4TABASM/HPGAAgtKR021RlnqdplhzT5JAlx6ZttNacsyCMo3gVRqswirwgRMYY56ZdlUlM0PUzG2XPMLTtMGYNjx+SovVHxv1APwd+YdrrtxwmxiSiFFJKyRA5IgIwBFJN3lTp8bjb3j/cfzrud9Fq8+L1m/X1rRdGjFsmMigB4GSOB4C+qCd0+uSr7l/RviZPKvYPh4VIL1iwYMFXQwgRr+I3b97sd/uiKA6Hw69vf63qyrZtwQXjzKyybds2TZvn+f3dnVLK87z1ah1GYdO0SZKMPOO3LB0TczbslTE9B4N+aepPpuEiJOrVGN3uDgHY1GZw2ErRCQudUd1TY+DhK80vGYwCJ8dnm5sni6BnFPRSy40biv7/Q/lPKboGQ/g7HmtkBPOTu7/TJb6/ex90fS6voOmDBn7XFXeQlvSq1GldJoZ4Z61xWs/eHW5aIpqfNtFU9Btvow663NRmD9s/HWf720dBXbMZDkwMhwS6012o2YaOdGXSCPN26622NcyEM93+Gx9lxH3N9fzrgr8UemOMaf9fDvXffZpOB/MBM/BW5Aws20bGiIAx4XpuWVZVkQOA1ipNjkq1ZVW4ru95nuu5lmVL2+bGx8N4PZAGAJOcqZ+cOy5qpuyz93diPTId1kaLOjlpVnCjGKW2aes8S7f3d9uH+ziO9etfNpt1GIV///vfpRSO7QRhcDwckuM+jFar1dVqtQnC0HFcKSQzStrTtunRGdmYJw6Fgvl0RScfaeRU3WVsUpNJP1En5eu7C5EJjo7rRlpxzi1LOq5TlVXbNErrqqp2221RFFmWeH7gOp7jubYlhbQk59C5HIFZeNijvX0qa+7qSdOAXMPf6VyPvVU4IZFSTa2atq6qIq+qvMyzosiqPFdtywWXtiWktG3H8wM/CB3Xl47DOAfELo0FsMmQHVdb3TUFAhDCBb+nse/xUn9dOh8nH6hL7z02BvZSdSCtVVsV+fb+06f3v+73Wy54tN7E66toc+0GMWOiUSY1F9CQ2GEsUtfPZ80+PH/ctMxXseeHhUgvWLBgwVdDcLHZbP7x939wxt++fbvb7YqyuLu7E0Jwzk1eKyLQSrVt27Zt0zRKKcd1NpvN+mqdJAlD9tsWjpHxTmy0etDk97MdpLkEexo9uQiJTk5FuGQU/UjJP7+Wd7c+Y3FfoYf/JjzKog30eJpmHTemQaDeW6gN1vLTS3p8vh87RzejlDnjw+cEeXb/pwyR0134oz9hF8MGz5PudKePFnVPHJu9FriD7m0e+xv0n+d5d9npMIPu5JPhMR+e9IRoNlMKTfOvC35qzIZ6/2X4jOdjgc7eRgZAoCenmjeWhLS4kJwL1/NWq3WaJlma5nlaZlmep2VVHA571/fDIAzCMIiigCFYlkDWMwucvCUnL+kZZZ2YGvfQE/3e7IKhBh3VQyDSbV3nWfrp47v//o//uL65cR0rCv0ojK43mziO16vV9c3Nh3e/fnj/zvP8zeZ6tVoHQeQ6jpSi8805s99BpPl7/Rssb+d36lsHpjEFR9kjorRkyCLXdX3fW6/XSZIcD8csScqqStOEJ9I+2I7nRnEcRnEQBIFHwnWw836emUBNm3W0uJk0f0cjh/RV45w/afI+uQF2/UEApJq6LLIiz7L0mKWHuszrqlSqsSzbsi3X930/9ILAtl3LcTmXKBghakAgQONP1CWtemyGO1viRyY61BGfsphOhxf26mTsxzqARmRARKppm6bM0+39x7f/+s9WNbbtrMJofX0bra6l42qCplUEoDUhZ4wxhqzv28HIgs1fuqkw4sJq+EyxEOkFCxYs+GpwweMopl+obds0S/M811pnWQaAJssoACBCl4UY0bKs1Wp1fXV9fXO9Wq3eue+Mn+nv5wv0GDW6fNhoYuF0V9P99Hl8Y4l/86L5+eeeVIROa/RUgT2MKpTJod8Do7Z0AnbxnCfcqr/Q7A6n+/KRA0xB3aHuhD9SejGn0LM9aIeLTfF59JuyR1vocc78k2zXFnwOk/F+xqKfik7gNdyDjFczcoaMcSmk47qe39iObTuOdRAHo7ZTqq5rrbVuVd00TduqVtmu49iOsCzGGGfYRVUE6I2gAU/LO+rThwPa+ISc6fROfK1PqmmsQoq82O0eGML26mq9Wr+4uV6vN77reZ4XBoEUwgSOtm2bCID0NOb4tAH1yNSoT5PXHT/zlpnLKS61sKmM7t1ApnLbqatGp8NHRgCcCyGkTbbj2E0TWrYjuGCMw3FfN1XbNlq3TdNordumbetaN7VqAyGlSdbIEBGGWB6m5EPR2OWJsCvE1Nhqyqep70attVZNq9qmyPM+llhSZKlSDWnFGLNsy/XDIIjCaOUFARdSCEkAmmCIsqGNsPZpKuVZGU+8uzriP5eoX+6G8Q442wWYXxUANHVZZOlh93Dcb5PDg+14/pV/fXPrBwHjrG3qsqqbumGCMy64FFJawNjE/GPKpacPHri0Hgs4lXY8w9la/CaTwgULFiz4SwIRPc9DxFa1nPOrzVVRFHmet6rVWvcxMJExxhizpPT9wPf9m5ubF7cvpCVtawzuPfHp/JrZeHL24KIGU1p+4XYzEqXnexfoD8LZwR8BXRIt6MJyTX3CHi/qsM1gT1igjY/isJM9b5vfHzjZuz9iHPnoheZEmpW5b41B6UCTf/PN9x/cv4OJ37km8BufjAAaRhPZaYMx4KQfUW/0coZlq/NzY0INAGakdOBOZ9Y2ZxgmxolXAQKAMrOpYXecO47LGLOEcFy3iLIiz4uibNu2quuqrvOi2O93vu/7QeQHvud6rudyxozdbP/44e4agEOnHTcux910TkSGbCKQ7qItMAATa2IQU42lNGOcC+n6XhTFru/Zttu07f39vWVZgrF4teJSREEAShVZWhZZmmZZmpRV5fh+vL4KEYXtSGGS8Jm1RCOiBkIgAhzUi9RbYOsTiR1NnNHP5pxZf80b4nQm7KN1IoAmRCCjuhWCe57HGHNcLwiDME2LsqjKsmmbuix3VVVkaXL0fM/3A98PAsdxpWUJyXreOcoKeulq35jDetI9uS98RzVx6AsAzYBa1bR1XddVkaZFlpVlUZZlXZVAxBmzbV9almVbrue7nmfbruU4KGQXVMyYc49uPgSA9DSRetfvZjGcq+/H9p3LPS7fedgHdBHZoBtapitIF1n68On9/d37Ik+lEEEYXF1d3VxfIdJxd1eUZZblVdN6XugFgeP7nAkhRno/32hA37fD8bMILzT787ym60UjvWDBggVfDcaY67mu5zqus1qtkkNiwqFUVVXXddu2JuSSZVm2ZXuet1qt1ut14Ade4FVVZVnWmC6lj5H6bblwp8rIfjPQyZpPToTJNuhkiTu95zeU4w/GxJvrJKT3hcJOd9VmO3jq5n2KPpDW2HQXNC6/O4aiXwoX9gX0sYk669OTfcn846D6AKPRxT+8audV+a1jatBFn7RVryNCGANL0eCGqk/CHi34aTGJD03dm9y7mA4j4AvD4NGJkUiRMnyKMyZc1/U83/fjJi6L4nA4HPeHY3Isjsc8zwAAEYIgWm3W63qDG7Btm/OOjwEgzqIDjpEDoKN6hu8NoadMJiTopj5ghtqdEHJDzAiIC+55QR03nhdYjtM09cP9nW7bKArfvPklCkI7jGzbKqu8rKv27dvtbleUD9FqdXP7UliWzzlIC0z6JQDow1ob5myYme7nGhomTJrZyVPPpfs5aaLph3m5z772TdNFiOysA7roWgwF94T0/ECvVZ7neZ4f9vvdbnc87Is8L7KUC27Zluf5682V1gRAjKO0JAF0Qa2QRsU5EXTSinlRhrhp/XppCCmO/5Ruq7oqiizdb7eH7bYqy7qpich2XMdxXN8Pw9gPI8d1bdfljA88XU1d0IcB9zUgICTqUkVO/AW6R4wBRaGXdVy6hclZgQigkVi3+egzIwDpskju797fvftX27ZSyigMbq6vb2+utrvDfvdpvz8cjseqaldXt5peMC5sy0F0Jgkc8ax6es6lAWCefaNfqZ4Xi4aFSC9YsGDBt8EwYSmk7/uMMWEJz/fqulZKKa1MNGPBhZTSsqwgCHzPtx1bClnX9bB6kCY9xHj+Gly6oF/+x13jzKr2q3SePyBMEuuxKufy7NFh93SB/iwxnqnh+/b7Tlx6fPBXnn/StY8xVxraplMrmV2U/uO59LQUvx3j4H1kC97rGy/8TPo55VJZ8E2YKLOGUY/9NPBkb8xJAOFLT0AiDcgQkAgZ41w6DmlNjAvLtmzHybO8aeqmqQEoTY51XedZetjvfM93fc8Z8h6bO44Kyf5lHV9QAtJAqGlanE4wSAR4ZgncmWYjcsEdx72+vv3HP/552O2KPD0eD+/fvnWkdXV1FUeRZUnSZEmBQFVZHI+Hw/6w328t17UcxzGGxkDatOVE3stI6z59lZkcZwGXTyfksSPMWziE1/gMeZwQ7/ObmsQPgICIXErLdYGIGGeuY2dZVmRe27ZEWiuVpsemqdLE94LA8wPHtm3H4UIwZKwzsQcAbYJtj5KWsS/GVu97SZNuW9XUVVFXeZlnZZ6VRV4VJejGksJ2bC6E43mO4zme77ie7XhcWsg4oVFEz+5u7j3kSHyy8xGNRj7USVtOtg80o6qXbjHIQfoAmwCEXXIKVZVFW2bJfpsnu6rIHMcJg0gKcdzvqqrY7/fHw6GsG6WIcSk4s6QQnBv//Kmd3Be49DTi/KSkz45Fw2LavWDBggW/BVxwG20hheu6q/XKOEUPns+ccWTIGJNSCi644IyxQV02TQBJ5+vhF0AwjYQ99QgkIhpjO01wkqDiWQEZDosunVRj2KL0YVe6dhjq26uyPwcCnJr+DVz6R8Rg2DnqIx4Fzb9QF1rmWSXqfAxdVz0ehowGteRzHfcLnoQJY5tRt5EfDdbK34rB/7Nnj8gER7T9gDuu6/t+EOZFnqd5luVpkWVZmuy224Nj27YTr9ZXV9frzdpxXM4dZJ0edJzAxxpMqMiUhw5FMCbil8azAkAAzoTrODe3L5Dw3dv/+td//9dh9/D211+LLH/18uUvb95sNpumbY2zblkVaZIcDrv9bu+HYRhF5laDzfbwnC46Zacun6QJnvsYmYoMDsB9nWaa/ie+ioigpyHIzI2oi90vhEDGOBeu61ZRnGdZkaV5luVFWuZ5lhz3u8a2HS8IwjCMV6vVauM4DrMsxoyAhXpbexoo6VlFTPxuhoCalFZNUxXpcZsc91mSlFlSV4XkUnDuOJ4bBI4b2J5nO56wbM4lExIZU2Qij+JQcfN3jOhBU8/0JzYNAenB1r7fT/TDf3gMmhXwwp2JCAHJpApDbUKCIyJpKIs83z8k+4ciOTRlHob+erUmxO3DfVXmSZKkScKl5XihH9mWlLZtS0ugadVuKzINkDF9Op7kVZzLuaZpTJ7TdL1opBcsWLDg22G8oKWU4HzFVb0BX7dg6G9QmY3C7VGwS+MSdK5Nfc4sGqDfNzyyLRhE37O931Rh8nl5P03OIngsqPWPhG4DNddx0Ok5E2G/iZw029c+e8xrcrEhzCfjibrgp8bU73agXkPC36+7F55fMQjqqLsxMEQUXAgBCNKyHcfxPM/KHMuWDFnbNFVZlUVZFqXWGoiUUoHvB2EgLUsIIQQHTtipWLvHTmWjl3WVn5nMCAAZIkop16u1JWTb1kmSlEVeVfWnTx+1ajXpPEvyPCuKbL/bpckxT5M8z4o8q8paKTW6sML8Qb0dy4ToA4wm6NOD/WcaNI9fnIEv1abPbU+99rtTJSMiADIuMeg04wAAIABJREFUGBdcEFiO6zq2Xbqu5VjiwBBBpWlb5EqrVrVNXWmltNKBH7qeZzsOQ8Y5QzzV61PXx4N3ugYApRSRbqqyqvKySJPjLjnsqzJvqlIrZUvbdpwgDPxw7QWh5bjSdoFxQgRA3QVsH+Uj09b71lnYWGafRsg4EcLAZ5b7/uzBK9ocRYBWt3mWbO8/7bd36XFfFWlThW3bNm2TJEmapk1dt20jLcd2HD+IXN+zbFsIyZATTMj8hWCTw9f+4NxRfhSCPbddykKkFyxYsGDBAgCAk0itCxYseHYwwakAAH+T+8KlGWBUKyJNfX8JkDEhbUSGnDuu67peGIZpkpRFURRF26qH+/vDfh+EYRiGYRRFcRQEIWPIAE2+Jda5UCN2sRXNA08T5J2F0qBZWbtYVigt2w/g5vaFUirwvOPhcDzsdvt9nqX/ybEo8qosHh7u7+8+VXXT1LWm7j7909F4SOPkwTCjSd+D7nS57anTY/YNTqeslDFh2S5D5My2bDcI/DTJsrAsy7qu8ixvmsY0/mq1jqLI9wLP9xA4jlXu70gEQEgaUSNorXVZFGVR5NkxTY5Flqi2aduaMRGEKyml5/me69mebzue5biMS2AMAIHQGA/gvL3mLtlTdft3BIJRRRPRGPSUtCJqquq43358/+v+7mN62FVFdo9YFCXjghCRi3Ad2o7rBXEQrYJo5QaR7bqcC2A48wT4K2Eh0gsWLFjwJ+DJbnsLvj/+iruBBQt+FuAp2/w9ed/EqBkAeoNqZEwyLqV0XBcA4iguiyLPsoeH++3D/WG/2+6PVVWEURRF8fXtDefMdV3SHAEZIjN/ei5tKtFxaZySr3PqNZZniBUFwCzLtiyLMeb7/ma9/s//79+zNNlt77PkkKWHqiyauiirqiwqIa26rklrGKn0jK4Pte1LpP84Ln2ivoSBS8+1nLOCAUMEy+ZgW5brqDCMmipLsixPtg/b7cPdMTu2+6ZtmiiOqrLUSjFgnusyBDbmjO4iXBNoAGKgERQika6rIj3u9/vtw373kGeJlFJaIgyiIIqjaO26nuv5QkouLcY4AWjjV0VoDOE7Lj3pm3kV/7S1xiTg7DOMgMnn1dTVYbf79P7XZHdX5UlTFUVZbndb1wvdMA5Xm2h9ff3iVRiu3CCyPZ8xjkIaWVCvIP9yjaZm7T8BFiK9YMGCBX8Gfv8lZG7mO7Pu/hkcYqEPJTvasl9Yi3ulyYUILJ8xiDw/8oy4NJ18OUlIcxrm5lstLX88TKs5i3JzctqzsxVc8NWY2W+PAZc75TT9PrTvsddmetywTS6E7TgAoLQSgjuu63l+nmeA0LT1frdr2/Zw2EdRvI6jsizrqhpcuJEGHSkyRHMUH3ve8Nzxxz6UIKIQ0vU8rVYvX//COdtv1/vdw/GwS477NDm4Ta0U2Y774uWrzeY6CEPBRR8yfGy0kbubKGc0mYZP3rrpsQvpr74w5zw6QZMeqVdHTs+TWGsjjyBOgizX1YwjIFpS+H5Q5nlR5AwxS5K2qtPjcbfbxlEUrWLOudaamShkDAlQq7Zqqraq0ixLkzTN0ixJm7oWkkfxynVdx3U93/f90PV8y3KEtJiQgMwYctO0KpNeuSABmI3KJ07I9Mjnvqlmv+Jn7aR7+QsCAKi2rcvyeDwc9rvDfldmKWolLdsLYi9a+9EqWK2DeBOtNlF85Xi+tF0upHElOE91/ph19zwowKTI/YHnOFkvwcYWLFiw4LviseAfXzUbT/KjnGm3adAtXArU/Uyn/G43N6vvNDT3bL3uA0x1xwHgqzfSz6KZaN4gk5g1J709tNdoYPgsKvgUEJAm4GAcMk86Tnf5YJatzs+NL/fuwA9/7weNsw4QmKhNAJwxtCRnXErh+34YxvlqnaTJcb8/HPeH3X6/20opb1+8qG9fIEJdV+btREIYDbwBABiBBpwE/Topx/DCj+bDBFojMEImuIUO50xKudlsjruH3fZ++3B3d/fh/u6j1opx4XnBL397c/3iNgxDaVld6OVuqujciLvMV9Clk0MaKO0oupxkjRoXsyEA1Rdn4N6U/fJJE7ppBCMXRMOmcIiMCbAcV1rStpwojKqiSJJDcjwmh8Nxv38o7pwH13Hdm9vbX/SbKIqU1ohowp1oAqWbqiyyory7u9ttd2VZVlVl23YQhH4YBH7oh4FtudKyhZCMCcYFGDLZz8MEQMgmBT9lv/Pp+bRHP99Kk8AQZsLXZwO73xrg8PUxjHKStmnyPDvsd4fD7rDf6bqwLem4zvrq5vb1m2hzE6yu/GglbU/aLuOScQGcAZgcWoMIZUqe6aRqODV06IbOZOyMYoAl2NiCBQsWLPgsfge7brq0Rl/6/vQff2icLMqjcJ9OdiWnV/3E0HPJPnSxYUec798uj5nni3kN57vryXbs56nwgsdwpu8j0qN+8I9zpTmlsAAMAQA549xiQjDbdlzH8X3P9X3GuNIqTZMiy6uysqREBIaolGrqqiorpVSXaQAYQ8BzY9nT748WSyNxhoxxIRxLWlEUhaEfRGEUR17ge75PRFJaXuC/fP239ebK8wPOpSaTgLmfbalXspMe9dLjUzqefHE5MirRpzQ8zj9/jvldzP3V/9LdAZmQjKGwbNtTXusHtu3YlouAVVWXZVVWVVlVjDEhZZ4X+902z7OyKKuybAmSwxHFfVoUh90uTY5GnmDZjh+F69WV5/t+EAhuIeeIDIBRx+1HhkwAT8ieeEI7n4pO4tBfhMjGBhko7VeM+e5GWuumqeumAUBhOcySoe+vVvHN619e/PKPaHPlhWvHDwCFZnzIZGbucPaYR20LJpYFNPMf6EbQswyJuhDpBQsWLFjwk4A+uwn7KdFXeap9GLRZP4H99oIFvw/+uABZZ5SIYM4HuJCOi5xzIUQYRWlyTJJjliaqbT99/NDUTV1VbduaQiqtAYAzZhh5X3p85HXGORMb5gFCAt1HzkYGyLjjeoyh47pBHL989ZoAGOfSsoMw9qNYSBsF61XRfTW6ENZjXf+4ZnwqJvrKKafu1ebjIQIAxhgXrudzLqRlh2GUJElyPKbpsazKf/33fxFRmuRplpZVXdRtS3jM64f9kZjQBI7neV7g+IHv+74fuJ4npIVMEGNdOLGuHECjmIF6RjsI9k76CC522ZOBJzXvnNp7Z2/o/9/LYZ52U0TGmG271y9+QSBLyvUqjONVuNqEq7Xl+MJxNJOEjIA9bkCAlz4b4kxgvP37EYoIyJGxy3KRZ4SFSC9YsGDBswT9JXnjU/BXbZMTS75nvj1ZsOD3xmxr/7tiQoy6e+uJhlQIISzpeF4YrwgoPRy2u4eH+/v373799OlTliRVWahWGW2n1hoAGWcjJ0OEiXX3SXXo9MBQDuqiZ2kChpwx23Md34sN7wMCQEIgYMaYhQA0kT4JsTCpmlGw/lDxNoa4071R8JlDLgJyYXvS9f14tVbtqyLP3r3717u3cHf3aXd/fzgclFJtq5pW10q3BHBIQN67fhyuNvE62ty8uHn5yrFtIQRjvG8ipEHCgAAdh58qaU+m329RPp+gj+U+mnZ35HlU7XZVnvi1P/nmiIwJ23GuX/0Srjeh719drVerGJEjl4SoAQhQE+qRyeOlxebCc3Gw8O9MLNAQacY7Jv2sEzIuRHrBggUL/hwMWX2/6VqYbh6gI9VEs19H7cT8wt+KP2XVm6TinNYeH7FwPzH5/k07mB8NgzUpnexrLyg5kIaT+paiPojsVz7zRwT16r/xZTglHPrZ2Qou+Hpc7GPz6k9dLs2U+6jp6aWDn2ff46/Dz3qqkB7MfGnQFHLLdsIoRgREdBx393C/2z4kSdIqtT/s7z7drdYfPNdzHNd2fSZMCnQ2f9zpPDg+DAeFOAHQaJHdOxifpwUzk6WmMd/xMHvixGJZE0yoE81etfOlTBPOXF0/NwNPVfoDztSdJz9OSj+GQBvuhX2gDOycigkBgXFu285qtQEA1/PieLXf7bb399vtgyZFmpCJIIz99bUfb/wwDqJVEMfSMuHEUANowwVPWn1UOeOFHpkVepZS+nwo0uRUPP2J5g8Y+vji0DSJ0B6f/CYeyRoU49zxHMZAeZ5SjW3btu+DcAi7bNja+Op3C+50XMzqPJMnzIvZW8ATadBtU+dpkx3z3X2622KdFsXqeblGD1iCjS1YsGDBdwXNOF6nNtBaf6WFE/WOaR2PoHnosdM4tROm8Vsm/fPtzncCAhJOokmdbKou2D12YXHGs3+exQ77Hdh8n0pg9AQ06kP67LAwDhYa9ALfgB+rDWeCIg10HlGq51DLVufnhu629dSNhnGOnYQzGiN7T0jAHHMaYOxjZ7xn+uulWaU7Y/BQHQiRJmKd0EtzKcMgch0nCILb25v3799JKYnocNgf9gdLWFEcea4Xr682Qkq0EfsgZhcfNj0wzvpEQKDnbLebEzXM4oQZgtTdgPqLcXbAcNXJajMh7FORQdfOI0mDfpX7nEn4uemzOXpiDD25AQ3nAOBkmht7zPA9IzYkMz0AIAAXcrVe+0GwubrO82z3sPt//5//+3g8QFUDkOA8Xm9e//N/CeIrx/Mt1+NCcGkZFk2aAJAIx8J00c86M2pjW9410qTs86rRVIc+WaGGwdLN4LNFbm6xPlR+aJnOiL+75xi968tTHxEBMcEcdG3bNsHiOEPGhcJeHjFsOCa67lmXnQ2YSa0JjPreZAIjIqXapsmTJNl9ynZ3xfaeqbIsb5Qeuf0XyvwjYdFIL1iwYMH3BnXM97cSk9kNhn3MpdNOPvyWJ/5pit0nOef1pdPj9+e0Jj8NZsM2cIdLAYlPdAKz/do3PvPHw3w09gxqBP6IhV7wB+G8s6fceTZZPjYwTg5rINATkw8Eoxi+aKY70sl+zkHo/XZNCGXdRVImzhgT3Lal6zptvNJEZVEWRZHnudaqKPPD/nB390kpTUSO68kuKbRgbO5UesKihz94SqHRMHk0wb9ID+1CAEZEOeVE0zuNB7soX3T60Nnsgz1fNcbobCY3fhRDo80alIyXMcGs2eHkpb+4II2zHQ0K5I74IkdHer6PYRjUde27/nZ7/+HD+0YRazW33Hi1vn3xyo/WwnaYEFqTMubcRJPGGaS32FkqQy/CPF1yaJTOzBiuuQ5xOhoRhmjb563RyTIGcyQ0TT+00WljPhGdnAMZtzhDNNHLiEhrpXoB/SC3IOoNzPs2xsvdN1lviEATkdKktdZt0zR1UxZ5sn9IdrvqeKjKwoZWK/1DLjJfxkKkFyxYsOC5g8YNTRdkBEax8czG8HfgwcNa/j0xaBvMJhK72DvYH8HJWWPZGIIe2uF5rNJPatdOc2E8J8fD4xZtsuXEMTLMNEvW1/Xfj9x0QxTfYQz0YXe+qaoL/gK4SL9GYgAAiKCV1lrp3lCbISJDBI4AwAY60V87yDFxykonL+LgHAoABFoTIgEiF8x13DiO8qurqqrqurIsu2mb3W5XFOX9/X0QxXG8DqPIcVzHcbmQjDOG3Nytk8jOCOfAqUd2Y0qn+slh4JWE41szaYTxw4n28ysmgrnk7ovU7rRLNBFp0qr7qgAZZ9zkxwZ8RBSC4yTQ37VbDqknqURkWCIgomVJz3dXq9X19a2w3bJWIOwwjB03kJZNwFplyjJIC3AMPD1ljd0zBkFD1zl9xbvVmZQmrZAAqDM0x65GON6502kPQd16/j955knd6dJfHLcFTwR1gh7SZmBp6kQ/NNpXzLro5MukS0zF+7Jo0tTqVtVVWVdlnmZZluZp0hRJUyTUtIILR0opJWMMLryYPzoWIr1gwYIFzxpnCyX2CzswIv3ISc8JCJ1lG/UMEnoeaX6ncSM4ggEQAEPsU2p8sz3zH46zbfdTTj8VHwBMtEVkNBbATpyhH1HgfBY/aKMBwCVlo0kMg9gF4vl8BpoFfylMZYCX9MmdQW334mhSWrWqbYlAEwghOHAEBgxxFsm6F08N6es7Ln3hTTPHNRBpzZCQIWPcce1oFVd1VVVlVRZa66Zpdrut1qSVXm82L1680rpVYcwYsxEZShQz0eDo8DINFA0wTnqjSnbKbaczyVSzeOGV/9qZYzxZAwIQ+yyXNk1nxBOd4pdIq04nCoCIvPsfM8ppfeFep/MhnsgZ0XhtkyIEIs5RSOkF7mq9unnxQrp+XtaayTCKXc/nwm611poISHfNN4gkELoAWdjLKodnaOi6nvq/5gcirUgr3areNByRAwIS74YL9XKNSVSuQSrahyQ/66S5vGI84etgnk40jScx+gfNRfPTtp587uy2578SAmhQpHXb1kWR50my324Pu4f0eGTUMGotplwhHMeW0mLIESax0J8JFiK9YMGCBX8mvpHdddyRmFnSzT8gBELSnIAANejOrK1bmn5nRvR9ljvzFEa9fxVoAs2AEDR2qVkIadjUQNcIjJA0IiPQHIBgyCkLPyoz/KLOZnomAJgdvx7aoQ8jaxzSZq3BgAQoDdS5vD051NiP2VIDxlcANCPNqGsEpEFv9CwTky74agyu8ASTDu81gVN60FOSCavud/+dvyu1baOa5nDcbx8ejkli7ug4ru97nh+6nut6HucCuUDODAW5UKJeAz1T6hqPXSIA0BqMPrK/AQohbceVlhXHK9fzqrKqqkpwXpTlp48fkyQ5er7j+p7nO64rpcWFZIz1Gto5peq52WlphsL2pRnoYf/jo2/LJPbCoN6d3n6ylnUGwRPqrmmWzWuKkRMTEbV1XRVFWRTp8ZgmB03EGJdCeEHg+b7jurbjSMseBapj+9JUCT8rTydJHeWMGgAJWceSe5lCNzC6FlFEvQtW59Z87giMAEB6rqntZmCz7BDptqnqqqirosrzMs9124ImxpjrR24YSccTls0sCwGnLXyxA0619mPlpk8fWv0pa0ovZ7mg459Kn8dbjS/PxGp9IsPogr6QVm3bqLapqrIuy7LIyyIv8rytG2lZq/VacrQ4MV2xJrMEcC6gG5HPbL5ego0tWLBgwXfF6azb7fToK2fjni+h4RKGMmkkjb0XFwf8Q2f4bk3Xn1v6fw8QACDrNoucDJHWfQYX6lJr9PtII1BgpLFXDpjm4E9/2J+Dr3oyGoNOTaYpNBrTA6LuA1BHMokYEe9brPt1qrP5luL9UBoDYqAZMA1qGP/D2Og29PC1L9eCZ4bzDqYZnZ463JpZsRMmdcpBMEyvO9bWVZFnH9+/++///M8PHz+Yu4RRvNlcb66uVusNADmOKwAYk9QJK88NQ3rt6lQJzvpQWGaU9vxMa01ATHDbceLV6vXrN+vNJk3TJEmzJM2y5HjYW5ZtWXYQRlG0Clex5/iu50lLcC6AI+qezXY2yCevLE5bpGsgY1bce27PfjxT+KJRBBu+3BsBw0w1St3Dp1rg7hQ4USKf3L1rFA0AUFXl8XjYbx/uPny4+/BBay2ksF1ns7naXF/Hqw0SCC4RERmbeD8PxTm3PKKhLBPTaCIzgU7WX02kgTSRUhqFNr690PmVwwlL76s1jRw2lMMsTJq0At02ZV4khzTdH7e7ZLdt6lqrVnC+un65uX3lx2sXYy4lAQAOq/eZ7HuUGgxy8ZlJxXQVBG06dy5b+RxO2mxKnucUevphFniD0GTEQtKkSbeqbasir8oiTZI0OeRZWtdVW9eW5fh+6PueZ3PPlio/lMk9b0smOGHXC89rul400gsWLFjw3dEtlk+Jw/LoDcwWTCulGlVVRZGl6XHftNS0nSvcd1iLTvYQf8wjzAaj2zw0VaWaqsiTuiraptKqBdBdAlSNbWu0GWmeHqQUgGzQPv1oa/NvLQ2hJq2qoq3LqsjapialgFTHHrXSqm3qssjTIjsKaQGYDUpn+onDnycUcqbkGvHn0+nOWoEBZ6ytqyJNqiJr6lIbR8QFfykYM9xxcjX0Wusx2NRZnKxeSQudoQZwBEVUFvlht/304f1//8e/v333qxQWlyJPk6Yq26Zq24ZIB2Ho+r4DHiJDdpabanzCSEQQgDQh62I+UydE7R2diRgyzrnjuPF6ffPipeumrpvshFSqbcq6reu2ro3Bc9u2dVA1be04jmXZ0hKmGHP2NZZnyLc8LZjJykUTO+Tu10tm06QBGQHg3Fuoi2o2nSk6agpDtUxZ6IszhiYNpMs82z3cf3r/9v2//vXh3Vsgsl3H9f2mKpumbupKty0QSduW0kbGaDB5xvOXnk4+dJpX6lxfBgm2hqHAXbHHYdNxaZiwShyH0mm1qF/YtVZt21RtXWbH3XG/Pe63x+1DsttWZd7WFTLWtI25gAspHQcYMxEtBsHE6Y170QvR8I9gFF30Q2p67ZOmwYtyh+6RCMMIgZ7NjxTaNGb/C2mlgHTbtm1d13VZZFmeZ3ma5nlalrkJV2c7ThBHcbzyLOZaohKamkyX7ZAP/NnN3ELrHyq5+oIFCxb87CAY+XMvDgeCr5uNzcKuqamqrCj324cP7351Xa9Vqm2GRR5PL/hd8TVL9W98CiEadZFum0rV9f37d4ftfZ4ljCEzWx/SSuk8TbYPd4Csrps0SUwwMuiI9B9bzm8ADX++7UqtdVO1dbW9+5Bnh6apbFswMB5pTaV0st/ff3zfNE2apo4XDFYP/Y764r72IhkY9Urnaok/ERMijaquP75/+/DpfZrsm7oy++RBmrRsdX5yUK/Jo0E+qcdxO1A7cw5MXoBJeH8GwBE16SxJP3348P7Xf717+6+79++COI7iVV3myX6nVVuVRZYl683V5uo6XpNl20LaXUBrOp1yZyza2GDrCVkgADI2PdhTPNAEJsKZ67pCCtuyAs9LN2mRFUWRKU1FnldVmWdJcnR93/eC0PM8aVm2YzPGu2iMXY0nErPJM7smQxOMkaDnSZNZ8lTwiGgoNE3nrclJA5MeHEw09M1Lk/+mp/Z37npO61YplRyPnz68+/W//uP+w4eHjx+EEEEYIumt1mWe5WlSpEVZ5PFqs1pvuLQAGUxkE9MZdRQrTOj8UH3dx9GggfxSF/Grd9MG0kQMQBPNPZSNeRQaN4HxgYNwQWndqqZKj7vsuE92D8n+IT3syzyry7RKkzxPtWp7a3G0HMcNAyIBKLsFa1Q398Nnavc9ta6eLSFdZTsJwDjwvxkdl+6fOnY39nIok3ARiLRWbVM3dVWVRZnnZZGXeV4WhdYKAXw/sBzHcV3XC/wgdB2XU0vQGhG4KaUiTd2tntN0vWikFyxYsOC7wtBm6i0Cu4O9s9rX3qyu6zxL99uHj+/eSiFaRao15rs4WeP/MBb9x8PUgXUOsbptGtXUDw93h91Dnh5t27IsG0BrrVTb5nm6e7hXSldlkRz3Q2zvH1HOPbF6/JZriUhr3TbU1Nv7T3mStE2llY1AoLVq21bXyXFnfbKrskyOR9vzx9CzMJLpOc5J8lhIOj3tzyfSBhyBI+imebj78HD3KTnsm7piMPo+/GjGCAt+d/TEZzxAE85nPugTCt1fiP0/jsgYAuk8Te4+fvz4/u2nd7/e3X0E0J7rVCVXqi3KLM/S43FfVyVjzHFsRBBCALKLLzOdfMHeKZkAEPSME6Fh0V3MJ0TbdQMRRGF0tbkq8vzh/v7h/u54PKZpWlWVZduWbQdhFFeVUnHgB1JyhgDIR5vyXo95QsuGFut/HC7oLzury1SnbQQGg059cFA/qfCMyA3XnjdL301K67qpj8n+7sP7d//6r/39/eHh3nYcBsQQiyLf7x6yNK2KqmlqBPT9gHGODEEjsNmdBzqMwzRLw5/Jz9Crzc+IaR+sHUh3IegGLt1p74fnzRThBEBErdZNUxfZcbu9+3B4uE92D0VyoLYh1ZT5Id1vm6rUBEqTsJ3oaqPaW5Ssj/k1pLmadFe/Qei97OeW9b1xWy8w0r/DnDeqmiftNbQfURfOEdFwX9KqrsqyyLIkyZJDnqZVWdZlKS3L9X3PD1brTby5sl1XCMk5b6tMldkQEb23rX9+k/WfSqRNarFedjL21l8Apq5dYNHBjetkHfizCvfHYLYvO/lpyGAzpCe4NI/P8MXWeR6GfVPLKwAgRJMkclyuJt4i37rl/m1FHPDEl/M3Pg6nGx0TePfyjv9nwDfbdQOAJWUUhOs4LqsmSdK6KvcP9xxR6c6WsTOG/g1k7fP4bm/YzLSbSOtWqzZJkroqOaJrO2Ec1JUtOKvKiiEWeUKk66pMjgcwV/6o08Hwbn/tGO+mSNKkWlIqS48MyXPdOAo363VdN4yxoqxU2x7326oq7TSRtt2ttpef9ajNNp19+NFWakRkCFqp5LBPkyMRBUHgOnYYxZZlMeQ/8Ryy4FFMmDSc7Sho4gAKACcEW6m2bmrSJKTl+8Hty9f/6//2v3u+b4ybm7ZtmiZL0+3DHQCsr64ZE5YNiAIvWBeflWo6GPVjceVxKtVijFuWHUURQ3Rc3w/SosiV7rLyJsdD3VR5nrlp4rqu7Tq2ZXMhOBODtnd8vKFb00zUOC0WfnnzddaST8fFk8lohglU07ZVXZVVnmdVVQvLWq03q/XmxavX6+vrpm2btiHAvMg+vH+HjHEho9XaD0PbdU1Qwb5b8fRRF7t/PIyzzdh8tphHaD+5QXeTPv9eJ7mrmrpI9+lhv3243z08tHXj+pHnh4KBYHR4uJdSJoe9EKKuyrrIm7LSTcUZQy6BdcIN7B7+WLNdaNi5bPbRuf5L6FpvsLUeHtANkY5CGxdz1WjVVFVVV3VVlkVRFnld123TcC48P/CC0HYc1/dcz/eCQNoO4wIY71awkf6YTniWE/WfR6T7uG6q1WSylgEA9PEMYAzvN4SlG01EngkmIfFnojjsg/wzxrCT5RhZjMmcN5z7g27+vgGTl2N80c2MjoxxBgxx4I+6k8d2OQ9n95iae9Djth+929PvUvg/DAzZrBJExDgT3bgwR0BrUlp/pq5PwVSq+VUX4nx78cc9bppdAVkX84UxRMZ+sE11NOMAAAAgAElEQVT7jwLHtldxdLXZJEm+5UyV1f7hoSlLTZ2D20wD8buq5L6fae+wLgwGyZ3To26auqlqztDznKv1qmkaS4o8S+tWl3lWV1WeJZzJycL8Q0+nX9+Sg0mDBq1VUzPEKAjW0erm6qosS3OOauvkWGdZKizJuZjtJvHCp5Ovl3RHp7/+CEBjdEC6LIq6LBlSEIZX69UqjqVlc84WIr3gUUxUlIAIyBCp1appGkC0bSeK12/e/P3/+D//Lz8IW63Kqrr7+PHu7lOeZUTQNA1n3PdCzgUXDBn7jUn2qOOBaKY9pbuCCSGCMPJ8PyyKLMvyPEvSNEvTummqpDwmB8d1HdcNgzBcxWEQObbDHcGM1e0gmR9qPJA/gF4lPTRGT0Xhe7zkg6aVCJRSVV1XRVEURV1Vju24YfT6lzf/9j//54uXr5M8y/Ls4f7h7u7Tbr9DzrgQGkk60g88pantS/uZsM/dtvNUh9FptkZCjR0HQfY5uUKvABwNABCJAbVVmR722/sPu4e73fbBcbz1+iqOV64tPVvef3yLiIi81VDXZVXmbV3otmbS6gMloh4sqYC+nl5+e7edyJWgk6wYvQYYvR8i9OVUqq2aqsqzNE2TLM2rqqyrEpFxLriUru+5ru+6nu25tuMwLpjggJwAlJo4WwxvIcKjod1/YPw5RLpt2qqqqqouy7IoKt3HEcX+f2eZLycz02+bpL4TLttodjs5hsA4E5w5tm1Zlta6adq6bpTWbdtO7D1/6J3fV+HEqmiYzQlAcCYll4JLIaTgSqm6btpWta1S+kSBMr3NExXWP2oTdoO8F/j19gjSkrYlLUsyxhhnTd2UZVVV1W9UK17aED+xmKcf/qDHDcLwblOMAACOY3ue6ziOlJLzRa00g5TC87zQDxzbEoy3bVOkSVtXRhY3F13Rb7IinuP7segTIc6w1TNRxQAAwJLStmTg+W3bgtZAWiVZW1eKSoas1/X0b9lXjp8fZLQ9UgyiPjY1EjFEydBx7MD3ojASQhZFURSyLYqqLAmAcY7YZ9r5ska6f8b44Qtk+/Nl/S5AAlBN0zat5zqu68Zx7Lqe5BwZXl6QF/wlQE9R0xEhsvEsRGTIuZDStpGx1ebq1S+/hFGslM6KXLVtluVVVWRZ0jaN7wXxZsOFsJFxLr44zU6VCb0CuDcxOTnPOBobGsOYJSQXTNq28TXlQiJinmUF6bquy7Jomka1rdJaNa3n+Z5qpLQ454yJzupv2F7iXB9/sVUu1GSmiD0/5+SKufz2y8/QWqu2aZq2adpWa8uy4/Xq+vbFq9dvXv3tTZJmSZYoTfvD/ng8Hg47ZMgEC0J/tYqh2zH32+ZeF/HIU6eOVENFaHbGhdrPpQ+TbQsNSm1NgLou88Pufnv3Mc8y1bZC2n68uXrx2nMt37GIKDkc8izPiqLOy7atVduQakC1SMoo2tgoDT/JiXVpfF3g+oO66iuW/Yuz/GDfjd0irI0HuFatqqu6zKsiy/MsS7MiL5VWWmkhhbQsx/f9IDT2ApblCMvqrei7cG/UO988vYQ/Jv6c9Fdpmt7dP9zf3++2++1u16qmEweNO+WTlj3JEv6jsqMOj+7XzIAUjAnObNta///sved2HEmSJmrm7qEjBQRZZFX19kzPztmzd+/7P8yemelpUUUJpAit3PaHi/CIzASQoAJYtEMiVUS4NrfPlK/Xl5cXbdPusyzLi6Zpm7aVUtrTz89p59PtE8ccr/5rtqVqHPh+HAVxFCZxlERh3TRZludF2XZ90/UjKMCRZ03x+CmyZwE+UcJRyreO/RRH0XKxSNLE9/0gCLIsv7n5uN9nVnE3U0k8kI7oFe7mXTS56nHmaHD3mnMKUspPBnB5dfn61euXL1+mabJcLhg77gP3vMlJNnYWN0ZkgnNPCMEZQwSSsu87K7torSTZ+KPPXnG7vL7YNoiT93bqExFIhsgZY+BxZIILBPCE8DhnCCAHGuSgTDrqljPr+JU39umG8cDCTW4cdYK0EIx7HuOcc88TXsc55wwRiOTQqxM9HT0UOuXcVdx0dc4vnqz0bwqh1YskGHoppSQixpgnBBfcbj/PL/DuB51Fx0N8zYsEMOmO7Q3OzaOQIklKQt8L4iQJw8jzfDkMyBgi83w/YEwEflWVXdff3nzcbG6y/Tbbb7PtlnPBOBeef+Tx5gsEIFQHHClznCRgOiGezgwFxuGVzBIfHyZJ0gCI6Ps+Q0TGgiioyrIoiqqs2q5p27aqyrZt9rttkqRpmibpIk3TOI4ZF4wxkjAQEUhUByaOHBwPEBfNXs3JTGQU//Z+VWs3l7cKOxmrTs7/Sd9YYzQikVQ+qlKdrYWMe14QxkEciyD0/DBdci+KmqYtq0LKoW3qf/79r4hwcXlxdf0CkI9eoNMdz0YzT2PoJx/ADSnU6gYCsAnMjQv+6DyOBIA2mNnEL5PsBxrKPNt8fH/7/p0fhIvV+uLyenX5Mr24DgQKjl4Q+2HiB3Hd9gS1ii6mYQAp1amGDmpGFVSvsbStM2qr+4GqgszWYKvqHtP9MDLZ6pxRItTpRkDKgWTfVGVd5nWZN0Vel3nf94MkRFBLxo/iIIqDKPaD0AtCLgQgU8NKUkm+6PwDuwfqNSE/MUHa16ZvY5EuyvLtm7f//d9/+/3339+8fdO0nQ6FPIFAxyDR59O5Y1sm6lAkAE9wT/A0jl6/fv3Lz6+rqn7/4ePtZlOUVVmWw0Bmxj5Q/juCkp4aTWRgd0ABkjhcpMlysVgv04vlMi+Kj7e3m+2uqpuqbpVWAQBsn8z1iCfp6faGIrSjPKa8oOUyuby8Wq/XcZLEcXxzc/PbP//54cNHMpNBx4uOW9iDaCJiPFhQd68956bPURACAP366691VXPOGcM4SfzvBUiroytnX56bbAwRuQbSnCGiBNl3cujBxFcZ2dDm8vjM9OVN0xN9vwM3iQiAMSYAAThDT3CGoFxaGADQIPveSnGPaPkj9Eefg+4ucK5cVgKTYiICgXme4NwXwhNCCCGMCwcNUsoeBvdJZ7XP1WMeoaew/RCgBCRAMoENDLlWMc1Nbz/o+yQDQwGMFdIEP4CDCXWyZQAw4gS4U0PDWEDh+3GaBlHMPQ+6FpEjY57wgyiMAbq2A4KubW4+vs+yXbbb73e7IIzCKIZJgfNJR9q8qCopEYlMqiAHA02Mo+o9Eaj8XiglIhee8PwgiMLlsKyqqsjzPN9vttu2bcuyaOuWiNJFmqaLq6trwVkYBowjZ3xAQqmAqxwddggOzqY6Zq6a2GMtvCQgOZVyJ7qKcfeZJhtzCQ00J6UHk1IBaeH7YRQFYeSFvh+GPo9TxH7oq6Zqm/rvf/vr77/9XXjiT3/+c9+2TAjGPUA8odU7gh5IAnDbyTbZu6vFICAglKaxzA6j7aSxVQgggaSUQ1/l2fbjh83Nu+uXv1y9WK6vrleXL9KLF1z2TPbCj/0g8cOYVxWoI7jkALJXhxeiJHSHg5BMknBXLaivGjd3MvPXTCQ1rI/gy9OT0mzrTJoSKYehqctsd5ttb+siq4qcMeb7gR8kURily1WYLII48cMIdJgiI8BhME8yB07TbKc1ioynLrsf0DcC0kXx9u27v/3tbx8+3tzcbpDzKEqCMJxI4VZFodOszzw0nmxX4/SdXdNIAEpZXjVdnpdZlgMAEuVF+fb9+9vNnjGOnDEuGPeQ8dnTTtCT7YcZGTUlAJjT+4ZhGPo+K5tK2eT36X6xK6tqs91nRQnICBkyzjhH5AT4YPlvJto9zS4aI3IYANHQ1FXXNt1mKOtms92mi8Visdhut+8+fNzudmEYB3HMOb9LpD2n8PvpUUD6cQWNK0WpLIe+KIoiz7nw1uuLi4vLOI4vr4Yfpwy41DTNbre/ub3N8rLtO+aJOFmEUeRgdCtWfhGw8+XR5gRIKz8FACIpieTQ90PftYMsyvp2s+37LsuyLM/bXnIvinwmhMe4oNErTu0gD1JWfHkdwSNoKuZawVBKlXKsHfp9lofbnRdEZVVud1lZNwQsiFNkjAnBuJUZHT3vnezEmS53XzYRlL8+qZhSKaFt6rZpBwn7LHv3ju92u6Zth0EyflJN/4O+W5oJlDbNlqOLN4cX6ZzPKosyAYZRvL68XH1chUFYV1Xb1NvNJgxDJlgYhVEYLBZpHEWe4CBlU5fZfhvFcbpYAkmC42dK20pNteAnlTwaPNtL3aSJ2qbAGQPP86MkBobImO+HVVU2VdW2HSLUTXNz87Gsq5vbmyRdLBYLzw88z+dcjLDWCmVzBnNfx56+diZ40cFPk8+j+dNgYESGDBljjDEhlDuAaTv6QXixXpdXV29//61pmjzPttvNZnMbp4sk5QyFHOGYoyI51iInjREdvLOO9vJwiMZaa7UJoQ5oHpqmasosz/d1VfZdJzxvsbxIFkvh+8bYjACoWqdSA6kvjAX80DGAAIBO+6caeGQrP9EdPZxsYLkK+Uaz4yrRe+jatu/apq6KvCyzuiyauuyalgkvXa6VXieI4jBKwzjxg0h4PmMcEAgYqFxQ6mEq3QnoTLLTjnyu9G0E07Io3717//e//7bPs32WR0kaJisvWhDNz4GfJvFXL8+mw43jglF/EqjI37pu8jwfukatzf0+//3t232WpYv1YrUKfI/7IfcCrWz6hg34nGRDc4xwL6VsG5BQtVXX1CT7fbzfJVHTtPuirJsuTNIoSrkXcM9nXJBWX5nkiHeXdVL1+YQIEZnJbSKHvm76us37strudkLw1XK1Wi2yvPh4e1sUJXph7Iee76sdRT3gIaV8Fgj1kPIeVdAoFejcFUQq33JZbz7c3nLhX1/dvHixvby6omd1ruBXoLqpt7vth5ubrMjbro/icLG+WF9cDRJcLD0xR39uu/QXhiZTPKv4KRHJQcq+LvI823dtk5eVuN22bZNlWV01zPNEEAVBFIaJH4QEQIA68YTxdnhItZ8klh7Jmnrk0NPQVfk+323LsuD+Dplomma7y8qq8oIoShMvCL0wEp5vfRfRZIQ9brs5WewRC9uTIERENgyyyPb5ftfU5W6/l3272e3atu2H3mPiqY7kD/oapL0STF4pxyhNo8sCAkkagIggCuPLy6sPq3UYhXyHTVNvbm/iJImTOI7jIAwWQxrHkS88IGrqer/dJcmibRsiApQqH8EpdnsI2u4hDT1USmhmGgMECIwJ30POhOcFYZgs2rqqqqIsyqLIszzPyrKgmxvheZfXL66vr1er9WKx9INAy2HSxW5oDbLnd/CpKj+EDq9DRETGGGeMq6T7KEmf+xx4wWp12VSVFwRd15Z5sdtsNrc3jPMkSRlDGiZNcJCpsc2ZMo5X29h21c13NNBAQNVWQgSCoW3KbL8tsl1dV8PQe56/Wq/TdCk8X6lYCHQaVUSGjAEy93RGc7LWRBt+B4q2F43HuzzKpmuWBiBIne8LEYFUDmCG2A99U2R5ttvc3uy2t33fAQJnLEmSOI6jOFFAWohA+D7jHuPC5I5GIgBmMoCr83lo9Bz48hr5L07fBkg3Tbvf7zbbTdP2vSThB+ny8urFq0Flax7DAEbFoTOtnsrefS+h0bCpSUlEXdd1fTdIme33ddMWZbnTbkH7vCjjdBXFi2S5CqLUC0Ij/z1Q/H3q89BF0QBEcqiqsq4KuaWiKJuqlEM/dE3Xy7JuB8BE+MlqHUSJ54fc86WCWpr73ddYvWThEQzlqxFTidsROeLQt5Ko7eou66qyGoZOSklAddM0XS+RBVG0uroOwgiRKT+Zh4/4p2Dps+DEmQU5unUApoH0ACSrIr+53bStrOqmKKuiLJumfYaHC35Z6vu+LKu8KNquB+Rhsrh68erVz7/2knpJRu07hnx9ibXw5ZmO9qDTb3GEjtvNTS9lL4eul3lRtW2TF1XXdmkQJelqsbxYLNdRnJLyPqRxtj1xhPxwUmxU9t3QtTfv3+ZF2eR5WdX7LG+7vm7bQUIaRsvL6zhdBknqhxGNHWGN85/UDU9kTSqpe+j629uPXHibj2+LbCv7rizLru+UI9i3ruMP+ip0JK+iMemN30oEZsx2ikmidXlUHrF+GCxguVqtV8t1keVD33388D6MwiSJ4zhmAKHvh74vOAOitmmy/Xa5vuiajiThXQbpsVK6eAKt+KRJra1VUUfDuTYlx3pMgMi4YMgF9zw/CmUdhkEYBWGIiMMwlGVRN3VdN4xzOUiViGfRtp7n+76HylUDRzBzn4B9zDh7cIUc308H4g4rPQGMAFpBaI6MKbAlTcI4GoB7XpIk6WLp+wERNW293+9ubz9GSXKlfZJnhd5ZXfMlzb85euWRw8q0iI7K4EptXWW7TVHkXdsAged5cZwGUcQ4JwftqtaCcrpEbhG100V2uCchnjTzXNe6USPu0rzmD2F9BkVLU7xEZCAJSA4kh76XfVsWebbf5ftdke+askDGROAHYRQli8VqFUaxH0ReECLjjHEA5ph8rMEZrYLF/nO6/hmz6G+TbEySHKSURCLw0zC+fvn613/5y89/+pdBZRsYu3Xqg+PQN01t8gAaff8JSSICACMamrZtm8b3g7Zp5NBxz1fHjxMgCrFYrl7/8sv66mW0WAVRqpx66GErQZf2pElzQqV9k0OXZ/siyz4GQTd0fd8CskESMPSCIPDCy5evfv71X5Ll0g8T4YeSYDD+TOx+k9KngMevRCrkhCNyxoaujaLI8/hHZG2ncs6RJODCi+Ik4uLlz7/++d/+PYoTQAHKOP+wNfCJHYEn3t9R0IPLGoG0UjkxAKAe5JBnu31WfPz40Q9C5FxKE6r0PUnD48ZHj0s2JiX1chgkcc+LkvTy+sUv/+Nf/vyX/9kN1A02StB16fn8SsivC0oVA5FD38q+C9/EwyClJMFRAvQDSQJgLE4W1y9eXV6/vLj6abFaS1JhfNO+/S7cfBWQ7rtmaGrOWLHfVUVOyLpBEgFjIgi95cXVq59/XVxex8t1GKc0JnGxXfAd9ITKsYx918eLRRCEQ99mu03f1cMwPMcEKz/oMTQmWJp8O77SLNmYBGAwxp8qdxd9zo/n+wzh4mL96vWrYWgB6N2b3xAxiqIgCANf+MLnjDFEkLJtaympzIuua4gkEENT0ulZR1Mx1iBp1YQxUJq0KnFiVzXI34Rbq68RGeMY+AFD5gvh+d5ikRZ5UeR5WVZd3354/3a328Qf0nSxuLi4vLi8DMPI9wX3PKVuNKjmeM0Rmf31kGuoFMzWp9SymtGgMcFMVp/HwJ6tBIAMOWecc84F5wgActDpA21TEZELLwjU8SYBSSrzfHNze3l5LWlA3Y0Ebnyw1pI40pBWTKDbyjHJ26TGtt6q0QpLkx0blToOEDhCD7Jpqmy/qctCSsmY4MITXsC5p2xpBEQgSQeXA2MohODC45wzzkFbbdVlOKqFRuPiFFNPR2DE/2QeYx44usY61zuP0qnh9T9kjOHQ933ftVWd7TbZflsWeVMVXddyIRbLlR+FYRSHcRKGcRhHQvjM85AJQhx0EAIhELrp344qK8h5r6pCc4XD06dvY5GWkoZhkFIGYRLEyYufXv+Pv/zbv/77/+6l7HVmNzeK36H71WFPgjSKJgukEQBIDlVdN00DAPvdpipyzj3SQJo4F4vVxc+//Pnlz7/Eq8tosSJAIh04MXd5P1LkEze0WEZEiu8Mfbvf3u63GyDKsl2R7QFpkISce4EfJsvrlz/96V//srq8DuPU86OBcFBM1Jw0/qASn+gEAQQAiUgoOBOM9W3leRxBtk2z222HIRskSSImRJykfpS8+vVP//rv/ytOlwBc5fk07j4PbeBDFLOT6n3aTLobwM8mKwIwBA4EJEF2u9vb9+/e/+Pvf/ODgDEhLdT8XkhvqK59UMtMZ3S5JBoGOZAUnh8l4vL6p1///Jd//1//fzMMTS9p1OaNz/8Sq+ErsRuppDciGoa+7dtGCFFVZV1VfdfJvu0HGiQBsiheXL94/erXP7189ev66oUEUJlwJBFJU1sGLsd8UqSH6F6GzxAQScquqfq67Nrm3Zs3/ONHADYMkogY557vry+vXv/pzxcvXy8ur6N0SZIkSWUK+VzNfwrLUvn1dG0TxqEQIt9v3wjRlv1g9PKSiH/rSv6gL0oWPx2RzR1AhZoxmvRRNMPSCl4xIXxPiPXl5evXP8u+e/Pm93fv3hLQcr1aLFerxSJaBYIzjggk27qpoS3Lomk6GgiRQBmm714bGlpIAu7sBO6OoFKA2fRRo2uyxYg2VzYYvwzOmO/7FMfpYjEMssiz/W67ud28efPb+3dvicjzg3Sx+OWXP3lCMIaeF3OGEogGmPTfYX1JGlw0qeyI6M11U3UGke5tZm5yL9bHZOvRQWRMcM65NmyClFIpTMlkBmPAUaDn+b7v+75HREWRb25vyrJQ8V+jtd48dvLRVhqVF7PahqUzeUY46uoCnCdM7NKk5BZSpn3Z1GW+31VVIYeBcyGEEL7HBZfILECURs2AjAkhuBCMC1TZIdUxDCo11IF52XSohvCT1lkNADmamMkScFk+Tb8iY5khBGQInKEkObRtVeYf3799//a3qiyGvmWMXb14uVxdL1brZLEIk5RxgVxbdwx0Qxw7SC2wiRoDYC6a6B/HmLSnsKucQd8seY8J1EKVTYpxj3mC9RK12APHunK+9R/F2k+BXJwwmg6J837AfkAmADkwIATjv43a1MoYMs6Fh1wAabav7NlwV2M/Hfh8LUJSWJpIosqpxszxD2pWEOqDhJEjF8gEY4IJoX4CeLgAfDeU+4Zk/CkZIiFjyDmTUjDGkHMTLaM6QhlaQHcC95jwlV+38lY4qyMeNzked9dky3/AkxXbRSSUkgCY8BC5zmo+bhDfJ31C+8x+iQCMIWNMMOYxBsAITbZ7w3vAsU1/Jvp6TIc0AwQgJCQ5MC6QcUCm3OmklaLVihFMyyWcozE6MAJi43x8ojDaeJoCg/uVXdp2oNMx2nQ1UgsmyneHIec61pAJQmnd9z7X0cpPoCOJMXXq78AYZ4whY8ZpkLRg+YO+fyLLBkgSGZOtVDjOcXSc0gxLq4vkQBJICiFW63XXNf0w9EOPiG9++y3PsiSOkyh8+/tvf/3rf354/457gfDDpq76ru2HXjAPjc3y7gor4KGtohO9qnovjcszjciHJCCzmGnafqd92j6NQRimcsWYYJzFSVo3Vdd2JCnbb//6X226WCxXq3SxjKM4jmOb/kpaW6jzfBO9eyL7thNgrf8RODD/eG84MTdaESA84QWBFwS+7yNg37d93ynDGzDthm4v5pz3/dA2bVWWXdOAlDDqUw7LPKixLpmcDra30bGAKHuLBGAwS9tCJCX1XVdXVde0JEl5p9tMaaTSkoMc+qHr+6HvkTHPD/0gVKm5kDNT5AmneAnadwJ1nvfR7mjqYLY8AiCQaKbhoaVN3SP1NgISgYhADn1V5E3dlHle5FmR501VcM6Xq7XneUEYLlarxXIVxokXRIx7RoC3YdzT2UEkjSzoNkjqE70ctYU2idN8Wj8H+jau3c7kRB1wz1TYvbJXqpntbNB45N3sQU+QjA5G+a0QSSQt/DGjslGoyc5CBCdSgrSTyrgA7mwsPgmR5k4aNYVIAByAmX86GlwdbqiAFQHTgRao3gAqzdbZrXyC3aIFWQRUuUN0zjETrGRXpcbSjAMKZB6i0E7dh346Dyz169J5Jao1QVwNvdIuaWlYOz4/5eV+Dh2KIOdb3Z24T6NgQlSGSuPQNaPPDx4/i8/CmWUxQAaMoeYSRkDRqlnj3sBQpbEFAidkbwSQBPQUGcOE7qmfyZGEZsswOGKUsVFPC2QMEXGijv1e1hKoIdc7p8mDO7/i+3Jp+UFHaESjDj8dP526x0ibNqm3MlAOcug7zr3VxQUXbJDDIIftdvPm7W9//et/Bp7ne2K3uf34/l2+30fJMlos26buunYYBmSccUKUcNcqU2vR1TnrF+vOq3Y+HF29VS1hAk+PdYImRATwg0AIL47j5XLx0+tX++3u9vZmt91m+/3bN2/iOLm4vLy4urq+fiEED8JA6+6VbnKGpRHQnotEkxJJjtCTtA5B4/qZk8BBLcE4qiMAMC48z/c9PwhCzw8YYt91fdf1fSeV1RcYVzBaJ/XmQH3bNlVVdF1HJM3pyq7ReGIPVx91lnYXx+naSnWBwdLS+tE73aCfQ4BADNXzdT/Irm2bquy6logY48xhSSRVEig5DEPXtZ0C0mHgKSDNPZWdi4yTglPeZL9SFv7RAm2gJ7rdrNQYyNSWYA9bnXS7BijEADlnMAxE1PVdvttuN5vt7Wa/29RlGUZRFEeL5Wp1sV6sVsLzPd9nQqBF0Y6n/rgN28lD0uqHDTFrIiFwoR4BAfvh2n0O4eQfIgESQxi49gMxeqKjePqJ02TRqbWBQNhLYCpNPiCSEXKMDIQ6MTVq6zSQ656B98nBCAdZEJ4aGRgsiYCAaSwJQITkuH5onoD2BHg0R1Q8WTPSuaTaoVQqSpMA5nAL1Hu/mRw6ySEyQkbACIAQnxWTuZ/IaiOVcUDldJxqju4QHp4dTWwVnzCUZqooa772cAFmU4A+3eVyXqOVg6NjTUZA0rlMHLu4fmsZLEodlobT3VpZt5/wfHrYuFkBVdlorAxllHBGSrJa2smjn+7cOJOsCGl46PjD9+3L8oMmZMCneW+HfrLQJzYZGqEsWelEBc92fd+1bdvUTVV1bRcE0fWLl5KoKMu2abq6QqB8v6vKouta0bd+1w/DIPuBpDxzrzrQqjqtQSTTAPXNwQG/x242VyAgcC48gRgEcRITydAPGWcIOAxDnmd1Xe13O2lcapMkCcPQDwJEtGdDzYDz3LY4lds0eKKJofQuFG3rjACgjrsSfhBEURiFIWPYd13btH3XD13PPEQOoCQmpuzTSABD33VtOwz91JY5Swx26uOIRscqzT9O+APSDFgAACAASURBVKUJwqKpllYz32EY2r4b+p50ymsNolH5F8hhGPq+b/uu7YeOcy8IozCKPD9kXCByXdKsT9F9lQbmoyQHRhufatO647wP5+8JiaTsZC/7tmmbpi6L7WazvbkpiqJtagLyg2CxXK0vry6urtLVCpQI6vhyS/d5Y1S223mTHiSlCiBJ45WfQx76dvRtgPQ8eI9Aqn8SafRmUVfOsDQ8IwmAjN4LERgBHdqfp+4Q5ErG+jIy+rpRijxdoHwGnUPKYDQAgEXLxl9Hr0M0UhGMJ7abu88o6Ul3hXW6GAf9iC/VuFKIwCSfQ6v3PauN+HVZ1LllESidtNoA7FzX9rTPXbvvh8jILdJy0YOt6QnSI+pmsLJNtKfwo3LmRq1xN/7Kugdc9zcAVwp9yp3zQLKi3NSH1KgdtXoarK8rARycL/mdEBFImlohf9Afkqy66O4ZoLJ2z7RKCqYiIiH1fVeU5e37tx/evSmy7Wq9vri8CKNwsVzsdvumKpqy3PoeA8qFJwKFTo8YO07t0HdW74H8+7AF7v0WipHUqbUICIIovLq6jsJ4uVpdXV2XZVlVVZ5nbdfc3t4sV6uLi4vV6iKKozCKGbOJlxVDAdKBI8zxD1KSyMlIkXsbM57wjiAEAxBhGMRJHCdJ1zZdW7dt07Zt13cecsbV4Uw2nB2ASEqdkkyOctRZNEVxpi1OcLqp3+SWIw0mFf48SJLSOAWpnFuk2LGUw9C1bds2Xdv3vQiiOEnCOPX8gAkPGDe4eAr7yanhfY5KAKDvdXdJ+7PaJ6XSRxMAkJRNVbVNme32++1tkWV913Vd7/v+YrEKoyhdpMliEUZJEAWjsUflm5/5ybrzH22A/1SxBWM6AldJNJ5w9AzpG1qkYdRnkMHSAASMlMsE2AFw6Rn1s1XMMGVMMXbXKQRyrdO2NyaqBNRei6QPNL+Tji/vJ0JKCtY5J+dtUXZXMm+Uxk1bWr4/sYjMZm+3GaWem+wBxr5CNmTHDUB68EDbnfCrzYxztYuoZj6Sjmew36JD7OlO7G9CzkzQcXZy5KJfY9VYafWsgXmE5nm0Mc7V6VYTp5x6LY42ygUl2Yy+eo535Dl1fqJkctY5Wn3UYiBOuYfxddX3fbsqf3YyzI3A9Idjo/lBP2hGY6rSU1xLebT0XVsV+fv37/7rP/7vfnv7//2f//Ovf/nXly9/+unVT2VR3N583H78KDjSMDBEQqHC9I3hkLQH3em1do5e++jWTad/GkvQywCtgZjCMEqS9PoayrKsy+rNmzf//MffNre3m9u2bdv15dXPv/yinhsEkYoIAf0g5cCsDIwSztFu399SlUIWkTHmeRgEYZykcZLmQ1f1XdM0Xdv0bcu4EOBrg4vZ+kiS1OcASSL6BM81AgB07RRHLjje2xNHGJJSAWmNnwlp4EASJCJK2XedwtFt3w+c8yhOozj1gpBzIXVE2101BJrIzrO6KnBh9AEMmMLM+i5tggbtwQZASNBL2dblfrf7+P7th3dvs93GD0LfD5Pk5U+vX1+/+CmIQj8IieGg8liOMgY6pbualNHUf0IJMe/J567f/kZA2ixwx/eDzG5o/kydA5z8Bs9Fnr6rqmSUMOh4HWqlH1rZiFxopbU7J7H0IwTUx9Hj+99kyyQE63Hp/AgaEIw6RSdQgo4tv2dNSrty/BQre64jGjei2X2TNw8p6JwbPo0eMRFp+pbmWT6U3vS5Mtk7yAShPbZpepmYfVzhJWmf+GUH/BHz6lFMiqzWyRiOwGY8n7CH6U0ERDSMJnoyDJbGxz5fmgnixplnuj+YeTEKeZMe+w54qXW6HF/JOBM6whn9yNr9ByAjLzncgex3xv8UHbFjugCkEToYEAjPj5M0iiLh+QSw22f//Oc/1+tVkiYXl5eBJ5Zpwjk2dVXV1UAgpfGsGx96p5rR3eFI6nk7ijtk/x74qZHz12UD04JMyA+OF4/WGgDwhEchrS8vBimjOCmqoihLznhZ5L/987f9Ltttt3GSRGEURhHnQgjr+DP22FiONd5ayD6OhC3zaEXVzxIQgJgyn4ZhuFyt66oc+q4s8rbrsizbbG6XUnq+R8glyKHr+67rmqbvO+F5XHDGLLa3pc1Q9eQjgdQBhvO+1e/lvOIwY5uHGhll82KMAZHsuh6roWto6OTQAZIcqCqyfLfNi3yQA/dEECXJYhXFqRCeOh6cTEpuJ7Rbm20tQ9M+/yRJMjtVbE4Z6UwRNGGy6jw2BAIagGQ/9HLo2rpu67quyiLPizJv6yoMQ9//KYqSKE6W63WyXIkgAMYlAQ0kHTvfVHxXQ2+y0YE8BMbz/YakG3lD+jSf50rfKtkYgAXP4GjUrb+9+UrNDkDjJaF+ex6EACcCWnCiwhrjuhCM6RHIZKIF0OK2MtfeKf59nZ75FAnMiMRWk+U2x/iwKy2j66g3os5nM/r3k/UfGjkfTHWb5ltXIrSYgpwL7ivIjNlX675J1ouHXD673irYJsjreeWfuIscsUnJeMovje7OJzijuWbB3Wc1xPiiAz4Bt+fceNbcMAURIgAZX2U5eisfYYlGhh6zDakvEbW8oa561tPp5NZiE0rYC8efAKxgfo5J7AmTmhs6utV+S84UMyEzz3u4f9C9pBe5Y3mQWq1Crsxu9GlgwajCmkYOlSQBIPADXECcJEEYImNZtv/H3//eD6/jJL68WC/TZOiv5dBvNjebzW3fy3bQOWQRyKSxwglaPqyu5tA4EW1siJfBR7N1TtM9UbXAfJyxBFTwaWIuBZI0ICAy5gfBen0RR8nVixf73Xa722X73X6/39xstvEmjuPVxeXV5eVyfRGGIeMh16tMJ8Sadb0dAgdDE8FgZThAYzE60DDoaoJEBIYsCMPVat13TZlnmxvedV2W7W9vb7gQaZoAegRS9l3ftl3byKFHBM71qd7AyAQIm910Xp4z7CPu1JoAex+RhtIahIyymNPtCDolCQCYkF+d2hFo6Nse5NDW1DXQt8BJ9kNVZNvNx7LIhoGE54dxnK5WURxz4Us7VhM9+ARFmylFAEA2H7E7dwCJUDkM6FAFplJ7ERIB9SAHKfuhbtq2yvf73fY2z7KmqZum9Xw/SdIoSdPlKl0swzDygoAJAch6KQ1aQxMgbVeOHPuXaOxYVSnzYSJ8TmKwxpjG0XPqR7Kxh9AhJ5h282ivhk/Dbd+cDk3IdPrTrJmzXrovz8SxTv0iZFnJ44aFzD8z5McfQ7Mdg4xS5Tsi3T6b8/EEMDp955mFfbXuOxcp2bsm6nMrENHEpPAd0NTf5pMepZTNbuyv1bB8aUZgNv3z5tUj5ga5PjuGf9iGnmiqY7HWfxAcFvrsVXKkffVM0tg7Nhqc3PV90QmXnh/0hyMjiIMRzWm2kdgPpyQYUtgECQC44CEL0kW6Wq/zbEckt9vbIAzWq9UiTRgCIhLJvh+GYQBkvid8z+eC2ZM3HiQmkT2n5rCuVunnXjCXCg/0mQfFoUk5jRazAKjDNRkLoyiMomRIAt8PwpBz1nVd13Rd1+V5rm4apIziOOkS3w884QmPO6Zpq5WY8nWafjRd4aDbWTcYbSkgIArPTxfp0Le7zSZOF4hYFuXNxw9CiCAMQk+gHLabTZbtq6oEZJyLMIyE500l5FlvnPpop4rb91Nh4/gmN/cVBABAFFz4fsCQUd+1XVsVebHfEuOSibqT2Xaz3942dc0F9/xVnKySZBlEqT7hdYxsc0fWda7Rf4kI1TGyI0CYXKQqA6DkS0lyIDnIvhu6tu/quizrusz3+2K/K8uCCBhiGEaL9cVqfRGnyyRNGRfWhcHZTRWKPunYj0TzHeeIB8Jpsd9ZOc+IvmWM9Jn0XLdLIol6Ldw/Q3BqkXwUPZeOmioRdNKxA/+k57emzqCppmD+pUPKdu24LjyYnstsOE6jKeF7ngafhfDsqfHcaCqF3QkJp79pMy1MvfI+1znK34yMQ8u8GY5JjtzPz4IOEcNZN9uEldOH/aA/DjkRYPov3sMsDlRxSkGFyBaL5etffuUcb29ut7cfN7ebvzG22245Q87YP//x97dv32y3u2SxTJeLKI5932ec6eyYXyW+5m4yKGb0YjPY0SB0AABAZGEUMcYFF3Gc5llelUVVlcMw3N7eZNk+SRdpukjSJEmSOIqF53meYAw1zLPKyWnh7gc8/B2Os2AiEh4Po5gGeXl93TRVnuVNXdfva5Ky7zpPMJJ9ttl8+PC+yLIwTnw/WCyXYRQiMhcCf2mvG2VFB73DMERAJvwwipKF8H05yK4ud5ubd29/j4piQN70tNve7rZbhixKFkmSLi8uwmQhgoBxTx1d5NSeDGrQpcGR5tiwpdEopcNFNZYgJAlSDn03tE1Tl01ZVlVeFUVZlnLopJRRHAdhEkRxnCziJI2SVPg+ME7aUwJhhPLqhdlpNNMVTQH/lI4uAmMHuLernzg9FyD9fDuaXB6i5ZpDtj6Fz8+3tY8j7TGE6mgwld8Q4I/RD3ouaLeeY36qcxeoPwaKtqrJqTr0B7l0JGHf90+np4J2mD/8QWX9mfbOKf+fZ0JaOXAcIbhmua9brU8jnL4/q+5okunY/BJ/jOXwg1xy5Cwldrmqs2NIDsDaI0coorMNIEsWi19++TUKg77rbz682243VZm/e+NzwYXg79+9fff23X63DeMkiuI4jn0/4IzrXKkubv3sc3G0B99DZOWrUcFmPL7toxCjKIrjZLFcXLV9VRbv3r378P7dbr/Ld7u2bZbL1XK5Wq3XchgYYoggPA7qxASaSiTjxn1vC46iaAAEzj0RCY/xun4hh4Ho9/1ut9/v+rZtqpozlEOX7bc3Hz4UeSaCwA/8xXKlsqMd9tOXZIEG3KqgLGSMcz8MoyT1PH8Y+rou9pvN+3dvgiwbkHcDFXleFHmaruL46urFq+X6KkoWTHhynKyu7Et3jDSZ08+tsWFmaUEEJIlAJIehbdqmLPMs223zbF8WWVkUwvOiJEmi9OLqxcXVdRjHwgsY9ySB1L7cFryoWk1CymdjfN4Ux/H1O+DT3wxIH7O/af3doYLwPq/mp0njGjDVVy4Z+iv3usM77ZuJYHjoKX7yGV+BPmF7IBMMP4q+9s98RjjxTd9SufvZiQAQJACbBz1ZFx2aJhgew70e1glHtJdfo/vo0SWpO6UbI6a+f1Zo4CwiAAD5WK91N/rBppVQj/2axpCHF/OogXQW/0lk6GqgtEbqQCs1lWvdSj/T+eWYnuHEKnGuoMmn74SXOrzRLAGbe2X85ZmHw/+gh5AO1TTJdfSQyyMsw5rRRlFz3HPVuSI6cFZwL4zi5Wr90+uf5TAUedY0ddfUTdF0XVuVJRMiWazWl9cvfnq1vroK4wgZM2GzLlR136uCwMBGe6WcrejxSpzWcgJhyPEBhoPGIsBEoiYANIHXLljTebkRhceDMFxfXHDOkjQt8ryqSwSUw5BnWd93WbZPkiRO0ygI/CAQXAz9oHL6KBPolNM4UTlTnnNqTRJIBGBAwFkcJ5dXL4ZBkqQwCACgKLK2qZuqyLN927Vhkq4vrq5f/vTy5U9pugBkwyRzNx1sAe4HAlBZztwqTqWxeS3p0LiOBAQkJfVSSsAwSi+vX+bb2/3th66t67b98O5dEBc8CIUXeJ53cXG9XF+sL18sVusgjJFxldZixKuTrqJprXR3qkqYxLwE6mhnddSWqs7Qk5Sya4em7uu6roq6KpuqappGDn0YRkEYB2EUJUmcpHG68PwImSeBAaEkaXOJHdSKRnl8nrztDCMPEaE7L585faNkYzSRcsa5MOpWJqwCzBFQz4pG7ob6nC9wN/gJanJBgw7vcTjnQ5ONfX16XGUMEjTZlk5Ew5NhFaAX6XxWPG/SwVg4GWgYP8wQtEUGZ+pYD/aBr0H3ONMdvwUcaGA7Ymz7dywOExCRJInnuBvYntFbkgURRgKA7yzZGFiB0n3SEUHZsE+ayD0EBKS5qMnw49zxDKeWNiyNnUDH+mO62YJZTF92bpxF9076Oyqq5oaeiwZFOwyUSB2AdtQR7Ad9Z+SoUtRH/deYZO+ZA/a8ZfOZCx5hxBnSIMMguPnw4eOHd7dNXdV1tt91XcuFH8XpxdX1y1evLy+vwihGhkZUme3UM06pXNANB3UyR86X6gTxm1cNc2w+s6NSwZEv0aChSUE0btmMsSAM1myVpsmqLIuiyPM83++zfF/kWZ7tGWPpYrFYLheLRbpYxFEEciCTi2rSm+MbwnGV3sl3TJUlECJGSez5HmMoOA+CYHt7s9nc7Heb/W5b5FnbtclicXH14uVPr16+ep2kC0DUh2ARjHyFXGcDW77injpI3RXANA4nK6CSI88gTEKjxydLkv3AiDBM0ssXP2Xbm9v3F0W+b7v244f3YVxE6TJJl4v15WJ9tbq4Wl1cp6sL5gXI2OQcKbtlTbqJnNKdHyVZLK1Pq1YyBEnZDZKgrYomz+o8K4usLvJBSgLgXMTpMlksozgNkyQIIy48xgUxDsB6SadV1nK0epkd1tEEnRjZYxMTbcC8C8x1y+j+pfrE6MkkGyM3l9Cz6sJ7yJHkDoHSnbKMKw4APFOz/GmywR3qk+buNm/xnIucYYl9JqRTa5DZcaezwXYL2eE3POYMU9I3WkiPKJbGZh1gJdCs9VOr9WSInM3j8XhGbWmuk4LUcMrB01+QrPh21rKcssAH3jIxaxw5B20ig0yl6PlsOpYh5vnSCXlneoV7rev/81To7il0d1U191R8UtowEN3IidT3g75rIpDyKHdBHTlF8+vH382rMUib3xEZ81jEY7iAMAgFFwQ0SAmAg5RE5Akex8mr179cv/xpsVr7YTBxfZ24ds+nuZZ/iKY4alyfpOE4HUs2Zi8+wwroVgWmdyrIqLKIMcZ5JBAg8IMwCsMo4pwTUVmWdV01TcMYSin7vu+7ro1jxoAjtHXT9z1JbVdX8XloRJuHVtEuVgRE9PzA930iQkDBOQK1Xds2dVVVvt9GSSK4+PnXX1/+9Gp9cRmEEcARCObI0Tj92lVtTAXOmSF7eqvZROy4aOFVygEI/CDE1cX66uXlTz/3XTsMA8mee4EfhFGSLlYXV1cv0tVFvFj5YQzItCl5Vt5RWUgVNMWuCOZQaFWDvuvaqqmKvhu6vm+qos6ztszbpum6jjHu+b4fxulytVxdhknqh6E64E2dayXt7MMjxTtjBM7ecz5zJft8cu379nHPjl0/lxjpz0sHLHRCz9fh744KP1J2tBayA3z7pYTRp52D9Ys3f1aYPQ5s+v254GWkM83ZP+i50kNGebxmOpuQjl91/Orvi6wMYemsI8l+0L30eOZ1D02MYuQC6Ls11j/oeyJri1S5S03M7IO82fDY9kgAgJ7nYZJc0Uvh+8v1ZZ7t8ywDIM5ZGIWXVy+uXryIosQX3gl98Nenk4tshiCnVytZQxu1mGABhQwZ5zxN0jzPiyIri7If+rqu+r6rysL3fd/jHudVkddVNciBiBgCqmOn9WlUelCOAPhj1YOJshMDP1wuV57nBUGwWK52L1/ut5uyLDzf9z3/xU+vXrx6FUaxEJ7yXaWvFXir/ObRJhMmAAAufAZwcf1T17bJYqH0DQpEJ4tlulyni4sgioXva1fVeVXvRKcqIh1JKSmY849IyqFvm7LY76Sktunaru3bdmhbOXRC+EEY+0EYxkkQxWGUhFHM/QCZkMqEZZbOfeCY3DfOOaffs1RwL/0BgTRN38+GH6fvvzUzPIPuU9yfP9FdTEsI0wPT/4Ar5+s333EyA9L2lvHYibMr8EcbsD8mPVChewpFg17s86umt36/U+mu3vhBn0p0KMJ/7hKmj/8Bof9IpH1cdSZgtAnojK/OAx4xl/oIABG9IPCCMIii1cVl13dNXVVVBQBcoOAiCKMgCJBz9677K/sF2eg9Dz5VNDnO7aTdvHkQhkmaElGe59vNZru53W42ebYfhh4QOcMw8EM/6Lu6rmuSA4FERHMO2KScB4nUji0UARDRD/wg9BerxXq9elm/Uh7mVV2FQRiEQZIu0sUiiGIi42D+tXYnKxIr10JlL2ZccCEurl8GYfji1euua/u28wM/ipMwTnw/9IIQkCsLsOOMoCot7+4h1Tf6rzrphunzboB6OXRtXRXZrm3auq7rppFSIoEQwl8mi9U6TZfxYhUlCTKGjBOg1LZocG3D96Fo22qafvn9SgX30TdMNkbTt2Y6TTTJzuWfZ5Do4I2lw+d/4g48Kv5mycZOsHSyXTHGbABM3GLo3mRjp+rscrBzHIPt4ppU+vFYzjzZtRyMpRHZkGEE03SnN77JWn1I3z7+4bMzJCcioHuBOx/QxlVPi55W8JSK6Gvoh84cKALrKeUEdJKdAV+iik+CZjF9Z95r14YN/5uB6MeulzmKdp/5yWv/E2qjilTHwBlG6LqGufe4kcHTNCiaizpNoHmDD571JGWEuY8d2YhJ8+tU0JkcjvoN2kSm2M9XtjtFDxibZh7PLNzuBz2aOGOccyLZtU3f9m3bdm2H3FM+y6f47HQ2Gjfe6cWk2Q5DDgJQhoCMAwBjyDgTXADjDi/Cg2fb+YljMbYEI+gcSMWz+h379eDJB407TrMbJtKq+gptJLUEpU3wvDRNGaLn+1EcN03ddV3ftST7uq7qsizLvRwGzw+CMI7ipO86koO22Zoq3y1+WKHHXilNMmoiQC5EEEREKETUdcITvvC8IGBcTHa+CWung8dPOtFGbh9U66jw4Qyo7SdyjogywhoK34tSEJ4/DEPfCyE8z+OeD8KXwACAcHbi8gHvOvgJdbc4RmmQsm+7tmqqsiqKIsuE7yMykhKBhWEouOd5vh+EcZLE8SKIYu77hOpoK2t8nueyO6CJJIBj4w87R9f05JPGa2eJO9zUBPff/dRIHAs4+wo05wh6sZpkiVPYBp9V+LeMTgugzvNxsk4m9XwEOU/DWb6XqXwz4QBjAi7nElVnHN/f37RpUWOV5l/d34LJLYed9ggyK9fuH7YnpjkfYewFmkmJX5dswaOru6nJp8xMMzfcSeBMDRNA4kwdozEGcHOUTUDy0erMUPQXNwud2ptOXw6T2S1d9Ymlb8SsvgyRIzjp5Bp0ZgPN/W42BQlmumqGdmpKHKBI97uDJXicYX5NommZthrHLh21lXbV0rhWlFA25242F8H4HLc36FRh35AQbUzwxHnF8ivzC7k8VnfFsRE0HpWfE3jaaWbr54zkZzL1k+mK0xfAuYvrBz0/QkTOGBB1XdsM0DR11/d8kMCYzjJ4Yg7MVvdU6iFC0CmcAAEZCuYz5glfpblW+FofAkzzx073W3fRTZONTWQ2tUolAIAE4LMFqRiyYYDkPnnGou4RYk/xUAI4erSe73k8TcMoSJKkXq/LosiLvMizMs+KosiLrMj2Q98FYRSlaVU3GkgDmhSPMDreH1SLnP1oxoVMEwk4E+DzhPtRRERM2b2RI2dSBZQf3dVo1tDxo5IySFo2qnYG9RNNOnAUtSZDpnW7jmiqIo2RCS9MeBCT4yXBEAHR5gmfhTHOhSaa/WqKsylJSRLQ0Pdd3dRVURZ5ke89L0DkiDyI4jCKwjiNkkUYp74fekHAuMcYl5NzzmfGGPPdgfDlvsHJdjOjB8gGVuCToNS7tu+M5PvM2PU3skiPmzwAmLxzo/BzKEN/LjHGyq1GxwVwgKI/1/gd4W5OppeDJTpX0IzdM351MtnYjDsffH2S1T6gBTN2PKrRHjkok11qJl4dSMrgiMPfQpSdLvCxErOZ8ykPV3uM5SbujuN2h3FcOrSnzQbqNH2d7rM7+1kLaTQEmK4Yu97gzM9e1W9FNEI9chOPnfkUMP2itSpkuMgI0K26/OBW4wBgSZth9Iv9CsznIwxzfNoDp9Zjh3BkAOZQg5NPnIhf9mXs4qPsy4GZ01LdZTUTx74t6REkd6mY7yeXjeIguVPj1EO/TPNmYtdZ5dy3JdP8g9MnWrI4J93RD3qmhMD8wE/SJCwqkRV11zZVudvcdl0n/IALwZhgjAGOwVHu3fM5OQa94mQ7Q4YAyBE4t/NslsHvkCcd4TnqDglkzhPS+8E4cYFIAiKNPmgwLqCRIc9Q+qxxR3LOzLn7UTLSprWcIwJjjHPmged7fthFgR94nic4Bym7tuElk1J2XVuWxX63C4IoDEMuhPB84fmcK9h7fCVaidiF05MW60MGkAkGwIXNu6v3AysdHAi6kwe5ylOdMMx4U0+3TXvHcb5xyMDc64gAgTFExpGZ6ySRHOWY4xzweHno/kUlCEop+6HvhqHNs12R78s8b+tq6DpPeJwz3/eiKI7TRZwuo2QRxAnjPuNCeRlMdlCNaSfzxGG5k2GwfTr2PhxuKQ/g7gSk1QF6+MwOT/B4eehbkpD0yCNMP4Vo/O9Oc5pogaZD/XgZ7KBk/UiyJ6C4a48kHIWrJ3nkiWIm3E2HzhgD7F1P0vxz7Bn9VxKyu84AG0VitJPS+fFoSYfPsL+RtX/r8h1tGU7Z9zmEpqpWEzhnXZPqabajgRROJsXXo8mogd1V9NtHal7QiugGGBxEOMCIkGYVIqKDcseqzASEeyuKkxf1/HGfmjRdXXfnzDJ79NkjheNccLEQOSktvwmz+tJEDp3VQDqYAONcNX3oen7MbzeColskmxpmmV6wtjTr7IcOTzgxtY6wUYfxP2DZuPeT2rztWiQHUM8XqCLpCqdus2mMep78cLRkOuhABhN6KG/FyfpylRtnapzsA8F0vMaJrm+/s8lYZjspRYGDI2z3zrpM1BG6GvcjYlMX59nuMbazdtkZgkfn1WQ4DHOzQGbq5jHWmQDOW1w/6NkR5yxNkhfX120n66bp5b4u87f/+O8oXcRpGiZpFEZhFHMhdHAIOBPasoPJfJ4Z62DOkyayKgFMmOl0th+KTMcsJwfikCTg+ldn7aG9BR37ymSTR1Lx4eSu0TGK6Jgkb0tegwAAIABJREFURbPl7F5i3Lw1w0cUnIdRyBj6ged7Igx9jtS1zTB0bVNvbj9KSV3fl2W1WK4Wi6Ufhr7nC0+4hbu1UD2HqqxD+ZJ0R5Kpx2jPmLh7HuUZ820KbV8RzjvCbm4EBKh5y5RHT5D6dBM2U0j1tNR3G/3vwYjjQRPHfdWySAOhdRb0Yejbpmnbqirzsiyyzc325kO22/Vdxz0vTtL1xeXF9aswScMo9cJIeCEyoSE4jAzR9gTaGQWjNQunlVJvGOqVY0ZH+wEdtwI5fX1Ak+GlaTHq/fNi198qRprmExBs7xuRYPLjp+vJJ0vXiFGEUx5E1gQx4adz6eFeck4sGB+pip89yVqmdIUMp9NfKuasnBwkjeqtw9rMDTGGmK6D5SXTqyeP0OiOzBVOAr+RmcgjFtGHkgmtGHuEAGhUhqEdBseIYBtGR7Srj6MHDySMk1G9MtB88VOSfoHTE2b/nBkSx0o6Y0AgSYMbIOUgxCbPPCIa24E7WVGa7vR6ozJh/VMYwqaMdb5SyDC/Mczq7m6YV9QsgMnuYvrnnFF74uQ0UZJ8pL19Nlnssh0nEh6dEqBQpsEfxs8LwLIaWwIBMiAANOMKMM6Wu2uMNPOgmUD0h5AzYy2/NkccjYxz3MDpiO2dQKqzQYAkEABjquY092KeTGfLauyPY6UlAIzJgI8sq+PtGy08SkwhI7MQHYDzB5Fqh3ScG8ZdY9YmtaU6bOaR++mRLYbuO5Rxsu8acZkduwtn99Ahlh7HGsZLnK3VSoru/irNrz/ouybGME0ShrxpuywviqKui2y33YVJurq4XF1csot1GHgIqBCB1GbdEUppTGEQzJQVzoX/yWZt2CY6lzv3HheZyOQEmcSejJiZiPTRSPPjryz3lXRcGiEtviGqs5FQYTkrYxhV3nwNnlzOtlamoVxwLngYhumQhIEfx+HQt0W+L/OsbZqyqtqma5q2rqq2bRHZApEL7jGPpHU+HdmUBH1EMbFRyD3CWkdZUE5qP1OtHVftjkNo+Ib5SNPLdR+jfeKhznqOotUto3IGR2Y035TdRp1ixYjjxXo+IgBDQkSVUqzM8932Zre7zbabfLupi1xw5nERJenq4vL65SsvjLwoRiYImNqNpbJI4WRuIwAdEdOmDQMCjeSJITIj1xEBAWpZwmxpdOeD7CccYxon3Jr0vH5m/PppZe3+Yp03PtgdaRz14gY+m4vo5BT/MtU69cX0t5MVIpr9emw2WwnyjmKOFoKGhSIeXXQPJnm6CXiguiLz73PTyIyd4u9qlNUIPvD6B5K8U4B+RMNPIZvjM2fce4yLwTHYZbSrd1TUCLwAM13tWTSbvd8VbP7SNF39s447Os2YtQAw+w25P0iXTR4WN/3u6JDT/BcttZzy7nsI4fk84e7eoOlFbH6PlqJmgM59wgPnuhLdDjX1n2mWW3FnJg8eyENoPZZUHR5eAZq9PoisTGxGXXXdUWF9Potw8pbs6wG2/uL79A96DoSIQogwCi4v1l0vwzjOizqr6oFo6OrNzXsFrKM4ieM0jCLOBROews50IPDN5CSaz8aJAeZoRPH9FX5sS++kMeUVEgGR7Pp+GIgkMsYQkTHGBXJGdLzKD1xQdhNAhpwLz/fCKIriOFksVOSyH0RRFCFitt83dR0labpIY8cvADW+BwDgQMTQeoPqJky2kHE8FKqbmds+sTMNexlbZ78FsLjPSjno/jqXmaySdoK4x4ucFs0vm9WDafRKJGUvh7au2qaqiqIosrrKu75FwDAIabEMPA+JEGQQRZ4fcd9jwkMUgEw79Y25zY4rnJ06E4zSuHoPiEhSDnLo+m5o276tAZFzzrjHPI97ASDi9LGk++r4jmEKnO7AiJ9FtP769A2B9GyqfumCRtK4iOnVemr4AbTy5qmL9HdycLswJQEAMbzTjqRFu7ux9Gemo4V9MXKYn8Ps7vKunCpu6ci7x5MS6w8F3kfQg9L2HPXnMkYxJGcpGOUBjB5i+nL1i3T8bpARmjgJNhu9h7fH6DjdW78aj/gD0rhnmRHT2kSm3WNxsjTQsgDn0pPo3flW78RGJEAYI6ycG+8b4y/IE6ZFm8yoY8EENphlirCn1bt3ls4Wn9SmbSuRn0XONjX55vSjHPR/KMGdKn6G9l0/SMtJT8re8z7CY19PG6KF4znQdnp/nD/PzWjxg74wIXoe55xdXq79MFpfXNzusu0u2+z22/0u397me597/nK1vry6ZnAZhJHwhHIklkA6ibFliccMiIeLxfjyzrH0vfzqC01eW31lmcBh6Pq+ret+6LgQXHDh+YxxzlBKkCf8oO7A0rM7lKsvF9z3/DAI4zhepKnnBZ7vc+EhEwCY7/dlVYdRuFiuluv15eW18HzOOAqGDMn6B6Ny95s2xmBpp3H6C6ubc1Uan0zoioYHP41vZuKWw51sBc276SFRWsXhNka3ZsoetdyFDBjBICX1bVfs9/v9psj2ebFvmzoIPD8Iwij0BB+iSPadHPogjL0g4CJAJgCZOmFLCWuOMmjSW+jUw0B8g6VpPEZuIDm0TdtUVbav8gwZ84LAD8IgTkMuGBejdmXqnK9Tto8i5NhjJ4fsucHpb5hszP3gQAly5TX3mkf37CQ8TYcamAmDs9WpytfD7vrMnM35HO/uSe0nnGGkg2/MdY9IXjcVqVDCkcePasvZt9bjcD4Mmlc4Jp3Pw7vcqt1hU/0cZOfYJLGZ1aThjLnpt86ln7tCRzSBcJ8tdvTuBrBQ/ATvnxY1NVwyZ/wPU3yMrgtkFwEaNAQAyOdhQ3OocT7RpAbul8dYwnOmMTTvE9HAFNfQvJvuXKGS7EoeATWCylDLQBtiEQAIRxO2qfdZ8R0EwNShl6iTHcDhSJ+48Yia8/hcmG8qk96Rh7eQERhGMgKEabh1mFQpf5zkrO5UP5cJqqdyPq67MyeBw8fOJrue7hf1cZwSliYc8rziDeZQjzRcd+xI3eGfBx9PJ8N3xDp+0ClCAMYYY5BEke8HcRQHgR+FgSeQZE991w+yr4qKwR6Quj5O06hdeEHAuYfcs8+xirPD7czss3M2NIENd9XR+V3Ovj9yqX4jJyFVuh5k5DAiQJREVihQy5akbMqqrctsv93vdlVZCM/zAj9O0nSxjJMF93whfGQHuJHIBULH6zR+0quaMcY59zw/CMIwTqIo5sJjTAyDHIahrKqmbgh2Xd8PUg5DH6dpFEVBEHDOOWPI0Hrzunvivce92vfT3eiOcTiNLI5yiQd8eViZyZsTddE76LhlG/ZIZLmulL2U1DZN01RVWez3u3y/reuy61oAEF6QJAkSDV03dG3b1G1bC+Fx7iEyZEiIJs3OvbzaXEX6ZGvU/J9IUj90fdfXRV4WWZHtiv2u2G8Y52EYhclyff2Sc88LQptb7Y6yaPp20jdusMRzY9niG+XCdWTmMdaN3O3ZidY7R2fPJq/aeRvRmF90Hn40QHI2w1UNpCQ5kM5YTwSuy/5DA+BHCWwu99g0vXP3EacWYxYuM7eIEFGeBtVstp5Rn/039jQBIEgt0RpQZN6P8oyKRpW6BtO8OKikq7EPzgX5DCQBJyIgCSSdbH1O1V3WQjo41iQbk58hAQEhqoBzACJENCL+RGIkOvhr3jjN19c+qhrGP2iScPLY43QCnfFXkiSdeaUc5u/oGbv3GwEBgQFDRAbKY4kIJAFJteiMNkNF10siAGSIAAyBMZ1wAgwjJN0GpQhwxk6e0TWMTdROk2lFI1P4RszqixCByf1BZKKkz4uUPkAyYzc5fUjH54ZSoxifG5PIRCkW0TIOu9cRATHDEWCcFw8ZYcZQrS+mLQ5EJsULzbjrkWrqVaaSjU2lDldqmXIQ0p2hT9aQuqIEgBIlI+YkG3M1lUZJBIjImJXhtJBGuleJaML63LLl+M3h3gIqZzBTvAYtswXQY3T8mceITPVsU6clTUU61cvOcp1sqbPrx2aPAZZW72qfiTbdG9lZ4VbA3fdUz5BG5gjAGNjuHbkumSdLuHspzKUxSU504nxZEDhb2Q/6AxAiCIZhwFeLxPdFHPrr5WK/z/f7/W6fNW23//hhd/MxXa7S1TpZrtLFKkoWyNgcsOoNetzxDQsEMKdxwshA7KI6nGZH87OS3S4tW6Mxnt9IRmpflK7eynj0SLJVJIBBpSVT5THs+25z++HDm9/f/f7bmzf/3G42XuD7vn959eLl659f/PRqfXG9vrr2hA/TagEzjkO2C0aaMkymm693ML3wkQvu+UGUpHEUc+Eli+ViuSvKsizL/X5XluWHd29Xq4vrly/WF5dxHCVxpDiMnIo684pNSatGpVEc2E49hRcckQl1qLAVOtxsWbanafKRwHmyjoKblTGX5OxBVce68kTTSN3EEIlkW1dNXWX73XZzW+RZ3/ey74Unlst1EIZJGidJ0ndtXeR1kQ99hyYlku4JOl6SnTfuRwIdkA+kUDQxIEQahq7Ybne72+3Nx+3Nh93tx6rIqnwvhPCjJF1e/Ny2vhfFS/SCkDHupn4bE3PPqoHjQppc4XL2Z8Wuv41FepQZHE7ifpRzdd2Dlf4HEYFKiGNMiXGAqKU5jbSntmI5irM2X4+jIz8rpa5lw0YwmcobriRIB3/1W8NYjfhz2uFhVjWyguckw81IRrRFxgABOYLKvUGSSJLUoXR2SVpBauQeeD6mtbrVUW1FYIWxk+NsaiE/Q7Ix25OkACgiKaGZoQaYKlug3eWktFsagD4qAQEAP/WYO7Kjo6pEFlrNGaBZFeoi49dIjs2M5F0rxDA2QgIEiciUwpIxZIxJqYHBYF291JwZnP1cguoghiAYOEc6aBAu5ThNlZrirL6QErjalcnU96B3nxNbvZfI4EOrJnqkdXGcMC40JWd2HZ8b0sSaosE2CIhgBhkYEAIMelpqHn3gCngXZ9Y8R+svx38Krkqp5bEDrjeSUgGgEW9JJ2kwMtuR/dlIpDT2h/LYHAUlJASUQFqTYEC8kaA12ONMI1Vu4B4BDVJlVrEqEMsKTac6tZkHXSo7l0TG9X6ETKmulJhNJ/rgeNcCACgjlCv4zeUmgiMPJZKW/07Z8HiFws8AoKaE9iYAs2lqYCrVljEmD3IfOBPWpFFCAILS3zFEhlorNxqjQPGTB60GJUkzqzGadMW8t56VVPaDPokYAuMoOA+8aLWIuvWya4e8qN+8+f0N4tt3H25uP+zzYrG+WObZZdf6QsRRDADIrYLveMoxCTq6YYaiHRXf0XlGWoHoMAQ17RkQSAaII/xwpqtNNuawcMsJCZxMFlY44YrZEsi+29x8+Md//9d//sf//dtf/+Pj+3e+7wvff/X6lz//5d+6pkbAxXLlcU8Ldzp/FzJJwMbTtuaRj26BBKDzWjvSCyLjwgv8NF1cXFzFSbJcZnlx8e79u6qps5tdU9d101xdXffDwLnw/h9779kmR46kCcIAuBahMlKRLI6+eXZn7/7/v9i5uZ2d7a7uKrKYIjKkawXA7gNcRWQkRVV3V7GbRj6ZGeEKgAMGE6+ZMQDXpp2SqxC19K96Xxc9s8X0WjQZLfrOmXTa5qHpg+zU5cLsx13LQMPbO5LDBxt/OyUQsHXaH3HOkwceXXtCnRWx3yja2YFAEAAYRaVU0+RZetitV6vVY3zYG4ZlWfZkNg/D6Xwxtz3XcZ0yS2NCZFM3dQ2kRByq4pxNidRvT0d+I50srE/nCwhEAUFKiBRNluw2Dz893n14evhw2KyqPM3KzGSG43rB9MIw7fniyrRszjhwA4dHtPc9MzpHw3K8+eiZdHbMfsP0V5tsTCvUdd0I0VR1VZVFVRZKSIWKtKZxzQHb7R4IAUqBMc645bqO7XPTYMygnCIhFH9pLvYXunZm6X3qkud0slY6JngaZ4btdwqlko2SdVkWVV4Vhaibpmko6KQR3HE913aZaQJllPFn6juQc8UJ/+T05043BaB5NBZ5XldlnudFlhVFrpRSSpmm6TiuY3uO49qOyxgjwIACHQwIX1mkHiVahKWISgmZ13VVFHVdUcYAmGGYpmlxbrSDoiXn9hdBpaSQlWiKLC6ypKqquq6kVKZpmoZpu57n+bbjUMYYY6TVEX7RHDkZ1a+pEsIxCSGaummaRkghpTQMw7Yd1VkKe4RrXddSSoVKComIjuu4rkvpz0zn/DmnAEFCW+W2qaumqsqyyNI0TRIphJKKEmK5juM4juPpJDEEWJ/L/ZPEmA6KJkpJ0YiyyMsiR0RKKeOGbTmmbQMw1PbNjzb7Y/r68wvPyQ0j6mA5R0fbAdHbQV1VTVVVda3brKRUiIwy23Ed17dMy7Qs0zj15KjTx4yMGYRQ1hZRRSEqKYoiL/IMKDMMyzAMbhjcMMc15342fSIz4Ec/Hn+HSgipZFkUeZ4XRVaWZV1VAJRxbpmW6we+7xumxRijlINWBs4BYknrhQbQni4hsyqrqrLI8yLPyrJUqJRC0zRd17Vt13M91wsoa23dL7WZarMGhS8GRn2jvwHqTTucAjGY5xgX8ymn4HnOdDqJkqQWqhZNtNtURbFZP3nBxAsmpu2YhsUNQ3XGTegSMva68iggBJ9/PEda+zriYS/taD9zKgMBJBQIEFCyaYRIDtHTw8O7dz9E+y0DOpvOwulkMpnaniea5u7DT3Uj06yYX1xMZ4sgmBAyjhh7pjsOHdEK/BjreNR47M/UjhdKDctyEReLC87ZZDLJ0jRNMwAaHfZVmW+CcDKZ+EHg+b7juowyxin2hafgWRNe6n/rpiE/L4/PJ4b9pAl4+vXQ6+f64pnm96ZHHLQPIACopJSyqcq8SNM8T/IkSbNE1I1lmsvLa8f1HdfzgiDwA9v1TMOklJF+Rx5Y/4A0JcfWxXN7I3SntP+BICBSwCKL0yiKD7vtZrVbr5USF8vlfDrJk6jIoqqqm0bKphFNI5pGSYkjzNGRReJj7+OvhHX/thTpPzWBECJN0zSN9/t9tN/VZSWlVFJ273usUSPjnBuG7biL5eXFJXWpRymnnQGe/qal+RPzzgszFxVRAERJ0Yi6jg673XZ72O/yLCuygjFqWZbreYuLi+Xy0vE8w3IY5c8zcVEdMfjbHpGPEyACpZSCkqos8sN+t1k/bZ6e9vu9EkIK4fnhfLGYzS4WFxdzykzLBkZpC2YCQghQQgkqdQQ4/c0SJagBCIQQJVBImaXJbrtNk4QbhsEN3w/CyYz5HIgipAuAhhaB2Ugp6jrP09Xjw3p1n0RxliVN3Xi+73n+Yrm8vLxeXCwNy2KUaXwwRVSfEeD0V09CiLzIi7woy6qqa99zYQo4Khmtdem6qpVSZVVWZaWUWlwsbNv+eYr0p0gb1AYzIiUgmiaJ48Nuu3p8fHy4r4pCioZSOp3NZ4vF4uJyubzi3OAMKTPIy2+w80kQSggFSikoJZWSTVVGu912s0EldSDddLaYMsY40WEGhBAKQH5ORoifQXAMXMJR/S9CUNVlFcdRdNjvd7vDbts0DSrFOF9cLBeL5XQ6CycT0zBGtzuf26H3yAIhFIBRUEIJKaqi2K83m+2GG4bnB74fuJ7LOGPAfqH56RcTKkWodtYrFEKIujocduvVerd5iuM4iSNgzHYczw+urm9vbm48P7BsxzQ4IXhWl9aSNu2QYKBQKJkmyX633W03283mEB2UlFJK3w+m8/livry8urRsmzFLy5ofEcSoltnO+ay+0d8yYa8jEEIBDEaYbbL5JPDd+Xx6dZnvo+T+cXX/+Bhv0418osxYXt9c3dyGk7nBGAMDCEqlEWBAjrNDdX9ozHeLEjuThOHo9D/3FFUaS0SB1I3UeOCnp9Xd+3dVmZuGEQYX1ze3N69eFUW53m0Pd3dZXuwO0as3bxkz/CDsPNmEaKmGDkbAru/dsj5JZNDGz4yVya7LFADANExKqWGZ02lY1lV0iA77aLvZbNbrhyz1PC8IguXy8vr2lhsGNQmljBCiFCr13JvZKdZnhvsUPvCXoWdZlF7QpcloCuBIk+60aAoEACU2QtRxtN88Puy266osyiJ3XX8ym0+n8yCcBeHUtGzOGeO8RVEi6FCpTvLv59upVvuCxRl7q8eRLk0wT5PH+5+eHu+SKEqTKAiCq+urMAjSwzY97Lab7XazrUWjRC2bRgrRRor9TYl3Hf1qivQz3+tg5EF1evzzjFIdjYQkKURVVWmS7be79eqxLEvRNFIKqqcYICVIUOd1l0ApZ9xxPUQSBBPbsoghAbjOxvDl0blDmzXk5kzHX/yKdMvsy2AOvRbd/YGEaKAtEqKIUhJl3dRxFCXRfrvdbNbrw35XlVVVVZRSgzHLttM4ypJouljO5otgMgPGgBvHz4G2V38SOsbTnK5E7H/8CZ6kf1JCAKgQQlaiLLL7uw+Pdx+22+1+t02TREmFUjlunCVJcoirskCh/MnE8XzTcrENDtAYd6DwC0X/T07sZyfgkckVP9sAK5UUQkkpsizNs3Szelo9PkTRwXV913cXF1eGYbquQyilXSIyJERJhaiyNIkP+91mu3r88PRwl2ZpVZZSCNtxLNvO86yuq7ouw+lsMp1xw6BAARjVetFnG4i7CIazg3Bq/P5aSCmlpCrLcrfbb7fbIPCrquKcl2WJCpVSdd0kSZIkaZokSikAsCwrqAMl1SfY87PxQDz+tpscoznULgFAAowQhbWoRF1vN+vHh/unx8f9drPbbuqqVlJSgCxL4+iQp5moaykazw9dP2CMEwK0Q9919z11hSrRCKLKPE+TJDrsnx4enh7vCYDjeP5kQoF5nk8ZI0ig444nS+kMquF0W3jR/3rKNsY2eehuTo8OKyWasm7qcrfdrter7Xodx1ESHYQQChWjLI3jaLu7uLy8vL5ZXFwYpmWYJgA7RXGP7tnlA8KmFrUSWZpnSXTYH54eH1YPj67nL6+v5OUVpeC4Tg8t/ZgxdEwnuQRepE5iGmu3Z1alxlSiUkhQCdkk0SGNoqenx9XDw3bzlOVZnuWUUsM0bMerirIq8vnFcn6xnEyAUsYYh3FViKPWISI2TVUXRZamq4eH1epxv9seor2e9kqpyD4c9vv9dpvnmRAinExd17UshxDyRaryWGzEk45/o78BGsd8tFkfACgFzm3XtR3H9v3A9zyFsqoLekiSNKvrokjig2Gqpmmq0vV84AZjnOgYDMqAnNnI+tg39eI2/PK81aJZF2hMnvO27gs10sWGLo4eONZrAYiSsiiKJImT+BDHB85YMJ9fXV+/ef3dm7ff7Q+xRCLkpq7rzebJtOxwOvUC37Jty7KBam8wogKgg0cVz+qp3eEhqmIUB9Q3iDJmUGpaJqUQKGkalmU5iFgUeVUWohFJnHBuMG4gKsdzXdflhkEpY5RDZwsZj1qXOfJEPf08OuUF+IXwyjOs/tTQ8BLieyTdQs+fEJGgaAQqKWWLgTrsNnG0z7MEFVLKLMcJw+lssfSDiR9M2jjk9kZI2jJnBHWZq/b2Zx5+2uihUW2OMa3SE6XqupRNEe13+83TYbtRiKZth9PZ8ur6YrE4OJbJed2IJM1EUVHKgDE6is37OeM4Cm7CL7nPb4R+pWRj57UjHA/nCEw9IGs+i0CLeKAoKlRKykY0ZVlmWVYWuagbKQUQQglS0BmPVVmWdVlIJZVSjuP5fvj69RuULQicEH1DfFlsO9sI0s1SBOhyK3fdfPG6IT70OH8MKgB6/LLgzN9jhjuK3tEukUY1dVmmyeHD+3d3798fdtskTYq8YJxzxpVSSVMjqt169f6dffvq7d//878ww7Rs26CMAqhOAOtezJeDr0EzQR0wh5ohfuwe7f6iw+bgC60Kzx+uCCEUkAKlDIqiig679Xr1h9/97o9/+H1dlgAECGWUAtAyz/M0263XWZIUaXp5fbu8up3OTaAUCCNt7bT+bZ2XHj/RHH3285wVx3RyUAcjj6upth9evgkQpQg2TVOXeZrGq4fHp9Xj6v7+6eE+SaLp4mK+uCAKJ0GA8ykQRpj2KRKCSjSNqJvN6vHdD3+4//BTmkRpHBGCnHPOaVlkWRIVeRpH2+169frNWwrE9wPDtDjXuSpIm/u+m6FtHOlxcwFIG7qJSpEhLHc0NC8q2b9xokAZY4SQ7Xbz/fff27a92+0819ttd1LJpmmSOH58ZPd3d/f3D67rXl1dXd9ck3aP/Vn9RSSqZzbt8u/3KOjC/IFQpUQcHQ673fsf/vjDH75/fHxgQBmjAJRzDoRkcRLv90kcJXEURYeb21e3r76zHJdQTkeFmwb7OioKlFFApaqyLKti/fjwcP/T4/39ZvWwfVqZth3OFhfLK8dxLy6vDMuiFCiiAhjixLte91Zy/Qj6LNnYRweBdOOnEPvoOUoAu+C41mKrGTMlUjRiv9/utk+Pd3cP9x+2m/WoAYgKo8P+nfx+eXn19u/+oXj7d/PFcn5xwTgjx1G+HelEE4QSJaXIkiRL46eHh4e7+6fH++16vd+sZxfLusoZY45jAcwoAyVRtiklPw5GUAooI6RLU9Cn2TqxHfQBgNjm3Go/HcFoRqHdSAkKKRopiiy5v797+On9Zv20323SJGWMMc6kVHmaZWmWpfHDw4dXr777h3/+F8swTctmHc5QdUYKRdqiEQolQRVHh81qtV49PtzfrR4e6rrqJFDgjJZ5Fu239x/ebzdP69XDq9ffvXn7d1fX10BYv+WocedGXdWazlk+PAzNV8g9vtEvpOfvnHNmIZLQfYNXvu/s99H+kERJWlbisH5M473teI7vB+E0mEy5aTPD0EVDO+BqH76rmUsvDbWTvgXqdT7xlxQZvZOfuAuf5Ujp9I0jE6nq0LzjILNBMRGiKYs8z9K6rpRSThBc3dz+0z/+09XN7c3tq+lF4U9nl5vtarNer7dJHD093jNGFxfLxXLJmdnre9hlHu1rVBEtXKuW0TzHKo4FV9QusS7rUJ9B0LKsSQgUwPP85DrKsyzf1LYlAAAgAElEQVTLskaI1ePDbrsOw0k4Df0gCPzQcV2gjFPW5lPt7o1HzouBT/aj8IKLZzA46NAzin2u89GAD4yjjfvumCbpG9FlEBp/HInj0LblVEQbfhNC2mRnSCRKWZV5kaV5lqRJlCSxaBpUKghCy3Ed1/P8MAgnnh9yw1bte0H92qEt1tX9x9F/MpoUz7Yn6GTPrsFICBJAAJQokngf7zabp/s4jqSSs8VycXE1W8zn87ljmVmS6NrRpu0qMGzPt12HmyYwqki3Gw13HhSFPglAl2gToefOJ6/haxP2fh2PdC8f4/G3veJ0PIbPEoh96u6EdEllEKWUom7KosyyrMgy2dRKCB1AQIFQAqhEliRpltRVWVe1bTvXN7d1VaGSdMB+f6njcZjCgy2vm1+nvT4ZANINQPcZ2/RXCoAeXzmghvDkO9QH9OpHBkgBa9FURRbvdx9+/OPv/vM/oiiqqhpR+cEkCCdNVaVJXBSZUqgQ0zh1XW+xWFIA0zQBtNeoq7PwcyX8QdXvRqRv7fDnYNXsWRhp5b+fSRrk0EWkUEIp1FW522x++uHH3//Xf/6f//3/UUqn09kknBLTMg2W50V02Dd1XWR5VeQo0bH9cDJjhBBtfFNIhmwXXQe/oEnHG+3IIHf+Vm0Wht6PhqMMcGMGfe5JiIRgU1Vpmm43m/c//vDjH79//PDT0+N9lqWX1zdF/tpx7OubK5QNQqtcAFBEJeq6LPLN6uGPv/+vH//wvZSNFI3juZNwapp2lmbx4QA7WK/s9WQFhMxmU9PgjHHKidJWE0IpDEy76+xJC9u3o1qJd6wxjXfnr48AgDEGANvt9vvvvzcMI4qiyWSSpZmSqqmbOEmquv7977//3e9+d3l5aVnWzc3N59x5lJ1mMNhrNqXaxXM0KaBlI206E0qIUCo9RA93P33/+//zX//rP9aPD/OL5XJ56TiuYRgEMTrs99vNfrdJokOWxJyxxXxpmBYlAIzSfv4jwRG2EQghqMqqTA77h7v3v//f//nuxz/sNk/xdu344cXljZJicXHZNBWi2wGru3i4Yy0aR3xM133rssOMEvM9m02j1aRGpd30R9qZdobzgSiCKJr6sN98ePfju3d//PDu3X678X0/CEPOGCGkruvddrPbbZeX142oGaOMs+l8xkdLtWuQ0m2mBAlBQEQpsuSwfnz88Q/ff//733348Yf0sD9E+5vrW8Ng4XQ6W0yJ9vJL7F6rvsnZjU+1rxooIhkU5OdLpJNoRwdxJFMBGbTo4SSlZFNVaZo83n34/nf/tdtu0iRummYymU5nM9mIPM/yPBONkFJkaeoH/vJiSYFapgmEtjcapgMSRFRKKZlE0d1P79/98IeH+7vV/b1hGOFk4gcBZZQxFh+S1eohTdPtZrV+fCzLwg+D5eUlBQLAxpP5uJ9d17HN23cijumPShHGyDf6RpSCZRmWZYSB+4Zc7/fx02b/+Lj54f371d1KKOSm5fj+5c2tYXBHBzdR7ddmR9Ib9Gy207FQUTjyy31iz2qvVojjXMc4PqZ12NHk7/J6j6oadbxTabCdFKIo8yxLm7pRiI7j3t68+ud/+dfF5eViuVRIbt6Um+3u3//n/3x6WidJ9LTiiMgNYzafgzFYAlSrDYLOPqbNjz0wE4lCArQrDjoWX0boJC16oJItHwcglmU5jjOZTl69IkVR3n/4cPfhw2az3u82RZHP54v5YnFxeQVIDcNgXCdHpYCgB7xNUjms8iOtuYWkvzjc7a4yJL3t7/WMpxyJIHB0B51s7OjjWJfuMtW1qb70ZtRzWBjKChKCKCWqpszTaLc+7Db73e5w2FqWHU5ns/livry6WF5ZtquLcqNCiYRoyLtOFUx0gau+hhloQUvLWzAWn4+7iGQwBmCbXbL1SCslk/jw+PDTYbNJkwMizhaLf/lv/xZOJgbnQtTGYQ/cZKZlOh5hwvY823UNy6KMHYlu4yHvvmwHoc/7pv3pw16hviUb+1I6VhtUZ/hpfSknRqUv1KX17RWahukHASGEcT6Zhk1VKSlRyNbjhoqgqor87sNP6l5ahkEnLAgnl8urMPAtywKgSimtWHYz8vObMazbcbmRTvg9djgPf3XTaOBFo6E4xiN2jzgjVxBCRip1m4y8rpssSeMoqspKIQZBeHXle4E/mcwm01ldV0kcxdFhvVqt16uyyPb77Xq1ugDi+h5QTpWSBDt+rXvy5TGcPfPpP5/bdPpdAsey4M+YBu1Vw8MU6sTcKo4OH96/e//uj1VZBEEwmc5ev/nu5voV5wbnxmG/f1o9xofINHkSRfvdZrZYhvOpbbsWpYSwLjwKn8Guvog6TjL+grz0UY+FGmU/gTOXnNwAlZJSKZll2X632+92TVObluUFwaScmabhuR5jnOpQ3e5d6CI9CjFL4+1mvd08pUmsUM4Xi/l8PplOJ5OJbVv7/f6w38dJHMdxVRVxHG03a0Y5o4ZlWl0T2jSg2JvOz5DCNtf3OfXoeBJ8XaShsJZtua7r+36SJO/fvydIpJJCStu0VqsV42yz3eRFDhQ8z5vOpq7rUvjUVD+dG/0m1WZqAYLY36T1L3QLSSlUsszz9dPq3R//GB8OlmVf3dx+993f//3f/4PreYwxIcTT6nG9WtV1pVAd9rv9dnvYbwmlrh9ww9AOB33zfjbq7N+NknG0v//wYb87EEICPyCi4UAsy7EtG1rEZUtdKM8z1F0rHWhsI5CuhBMZd7Xv/nPrTLchA1Ea9jYMVWeQp4QAECFEU5VJHO02m6fH+7ooAz/wPPfiYnm5vDQtiwLUdfXTh5/uPnzgjCdR/OMPfzQdd7G89gMGjFHKOyWu1UwpIQSoFLVomiyN16vVT+/fp2nq+/7tq9crgKaptPDRWY7w2QuFcxxvxM06EWQ0JMPFxyPRsqvR4hrXFx1L8KqpqiSJ9pttFB3SJGGcXV7fuJ47n19cXCxEI9MsjaPD6nG1fnpoqmq7Xt99eH91c+v6LqWj3O4jC4YQoqnLPM/zPK+bxvP829dvgsC/WF7O5zPGGOfsaf00+Wm2fnoSTXPYrrdP8+iwL/LcsCzLYABEkv6NjviIlhaQHolsOPr1tXKOb/SXIMsyJ5OAIFJGJr6fFEVZ1o1UdZE93r2zHc9yPMv1TMsxLYdyDpRR2orNVIcmj6aXwt552hpwXpRYThSOsS3smLtpCE13t+F8QgghfVwzIUD7Ei1SSikEIuosFWmWbbabRoqiLLlpAuMEIJiENze3tWgYZ1VVVlVZVxVljFLaeU2w0wZbXbov0ffSehobA/B429aX0m6n1wcopX4YXN/cOI4Vhn6W55RSpVQSHaRo4jhyPddxPNOyLNPkBgdKNTRyhI0+aYDqFNyzwz56U4TQ1iIL/fYzsMfhzXSa4ViXblXQsS49EAwXDZsy0Q5xRJRKIUophKhFVZVlURV5mWdFngkhvSBwPNd23CCc+GHoeiHjJhJQSECpvmwkabf4o6TcSHpsUj84+CJaEcfiY9s3pYRoRJGn0X67fnwUVWmbpuN5ge9bJidE1VVZ5lkSHaLdrqkq27Y93/R837BMSmk3MPqmg/uwBTgcj1JrIBqwFsMOjuRZlNdvnn4laPcoz/ygorZGuX4enEzOLwzJBYpIDMMIwtB13Ols1rx5jUqB0pk+kQJRUirRxNGBoIoPe0QMgnBxcXF5fRUGE8syEUBKlIiIalxx7vOIDnMUumKW6jweeES9L3rEhQbpgZAXEe8nd6M9qFsfk4TUVZ1maXyIqqokhIST6es3b1+9fjOdz+fzhVakN6vH//iPf99u11WZR7vt+unB9V1yeTXCVaKuHAVHjfk86gwLbbGk56Lvyc/hR1sq4pPjf9Zp3YOj9ClKSaJIHB3uPrx//+5HBhCG0zffvf3v//Y//uEf/5lSTil/Wj1Ofpw83N/F0SGNDof9Lo73WZIAMNN2dC90Oi08F9P/ecRI17CxSIxI2iqVZ9am5uMjqNP4yFlqQRlVnqWH/X633TVNY5tWEIRKNJZtuZ7POe/yWrUMDwilFAiqPE3Wq4fd5inPElTq4mL53/77vy0vl5PpxDKt3W672+1+/PHHP/7x+8N+nybxbr22Lcf1At8PWy2mg+YSgGF/ef4egfTpd9vR6FSTXsn4Ci2VhDJqUtOxHdd1Pd/b7Xarp1UcxQY3eAcaJIS0ey2A67mz2UxnGvt0f49X/6A3tCMI0OPAiK78ixqMo9NCFHm+eXp6/+7HMs8d27m8vPq//vVf/8f//f/4fqAI1HV9/+H9w2y+erh7Wj3G+91ht93ttoZlmaYFjtuJFoq0npMWbUaAKCWj6HB391MWRwQgCCecUce2dGkUCkd136D1W5zrbLffawkJunpPL/DOgXf0WzR2BppuFLozdJIDIEBASlmWRRwfdtv102pFEINJOJ1M33z39u3bt47ncsqqsphMp45lb3e7JI7yPJstlm//PjEty7Bt7Z3vsw8BITojulSqqso0jtdPTx8+vAckgR8EXtDUdZalvRV/wOC07R6jmc5yvHZH6JbG8ZDg8e92D9F8lGCLdSf9JtS6T1ofG+qNYL/fJId9lsZBEN7c3L568+by6ury8lIpLPJ8s9n8r//336NoX9fVdrt2XNfx3Jubawpd8SogLXoRAFGKpimKssiLPM+buvaC4GJ5eXV5+erNm8urS5MzbtDHh8fZdP7jDz+8e/fD3dPjdr2K97u8yDwA07CAApHYQnKGqdIVkcOeVfQTodtISctPv0bu8Y3+3GQYxiTwHMeaTMPXr15ttrvVar3Z77I82+82hmW7QegFEz+YBtOJiQ4zLACdQ6QFchOgCk/MWz19RHDV2tigxowOjFSLLv/XyfHh9lriGd1DotLZ+5AgBSqkSLNku13nVRklqR+GXjBhhhGGk9vXr5MkTrOsqsqqLMq65KbBuMHZUI4YcNClP4+OuA+2Ym/L1RQSIgm2sBUClIVh6Dr2ZBZmSRonSXw4RNEhOkRJknDOJ5PpZDr1A196gUscxhkwpivQqzbnGZ48HFsz23MBY7ApE0IAqBrJ0DgCtLQNV71PC0eo8NZLP3pNo1cx9Fz/qU3AGorfwhdQSaVkXRRFkeV5msVxmkSyaRCRUeqHE38y8XzfdXzLcYFSoIwAqNE23j/vnKiL3Q6Cw9wZv5TTFwVDFSxAKXRR6vSw3+3WDybnFxfL5WIe+r5lGCBVVRVZEifRPt5vFRLH8bzJzPcDwzAop0THZ7Xm+mHAzvjEB3d0u0UfNbDtxNfErn8tj/R4aI/8CoSQP00aK1REJ0AxOLUtn3gAbaiy/kmBVEWeJUlV5twwKKWWbS+vrl6/erO4WFiOzRgXSBTKkXL/M6DFw1UtIG98bGyzGqwIpBMCT+50ktBCHceHHMXadkn3B1EKOm2cce56wXS+vFgsX795++bt302m08l02tRVlkxNzn788QdGqRSyqso8y+q6Ai0THXUHz+usnzsY7S0GaWc4Y3S0/a1PUp8c/5dWXgcJaHcnqVChyrNsv98ddrvZfDadTJeXV7e3r9+8fatnB2Wsqeumaaoy39VVnqdZmmZZYto2oi69/KI8/9k0Ho7xu4PuZ4cA0r8+0vuPtQNJC4cCoNQwDO6HnuMZnBOCjHPTtBhlXaXYY1chYpalu806SSLRNKZpTKfT12++u7y68n3fNA3b9Vw/SNPs4f5+j7uqLA/RIZhMF3WJR+iJ1v7bRVWdW+DtdvXctdguvq+JrY5I17E3DMPzvOlk+sAesjRbr9eGYRimiUoJIQAgDMPJZOI4jud5rqvLrX3eA/AMAyWkFX9Gpw2CACFEIYqmqcpSJ+umQMMwvLy6url99frNd57nS8SyrBAVAFRlsV2v66os8jQ5HPwg9MNZ92zVPqt//rBvAwA1bcfzPECVRnZqcCGkQhh4yLPmvdTF3viPZ6bCCZp31I7nN0ZFYITxBQKUSNGURZ4lcZbEeRrbjut7/vXN7fXt7c2r157nGZxVVVlWZV3XjRT73S6L4sNhFyex7XnUMAwLWvWxzZA28EmppEIESrlhOJZ9tbwyDH447B5XD9Qw2mJznfQzClj+9Go/vyZOBMvj/o88Bor0MOzBwkmAYFPXWZrEUVSUuRSNaZrzxeL1m7cXy4vFcgmE1FXteP7j/b3neVLIJI7Xq8er62sp5UlSyvaVYfufccN2vCCcTqbT2XRyeX19e3N7ubwwTMY5JYRmWRHHycPdB12Mraoq0dRKyW6z65QK6AtaH79g1DHjZ4ZDIX5Ddn+j58Q55dy00PRdV0pimZwCUoo7HklZI0pRFLn2CaIyndqyXcOwKOfAGFAN5KJAaGdE+8LHa2VNdapct2DHcuBxAaVTvXHAfYzYfauHICJRdV0lSbRer+00sxzPzzI/KxzPlUr6fgAUgFIppWGYOjMmRYVDnsdOm36pOPPzDg1Wwd4efize4SgdN4BpWbZjmZbl2I7tuNojnedZ0zRVWWU8QcSmaZq6aWrPtCzbshjnlDKgug7A83F5gXmeppdUQOgART5WN5+L3ieC6/PRGEnGA1AQ2pw2CqVSSikpmqZu6qos8jzLiiIt8ryuKgrUMAzLdoPJbLZYOJ5vWRY3TCFRSjlMCDh94kf+d85r7HfE04tHpMV7pVTT1FWZ52mSRRFxHaKkyRhVqqkK0YgkifbbzWGzifc7XbKREkJQSimVkMAJwKlG2c/g0z0a+pHsGtxNnq+R/rrLXymCtEXbjAqr9dpJkqYP93f3P73fbjdlVflBsFxevn77djqdM0o1Hvq3DTE4jg8hJ5+OFiACmJYdhlOCxPH8xeIimEwuLm/cYMJMWxKqCCWUUW5ybnCDM8606WHQoAebfptu4TN561+GjmIhCSEviaLYIhHqqqqKQtQVpywMJ0EQmLZFgCoEhUC5aXu+PwmtJwuASCnqqijzrAlDRAnAEVvrwi+qA9aNb1dPuLUut+MOI5Mzef7zc59BGePIXd+/WF55rgcEKSFPD3eiaZqqoozr9wyttaT9myBRQhV5Hh12VVkyzizbdv3A8QLTcpDQRhJKTccJHS+wbcc0TClFmkRZmtR1raMhWiBWL7gP2Ne/LaKM+r6/XF7cTULOuRBCCFEUhY4eNUxjzueaXNflfWWLPyH1migABSIESiHruq7rqq5qx3Fcz5vPFq7nAaUKiVSgkBqm4wUT1wss2+aMSSHyNC2zXNR1i+buTHigN25AhQokBaCT6ez1d29RSYtzJcXDT+/rqlKqVApHKVew08Z/TU4ipSiLIsvTpq4Q0TAMzw+Cycy2PcK4QiIQCVAvCK+vb3a7/Qf2U91UeZ7FUeQHgWXbAC5QApJ0icw6lwVQzg3b9a5fvbZMy7bt2XSqlHz3/kfaun2GyJBTW+Wfjc4aASlRiqBCFKIu8jxPUyUk59y0LdfzXc+j3BKKUgqUcdt2/CCYTqZxEpdFvttuszQRTdN6o4Fgbw9EQnSdetueLeaIOF8uPMf1PDcMQ8u2JRLSIKISoq1ESjXUm3OqFRVNqpcLf0Obzjf66yA9yxgjvu/eXC19z1mmWZRkaZoneV5UdZYc8jw1bd/1AsvzTdu2LYcZJuWcteG2HVL4E/LHz6PxYj2rJdLe4q4TpjJKUSnZiDLPo8OBMW7bruk4hzgy7bVtO14QeJ7vup7reszgk+nUNE1d7ZKg6iDjf6r6i9BznNZt2XUFFVEEACg3Lc8HAPA8L03TPEuLIpdCJElclkWWJrbter7v+57tOJZlGZZFKWXAlIZAkWcc7cW29DbZ1hel2kQTP6NbAyeFZ7ypjZRGhUoKUTd1XZVlkWdlnlVVWVelEA1jPAynlm3bjuu4nu26tuszbiJwqTqr4GfxPGzT17Wx0UgoIefwDuSkkUNrAVFJUTd1JepSNGVTkSbPqjROLdtgLC/y3W6z22x2q/v0sGWGpRQSoLYXutMEgZrE4Ybx/HF/C/TXrUiTHkSOSEiXapkSnQcG0jR9fLh/9+7H7W5XVaVhmhfL5Xdv3+oEdIhqtLq+us177K+mSCQQYphWMJlZtrO4uFSyMS3bdX3LcRjjCkHpSgWct/8pg+dFR/Sy/tOK+H8KOmtKfM5FtPdH6QiVqqzKoq4qxlk4mQRhaJo2AaqQCCTAuev5QTAxLa1IN1VVFGUu6lrpWKGWS+oH/qKa2uPhPBla0P8A+k8/AwgAlDLOfS+wLBvl3GDMYJQzGh8OSRRhazolrbkJSZvUF0FJWRR5HEVVWXDOPN/3fN/1fG7YSEAIxbhpu8xxfdtxTdOUUmZpkuVpXVc6Rvf4BQyy8N8aMcp8318uL8MwZJwJKeq6LopCKUUImUwmnPPFYjGbz3RJ4T9rY3T+fyFFXTdNVTd17Tqu7/rz+cJ1PKBMEiKRSEINy/HDqef7tmUxSqUQeZYUed40NSIq7APSxk5SlFIB0Ol0bpomo9Qxzaaq6rLabDZVLQiReGYO/AoKUruogAjR5GWepWld16gkN7jr+eF0ajkuAdbCEQkEfgi38HB/zxhr6rrI8yQ6ZPNpMJ0CJZ0OPVgwgehUc9x2vZsb82p55di277lZlgWTCeV80LfHWvSfeTBGObqPxoEQbSpFUTdlnuVZKqXgnNmW5bqu64fMsBoJBlBmmJZje74/mU7Lsjyk+7qqsiQVQqLEzhBIRr2jjHHLdmbzCy/wpZSGYZicG4xzzpRCghIRhFC6Wh5ljHODMU514XuCCpECws8Vd7/RN/okaV9L4DuB71yqRVFUWVE9PKx++nBfpOuiSvOqMW3Pm0y9uvKDEAhYBIBSQnkHkDjihX+iVYytOvTixNcP74JeUPuYmY4MkkKUSsTRHpUyHceyPWCMABi2dXv72rKsWRj44URXIqSMAdURVojkmSzyc5pOnu/4I++uIkgkISAppcyk3LIsz/MQVZIkh/1uv9/vt5skjhEV56ZlW9PpVIhpoCQAcMMgAEAJIwQJpfi5BWrHLPaMw5x8wVv7CDOCVmxD7eAXTVMWeZ6maRylSVRXlZQCAMLJNJhMg8nEDyeu5xNgBFoNWOpL2zdBR64V0mfo6v6P8WbYzhkc6ffjhp1pa/sfUelkFk1diboShDRFWiQxZxyQxHG0Xj1uN09ptEvjPTctpRShzJ3MvTRhhsW4aZhfq0v5F9KvlbWbjHHMhIygzOeRCJ/Lk47gzYOCoL9QGi6LKIuyEVW12awfHu7X6zVn7NXrN7evvgtnM8O0CKWIqNqQzSGZQ9+Mz1tooxAMBKWTDj7v2VGTdfeH044tnAQRv8RPdcRYkBDKqYkGozpeTHHODctkOhZWqjzLDtvN48NDlqVIiGnbQTCZLRau42qNcQhsR0QgcLRGP8ti1v6C8aej4UA8Rqh3hhA8vvijDxidMiRUGF8JVNcoNAzDtLhhoFJlnpd50TQVKtWG9unaRHVV11XdlGZt1nXV1JWQDbaKwLglP1eL1l680wmP49EaHTtjn8TjCXqWAIBRBgahFIjiFAjVeDQgOsz7qDk9M0ZUCmUt6qpSUhqmaZoG4wa0fvh2Aeubc84Z4wRV09SibpSU+s5dsauhHMPHB6NbY207oD9AyFfNoYGC67qz6Ww6nQZB4DgOIaSqKkRkjBnc8Dzv4uJiOp2apvmZ93yGYX3maOxlliN4CtGAbaCMMca4wRlHxLIs0zgpy1JJqWGCgEoK0ZRlU5bt5K/rpmmEbJRSiBIIOY0e69sCYFimSzwgSClgpWNY1bjVqCEubZTEqUG/n9jjHvUxcTjeMs7NKx3xpvrjY/PTMOdb3qKkknUj6kbbNShQxihnHKiWaaBtIqVce0oZAyBSSg32Fkqendq6zgLjhkUAOSdKccYIgJBCKYWoHSFK64ftk3p+hTrD0HPUz/H7He+Zp4/vX0vHRnB87Jh99VMDlVSiaRrR1EQpxihnjDHGOudwl2ARODdMy2KMKX2FaKRsFEokbOSp6dxklDKCxDSBASqpvy3Koq4q0VSiboSoN+unh7u71eqBAiyvr69ubmbzueO6nPOOG/VT56QMlp5arJvlx4Px1cIFv9GvRUCAM+bY5mI+IUT5vpukRZwXQhEFpCnSVIoyzyzLMR3HtBwdpwOUAYBOHE065qJhXs/UmfZzz4ZaaM4IjjtmlN3VHW8gx9yMACF9XkmklBrcMC3TMA3GueM6V1fXVze3rh+6flgLkeVF01RVVT3c3ZdleSEEANiOYxkGhVHSvlNhYxzA0z5zxP6P92js23YkwA1HYZwCVimdVkIRnYvIMEw/CCilhmE4rldXtRCNUqqu68N+XxZlmqSu61q2bduOaRrcMDjnrdXtXPBPP1Ydvxy9oKMaTDjmF0fb6THLPFYK2i+gt2eglEJK2UhR11VZ1VVVFlVRNFUlRMO5YZomY4ZpGI4XuH5gOy7npkYnnTS+C0g9fvLRG+m5+2gfaAd97Ps/7sH4c9dpAMq5YVmO5wdBOCWiSdMM1UOaV2leSoVAuR9OOaO2bdVCCCmTKPLjKE8i23Ft2+lvfHa2n36Dqje4tqmjhlfwleEWf8060idfdYJRH2oyPukMI/ro7dt89LrIeL/wAXRRH6zKIkuS7Wa9enzcbta3t69ev37z+s2b6XTODUMiUQRlF+nRtUeb6EaZhT9BQPqwXuiS7LXgn7Ew1Pb+eCzImCF0PsNOjvksGstJrYeRUkpN0zAMjSPWBZOBUlRSIWZZttk8rR4fkyxDAqZlh5PpbL6wHQ8QlFQ4yg82SmMwiKSf0yjds7FW9ZErcWDCSPC5wvlCp48Z0XjbwXYaUEYZ561fRCksikLXGFdSIVCCoJRsRKP1h6au67pu6rqpGyElotSRli3LQNX37MtIN0thCwobWHnf2L7Jw5D0iRr7rRU7YfmlFugwXUqBME4IAiqiJB2l/j5+QNsyRKIjeJumVkpSSk1uak0AgbRx4kAAgDLKObKnhQcAACAASURBVOeMKSmkaGRTSyXbTMnYVenq5vJozpw0kgx9HwNeuxKM5Asm/2+OAMBxnPl8PpvNgiB0HVeHRjPGDGZwzn3fX1wsptOpbdmf282WQXQz5EgG63EGo4rjx0IOo5SzFn6ChFRlkSZxVZQoVXc5KtE0dVlXVVNVTdM0Qu+eUkmpjht5si9rjwHjHKVAIdoGYb/xY58fSi9sHBp6ZKlEPI7Y6P22w8OPBYv2KoKkzeyIhPRB3NhxUSCkVaeREIVKKSGapmmUknqlMMoYZbRzDuhB1cgOxrlOcq+UqKuyriophH6w0j/00LU9AcY4Y0xLQ7oglpBS6XLpbac6BMiR0Kr55Enmi2MaW7T0bjdWm7u/cDxgODDuI/MfdBuTxus0jcZpczpyDncZDnSjucEt0+KcKSWbphFNI4VEJUkn+Y3ZNQDomFLOOaKSopFNUxRFdNglUVTkaZHn28168/SUxAfLcq5vb29vX80Wc8dxgVKCqPpKZsOEwI5RIAHSltZ4NitwNN/IN/pGn0EAhHNOKbDZxPOc5cViF6X7KI7iLEqyvMjqMkdCDcu2Xc9xPMf1qOczwwTOGQXs1ESdrwr6jJI4bH/9WlZj3eN0CmPrWxhZptolCB1D7L4HooiiCFod4qZlGabJDcP3/evbV//4T/8UThfhbB6n6Xr1tNnt8izd73ZlVTLObduhjNsuMErVaEshhLS1oo7UaXWslvUsaNiBeh7cjkInJhEytmH2v7ved7c0TIPx0LYdx/Umk2maJmmskW51lmc8TUzLsm0nCIIgCN0uqwgAAKEE1EhQHb9U0u8CnVBBEFUrHZNOkWsHHIdX0Rsz8ZQFj6U+6GUYlIQoKaq6LMsyz7OsyNO6quq6klIaBjcN03Yc1/NdxzMsx7Qtyri2NI6Mfp2OCbTbytv5MRp76AZ/nKwL+xCDQfbtd75x28d2ASQEEYAahmk5juf7wWSaR/ssT7Mk9oo6LyvL8Wzb8icz17FE5R+iw26/L5I4TeIsjb1gKgMBcI7LvsB3ux6eWjrbAmdfFbv+taHdx2PVrbVfNILdasG2nE874/RkBEKIVDJLk83mabfdZWkqRON67u2r15dX167nE8pIW/AKj6V70jOyl1x/L/Sw5zfkiL887+lo7Q58adSvL4lJ7lfc8AGILskHFDrMHColmqIsyrLYbp6eHh836ycppOcHk+lsOp9PplPLdgi003psz+ja8wXjgXjEkM/ZKY8/ts9pq0B/+kH6Ejj+SMiI+SAhQCklYNi2E4RhEIYAkCXxfrfbbjZeOCHACbB4v4v3u+RwKPKsqWshGiGFlBIHCbgLh/zZdJL36IVbdbsT4lH5i+NzPlpHGrQgS5jOzI2qwc7Hq52Tx1OUdNsIUYhKKSkEKqRAOWeU0n5R9DIypZRRxihVEpWUSiqUClEBYSet/choYZdtcyzrQ7fLDWrB10mMMsuygEAYTqaTqe8HVVVp9J1pm5ZlBUFwsbgIw9C0PtcjranjKi++/66cZX++dnYCY8ywTNf1/HCCShZlud1uttun9frJ9Xwk0DTisNvst9skjqoyF6KRQiglWxvKs/U4GHiAEEIo5RSIBCKVlic1Tk21en7f8Bc6dcx5j3hmlyYfnx8jHf8fnX16VCMxurYrgqArxEkpEHVucB2iTttaXoS2VRuAAeNAmeafiKoRjZRC9anRcTRRu3ZoXsvaSyRKoVSv+2IXnTd4zL/MZvxscY0Lip76UBRBQl8y9nc23nbNSw1MoFTjdygw6O01SAgQSjVDAG1vU0oq1Gm18XwfgFJKdFpvpSQSrKoyiePtZpMmURZHh8N+v9tVZWHbziQMw8nEdVzT4LLf0fuOjGTxo1l4yiW+LmHsG/2GiDFgjBsGdxzb94RpmpZpmobJGWM0rmtRNULVRY0SmxpFhaI2LMe0bW7awJhOttx5ownpN7RnXOt49o7FHkTENjH/cOIJaxxNfyQKkSFQSg3LtGzHMm3TtBzXC8JwNl/Ml5eLxaWfpEA5oeyxaQ77fZYm+93OsExKmef5lLI2E/npYkJCgPSJMbrHPl9fJxIctvVqxlnNz2DG9f20v5gCoZRzBpyb3DAd2zUMkzFOGcvzDDFTUlVlJYVEpZpGVFXd1I3rNZxzbpoUAGAoCzGMlO7Bs4HrGXEnZOH4Kj0Sp5k7R73s7bJEszUpRVNLUVdFUZV5medVWVZloV0LBmO25di24/mB5wWO61PGqcEIocO+qBs6pNMeoJ8ngw2IfRojIENB5o5Dj7pKjmbK+HP/NlARCoxzw7ZczwvCyUw1VVZXjawVQcK45bjBJHQcR9alrAuhyCFOZZEpIZQQKAXpksh9DtOFrgujRiIgAuIvk6p/Hfq1Fem/BB2h+giiFOIQ7e/vPhwOO0R0PW86nS2vriazqWGaUkmFRPWOiGe3ANL7u3/jNBax2n4ggiIIRFdTFlKquix3u812s1k93D883O0Pe8PgV9e317ev54ul508sy+oXKZxwkN8eHcvf4zYOzBCAUkr9ILy8vM7ipKryKIoeH+5t220aQZlBmZml0X6z3q0fkzhq6koKge0ucl4269nUb3NYNHNWQ1XB0abd4mu1ctSiWBUhDEcHdKEg2qbs63QgBF03WG9+0BUzOLUHw7m/T8ZpYPNHGsB5XekrJCCMMwss3/em0+l0Os2ylDEGBEzDdF03DMP5fD4JJ8afIV1Hn+llqIAJwDm3bWc6n19d38TRocyLh+rOsmyDG67nU2ZIJQ+7zWG322yesiyTQqixFantVktH6lw7w5QitEN0k15OGF/ebuJdqj08ZtV/CUKCoLT2ODIQENIZYFG3Cii2qwd0qg29kPrVMW6y7smYH2Ar5XZJYgGBtMAOIAio4Ngd/Unqb43nF9TZO33k9j03QF29SuvTet/rJdLn14/ijI5sAc+lNtIJiFJPDESF2AhRlGWaJmkcJ3GcpWmtIwsI0WhyoK2gRfvKeOSLxukbfaNfSkAIBeY6FgWwLWPiu0k2SdIsSfOyqqqmqfKqqfI0iWzXd7zAdn3LcU3HBdCxBn0VQ80VTySoZwav7sxnzejBXc9219FnVEgpN03H9XzbdW3H4dwgQKVCQoBy7vrBEgljXDSiLAqp1OGwF1JxbvnTOeUGpaBDWrrb9ni5E5MdGfGhF5bksZo0/vo4RHGQ2lp1GloQNqWUm4bnecxgruvmeZ4XeVkUdVnVTVUUeVEUWZrEkeN4bhAEfhBapqmR3t2TByzKiRatgQMURv04bhPoip3d2b3S3N0BOvaIQEDKRoqmqcs8TfI0rYq8qaqmqfXtbdM2TMuybNuxbdsxbUfDIQmlhLBODgOdV1wHTr4oQxFCBnDOsy316O+Ti87fUAP0NWqRc8uyXNcLw8lUNTUgirpeXN4ub1+H03kQhLZt1llS50lelM5+XzXCNE3L4JwxSodh+nxduvvj5IqvTOT7K1ekzwkXSogmjg4P9x+iwx4Jel4wnc6vr2/8MFRIpNIK04mh8Egq+np0aTJeYK1JTntDoM1dXRT5dv109+H96vHhabUqivz69tX17eubV68XF5dBEHQpqJ4zy9+4QDPmjkesn1JgjAXB5Pr6tsiyuw/v1tGjkopSVuSFYVqGaedZkkT7aL9N47ipa6V90S0s/9Sz/ksG4i8wiB1v0+WnsEMwtbh5bIPC2zP7PbMtvara4hxt0rNTOy/Rewkl/Z7Sq0yd7naGzsjkz7bndt/rtrmvLGbmhHQFLGIQP/Bn0+lsNt1uN5RSxphpmp7rTSaTxWIRBIFlWn+uNrS/kSChAIRzx3Fms/n17SshmsfDPktizhhB5QehYZgEyGG/i6P9frMu8lxIKaV6Jk4N5o8xO+yMNepYzcRRetReMepnH0DvMfgLadGdnQbVgDR/JlBh+xMQQOdCHdIE9JehBqRpFtHfYRApJJJzo4Gk1aJRC2lfyA3g5C280M0e2HEWeDc+EwlR7bLvg6F1h8/6GqC/rIfn4YiXDIKn6jqsDXlKKYXYNE2R51mWJEmcRAddalHfj3LO2moCqAefAIxg7vQYEvuXnDTf6G+OGAPXsV3HDgNPSFWW9Wa73+wOu91e1EWWpkKhUMTxQ7+qUSJQatgOI4AAagAKQzdNWyYzgrQBHO96xwrSsJTGe+Qw3TtZVNu2KWe2bbuu57ieZTuGaRGgSikkwCj3fNd2XNf1i7yIoiiK9ofDIU4SPwyvbl5ZlmUYlIGuGg2j9pCuVS/R2OY20uWQDH7s8Y1eSPeDwy8kpIWpc256vi+VLPK8KIooiqL9ronrIsuLPGeMG5bpum5zsaSUUQDKOcCQ/7WTc44egYMa/EIrOs8oDAJfW4NgNPKdQxhQohJNVeZpfNgedtu6KJu6QaVs23EdxzatYDLx/dC0Hct2KOMEQFdV6/wzbe3urhbMMKwv04nsOfbljmdH/3n053AptAwWEYAzzoilPC8IJ1MUDUElm2Z5c/P67/5xMpt7nmcaRh7t8mgfJYnj+nlRmYYOUqdtge/PkIif62VnZs5XRb9uHekjHa9fPXh0qD//s2SME+D0GAwNQISUUoosTaLDfrfbNHXj+950MptMp9zQ27bOWDi4o0fz77Q1n2oTjibu8Qw+08FnXcB+NHB86GdXnMJBJ0EphahVkkTx4bDbblarx/XTY13XwSSczefXN69ub18t5he242hu08evf6qnn2jAub+7hAgvoFNxGIzPfdBxq/DkK6KjkiXajru8upJSAAUKlFKglJZ5pksTSSkMzhzXtR3HsmzTsgxuMKaxzQSJFpwB20DMwRvzRU0cdbuX6c+d0o9CK7EeWXlOJtkLY6Hl6KPh6FhYH2fVSdyA2utGgTAKjDGUqJRSQiqpUCHiEVJLV0lEpQgByqgeSn3rMV8/eukfs8EfnTtE1n6VDPaUbMueTCcXi4u7u7s+zdh0Ng2C0LZtwzTOpMp/gfCE2xEyVmnOHGtf8aB7Mc5n8/mb794yoJyxaLdzXK+qK0wT0zQZY4QQx3YqzyvyFIAYlknZSWmu9mYjbtkaajSCuvW19oDjXkJConFcIybXTeyRDAadDHOMTx+dMnCG4/6ernsYXdsLsqh0lq9u+YN2CPQu2VaXJDoIDaVUSseHtznJOGOU0jH2rjVWHXtpRqb31vMMvYJ+9DZP5/gJwz9Z7HjU/RcYdDuwR8LkiSSFg4YNBAkAUMoYYygFKiWVUkIppShFQhQqSoAQhUpK2Qi96pmOKAfozcsnTobBHIYECOGMEybDMLy6vrFMI79I8yzJkiRNkzLPCcD9hw8A1HFcx3Ztx7VdF3TmwpbV9qnHz/T59Nt+QXyjb/TLCIBSiqbJg9CjlNiW4ftuMsmzssrLUiE0ZboXdVakSXSwHNdyXdN2KOOMMq2A9UEd5Gh7PBaIj8U+7BS4kW9Us8WOGXTQYyQoEQAo56btuEE4mS2WlEGaZo+PK9sLlpfSZAhIGKWuY08nYVnmSZqURZElaZbEhmkAZdqde25/IcPywtafhCeNxu7K3sT4An1UmsVuiEDDwnU2Mm6YDiGIyDmzHafI8yLPhWikUkrJJImapnJc13U9x3W197flS20G7ZMhbT+1dsweKI1jcX24RjNH8v+z955rchxJgqCby9CRsgQAkt09czt39/7Pct/u7E6zm5ClUoVWbvfDQ2YmClUQQ4INa3YhRaRLc9Nuhq10RBCJxqapiiIv8yzP0zxNijwtilwjCqUs2+FcWJZlWY7tOJZlc8uiXCCF/rJi+18fCoXd6MhAQ09EpRErHGEQjkTFrnFt3N04ema6le3GUbOTuqqqukji6LDfbjZVUdiOq6QK50vX85VlUyYajVlRHOIoL0qgVNm25XquHyjbpUyM0ftkuyevjwSIqYT3/V3J+X2SjY0JSodAvS7dM70jmf/p4+xku+5SF3ZOBK2bMs+SON7vd9vNvZTWcrG4uLoOZqEQAigjTVfCYIq9JwE5vXj3CAy6Nhjz+fisHMt5pxM4RqveDfKxzo4+OFo+I+JRAgSxqqu6KqPd9t3bNzfv32+3D9vdxrbscDZfLFaX19fXL16akwODGXVMe0a94elmPQbm4RMFd2ov7Hw8048fm/4JnGqX2H0KRh60LXt9eWVJU40QsjSp6irNU6mbpmkoJVxw13FS21aWLaXiQjDGgHYGZkDEcSEfHPf6rEEO1OeY0J2GU41YadcEfqrfKbvqfzsUe20/N/6odiztPaP2imTTIGLTNE2jNfZCNxCCpvasbpqm0YQQRrsqGn3K+pFo27HH4/3vWAb2/OBItOjW43ujrycgpZzNZsvl0nEcE1/tef5isQwC37ItIQQF+tRp4vHrPjD56Fbp8Q/QbDxwzuaLhVRScM4Zu7ftqqryPK/quqoU54JRsBzHLgvbZPKXknEGlAJrM0/hwNZ74YIMAdIw3vvuLyLB9jYU7V4cyxDTaXUvx5ETAxM5gylnyGsnFo5MADD6pbnpT/oqnJ2Tuqd5RrVu6lo3jXFDt3nPabcWw0COmcXR285BbO6DPSZKniYbwwlpg1MCca6hARmA6DYZ2oh99fp0t2emfA4jBFAbTbrRWgOisZegyZ1QN3VV60abBPCUMgoUjCcINRI6Evmxl/nNv5xSKqTvB5yyWRiUZVlX5WG/3283Dw9379++/fD+HSEwny3miyUSULZt4gannPGY5Ooe9UaLYYjr4zL9D/gBTwFKCRAKnISe49jK870wDeMk2+322/0hSpI4TvJyx/Z7KqXnh7PlgpE5lbawFAGmCTaEIJ7PdTIQyBEDRNLfScPRY4MQOpG+sPX0ciEs2/HD2Xy5zNMkTZObm5vl+rKuaikIEMKA2pYdhrP9fq/rOk2SJI6iw8GyHSUtomxzmEh7fMbyHhIy3HJu6dtxlojeKtgr42fOHhwb9k+hnRx0w+Ccm0oTtm17vp8lSRInaZIkaZJnaXQ47LZbZSvX9bzAn4UhhZmSiglOTX3CLvFZN/ZjdtMtbpsAq1NKumqnhACh0BUkRWx009Rlnh720X6XJlGSxWWRm2IYyrJt23Fc17Icy3KEFIwJxhkAxYF19utF0ASzw5DXaSJZTtaNEKINqyItO8UxTTRhhDBeeCRjR/oYk9p8zAQBiG6ausryLI4Pu+3mQTI2m88Wi8VstnS9QCqbUqirKs+LfRTlRUEoU7Zrub7jz5TjUSb6iLUz+zqiv0DIEOV6okF0oZLfE7n+HUO7R3Sj++AjmPOl3UCXP6GuqjRND4d9Eh3SJJFCur63uli5vgdsSIyEEwcL+Yir9Bn9d8LlqWh79B57snPa/MeCYcbTHL09oRGEECSaaKzrNI7TeH9/9+H+5v3D/W1Vl4Jz3/PW64ur6xfL5Xo+WwhlEcrA1GaZYPqppPtUwNO3xxLP6VeDP/bRjFqnXU2dN+MvkGggTHCHeEDIOk+xqaPDIUvTssyFkEJKSgiiLnluWZaQUkghpORSUsbG2bawp1E46fW569HrH+e+7Hv7yJfP6LdXekyZwy4tR/uGjP5Dk75YCG4plelGN01ZFHVdmfJIRo1uEHWjm7qu6qpuak4pF0pIyRgDBkdpyR4hjKfjPzEp4GO//35AKWWiuF3X5ZxblhXOwvV6FQSBlIqx51eQPkENnITSHVl+h3cISACUshil9arUdSUFT9I4TRIAKqQURmqhUJXFQSleFVxKkwzWxGUMAsmxwtj3bVCLmj/GjGXugQEQCiaRNaHdIe9Eq+MLBNhVTxvu+B+JoJ1E0gmc40XpKHC3PGTsnDBjopRxzoWglCGSRmPTNHVj3K0IRBtDbNPoqirrum5qTZBQxpRUUkjK6NBYN/YuzKaXwLrwzc5bPXjpyZBTrx/6I7h+fFge8QKMZSYk5OMXJIY2gTLGhBBCiLosGq3rujKp2oFqyo0EiLpp6qrM86yua8YYZUwIwTmjQHVrodNtvllARNS11rqpq6quK60bxjhnlDPu+77nuYgadROFoe/7XPC7m9v4cNhb9m63Oez3lmMjwS7u/ziEZ1jtk0U4wZMf8CeHPt+v4ccU6NMDfJ4IQIFTxjlThEghLGXZti04E4ILwYAgiXSj6zorM0BKdFOWtuvVjseFpFwCY4QAPboXeE7tGFOP0adjeeacKkiIobVCqCCcXVxeP9zf7nfb/eGw3WweHu6buhFKAQUhhW3bnPGmaYo8z7MsS9MyL3QzSRk1ouwwEJo+FflgNB35VHEg0rp75vnQNjaerckTa8piSWVxLoVUXEomGGU0z5I6rcqiJBg1Ta3rpq4q23Fsy5ZKmeoJZLRwZmgnqa0MP4PTj4hxPmg0GTerKq/yPM+z+LBLokNe5E1VEiScC2U5juu6nuc6nrQsKS1KmUldOSwXEjJyUx2Ts0fL3Bqy2ivB0xa6TTiOztXtBeyTRSbEtIS6qcs8S+NDHB3iaO+7npQqCOeO50mpCCFFUWZpvD8c9vtDUdVC2coVXjCzHE9ICxg7r+ScQ3A8h75IJtGO3xH8Ke9Ij5ALhs8ASF1XcXzY77ZpljZNQxlzPS+czZVlEwKNOfajJMZkggHmNJlT8CwP+R8CAAB1g01TFtluc3938/7u9ma3eSjy1PcD/ypYLtfri6vleu26vrIUpQw7o9fHtLTvZAnGXGf0KZKmqbFB1/HWF1fz2dyk7WWUMcbKIk+TaL/bSUtxzjgXQikT4A1twq2vMHtE1Nhm7h7IK46J4FRhaP9+jnAAQIBQIBoooGG2QAGo0ZspAGVAqXE3EkopBcIYVZbluF5d11VdpWlW5HldV4jaRMLWjW7qqipLkzlTOI5lO5blcKGAUhzf/PqSof+JQCoZhMFisfB931K247qLxeLi4sIPfMbop3//XIAJHnXKUntVHnVb71IoMVssLMsyJhGT0xsAyqqsyiLPM8Y5EuBCmJA5xnkX3m2oJW0rP5nsLEAIAQrAADRQYMCo8WJTCmCwjBl0o6b0KjVWMhycD2P4amSmR78JHgIwxqWypLIoY0hQN01V13VlbEakszeRpqnyLCvyoqlrgii4cBzHsi3BuHmMUTo+uWP5kbaWhL450hdL/6OAsaZRKri0LMuy7CLL6lrXVV1VVVUWjHEA41vWWuuiKNIkqeuacymUsCyLc0EZQ00Au/xxQDQCal2VeZ7nSRzF0aEsctfzPT+wbGVJJZQyhg7KKOOsqkplKd00ZZHnSZomcVWUBFsDXyclHg+dDrLuD/jXBY26S3eAhBBkyAj76rp0D4xSKQiAohDYtvJ9dxYGhyiJ4zRKkrIs9w+3u82D6/uOH3p+4Hqh5XqG5mnS588jhJxB6kke//OAUw/m6DkAynkQzq9f/YQakzg+7Pd3d/e//v3vF5dXF+u14/lA2htYTa3rsq7Ksizyqiq1Hqr7ThW8wSj3EQ3+mG5/GeHuA2VGljPs6StQSpWUDIAzZtvK9/0kTbI0KYqiqsosScoi3+02rusGQeD7oes4tuNSxkZCCVICxuyMLTEeguU6NQChoz6GnmmtyzwrsjRNoySK8ixpqrKuK8aY8nwhpbRs5ThKWUrZUknKBKG0M06MNORxcPmnNOdPL9bzf91ZR9rMbwCgmyrPkiTep0mUp4mlFGNMWTbnnAAURR5F0X673WwedrsdUOoFMzcIg9lC2g5lAibs718L/pSK9AhGxx2AlmUZR4fdbptlWdPUnDPX82bzhWU5SAhqPUrWfSaVWGeTOq+Y/dFgZFA0wTykIaibusiz7ebh3ZvXm4f7w2GvtXavrn755ZeLi6v5ahUEcwAKlJvA5Ynj5rj9P/T0z8EgiAEBrbGutUZ0HM9xHE5BCMYYo4RQgN1uc3d7U1elkopxzoSQUimlmOAAtK/X+iVLMJDRLhdyZ8btdGrEPvgJu0c+V4sGAqYcZOsXNBfDjRu6L4lGGWO0c0pToIwqS7mum6VpludNlhZFUVd1ozVjFICixro2ZbaLqq4oZZbtWLYthGCUNqRNtTKe77+4Li2FDIJwsVz6fmBZynO91XJ1eXnp+/7nuKMfB5i87nei4+mIjW60rupKCDlfLOlyybsYXQKkaZrDfrvf73a7DeMCATiXtuNYtsUFB+N37IASogklqPssjKaCFAOt+4vzAJRSrZEBmP84Bdq6qDUxtaeO3YhfSmRwek7H6Ne+Bko5M8ebUY5ImkbXVV2VVdPUhCAAoYwgkrqqsywriqJuGkIIF9xxPcu2GeUtmaXQV/RsOtGMdDIZdOmyphLyYLcd7c/vQ1oBgFDgkivLtmzncNg3TWNk7KqqpGqY8alo1E1TZHkaJ3VVCcE917dthwvBGNV9LDcgaREDy7JM42hzd/dwd5umyXK9RtSMzh3LspRFOQAFJaWSdlXWlrK0bsqiSLM0i00GMrOY2DpjumX6AT+gB9SIGhvd9Lo0B87o1yaqI2CMMkaV5I6lkJCiKOMsiw7xzf09vdV395v9ZhOnmR/MvGBerS4Y5ZayqQBoKUajEeHj1zt62vVxVD/5svUgA2U8DOeWJbM0ff/+bV4UDw/3jdZNo23bth2PAKFACRLd6LquyqIsi7KuKm1KwX+EAh0x8XPmfjKluF+BlmEntxjzL7SEigkJQgrLsTTquqqSJMmSeLvd7rYPcZYWRV6WhecF+WrVNA0QopSitHUgNNhdIutEK2jNuDDej46Am2hQBESimzJL48Nuv9vst5s0OUghOOee7/ue74UzZdnScRgXlHHK6FAKomMNXWDpyG4+pNn8LDiyuTyBMh75lEyAWFPVRZom0T5N4ixNPS+gjCnLZlwQwKLI97vd/d3tZrPZ7XdeMFsF4cX1T8FsqZRDudS9neNfjzT/Tor02UvvrclpfENy/MTnbE4XE9hSl6qqkjSJo0NdlZRRLoSQUkpBGW0JxCjT2Mkwx5E2vT72aOc9tcEuqo8MVy8+dnCG2+KGII2ee2J095i63jhcfwAAIABJREFUYav6Y4NY5HkSHbYP97c3H25uPlRlqZRl204Yho7tMMbqqk7TxIRbtu5oYJTzPp55MsJnwtieOVwKflo25tGMno4GZwaJbUEXoBSyPDU++arIyzwLAv9ivZ7NQlPIbr/f393cfvhwk+W5ENK2Xdd1Hc+T0oLuth4eLXRvqX2CebD/KeJ00wZW1Q64Tehh+jP/Dsop9HLlEXJO5kw0aqK1Lk0d4Lpu6io+7PM0KYvcuMjyNI0Ph/1uw7mgTAohlJSEENtxl8uLLM/3cZSn6WZz//btb1VdBH4gpdxtd/vd9v7uNkniutFciSCcu34glDpeG5zgz8kSjU5EHyw2PE+ISXn8/QPj3LIsz/MWi/lqtVouV+v1aj6fO45D4dke6VEc1JRi9ZeHR1rj5PC0kfnNbru5v7vNs7QqCwBYr9fr9YUUgiApyuLh4f7m/fuH+/uqqqVUplKg5/qC86qqkjiJoggRASjnwnJcc/HbSLFVkeum0XWt6zI57NM4LvKiyPNaawSI4/iw22lCuFSMC2Ccct4VV4PppIZXE/nuU/iAbaSneTky6HTZ6424qBE5F6aetuU4Qqq6rne7zft3bxhnnuehtjmDvMhvb9794++/3t/fEETXC3wvCALfkoponUZJlmdZlgEA54ILIaUUUpo90qgbRNANNg3qJkvi0kRNN01VlUVR5FkWJ6nUpGkACSGcQpfU8LFkY8Nu66O1OArr69jJKI3tCB3aa+5tamwqhOV6QRDO9rsNAs2y/OH+3n3zerm+AEpR6yJLN/d3d3e3u+0GKITz+cXldeD7nNG6KrOsTLM8y9IkTZSUjucpoaqyQK2LIttu77fbhyyL48NufXFRX17hqmacCsGj6LDdbN++fr3fb3VdU0otSzmeI4UkBBG1HiUzAgTs8AEJ0QTZZL6T2Y8uRv6APy1o1HVdl2W53+/3+32WZW4Pnmvb9rfqt6PBjIElBfFdRG1J4fvefD6PoqTWWOsmjTY3Vb7b3juu73i+tGwupeDCRPuabE+Dtdz8p8+G6BzdcZuYlYyQarIhMsEV2vPF8qef/yKErMoqTZI3r3/Ls+yf3j+iwyGKDu/fvz/st3VdISEmFg+gr3d1DEeyKDFxjq3k08st7W+7m659XkAyHif5lDR73PWUoGEXE9oOglDDWI0DQCrpen6aJmmSACF5mt3e3KRxstttPc9zXM+2HMY5Y6wr6DlSRbHNQEmBUCMLAjZNrcumyLMiT/MszZIkS5O6rqQSUi5NMlrbdi3XU5bNlaJUADAC0GehhS6byGg1RqLvkfb5ibju3uBMBtrersuo+e7VsGlddPfRskIfs4+oTSacsqiLLN5vPrx9TQG55QrLyfIyOkRpmlLGlxcvwtl8tlx7figsC4Fo0ifPoWcE9VNm3Wt6eIZ9fXeyHsfjOfx3AJ68aS0Zfane44P8fCM9TP8gEAJ1K/wd6qpilAohhBRcSMoYIUQT1MTk/Z+oNTD6oL+td2YiZ0bQ/rq7TjJSuQbhZpwwZ3oGhkc6cvFxFDvRxjqzPQxrmefFbre7u7u9vbm5vblRSq5W6+VqGYYz13UYY3VdJ0mKhJiKdkAZ5UKiErRN1NvuzWfjeSv44FgTPZOqdvq6W6Y2WfZz+hvzmO6H5kowI1mW3N1+ePPbb2l0SOLD5eUlo+A4FmpNtD7s97d3d7e3N03TcKFsx3E93/V8pVS3EZ0VoE/ZhZ3d8qnLA0gIAd1RW92HdPectDfDtvJjt2zd/o4SPZ2w2+GV1tjouiqrqqiKsqkKXZZxtMuzpCoL4yzLsyQ+HA67LeOSC2lZDiFIARzHXazX2/2WEJJm6Xa7effuNZIGsXFsd7O5u33//u7+JkkTrbVQKpjN3CAwxZA7pB8L/92QpktkjL1Gkug5Q0fbh9n8LsTq6wJj1FLK9z0T0b1arVarVpEGCs+a4Civx2j/+z+DsNHC+P5xG8qlm+1u+/q3f+62D0kSA8H/8X/9h+95ADYi5lmyebh/+/b1brer61pKy3X92Xzh+j5nvCrL3ebh5uamaRoTGr1craQQXAhEres6z7MyS+uy0k2VRIckSbI8N+5cjSRJkt1+qwkRliWUJS1bEADOoD9Mo43vhBFChpPSrcE5gjAitGiC10hHO/rD2/sANCGMcctxvSBwHE8pq2ma/W5LCHFdd7lcAGBNIUmT2/fvfv31f+8eNojo+34YBKEfWEqh1mkabzfb3XZDKbNs27EdL/QFZwSIrmvdNLqpdVVhU2NTp2lSFoXWTdM0VVWWRZ7leZykSgMCBaAcOZPCLMV4W2F0isxcJpkDBuo/cKvpqozElxFLhYGvAQCRSnm+H8xm8sZGgLzIHx7uhJRAqe24dVnsd5vb9+/v7252u20QhoEfXF9fh+GMUdrUdZbFh+3h7v724f7e9f31xeVsNq+rgmBTFul+93D7/l1yOOx3D2WRcUakolLISon9dvP+3Zs3r/9x2G2bpjYnxXUdIQVpE+r0WXXAmEY6+o6to5yMbsUMi0Daoo/fP/X4AY8AIppciZvN5rfffttut/P5fLFYrNYrxpilrG/U7xD0x6ilpBTcUmI+C5bLPIqz/SG6vbu/u39IDtvd5oEAm6/Wi9XaC2aeHzBTLGZQ50bSILasv6fv7TTNXNu+e9I4wu3uJ4xxZtHFck2Q2I739vU/3755fdjvb+9uKUCRZXmex3EcRQdzr4YJThkfahidE2TGsmg3HMQ2U9axINfbMc8RKaOEP/lIjvSy9kQPrwGAMMaUZQkhLWW5nl/k+eGwj/b7ODrEUbzbbQ9qr5SazefL1QVZgK0szpmp0zAUU+jILBAEQFN7BBHrpiyLIo62++0mOuyrsqzLUkjluJ7juLbr2rYrpGKiMwozRqgpTNEPfWQ10DhUHB2mh0Do0Uwncx6rBKSPiZxsBJliD0FCQHfLZLb1jOMK228RsUGtsambuqyKLDno+w+iKjPKFeWqbnRZ1wTofLGer5fhfBHOl24QAhcEYMg3R4wh4hR1pl0blb6P4Oon2cm73xe5/n1Du0d6X68kfS2P9CBxtNcPEHVTN2VZlmVJCAopTEl0xhhQqgcZYzIsMggZA39+2lCwl3wG5t5rxiNyOO2u8z0Ox2KgRk9PNjb03hJEjYhFkUeH/eb+frPdbLcbx7Yty7ZdT2w2SJBxgQQ0gkaiEYVQynZsxw1n85kSABRHA/s8GK3dSNA9emJ6rszx7Fbr89zR/WvoBkF6hbRu6iiO7u9um7qWQpZlaRJR393ePGwesixzHDcIZ/PFyvNDE744MU50+2nah+fcdenwvVOWj2nl0XRGiTEBjjb8ZGlGi4i6qaqmruM4Ouy3yeFQ5lmZpTcf3m0eHuI4MgN/eHhQ1uuyqoSQXFnz+WJ9cen7vrKt+XI52yz9YBanSZalb9+8zrP0sNs5jnN/d/dwd7vfHwgQx/f8YBYuFp7nCynbtC9kHM360aODfQWPbtBj/WGiTHznQIFyzh3HWa/Xv/zyy3w+X19cBEFgWdbTzfMtTE5Kl2i050Nkut4jgczwzS6RMmqNWZZtHh7KPLOUZZLQEMQiz9+/f3f/8KCbxrIcL/Bn84UfzGzLppSWVbXf72/ev6/rmgvhOI6y1HyxRGS6roui2Nzfb+5vyzxvyiJLk5ub94f9Ls/zRje8LG9uPwil/HBrua7jBcF8FswWkliUM3oiYLW0DEkfLfSIQa09QX3gHmKnS5vpthmkR7o0UhMm4PvhbDZfLpMozouyfri3bIdxalkWpZBl2evXv93f3OhGe743n80XXca4vKrzNN1u7j+8e88Y9wIv8GdcMM/xGmyyNM2zJImjNIqaqtRNHe13m81DWVaE0OhwuL27A64qTR03EEopy/Z83/MDJjqzwkiGnujSo0CVIY5j5IBo3w6OrhFbGSHHlOYCF8LxPH8294O574dN0xyiQ6Oxqus8z6uyjHbbzeY+iiJKmeO4i8Xq4uLS9TwAqKoiz9LDYX93e/P2zetwPpdSOLYFQITkUkopBGM0z9OiSBE1YpMkERdcCL7dbD58eH/74UNdlZ7vzxaL2XwRBDOlLEII9g6Plqf2ExjkxhNxs91f/V3mr/kBzwcY/A11XcdxrDVqrZu6yYtcKaWk4sLkUPz6Id8MKGOEMCY4R5vYlu06rus4FDTR9XYPUZIWZZknhz0ldVU2VV6XgZCWtCyia0BNgdBe2uwDtE5VkuFVXzGwz4s/WgygjFLH8WANgouiyJMkiaKoLPKyKLI0zbK0rmvGmbIc1/Ucx7MsizGGqM97S6ayqCGtA1EZH8AufXN/Xb0f1KixZ3ikj+j9iCIaOgAEgDJgjDHBpFZmIpILRlmLA41OkpQQQISqLD3f93zftmzLEl3GVaNOtxQTEHVdFWVZFHmaxGkaJdEhjg5FlpqCF7ZtuZ7vBaFlOZbjUCYJUNJdkyOdaNd5njs6bnTrng89D3D428cRERxv1VSAxFFtChwn7j5eR9SIAJRxLoVSQkghhNZNkkQaNVe2UA4VijGhLNcPw8Xq0gtC2/OEVNrEoE2vep3AcUIAQI26V6xG7PnIk/mdANe/S5K0Y/WJEHLs6hy9PCURT4BW4gDSRmu0BjCzT4wLZTnKUozx7jpXl0CvRbjpvg+04Ima5CQEr8/kSgg5CWOYQqt+DJ0MEsGjBryRuDWSncfFW+q6yIs4iva77WG/T6IoS9OyrHa7vWUpZdlAmZHHGiRaa9cPwvlivb74+a9/CecBo6JuNJ5s0/OgJyadFHiKCJ32PyxEO358jq+3bexc3wDGO6Esa7FcFXmWJTHe4P3DfZal//j1vwAIJVjXdVWVwFgQzq6uX6yvX8wWC6VsYHxISIGdsjja7qe7o8nJJCdC4XQS2Flhe93gaIIn3XYsFrGsqzxN725v3r357fbD+zSJ0kOUxId4v8+z2JyRvCgOh8PrN6+FVEKqn37+C2XUcRzLsumcXVxd7+NIA+ZF/ub1P28+vLOUxYUo86Isci6k7bhBOFtfXs0Xa8fzGRfYBRGM5/Ex/af1SOPogIyE4X7Svw+x+rrQxZ5dXV/939l/eJ5/eXHh+b4QEgC+eIIjL/UUuQadCVqlVBNgjAVheP3yRV6k280mSZN//Pr3+/s7wbnRZvM8L4rCD2ari6vr6xcX1y9c1+NcIGJVVnEUPdzflVUlhcj9YL5codaodd3UaRq/ff3P//rP/5XEUV2WZZFF+318ONR1pREZY2VdP2w2fhB6QThbrl789DMTigCVVLZSyAhTWpdp5yrB3mAwYMoZ7tvNv1OXCemKW5NWP+3PL1AuleP666urqixuPry7vbnd77ZlWdx8eGeSFTV1fTjs4ziazRYvXrx89dMvly9eWJajCeiqztJs9/Dw/t0bznmYzZumcTwbsSmKfLfd3t/dfHj39ub9mzLPsWmKPP3w/m2eZWVZIYEkK+7ut//87Y0/W4ThfL5cXb14KSxlM5sw0l0KwvENDhycQq2OjKN1mJyb8YL0AR84CWEZGAYQjciYsGw3DKvVxUWSRLvtJoqi3Xb38HD/69//j66bssjrqqSUrtbrqxcvL6+vl+uV4ziIpCyrIiviJNo83H/48L6qq8V8sVqubMdyHWe1XqXxz0DIZvOw3Tx8ePt2u7mX/1uZO/R5niZxXBalpayf//rXn3/52/WrV+FiIS0bzZ3GbptHwnhHiGGY4oAJw19NCP4ZqMcPeBSkkEBgsVhorR3HSZIkjuMsyx4eNgb9lsul53u2bYP8DDXmGQCEcAaOJRjYFC4D39nt4t0+2sVxlhaHzX1y2O8eHNtx58vVbLnWZUGJ7qrS41hgJN2pnxK5ztnZ5c9uH2sPQBt31KCxEtqwIL/g34Ig3NzfPzzcb7cPQFnT1MqypGWHYXh5dT1fLBzHZZzrXv09K8x0smhXkHXM3HFEV8go3nscIELIp+Irzy/oqIGxI76VGLv2gQAByrlwXVcIoSzLD4IkjuMkTqK4LMub9+/vbm7ni/lsMV8s5ovFQkrRatFDuR6NqMs83e8Ph8M+Omyjw07rhlKqlHIc13Zcy3Et25XKYUJQJk3qHJNMkhBT1WJMcAaJcTKdyRO6f/Bj0MeZgWl/CNU+lrRa/doEw2pC6CCajqljK1kSgqiNCTUIF8Fs4c+WZZEhgbKspOXZtuvNFl4494K564euF0rLpkxqBE0ImmrflJj/PyXzttEjiEkD1IULtaNu44e+J3L9e3mkJweo8yH0eHTWIfHcHjovRhdXrQnpCYSpk66Uzblo3RzjsIkjv2K3xf2bJ4ynHzOS0aXrU8pxPNHRSxwNqP37jPJXo84RTS3QosjjONnv91F0MJdakzjmd3dkpOgjEo2k0TqcLdbX11maBLMA9c8UFJjT8iX3FyYMYSTX4fjbjhoPamO/LZ/hkT4abJuvuEGwpL1crnTTfHj3XqPebzcf3r2pysKUQ3Uc1w+CxXIdzhevfvnrYr32g5m0LE2Ibi+8mDEdTeyRwrDHI+w5AnYy4jEytIxz1FOHA3i04cdb0gvdqLUuyyLP0oeH23/+8++//ePXeL+N93tdVW2WMyCEkMPhcHd3QxkXUgqp6rpaX1y8fPmTUJbteBdlkRV53dS//vp/Prx/V2SZ2QzGOWf84vJ6sVq/ePXTxfWLcLm0LZcyOjlQZ8c4HS50BxaPqMP5CX7HAABKqeura1vZUkk/CB3HoZQ+l8qdieXv7NMGP3GKINCFp7SDIEg598OQMrrbbl+zf2ZJut9uyzwHIJRSzoXtOLbjLlYXl1fXf/v3/xHMZo7rEUKqqqyrKomizeahLEshZVXXWWZ8jLquqzRJ375987/+5/932G7rqmzqykQ499G4+8MeKHO8IJzPV5dXTMj56kIqxThjXJwQya781RCtPpIJcIpf2FHsjsz0Xpvu3JjLx4OkSIEKQZnnrS+uBOd1U9/f3x8Oh7u727IsdF2b+DMpBOfy4vL6xauf/uP/+X+DMLRsO8uLpmnyLN1uN7cf3jMhqrpijC0XS0Qsi2K33bx/+/a//vN//vpf/5mnCWqtdV2XZV6VAGValLvdgfIbxlU4X62vrl68+lkqa7leK6UYMjAC0ElcR+cU6ljXMO3p0vXu6MGbZP6MtdHOLIdIgFDBbeZQgPXFZV1VdVXd3d7dfHjX1FVTV6g1ECKlvH7x6vKnn1++/Onq6nqxXDPGEbEsy6zI0jjebTf3tzcAEEVRWRae7/meR5o1NjUDkufZ+3dvouhQFllVVd3ANCIqy/rLX//tL//273/527+/ePVqvlg2xrY7+F0Gu2UnBLZMpJ//sAid9v0FTOsHfB8AAFxwLjil1OSh+PXXf9ze3pnc8kKIn9OfTcp8zriU8luPp09FFvgOIev9Ibnf7G5uH/7x22837x/KqgHGLdvRTa0sy/BqDoQZpzSOdGmD5dNcKmMBr6cEBIkhEpPjzJngjmPbYTD76ZdfPrx799s/fgUgdd3kWWrZ9myxWK8vL6+vF4ul4/lM8C4889yZOSOHtFFQ/X89dMXI+qY+1x1NjunakRI4/hgIAWoKGrqe6zVBWDdNlqY3H97rBpO7283DQ55lUbTK0pQQtB3bKNJmraE1J2rEpsjSw25zd3ez2z7sd/dKqnA29+aL2XyxXK2k5QATQLnWoLENO8VjyWyA4/2Do2+esAb94ppuGHTC0rF7y+zD2AGNGgnthe8TBQxRA2Fc2I4XzubBYhlsl/FhV+ZpVVeUMdt1l+uLy5c/LVZXBAShDAkYv6TJeg7QVTx8CqXtw+ZwEobYRS88EnD2B4U/ddbuTuLoQrvR9bzrly85Z3VT1XW9vrgMwhlQRoCeiCGjnRz80zht+g8Kx/oYIUApReYFwdWLFwAQBOHF1QtsGsYFN7mCx+YGjRrR9YP5fLFaX4SzOQHWNN+XhagXuOFos9rzq5Fyblv2fD7/27//uxD8sN/laVIUBaPAAGzH8Tx/NptfXl/PlwvHcRg3h8Ug01HB23G/fywACkJKy3FWF5dVWXmenyVJliTYNGC0CZOt0lRAoJQJzrl8+ern+WpFGQdKCaW2662vrinntustV+s8z5umQa2llEKI+WJ9cXm5vrwO53MhFGEUgXbtflqL/hcESqllWwEGnHGlpEkl+mX1L54A0EsaLakDACUV8cjLVz/VVbVYLPI8zbKcIFJKheC24zqud3Fxdf3qJzcIlWW1NACotNTl9YuirKq65pzbjrNYXTAugXEhlOv5P/3y17oskyTWda3rGrXWfYitiaWjoGzH9fxgtrh68dJ1PS4kpRxHg2x9Ln2cynEcxhcuhwEkrUEcLNsKZ/OXP/1CABbLZZqlWZI2TYOogVLbtm3bub5+ef3qF9cLhbSQAFAmlRUE4auffiEEGGe+H4bzWRCGAFRIFcwWl1WFiI7nlkVOEHXT6LpqmpoAUGBAOWWccun5YTibL1ar+XIhpBg5bb756Rm09HbVgXEehCGiZpw7nn/96mVVFGVZAgFGQSprvb64vLxcXVy64QwYRwCNIKTy/fDisqnq2na8cDZ78eonPwiVUpoAV1YwXzRINFA3COIoyvO8LHNjKKCUUkZty766fvny1avV6kLZntGikZDjckBT8fkHefkBPTDOlKWCIHj58oVlqcMhSpLYZJ5/8/rNfrcPwsAPfM/1PM8TUlBKKf0GpQenIIUIfJcgUkpC3zvEcZrmZVWXWfzh9d8bjUVV5UWRpqluKqJrIBoI9nWXOgwfm9GPxNFjobQzr2EDvewGjuddXF1LpVaXV9HhIIRwPc/zg8VyLS0LTNpdHKz8R+39saGVN/prYrXxiQEVUoazOVDqOE44myVRAhTyIr+9vSmLXFlq87A9HPZpmmZFVWu4vXmXFVVR1XEcl2XhOI7t/GTbtusHvhc4rseEhcDRGD0I0d1SdbVRx1k8upGNgU6p2RS+yUKPC6WdMFJEojUSoExKywvW1z8xLoosrasSCPHCuR8u/NnccgKknBDapmQeFwvDPvbrSYNpi4r1NoDe8YJPbuSPBH9qRZp0vozOWue67ouXr+bzudaNRnQd1w9mQOnUdnPSBGn9ut1bmL74o8DHrygAAADjrhdevQA/CF+8fJkmsakG3MnvQ5QOImpEKZVlO47rhLM5Qai17jIyTFoeOv/DwVgWJ+ORo0nMSKmybc455+Ly4jKO4yyNizyjlFIA27Ic13Nd13E9x3UZF8DYiCoea9F/LFQYAQBIIRjQ9frSsp2rFy/qqmqqChBZVxuRtImWEQkxJX79MJzPV1QIAEACjusJqcLZYn1xtf/r34oir8qyaWqlLEtZjut5vu94nhCKSwmdFt0z4z8gcvy+AACWZQkujPJA6enJ+kYdD14Lo59KZQkhX776KQzCv/7bv6VxkqaxRgQAzoTjuo7nua7ver5tOZR1Ke4YtZR1ef3Cdl2tESgVQnphwKQEACal7fk//fwX3/OqqjRcerDVd6m50UQ0CCUty/cDx/OEkCOJFjrlqdelv6oePfTSUjwgRFm2EkIIMZvNDr/8JY6jJIrqukZCGGNBEPhBGHihHwau7QGjSAAYl8ryQ3hFIJjNAKhUyrKV43rAmJAqnM2EEF7gX7980TQ1QSQmxanWJgrRlNwmwKQyaSkc1/eFEF1mj6884Y9BJ/gZ/AAuRBjOXdcNZ+Hl1VUSx0VRGPIohFRK+UEYBqFt21IpoMxkcOBc+n4ohHJc7+rFK2VZQRj4XiAER6DCsgLGLMfzw9n1Tz9naZKlaZ7nhvYIKaRStm0HwSwIQmXZXMg2GKDNy2hS4vTXMidjP1ux8gf8CwKjzLIsIYSy1Gq92u12m4fNZrM57A9vH95KJX3fn81ml5eXjDECRApJvrkeTaTkIXNtS4WB9/Lq+m7zcHNze/fwkGXRfnNXNU2NWGvSaK01EmwIIsBRDN6YmZ7VpY+h5em9qxbAdX0p1WK9rquqritzL5YJLoXiUkGbIgvb+2oTN/g3oL5fDWD8bxuY1X9EqZFePN+fzRdJFB+iw+b+7uHhPs2S7cOGUqiqsirLvKzyoiprzMt6uztopLXWlLFwFobzuet5tu1ZlgOMUSqIieVuXbImUAZ66+fY3/y7atHQ/zGt97nkxsFd2Er3jHFle/SCq/nqUuuGoAYCXCqhLMY4ZQKBIwEcQiBgOo0nq0WTMNhOh+7v5nxv8Pso0qdLhUjIENl9+sgXaK1I+lwzQqownHmeb9pnjDMm+wKreD6k4JhhP1mXHr59+tB7KjlYZb7IPtMO2CStsZQSfO56Xl0tm7o+n8GvWwdKOWOMCy6EIqQzaX41WeXxdR59iuPvnmrv+nTfSExVW84YlyIMZ2WRZVlWFTlQoECkVJaypZSUM0aZJqCn3cMX7swwlp72f/wBJKS/XD+N8H8UBZGYCmacU2CeHyjbbuYLo9hQAgzAaHBtTJbW2rQHlAsppextTExKLpXluq7nzVfLqiyrqtRaSyGlkFIqrhRjHI04i9MxPGctCCGjshBTo+73SWHPAgBwzjn/UvJ76pY7XvuPWLpM4BeQtni4H4SO6y2qVZZleZZprQGAMmbZjm3ZTAij7pvIbaNqMSH8ILAdVyOasuRcSAAKQChlSqn5cul6rokEntgJWkXa3KChhFJKGeeCCwmUDnz+7Hw7AvxpVEAyOVSn64KtiDOm6YxzLjgTwnHd2XKZJHGWJHXTEIKMcc/zPc8XUjHKGGUasTGWJy4soJxz1/cJBUoZY5QxTgAYE7bjcqkcz62XK4IN6TPEEtKLuAiMEKCUUW6qMnLO2SdDFHomoU8WbDgyxkwGXdGDo0U411xrd6RUWkoRZVl2EMyMmFkWhankIKSwlaUsmwJogrq7tE45lwBcCMtxZsslZUxwzoUACmappMWEUspywvmiyIuiyKui1L0ibVmWUkJIqRQhoI9St+KrA+ohAAAgAElEQVSpsRhH0xgu3Jws1OML+QP+XACEIKFtCInNOiCEFEWhEbMsI4QwxgDA8zzbsW3LmNQ5mNigbxAdZCK9hRCObeuQSMkoIKVku93qptJZVVZlVdUNQoOkLouyzKqiYAKZAAIUpk7pAQaVqMdymJ4DHOt1THAuhQtev1BI2ht7fYaxESE4YhtHcxrTkGNh8oh5nzx/LMl8HRjE5j6nBDEFs6XFGChjqrNsBzVWVZWlaV2XWVaWRZ4XeVlWRVlXDeENYZoyqaSU0rL9cLZYrGzXE9LiXGhNtDZX/AzthY6ZjPX3TsMc1IXWnIFnhtv+5imEamJBMXWO2jcDIZw8/3FdqkMcE6OJlABQThlzhAV+aGqJ9dZerVHrRmvsFOlhIMfK+hmZdDpEY3ZFU8wiNze/QDdACKOUUfrHdUx9BPiX3Hj9IuivVUzw6uzrsVXsmZ2QNjVrK7AAtNGqrX2OAusCUFtKBO3dgikZGLSZAXseH9WgaY8SLvUyG07qHBwRm7MisblS8shmTROkdTSwx3KjUTEGYKg5Gh/RMNaRfci0AwAAFCgwOjSOHek9P/1P7dFoBl0rg8X0tInRp/3jn+jh48M4I1010BVQpcCldCjVtmUmxihljCNjujXQmpWZqM+TWJmPCXEfhS4EYLQiT53CiISRHhfPMLnBkgOUMMKBAgphLtZQQqhBzl6RbsNrAAlQyoDyQWxtzylSxqW0OBdK2wTRVJ6klAFQPZycUVbzp1PEPuij/e34BLY3gH43YvWHhIndvb+R3pftxHGFo+75nniZlHsEoUuPBwCMC8sGIWSrvQAILqgwpnfSTO+6IQFKOedd3AEAUEq6bTLllClArze229pejBifI1NpjwOdFr7Cns6aX3YpG7FHRkOrPkIwOhHB0JiWzprEPAPxBjPxflk0khrbutgSAIAqy9JaG+1fSkkZN0thwtTbdimlABwIMEZId0kCGBBCGRDKgVLBGSrZyVLYGeSHYmRG3iNAgQIwBnSaReZINuqGjd0Vuf4MnwhOA9fp0eSkdv2om3bFRy8oZUIqygRXynYAgFKglAHjuqvuPkljAwwo5QCUMQAAyswstaELpmsKjAllUSFk7dSmjZaYcA7AtB7YYDd/aHHizMB7PwuOJjqmq9gKHD/gXwCapqnKqmka85ZS6vu+lNJ13eViGcdxmqamStbhcPA8LwzDcBZ6rue6rpTSpL77piOklLiOfXWxchxrOZ8douhus7m7f9hs901Z1WWZJ3EW7ZNop2zXIoRyQYABoTi2/U1SdWNXwYiQTqkbiU29a9qcaehDkUl3qLB7uqUgMFDcI3F0JIuOQ3sn0NHeEe0Z83NCRgf2MThStKcDGQtBo5FOG+jGTLRGc5NNcOl5AFdXnuelSZymSXTY3Xx4n8Rxnhdl3SDw0A2D+czxZpbj2I5nO47tuiahUqOxNUySPnznmCz1VaNbsjWkXUUCAEZUmrpDJsv2CPRNwRgDOsMsDo8NCz4WrE7o52gQ0FUUhI4/Aei+uQaJCSyDidQ6woEjKX6ydS3L6TPSa6I1NqUukjqL6iLWVcF0TQGF4JzR08odf3D4nUK7x9rD9Li1KHDMKb/AQIEjdgzQ3XTt83kPPQ9YjHh6MLF/umfqj40KRzh7oqN2DQMZJyLrhomDDNGpEa2w8lj5qyNHZScrjVVPyigwCiBgEB9bjO9yw/aDGBJF6LGGNZzz0+l/Gu8790G36CMZD7v0P6O1Isbe1mUg+DTZncIncAa7hAcmtZJgUipFOwlfd5plX3SquxAyYlJmpI/60B7rvx/kWGYceMUUM3pMGLL1dibPMcJ2j4//BQKEAjBghBOAToVuqVubQa7rxPwCCRntx7DxlDEmuMEf6IxEDRqzDI7ubsHxSD69HNhLAl3WiW5u+BnL+y8DfZol84bgsI14/KT5A9AhUsfvCSFAKaVUCUFhuCbXIwP2RICQTqUByoESRshYFBs4NhNCSNHz+YG+D1lqBrTDThQ4y5L70w+9jndEC6ZvprojjvrviCjiOSHQFMNE443nnCtL9TdfELHWWmuN7QLr1hhr1GZKKaOcEBz9jxjzBCWMcyCkNxR0QnqvSw8MoiEER0kxR+t5DJ042xvAxrRjtGikfaT/pjcZn1syMlrnlokApZwxkNL4J0xMgmlREzKabDthQo1phHE65HMbLYl5jFLBmJSUQGfbIP3DWmPTDriXVklLaXvR9WhdehX9mGriOXT5AX9maBpdllVRFOaASSV9z5/P56vVuiqr29vbN2/eZFm22+6iOPI8b71eF0VRz2tGGRAQSnxTRdqMynUt17VWq0WaZkmSOa/fVGUVRVGeN1WeF2mSRoc02gFByQUQApQAIwQBR/LGwPdhROjGooV5O0gP5hhNvVeDg7Ll+237nVNpBBOTZPvr/pCZmsCdzXsq1RxR2p4Cn8BgX22HMRGvjvgCkk9IX6MvTflQAOBSSqV8zwMgcRztdpubD+L+/i5NkiRN6oZwZTPOw9livrrwg7nj+aYxjUQbhbxlVSPhvedMg9zSMoeRRt3v2cjm0W3VMINHvPQjNg/Ybf5UdJssxZE5sfvlZHX6J7tdhY5zEWyDVid20lEP4yjxj468w5gOtzQQRN2QpsKqbMq0ypM6T3VdMFIzIJIzzvm3TxjzleHPfkf6RGTAsfG6e+DkF0cIR0j77tm7C9PX8LEmvg6bf7SVqYQ1MgpM12fUzpFAOtF0P9ndV4Zn9XVswjjfYhur0FbEMZRuwIpW+muJ3KTo33mXz/PgG68dHPfQI7WR1NsCOHjyCOmZxKipCQVvlTDs+e24p2frzz/gG8MIb8fO2KNwihEuNFOuOXDCCbYcWxLxzKv+WJGJ4DZCu6me2J22T+LOs8nwEe3qz0H3/zYM0Eg8JlcM6e8J9iNF7AzrMB30aE7HAt/oa90XpBuaAJiu3NDqVPEcj3s8q9bHBEfHcCzxDC+nFqlRv6csEDtDczcOQARoU2cfSYy9LElG//b9ETL9tv2szTeuR/swHfAw0TYl8UnzP+AHnIUoOnx4f/Pw8KB1o7V2XTcMQ9/3pVJKKsexLy8vbNuKoiiOIxOwut1si6KIosj1XNd1HddRUkklKWUmEeQ3GioACM4dx7pYLwnBWRjsdofdISKUcWyizX2ZplkUScuVtiMthzJBhQTKEHrLYxdVR3qRFUa0ZPRi0Ofg6DS2vzom/GcI7dmYwN5aeiTi9p8/+bhOmYcxErbppqHNuwZwxIo+0d7E7WHUXa0REAglhHHuet5ytby4uIyiKE7SstJUqPlyPVssHddnQjYDI+w156Fc7mi0E6Zg5KtzRVxGkXWmLYBumO2fT02vZ75n0XJku54sxLmPhy+hp74mTmsoxXXCluFIbXj0cHRGYuOFbpqmxLpqyqwusybPdBnrPLWYns1935aX68Us8FxHCfGdaabf2XA/D44FwEkGhzECd1hkftQLWIQcpwx9Ahw9ByNH0dEJgO6Bb0OtR8Lu6Pgey2hnad0ZeelYyvlvhad2228jfuw3nezXEgjstIyhEyTD9g+y23dkJztDwMlIuD1WlwgZofvZ61idFtCdi7EfFD9K1n/A7wjjTUHS6YUDnrf1hPvPel1rspUjrYyQQZA5y7BHvzrRogelaayenjRyKgI89vUTYOqDxSOxALsU/EN//ZiPhjuWcD5iWTtzcCbfnpvwlPbi8Y9OH+0bGd1B6uNDeh/sIOwNVsHugTFHOwtwtGjY/hkQ6JySfDzWE5p5ilp4PP3REg+vPrHpP4jPDyCEtKgUR/GbN69/++11XVd1XQdhcHFxsV6t54v5fLawHce27eVyGUVRFEXb7Xa73W62m0N04JwHQTCfz2fzmef5HgEpCRAG7Jsp0gSkFJwztl6Fgf/i+vJhs988bLeHw34fHx7uuFBMWrYXeMHM8WthORKAMiCMAgVEGB1mbElC13RvAh3110s352ygw6ieOPihoWNx93OsnRMOY/5DrVE3oKHLpkHAZGDD1p5vJPcJWT4jsU4pcB93jcAl96TPOdvvD2maH+Ikr2pCxXx1MZuvhOUigS5Ng1HCJ7VIyLGZ4GhVEaYKL5AutqubLxBzzxTa5j+5bNhNs4WjqpkfVZTPfHm88d28TnSD0x8P/Y+3/1xeTAAClJAGETXqUhdpXWRlGhXJoc4TqkuqK9+31ovgcjm/XC/nM9+yFPv2WfS/Lvy+ycZw+lEnwkxRv/v682jZMT6cNISdlQ2PRjPWFD6r45E1aiKMnVdau24nXSN5hvXtY00eH58zy/vIr09efR14SnvYYcNndH4kNz8Cg3j/iKnga09/3PBjXU2xwaDp05ONne/w5PQ9b5exa+ToHH0rQ9BZcvEDPkWePrlY5zEPh5cTm9Lw7nk7fcZz+ZTBnQzs/CH5aDvHXXUnGyaPDBfXWiECJ+TgkeEeL8DHJzQIczj5FEdC39NbO3qsP4uk5yvT3yJOTQaEjP//pG08FkRb+PRvn4KBH3/oVDJ/ArafFwF/xHX/a0Hd1HlepFlaV1VVV5RRKSSjjBBCgfq+7ziO4zhCCKUUZVRrjYh1XVdVlSQJANR1XeRFkRe2bStLSSEYZyY5GSHkKzqoAdp7IZxz17ED37eV5TqOfW9xyiiQRpO6Lqo0SYE0TaPsoqoqLhUTinMBQIFSADS5TrpDPXU5j7TMkxfPpMSnsXhw5KI+ae/427FfZ3RXcSJ9Y1M3TVVWVVkVRVXkAEA5Z4wLJZWUlDFgjECX/HocN35mPkdjnqwIpVQwILbtup7r+w2htCiRCst2lO1QIUzdxqnR4NNKBRl4S9elbhpdY9PUddXUFWpNCKEEuFBcSso4oRSA9uYPPGrsYzAIhqMXTxXjPhc+5VVsd6INOmqw1roudZU3VVEXaZ2nTZFAnUlSW4rZQiznwfV6cbGaz0PftiTn7AsG9/vA75ds7Bh6LaHjiZNQAvJlOz8RBScqrkFzaL8cX80cftCO7hnD6K4cd7khOl9B11Zn4B+krNOWp4KXyZPzyGZNA0J6c+QnBJBnwpeqNDCMaqSRHRHbjjZMBU/SP/3UsT5vy0ZjPP+bjwhpnw09FzD3UNokUWdo9OlI2usxg/QIZ375WMePP4tnX366kUcF408NaWjxI00gkj8MsfpjwAmuYHcdttOqPnpiekr4aKs4fnqsP59xwX4KxobEx/r8yG/N7YpuauetrWSYd/c9jq7Oto10VPQjx+CZKPaZCDklMhPv8NNkodEdRfP3E2omjrRunMSYfyZ865M4bv90q3D63RnTzsDIe6T5QT3+FQCJFNL3vfls1jRN0zScc0QSxwkhpMiL+WK+Wq2CIOCce77HOHNsZ7VaxXEcx3FVVWmapGlyOES243iu4/m+bzJ727bRpb8dIgEF27EBqBTC9/woTvZRcojjomqKJEnTTFq2sFzlOLbjKdsRQnKhgHVlLM0CDO6biTZ3Tu95HsseFNf+WtzQzKTN7sUxMxlCcroyUZMfdu+KMs/iKI4OyX4fR3sghEullHL9wA98y3KUZXGluja7HC7QDfIMezLzn8ThmUgkjaA16i6Zqbm6gkh0F/KDE97V349quciIXHdaxNAd6fRJ3dRFmWdlkedJnGUJNiZDNXOC0PUCYdlMKODUdHGWmE0UklYAhJNiMhNlYqx0HDd5jv993J09siCcMRl0L/rkH2gKXjZEV01Z6rqoy6zK0qpMdZk3Va4o8RRzw3AeePPAnfnOzHd8z7YsCyj9Hgn175Vs7EgWOxL68PiAfZGza3KqjnTpidR1+pNjAvHUYYzaRxgdqGFiPY73GmNnKhvS+vTScGdkeDTZ2NTdcpLf9FRWO4XHp/fl2N0NEtvZdum+TgjfVDp8iqx4fqyfgzn/XYfY9NPhhskwNP26I9ijVcAJNyM9Pj/PSfgkZHjK6IcBfFYj49baIKgut9vJA98fbf1vgBGnnBQH+KQydnowHlfE8ESXfi58mdKGI07eXUfrKyN1q4ATbBxpUjgm9R0V/boY/Ew47XyqFn/612iyrB7TTzKSX3HyAXb/dL/+8ln8d8FjFAu7+wka2z+T5Rgdih/w5wckhBDOueu68/msabTWuq6buq6SJCmKYr8/1E1tW7brupxzy7Jc110ul2VR3t/f39/fPzw8RFEUx7EQUggRhuEiL3TdaK1NtUJKv2FObwrg2JZjW2EYVJVOs+LDh5v3N7cPu10SH+I0F8riyna8QFcVQQ2WIxgFxkmbtI+QqYY0zkdFOgdPT0CeOzwkfXreLlnjVGkbPYikC4bpvWMT8QaPTIG9NxUJIWVeHA777f3d5vZ2c/eBACjLchxvsVrrpsZQU0a5lIMBvrvNAhNiMVqG7m+vAWNXggU1Qd1lf8D2rkmnUQ/E9Mj0OVbYsfv+yJQBbVsasamLvEijJDrE+2203+m6BoJciFldMkoBKDDOiOiX4ETN7Zd7NDlEHG1It35tCsiRCnB2o49FgI/xg0m/5zjncSPt1VlNdKWbUpdJVSRFEhVpVKYJaUpsSstz/XB2sZxdX6xfXF24tlIC+De7QPHfAL+XR/q4Uxyx+YmuScjX9aqORJbjbp726ycCjHVp0pV9advoqc9JsyOtun1oGvOCZ1XpszP5DH3pKQLcZ8NYtx1ROJwsylGBqd7B9iwsHZ79uv74rwtTNPzoBIf16hJajwoBtbytf+6p8BU3+iuu72AxGPjZWCX44VOaAKIeoU3HTg26nBFdTn7+9I5GTz8Lzb4iGCrQCkrD3HqiguceH3LMtl93bpDTTLDPnNdXwcPu/E5bfGrTOCRQO71p3H467NqUih4zoD8yPBoh1L06vmsyFes7HvK9TPkHfA4gYlXVdVVvt7sPHz58eP/BlAE2yeoASFHkSVJzzhzHYZwJIaSSpugaQaKUWiwWUknP85Mkrqq6rErE/5+9N11z3DiyQDNyx0Zwqd4tW7Yke+a+/9vcOzMee1pSdy0kseae9wcAEqyqXtWlrmrV+UotLiCQSGRGxomIjIh1XRtjmrap6ipNUpkkUkrGKGPsLpOQIUxAcLJcFYBjnqfLRVl3vXHeOA/BqGbvdK+StJcpSyQVnHFBCMWUIoQHTWqmSyM0+ldv6bZPaNZsmsUYB7/yqbo+l87ztfumiIZBDh+1fEAxIu+9876uq/M3v755/e/d5dvd5TklNM0Kk/XO6r6p69W6XK8Xy6VIUplkQMh1WyK6tvtt1qAT5XIKDY3hcEBEMRwodJzxkVMHxiS546EO1sThp6Vm0NaC131rVNtW+6battW2a6q+rpzRzhqCiVXKO1+ubYEQoWysnfjOpzJqx8cDDjT65NbmLwDNqM5p3cOpqbP7eQcmrfzUADuqG4DQofhajMG74J3XXTD98G+wPXiT4rAoZCKLhNMyz8oyXy/ysiwSTij5tBRy9xBfd4/09OZk6sWJMsyO+IKbUk5HzCerLx+LCDMujQ5BiR+81uy4w8sYIkLjlpDPZJT3BNNu9IMx810YvgtHAjn2xifc0WCYu79p9MdhGOGGALx1uRtHwrhKxtMEnZPB5qFiDFNCt1GiOK1vD/f27gjxttfTeocCut3q9kUv+/tgFHxHP9AxTvnogTyxyE2yA8UYZvtqYnyPFP0q4+sz16MYhypT72GHM01rptUedMkH45H+QE+Mj5PAbCRMvzquGQ9aSXvERyHGaK3pO7Xbbd++efvzLz+Xi3JRLjjnQ0i21rppGoxxmqSUUiGEkIIzzimnjHLO0zQtFsV6pbte7Xfb3W6nlKqber/fy1rKRC6KxWJRLhbF4NC+UyJNCWBBV7gosqTtddOquum2u93Vbt8ro/u+C5ElCZNSZEWaFzKLXAhGyGA3mBgg3DbyD0Tsk2fFNXl1WJuvsefZt8P/b/lqzMY/sLMxNj2GEKwzdbV7++aX1//3r/rqvNpeCs7Norda9V27323Lpla6t84t12vOBcY4zsQ/vqVe1olYndTp4W4OSuZoaTv+xYFRX9tIN1e4UISTCwxB/9PlI0IxeKe6tt5dVtvzanvR7Le6a0zfmL7TfY8Qct4N9Vd5ksi8GDa9T2c7NPpw0cPpI4KD6/co1GfrXxzXx6kgxTUOcu0hHVSv2wb07LpTPxxOAwPLOZSNjdE547SyfW3byqkaOYWsThhOJF1kydmqPFsvF3mWZTJNJKeEMYrxgyt3dR1fO2v3qS74uy12cSZL0O2j60tdaBbajW5E4d327jClr38Z4iG9wgPFSfx5HFxq6ETazp3V1xnVp7Lo+49jd9wu496n/Z0Ivd8Sc3sfEA+h3QhNuv/JQHjIVoI7xmHpnFbQ8M11VZwKLcT5zd5qR7j51enkuJ9S9NPWoxPHMjoIj1t/daTRccrC8G0Nj3hahGM+RNBdruyPuG+IMVpjVd/XVT1k4maMLcoFAACA915r3dQNIaQoCplIKaUxhjFGMGGcLcoyTVMhRZKkSaKHsldVVSGEuq7ruq5tW6200cYYo7Q2xgghKKWUUsDwxeO9ARAhmBCOEOdcJDJJk4QRIBiqum27XikbvbOqRyjG6J2zXEqRpJQKQigmDCFAAMcQ7NPTD332eW07rNVHAn2yEF2TRp8gcnwIzjqlVVvXTbXXWsXoCSFDEH4E8N53bQMXxDkfEeJCShlhcMUfDGeHkO/33EI47uk9kuFDRHc8eQvHc76/VxCgCAhhhIJ33hndd/X+and13tV7o1SMgRICQnijg3fWmq6tq92VzBeL1VnwDhMKswIMN85/rQFHh8o7GzQ3Zby7+df87O+67pE/T1+N9Vt8DMEHb4K1VnVGd0F1wTTYa4Yjl7RIxbKQq0X+ZL06W6/SVErOOX94ScXeha9NpL8efgcW/YhH/Ga8V/494hGPmPAQ58nofHhcjx7xiN+GGKL3XhvddV1V13VTn52dSSk5595755zWuu1axlnf9UqpGGIIoes6ay0lFEWUpungvhZSlOWCC5ZlWVVV1b7a7Xf7/V4p1XXdvqryPCuKYlEs8iIfvNOM32GkNyEgOMFYYrzKsqRqurrp27brtO61dka1RjfVXiaZSNIkzWWWS5EAZpgORfDiyPIOgOl/xx3DX018Dq6mqehVCMF756xzIUQp01TI9Wbz4uWfVuuzXuteaWV0td/VTQUAUoi4jEmaEcYmz3h8N4v+pL1+A0e9fSMwQmh0k6GhCleEiUUTiBghZ3Vf7+v9dnfx5uriHMXARJLmOUGRQNxdXmBM6mofY+zatm9bq1X0PgKOmAxdcovt4waRvRXx5OWHy1Lf/Pnp6Q+7UmcfwXC/CFCIIcTgnOpN35i+dbpzuqfgBUFJyopULlK5zJPlIinzNEtkmiSMEUIf4nL9TtxXIv17mc0ftZavg2/MLXIneOyiRzzi0/BAF+ejh+eOzv6IR/wB4Jyzxvaqb9q6bVsfvBSSMaaU8t4bbVSvet73fa96FUMMMRhjmqYBgCRNNk+ecM4wxoRgztmiXOR5niQJJbRu6rZtvfdN03DO8zwvikKtVQiBEookopQi/CUrY81BCCYEC8HSVMaImlbtq2a3b652u7C1pum7vjfOqSSTWe6tJQCCUMwAIxyP8XmT33HeRpgFN39y47+Ylf/g4QwxBO+89867GKNMszyRL1/+6S9/++HJ02dXu91uv3vz668XFxd910khF4sFp5wLQfCYfHs623s2/L6TW84TJw17wG9SyNt+FmHi0hhFQBED8kZ19ba6eru7PN9dnss0zYpiudokgiWCCZkYrY2xMaK+a/qutUZHZyMmUwOOe/fe0VfvQ0QoxgCf+3xmv7vl94c7xSgCCiEY76xXtaou+7oKpvO6zyQXeVImxdNN+XSzWi/zskiLVMCDXaPfj6+UbGweETIN2vHFrcnGvlwjf6e7hZNkY+OAPrlrdG2zwWkDD2kQTm49hjva9vh74PhU8bwPpkia6y6ZWZTQOCw+9Uroy46cL4xDwrDB7DlLEzV+jtB8XiAUYxj+RREfte6IEITxzYMdGiNiRAiFozy42Rv39mneA0zaEEIoonHPxLfTXREhNEi/MSvp/IvD62MQ93D7YzjzMcE3RvdVin7yowoo4ikn3/Hhv09BPE6f0y586Bj1hpnHZn5vYdhEGB+lxzcOwCCEyItiuVyuV+u2bdM0BQxccC4446xt2+12SwgZFlohRVmWVVVVVaWVbtu2bWrnbAjBO2ettc6igBDGQ1xxURQxRCEEF5wQghAaymXt9rs8z7M8S9M0TVIhxR3eI0IIIc5wnkoMiFOcp7Ju2qrtur53ATln+mrntKr2uyTJZJYzIRnjhPE4qUMzBftkSty6nfoaTk1+N5ONHQ47TV0xFz7jxWCeOndMm4MiAAKMCSWcMSYEY4IxwbjgIpFZvgTCktT7qJRCMfRd+3//+7/OeSZYkecwXPb0zLOGT805Nmm2s3h23PHdfIdgPLhm56celXyIB490iN776Lpmd/X2l4u3v3rvsywtluvl+slqc8YIcIKTdC9kwjj3CHwI3tngXQgeYkDXEnrddgcnm/qufXftxuLpGW5d+E6ZCJx8PtH5yQU9ZOZAMQZvnDXeKKNao/pgumh1SoOUqWR5kcllkZdFtizSssgzKTjBt22V/0bw9TzSx2c+PK8w9fHNLcIRobuqN3BXiFOysSFP7LHWVpwLmdNZO31ybVoP5AkhAIweum4Mk0I86nZxmvSHLA2ncuHav5+0U3YcWfd15Aw3DHOhGdHJJnE06YbzykYRAaAQr4m7Q66IBwpAN5KNnRCkg2XpEUeMmVBmy+Ohdtj01X0d/J+IIafKwWEyqyEYT48ZP519d8xbGRFCKHwLUhShoTcAwbEI2InB9drBx0UlTqTz4SQb+wDGsYHwMcPuyRM/qBfx29mQ94jbAABCSkCwXC5X61XTNkmSAABjLJFJmqbb7ZYLTug4EKSU5Xa7ILMAACAASURBVLJ01g0B3l3btW1rjNHaGK27vmvbLsuy1WolkyRNszzPASBNU864ddZa2zTNbrdDCJVluVwuV6sV3mAuxIe30/6m20ScUYxBCpanqbWuatp9Xe+ralfV+33Td10dECI0L5fFcpUVC5yXjLGIpuRYB9k4Co9Bn8AfIxRniacOaseBm54u3XE886TlXaPaEfCRuQ95x4b2YAyEEMY454JxTjlnXHIpkzTjUuZx6b1vm1r3neq7pqowxpuzs4FFw6As4/fV+o6jDeDwdjSz3W6dHboMbrk/NAalj558QBFDhBhDsMHartpfnb+5evtzVizzRblarVZnT5abpyQEjIJMr0SSMM6DdcH5EHzwLgYfx4LWk0ngPfdwHGSnXCJOmu9BNRhv+PqdvePMN+h2BAQRIiBAcEj4hIJ3Rve1bpu+2ffNniEvKU4E3ZTJ2bJYlUVZFEWeSU4kJ5RgSh5yeasP4atl7T41giA0PfdvDNfKlt4+u69N4EPvnGbMinHUAh8uZsa0MJvw098glI7D4IaA+LQr3X9cF1kfOPbk3SmX/uaSjZ2anR60leDOcJwn8+f/DTreIgrz3DanrxC6OfivLyzzmfLgpejRUTL+/1retVPr7DSZbpQC+0ZwGBvT+6MecQ/jDh5xp6CEQCLLsnz27Ln3Pssy51zfdyGEEILW2jnnvR/yMDPG8izvu14KWZO67dpff/3Ve993fd/33nsfwmazWSwWjLEkkXleUEryPBdcaKOVUn3fD9y7bdsQgvfee6+UFlIIISglhJC7KDqNMXBMI0WCI+8RY5QzIjmlhGCEmrZvlTbOmLapY/DWeGNsVjDOKeOA6ZB97cRl8Yk4rNXXgixPD5kxuw9d5sBVCcaE0CG7mkgkoTQiFFCMKAIGzoSgtFwsVut11zQX52+uLs+zLG/ryiiFMAagYyGlD03++SG3tO4j2Mgx7DuODHNQ9J0xpm+aZt9U266p8kVZLIpiscyzQsoMeR2dHfZAxxBijDGE8UU82kU/jFOd6fQ24kG5vuFv+UREhFDEaCrfO2yHNtpZZVVr+s6qBqwSyKeClplc5vLJuny6XpRFlud5KiUmiMIXFcUzm8z9SfZ9X/dIP+Kbxgep0ftyEf6xcF8kxe+PxyHwQTx20YSju+URj5jwre7Ie8QtAABMCACUZfnnP38nOFe96rqurusYozHmzZs3TdMQQrz3AEAoYZxlWbZcrbQxfd//z//8T1031X6vlCoWRVEssjwLwVNKpJRFkTPGFotFmqQ+eO9813dN07Rtq7Vu21YptdvtpEw2Z5vNep1m6ZDq7M7uFyGMCEJCUICMCyakXCyKqm6ruq3btlem3V32TdXIK5lki+V6sVxxITGlgFkIMQyhHOgrlzEYtzQDAgwEE8a5TJI0zdM0Dc5qq5XutFbGKCYEQ0Qmcr1Z6b7ZbS+6rqmqXbXfNU0tZMIFBkxQ+CgufdqAW1JsDR986DSTnwwjDBBDNLqvqm1T7/u+c85SyhblslgUjAuEYvDOG2V0r/tO696HmU0Y0OFRfOUnMvP+QYwYEMYoBhec8abvq11b77xR0RscfJ6IvFyVebou8/UiKzKxyKQUnLOxQPQXZtETAMMjkf4gHkb9okd8JuLB43iCUXI96sNTT3zlVnw9PA6Bj8WdxhE+DMQbb/8ww+d9N/qH6YSbGCfFQYr+wSfIHwUYA8KkXJaAIc/yf/3vv7bbbV3XXd913Uh6pZTBBwxAKeWcp1m2XJZd171+/fr169cXFxdX2yujzatXL//0p++sMcEHQggXPE1TKeVyuRxivAFgYOm73e7t27fb7VYp7b0jlGqjCcEIECGEMYbuzHUGgIAgSZiUrIhJuciNjft9dbXbXVxc/vLm/LLeOhcwoUKkyFvJKQVEQGJC0BjKExBgBPA5VRO/VK5vOKxhQAgFwFIkWZ6led7VlVKN0r0yvTYKU8xAJIlcrZdW9//87//q2raq9lVVNXWNAIa4+ogRCh/ZvA84am9JNzb78vTNUBg7at3X1b5tKq067x3jtCyXeV5QwRCK3nlrtNG90Z1VKmIyJhj7wozztwLGElwBUCSACAwh673vm35/Xl28ic4QiKngxSp5+XT5dLN+ul4uF5mgwL9QhfV5JMOhVHmYvPcEkQjxnnDpr5Vs7Ja3MMT1374Z8sHxanxMNhYjRBQxOg13uR0n0Zrji/nX4cGrBO8o+35a2f7wYuqsqQbqp1/vHo6cWazXlPwjTAHMs20u44xACOK0k3wK4x3OcJwqD31QDJgyjqBjtO5J4NJjuqAbmLPo+Q6Rsafu4eD/TAzzZFrd5yEtB4NcHNM6Hn4xi2c+HUkPX4qiWcT6lG1iwrt540lg/LczlSJCMUSEb49IiIcA1Efp8ccAISRJkrAML91LIUTTNL3qh0xjV1dXaZoSSrQ2WmmtdNe2u93u4vz89evX//znP52zgvPNev3999//+OMPT54+FVI0TfP2zduff/m5XJQxxoGBM8a44FnMMMaMsaIomrZt29Zo0/f9P//5v2l6XhR5kRfFoigXJWPsrn1oGDCjIUsFQgWjWCZitVy0Xd912ljTVbt/dZ1Ms6RYpFnB00wmGRAC48z4KCZ9DOpGCEU88sxJ/h4PO8mAOBx/bTHCMUTAo4Y8njFGhAADSCnLcmlUH73tukpptdteJWm23mw4F4RgKUQiE0IpQtFZ0zb1fnfFGMuLxQn1vTHlTxoZxqRkpwedqNyHHBvvEC1weDXpck5r1TaV6jvn3VAMnDFCCIEYvTN917S7q6aqtOqHwtGMcUoZxnjWtYdQ9+PpD4BjbPOU6i3Mb3jWmfH6nd1yuhvR4YAQRggjBBBQDDFY1bVW96ZrdF9b3UOwy0ymslhk6SLPNstivSzKPMsk4wRhjNBvk7UxxuCD994YY63tVd93fa96Y4xWOk3TclEuyoVMZCKTe5IH5mt5pK8PknjYEfzuXRcPCmEY8OPMmATGwVhwyhjfNVEPn07T5p3HPRCMubMmUjjd+gkVmGcHirMe+Mp76L/g+hfmrveJH19n0TOxd2NZiIczoJvrwEPFMfnHYQfMOC/eO0P+uBjNj6dJRI92utPsnt8KRnPKccPvMbPK8ZhJusRrih9C6FuQogNmKtzh1Y3buvFBGP/73GRjH99xv+fYG1P1zpsHNxTER/xBQAlNkoRznshks9kMxa7quv71za9ZloUQKKVmItJt0+53+4uLi59fv/7Xv/43TdOXL1++ePHi+79+/x//+f8kifTON03z5s2bf/7PPzebTZqmZVlijBlnnPGBtBeL4umzp9Wuutxeba+urq62v/z8C2MsL/LVcvnyxUvBBQBQSuEuMy4RAhhjnAohaJGn69VSaXN5tT1/e3l+cbnb7ba7PU/ScrUpN2fLzVMhBCZ4kAXhOvm5mXciHhy0N+OPB/V9lu7v8JPhXbgxBQMCPHeDH04LCEshV6tVDLZrKwRIKbXd7RjnQvCyXDJKhJRJmlBGESDrTNvW1X6XLRaDKEBxKNhwO8caaznA6Nq6boecWhxRmIodvGvNOOYQRqOuH0MMRquuqVXfBWcRQoRgxhmlOKDonVdtU+2v2nqvlQrBEQDGGGUMEzK3id/Ggk5J06BGw2QGuZZs8nYL8lyNOtk9jSZXFqAIgDBCZMjOjYJzRjX7envR1lvVVsGqzbJcropnT86ePd08Xa9SyVLBBCOEYEq/gKEo+OCcG1IPtG272+222+1ut6ubummazXrzlz//BSEEAJxziu9FVPV9aMS3vMjFo+J2jNy4xXI+TIWJToWAYrg5xR++Znx6B2PlgJM4vKNT8qZj5X1RNneOL9/5cfZ3+OyYxzIimIIaJnZ9JAbwzXHLaVFAxzs7GlAfc419BKZsn9/ayJhhsh0Mb+J0q0ePxvDNJGAn5e6hi81bMd76kKr9HdrgiUVuWn3iZ2+d+aTf/W7dPtPFT+909vpjKvs84hsBJhgTTClllGVZZq1VShVlQTkVQnRdZ61FgJqm+fnnny8uLn755ZeLiwttNKNMSpmmaZ7ny3J5drYhmFRVZbRpm3a73VJKm6bpu955Z6yBsdIS5lzkucQYDxtlvfdaK++96tVV3BJCQgzFokiSZGD4nPO7cE0DIADAmDJGpRBJEoKPjBAcI6CAgje6jxCt7urdJUIoBC/SlHHJhACMMSaTIxQOgYM3hQq8c25Ptr046byH/NMfnH1TUUMAjDAwzrO8CN5Wy2VdrZxzfdu+ffOWYIoBBOcQw3531Te11Uoz1nVt0zZG6xjnqQdv4dLxvd/efuCBJt9+2EGdH1eh4L2z1lrjrIlOq65tq10I0Uastd/vLutqr1QfYyR0yE2ecCEIZYDxLBHmtT6+8RwiivAOSR4jAII4CPo4JJY7VZ6v3w2MfxEAAQrRO++C18qZ3nZt12x1uwPXJxRxIZ+u8ufPNs+frJ+dbTbrkmHEPj2WO8YYQ/TBe++ddc45Y41zbpitqldd29V1Xdf1fr/f7XdN2ww/HDIUDEXs7g++ZvmrwbMwPUKEAXmEJm36s2uJ3zsMRbAAIhoz+w2GH4RQhGOCnLkNL85Ceb8dxIOHcTRtAhzz6V8/Fib3AhxEO0JxVrXwa+BA8D8Vt/wkIjwy48MEmAVjwOyXBxPDWKdhOiHE28/8kHESz/1Njf47R5yv5jN8eyMk3KphzIjkcWLdUEfgxouHi8kzH8MtLHo8ZPjfYQPAEBr/eRPrM371ddZwmIyzJx9+Aw/8EZ8CAMAEI4QoowlOCCWAIE3Sal9VddW27dX26u3btxeXF7/++ut2u5VS/u1vf5OpLLJifp4YY4jRB++ct9Yardu2dZVz3g27NSkh6816s9oQTBaLheAiL4pnz57t9/vdbte07a9v3rx586YsF2dnT9br9XK5LJclpXerewMgggEQ5EUKcJZlyWa9evny+a6u91Xbds2lVhfnb7JFWa42i+VSylSmKQIc0RDcMWwom1O1owUfxrfjrAIAwCerdpxpSx8WHNfq04RICJUyQXH55OmLGOPV1eV+u6urX3Xf766uBKcYUN82529+6ZuaYNy3Td91zhqE3uk+nt/HF1ctjhsWh74AjLx3qreqrS7evnn9Lyoz46I23qhW963zljIm00ykmUgzLhPGOSEMMJ4pvJ8DQMcN+VMA6PQU4PTOZzJxKMM6OaK91Z1VXV9tm/2VaiuCAoGwXGSbVblZLpaLbLPM8jTNc8kIHGPSP767Jhbd933fq7Ztmrqp6mqgzXVVV1VVV3Xd1HVdK6WMMQDw8uXLV69erdfr1Wq1WC6EEPjeFOD4iuWvTgbz6d4ROHhVHv7yN0zsCAAII4BD3faZE+UQ0jv3xX1bPDqesKODjWyWYCEeDzrEPQ90GuZuanhfhcDfBZ86Km9n0Wiu7B8OmUUnHhzy007pOPreZvkUP6v99xTXdd9hTnxDU+CL46DNHLSX98fmfROYTQuEjvNiwBiEN8yNUXTMlJJviUVPGJaJcN3tfADEwRY5OhsiQkNm2BtbFj9wmc9u3+/U2xGNO6dubA2De7KL7hG/O4bU3AQRhJCUMpHJcrnc5lt2zrz3l5eXP//889XV1Xa7tda+fPXyz9/9GWNsjEFTcmAfQowxhOB98M5ZY5XSbdfWdV03tbUuhMAZDz4kIsmLPM/y5XL5DCEU0evXr//rv/+7quvtdru9uloul13be+cxxlmeYcAD+YRbzD5fBhgDxqigSZEl4clGG6u1+de/f/7//uu/9tuLulN1pxbLlbeGYEQgJpIDoQHhOMUND/xwYmMYoTCFjAEARhhNutzY36eOjwNGTef2Gp2nLDrGgABjjCmRlJDwxDFOvfOXb88vz8+ban/+5g2jhFFsjbp8+2vfNYwx1XWqb601kzf8fYgnr7+AgJpHzMHApDGOIXir+7apri5+/fnfmEptvHUBIALE4D1mTBIi0lykmZAJZQJTCkA+2J73thiuvTq1JkOEeX3Zw4Hx4MvEEFDwXne6uqwuft1e/NLXu0WRl4v8bPnk7z/8+fvvXiWCZJzgz8r1Pugo3vsQgjGmadq6ri8vLy8vLi4vL9+evz0/P7+6vNput/tq37Zt13Tee4xxVmSLxaIois1ms16vy7L8jKvfHb5WsrE4+WYHP+1oWgeEIMTrBqqHjMn/DChGFPwQsQ0zVe+YMmfg2FM9uvnree66r3MbvxlHHRYwoHBQc2f0+mA6iYPEve3vIANmzqd3XOzO7BAfZWN978Ewxl4cnvNkTJlJphk3mG4fj0MiopvC8IFjsi7BYD5Bo4kF5ibUx2Rj1zBMFoAIs5E09SQ6TqpvCBAjjKFMYR7MAWMMC0JokKlhPGacPmGWvxXuwCHxlTA8ehglyGR5PN0Kd1xKhvivCCjEWVq/j8Bv7K675dLTYuoh4pmR+vgXhwS+8VF6/NEBGBhjWZ6FGCiljLEsy5qm6bouhPDk6ZNnT59VVfXmzZthT/Xl5ZXg3BqLYUQIwVrbNu3V1dXV1ZUxJoRIKbXWNE2zWq9Wq1WxKAQXnPMsy168eM4Yq6tqv9+jiABgiCHfbrd5nud5nqYpF5xzTvDdhqoODmrO2Xq1+P4v3+V5tq2afd2ECNGqqze/9G1V73YizUSScSGBMCB08nhco/pDhq6AAkb4mJpgsvQfRBC6NungmCARIXTDEX34NHijlerbvuu06nTfcsZfvHiVZbkzxhjtvXXeaW0CQpQyIDQC8mM250NbBly/xKkICAjhKfhzlporzo+P715J42gfGIyZcdjxDTLJytWm2V7sL7Oua1ul3r55I5Kc8oSJRAghJdeq7+rKGEO5kGkqZEIZAwwzt8m8r04N5HM6cE0RnDX2aGCOByf8nPAjNKZaQyiG6G2wVtvem86pzva16xsO4cWTjXi+WZb5qsyfnp09WRWSYza089PFqXd+cDLvdrv9fr/b7Xe73X632+/3+6qq62rYFN11Xdd1WmvvPKGkWBTL1fL5s+f/8R//8cMPPzx/8TzN0vsmzL9usrGRTY0G84ggDj6Ez0yEci8xaHseRQyTHnNzsR8OhTE2BBGIGCJCeLDgfN2A5i+EQSCPcSZwSnSnaT5qgNPTj3iKfgcU4ESCvNdZOUQmTb6pL4pZZNNHYd6AE7E47AiGgfsM4z0cRei1xDnjKIKIJxYN1wwsDxxHOoRimJHDA+KUIuQRMxy9kANZIkPXHT2x35LvdbhNPwqEGCGGgVcDOpkso/YW/dETMoiUGZP+NjC4EvAwZQ6dcMi0cWpowIMiG44rzkd3w30WMyd2xjj0Qwgwbo8fZe23Iygf8RtAMAGALMuklIti9G5Za513BJNFuSjL8l//+tduv9vtd03TXF1eZXlGMAF8JNJDDqTtdvvrr79qrUOMBOPh4KfPnr569SqiWOQFZTTLMsroerWum2bg3pcXF5dXl7vdDhO8Wi2fPnl2dnaWFznBBFF08FHfESghGMNmvcyy5NnTs8tddXm5v9xtL6+2V/strxImZFEuy9VZXq4oDwxjADwFTw4aBz6NZDmEAA2r8zGPyw3lZFyOTlXZ6+w8xjHot++6y8vLer9DwcfouZAvX/3p+YsXl+dvL87fdp03xhtrIkKYUUIJQij4kUofTGeH81+b/fHg3EIIBRTxjPzPuPTBCjCd6BaPyOE+h2NDQBFAplm52uzLlUhz2G17pez526wwi9WTJCuyPC+Xi7aunbHOB8aFTDIuE0oZAB52/E2NP9EAj1ec2FMcj5mXoh5th7d2/zGL62FpGBcL50zvjOrrfVtdqXYHTiOn14v82ZP1s81qsy7PVkWWJkIIzjB8njMaIefddrv95ZdfXr9+/fPrn3/55Zftdrvdbtu27VWvtfbee++DD867EAKjDBO8XC5/+NsPf//73//xj3/8/e9/L5elEOKzrn+H+IrJxoZHGLx3zlptjFK999H6YwqZe72CfwQO4eoEEAaEgjdaWa2sMd7Z4H2MBB0mcQzeOWeNNUobBZQFBINAiAgdkjE8ZAACDACDYyRYY5W2WjtrffAhxDhuz4kxDHn7rNHaqh5jEhEa8jAeRMi7zYTHj4egoy/Kvz5PgNz81SAQASFEMI4EO91bo5213rkQw0H5iyGGELx13mqrlaVs8tbj8A2ph4AQBoDBquu9VdpZ44OPMRxySj3iHRjGSPDOGGOM6o0P1gV/YvH5FqJbB7KEQvBWO6etMc4NoiMcVLgY4xiCabXV2qg+IuQHtQHDJJK/hd4YdZnordZOK2dNCD4eVEmEhoBU76y1Y4ZiTFkM0Y8pbT/DI/0Z0/DOjRaDjksxBIyDMUYra5V3FgU/GhfCODDuuiWPuOcADAQRQghC6JBwO8QwxOKmaZokSVM3ZVk2deOcu7i40FoXRX6tKOuBVwNgAhFjHILXRjdNc3V1RQiJMQopOOdZmiVJIpN0sVCU0SFC3FprjGmbbku3MUalldZGSsE454xhjDEeL/BlZ8/h9qUUWZpSLiQXlGHkA8QQEIpW665tCYnB8yQTicGUY8oIoYAx4DjRaYSOfliExtTbRxY9yeJBwY8zE/g1J8TJ23kcjffeKNW1jbfWO5NnWbpeJekCxUgwbtu671rGWVM3hO6A0MM+3VP/Q7zmfEEzMjm56+IJHx4Y8Y2YpXf59uKM8caIQkSAgHNRlMvl2dPN/lUIo/aSLZaL5WqxWqVpQpkgVGFKMR14dCbGUl6Hnjgme5tu5PjV0QsVY4RjcOIh4+TRITM9+Rt341EMw5aF6Kx3xunWqt72NTIti1YKIrLs6dny1fOzl8/OykW+WmTst+zqj9O/EQ17JQ55xcYC713btu2wZAEAIYRzniRJnud/+tOffvzhx3/84x9//vOfN2cbKeXnN+POQD+nDvsXQozIe2+NUX3XNVVT7X0IPpyGgzxQN9Skqo1bE2BUAa3RRqu+b7VW3tsQCEIMITRyR6v7tmnrGgF23ocI4TBHvw01AI+bogHF4FzX1F3bKNVba2LwYQhOiCE6Z7RRfde1NSbEOWekjFMethEf0Ixmfu0v03e/fU27foaIAAEQDIQQZ1TfNb1qndHB+5EUhIjAe+sRaNV1XV0HF6ZQzm8nQHXAEH0aQ4jBt02lVees8QzHMZdSjCh8RWF1HzFZlYJ31jqt+q6rmmZvnHcuhIPT8ST7xNdo52/HNJsxQihEb413WrWNVr01BgU/he7GGKNzTum+b7s2qYCQGFEYiDSgiUg/0F6YAWCIQYg+equt0arv7cClDy6SELy3WquuaaiQCBPvQxyp9ietKb+FSI/N/dwffhBjkwgGRsAb27WV6lqrlQ8eoYN2OVgWHqXHIyYA4oLDxEMwxkP2rzRNnz59Ohjy3759q7UiGDPOQgwxRkKIECLLsuVyOaQaRgCEYCGElBJjvN/vtdYY4yIvMGBCCQAwRjCWm/VacL7erOuqburGWDNEsWZVlqZZURTFYlHkGedccAEEMMJ3t8RjDGkiCQbG6CLPqmpTNV3dtMaFrtp3dSOyTCa5SBORZEwkjHPCOBqCj2EiyTBlO5xk71FEjHGUM0/pgcCimYv7WJdk/BgGwk+AEAKA+76r9ztjNOOCc1kuV6v12mqldb+9vFC9ujg/J5hgTAgheKoyO3HJGcmc3/yY8Rqm5s4Z6OHwGRuN8fo5Dtm8Zh72OGV/JEJKQGfP/4QxrJ88G64g0ywvSpkkRmtjlLY2IMCUMZkkWS7ThFCKAKEYUMQ35eXcOjAx7JFvxylFxuEGIrp+PwAwdnUMA4sO1gRvnFG276xuve6c7ijEQkJalqsyX5f5clEsi6zMUyE5Bvjt8hNjnOf5s6fPAAFnIsvzPC+SJDk/P8dXOMZojFFKUUKlkDKVz549e/HixU8//vTjTz/+5S9/KZclIeR+ivGvHNrtvYtGqb5rq6reb10I4dTR9kDtyKfaGgBCGOJApK3RfddYo5xzIYQpxCTG4I3WfdtwkYQYubUBoTCWKnmYvXADMGUXA4jB+a6p2rrq+95a64MneAw/dNEhY4ZRgQCs1UzLOCfHCKH3x/qe7CO5j4hoHBcEAyXYGtM1Vd91xpoQ/CEdXQzBWesC6tu2qfbWuCHDB7reGw8ew/5eFEIMvqv3quuc0UHQGKaCFvfzQX5NTFI0eGe1Vl3XVPX+yvlgXLiWue+rtfFLYDDCw+Q78NZ4q/u21n3vjAGIY3HWGEMI1hnV911X00ZEgBhQiMdCeyMBffAYzJEQY/RGe2uU6qzVg3MeAwxBCtFZpVTb1piJiLD1fiDSCH3QEHmKm6rkPUJECFEMDGNvbVtXXVtro4N3MKr6g7vtfjb+EV8HGDBnnDN+7fMkTZ49ewYIfv7557dv34bg8zwvSBFCQAhhgrngQ0kthFDwATAQQhhjnPOmaYbNn0VRPH36lDEGGBhlmGJGmRRys9kYay7OL87Pzy8vLi8uLpqmkZWUSbJaLr1zGKGYREooQSTggPFdxc5gwJkUmRSLPHt2tml79eubt7/++uZyu9/VVae07HKZNOli4Z1LUQQUMcZAKMCYVnrk0UMZgGMlQhQRQiGgYacaQgjNd0rPt9tNruCTfWoRADBCGFPKKMaglNput8H7PCsWi8XZ2dnZ2QZQNEZdvH3z+vXPlP2/mFBKKCH0Wg7nd1fwGgyJww7hEA9er7mj5hoTvYYYb+HSEQUUAQFlnHFGGS/K0lmFYgSEKGWM8xjD+ds3TVsb6yKCwSGdpoWQKWHs2IEHx/MRxxuZXfDAnOOB8R/+hs0tk7Y4rZ5DkEBwwWlnlW4r3e5113jdetOXebIoymdny5cvnr168SxLBMOIfrlBiDHOi5xzPkyislwkUgrBESDrrDZ64NKUUS54nuXPnz//z//4z59++vHHH3/67rvvMLnbvQ+/BV+HSBNCpZSJlMq6rmsvz99gSqu6Hgzm8yMfWOawNgAAIABJREFU6Op3bfPHuAs2Ru+sc6beXtX7vbcGQyqFMNJIIazzXde8/r9/b3d7niSUi4FFz2b2w8ZkegRAEQOKIai+V33f1XujOgIgOE8TZm1wWg8WxxCikAnlnNBBytycRe/rljiZPj/lR+j2n3we3n2hqWWAMRAMwbvd5cX+6qLvGgwozbIkSSQXymhrtLbtm19fB4Q4FwimfvhWwhQGHPNehKD67urirTUKxZRSzAUjlHwL9OeLYgjSS4TslbZKbS8v/v3P/1Fd50J0PqA4sa3RFfu1m/ubAeOesBicC95V+9326lL1XZIIKSVGIThjrdVdf/H2Tdt1ydWVkEkc0pAd3dHoYZsV4OC5GRaWGLwLzu4vL1TXEoickzSVztrgnbG23m9jDFfb7ZBDaKw5eZuf5kP47X7pOwQBhAGic/vdttpvm2qPERJJKgQnGGMMD/uhP+L3Aud8sVgMgS3eeyklpdQ5BwgIIZRQjDElNE1ShFDf9b3q+74fshAjhAa/tBBiLC9yY65gjJM0Wa6WCCEEiHPuQ/De100TYmjaJs/zLMvSNJVScsEZY4Ov9Y7uFwAIxZKz1XJBMGRFvqyWdddZG5wPtu9q7/uulWkmk4zJhDLOGAfAGOPDvmY4/MXPXmyGHJDjLxljRV44a3SvVN9hjKt6j36Oxiijuxh93/WX52+uLs913zHKhJBFsRi6HSF0ZO7X0pudKk3HTaTvFGlzNnvKbAeH91SgHtA8N3BEIQRnnTVWmeFza0zXtdaa/faqqirvvEhSLmRaLESaUsYxJhHh0254Z2sO6zqM/qXjQj/vUDwmn4oIRRRcCD5Y7a1xtneqd6aLTtNgOScyX0pxtsyT9bJYl/lqkUtOKT4umb8RIQaEkA/emrFMtFbaGI0xljIp8jzPC9WrYZynabpZb54/f/7DDz/89W9/ffHiZV7k436K+yrGvw6RppQkiUwSqUyl2sY5r425vDiPJ5l54X6u2Z+C0RY0udRi8D4Gb3Wv+w6ix4CkFNZaIXivVNc21nrKzykVMGRQeOgdcIKjGguAUBxEjYnexeAwBsZpkqQY615ra/R+e9k0NSEMCBlNs8dZfd1R/w6yHE9/dfjuQ91690T6cKWh7GCMoW9r1bUYIUawSNM0kUJybbU1qmnaiFDfdpiSYxa105N/EyNltKs6a+v91hqNUKCUCM4oGeoVPuIISqkUQiYSdjtjVLW9/D8Ud9srH2LwASE0FWtHozP26zb3N2Ku//gQQ9C6130fgk8kE1xgQN7ZGIJWXacU2e0o44Sxg5vh4XcBQujgAYGDwhq9jyFY3RvVAyBOaSqFBtCqj9411a5pGswYZYIwevQcIfTxMmPaTPhpv/o9Maqwwau+U10XnANAaZoIIQgh8MijH/FxEFyQknDOvfXDdk3G2BA5SAghhFBCCCFDtm2EUNd3SqkhzRXGRMpECD5s44y3MWmMcZqkAyHHGDPKhoK5TdN0XUspLYo8z4vFYrEoF4tigSLC8pZY3y8FGELTJV/TssjTZVfWTb+v26ur3eV2p1Tn2iYASfMiyVWaZjLLIGaUMYwH7zRCE4Ueg4bep5R9bJuEEKhYAKC+67uu6bu2qeu2qY1RRvXem65tLi8vtleXWvVZvhBSFkUhkgQAT3ut40FLvNUjPUWCvkeczYO54uz1dP55uOgxBhWj4GMM3nlnrDUaAAFGzjptjOq73W7XVDXnIlnk5XKV5eXgK0KHwle3cddDI258dyLa4MYXAENiTu+dCc5Y3dm+Naq1unV9yzAknGSSb9bl2Xq1WqSrIilSyThjlEwbMb8MYojBB2OM0lop1ateawOAkyTJsmJRNEr1MUbvfbkoX756+cPffvjpp59++umn1WqVZulQE/5LEfsvjq9DpKVM1uv18+fPCeOAMcJEMEKmFHLTUfdxwf5ExJOBCAgjQABUCskIp/hsc/bkbJMmCQIQMglDugJMMEGAUYx3uUvmK2C8F5g2KgIBwinGjDEiGCsXebnI+l4xLuumjWiIycRTQCaaSZJbuuXaDJu5o2+EgL/PRPNFI6Zn7qN3fT0YDiOKCWcUpYKzNEnyLMvzNM9yzrlzDhPChWDTyjVkIp6lv/gcB9P9w7SwRcQozvNUMHy22axXq7JcyETi+ypDvxaEEKvl8tnTJ8465ywCLBklKACKAR+8sAjNV/mHCziqaJGgCIAHkkTwZr0626yds22edm2rrFXaIgAgGPCUDubbwCADBy59iP0jCAGwRGSScUrXq9Vms9FaScGapjHOW+8RJpjMlNwpEv5jL3tD1Hwc7nQph+tvYowQBSU4kYxgzthquVwul4wzuLcRgY+4ZxjYMgCUq3JIHYwJtsbmeb5crfI8Z7No8GFnNWMMAKxzlCJGKaWUEHLIGXbt/HHMphq880MaQK211mrg4SHEruuHNFDOO6NNmqVpmjLGBtf0mOLsyzmoMQBCgAmihEghGBdCSC4lBgQQ667rem2sC1arFkVvnTNOaSYF45IySggDABz9VBdgrMd3NL6dbMA7lcVTgPQsm/QY2IwxFlLEmJerpTFqv6VNvdOqr+sqeGu0aptqt7tSSlHG0iwrFovFcpkICQBj6cPpcreyaHQMKZ/eHGXVCbd+j+SKKBySIU2sdThVDNb2fbvbXnX1dsgc5703zlljrNaAMZcyK4p8sUyyjDAOmAz5uuM7Lxqn0w/XigcCDbO/Y6AjQmMCdG+jc9EZb5XXypvemS5axYMTDFLJFllSFtmT9WpztlpkSZ7whLN33/SnYdhhNPDnIbXYUN+qbVtrLQAMERxKqaau27bFgLngz589/+v3f/3xxx+/++67sydnWZrdaVDGFwENX6OqTJ7nf3r1CgDOtrvtdhsiIoxhQhFCszk14IGyg6n9ACezMkYUwzATOKOb9frsbKN6tVxt6qZ23jvnx/q5gBFC870l3w6ODvoYQqSUcEaF4HmWFHmmlKrqpms7F4L3MaJDhOpHnPIEB0p8G+v+fYg0+iCRnkyjMXrvQ/BCiCzNsjSVUiYyqep6tSyrqsGUEkph3EmMppz2c8/0g6PTN7tl6AkUY4zeBe+enJ1996dXZ2dneZYBxl9FWN1bZGn67NmzGFGRF5v1KsQ4KFvhdPvrw2fRp3b2QdWaaiZTQsqyXK5K75xSver7XmulVEAIDYrsw5kP78GpFJm7SsYJQzAigAVji7JclqXWummatm2Ns9q6iABhDLfrItcjW64PllMW/SlD6fcj0pMGGrz3wXtGmRS8XJSvXr2QUmACCOBRejziIzFkRSKYeO8jikrpJ33vfRCCCyGcd0oppZT3Pk0TxpjWWhvtnEUxGmNijIwxSincGHUhhL7vq6q6uLj45ZdfLi+vrLXWWilFkiRJkgykq27qvu93bJdneZZlWZ4NId+DT/zuRjIhICQvMWJksyjSuun2TVd3ndJGKd1bo7q2oUzIRKRZIlOZppxLFAJMsc2HBeea5L2ebGwwMcSTZGMDDRxKfQImTIiyXALGQkouWL3fOat3V5dtW7dV1bQ1QrFcrjZnZ5vN2XK5EkkSB/I27l+BUwVp1hgUYcjUFRGasjLdTp/HNN7zj8J0DBycNBFN+R8h+uCdc/V+9/bnf1++/XWwfmBCMKGEUsJ4sVjk5bIoV9mi5EIiPFBoiBHeVbb6kC39tGMnj/vhG4QAAcaAB4uCj14rq3urWm86r3sIlkQncMxzkadFmWerRVYWWZYmaSoFZ5R8SS0rxqi1Nto0dVPVVdM0Siml+hAixiCllDIBAGPM9uoqkUmWZQjQn7/78w8//PDXv/51vVkLLjDBCNA9l95fxyOd59mrV6+Kotjt9vuqcs4hfIwi+DYi8NBo/TrYiQ7/jxQTijFnrFgsFkXhnGu7ruv6wWzj7/eI+e2YRRcCQohTxjkXUiSSp6k02nS96rveWuec8x9RqQWOL+bK5gfUuK89yA7mhJNqC0ImeZYnScIYZ5S2bbd78qTp2vHg8d+hT67npHyIlOGkzQCTnx0IAMV4URRnm/VyWSaPHukbSNP0+bNneZqdrdfbZ8+dd+gYt/YtxfUc7GEw/4QAxoQwyvI8y/MsxmCMNsYM+xZdPMla+XDHzjwrLELvDPxjhHLKBOdZlmVZ5pzrurbre22MttbHQ/K5D8g9uPHiZovQ/SsgNqZWmfpKCJFIWeT55mwjE/G5dU8f8QcFxniYR957a63WOnhPCEERcc5CCIOhilIiZZKmeL/fK62GEriEkBACxhiT2zzSIfaqr6rq8vLizZu3FxfnY4w3Y5yLPC+01dYYrfRAyPMsz4t8pVcootH7PRXfuosbJxgTjiWnRZ7GiOqmu9pXV1f788utajuttfU+RkjSTKo+5AsMkQKEiCAOzonbnB7xxCE0KSvX3dGzoxEgBBgzxvNylWSZFJwQBNFfXfRVtav2u6baa62kTNfrzZOnzzZPzsrVinEe0ZRDfKZ+32wOmnmk52T0xC0d57L3cKIDi0Y31tYxB3zwwTvX1tX5m1/e/N8/CcGAsRCJSNM0LxYyKcpysVwvlqusWAz52yLCh9Th78DYzClt5tCMUSca7MUQx9hNHAEQij7E6K3u+2avuyrozuuW40g5lglfF+LZ2eZstdisykWefdEg7qGlEQ1lzLRp6uZqe3V5ebnf7weOI4TI8zxJxICua7M8S9M0L/LFYvH999//9NNP33//PeecMnpvw7nn+DpEmlGWpAkAMM7zIg8hzEjQA+i1T8T18BUAwAQzQqQUUibeeyFlUVjvvXP2m6l19UEMt0koZYRQSjhnjFGf+jQ1duGC9250SR8Pvol3DJf4jtfv+cnvj5lPaXrHGeeccy4IwRgTLoRMhNL68JuDwniiOc5eP5zBc7tHerRXA8IASZLkWSqlHMLnfu8G3m9QSpNEAiBCSZKlwfvpmzmFfDjD4X2Am68BAGNCCeGcSylijN4PxSmtMXZeKu2hj5sbk/y6bxqhSDChhFBKhRCc8+C9TGRhrfPOOjetKe/riVu6+F3Xv5+YNY0RyjiTQqZp+ig3HvHZAABKaYyxWCwwITEEjLH33hjT951zvus6hJAPQQjZde2+3u+rfZ7ny+UyhJCkCecnicEBA2MsTdM8L8pyobXu+77vOymTGMPwFRdMa913vVIKEGilt7ut0mpf7dM0zbJMJnKY5nfHqBFCgBDnrEhTDMA5zfO0a/u275QyEYHTfRu9M6rhe8IoIVS1dTAKogeE8Cz2GB1itj8aQ9QRQghjQJQlWb7yZ4zSJEnyxaKpq65urNWJzJI0ffbiZbnaMMYAUzSVvPr95VQceG4MABhTKtJ8sdwYrTBgjEGmaZIXaV7kizIryjQvGBdD+es4BGciiB9hn5x86Xjo0oNVAlAE5CG6YJXpK1UhZ61zJlgVrKLBCElEtsgSUaRikcrVIivLrEhSzugXHEHDJmfngtGq7/uu77u2bbtOK2WtYYxlWUYpTZIkzVIppA8+hpgkyXK59N6fnZ1tzjYvnr9YlkvG2bAv+kHgK2XtpmRISziw6G9rH9tHYKjDAkAwJpTEGIcKn8dqfH8kwGHfDwAmOMYY/FgGbeZ0/R1w11d6zwg/6vx4kLtAMEYA4H1c+OJ6Lnt4gKz5vbip5Q/CnWBCKSUE36nG8EBBKcFYCs6zLPU+/NEEx5huCwBjTAhGCA1LyfDvN9sZ79jzNOSVG3sDk4ii9z5Oi8rJwR8jh74Yfp/HcF1RH/ph2MJ6dzWEHvHNAwDGLdMlybI0hBBC1Ep1XVfXtdZGKeV9YIxKIdq2rfZV13eLYrHZbCihhJLrRBpAcJFlWVEUy+VSKW2MVkpprUOInPPVarVaLbXR+92+HrKQNU2v+v1+Tykty7JcluWiXC6XjDL05fIqX79xhBAgzggt0jQRRZ5v1nZfN7vdbrfft23XtK1RbQcVxpQnCRdSK+2thugh+KEyy2ELSvw8Lo0iYEwBkjTjjBWLoizLVXPWd51qO+9smmZpmublsliuCBMjKf0dtaKj3jZmC0cIYSAEB5ak+WJ1NsQwI4BhI3dWLGSaJ1lGmSCUIcAIYMZ+wrtjfY7beSJCgE4oE0AEiIACRBedtn3dI2d0p1WHg2c4CooXWb5a5KtysVrmyyJLBEs5YWxQrr5ch0TknDPG7Pf73W6331dd36m+RwgNNdjLshyShw358Nu2bds2SZLVcsUYe/nyxatXf1qtV0VRDDsjHorW93WI9LDIIYSuSZlHPOIRczCGEHqcI4+4BYOSRwhh6ItlB3nEIx7xiEcMGPT4QcxyzkMI3nsMMDBhAGjbNgQ9OOKM1m3Xts2YUEkb7Y9RQkdQSqWUeZ73fa+Uapo6RhRjGHgj57woCukkwYQxRjABAKXUsJW6bdsYo3feOturXnDBBWeUEULuwn1HMCZDQjXOkyQyghlGnOI9owSD1sZa5502nXda91r1bWedlzKJ3sXg0WGn1q3kNsb3xhNPvwCglDFKuOCUcpFkVmujdQg+EVImCeOSSwkY/+Zq9x/85Ts3XcZ4CBdHCDCmTKTZYv2EMDaQQZmkWV4kWcq5ZEJgQkYWPf18iot/D5eeN2NuTw0xhOitt9rqjiBnGVhkkbM8OsFxJlieynW5WK/K1SIvF0WRJYwAI1+Gpf7/7J3nmttGtq4rJ0SGbkkOe865/0uaZzxne0ZSByZkoOL5USSbHSzLdstywCs/7m4QBMFUqK/WWt+K526tM0YbY/p+6Pu+bdq6rruuc84BABmjUqo0ScpFWZallJJxBiH0zltjsyyz1zafsrdv311fXydJQhn9cy2Akr/u0v3MzMzMzMzMzMzMK4AQir2mEUKx5qhpmnGcYmxtmiZjjXXWORfTVp9MsCGEhBIAQZKm1lpj7H6/54xhhEEA3rm4P6MsSRNCiBSyKIqu77q+G8fRWds0TT/0h8NBCJEXeVEUSiqpJEf8Cz5rCCiGSnKECyV5nibLomi7vu37vuv7Yey7qu36puuN9Zxzm2bBWRA8ulSf4ULqnszGfjJB5pSldioOhgAizLiAmDEhlQ0+EEJJNGFF+Fhj/NSt6yX9fvoFxoTH4MHLgexwPOOnAv25XocAnrU0AAAChLlMyxVUWR6fBWGEMk4pxZgAjI4V5Q/3OL0aFwZmxyM/OevjT3+6BQHvg9fejmZsx7YChkrsA/FKMMVVnqlFmuSpylOVJVIKLhhlx16iryP+4od8GPqmaeq6aZu27TpjtHMehJAkinOhlEySRCophJBSniv1KKNSSQCBENI5WxSFVJJQghD6cynTrxORnpmZmZmZmZmZmflTcCxDozDPcykVYzzO+GOp8ziOzrpw7PnjQwgvWg3H+Lb3PvigtVEqofQYfwveh+ABAIQSQolSyllnjW3btqqr/WFfVVXf99baEAKhZD2uvfO+9Jjgszj5EtmwCAIAgZJMSeazZMqzcTJ1Ve8Phx2Eehr10PVt07ed8X7sUzuNzhjgHPBPX4EnZmM/4Qh22vmRYyQiBCPKIYjGWucDhnDa99dWvJ1l9Fk4+/BIWn9CRT9UIB69biBEEHGVcKke9ocAwpPePsrz+ADw1NXqnP8OHx378s+Hp3d6qt4Fb/0pHK3HhgRqBYKWpoyvl+nVcnG1KBZlLhkRjL6u7WJ8xZ13zrq+63fb/W63q+u6rhuMEedcKaWUWi5XWZYmSSKljFZ557tTSgEAQohQAgggY/TP4i72hFlIz8zMzMzMzMzMzPw8EEFCsFLShxJjwjnPsizP89VqZa397rvv1ut1kiSfKF0MR0X1LBL6uNMPRBATLKTwwGOCpZBpksbmW9ZaPen7+/uu66pDFftkKZUwRmMj6y/13CEgBPMQ0lQhBDinXPIkTfJDtT9U3TAygvq2JgTD4I0eqJBMcIBodLR40ffmiQCOQuqy7wK82BiFNHgUrr2QvBea9jmXm/0xKA0fHj48CpKfPM/OgeOnoelH8vr4BwzgokfC+fQfiXwYHp7paU0gPDc7f3ju55shDCB44F2wVpvR6KGvD1O9DVOfCZpcr/MsvVot1qtymWWLIo2BaEExxvh1faiMMXrS4zjGPott2w1DPwwjIWS5WHDBlZQqSdI0SdM0VkSfKsnDWSojhKIZflwwgH+qdO5L5tTumZmZmZmZmZmZmZ8HQogJllISQpVMszztu369Xg/D4JxbLBaL5UIpFR2/Xz5EeNDSp45Pl308wuUDCSQIJbEwexqmpm2aumnbtu/7uq5j0XWSpuvVan0FAZDR0PvLPX2MEYQUYywlz/IsybKyKPNsL6U6HA6TsUNXB2+9NUaPWVkitCQcAEhjbDaKyXO49aQkw6k++CKfGoAAAgLgJD4v1OhZS1/o3nCMJn/q5OONp6goDM96X10I5qOUho82Xu4DnjRzPRVKH7O0Ycz6Pu8YVfTDA8XTh48O/OhkLt5EGKIdOgguOOPNMDVV3x6Gtpq6OughVSJbZuvl4u31+mq9zBKRp4ITQjCmBEfvt1eUe0abruvqur6/v99ut1rrEABCKM/zLE3TLE3TVKmEc0YZJZhABF/8eFNKz93RThnufz5NOkekZ2ZmZmZmZmZmZn6eOOUnhEQTMkqx4CLLM6NNCEFKKaSglBLyWyfYl25nIYRYNU0ZjSCMfPDOuWmanHMQQudckqZJopRUhJIvpKghhBhDjBEAhPNAMBFMEEYZJ0kimqZv2jYAZPXQ1cAHp63lQlGpCOcYEYQIhBfCNKpfACB4qqCiTD0bcJ2zn591eDwlSH82T1OoT25hl39ensbzjoDhkYq+POSDi1o4bX6pFhye//ecx80IAwQBBh+8tc44Pdqpt2Ovh9b2LQ2WCUoTuiiyZZmtluV6US6LXAoqOUXopc7ev4q47OO8jy7zXdPGouimbaZpghByzqRURZ6XizJNUpUozjkmGKEXGqofn9oXK0b4nZmF9MzMzMzMzMzMzMxnc/RoBowxhBD33EsfQIiNr2LfrE/cF0J46uv4WUIiNrVGCCmgCCFKqTRLy7Ls2q7t2mEYdtvtbrvLsrQsy3JR5nkepf5rPd2fOCtAKUkQxBgoyRdl2bRd23RN17dtPwztOA273VamRVousrwUUkmJIYI+XBp0HVXp5Qv2Yu/Th9jlKdn6LF7jLb+iQvq38Lxm+tIfDD6Yih3XCR43+Xx0mKcfglOoGoKAQAje2anXUz+21djUemwpDBSGLOF5vizSpMxVmSepEkpKyRkhOOrX1xKpIQRv3TRNm81ms9k0bdt3ndaaUpamaZIkaZrGLG6pJGecUEIIuSyK/gszC+mZmZmZmZmZmZmZXwCEAEBIECH0c+fSR/UYwrOw6uNfXuLcHV0p5b3Px3wap91uF27D0A91Uzd1ExtrWWshhFJKzvkXjftBCBkjDBAl+SIA53zTdE3b397fO6PbpmqnqRt1krXOO4QQRlByDiE8G3rDJ33uIQzh2Cr5kw8MnmrpJzf8XoRnf8JLFf2w/Wnd9MW9zxH6U8PoY7g65oJ7CHywxoz92B7aat8dNmboikSkqVrk6tt3b969ucpSniecYvSK4vl4iiGAEKy1Vuu+7+7v7//7n/+2bTvpCQBwdXW1ylfL5XK5XOZ5/ukQ9F+VWUjPzMzMzMzMzMzMfBGCDz54Z1309+77PpqE9V3v/KN2059ZIwohxBgzzrI8AxCoRDV10zSNddYYc3Nz03bt/d19nudFWWRpRgihjH45hXPyrAac0wCk9wtGcVnmh6ar2t44P7XV7dA1SbZXSZJmKsukSiAkGKEAAAqnSuMQTvnbTw7/KICLnt1wEff9SSn9WNmCAAII8Gke96M//CfMxp7vH08hgACfWXDDR32zw/nGAAA8VwkDAEBAEMQsheBcsHYau7Fvpr4xU6+HlkB/VWbqerEo1CpPyiJbFHmWMEkx/gJvrnOua7uubeq6rqqqrutpmnzweZ5xsZZK5XmRF3mapEIKhP92Ejoym43NzMzMzMzMzMzMfBGiitZa13V9OBy6rhv6oWmaru+cc+GpavysaTmhJJZPq0SVi7Jt267pNtvN3d1dVVXb7RYhdHV19d1332GEpZQxWvhlnt8RiCDnFBMiOC0X+Ztx2uwO2319d7+93dxXdcO55EIuV1fX794JShENGLIAoAfgmOwNj75iD3I6BtSfStxLpzIAzrbe4GdevpfMxvzDDQ8p5Y9TBl627A4XMvvBRe10h3jOF8rySd/s0/EvVTQAAQKIIYDAe2+cHaf2UG1v22ob7BTstCyL66vrd1fr9TK9WmRCMEYIpRQjiOBjT7bXwFpb19X27v7j7c3tzU1d12mWZVmWL5dv3lyvVivKGGMcExzrDs7W3K93Cn8C5oj0zMzMzMzMzMzMzJckAGvtOI51XddVfTgc9vtD13VCCGNsuOiF/DlACCGGDDMGmBCCMSaFDCAYY7z3Wmutddu29/f3zrk0TVWihBBxz2N19msTmxgxBADFEoBESYQwpQyC4J1GwTkPvZmGptpTbLUWKuFKYsIxJohQAOHRpTuGbM+i9qJn0hkfHpmQ/SKe3uWpZH7yTjxP3/6pjedA9JM/nzzww30fFghCiL5i3lrnjbfaDp0Z+6Gt/NiSYIWgnNLrVfHt9fLd2/Uik2WRxFzuVySEYK111k160lr3XbfdbLbbbds0znvGWZqmy8VytV6t1uvlYgkx+tKrM398ZiE9MzMzMzMzMzMz80WImdgYY4wwQkhrs9/vb29v66Zp6poxHp23gw+/LpoXOwnBBF7BK6nk+mpdV3VVVVrr6A6Vpmme5YvlYrVeFUVxGT/8ciCIEiUwQpyRRZFVdbuv6sOhHrXe3HzY3N6keZmVZZrlKsuFSiDC55ZW6GjlDU5toh406PkVujT0/opc+IiFx+I5vKSlw+kphtN9Y/Q7QO8hCGbqpq4Z+3ro6rGtKQyC0dV6sVpm6zJbFGldC8QEAAAgAElEQVSRpXmaSE7JF3j/QgjTOPV9v9/v9rvd4XAYh2EYBs75N9+8y9Isy/M0y6LBGMII/C1zuZ8wC+mZ34PLa8Pfs4hiZmZm5rdwmbU3j6IzM38iIIQQQYQRJpgQ6qxt23a/37dd1/dd2mfTNFlrnXPe+zhf+kXfcQghY4wxppRar9da67vbu9u725uPN5vNpqqqLM2yLJv0RAgRXAQWKKMxlvjlBhOEoJJCSbEocx/AMEz/+5///oje39zcbnabtu2K5XoaB2sNQpBRAjFFOIBj0+FoSAZBCOihn9TTRlf+ol4anHb61fyq+54D1PClX55K66Od2OleEAQQfPAeBg+8BcGZoenqbXvYDG3VN4ciTZbJ9bvrxT++e/uP798mkhMIXjkMfeGBZ4zp+/5wONzd3n348H633QIAIITvvnn37bfffv/991wIxsUchb5kFtIzX5IAAADGGmuscw4hBBFECCGIMMaxA8Q8I5yZmZl5mVOGoXfOWOO9ByA2zkEII4wxBDAOpF/3NGdmZj5FAAAAjLFSarn01lrK6GK52O32u91WSqW1/nhzE3fM8zxNEiklAL/SghkjnCTJ1fqKEppmaVM3zjlnXd/17//7fr/fZ2mWZqlUUgrJOMMIf+lORRAAQtCizIP3iZLLxaJuWxeA97avD87opjpwmQiVEM4J5SRmegMMIDxlcUNw9Pp+FLZ3j5tOXfx4yotmYycnsZfS6kP4pLtYePrnsUr6YR0EPsSrH6dzBwCAB8EH57ybnNFOj3Ya7NRbPbhplBiU65K/XZZ5erUo14tiWWacvKZ+PYpnH4w11tphGPqu77quaZq2baZhlEK8e/eWCyG4XC6Xi+WScY4+3dftb8lsNjbzhQkgOlXqSUdvDIoppjiEgDGGGM6fwJmZmZmfJIAAgLF2GidjzTGyhTFjDAUAMIZwHkVnZv4EQARVorjgUsn1evXdt999+PDh483N0Pd6mm5vbkEIIQSjDUZICPGrezlBBJM04YLnef7m7Zu+6+/u7jb3m77v94c9CGC5XK7X63JRLhYLhFHAgcAvG1eDEFCCF2WeJXK9Xnb9cKjb27u7u9u7vj401QFhkhXLrCyTLBNJiiCAECMMQIAeIP8gpWMB86MS5s9/kS7NxkKIVdjn44WLnY5mY0c38pctu89/Xfx5EYSG8NgNGj4/wRAgCMEa4K2fBjN009D0zWFsKgQcpziV7O31+ps3V4siyxOZKsEo5gRDGODjB/z1BBBCcM5N4zRN02632263+91+GPq+76UURZ6XZVGUi3Kx4EJwzhmjECLw97MT+zRzRHrmi2Ot7fu+aRrvvXMOY8woY5xxximnBBNCSVwQjW0S5zD1zMzMzCXO2mEc+r7Xk9ZGE4TZEU4ZjaapGGF0HEXxcRSdx9GZmT8MsZKZUkoIkVImSUIoEVLs94eqqqZp8j50XZ+lg7U2hHASYr/+gQQXzrlEJSEEHzw+YNCAaZqmaTocDt77aH4mhOCcU0oxwRjjLzQHQwgKzgBnjPMkSRKlQPDB2abth3E0zls99A303jpjrNSIMMw4QhgigjAGEAF4jMg+7h39m3kskJ85X3+O2dizGx+qoC9vDQCE4Dzw1jnrzejNaKbOTr2dBuyNoEAxniV8kaXv3qy+eXedJVIxwtlrirU4FbfWGm2MMV3XdV1X13VTN9M0AgCllHmWLVfL1WqVF0WeF4TSVzyBvxizkJ75wkAQrSO32+3hcKiqCiHEBZdCZlmWZZmUUkoppKCEMsYIJpjgY43MzMzMzN8cCGAAxtqhH/e7/Xa73e12EADOuBAiTdMkTaRUUgouRNTW5NgWhxwbx8zMzPyRQAgRQqSSV1dXSqnFoq4Oh7ZtIYIQAuedd7+mUvoFIEAYUUYXiwVjbFEu2rbtum4cx3EcjTFN20ipsizL8kwpKaUUQiCE8JfM4CUYAwBgIr99e5Wlqm7apunqth8nPfaNmcax66iQMdObMkm5gIBBcpTRPj6xi+d4wSdDpeHpvPI3PMPLbAH47GgnRQ4f7x8c8C4Y7Yy206DHVo+dtxMwGgFXKJ6u8jKXyyJZ5GmaJlkqOSWE4F9/ms+IhdBGm67vYi5327Zt21prg/dKqWgkliRJkiZKKS4Ewq95An89vrKQntMD/g7EiPR+v//w4cOHDx8CCEIIpdSiXCwXy7zIj4paSCklZ5wEgjFGCD2p/ZvD1DMzz5lH0b8DztlxHOq6/vjx43/+8x/nHKNMClGWZbko8zyPZkJSSqlklNOBBIgQwo/8hOZRdGbmqxOT7yilUsrVetU27WF/qKqq7dq2bWP02HmHMYbhNwUVYmw5DgjlohyHMcYeP3782DSN7jQAgGBSlqXW2hQ5AADjY09gAMCvDol/GoQgQ4RRkijx5npd1e1uX212+9vb+7Y5WNsNPSWUybT0zgnlIQAIQgQBgHFSeIz2wmeB6di9+SeviL82Vf6neXg0+Gjr6bRCeDjLEIAzwVlvBjv0emzHvhm7GnqDQZCclln5zZur63V5vcgWuXrdEwWnqYK1Vk96HMembvb7fVVVUUgzSpMkybLs+vr67du3UgpMCJxNxT6DryOkY16Bd94HH/wva50381r89uHxpbft+VGDD15KWRZlVVWc87quD4eDNVZKGVe/sixL0/S8DBZj1JxxxhmN/yglhBBCEJ4Tv2dmADiPonEQ9X4eRf+SwNM/7zxnPE3SJEmTJNnvdnf7/TROQgihZJok0T0ojXGEREmllFSMMyEEpZQxds4pRfiLGwvNzMx8PoSSJE0QRipVRVEopZRSGGEAoh3Wq31VEUZCiFgZyzkfhmEcR2ssAKBpKm1013VKSSWVVOpYO0Lpl/aFZYxmaQIhYAQXqerGcRitti5429e1nqah75mQjEsqJKEME4IxgdHBOzzJxP7V68rnnOzLY4WLRO/HGd0PC9hPnc7OW0+V2N4776xx1jgz+GkIeghmBHaSyCe5lCxLlMiUWBb5osyKVHL6yiFo55x3TmszTmNcTOm7vu/7ru+GYXDOUUqlUlmW5XkupSSUIDhL6M/l65iNHbPzjXHOOeceffzmi/vvxtFE4Vff9XPv7JyTUhZFkSQJ53yapru7u/3+QDDGBCuplFJplsbvcJ7neZbneZ5EWa2SJEmkkEIIKCAAIAZYZmb+5kQX1jiKWmdf1tGvvwA/87vwKG8RQgCdd5SxNMviauP9/f3mfrPZbKK1hJAiUUmWZtl5IM3yLM/SJM2yLEkSqVSilJBSSgECQAQ/bRozMzPzlSCEJGkipPDee+ej5cHZ4+AVZ+nxsIQQzvlyuWzbtqqquq77rq/rBrUdpVQIkWVZnhdxDhZtFzDGX04sUIKzVEnBizSZVotD1W731b5qulF3XQc6QhinQsokFdYKpTiQGJG4whgu9O3nnN/JWRue/gRnX7FHW0AIwYMYUT5vfm429jAVvgyLBwBjMgAIIQAfnNVaT3oczFDboYVmxG6i0CWJTBO1LPPVslyWmWJUiFjf+JqvdgjBOWuN7dqmapqmbtq2bZt2miZjjXOOEBKTI5I0zfJcKokJgRiB2cby8/g6EWln3TiMwzAYY6Zp+sWlIE92fPhIP1kQgi/s/Gmeljw8O87ZKP9y/89/iD/eZxI+++UT/IRl4YvHPV4BAIg+lME6G3s/EEKscUPfe+998JRSzrkUUikVB+4sy4q8iJq6yIuiLIqiyPMcQsgAwwATMtf2z/zdcc6N0zgN06SnaZq890+H0F/ux/L8qvlZw/JLw+bLG2d+OdE0LIAQQjBGI4yklIQQ620/DM5Z6x0lVHAuhFTqlOaTpmmaHYfOoijLosiLoihAKLgQBAaCZvOYmZk/BNHSgH55P6eoogEBlFHvPSY4iuTYjtRa670fhgFC5JzXWutpGtUxPRCfePWzOj19wihJpMCEQoQQwbTtIULWeR+cG4cJQu+cNdqKiQlBCMMxvwZGyffz68bhlG4do/wxQfx00QsgBBBCbFQd/Hn/cJrmP4lIH38+mkJHLXPM4nbee+esd1brSY+j0SMwPXITw14yohgvi7TMs2WZLxZlmaUEQUrQqwT+z1nc1trj+zgObds1Tdu27TAMQz8YY6y1zjtjjs0gYu4SY0wl7mz9+wpn81fn60SktdFt1zZ1M/TDMA7nKeBvec+OT+RkY/8ziSgvVX487SMHH/6dDxUu/z156X5C3v9xeTYQ/ML7PbdWAI9vOS0WBgAAsM5675MkSdNUKUkZ09OkJ+OMM8YMw9C0DdkRIUQU1UVRFHmxWq3W6/X66irWBAIEOOLzItnMjLNu6Ie2aduu7fveOffCoHcxswgPpVwvfeNPoY9w0VsEnqyff0Ipv/w1PBWwXTwcfPJbfKDTYWYeuDCtebaYG0Bw3lljhBBJkkipOOfD5O00xgnTOE1t11BCGWeCcylVkRd5USyXy/V6tV6vJ6MRQgEAiSWelyNnZv7GIIg45yADlFGVJHlRDH3fD8M0jlpP0zT2fVdXXAiR5mme59HZG33JolmIIABYKQkRlErm3VB0Q9uP/TAOo3Zjr4du7NqBc8aFUKlKEso4oRQTEgA4Fjg9mSCer4kPm4+XOB9O6cuPCkzD8b94JQxHCX1xRXtUkx0TzCEIMAQIAoQAguC98dY4q/U46LG3RlurgbMcBc5xplSZiCKVRSrzYzNvThBACL5W/kGs+RqHsevatu26tu37bhwnbYwxxtnjbCGAEG3bx3Gs67ppmliinyQJQgiEOQP0s/g6l1Jr7dAPdV1H/8AopE/tyz9P1j2uSgiPAScvh+O08sV54zOZHS6/S/Bhn8tTOu9xufPDoR6+sJ90xv9D8osi0j+9/eEVfOhuevIM897HumjOOSFET5PWk7UWnF5DhBDnnHMuhCgORVEU/TAYYwCEQoqiLCinv8Oq7czMHx9jzTRNbdvWTV1V1eUo+qDH4HEsuhyRfmqMjTFP7320ugEAYIQxwpe2zy8I6ZcKcyC4SAk7WwZeJvWcTmpe737GExF93gbOqYyMMSGEEIIyOurRGGusOe4IYTQx4owxxvPskOdF27XjNDrvKaVZmlHOmGC/63OamZn5owFBDD8mPjHaaK2ruj7s94fgYw0tAIBgwjhbmmW8NEAIz27eX0JRI4QAApJgqUThfN5P3aj3+2q3OwRru6Ef+zFAhAmlXDirEfAQeAQBwQiEAAD6yaD0+XoUToHl83qvf5xqeQxCxyn++Zf4goVHh4pjdQjxCgdBgMDD4CEIwBlvBjsOU9cMfeONhsESCEQi80Suyux6WV4ti0TQRHGC0SteBo9XcO+980M/VIdqv983TRMb0IJTzPI8W3DOdW13qA6EkrZth3FI0/TN9RvOOYQQzSVAn8HXEdKEEKWUs45RJqUMITyNSH9CcL70ifPOD+MwjqO11jsPARRSJEnyxMH/Mof8uP1ZY/fzo5w7relJx8zJAEL0Pzw23MMYIfSJBPKfXln6A00ef1ON9E9ufrJMAQEA1tnDfh+XToZhMFp77ymhPPZBxYQxSgkVQkgp0zTN87woitUyhqRXZVEIISihX3RBdGbmzwIlVArpcocJppR57+GDy/1L9idPU24eOC5OhzBN4zhMk56cdj4EJVWWZpjg44zh2VEfFblcBpzPM5KT9rPWGmt9NMUAgBDCKJu9Ax8DH/14uhkACJxzbdO2bdv3fd/34zQ66yCCQgjGWCx1i81j40BaFEVeFKvFcrVardar5XKpEsU4R2huZzIzM3MEYUwZS5MEQsgF77t+GAattdHGe991nTa6rmqVqCRJlEoSpaKz95eLWEIIGCMBBFCmjOI0kV3XNX0/TWYyzno7No0ZRyYEV4kQigrBuISEQAghxKcUVfB4uvp4tv/oenjK44aX97zc6YmKPknoiPcguOCt0aOZRqt7Ow3OTii4hAAmhGBECZYnMk9lnqo8kYmgnJHX7fQaq2X1pLuu67q+77u+78dxBACkaRrPNvgwjMM4jAAAKSRjLPjj0jnBJAYjffBz4ufn83WENCVUSQUBlFJOejrOty707ekt/JmJxfmdttZWVeWONQkOQCClXC6XlNKHrOzLL8B59vY8Q/t0fGttbFtvrbPOGmND8DFkGlvtccEZZeCTEZ6feAH+qhPHcBkKO/48dQcYp7FpmmEY+r4fxkFrHXygmBJGuBBSykQplSRHs5wsPxX3FUVRlEWZ57ngglI6ewnOzAAAMMFCCoQQY0xK6f3xkn8e3GLU9+EOz9XvCQQRRNB739QNBLVzbvST944xvlguGGOxwAWcv9ePymhO1TTgmCr2RLFDCL330zgN46i11lqH4BOVKKUoOy5HfpEX6C/AKcH+nHivtR6HcdJT3/fDMOhRe+8xwowxLrgUMs50o8dYmqZHh4loNZHnRVGoJGGMzQl7MzMzkTgCIwQxToQUeZ6N/dgPfdu0TdO0Xdt3/bSfoh9Vmqar1RojLCUEELwcsXwpTelXnBUlAGMkGM0Tpcusabqm7aq6PTRt03ZjV4/aEMZFkso0y4oSY0oQgpjEC1WIWvfhjB6uiCf/MA8CjmL52Wn64/4nARGzriF8dBgYQsx8hQgEG7w1U9d2bWXG1k4D8DqTQilWZLLMkkWWZGmSp0owwiihBCEIX/fyZ60dhqGpmu1ut9vtpmlyzkEIkiRJsyxazVlrjTXGGEKIEIJQEu2KjDFHDe09uHjVZn6WryOkEUZccIigc05a6YFHP/F9/EyssT545xzGONbNp2maFzml9Hhk//gO58d6uigFAABxMSYGTodxHIah7wdrbQgBY0QIIZhgjJMkUYlCCGH4BTvX/4k5vcjWWK310Hs9TW3XWWc543meY4wxwkKKJEmTLMnSaN19JFZTx25YSikpZZz/zS/1zAwAIEpoCCEmmAn2MMS9OJD6lzY+HAsghLyNJqXHejDnXJaleZ4zzhGALxz2+eCJnm60zlprx3Ga9FTX9TRN1hoIYfThj202CJ2LdV/i8Rsa5z5xJaJrO+ssYyzNUogggihWTadpGptg5VmeHlsKpmmaxgiSSpSUMpbVzMuRMzMzZ6Kci4ZnlFKCSVzlxARjgruui4HKs6ulc04pKaTgnMfWerGoxEec995H6zLKKCU09tv7paIRxw5gGHNGOaMYIUqP829KcNMOEHY+eDsNvXcgeGctF4oITqhAGCNMTmvK/pH+BSCcBXIEPomnPSSCP5SPnuU3PP4PQg+DD8Z7772d7DRaPUxD68YOO80IZEQUmSrzZJElizwpUqWUTKTAOEroX/ouvYBzPgTvnNOT1kb3Xd82MWmp0dMEQGCMMsaid298B7XWIYSY2J/lqZTKOaeNNtoEH4QQnPHjTHuea38e5GHt4XcEQUQIgQgGH5x3cSMEzyPSL/N8H8uscy6GuK2xAIKiKNIkjVO0C4v80xEuK3gfE0KIce26buqmub+7iwkS3nsAIEbIWtv3vfNOJQpjHAeR5/OSn2vr+tf7hD6uGzn/AWHTNOM4Vk3dtE3bNgii1WpV5EUcVM7iObZ1iZo5ymbGGaWU0WPK4jFRH4Kv8qGdmflDcS5XI4RQR88r7mdzxJfHt5fGJQggQsg554M/Wndy7pwryzJNU8roORT94pGfNRR5uHUcx0lPXdfe39/f3NzEHg0xhH4Fryijscvxa7wef2UghF3fdV3Xtm3btlVdAQDKRSmVlFIqqdL0OIymSRpXeON2xhnjnFLKTk2kCSUIoXkUnZmZeZF4TYm6lwuepmnXdTGw1A+9nvRmu93udkmizi1Li7zABMfqXGvsNE3Rv8paG9fyKKMYYf8zC7qfPivAOYMIEkqVUnmfN13XtF3XDd0wjmPX6KnZ73iSqjSTaS6lEjKBGF3YaYfLifexADpahD04jJ0i0efS6FPJNDhuBBACCAECAYEAvDV6MMMwDs3YNWbqMQgEgUSwLFVFKossKTOVSC4lk4wwShECEAYAwqsMwN47Y+w4jof9/lBVfdcPfa+1xgRLKYUUMRCllBJCxMtH0zTWWkKIVLIsFmmWRrMVggnBJO7MKccIx2yyVzjLvzpfJxQAEcQIY4CfOIQdb72og4/E2+Gz9O/zvaijcZ1McGGthRDmWR6F7nm3Fx/iRcsxY6zRxlpbV9Vms4lxgDisWAjHaQQBUELX6zWEMKa7zNmJn6Afem1017Wx6oYxFt+dxWKxKBex0VWWZfFrzxlnjGGCY7rp1z73mZk/KBBCiCHCKIRAAnk+ioLLGpZHAyA8j6WX98IehxAQRpRRxplzLsuzJE3OHUQ/MVD/VJ6INTauPO52uw8fPkx6ghAmKrlaX8UVcSEE47Px1c8zTqNzbhj6fuiHYcAYr1YrIcSiXCwWi1gFk+d5LDsSXDDKCCMIzaPozMzMLyMGohlnaUhjjXTXd4fDIWzDOIxd23Rdp5Qqy1JPGgAguOCAI4QCCNrocRybpqnrWmsd2xQDAAADBP16xQERpIxQRmIdkzauadum7babXXB27JpeN8OkuUrNuPTWQe8pIThQABEAEKBzVdLz8TAWRsMAgYcwFkkfDbvjf6e4dAD+aEMMAAQOegecdkMztVVfH/q2slOfKsmUKpPszbq8Xi/yVOVpwinCCLyuSoiXY6PNOI5N226227u7u77vzaQBAOUiFvUURVFkWRZXUWO/q77vAQCMsTRNi6LIi7yqqhgRFELkWZ6m6Vz+84v4mjl1zrmmadqm7fou9pTGCCOME6XSNFVJgjGmhIzT2Pe9MUYKKZVkjMVGdnFxxXsf3bmdc846Y4wxBgAgjbTGjuMYK+7HcRyHMYQAESSEpGmapzmXPNqGXZ6V9z7eK3rBj+OYpunV1VW0cvHe73a7/W7f931VVdk+AwHEBMs55fgFAggAYISFEGVRhu9ClmYQwmg5m6apSpSSx4RDxhihhBI6Z5XMzHwmzrkYLui7vuu7aZriCpSUMpZFRBt8rXXf90YbcmoUyTnDGMd0G+d87EMQ/cLGcYz9tNI09c5bY7u+60947yFEGOM0SZI0kVJJKRh7WQw774w20zQhhKSSsUAreorGEXte8P4swnEUzbL822++lUICACilnPNY/6KUkkJyydkx9vyQvzMzMzPzK4EAQsg4i+FZQohKVNd1Xds577z3+8NeG10dqlhVIpX0ziOMjDG73a6u667t6rpeLBbL5TLLs98+VYYQIAQpQUpwhCBCkAta5Fnb9U3fGxe8mart/Tj0bV0JlUiZcCkQoYiQ2G46Wk+AJ9ndx40Pv50C2TFi7SEIx3YUzjnvpmmwQ2fHzk69HXsKw1WZcVrkaVpkqszTIs/yTElGGYEIvV5/inAsvOr7vu/6tm3bpu36fhxHCECapLQgXPAsy7I8U0opqWI6AISQM54kyXK5wIQSjKWUzru6qodhiP1l0zQty1KqU2hwvnx8Hl9ZSNeH+uPtx912d6gOfd9TSilhy+XyzZs36/WaMco5b5pms9n0w7BcLpZhCQLgggMA6rq+vb11zhFMMMGMMEKItTZGjCc1WWu7rttsN5vNpq6OHWIwxlzwN9fXb968Lcoidgq5PKsQwjSOTV3XddU07TiO19fX33//fZIkjDGttbV2c7/p+q6qqiRJYrkvwCB6en+l1/IPSgAghIAxlkKWZZnn+ffffU8oEVwwzgg9JmwTfIycXOQJzFPAmZmfx3vfNu3d3d12u93tdk3TYIwxxkVRrNbr5XKZZRkIoOu63XbX9q2SSqkkzVKEIACw69rtdqenKbZOiB6Kk57GYYxui865cRp3u108/n6/d9ZBhBhj69X66upquVxihBhlLy30A2+9nrTRBiGkpAohhDEAAFxw1lnrbTQLnfkU4TiKMsaKolBKvbl+QyjhjEfDy2M1I8ZxCTKuLB8z/OdRdGZm5jcQ8y4xxnHZTmsdxVtVVfv9vmqquqohhIvF4s31m+VqGetHJj0dDoebm5umaaqqMtrEuwP0k+lLn30+AACACVSKC0GVYMs8G4bxUDX7qtkdqu2havoDqitMWFYUi9UaoQWFkGAMIPSXB4oj5Ml57Lj58c+zioYgIAAACM5Za6ehrbpqp5sD8AZ5U2bpulysl4tlkS2LTErOGeaMRKkPwasJ6dil0lnX1M1mu9nvDlV1GPqBCyEEj7YmZVEKKVSiKKXHTsAAAggoo1mWIYi4FEII7318N4dhcNZhgdMkLctSSQXxfO34BXwdIR1jEW3XbrabD+8/tG076cla66yboI5fM2N0TEuIsd+6abxzRpsiL9I8gxDc3t7+v3//P0xwWZRZljnjIISTnoZ+8MHHyHPTNHe3d9vtNvpvxxKOaZooobH/R6zWAxepidEZNRaEaD2FEIQQy+Uyz3NG2TiNHz58wBg754dhbJqmLEvn3DGYM/OUAADA+Jj9HjUziZV6jMbQ2bz6MDPzK4hB3a7r7u7vfvzxx6ZppmmKuVvxO2WdG4b+an2FEer7vmmbqqqHfmjbLg6GnLO727v3Hz4AAKIzAYDAB9827X6/10YLJbI8a5v27vbu7u5uGIZhGLzzAACjDSU0rnoxzqSU54Ww4/kFAACIlVpZljnvYkKQc947H0J0SXmUKz7zIjGCggkWQpwDBTHyzCiD+Kicv/JZzszM/CWBAEEU528xC4ZgwugxMxRBNOkpZjzt9ltjDRecc97UTdu2Td10bXeH7sZxxBjHxrdKqd+YNnyMtGCIMcIYCxa44AhjygjGCECAMdLWGaunoa0P0FktkkTIlDCGCUcER12LwEXzqZN3dziGowOCAcOY2u1B8MFZ44zT2kyDmQYzdmDqCHRKMknlsszfXC2vVmWeJnmWxhN5xVzuGAh3zk3jNIxD3/WHw2G/34/D6L1njCWJOhb4FHmWZbGt7EPNaQAAAEppkiSEEkoZZ6ztuqHv66q21jLGlFJJkiRpQhmdLyi/CPJV5vtPKEoAACAASURBVDFGm67v9rv97e3t+/fvEUJxoX06Mt7d3dZ19e233wouxmnq+6GuaqN1Xdftol1Na4zx+/++/+c//1kUhZKKUhr7KsUsx2jvHlPH7+7u6qqWSi4WixhdsdbFfSCESZoUeXEpgeMizTAM0RfnvA6Xpmn88gshuBAhBGNM3w/TNPlYwv3zBmN/RyAAlGIARPxyIohiwxsE0bmny9c+x5mZPx+x0cV+f/jw/sO//vUvjPFiuVgul845a63WenN/v9ttvQ9KqWmcxnEchqHrOu9927bGaCHlf//73x/+/e80Tb799tuiLJx1bdvu9rv7zf04jJRRJVVVVe/fv99utlLJLMsAAM76EPykp812gzBK0yTPMkwwxuSJkbeUcrVeccHFKf17HMZxHI/JKg9+qDOfBAKMsZDibJ95jD+fFiLn13BmZuZLc3YgQxhRQpMkWa1WTd3UTT1N02Ff7bZ7IYWQ4rA/DMOgjW7qWMvcRnn65u0bxhlFr2YwGQUxJThNJWNECJEXedN2+7o+VPU46Xp/X+03SZqrvEiyPE1zkSQAoGOQOEAQwNFxLAQIALr4DyAAQwjeBW/12A1dM/at7jsz9BSDhNM0zZeLbFVkeZbkicoTyShhGCIUwKnz66sQa06HfjgcDtvt9nA4RPMmznlZlrFZQ5qmXHDBBedH2+0n1wVKqUoU5zxanuhpaprmUB0IIWmW5kWepIkQIpYFzdeUz+frRKSNNUM/xMyQzXaTZ/nbt2+v1uuqqr3zbdu2XQshFFKs1+tYYhfbZkIIxnH0PlBKbm5u/vv+v9baf/zjH5zzaEZXVVVd18aYqGnbtt1sNl3XCSnyPHfOoRb1w6C17ochzi+995dx0eCDMSbaYsVU8LhUo5SKrVbPNYfH3YyJZX5zUPpl4NG44mufx8zMXwpjTPR02Wy37z+8L4vyzZs3V1dX0S51s9lsd9txHJVKrtZXzkX/CB3rqYdxACBIKT9+/Pjf//zn+vr67du3nPPWtH3X11W93W67rlOJKvJit9vd3txud9tvvvlmvV5jjKNQj6XUSqlxmoy1EEGMn1q5MM4YZ0maEEIQQuMw7vf7cZzAsfpsvlh/LjF5+6dq0WdmZmZ+B2LbRcZYohIAgDFmu9myLbu/uz/sD3VdRyHdd/3QD3rS29329va2HwZKafSRLcsySrXXCXtCACHECCoilBJZnq5d6Pvx/c0tBP5+s6naquuHceinafDOUAIpxwgRiDCAGCIIjw2lAwQBnoqi4dGU28PgnLPBTXboxnrfVXs99mboilQl2fLNKv/m7fU3b68TxRmG5As4O8a8LWts3/V1Xd/d3X38+HG32xFCCCFSysVy8fbNW5WoRCWfDvVjghVR3vtpmvSk9aTbpm2btizL2PRBKkkoiSp6Dkp/Pl9HSFNCY4j4m2++8d5TQpVSzvmYumCMmaYJABCL66QQb9++lVLudrvdbvvx481ut4MQDeP47u27b7/7bn11lWZpXdfgtDB//gR45+OEbxzGYRiEEIvFYrVeQwAQgmW5yLIMIhgdBKIM9sH74GMiInhse3v0KIAw+qBGw5zg/dEff/7YzczM/F4QQoQQZVl+9+23RutowmlPGGOiY7Y1xhjNuVivr9I0vbm5GYaxruqhHxCEwzAsFotY6pznudYaxFH0mOcGIYQgAOusMWYap6Ef0jRNk5QtWQjBBV/mRVEUsRbrE2f709k6s5KemZmZ+VOCEFKJWoIlpTRN01inOempqZuu7+q6jl6/u/3uhx9+0HrSWhNMrq6usixTiXr184EAYAgYo8sywzCkiVqUZdN22jptTXPYTUMvtluVZEmWcSmFkAgCBCGCIXa0CsCj4DHwwYxmmvTYj30zDo2bRm9GSeBqtZD8usyTVZEuy6woUskIee0w2rmfUXQ+rmM/3rrRRlNK37x5o5RSicqzfLFYSCVftil5dkwAgHMulrhXdeW8Y4wJKZI0QRj1XW+NjcFCjDFEv7j199+Tr5PaTQhJVIIR9t5LKY0xIXhjrHPOOmes1VqH4PWkjTFZlr1RqizLaZo+fvxQVVXf9z6Eq6urb7799vvvv7u6WqdpSikNIQR/fDpxCui9P87/xmEcxiRJlstlURTRgjt6Rz/Eok9d44IP3vm4JPOoCxc4SusYwI562/uTM/5lu/eZmZmZLwnGWAgBAPj+f76XUkYN7L0/amdrrDXWWG2M1jrP8zRNQwjDMNzf3x8O+7ZtjTbL5XK1Wl1fXy+XyyzNmqYBF22uIIAIolidZbQZp7Ef+iRNsixbLpeMMUKpEJxxRgj+mRzj8PSPh/XJOSo9MzMz8ycEIiiVjC5WV1dXQz/c3t7e3t0654ZhaJqm67po3jEOY9M0GJNYH4QJlkq+/vlAgBDkDC/KPEvkclG2w3iom5ubu5u726ZrrQ8Ik9X6KvhrBAGnlCCMQUAAIBBQ8AEiDDwKLjhv+2Zoq/qwbaotAUEwkiXq7dXi2zfXZZHmiiYy9prBCEIAX/laFrz33jdN8/HDh9vbu9ioKFFJrOEqF+WiXAgpCCGUHv1KfuYEAojB7ZirG9seRYuTRCUAgmgDnmUZhJAxhiGer86fw1cyG/Mu1iH3fd+2bczEdtaN0xhTpq11IIRor48JSZJESiEEBwAMw3A4HJxzV+v1arVarY4qOqY0BBBAOPr1Z2nmrCuKwlkHIWy7FhMcP0ZJmqRJSjBxzFFwUa1xjjk/Szs5Z26fQyux4hc97PZih7qZmZmZ1ye6OYzD+DCKhhCztqZpMtpY65xz3jnvHUJISEEwkVJSSq11Td2M41iUZZZn0aKCUBKbZIRThxBCiZAiy7PlcmmMoZRO41TXNUbYOacSlaYphAAT/DOD3/nWsyPqPFLOzMzM/Pk5rrf6EJvmNG1zOBz2u/3hcIgdZPWknXexB8SPP/4Yl3198IQQxhjn/HXDnhACDCFmFDDKGBdCCsaDtd6Zumn7YTLWm3Fo9nvvrDMaEzb2rTc6OBucCc6ZoR3rvXd26BrdtdhNCYFS8CJViyJ/d7385nqVJUJwzOhrnnlcwnbORR00DsMwjrvtbrPZNk0TfBBCxFXs9XqdZVme5z4cnbedddbZ2AtacIEwOnZAvMB5Z40d+qGu691up7WGEBJC+qHf7XcgAGMMBJBgopTy3uMwl2R+Fl9HSE/TdNgfNtvNjz/++J///AdCmCQJZXQYhmkajdHeOwCPDdExRpQShGEssUAIOeeMNYTSIs+zLGX0VDZ2dLEPCKFEJev1WkoJABRCTtMYi6g/vP9AGV0ulovF4vrN9bt37wQXD1NAeBwVYkVfPId40ONcMIDgg3MuNvYkhBybHoO5X9PMzMzvxzRNTd1sNpt///Dvf//73wCA6BTirItXYnfyxY6tmiFECCFCCGccY+yCt85ijJRSQghykZsGAQwgIIg453mec86dc0qp2Ljy7u7u/v6eUhq7KsT6arIimODnV+4z8NRs5JguDsDZbnBmZmZm5s9ICGHS0zRMh+qw3+03283Nzc3Hjze3t7e73a7pmklP1lvnXAhhGqePNx+jxXcAgVK6WCxWq9WXyx/GGApOIJTw3XWeJXXdHpq2qfthGuvdZuiavm4wY01Vm2lwZvRaewD6eodBCN7psQ/O5Epkq+siT5dFVhZpliRpwjnDGL/mBSyug3vv+75vm7au6v1hfzjsx3HU2gAAFstFWZZ5ludlkaYJxtg623Vddaiquuq7vh/6mBewXC6llJf5thFn3TiOTds0TX04VN47xlj0YL6/v8cYxzLbNEvnQPQv4usI6XEc94f9x48ff/zxxx9++IFzfnV1lRe5nnR0244GYOdsQAghxji2TUIIRTVLMFZKSSExvkg/gMf9pZSLxSLLMoQwpfT29ibWGHR9551frVZXV1c++DzLl6slvLAJgwBGo/+zc11sM+O9RwD5+FF3Php6x/Z6c7vOmZmZ3xmtdbQe+d///d9//vOfjLGr66vlcnlM37LWOfdQaBVACD4uMsZRCwDgfUAIRz8wjPHTMmYIGGNpluVZjjFWSr1//75t28Ph0LattbYoi0W50FpLIfM8BwDEwz4ntr68OP7RjeK4QDkzMzMz8yck9q8ZhmG/33/8+PHjzce7u7v7+812t63rehgGo83RLsvZtm+NM9Wh8t4rpdIkhQBmaRYb+H0JdyuMEEaIUZIlElyv67rb7Kr7ze7Dh4+7dtO37dj3mNBh0mbUbtLeaOv8BAC0GoLgneEUl0n+/Tdvrq7K9aLIs+TVTzLql1iIaq1t23a722432/v7+/v7ewAA5zzLsrIs/8//+b9ZljLOEELTNGmt66q+u7u739zHOuq4KiGlJIRwzp88kLGmH/q6rg+HuqoqCEGSJN77tmvbtuWc51mOEDLG+ODn6ujP56tFpHe73WazMdpIIRfLxffff79er+NHYQd38fPkvLfWdl2ntTbWxHZnQoj11TqK2x9++MEY8z//8z95kR+ro49TthBLMiCClJA8zwnBi8UirvG0TQsA2O13eZF3XWeNRQg9BJYhjF5ojDEEkXNuHMe6qQMImODYP2YYB4wwpVQpxRg7FgfOrt0zMzO/F9M0xU4YWmtKabko//E//3j37l107YYQdl3X9733wTnX9z3eI4hQdH8hGC/LRSIVgODm5pZSJoWkhHrvY3lMCMGHYK2dxhFh7ENgjF1dXSVJUtd1daiatom9suq6btpmGAYAAKHkiZaOS+xa62NnQ33sdB1bdxhtrLXe+Rilnm1CZ2ZmZv5cQABjFmestk3TdJom6ywIARM8TZPQwjnnnbfWAgicc1VV/etf/3LONW1jnV2v12maKnX0HvtyFwJKSZYqCAIhOM2zcdTamHGa+q7rm2rS2joHIKKJyhOZKCkFS5RYlflqmWWpouQ1FVM45osFY7TRZhzHWAXd933X9eM4cM7fvn0bPZhPgT1vrI1Fr9Whqqqqaeq6bvSkYx5uohLOOSEEQXTxQMdfhmHcbnc3Nzebzf1ut6OEAADTNFHy/7P3nltuHFfbduXOAWlmSMqyLZ//8bzr8WcFUpOQ0bm74vdjY0AqUSRFiqZcl2wvih5gCg1g9473jtM0S9OkLIqiKOfzeSACTHxA8658HrExSF/tdjupZBiHy+Xy66///uLFi8f1I1+vpZR1UyulrDFam7btjDVDPzRNo5SKoihJEoywMeb777631oL6H7iA6CmUlkoO48C5YJzleb5YzBnjp9NxvV5vNpvtZrvdbo/Fse1acEPxk2w9JpgLHoURRMjW2HEc67p2T0ahH/pxHMMwhJ1sXLx+rG+H8Hg8fw7Q1wOTTkKIxXzxj3/845tvvjmdTsfjcZqm3W7fD4NzVms9jgO01VRV3Q89pXQ+n1vnrDWPj4+BEMvFMi9yY4yDvVQIOWuV1sM4ci6ctZzzm5sbznnTNPv9frfbrR/X6826qqq2aYd+YJSFUfgzGwiDc1ppiKWh50hrDUsNJzkppY21hGCMibefHo/H82UBy6U540II8M+llNY6gjHnfBiHYRhAOZhQYo2Vk6zqSmtd17U2OgxCZx3UUeHZPt2NQAhW0CSOw6wobq5vDlUN9zKrVd/WUkqLEGNcUJQn4Wo1Xy4W8zKPQhYHjHNKyccU33IOxEHNOI6wdXK328EN3TpLCM3ybJVn0zg1TaO1hiujpAQllO1mu9lshmGANl5KKY95HMehCBllUE9+fVqHHELTOB4Oh8f1ervdnU7HIAgZZ2EYlLPZrJzNZrP5YpbnOcyuv5N6mQch9Lkq0udWbcaMMUQT5JAxRioJcxQYY0ooIVRr03XdOI6wwsoYkyQJ7K8jlGzWm/Vm3TRNXVVZlkkpYWiZM26scdbBA0HhIIqiOMYIIZgSpIxC8eSX3QsYY8FFkiSwO3ocx2madrtd27WUUq1U3/cY4yAMkjRJ0zQMwzdzPx6Px/MnAHYSlklCutpoo6SCki9CiDLKKDPGDEOPEKKUQPIb9EjiKCaUHA6H/eEwDGPTNNWpmqYJY8wY5YwpxuC2rZRqmkZOYxwnaZpaazHGDJ6dUbhnY4zRz6ygQw65aZrarm3q5nA47Pf7uqmHYVRKtl17OBwoZRgTTHAYBEEY+Klpj8fj+bKglAou4iSe6RljNI7joijatu26Duqrfd8PwzAMw8Unh/BsHMfj8Xh3d8f4WXWMcx4EwaerSBNyFgoRItAJopQQ5BAyWk5GSdh8IYLg5mpxczVbLufLWVGUOSOIkY8jkHnu4jZWa62Nhvbsvuvbtuu7bhgGay3jnHMehEFZFmVZ9l2PEJqmiTGGEJJSwoU9HA91XVtrGWM85OAGRFEEoqE/u5PCbJVSWkqppARtlCRJYEZ9Pl8sFvO8KPJPs5PsL8/nCaTDMCyKYj6fH4/Hfujrpnl8fJjk2DZt27ZykgQTzqlWqq5rjNAoJ6O1CARsn5uVM0qps65uamttVddiux3HkTIaBIFSShuNEJJSSimPx+MwDGEQhmE4TVPTNn3fM8Zms1lZlnEU/yycxhgHQZCmaZ7neZ7DB/3h4YFSSjCxzvZDH4RBlmVFUZRlGUXR23egezwez0cnCIKiKGazGSwy6Lt+vV475IZh6Ie+73uCcRAIaJ+bpong8/QKrMKaz+eCC8b4JKVDrq4rzpkxhlEaiCAIQygpKKXGadpuNnVdg36JVhqKDBjjLMvzIk/SJAgDzvjPlgU65/q+32/3m+3mcDgcDofT6dT3nZTydDpRSo0x1hrnLGTBMcfYz8d4PB7PFwLGGLoyCSNRFJWzUkkllZzGaZomWM0Dgd8bfcvdOI7jNDlrjTaPj48QRYtAZFl2kfD4lGdGhCCOUJoElJRxxLMoWsxmWmuEMeNsPivni1kSx1EUcoLIR4qiEToPTU3TBBNYbds2bTv0PWwIY4yVsxJC3DhJwiAQQnDGYcI0CiOMcd/3cDMd+kFpFYggTdMojiBEF0L8ytVzoGTmEHIEYc4FCEiVRXl1dbVareIkTpIkDEMhxK8c2vN7fJ5AWghRzsphGGDMbxyH/X4/TiM0AVpnOeeEEOfc0Pegm48wSrP06upquVwul0tGWVVXm+0GPljH4xH2nkVRBJtUKaVGm67rjqdjdaoCEYA8nVTKGAOhMuwxZ4ydF0MjhJ4CaUJInudFUYAhqOvaGAP7rkQg4jgu8qIsSlhJ7Uf7PB7PnwwE0mCdOOdSysPhAHlubbRUEkQcMMbQWQdlZOijWa1WNzc3URSNcqqqCmHUDwM5HoMgiMIoDMIkijFCjDFr7dD3MIwthOCcI4SgdYhRVpZlWZZpkoZhSBl9Mwi+eAzH03Gz3Z6OR8hpSimNNcPQHw4YigOcc855mqaMMecjaY/H4/lCgP1JjLEwDFH++u9BlFcp1XVd13V1XTdNXdUNCCFVVVVXVdd1GOOqqna7XVEURV4ILmxqP3UgjRAiGCGKkjhI4mBWZvOy6K4HYy3CmFESx2GSRPQjVsielEdgp8Y4ji1oZ9dVVdWTnLTWhJDZbDafz2ezWTkr0zR11kF4fN5TxRlCaBiGw+Gw3Wyts7AQK4zCLMu01lJKKAoaa95syYZxLWsdQpgyFoWhELkIxGKxuLm+WSwWjDPKfnPjhud3+WwV6cV8AfrY0MgRRRGEr4QQrbWcpDEG9l055Iw1lND5fD6fz/Msh9h1tVp98803zrkwCsMghMYGpRQ0gRd5kRd5GIWU0izNYHzaWmudhV8XhtFyuUiSBBOMEYaWcjgeCCekaXp9cy2EaJqmaRpYeUUoiaIoiqL5fJ6XORdPqt0ej8fzJyKEKIoCBLqhuTqOYghoYTEGSHmRJ2CaJk3TJEnANjLOFovF3//+d2MNY0wIHgYh9IYxzqZJrlarspwJLpxz0NR9VgB/SjgGQTCfz4uy4Jwzyi4hsHMOI4ww4pwnSTIrS4jqpZRaa2ttEARw/rIskzgJxEdeJerxeDyezwUokFFKwzDEBIOiUF4U4zgOw9B3PWhhGmO01kVR5HlOKT3rDbnzU/xJR8WIcxYlobP2PO/N2cdx6p+CWa21VFJKOQ4jFOfGYRzGQWvNOAvCAOat0izNkiwIA2td3w/w+LZtd7vd6XSazWfW2rbr+r7vh15rrbWBAem6rqENrSiKm+sbrXVZlm8u6MYYUYrTNLm5uY7jiHPO+NkZYJxdZJ48H8bnERsLw5ASGoZhEAZplsIScOjvj6MYIXRegmXsuQ5MCec8z/MszwIRcMERQqvVKggCpRXIjAkhBBdQjnbIxXGcxEmaplEUtW07TdM0TpftL1mWZVkGg9CXMPhyKTDGlNE0SznjeZafTqe6rpVSzjlCaJZleZYlaQID22fJbj+R7/F4/kQCEdCCwiYMiFGddZjgJEnSNMUYW2dhaloqSTChnIL6w7mJKxCU0uVyEQUhZMSdO6e3kzhJ00wrVZRFnudJEgdhAD3kwzA4d7aiaZKmaQqWkAv+S0sIXX9plhljkjSdisLCSmuEMET+cZwlKew+uNzyvS31eDyeLxuMMMKMM0IJCBuB1jQs3JHy3PsN49OUUmh3Ipi8XpT4Z90HMMZCcMbo078ijMnH1NlySCk19MNTZb7p+15KCb2xQggYFM2yTAQiEIG1Vkk1yB5jjAlumma32+33e2stpfRp7HyQcpJSjuMwjiPjDOKUxXxhreWcc8GzPLvU9kHEJEkTzvl8PgeJKEYZY4zQszy3v/N+MJ+nIk0pJSGB/c+MMa00OFjnQBoj55wxRimllYa0Fhc8iqIojC4dCHESc86lkkopay1nHAJsayxCKAiCgAdQnInCaJzGcRgRRpRQLjh4k1xw9mty9vD84NsxwSilQRBoY8CDTOMkTmKI530VxePxfBYIJYIImDRmjEkplVLIIZh3AuEGZ52c5DRNFysKzdvn2yfGURgxxkGAxFgDs2o2tEEYOOvCKAzDkDFGCQ2jcOiHYRgccgQTKDXH8W9bQoyQQxC6Y4yN0UYbhxwsugJHiXMRBkEQBJc43OPxeDx/AcCkU0p/2aptjNFKwwJqUNgCBWLBBQH9rz/3bkAIJuRj9pPDZJM2WiutpOqHHlrcoRx9FtkWAjSNoUaYxAlCCGE0jmPTNNM4BWEYReE4jlVdH4/HOIm11pSQKIqLPJ/kJCdJKRWBgKBJKSWV1Eobo8/7gN8AdJQZZWEYnpWh/C33I/F5AmmEEEaYMhrFEeMMiiEYYc45Yww+E845SF+hN6T2IIqGXBFjDMYzTGCcc5TQ14LvGFFCCSMcc4SRECLSkdEG4bNSP2S/flW1+/UJMWaMYYRRirjgzjr3lLvijMNk9Z93vTwej+dnYEQIiaOYMQYt08ghLjjnr+vDYRgabRBBBBNCCaWUM/6kCoHBilJKAiGss+D0OOc45zAFTQhhnAUoYJxFUaSUQgjBVA7/XUuIEec8TZMgEBdjDi3fCCHnEGMU8uLnpj5vUD0ej+evDtxWoNs0CAOohUKj018jwLPWaqXlJJumufRdT9OEEMIIR1Ecx9GZOA7DQAhBKIGs9+l02u/2fd/P53NK56OcurZrmkZOCiOcpimlNM9zKaWUsGWDaa2tsVrpJEmjKBIi/PWZZ4wwwZRQjP3d9mPy2QJphBHB53njD3k0xr+a6PoZjDAY0P+wX4ExJoJABfvDnsTj8Xg+HZjgMArDKPzAh1NCKOGIv+VnKPp9S/tbwLj1hz3W4/F4PH89Lg68QH81mWioAiqpJjkN3XA8HveH/dAPk5yMNmEUwqrtWVnmRRGGQRiGkDuAjve2aY+H42636/qec54XhZpU3/dd3yklYR4K4hFYSwSN8DC7OgxDlqZxHAdBwBn/ZVkfgprPcVX+4ngXx+PxeDwej8fj8XjeH4cQQsYa2JsNampDP5z3WnEWhAFjLI7jOIqjOIqimDLmHJJKUkIpo1rruq7Xj+umbZxzcRQFYQBtsxjjNyfGCX6tJwLPP00TpXQ2m4Hud1HkQRh8TNVxz1v5PGJjHo/H4/F4PB6Px/MXAHbu7vf7uqqquh76gTPOOY/iKE3TLMuSOEmShDIKQ07OOa20ow5jDOLbj4+PxhhYsitEwDkjl+287hyuY/okkGydkqrru2maKKOz2WyxWMxms6IsBecfUy/N81Z8Rdrj8Xg8Ho/H4/F43hvYmy2l7Nquruuu762xjLEoiuIkSpIUgGW9WuthAAXkYRxHkFJ2zp1Op6ZtAhHAht0kicnrMBpZa2G/r+2tNnocxnEYYToatkvGcTybzbIsC4T4E3Zxey74irTH4/F4PB6Px+PxvDdGG6U0iHK3bYecg+W7cRynaRqGIRdcCMEYo5R2XXeqTsfD4XA4HI/HIAjKsgwCcTqdpJRJkpRlebW6oowSct4H5pzTRkslVa36ru+HXkopJxmEQZqkaZYWeVEURZqmURxdNnL7+O7PwVekPR6Px+PxeDwej+e9sdYqraYJtLSnMAzzPJ/NZkmaJEkC9eHzbDNGSqm2aXa73f39/cPjQyCCxXyRpMkwDFJKxlhRFMvVEuTE3vwVWmut9ak61XWtldZaz2YzPuNlWc7K2Ww+C4KAUkr8dPSfiw+kPR6Px+PxeDwej+e9IZQIzuM4XiwWjDHOeZqmcRJTQrXS4zAqpay1QoggCAghWZYppbquq+u67/u7+1uEUBCEYRi68yQ0Quj1JmDnHCzuBV3u66tra62xBsrXRVHEcSyEgFXBn/VK/C/iA2mPx+PxeDwej8fjeW8opRhhQqgQPM9zSigTjBCilJJS9j00Y6sszbLUEULyLKeEVqfqcDhUVbVZb7q+u7q6ur6+Ru68HhghdIminXOU0iAIiqIIw5AzDvG2EEIEIggCSih0dPsFV38+PpD2eDwej8fj8Xg8ng8AE0oJIZQSIYQ2WmvddV1VVVVVNU3bdZ3WejGfLxaLLM3iJE7TtCzLxWJRVRWhMOAHiwAAIABJREFURCnVtd2BHzbbzexhFgQBowyC5yzLylmZ53mcxFmWxXEchAFGGCFECKGUUualxT4nXmzM4/F4PB6Px+PxeD4UjDAh2Lmpn6qqOhwODw8P68c19G875J7dPO+67ubmhguepEkxK67ldd/3bdtKKaWSj4+PCCGMiZRquVyuVqs4jlerFed8dbUqiiJO4kAEjDLo/cYY+zVXnx1fkfZ4PB6Px+PxeDyeD8da45wbxxGi6B9f/Xh7e1s39TiMCCGtNMYoCILZfFbyMk1TY0zTNKfTqe/74/HYNA0mhHGOESKEzGfzOEmur6+zLFutVlmWRVFEKfXbrf6r8IG0x+PxeDwej8fj8Xwg0M7ddd1ut9tsNnVVJ0nyr3/9q6qqw/EwjVMYhs45Y4w11mjTtd1uuzPaLBYLznnTNG3bgqjYJKU1lhKSJglGSCpZFAUIlZ3Vvz3/NfhA2uPxeDwej8fj8Xg+EGtt27bb7Xa72e62u67vVqvVarWqquru/u54PEZxdA6krdVKN02z3+0dcovF4ubmZhzHaZrquj6dTnKarDWEkSRJkiRBGDHKKKMEE9gR7fnvwQfSHo/H4/F4PB6Px/OBWGu7rjsej23XGmsYZZRQkNE+629b55zTWg/D0HXdMPTjOAZhmKZpURQQYJ+qU5qmSqmiLDjnnHNQFPvcL87zmzBn/ZC6x+PxeDwej8fj8XwI1tpxHOuqVlIFQRBHsbX2eDjuj/vj4dg0DaMsjmOtdd/3hJBhGI2zlNIwDLMsg4C5LMurqytrbVmWYRhCL7eP1P6b8RVpj8fj8Xg8Ho/H4/lArLWwNdo5lyRJEATjONZNXZ2qtm2Hfkji2FqrlGrb1lo7SYkQYpwFQQA/zwWnxBefvzB8IO3xeDwej8fj8Xg8HwghJAqjPM/HcdJaa20wxkEQxnEcxZE22jnUdZ0QQgiBMaaUFkVRFEUcx0IIQgn0gXu+LJh19nOfwePxeDwej8fj8Xi+SDDGURQVRYFQ1bbdNE1JEkdRkiRJHMVyktbZfuihBM0YC4IgyfM8y+I45pxDFO2Dsi8OX5H2eDwej8fj8Xg8nvfGOeecU0oNw9C27TRNGOPwTDBNQRiGQRgghDDCjDLOeRiGaZqmaZplWRiEhBDkq9FfJj6Q9ng8Ho/H4/F4PJ73BpZayUkeDoe7+ztCSFmUWZZxLgTnYzAGQRCIgBJKKMmyrCiK2WyWZVmapTAa7aPoLxcfSHs8Ho/H4/F4PB7Pe+Os01qP43g6nR4fHpM0mZWzPM8IphhjIUQURUopSimjrMiLWTmbzWZpmiZp4ldbfekw57yousfj8Xg8Ho/H4/G8H8Ya0Otu27aqK631qTjFccwY44wzxpbL5WK+YJxxxtMsLcsySRIRCIyxj8K+dHxF2uPxeDwej8fj8XjeG2OMmtQwDE3T1HWtlCpORZzEYRAGQZAm6Xw2T9OUCy6E4JxzwTnjmGAv0/0XwAfSHo/H4/F4PB6Px/MhYIIppUEQxHEcBiFjDCPMOY+iKM3SoiiyPOOMc3GOn30I/ZfBB9Iej8fj8Xg8Ho/H895QQhlncRzP5/Ob6xvOeZEXcRzneV7OZlmWJUkShiEhxEfRfz18IO3xeDwej8fj8Xg87w0mWDARRdF8Pn/x4gXBJE3TNEmLopzPF3EcBYFgzAdcf0282JjH4/F4PB6Px+PxvDcEE8ppGIWr1QoKzlEURWGUZGkUBZwzLyr2F8YnSDwej8fj8Xg8Ho/nvcEEU0yjKLq6virLEmHEKKOUMs4opYSQz31AzyfEB9Iej8fj8Xg8Ho/H8yFgjAkhURQFQYARPs9CI4z8NPRfHR9Iezwej8fj8Xg8Hs8HAhJiUH/2UfT/Dj6Q9ng8Ho/H4/F4PJ4Pxyty/w/ixcY8Ho/H4/F4PB6Px+N5D/wEvMfj8Xg8Ho/H4/F4PO+BD6Q9Ho/H4/F4PB6Px+N5D3xrt8fj8Xg8Ho/H4/F4PO/Blyw25pBDr7MAXh/v0/LG1f4zpRQuiR7//no8n4Kf5VK9UMon5a9t0N78LPkPkudL5Se+pf8gf0L83edPwxvnT8eXGkg756y1WuuzucOIMUYI8Z+Pj45zDjkEV9s5RxklhBBMEP6030Z4i51z8Af//no8Hxf4ZgHIIYQRo4xQ/y37VFhjjTbGGUopIfS8ZvQtV/u1M/+nnO+3eIdjOOecddZZYwxyiFDCKIP9Lx7Pl4J7wmqrrSEEg+OBfOzxCXjtxiNEEEEEUUJh/fLnPto78BR6fH5+zz6fb/TaIoQQOe+79uriH5EvNZBGCGmttdKQZYEPhBDicx/qr4hDzjmttVLKWMMt54xj9mm/hBcX3xgDnhny76/H87Gx1iqlnHXndDVHgvpv2afBIWONVNIYwxjjDBFKMfntUNM9/e/njqIdQsiht8X7zjnrjDVGG6ONdZZzTglDGOHPfn6P591xyFmnjdFKaa0JpQghzrkPOT4R4FgihDDGBBPEESPvE5V8rmjWvfGHz2+fHXK/k+ix2iqt4LSYYM45pfRPO+Nfni81kDbGVFV1PBy11hhjxlg5K+fzOWNf6iv678RaOw7jMAx917ddq5TK87wsyiAMuOC/dbUvYbBS6pxuxIRQwjlnjL3LPck5Jyc5yanv+67tlFJZmiVZEoahEMK/yx7PH8cYU1d1VddymowxhJD5fD5fzDnnn/tofymstdM0Kanatq2repJjnhd5XoRRKATnhEPXj7FGK62NNsZcshvOOUIIoYQzThlljH3CrgF3Pq3RRhutjVZKWWOhMwhjjAmmlMJJKKWXAMM5J6WUUrZt2zSNnGSWZVmen1+g/zh5vhCkktM49f1Q13Xd1HEcz+ezPM/f3XXxvAvgH07TVFXV6XTCGAciCMMwTdMkTd4e4xl9Tkc666y1lFHOOdiiTzEvc/FmtdZaG2PAQhv4fzHGF7MMhvF8ik/wUYHbgTFGX46itHXWWYcQOt8mOGeUwZHOLZwOGWOatqnrGrpKCSVZluVZzgUnmGDiP9V/lC9VbExKud1sv//++2maEEJhGP7jn/9I09RnWT4uxpi6qQ/7w26/O+wP4zi+ePHCOVcUBcb4t662tVYrrZRqu7ZrO4QQYywQQZzGSZJAo9TbsdYOw1DX9W632263Xd+tVqurq6uyLPM89++yx/PHUUrtD/vbH2/btp2kZJT+61//yvLMJ6o+LsaYtm2rU7XZbNbrdd/1L168+OpvXxWuJDhhjEFFV46yH87/9EOvtbbGOuQ441zwKIySJEniRAQiCINPdVaHlFLTNA3j0Hd9P/RykkorayyhhBIahmEURXEcR3GEEILowlo7TmPbtuvH9cPDQ9M019c3z57dgLn2HyfPl4KUsjpVu/3+4eH+/uFhPp//85//oJRGUUQIeRfXxfMuGGOmaWrb9vb29vbHW0ppnudFUVxdXwVh8PbrPMmp67q+7402Wus4jrMsI0+gjx3QOOeUUkopqCcN4zhNk5qkcw5hRCkNwzAMwziOkyQJgoAxRij5FIEVzM5M49T3fd/3wzgM/aCNtsYihDjngQjCKEySJE5iIUQQnG8TWunj8Xh/fz8Mg9KaUvri+XNKWYJixhnF3p3+o3ypdzit9X6//+GHH/q+RwglaZLl2dd/+/pzn+uvA2S/pJSn0+n+4X79uN5sN3KSQoj5fB7HsbHmtx6rlZ6mqe/7w+Fw2B8wxkEQxEmMMIqCiIjfvxs556SS/dAfDofb29tTdRrH0WjjrOOcR1GE/MySx/PHMMYcj6fbu9vD4TgOA+c8L/K//+Pv8P3y/HGg1KyUqqr68fHx7u7u9va273tooYriyIShc84oo7Vuu7aqqqqq2rZt2/ZcdXFOCCG4SNO0LAqZyzRLCSGMs4885OaeykTjVDd10zRVVdV1PU2TVNJoQymllMZxnKZpnudFXuASO+EYZ845JdXQD4fD4ccffzwcDlJKuIdwzsMo9PN4ni+CaZJ102y32x9++OG7776/eXadpsl8Pod46XOf7q+DlLLrusPhcH93/9133wkhVqsVQijNUmvtbz0KnNJhGI7HY3WqpJRKqaIoCCEiEJDU+4h25jItP41T13dN3VRV1TTtOI7TOFproRwdx3Ecx0VRaKXzIhdCiEB89JyLsw4aPNu2PZ1OVVV1Xde2rVIKOoYCEYhAZGlWlEUu8/NtgjGMsTGm7drdbnc6nYZxJIRQSrMso5SEKPR1qT/OlxpIO+eGcajrumkbjLDWehiGt3wDPe8L1CWOx+OrV6/+/e9/D/2AEAIvKk3TKIreUmcY+mG7226327u7u/v7e8ZYkReLxQIhlBc5e4dPHcY4DMM8y+M45pwbbXbbXdd2wzBAepgx5ieXPJ4/grV2msa6bqq6Grqecz70gzNfZI/SfydQeKmr+u729j//+U9VVdM0hUEYJ3Ge50mUUEqVVBA/77a7zXYDUeg0TdbaN9dSRGGUJmlRFM+eP3v+4nmWZiIQH1E2wjoLhY7tdvv4+Ljb7fq+74ceJCqccw45hxBnPAiCJI6vrq6ur6/n83lRFnEch2GY50WSpEEQWGsPx4OUapomQkkQBpxzIYQ3157/cqwx0zT2fVdV1eGwD8Og73qtNcQqn/t0fwWgrFqdqlc/vrq7u3t4eKiqar6Yx3Fczsok/s2ORWvtOI7DMNzf37/84eXDw4OUUir54sULQnCSJMihj6tHa5SZ5NT13Xaz3Ww2kFjsus4aa6y5fB4gw1gUxXK5XCwW0DsZBMHHavCGeF5JdTqdTqfTdrvbbrfH4wGmaax7HfVghKMoyrKsKIpnz549f/48SRMhBKEkjuLZbDaO46k69V0fRxGj9Ga4Wa1WnPMvRuDtv5UvNZA2xozDWDd1UzfoaZT3rErlPw8fA61013WH/eH2x9tv//MtIWSxWCwWiyRJsiyL4ug3U24O9UMPOd1vv/321ctXIhDLxbLt2qzI/vb1397lt0MRG2N8DqSNORwO0zQZY2az2XK1DMPQzyx5PH8E59w4jm3T1Keq73ohxDAMb+k08bwvSqmhH06n6u727j//+Y/RBjoAkyQpiiJJEoTQJKfT6fRw/3B7d3t3d7fb7WDsDRNMCUUISSW10oyzMAyLvJBKhmEIqhMfM5C2tuu74+F4e3v73XffPTw8KKWkkiBBgjGGwWmEEEY4DENIChhjRCCSJAmjkDGepqngwjl3Op522721Jsvz2WwGZtyba89/OcYYKWXf9VVdnU6nJEn6vtfq3D3r+YOAtL/R5nQ6vXr56ttvv23btuu6siyjKJrP5lEUvWVgcBiGqqru7+7/v//v3z/88FIqKaUchmExXzx79pxQItDHVMpURvVDfzqebm9vX758eTgc2raFWg4c8o3ZaV0Uxepq9eLFC4zxrJwJLt4mJPleuLMm6PF4uru7g+rUfr+HfVYEYxhyVlpppTnncRSXs1IpBfMIlFDKaJIk8/n8eDzKSR4OB5gnQghFUVQUBUHko532f5L/ikAa+t8cOs/0w18SRDDsB8EY/ayP1yHn3FmaRWuHnFIKuuDeBJ7qovP+u10fP3/sU0wOoxe/coyfHh7+9c0fuKgUwJO8eZh3uSbnY8A/DhFMEPmdZ4DvxjlVBgJ979/rAq+o7drNen17e7vb7dquLfICslyz2SwIg181dtZaOUml1H6/X6/XDw8P0EwShIEQIu/yaZzesWsAvDeEUJZl88W8burNetO27W6/e3h4yPN8sVgwxryOt8cDXL77zjlnnEVPhvSNZXU/MwWX7SNGG6U1JtgY435iCN37mq9fsaIIIXw+xm8JsVyy+29uYcAIg2U9L1WCl4MIpvj8in5PWuZnVhQUs+BVvK124X7yz/nSwW96Z1MKL6Tvh91ud39/t9vtmqaJwigvsufPn5dlCZ2ik5yaplmv1y9fvdxsNtWpUkqFURhFEWecc44R7oZuGAY5ybZpx3GEOBwhxBiL4/hdD/R7V2mapuPh+OPtj3d3d9vdtmkaiJCFEGEQUkahADIMQ98PTdNst1uEECEkzdI8zymmjPMkSRaLRV3Xu8O+ruvD8bjdbosiXywWQggfS3v+VM6C884665wDIwBrln7LJwRzYYwxyiitQNLpyYy8sSzwpw7q2w3RxTK/9m/d2SS+zTV16GKKX/+WyyGd/amLS16f4x1M4s+83Hcyqr84D0K//+t+hrW27/u+69fr9d393Xq9DoKgKIr5fF4URZqmQRj88lJAO8A0Tsfj8fHx8f7hfrPdHk9HGF1ummYcR9Ae+yhdA5f3C2ZV1o/rx8fHx/XjNE4OoTiOgyCIogi0IZRSdVO3Tdt1nXk00zRFYbSYLxBGQRCI4CM4qEorKWVd15vN+tWrV9vttm5qY3QURXCboIwihEBdQ0pZN/UwDnEUJ0ninCOUlGUZRmFRFkVZpGlaVdUkp/XmfPHzvAjDIAgDgr0EwAfyXyE2djFeb7ZMgJYVJZTQX9N4cBfPECOHLtkUSHedTaE1GBNKCKGUMUopffuLddbB4D489mxiMIH8068f4+nwyCJosYA1yz95RcbAyyGEgJjeO14TSBNYa+GZz7klSuFXvOVKwmGcc5hgRhl6z28HPElTNz/+ePvdd99VVYUxzrLs+fPn33zzTVmWl5fws+tpre26rqrOmjrb3bbrOm00txySdpe90O9yDBjwyIsc5M2GYXh8fKzr+u7ujgvukMuL3OvBejzAJYQGUVHnnEMOIwwDUWBIf80UPPlfGJ0XHLmfW0J4EkLok/n6XSsKdk+frejFmDNK6W/YLnf2DiH8xxSDFYW/PCdM4b5AMGPsvNwVv/0s5719ZytqrXOOnm8IlHH2lp4aSCaC7SWYEEIQQb/76372q51zbdM8PDy8evnqVJ+MMXESP3/+4ptv/rVariijUp0HBR8fHn94+UPf9ci5JEmurq5ubm6SJBFcYIzruq7qClKTdVVvNhvYXJBm6Xwxf9cDveWo1mmjp3Habrc/fP/DerNumxYhNCtnz549y4s8iiIhxDRO4zRu1pv7+/vj8VjX9TAOnPPFYnG1uuKci0CkWfr8xTNrrdLqsN93bbtZr6MwpIQWecEZd+9+BT2ePw6I4WtjjTk7RWdrRkDc+JcfyLNjSc7/RQifpxqc08porYwx4HkSSjjllFGH3/a5PhtmbbQ+m0TwzcAW/dYx4PDgRoL9vNgrqCFdInyoOTJGodbyOybxF/YZXuy7GFU4jHOOYgpJhPcyiQghrXVd19vN9v7+Yf24Pp1Of/vb377++uuvv/56sVxE8bkc/UvHUikFUycvX758fHxsm1ZLDSlgWCuAXqdNPoKFsdY649q23W62d3d32+32dDoFQbCYL+bzeZ4XRZETQqDb/OHh4fHxsaoqsIp5nl9dXVFKy1nJxUdwUJVSXdsdDoeHh8dXr16O44gwzvPi6mp1fX0dRRHnHDlU1VVVVev1ev24rk7Ver3mghNKkjSZzWZRFDHKlsvVzc1xkrJr28PhEAbhfL4oirIoci58lvPD+cwVaXBulFKgaP+mwwRxlOCCwtaPJ22VNzNgbybGzt7ANCmllIRclaKUMsYY4yIQgnMIQX+Zg3QXTXmlpZTwh7MLRQnnXHDB+E815Z8eq8/7Soy11lnHBOOMW2dhPx5wcWdhqg0i81+WuM/emzsvT57GSUkFHi1s5mSMMc4gtX+uk/80IwjL4kDu1VjDOXfCvdc35PyKjKmq6v7+/u7uTinFGc+L/Obm5quvvgKD+8tHIYQgObfdbrfb7eFwaOpmnEaHnEMOXtR7DbHDzSNNU3iX7+/vCSXDMKzXa4RRlmUvXryA9m///ff8LwNW9OyoPRlSmLCFzg5GGeccLBhYnp9+ZcCsYoyRdU4bPclJKSWl0kpJKTGhjFLGWBCIi6bLz6LQN6yo0fBYreAYCCFYlQS2C4wYxucCCLokUrUx4KhZCz/jrINgfhxHKc8qqYQQ0CM9L4JiBP3Sij75fMYYNalJTtpoq61xhjMOhxGBgF2a8ELefIYnJ9PCTQHkGDjnsIHzXd6Ryytq2xZqL13bEULSNLu5ufn73/8eRgFjbJom2E1wOBx2m51zLs3SsihfPH/xzb++KYoiDEKM8fF4PBwP1trNZgNCOyBy++KrFx/8mXkTqLRJKcEPq6pKaw0R8j+/+edyuQQ12nEYx3EMRND3XdM0fd9PxylN0qqqhmHAGHPBkyS+vr7BmGy3W0LINE77/Z5znmXZ82fPQYPHm2vPJ+UNC2CtsVorcOogm4YxoZRQyoTgXPBfd8beqDSDWZNKTZOEwEkrBcEn5zwIAs45lDh+ZlcvhV/Yaafk+RgwJEzPaUkmAgGbRN80iefEorGTmqZpgp1zl3ZcpdQ4jkop+BnGGedCCMEYBWfvtyrt5z5kpaVUSiulJLQ6UkYvRvXXX4t11lkllVRSay24uLzqd1fVgitZVdXj4+N683g4HvthCMPw66+/fvHVi9ls9ltyblrpcRjrut7v9g8PD8fDcRxHsFqQ7D2XZ9zHiaIv+ehxHKuq2u12dVNP45TEyWKx+Pvf/zGfz1erJaUUSkdCCGNMP/Ttph3H8fr6erffpWkaJVGCkj9+HqNNP/R1XR+Ph91uRwgpimI2K7/66qt//vOfIJaBHNrvd/vDwWiz3Wy7rtsf9oSSLM9ePH+BMQ6CIAiC+Xx2dXXV98M4jk3THMLjfr+fzWaM0d/dOuZ5C5+zIn1p82iaBob4ocv/EkiD+xIncZblWZbGURxHMXhOEJ7Bf+Cp2q7dbraH/aFpmq7rpJJKKkwIYywIgjzPy6JI0zSO4zCK3jQyoIPXNE3btOAfQKYLMm2EEPgIpnCILAvDMIpCsDLwReq6Dh4LEoJFWUzT1DRN13aTnOQknUOEYMZYmqZplqVpkmVZEidv1pYvCYWmbeqqrpt6HMZxGLUx7lzrZgxEU7M0TVJYuHfenvf0erqhO+yPML0m5VQU+fX1zWw+e/fNDTCI0rXdbrfb7fd1XWd5Nl/Mb25usjyjjBJK0C/SfmCdIYH346sfD4cDQihNU6jJB0HAKLs8/3t95EAtM8uy5WJ5fX1dV3XXdfd39zfXN9WpgsUwvi7t+Z8FfLtxGEFmGWQ8z1uIL4E0Y2A3siSLkzhJEghlIcoFF5JgjBAah+FwONRVXdVV27ZKKqkURohQKjjP8zwv8izLQG7wTctjrQXjWdc1fEmhFHzpAxRCCCGSJMnyPMuyOI7iOAajZK3t+6Hv+7Zt26aRUmZ5lmc5KLt2bTeO4zAOl5gcepuzLMuLHFYevmkBIA/Ytm1d103T9F3f970xxjoLajSEkCiKkiRJszTLsizLXu//RAghBE5bUzd93w/DkGbJcrEqygIi6ndpZQTNjmEYDofDfrevq5oJtlwur65WeZ4HYUApQ0+1L8ZYlmWL5YIxNpvNV8vlzbOb2XyWxAlnHBPskOOBOByP5f1dVVUOORgsBE/643yMHMIEh1GY5zmkeuM4/upvX11fX8PfQBo3jML5Yr5YLJumPRwObddOT3DBIxuBEmSaprP5bLlYDsMwjuN2u12trk7VCYa6P0qVxuP5LcAbGaexruoaMj7jKKWErhRCMCGUMZYkcZIkyZMzRihhjJ1dSmh+QchoO45DVZ3att2s11JOQz+M0wgFDDAjYIh+uWtaKQWjENWpOp1OwzCAyjTEfJRQRpkQAiYjwJ27GFVYIDqN03q73m63jLIsy6IoAp2Cvu/bthuGHmJjIUQYhlEcl0VRlAWUKH/iFDmktG6bpmmatm2btu37HpYRIxijoyyKI9CpyvMcHMs3t8SPwziN0/F0BA3Csixn83mWpnEcv+MqPohOx3Hc7/avXr2qThUltCiKxWKxvFqVZRkEwW9Zs67vdtvd4+Pj4XAYhxHWIDPGYLvBL1MGH/Kh+SnQGUUpDcIgz3OEURRGy+Xyq6++evbsJknTOI4ppc46Qsh8MR/Hsa7r9Xrddd04jm3Tdn13iWX+KBgRTDjjeZavVivOxXK5uLq6ur65npWzMA455dbZmZ1zIY7H49393ak6Oee6ruu7XunXt4lABGVZLpfd8XQUQmitq6rabrdRFM7mM8bY61SO5334nBVpYwx0LGw2m812czwcQd7dOQd9hoILEYjZbLZcrlarpZ05IQSn/HUR1p2nTayzfddvt1ulFMzlTnKSUkKyLYqi66vr66vr5XKJMQlE4Ai6BJbW2LquN+vNdrvb73enU2WstsZe4vkwDMMwWi4XV9fXK2sRckJwqMpqrfu+3wHb3TAM19fXN9MNdKEcjodxGKdpAm+SMT6fz2az2Wq1Qg4JIRxyb1orrfU4jIf94f7+frPZdF3f9Z19Gg6E1CmMB88X89VyJYSAF3gxJX3fbzabx8fHtm27rr159kyIMM9zRN91WNoY03X94XjcHw6H/b5pmvli/uL5i5ubGzBev/WoaZrapt1tdz/e/ggFiiRNoCjEGDt37Lx/Xx88NsuyxWJxc3OjpHp4eDgej5vNpq6rOI4TkvhA2vM/izV26Ie6qteb9ePj436/By1T8AXRUyBdFuV8MV8sFsvFUgQCk6cl8E8uI8zIDMNw2B+UUuvN+nA4yEmeA2lCYEPJarVaXa0IJhBuXUyK1rrrus1ms91uN5vN8XCEQZ03s6JBEMxms9XqanW1cnYeiIBwgjAyxvR9fzoewY72fb9cLlerVd/3+/3+eDz2Qz8OgzEWOUQoKYqiKIqrqytrLYhIXwojYEWVUqfT6eHhcbvZ1HXTNPWTywgpA5KmaVmWs/ns5vqGM45jjDC6GLdhGEDlAcS0z3eNMAjDkEL/5Lu8KcNQVdXxdNwf91VTXV9dw6XLizwMX/fREEygSXu1XEVxdHV1fXV1tVguFvPFpZOIC57l+W63K4tyG28he9t2rZTy43yEnpoXwjAsigLc+qIonr94fnX3Qev4AAAgAElEQVR1dXHuwdNdzBfL5bKqqqZptNbTNI3TJKU02hhnwBXL83xWzpbL5Wa7ratqGMbj8VDXdRiGhBAfSHs+KcaYcRqbunl8fHx4fKjrZuj6cRqds9a6c0s2E0VZlEWxXC2ddYILhl57KRdHxRozDmNVVSAQAAuHxnEE45okyWxWzufzZ8+fCS5AA+JiRsA5PJ1O93f39/f3TdNAvyRC5wFpSmgYhEtgtcQYCy4ooZhhY4zSqu3ah/uHb7/7VnCxXC6zLINj1HVzOh2btrHWWVD7i5M8z589ewZjzEnyhlMETY5aV1W1Xm92+91hv6+qCmq52GGMMWUUtrEsl8ubmxtMcBzFl6QA9AQ1dfNw//DDyx+Ox+NXX32ltXbWMs7ePZDWVoPS1d3dXV3XlJIsmy2Xy+urq6IoftW3dA45Z7uu32w293f3x+NxmibQZYjiyFgD62+fXqhDFr3vJOOvHhWK25TSMAizPIviaD6fr5arv/3tb89unjF+bqpCCDHOlouls269XoMsrpxk27ZDPyit/uhRnjjnW/NstbpKkuTm5vrq6mo+n5fzEiII55wIRFZku92uKIowDCGQ7rruzdtEEAZlUU7T9Pj4wBnXWtV1vd1uy7JQUgkhEEV+UvoD+DyBtLVWa9P33Xq9vr293e/3VVX1fQ/+EMYYJlKGYej7Xk5yHKe+66VUnLEkSV5/5TCyzlrjpmmq6mq73Trn+r4H7TFjzKQnY0zTNEYbOUltNGUsjELGGOcYmsDrpr798fbly5en02kYxmmaGKMwvg/9gUqpum6maZJKyenc2QKCWzC7W9f1ZrO5u72r67rve9AybdpmGAbIC5wTBMgpJau6GscRQus0S6Gi4pyTUu73+/1u//j4+PDwAEVdKGUDsI8KGk6gWIQQAunXMAwhtyAn2bbN4XCo6qppmiAIIW2JCabondo2jDEdbJw7nvtn4ii+vr5eLpfgUf3s58FRHocRgtvj8di0DSU0yzIuuHNuGicEYkXu/cZpzu/wkw9XlMXN9c3peLq/v++7vq7qw/6YxOllrbTH8z8FdMqN07jdbkEU8HA4tG1H6WtxROcs9A9DNyCscmGcZVkWBAF6+n7BUxljIK0O92CllLXGOSuVgkBUaQXWlVImoBcwEGAh26a9vb2FHcJN0wzDwBjjjMMQnTZaKQUFTDnJcRy11kLwOI4po865aRqbtt3v97d3t9Wpgq4iKCzD4a1D0GgNHYZVVY3jCDXqoixKVsLrhb33oEnzcP+w2++g+e/ci46xNVYZZawZhqFpGigazGazLM8opVBoAhe2qqr9fn84HAghV1dX7zWZYp3th/50OtVVPQyD0SYIguVyOZvN4ii+5HAJJSIUWZatVivI2M7n89l8nmUZtNCjs4HFGFsGN0eEfyJ+9jGAYT/O+aycPX/+nBACdbb5bA5q25fPG5z5/GcMFxXEQ2B9CiaYYIaDIID57bZvT6fTOA5N05xOpziORSAi5M215xMyDMNuu9tutw8PD/cP90qeK3IwwGKt01rKSSot66qapgkaVdIspZReXBSIpkDkabfbQaO4lJM2xloLndHTNA5D3zQNQigMQusseKdQKK6r+v7+/vHxcbPZbDYbrfXFv8UYa6UnM43DCCnIcRqRO/ffhSSEijRk9G5vbymhdV0XRYEQQghP0zRJ6awzWiutpZJ919dNDePC4BlyxuGbOU1T3/dVVb169erHH2/ruhqnSUlJKKGEgsSvmUxlqrZtISMmpZwv5guygGzpucYzjRB07ff7KIrLcpZlGdwX3gWlFHT6nE6nw+FgrU3TbLVaFWUZhvGvqsZaa6dJSjmdjoftdrvdbY02SZLA1KfSqq7qy6wNRNFnMbk/Dj536JSzEu6PzrlyVs5msyiOCCWXyq0x5mfzPhgG2ulHm2G5dGWuVleE0DiOlsvlfD6PkxhGpdAbIp2UUfwUMpz1Pd+4U1BKoziCnrI4jqWUw9gfj8emacdhBJfgo2/A/l/g8wTSWmvIq90/PPz73//uug7UF8IozNIM8oJGm7Zru7Y7yVPTtMfDESEHIqWgWYoRxpg466SUWivQuALB9yzPYGKwbduqqrqxs8b2Xe+Qi+M4z/MwChmjUsrT8bTerL///vv/+7//01oLIYIgDKMozzI45zRN0A4j5TSOQ991GKM0TTHBggtr7TRNbdvC8MbhcBjHcRxHCLNB75QQMgxD13XDMBxPR7M30zTBp9w5B36VNXYap8168+23367X6+Px2Pd9URRFUYZhAF+Vvh/GcRiHsW3aw+GglEIOGW0IIUEYYocQRtqYcZq6rm2btqmbrmvPs4XvHMFaa9um3e22ddMYYzjjkKeclb8+wQKzN33fb7ab+4f7U3VSUkV5NJ/Psyybxqk6VdZYjPAf6XIhhKRpenV1df9wTxkFT3e332V5lmbpBz+tx/PlYozRSndtd3d39//+3/+rm8ZogzGC9jwwGpCzB/vTtu3xeHTOCSGstWVZnp8I/6SQe39/DymzLM3g2912bV3XQz9opeuqNsaEYZjEcZplnDMpZVM3m+3m5Q8v/+/f/zeNE1QdYVcToQSkYs7DL1JB+zfBOE0ShFAcxwgjpdQw9MfTcbPewJqAqqqCMORniQtBKZGT7Id+7Meu64bdAIG0ddYhB+lIcCJ32+0PL18+Pjxuttuua7M0y7M8jELQlQD7PIxD27aH4wEUJaSUlNIojBBBGGGttZxk3/dd1zZNA4Wg95pJsdYO/XA8HpumUZPCmERRBMq0b7qM0HJPCWWMFUUBc0xRFAVB8KY3Y63R2oD0hzaaUkoFFYH4WCNtUO4Iw3C5XMJVOjeL/nQVDXwYlFLDMPb9YI1hjELHvuCCUoowqJVgQkgcx2VZ7vd7SolSCtIKWZZlefZRzuzx/BZt2z48PLx69Wq32+52ey54nuUQ4jLGpFLjOE7TCBr4k5wg8kEIJXHyWofaIevsJKfj6RjFURAEYRjBlJ82GpqKx3Fq2/Z0OnHOLwFeGIaQvDscDt9/9/3333/fdm3XdVEUzWazLMsIoZQ++YTjsD/u98f9OI2EECZYWZZccGcd1H5Op9Nms7HG1lWdZEkSJ1Ecc8bjKIqjaJqmc528a6uqssbKSRpjhBBJnDDHMMf90O+2u4eHh2+//fa77793yIZhGMcwWxNDmWeS09APTd3ISU7jNAyDtTaOYihOnsUvlB7GoWmbqqq6rp2mEcbO3/FN0Ur33Tm32LZtGIZZlt7cXOd5xtivR27G2L7v6rre7nbb7fZUnbIsWxZLSqlDru97LsSnWNmEn6TdkiTBCKdpCv5zGIVJkpwj5EtTrHMQAgzDYI0lmHDB4yQOg/Bj2efLbYILURSFEDxJEkhxvvkrLgPwWhltTMhYEARhEL5Z6qeEgm1PkiRN06Zp5CTrpmrbtu/7MAoJIcg3DL0/nyeQNsYMw9g0zfrx8dXLV9roNEmzPIujeLFYQAocVo0PwzD0g5RN13Wz2eyqbqIoCiCiwwgjZKxVSkIhum1bxlie51EUXWRaLx01dV3zgC9Xq9XQU0aCQMhJNk0DMfD9/T1ldLlYFkVR5PlyucQYSyn7vh/HcZqmYRyGvh/6IUuzq6ur4ClXJyc59ENVVbv97v9n7zvXIzmWK9OU911tYQbDGV5Jq5Xe/1mkvbocDnzb8i4rzf6I6kIDHA5Bciiulojhhw8EGtVlOiPDnDhnv90DM2Qcx9Ekcl3XNEzTMMuyVEh1rGuKJssywQW0c2zbnk6nGGNAAa3X6x9++CFJkqZtEEKTySSKQhAgQQhlWZZlCIYx+r7XqAb8E47nhYFUBBFMINgRQkgpuOBC/LqBZOCuqKpqv9uXRSGkMAwDYNVBGBj6y6rh0MjioiiL3W4HkHKllGVZ0+l0Mpns93vDMLqug2D9V6X0pwaJtJQyDENd0wELut/v4ziezWe/5Yhv9mb/w00K2bO+qqrHx8cffviBMWbbtuf5pmnFcQzCG9AGgYJgXdeQFsZxDOOBwNGKjzIeEBCkaYoxBqgLFLYppW3TlqKEMT9KtTieTqcz3TBc1+1ZX5ZlckgeHx/v7+4xxkEQOI4DA12apgkpgBoHiDBg/Bi8immYhmFQjULDHGi3NttN27ZN3Uwmk0kc+0FgW5ZlWW3bGoWRqiQv8iRJ+r4HBkeguaaUAqB6s9n++OnH7XYL2GPP82Gu27IsSilMCYJUbFVXGGMllaZpgR9EYUQpRXSIoaEHNbBIjl70ddBBKWRd12mSVmXFhSCU2LYdTaIgCE4FUWBuxdAN13WhszFSH43dDCArapqmaRrWdVxwwzAgDv5WIy3jEHs0iXzfhyIvJVQiOfL0wt3gXJRlVVZl2zYIIcuyHcexbduwjCcWdIwIJaC24nouoQT6/3mel1U5QFvf7M3+IFMIQqnr62sg3wmj0JgacRxDzaft2qIo8gxVZZXnOaX0SJXggzzK8TBKKQW8+lmWRZMJTCnDYAIhRPDhU80F9zwPepW+PxQfORd5lt8/3F/fXEMsCunrbD7XKKWU5nkuhWzapiqrsiyVVJDbGLoRBIFSSkgBVDvJIelZX5SFl3vT2ZRqmm1ZnueZpgllQc55mqR5kUNSp+t6FEVxHCOEMMEwcXN9fX1zc3N3d2vbNigChGEYhZFUsuu6qqogf267tu3atm0t24rjWNM1aG8qpAZvMBDrHr3iq8M51rOyLAFt1DSNZVpBECyXy8APfppwgr8Vgpdludvt9rt9kiR1VceTeLFcUEK7rkMIGbqOAL6Kfgva8SsGLtG2bdMwQxnikYsODyw/oD+GkIJdFWbgEUKGaQBJhO3YrxTo+UUbtgnDgGFJ2PUgnz/dJoDYvG1bxjopJFAyOY6j6c8SaV3X4aPoed7w+Sl5VZV1U3md9030uv6C9ueQjXHOodSU50VZlqZl+oF/cXGxWCyWyyU8y571QEUAMD+lUBRFtmXpmkaOnx6MMaimIIQcx1kul/P5PIxC13WVVENRjRBKaVVWVV01dQP9Gcs0IasDiDWIlbuue3FxcXZ2FoZhFIWYEMhvKaUI4aLI26Ytq7Ioi7IsXccFDlIEPArw5Vg9iqfxxcXFYr7QNE3XtbKswkm43+1vyA1I3pVFudvtJpMJ1BTLstxsNuvH9XazVUhNokkcTy4uLi8vL4cFqVBRFlVZPTw+YIxBCG6z3di2HUVRFIaaTnVddz13tVoRTMqqqqpyuVzFcXw6QPiVhwIbAOtZ3dRFUTDGNKpppmbbtmmZmqZh8rKrLISoqqou6912t9vusizTdX02ny0WCyi+mqY5EvM+8cP9+o8coLtd13Ud17IsXdc553mWw3n+iYR5b/Zmf5ZxwZu2AY6xLM90TXddd7VaXVycn1+cA36Ecz6ZxLNZkWcZsDFPp1OYbTnteSqpgI7Ltu3FfLFcLWH9Qn/G8zyIQXf7HezTdV0VZeG6jlISFjXU7+NpbJnWYrEADwD8JUqqpm2gpLjb7WDmOS/yLMtcz7Ud26IWGpUXOJdCHqc5oneXl6uzM13XTcNo27aqqjSdIIzbtsUE13W93W1hmhoQiWmawpA2YwwC06urq/fv37uuqxs6wQTor1zXJQTvdnsp5H6/d103nsTRJDIty7JM27EX8wVGOIqi5XI5nU5ns5lhGlSjiPwymY0Squd927ZFWXRdRwi2TNOyLNt2oN/74giDaM0I2YaDHF/T9/3hcNjtduv1usgLwYXjOGdnZ/P53Lbtb+v6xtYcxhji+LZtIbxumqZtu65tHx8fd9st65nn+5PJBOh2bcs+RRgihCDbtywLuuuwU0AhRkr5rUCPb/ZmpwadgKYe+L2UUpZtTePp5eXlu3fvgCabdaxpm7IooygKAt9x3Ol06jjOMLqvjipKSCmkAFUbhMFquTw/P4e0REnleV7gB1SjXdsVZdGxLs/zqqx61iOJpJSCc0KIZVpQwrMsaz6fX1xezOdzSgghNM9z13Vtx7m/v6uqqmNdXhRpmgZhCJwFCCGE0Sh6oqTCBAdB+O7du3gygf4KjEwDgIhSIpWCWmSW5WVZciFsZWVpdnt3e31zXTe1bdvz+fy77757//697diu4yo0JGCWaWm6VhUVY+yQHJJDkiQJaBxAYzPwg4uLCyHE2dnZxcXFcrn0A98wjVe6IBjtGQI2pDRdcz03jELLtgA7ffpimOIBytu727skSRBCIOO0WCylEGmWkpx8kfXn27rE0TkjhAQX0L2v67pt2o51Xcfqqnp4eHh4fGjbNgzDKIreXb5bLpZfp0/7PWcCEzTwwxfbxGa9eXx8LKtSKeW53he2CYKwGvBHnu8VRVEUBetZ13Z11bRBa4tvvKf8RezP6Ugz1jd1U+R5WRRVVRmmEQTB5eXlarVana0Aqc85L/ICOiRpmrGum0wmwCvztPAwUghJJTHCMMp7cXkRx3EQBEooKaVt26MSVZImTd3UVdXUtee4o6YxcM/M5/N4Gn//8furd1eO67ieCxFPXdcYYSEkUqqu66ZsANUTBIHTOyBojI5SBxJJXdcdx5nNZqCPB2dbV3We54Ef1E292++kkkVRGLqxWq66rpNCHg6H9Xq9Xq+3220YhfE0/qe//dP5xfnl5aVlWdAygphGN3SQIYGZasdx5ov5rG1sZEFz5uL8IgzDnvVd13m+F8exrumv6qJIKYXkPW/qJs9zxpimaY7rAK7pi90P6Azv9gPbWp7ni8V8MV9A9GmZFshTwYt/j4IokBUBWy9gWgQXQHgDE0Fv9mZ/NRO9aJqmLMu8yGGCzvO8i4vzy8vLq6sryx4S6bpu6qpKkvRwOLRtE00iCAchvUEwgIukkEIJZdv2crm8vLyczWeTyQSWrO/7hmFQQtum3e/20MGoyrKLIiklcB9AORIQPe/fv7+8uPQ8z/UHPou2bSGnklKCWlJZlmmWBmEQRRGcKgIFaymh6G6YZhxP3r179/HjRxDB7ljX1u0h2Tdtk6ZpXdUwEwTfA2h8t9ttt9vNdmNZdjydvnv37rvvvvv++4+O44AjAoVF07T6nvc9r6pqv99btr1YLOdliRDSdc2xnfl87rpu13Vd19q2A0pUr4HqKaGEFJxzmMEG4CjApG3LMvVnmG24+Ygiosg42ncaHCqlRC/SNLm9vX1cPxZlIaRwXAeKzjDo9A2NHM9CKSR6XtdNlqXAuJbneVEWZVHCN7zn8SRerVbvLt9N4olpmae6VhhjoK4AAmFN0zjnVV0N4+5Svolgvdk3N8iigTAfPrSu4zquE0/jy8vLv/3T38bhZEgdoygKwxCiJtuxB9KmMYuG4JAQy7bCIFyulh8+fHA9V9M0wUUQBmEQQvZSlAWMUldV1fXdKMuECYHxljiOp7Ppcrk8OzubzWewxPM89/3AsqyiKB7Xj6xjZVEkaTqbz04rTUPzU0qpJCEkDIOrq6v5fO44jmWaoKdlGibnvGd9miZJliVpmudZWVbArJYk6f3d/d3tnaZrtmMvFovvv//+X/7lXwYdU4yUUk3dQI3v7u7ucf3YFu3hcABSA8uxAHUCE9dBEDRNEwRBEASWZX1xtvmLxhmv6iov8q7vlFK6ofueH0XRF5l3gLwWoJG3t7d1XSulPM+L43i1XDZt23YdJn8ErPuZjc4Z/pdJBl49SZI0TYuyrKuqKIr9/pAkB13Xo0k0jadXV1er1VkQBpr2zdSkvr5NIIQ458khubm5Wa/XVVkhpDzPu7i4WCxfbhMgcmHbA6gBIdSzvm3buqnbruX9a4fe3+zU/pxEGh9JCxFGEg1i69CgCOqQEGLohmmYKECmZZqWCWPxQRAAG+FTLKIQwRjEogErCFm067pKKKjKeJ4H4zEgND2Y5AghXdMdx5nEE0yw4zqBH8RxDFPWPethlXLGpZQYI4UGrWnWMyAPG4BAJ+khDNrFcRxP4iiMgiBAUOYnlBDCOQ+C0HGctmn7vi/rsmka6EiDmPtIxGpbdhiGju0M/DdHIS7jaFAKBShmXddt02iUgjKq53uGaQB1kGEYtm0j8nLVfdEAp80Yg0aEEAKKAqZhUkJfHAEQj8Ax9vD4cDgcIPH2PH+xWADDJNyQb+XtgM0SIPGGaUglm7Zpmob17IlK5M3e7K9jBOFjUR6QXVVdZVkWRVFVV4QSQzcMwyCEmoYJe2fTNK7rwiAupVQIATEjRpgSigzked50No2nRy+qFELIawbso2mZUMSE0qSQQikFKdNkMpFSmqbped50OrUdm2oUcIAIIRD2OyKEBYwld13HeiakeHFZmBDTMqMwjKJJGIaBH4AH0w3dMAyhRBiEvu/3fT8ijJqmZkwbBcDatjUMwzR0z/Msy3zC4xwdqa5rlmUaplkUZdM2VVlWVVnXtWGaSikoIAIFKxdc0zTLtEAc4RedzAiAZGzgVIMiIChIUf3LpN8vDjswOLZtXdZJktzc3H7+/DnPck3X4jgehE/iCYRB39DGzxLsBVVVJUmy3W6Bxw44YHveSyFHDvYgDF6MUoMBFnHYrY4zUF3X8Z7LI/v6m8d+s29uGHj5CQHWwKZpgJ2hLErDMEzL1HVdN3TTMCGdwwibpmlaJgR+z46Dsa7rruNO4kkYhn7gg+gR5xxWAUB1CCFKqr5njDHJJUIIY6JRLQiCs/Nzy7Ig7Qyj0NANYJ9VSjHWc86lVECXy4+h1ygZOJ6JVJJQYhom8PtMJpMwjCzT0A3dNE0hRBiFURglflKUBeecdV3TtEBnrZAqijxN06Iowii0LdvzPNuyTcOEFBreAnyUZVka1aSQXdcBLLGqq6iPEPBdmRYJCIyIP4lOv5qYqhd927Z1XfOeg5gTBPajbM2psZZlabbdbpMkyfOcEALh/WQy8XxPKjXQwg2nPzh2ieS3BXiDjacHOyxMra/X6yzPqrKq6rqpm6atwyD0XHc2m0OQr+s6Id/Yv31xmwBK5uSQ3N7eXt9cF0VhGqZt2YvlYrlcRmFkmdbpEaA8pOm6ZVkgDCGl7EXPOgZ7+rc957+I/TmJtE51y7JgIl+jWse6zWYDHgohHMdx4PuQRsIn0nU9KcS4egeVgmPJ0NAN8FZxHAd+MPROCcJoyLFBOx5wMlIqIWGQWZmWOYknjuPEcdy2LcZYo1rbtkIKIQVMQbRNmyRpWVbtkVzhOIT8hfFjjLHjOvP5fBJPgEoaPvqEEhhLcF3XdT1gbmAtA40uYN9J07TrOgVOTRuq+EVRaERDwB8uhRCCM44RppgCzxm0qbuuA757cIiUUrhCSuipONbXTcmhlwL6h1JJoKwwDAP/xCMAr09VV7vdDsQMMMajSNV0OrVtGzjVnm7O78ioMcbwBMHdm7qJEBoSfi6+iebBm73Z/ywjhJgGgJEtXdf7vt/v9tBkoBqdxlPf8x3XoZpm2SbVNNtxhODgD8EAZQcdQk3XdKT7vg9Z9MjprZQCdB/MdxwBQWjg+UJIN/QwCk3L9H1/tVohhIapbNYdx2sVqJ7keT72JKWUXHB4AVzOCDKilHguEBxGpmWNSxucm23ZjuP4rl9XdVM1MNrdNh3CXV7koIkA7IaUarqm8Z4XRdE2LRpxQ1K2TauU0ghVahgOr5umqmvHdZRShBJd0ymhI6KSUkoxfY2TGYsFAAI8dtcNuOE/rUj+rElUFuX9/f393f2nHz9dX19jjMMgnEwm7y7frZYrgA7+2s/MK99aSSk4r+s6SZL1evPweL/f7YErZIB6WpZpmo7j2NYXsmiMn3ZeQzd0TUcKgUYG570QAmH0bch13+zNjgZBgsRSN3TLtizTAhTuw+MDDOJGURiGEUwcgNeybRthBGHSE3pODVk0xhgmlqfx1PO8kdsJyPkM0xj01SlEaEPfWClFKSHEmM2nhmk0zRnBhBCCEK6bum5q4NauyqooiixLm7rhoqecCCmkEApg3QpOZGiNQyQM0nSu61iWQQlFCGGCKaaGabiu6/mesTcQRkKKvmcg9yUEL4qiaiqAxjiOYxgGF7woCyWVUAIhhNGgCAPzd0JIzjnM0bRNy3voJGGQGKA6lVJSSimhTxqKrzDQheq6VkhBCKEahTqvrr1MpJVSTdvs93sQOm27NvCD6XR6eXkZx7FpmoRU+LhfDF//iAT6J8Y5b+omTdP1eg3qEjD2MsDwMTZBK8u2Rnb2P/R8RhKoh/uHu/u7T58+3d7cUkqDKJxNp5cXlzDo+kJuECa9NaqZhqlrOsT2UkhoEMKe/ma/1v6cRJrqFIjjoDcCEyZSSoQxwripm3oyicLQdmzTMqGtCh/MZ+sWeikEQ3Llum4QBI47wBjGDBYGY4Y+gEIAlIHlB9zxjuP4vQ/IQOhpdKzruk4IqZTsOrbf74riNAR88pjjuUCWSDAB/rAojAzTGBcSJRTpyLZt4FpsmoZ1jPWMMQYsOzCr0LFOISmV4oK3XQtcawOO/ThbDNxpQgnec9azrgMpBMYFR0et6d/2UJRSQHXe933f9yOV6zMIwNE453VT53lx2B/W67UQwrbsKIqm0+l8Pvd9n1LKGDsF+/3OzvQYnIH/FVLA3QNoAJFEEfVHe643e7P/dwwYOB3HGYhDmrYoC/kgNappVGvqJoomURQ5jg3ARdP0yNGeQQcHlXtN0zTXc6Mw8lxvrJ0B9RSsOyBKQAgjBE5UIYQgRbQsy3M93vOqroqiyIu8a7u2a4UQUire93mej3RTY1kQMmqEnnA9sMyhuBkeJZfhV+CFTMO0bdt1XeA+HJvbUkmg7QH1QXiLvu+LooBI9GkCR6ksy9qm5ZIDzSnrGZDsgBrWQDn2mwwSaYCP9l0vhdT0gRWSUvqLcMQhD+eCcw6Cq58+fXpcPx4OhyiKoij68OHDxcXFfD63nT9KREoiqZQCB9u2XV1XEPT3vOc9N3RDN3S4kOFuSgX1glP3SwgBOkwwhBDvOWC5pJREvmXRb/btDbwHaAX5vpdJnU4AACAASURBVN8f+rquD4fDzd0NQmg2n83nbRiGnu85tqPp2ihBD77lRd0fI6zrOmiqu7YLNUT4LcADIYuGT748GvQzCCU+9R3H4T0vq6qqqrqum7oGrJ+UEhqJaZrWdcV7rmu6FMcjSDVUmRSCGJNSatt2GAxapyOgGoI90zRtx3ZdF2ilhipe20qYNK7qtmmBmwBQSEVZbDYbqPfBVXPOYeIGFHC44Iyxumnatu15jxQimGD6u4KrI9qRKakwxuAZTN2klI41NfB+SiqYuFmv12VVCiFM04ynMbAXnXZ6xwgcqh5/dG0OKISAtrMsSiB96Pse4lKMMR60e1XPe41rQM/0R5yJOgoowIDn7e3tpx8/rdfrNE3jOJ7G8YcPH88vzqez2ekGOhrGmGpUN3Rd1wkmgD96BrN9s19pfw7ZGKiZRVF0dXVVVdX+sK/Kqmma+7u75JA4juO4jue6AImJomgST2CaAphX0UBehY6QXjzs4ieU9MM3SI0/PYkdh7ANauRlWT7cPzw+PgIssG7rkyNgKQTIXwEhHkhuvrhpUMkbIk6q6boODY1nL8NDSEopJRgrpIYOM8Ryfd8PX3iaJP/1X/+VZZmmaSDaCVcCX6qyyvOsqqoBon7ivsF+80OBVH08IGwwQ/B3SuEgEUKorurtdvf48JAkKesYkFicnZ1Np1PDNF4oBAzXjgmIYP2ek8QEU41SjUo2YEQBxK6IennD3+zN/r82QolhGkEYfPjwoWmb3XZXFEXbtZvtpqxK27Yd23EcNwh8P/DDMIwncRAGnuvBpB9Cx/T1uDzhv3HlnnpRdFL1f7EvgyOqqxpYHpIkybIM+E7GQ0ipmqZum3YUiAZ873D8I+oaaFQIJgAM1mBq8XRRKyTV0B4B9CY6Qev0g0JUzznP8uz684BzMywTI3zcNBBSqm07YO2u65oLPkwhfhMvqpQUQ7NdSAE0bNDLwsc7+3PHhyCSMQZo6pvbm+vPnzebLSb47OxsuVx++PDh6v1VHMcjH+wf5PEwwYZhTGdTjFEQ+Ofn5yDc3XXdcNN6/vj4CHIV3//te03XIK94Bo7FJ1vz8TFJITnnIIr2Jlj6Zn+E+b7//v17pdDt7Q3VqJLqsD9UZWVf24AKBBm2KIzCCERaAigdnupIP3lFQsZc74UvOkXTnPoNiKPyLN/uttvtdr8/HPb7YwotEEIIdKQZa5rmsN8Doy2ktQiw3OoZJSEo5OmGTjX6U7ZCjMbA8qhWJYeZGqUU5z3kzFmW3d7e5kV+f38Pwldj1qSkbJq267o8z4GTkguuTvyhRHIcFf5tptQwWTkUGk6op8eDCyFAr2G33W02myRNKKWLxWJ1tgLhGGAmQ0ffcvo9aCb/Ni7bV5plWdN4qlHNduzlcgnqZW3TFGVZlZVS6vbmJk2SIs855/P5HGYBvvlpwAg+wHh3293t7e3Nzc12tyWYXFxcrFarDx8+vHt3GUURpT/LMUwwGWpAx5IobMpfRNq+2S/an9SRptQ0zUk0ef/+PaX006dPnz9/hpZFxxjBWNM0eMEknlycX1x9dwXrGQauhqOMnguAOORnm57P2VCf/hq4sg77w9//6+//8R//cdgfqrpijOm6DmQ84JiGWT4hpJCWZZ22UE4dKKznoXWja6dw6JGDEWNMjug+OIGxA9yzHmpCWZ4xxh4eHoZzxk/xLkJYCMF5r6TSDd3QDXh3IYQSvxfeogZK/yOzhSKn3nk0eE1dgTjhY5alXdeFYTifz9+/fx9GIdC0jkEShI+D1/vdDeOxL933/XADBRdSIIywxG+R2Zv9dQy6ImEQfvjwwbbtT58+/eOHf9zf3++2u7Zr0XFONQzCIAzOzs6u3l1dXFyombIsC1bomL4OsQgm40J9Vt1XTwPGo8FShjUI7D6ffvz0n//5n5vNJkuzqqqgxT1W4iC1BBQJaGKNB0fHQ6EjPhNQwS9m8AZis1Hnkw7l/xeOlPecC84Kxjq22WyGWOFkRhphJEHARUnotKgT+50PRUnF5VDdgxOmlGq69iqiMqWEFE3bPK4ff/jhh5vrm/v7+6qqVmer8/Pz9+/ff/j44fLyUtM0+u1obH5qhBAkETLQbDYNg+Dy8hJgU3VdV1V1c3Pz6dOnx8fH7Wb7cP/QdZ3nedN4qpQ6lXvBxwL3eP+lOmbSg/j3H3cFb/aXttAP379/7ziOplHO+Xa7PRwOMDOMjmrAURSdrc4uLy/Pzs4wwiMJArwG2tFDVHkSsz3Z0SWOTuP0K0JISZVl2ecfP//jh39AnwboEoaYihA1CP/2TdMCFyNQTjyJm5ysEEwwuMQvuhHwmXBY0D6AchWcG7Rbephwadvtbgtc3Aod/yGEFIJhRnBcQOZ6Wlj8WawfZOKv47KFLQCOBhxJL0ZdpJSgNb3b77a7bZqm8/l8uViuVqvZbBYEwXD3EBnjyTGL/m/gL7RMS5tpURQtV8uB46NjRVFcX19fX18/Pj7e39/3rBdCwFgywF2/+WnAVFRTN48Pj//4xz9ub2/X63Vd1xcXF5eXl+/fv3///v35+fnXN51RahHCeyi1nE5avdmvsj8nkR7COEvFcTzmn47rlEVZluU48t627WF/QAj1vK/r+vzsXCnlud4p6P+pJPWVIdxnrVGE0JABF3lxf39/e3N7c32zXq/7nhuG4bquZVu2ZR+Lf6iuq7qqYRziWar2k4/c6H9/5iyOJ3ocxXlmCkH5Uzd0P/ADPxhLbs+uAgDtGJumaZrm+fl5HMeO6+im/g1YvdRTd2h4z+fZr5SScy64yIp8u9k8PDzked40bVM3ZVGCsE2apBA5FUWx2W6qqgIdb0LJdrP9/OPnOI5tx7Ysaxhf/zXZ73B7R0mt42b2Fpa92V/NYOHohj6ZTCCHwQTbtg1CzYwxIYRCqud9nucED2J+dV1LKYEj6vRoYzr9FUcKqe7wPVTelKrKarvd3t/fX3++vr+/b5uWUgoKC7Ztj7AaIEesqqqsSiXV06zNCLaB0zipu/30PMaXP530T14Dabau6Z7vOY6jUY1Qik//Fj+9HcCul8vlYrEAFtPfGY194QyfLuRnjwwRDAjb7na7m5ub29vboix0Q58Yk7PV2fvv3l+cX0zj6R8RmYGNcTMalaV1w9ANGIcSUoBahFSy7VrG2G63S9P0cDjs9/vD4RCj+BnrGH55uUOSMMw0/jeNNb7ZX9B00wjCCBMCxDd+4B/2hzRLoYqHEBJCFEWBMQaYLjQwgIj7p0c7esSTT/OYRR//naB1sFKqquu2aW7vbn/49MPnz5/bpiWEuK4LPPaaplFNgwGQtmuzNJVSnI4fDof6kmf7uUs+ffHLPzwWH3VDdxzXti3LtAzDOK7ELyxE0zTPzs4Wi0UYhJZpffsEFZ/8hxCCIilCgouiKDabzXa7TQ5JnueO7bR+W+TFer0BIl6E0G63e3x8PCSHpm6EEHVTbzabz58/w6wo2Dfhj4CzGnNLTLBOdFM3TcuECoXoRRVWCCGNarznySHJ2zxJktu7O8u2wzCcounvP43xZMBAjhu2ifv7+6quYPp1tVrBNhHHsWM7X69uDB+Sk0fw5pB/j/05iTQYIcTzPWg+z2azLIOedF4URVWVVVXVVV039W63K4piu9s2dUMpnc1nYTj4u9+0wPEgPi1lmqafPn36+9//vtvt6roOgvDdu8uzszPP8zzP03SdEsKF2G2fjDE2cMCO3vMY94FrHQaoX5PaYXQ6sjgUHQ19Gk8/fv/x6t0VpZRSDY8wyzGRRschE00Po3A2m0VRBF2m33A7vmIKoWEQ8jg3oZTqed/UTZam681mvX7sGGNdl2bZ3f1d13VUoxo9aio0zc31TZZlfd9TqvU9v76+xggvlovZfDadTl3XHTWuX31K6qeu/w+XQXizN/t/1QgmtmNDhzaaRN99912e5Xmel2VZVWVZVSATled5Xdf73R6kRFb9ajqdYoyfuE/HPfXVi0kqJYTI8uz6+vqHH364f7jP0sx13fPz89VqBWOKUCmTQoJG1/39/d3dXVVVwOT80/o3OM6n/vDXvehp+n3sqlON6pruB/7l5eX52bllWZZtE3wyVDKEEBgdSSWAJTEMQ1A9fO31f8nwyblACH7sLw3ni39yRRAeCS6SJLm9vb29vX14eNhutoZhLOaL6XR6dXV19f5qMpmMDCDf2OQwFw0dY0CKjtNSQIOMMLJsS9f1xXzR9z1GuOu67XYLhGS73c4wjTAKv6iSiJ7NWL356jf7I00iSohp6oQEV1dX0SS6yq4G/baiAO3Suq6buimKIkuysiiBZeby3aXrusfM+CTM+FIejUYf9dxDYYyllFmabrbbH3/8/OOPnx8fHyfR5OLiYjadzRfzyWSiabqmaYyxpqnTNPv04yelkGEaI6ADq5c1RHirn4PdjmJd6BkShJ7iQTSdhmF4tjqbzWfTeOoHgQKeny94WKxpWhSFURSFUWi79tewhK92lk+wxBEc9PydYaolyzJQgU3TtMzLxEg0qgH3mO3YEPKDVvZ+v8/zvO/7Ii+ur68xwZNoEkXRbD5bLBbfhohRIeCbhMsneLiZcBUAmPKId3527rke+MOiLNqmfXh4CMPg/OL8G5zDiYEYxGF/uL65ubu9W68fd7udaZrL5XI2m727end1dRVFkeP8QhaNxrT5ZPcfprre7DfZn5NID+hohKCtGoTB5eUl5yLP8zzPDofD4XDYbrcPDw9szeqqTtJkf9jbpg2NDsuyn3dqv/r4n3vBMS8VXKRZenN78+PnH1nHet57vvvdd9/927/9m+/7YRDqho4JYYxdf7723GvoGHDBhxmVU6axE+aegY2Wi59O7Sv1lGYf0egE+A8BrgwWRuHHjx///d//3dANXTcwweg5MyF4TI1oMH1nWiaw2H+DZfAchA0YIaWUPGbSSqm+79uuraqqKPKiKCAKrJt6u9s1dTO8DCmFFOvYbrcry1JIQQnlnK/XGyFExzqEEGhTP20MEsG7kK/zuSqkjixH+GQA7y08e7O/mg31cqQABe24ztnZGTRbAB6SJMl+v394uF+vVZZlaZaiPdJ1HbjHXMd90ZR+MvVLCwof/YOUkB5fX18naVLXdRzHV1dX//a//w3iMMMwoBm+3qy32y1CKC/yruvGcuRPAjmFjsTXXwwcRyqHJycA092UUI1CL1rTtcAPrt5d/fM//3MQBJ7naVR7ooc8SaQRxgRhGPEFWcHfW47Ep9AjdMykT6LuFzdWIiVVz3oIFm9ubn78/GORF1VVOY6zWq0+fvx4dnZ2fnH+mtBw3FjREbDwGpNKSiVhQLHrOoIH4TRgo4DjEEQ0TUMmmsQTqaTg4u7uTinVdm1RFGmaRpPoiw9rZD5HGB3RWm/x2pv9MSaRRBIwKYSQ5Wq5OluBMEpVVkmSJGmy3W7Xj+tB1G1/YIxhggklruuuViskTwKtk+7wC1NoCIqepdIYIYykklmePzw83N3drtePSZLMZ/N3l+8+fPhw+e7darXSKNU0raqrLMsfHx+bpjnsD4RiQsmXstrh/QAM+MTOeHoy6oniAR1dIqWEUk2jA3yaEOJ7/tnZ2XfffXd5eblYLIWUUvBnV/dUlySGoYNon6afMPXAPZbqtwg7YUQGCg58hDPJsRIB/yuEaJomTdMiL9q2ZYxVVaVretM2+8OBUgoupK7rsirLogTqyrqu1+u1lLKYFU3TQGF0MpmcnPArAsvnBn/S854xJrgYYLO6pus6os9cq6ZphmHEcbzb7YIw0B60tuv2+93hMG/b5qeHHU7iV24y8Hy7rqurervd3lzfXF9fV2XZ1E3gB2dnZx+//7harlZnq1dWEMY9FJ7AV1Bgb/Ya0366LP8bbJyX4IJLIWGWj1Bi2RYmSNM1z/eiKArDMI5j4LBpu7bt2izLwjCMomjkLQQszVjo+sLlfKmnAelc0zRVVbVta+im47iz6Qyk6kzT1HQNOteC87Zrq7pq25b1DEZHfgqeAeozKWXHWFmWVVNZjjWeDAyfcM4HLU3OMSa6PqiDDDoitk0phVcCsaGm645jP0Wcx1sHNpYeRzAkGgOpk/j09dk1MP0MNOe6hhQSgveMCc5PbyxoADqOM5lMirLgPeec65puaF/uRXx9cT5bz3DmWGH1s38B20nPe4TQODV0ymfzyot9szf7n27gRbkQnPecC02jpmlpGrUsC5T/HNcJgsAP/Ol09vDw8PDwUJYl5zzPcqAlM0xDyuO46rEjDSvxWNdC6FnHQ50GXTDzPAqlaFQHDcLpdBpPY9u2dUOHtanQIHNd13XXdkDcjY7Z7JiAKaSElFyIrmPAcwux4/DbYyESxFoApUko0XRNN3RNaY7tOI6jadp4xhhhTdNsx9a0Z7SaT+xiSCmlYGDvhRtRXyqVvsYoHmgaNaoN21zPBedKSaWkQuTJTSmklAKY9G63u7293W63dVWDdz07O7t6f7U6W8Fw4C86t6dRF4QwRkq9NmHted+1XVmWj+vH9Xpt6AYwhIdhGEYvwa5Pt04ePfb4vsdtQp0IhvOecyE0fCQup5Qc2Y/f3PWbfVuD1AyY/IUQhm5ohoYQMnUTe5gQYju27/mz6Wy323369AkjTChhjGVpWtUV53wcVEZPq/5Zm+TFOz6LbhRCCkSS6jRJ6rpRUpmGGUXR5eXlcrX0fW+oTGFwnl3bNm3bMtZRqkk5YohfXpeQArSdWcdgAZ7+Vgo5qNb3gwY1oVTTdCgOWralGwP3bd8zIYSmaZZtQZP76dYd3auQEilFKdU0fSQkf/YyBb7l12VcGA9YITggTOTynmt4IMIAIIxlWWEYVlXZ894wDNuygRcJYKRf82jPf3O6a0Dj/euB5QsDFtvD/rDdbrMsg1I1qNKEYahOh8bV04DxsKFAhQUhEIkcj/kMwvBrbiD8HesYMJnf3d3t9/uuaz3fny/mZ2dn767eLZdL3/dfs02gI7MJUIoMVQZCNDpoW7655d9gf1JHWkgG2k+87xkDLm5T12zbsizT93xwHNPZdLFcmKZZ13XbtV3Hsiwvy4EP7FXv9AIDfGzbcsG7rgMFgq7rHNuZTKLZfB5P4zAKhxFuNQh7MKAqbepRARWhodVwAlAZBsC6ri3Lsq7qEX+OoOTPJWM9Y33bQiI9CABoumZaJgzPUI0OUYqSGGHD0AG0eXoJQoie9ZxzhJBSCmglT1f1iE1C6Nh7eeWKBUFFSkE+BwhzWM/4cwYCeA3o0zRtA6UBhBA+VulejAz9tFX+ogk1enD4HcaYUPJzg5pSSlBhwUfBHgDYvIFS3uyvZuBFO8a6tutYZ1kWIZqua4D1cFxHSskYm8/nWZaBrjvo5OVFXpRF27au6w68Tz8pDD6LOY4Z04sXjYk08EcYhuk4znQ6nc5m09l0IGvEQ18SNF2bpu5Yx3s+UNTiI05yREtKKYQAL9o0De/50xseHTKAYrjgCilylObCGANROWwNY21O0zTbtl/sF0e1DwEhEFQQRzeiRt6g4xwNerUXhdB8RBiB6kzP+lPynhcIJtaxw/4Ac9Hb7baqKujqX1xcnJ+fzxfz18y/jF4U9iFCMCEIH4nNv26c86ZpDofDj59+/D9//z+O7ZydnZ2dnWGMPd97sQGNSbJUA/cb1Aee1SmOrwEdL1Avh62FUkopxr+ho/Vmb/Z1UwNnPnAx9H3vuI5DHEqpbuqGadiOPZGTftH3rE+SBGPc1A3wy6ZZNpbtnn2UvxiGqJOvL36jlBSyaZo0S5umVkoZhhFF0bt375bLpWmZGtAEYiTk0MvpurZjnaEreWTtPn13MLiouqoZY096B8ffjhKAXEAijSgluq6ZluHYjm3bhm4QSqSSrOuFEFSjtm2fvs/oPYCtUUoJhUBC6OkNUGpg8v4NIslAEw0yUdAOAW7wUyU8Qoht20EQtG2rFALaWkwIHvJSBZ745aHxF/YmdDIfNPTqCRoz9q97RSWV4KLruv1+/8MPPzw+PpqmaZnW+fk5yKERdLJZICXVABYYW+xHMoiXLhFquwh2E/LaPWX8VO93+5vrm4fHhyQ5tG07n89hmzg7O5vNZ68fk1Q/0bsCbOxbIP2b7c9JpDvW5QVAg/OiKFzXnc6mURRBjxFSL9hyNapRjUJmNSizjDnj0dCXfRpC6FmU9uJP0JjmIYwQkkoCAzTnHFYaY4wxlmc5CLqAZNyg0dd1HWMcBE5OikxSyaZudrud53m2M9TSCCFt29ZVnRwOeQbKVULTNcdxLHuQBAzDcDKZOGtH0zTe88P+cH9333NOqWYZJqYYI9zzXghRV3VZVW3TQKzmOE4QBK7rwsrs+76pm67tes6F4JZpOZ5j2/YXE9oXBiEgzGkbhiHblve8qZueMXAQg1a2RnRdD8Pw7OzMNE3W94wxJU8qCkdH0rStUgqiYUyxZVnTaQyl2clkAqwbSKGu7eqmbttWCqmkAlHEQTn86K9Hh8gY69qOMWYdDVwzvPEbLOXN/jrWsx7oqQ5JkqSJ57qL5QK0kQzDAM8GrdGRAZscFxUc4cl1HYfWnsYDTzLpkSMKnc5WjcWyk+E3qAMKwTnjsHiBTLssy+SQJElSlGXPeqmk4JwxNmSYfAhB4E2klE3T7Pf7MAqjKHI8B7woyGZmaQYTj13bEUIs04IqJKEEyq+O4xiGoaTK8myz2Wi65nou1GoxxpJLLnnTtDAqCQBDz/OiSeT7PkRIQALEOsZ6xntuGqbt2rZtE/zkkX7WMMKEaNoAjGy7VnDRsY71DEg0T3PInvdd0yVpst6sr2+uD/tD13VAGuL7vmVZCqm2bV9ubxhhjHWqa4Y2kMxh3LO+buq2aTnnfc9N03Bd13ZsSgZ681/8OIGvLvICpug55wgj3dCByQJjAunyITlsN9vdbtc2LcLDpIDjOoZhPH1glILnPihR9MKy0KhnAdzCv3g+b/Zmv8qG9ID1WZqtN+uiKDzP8wPfcVzXPUZBaJin04D7fiDQVgNNLABk4FjPY8dndaIvDKSg08ASwTztUewTJNlZzzDBsDSEEGmSHvZJkiR1Xfc9J4QAkLjruq5rpdRHCmWMMYxdlFWZpdnhcJBK6bpGNU0IDsM1aZoOZDQ6NUzTsizbth3HsR3bD/wgDFzXRQqlWbrf7Q+HQzyJIdJDx9XaNm3d1F3btV2rlIrCKAwjy7I0XaOYQGjcNE1V1X3f25blOA7MdZ9y9X/FCCWGYUBuDJln13VN2yA8DBvDN57nzedzwzCCIKjr+rjPPGEEMMZ5nh8OCSGEMdbUjWVZ0+n04uIinsTxJA7D0DRNKAqwjrVdC17RtmzbsQFt+vVzPrJaKM5527YwKoUQkkqalkk1alnWSEsphKjKqqqq7W5b1RUXXNM13/M9zwVGN0iwm6ap6qrrOkqpRjTTMiFBeE2VlnPe1E2SJJvt5vbuNk1TxpimaaCXbpqmUsM2MdylcXgJY13XNU2H8s0AqkdKSsl7DqguQL8SSiBIeEukf5v9OTrSXddlWbp+XK/X681mEwQBCKA5juM6LqEEYdSzvsiLPM+Bmo9QomkUmi1Du/iJD+JkCu1nZuqeXn/sCUDSbhqmpmtSyrqqi7woiqLIChjoAjqKNEl3u12WZU3dcM5HjCKI11uW+fSOGHHOq6par9cQ2xmGYWiGpmtVVaVput1uD8mhKktMsOs4QCoLVxTHcdu2d3d3pmmynq3Xa+hmaFRzXUfTdYxR0zRd2+0P+912lxeFbVmWZc1mM4yxZVmEEqpoXTf73T5Jkq5r27aNomi1WkE9Eth9vvJQMMaUUIj/TNOEIKhu6q7rpJRDbI0xpdS0zEk8MUxjvpgDP83LaoZSUqqyLKWUACLViOZ67uXl5b/+738FmjHIgZVSVVXt9/s0TaFGGQTBbD4bFjZ+kksFV962bdM2bdfaQ/xs6/pAV/7F7e3N3uz/V+tYlxf5er2+vrm+ubkJwvB9cXV+fu55nut4mq7hIw9qlmVVXQkuEEKappmGecTLHStQpwBdpCCyfHIXJwV+NMSUQ1gDIalu6JquSyW7tq2qqszLLM+A/wxqiGmabjab/W5flRUI1/WcN20Lg3C96OWohoWQkrKu691+7/t+EASO4+iGrmkaHGq/3+92uyRJetbrmu66LugswJSHEAIKi0KKw/6AMcYEO47jeR5sHJAeHw4H8OrQnpjNZwgPrA0Y47Zr0yTNsgwEn4IgWCwWQEgxeqSfM4wxhSa5YViWWdca6xjMHoM0F1Qz4MWsY3mRAwnt3e1d13UgUmoYBhQO8jzvum5EGB25vzDQs/ueTx0KyPmmbZJDkiRp09RN0/i+v1gsYhybpmkQ4+vnTAiBKXFABnZVJ7homgZgU2EYGqap6xq0kDbr9e3t7d3dXVmVGGPTsnzfj8LItm3IE9DRXXctY13HWCcEx2iQmdCPeFH0PDl5szf7naaU4j3vWLff7z99+rTerMMghPHA2WwWhiHAqnvWM8bSLK3qivUMKaTr+hhYwlCEUkohefyAqhcOcPzRaVQ5ngZkL5Zl6bqOEe77viqr/X4PNSnTstqm6bpuu91tt5vdbl9WleBCUMG6vu3apmnqqrYsC5IcdKwtdl1XFMV+v394fOh57ziuZZldx/qe7Xa73XaXJAnvuambMOHiui58DcNwGk+TQ8J7vt/vbduexBP4leu6GGGAZx4Oh+SQ1HXdNA3C6Pz8AiGkVOBgB2Ot7dqu7fb7/WazAcjMdDoNgsD13NcI+yGEKKWWZTmOAwOMEFtWVaVRTdmDc6MaDcLAMI1JPGGMARxpLNyOt3e33d0/3Ou61nVdXuSe519eXP7r//pXz/PA+duOLaWs67rIiyzN0jRt23YST6bTqe/7rzlnMuCKKLwShpKkkrqhK6VAhxxUx/u+3+12+8P+/v4+yzMhhGmY09k0jmNIcQUXPethB8zyDDZfQImPaMqvvFN6VAAAIABJREFUe8Ku6/Ki2O32j4+PDw8PrGeGYbiOO24TWZ63bTsUHOAuQd+RENu2fd+jxIFtYvjsCsV6BpuvlBKksAzDGHOr1zzQNzu1P6cjDQlnmqWPj483Nze+7wNkGiInqIswxpIkSdO0PiJkYB2apjmW4THGBGGAA3+llAKRBz6pgxNMoPAPzU+EUdMe0+b9jhCMCanKamxHd23HxQAy7HlflmVVVV3b9rYtnkZbkFKq7do8yw/7g+/7hmlArg40g7CQ2q6FiegoilzH1XUdExyFUce6yWTi+z5jLE1TKaSu6bbj+L5vmgbGGN50s9k+PD7keeb7fuAHuq5HUSSlxBgrotq2ORwOj4+PZVlWZbk6W3meF0/igenhl3ophBCqaaZhWpZV13XbtHVdt20LvRQ4AjgXXdeDIPi5I0E0labZbre7u70FXEEQBGdnZ3/729/gD6FWJ4Ws63q/3683a8YY69h8PjdMw/M8aKaNIRe0iZq2aZsWCEJc13UdV9P/TOb5N3uzP8ugRVAUxfpxfX197fs+hHZhGEVhpxs6RliIPs2yLMuAKBH2S9dxbcsGN/tkZETnIDTg6J65ixG/M/4cE0wJ1Q3dthzbstu2aTsGRcP9bg86lnVdAxlVkiRlVTLGEEaEUCFEUzd13TRNwzrW91xKiY/dB4gakzQ5HA6O45iGYRhmXdd5nu/3+yRJqrKilEKYCPAfCFCklFEUQTejrErOueM4vu+3bWuaJqUUypGb7ebh4SFJEk3TgE0nnsScc6g2so5lWbbZbLIsAy1TaBGfeqSfM4wwIljTqGGYtu1oWgFB8JBL8/7UX/V9X1YlsF7vd3uEkO/7uqZjhGGLrOsaH7l5xqcAqILJJNI13bIsTDBBhHUsTdPNZg3KF9PZFHrFENb/wjljrGs6JLqGYUATpmka+AnQnhmm2TPW9/3j+vHx8XG32zHGTNP0XC8Mo2gSQcdv/PBAx6nrWN/3wNAJbZxB5uet7fFm39oUUkIKwUVRFpvt5vbmNvNz30+qqoYaPcwXwDRKlmfgHwgllmW5rjsAiY/tQXCJhHyJ4eWJlOtIUnOC+MMYm6bpez4M6ymlqrrabreEEigLVlVV183hcEiStCxL3vfA3cUFb9qmqus8z09pGjDCUsme867tAGUjhfSDwLbttm26ttttd4fDoSxKTLDjOp7veZ7nOA5oQUVhtFgs0izdbXdplkJ8CEjGMAwxxn3fN22zWW/Wm3VdVV3HKKWWaU2iyLZsbnKq0Z71ZVWC5FKSJqArBk1my7Je83R0XbdsCzgslFKsZ7A1mKbpSY9SijCilIJiztcP5fs+Jph1LDkkum54rnd+fv7x40fbtu0jqVDf923T5lm+2W7Wj+uqqjrWwfMyzF8+52OnTQOXCJTvGGPTMhFCk2jStI1GNaUUYwyoJba7bdd2lFDP8xaLBXAtQSINQKrHx8fNdgNgeyGFbdue7yH0y5H5AOlKkv3hsN/vockEBMN935dlVVWgkX4CtkUDj3E0mRi6bls2OvJJIYW44H3XA8ZWKQX9s6da0pv9evtzkhDDMMIwBIK+JEkQQkmS9H0PdTIoAgH9bFEWAN6wbXs+m8/mM2CCVUoBYTXwTlmW+cVwAWOsUU03dMu0bMu2zKFxAYgU3/dXq1VZVmVZVFVVFuXN7Q0oHhNKYAGwjhmGMZvPTdNMjazrWqVUmqb7/T4IAkxI27TQTiGE6Jpu6Ibt2FLJ/WEP5LQQTcJS7FnvuE4URYvlYrlcBmGg6RolVDkqiqKLi4uyKtM0G2qWux3C2Dk2KJqmaZqmLKu6rhHClmmFYeh7PqAWR/cBgWyeZ0VRWLbVNI1UkqpfrhpihBVWlBLbcaIoqusGIrmyLIuisCzLtMzXjqaPN1/XTcuUSmpUA5jQs2ekBhrwqqqyLGuatmtbXddnsxnv+Sn8RknVtA0I5DZNI4QwDGMSTYIgGGnn3uzN/lIG+LcmbqbT6eFwQBjlWf75x8+et/c8X9MoQlhKAW1VUJwKg3AaTxfLxWQycRyHUKIbOixtIKExdAPkTJ8rHWAYRQZpaMiIdH2gePD9YLFc1HW12+9gLd/e3bKewQtgfg9UA6fxVNd0wzDqutY0ra4rSJUNw4BgFyFECAXaCNdxEELJIRFcQPEOWM2KoqjrWtM1z/Pn8/n5+flkMjEN0zANSqnv+cvlsqqq3W6XF3nf94fD4R//+AdUYCmlwOlQlEVRFD3vbccOwzAMQwAnQ57M+h489uGQJMlB13XwOVK8goUFI6wQIcSyrSAMsjxTqeq6rq6boigc14VmNbxWSNF1rOs6ISQmWEoJxZHtbgs3EKLzEYEPzwTuxmq1MgzT8zyqUUxxz3tIgIGtHRM8nU4h1/3FDgMhRDd0x3WWy+XHjx+BX6ft2rIsb25udrudaVq6rvWc874vyjLLMiml5/vRZHJ5eTGfzzw/gDwEDqiUaruuLMumqSFW0w3d933HdQBA9AbtfrNvbhhhXdelVL7nx5O4LEqpZFmWSinouMLC6XnPOgbtSoyx4zrT6XS1WoVRCFOEVKNAc+XYDpBdvRyOwEcwjq4bR5doHPMQTdOCIFitVoC4lkKyjoEsvO/7tm0DyVPPeoJxEARSCko1ITnGuG2aLE1BZtW2rZG/ilIKaGqlVJ7lnPNDcqCUAjtGkiRVXWGCoVO6Wq2iKLIdxzAMhLHruRcXF0C9ppTSqJZl2adPnzzXcz0XISwEZ4zlRQ4AZtM0XNfzfX8Eb0NdjLUMWuL7/d5x3GgyCRgTJ0iir5uu677nh2EIrLqCizzP97u9bdlxHP+6Bz1E9YYJUb1ljuDwJ1Oo5z04sSQ9FEVpO3YQBL7vAzLr6wauzPP95XIJBVZoVlVldXd3lyapu3HHkDvLszzPQYo8juPLy8t3l+/m87njOAghIYUQommbLMsOh0NjNwAZYIw9OfavmhCSAeBfCEIIqDxUZbXZbGAUCO7Ki0QaEOyrpjUN0/d8QgnBRCklhQQ4QJ7nbddBiXMU334lvuDNXtifk0ibphmGIef8sD/s/T2UWw6HA5R/KKEIIakGKh0YBgjDYL6YL+aLMAxNy+y6TtM1y7KgUfyFJA0hdJyhB2bswd8Zw1yHYRhBEK5WZ23b3d/dV2VVlMXDw0OWZ9pxgoYQolHdtu0wjBzb0TQtLwqkEJD3RFGk63rbNlJIGLCBEp3jOFLJw+Gw2+4QQkghYJVgjMFodBzHi+VidbYKwkAbFAoIJvjy3SXC6Pbm9u7uPkkOu92uLAvdMAxdp5QCOBBKlYZpWqYVhVEQ+OCYwLn3Pa+qKk2TLMvyLPd9v+s69cr1etweHNeZTCZJksCwYlmVRVF4rgeVsNc8XyCHIBjrumaZllKKUgq4vtNnpJRSUjHWgRREXVd13ZiWVddN33PDeBK/kUrWTZ2maV7kbdsOifRkEgTBtxEMfLM3+59mpmGGQSi42O12+/0+L3Lo/VqWZcJIMBoKVZDH6rru+/50Nl0ul3EcQ1Ve13XDNGzbVlKN+N4XmQ40HyCRBmIC8KIgkuT73nKxYF3HWJ9ned3U9/f3aZIC1QKU2wklnuvPZiHs1nmed6yr6jpL00NygNS677lSiFKia5plWjDUN6SFGCOEoK8L8Yeu6WEQrFar84uLSRyblgmjOgSTs7MzjLBhGOJWQPu6yAsgsIV5mYHmRgrYBSaTCYR3Y+LKOa+bJsvyNE32+71tW03TAFvYqx4MRpRSx7bDINxa26P/r4uiDMIGoiswzgVjrO06IQV0njnndVP3vM/zfOxxIfTE9zY8C6oppeI4ns/n4LQFF23blmWZZul+v4d5IuAufk0iTchR/gchy7IQRv22L8uyKAsQcdCIxgUXQsKEJ6E48P35fP7u3bvFYhEFwWmyoZRirKuqsq5rIFc3DdP3fddxoZHyqtv4Zm/2qwwjqmkWJn4QTKdTiCrTPIUyvWEaANbloHLQc6kkJtjzvOVyeXFxAeEcdFkMw7QsGwQCISJ90TYEiCNAQmzHti3bMk2guSaEhGGIFMqLfLffNU3Tse7u/u6QHIAWB9ayaZqu60VhqGua4ziw1tq2zfJ8u91KKZWKgJ8QIUSpZtu24zpKqSzPirIAMj/GWN8DVp1RQv3Avzy/PFudRZOJ49jA6OD7/uXlJYRJXdc1dZ1neZ4XlmmaloUwkkLARDHn3HVdz/OiKPJ933Vd0zAB69v3Q53ucDjs9rswiur/2965rqeNJW177ffaIgF2d2dmvvM/gTmbmWuS6Y5jbDAgNkJa348ShDhJxyRu502m7vzKZZAWApVq1eapdbPb7rrugo20Dx6mHAshIE92e3ub5/nTDwKAeJKS0hjt7JAe+8BaEgIdzrvdbrVa3c/ni8UiScJqVW62my+ejlJKGOGMQ6ZtSKHv9zCHfD6fDwlhQiOJoKO53++hYLssy7/97e+vXv0tL3JjDNRdQpTz4eHh/u5+53a77S7Lsv1+F/sY2Zc9c9AT2W63ILERD3G/30N512KxeORRk2M1GQSyCSGjUXk4jAUTjLCjjtq+aTbL1Wq/21FGjTLOOR+8seaJHe/II77PVYN+iTRJx+PxbreDbjRoxIecAPhxUirretDxK4q8ruskHRKwnHMI+zVNQwiBSpWPoykgx5WlWV3Xh8MBRmeBM8cY897Vdd13PaeMMdr3/ZBmEYJzrrQCJRuoNlmvM+fcYrHYt/t230KX/2m4C+xUGePWWuiO2O12MC6r6zpI6QzFNtZNJpO6HmdZZoyB+x9KLk9F2pQxYwzcIBDjpJQwZocogJTe+clkUo7KJElPigWEECmFDz4vCqi+LvLCGvtByeYXvxrBvfdlOXr37lYquV6v16v1u3fvjDFCiXMv8E8YrgZnSZKMJ+Pddgd1mD7489IRqJ7iXEgplZK7HT8uNH6w+Y+k67rVanVzc7N8WPZ9r5TywZdlmWapkpiRRv4XYZxprdM0nUwm0AizXC2h5IwLMdQkRiLkkHP2zsOLy7L0wUslu65LQjKux1rpZtMIIbIsG6zomXQfxAe9d2VZXl1dGWPKskySRBvNGbfWjkYjmHUUY9+27VDyLaVUElLQMNQkz/LtbhdCWDws1qv1ulmnaWqNHWz+ccTAaSiA1ro7csxXs6HVVsrxZDyZTqtqFII/leQIJdI0jTGCGKkx5nDousMBrChjlFIthWSccc6MsZPpBMrwToqMMcbhqZFlXXcghOR54ZwDlawnfjWUUWNNlmfwmKBLutls7+5mPvjEB3Kc5yClMMakSTKu6/1uf+haKaQQAvx0Mui7vj9sjJFQAiJJzrmhCIsSEgkUF2itBb94igG8GDJp0CxPKTXGQL6LRAKxFUkkTIRmlBujx+PxeDIe1+OhG4u9V4WEvlBIlEFbFjyFoVP96QtDkItglFLOgvf1eBxjBHEpGJJCGUw4YZxzyWU0EZy98Xg8mUyqqoJuMiGEcz7P8+l00rb7uq7zPIdql/MTcc5BxbCuqtj3oOsF9XGQ4iMZGY/Hr1694pwfDofu0HHJobUBsjQhBIjfbbfb7Xa7WCygDCRLU5CPYYx1XQ93FAw1TAKknNO+77e77W4/FDxCf4fW+vrq+urqajQaeecY42ADlFJJkkQSm6bpum6xWGw3291uxwedsBiFiDE65yilaZqORqOqqvI811pzyRllPemhSihJktGoJIQUee6Dh3DtE78aIQRcIiDGuF6t3759W9f1frfXWoOU4xMP5b0vigLSxdPpNEkScNoffUcQ6oX4CDnJ1j4hqwQmER6vhBBIR83nc5glcS45GWO01vaxDyEUeVFV1fRqmmWpNYZxTqHeRw7ak1DdAO/q4+NhGZ/9vPCYSNNxNW737aE7DPrnjHLKh7kY718+SJzASZ1zCoZQkvftA816vVqtVqtVezgMIU7voasfS7u/ju8jNsYYU0qFJFxfX1vrlsuH5XLVNGsQfSVHJVgQ7fbepUmaZukgPHOsnxmVo7//7e+7/Y4SqrQalaNHw0IJIUKK4EPf94yxEIK1dlSNQhKUVpRSZ9x4XButnbV5nu8gRBQjTOkw1ngHgg3OOb/d7ooiXy5XoOOVpmlRFN77xcMQE4qEUEpDCNPp1HvfHtq2bXfb3SDWRQhjQwdInmdFWYBXQY9KA7BCuN+CD/PJBCQcH3XHaa2tc8H7vMiLvDDWKK1OKgLOubquGGPbzWa72Y5GozzPQd+FPE3cBVITVVXd3LyFff66Wf/+++/GGAgoPv1bllKWRfnqt1dt28LKQZj9408ED5UYY9d1UF5yrs1OCDm0h8V88fvvvy8eHiil3ocsy8pRmaYpyD88fVUI8nMAGlHW2avrK+vsw8PDw+JhtV4Ns0DP9MA449a5EEISQpZnaZaeVKzzPP/1l1/Lotztd5zzqqqEFGfS3ITABClj+7SfTlt4PCdJkmWZc44yaowpygLqvNMkbTYNTLfigkMxkbUWEh1pku7b/XKZr9YrUDr13pdl6Zxr23az2ZxCh8678XgMzXIxRvA1IbkK1ZjOOQj/Z1kOEhInK+qdBwNuna3rerPZbrebrhvKW6CjEZLwzrm8yKHKHWwdfF5rzagsGaV5nq1WqzzPy1GplIL25idZUcqcdUVe5GkOm/Ddbntzc+NDqEaj0xGkVFmW9n3PuUiT9NAdoADv0RaaHjXhjuFaxhir6zpN06NCElFSBR/yPAcP6eQV0SfLesFl54Jzxp1zdVWDxM7hcIDtMaWUEKqUhPKuPC+KskhCsNaSo/c1ZGDadrVa3d7erldrSqmzLkmSPM+DD1KguUb+MighhLrgptNpCL4oi3k9B5EXiMSR974lB32cLM/KcpB6hjxeEkKsO0qJ9yHL0rqunXWQrjj9dDljUqo8y66vr33wSmnoNTPWEkqUUpTRyWRCCCmKYtNsNpsNOQ69N9porUMS0iR1zp2aTR4eHmAkYQgBKpaHNUfCGYet1GQ8gd3jar1qmgby0kIKrbR1dlSOqqoC8cXTRg+6ghOS/PLLL8655cMSBhZ0fQ89iUPnsFKgBJFlGUh2aaPBtlBCtdKQuo8xTiaruq7HdQX+6hNvZ845JKWKohiVo+VyCbq8v/7662azsc4KLqCr6IvAA6jves55kiRFUZRlCYUDJ41MSqlW2gcPoYfu0DnrhiHeT5Y5hDXD9t57D/Ld62YNsV3YklM6FFGHJOR5XuRFmqSg/gtfAZRKQWR2vVrDqEUppeDifDf+J8uATljI82VZBpIT52355L3K2PA/iLcKIaqqCiE5lQu1bdusm8XDYrl8WC2XnHOTJKDNBGPSToKRyEV8n4w0uAJQWZfnxWq1Wq2Wq9UKkr3wRXLGlVZaDzcDbKFP+uyc8TzPGWVd18GPZpDR+xAppfUWBOvzIpdSnkIvlFJlVKGKJCTe+bIsYVp127YwMsRamyRJ8MFYY4zZ7/d5kTXrZrvdNM0G7Bokfk+q0ZRS6xxsX/vYw7SqZtNQQuGVSZKGJDgLg6/ko2sCjQrGmCzNTr7mabYhhDKdG8QkwJt5FEDSWo9GI2vtoT20beu9Tz8suvsilFLvHYmxKIoQwp262263b9++DUkYj8dd1z093cE5h6HckJMHW/PBgukQrgNBIGgcGrRzT4Ov+ghqPYvF4u3bt+v1SghhnSuKsiiK4INQWIuC/C9CKeWCG26UUmVZrlarxWKxfFjCsKVj8I5BKDyAg+a90gqel3CQNE054/t2Dzfp+4z0GYwxbTQ8tkHDAmq8IRyppJJSgoBZXuTr1bppGpADBJsWQgCFWOdcd+iavAHW6zUYZFCReO9FUWKNLYqiKAow1OD5QTwUSgQhiG6tfdTZQSnVVmurwT6v1+vlcrVer/b7FgzpYEWtDSE4P2jbQpbghNYapGL2+/1+vzPWpmmqtLosI21MnuVploKtbtt2NptlWba+vj7VKCklk5AILrxzo1HZ9/3wKDk2tZzvpc/L9iijaZImScI5h6+SCw5WNEkS6DxSSp37ak/5OUG2Hy7dph6aeoZxo30PT21jjHPWueH3xLmgZwNR+74/7A/bzRb0NTebDTxJQdlo6JFGkL8MSgmM8yiKPM/zVbVar9ebzWa73UKUhzPOBZdShmSwS+dmBAJSUkhtTJ4X1trsGHZ8fwpo4qM0SRJKaZbnUDRunTVGDzsrKapRZa2tqgo2YIfuQCKhnDrrwPLAiLt234KyIKwTUilDRwzdUEKhJAQmGI+q0a+//nroDovFYr1eQ4RLaw2luSGEJCRCiPNU58nZ1kqXRQmSN8vlcr/f7/Y7cqx5BOfzZKghgX86jtaaUDImY2vtbrcLIYQkQE31E78XiOdC2rYe14fuMJvNttvt/f39arUaZsHyJ1UXKqVCCJJL6wYF8jzLh63BmcGUUjrrgg9JSNq2headi6p1BmFdJY02eZE3qwbcchhm1vc9DJjURkO6Pk3T4AP7cG4rY0xJBUGEJEngK4Mk+akG6s+XpJRK0gRmg41Go2EsNvBI05wQ2FNTUA5mPEkSKLWAE4Fo3GK+WK1W2+0W9OjKsgwhKKW44Khe8XV8500IZ1xp4qMTnBtrINJDBh+CgtOjtQb56w+qghnVWqdZevIXwdV7dHxGmZKKHoc2gcaslPLkOUHLmfMO4vHQAAaeipJKG62UUlKBIbPRQiGN90FIYY3t+m7QcY3DrDt6zLdzwRllkGyBFcJ7tdJKKs4/65NJIY01Q6o2CX3X97GH4j1YP3SSn1d0v3+vlNCC0vd9d+i00sO8uyffHeBOEUKKopiMJ03T9F3/7t077/10MgVJ7XNdmS8fKiWxj7Bn1uoT3xFYE/irdRZCCVoNsgfb3bZZNzc3NzA8rO/6oixG5aiuKussl18Q0UWQnxsYdMEJ10ZnJNNaH7oDZBHJ0YrC1lcpNdQonnkbWmkSiOkM7OKGLMSHMMoII0qpSCIEucAyD5IHlNA4+BMZzYwxyT4ZrOhxEgycmjEWRQTrAaKMnHGY+SmVpIySc2EtMswohiEC+/0eIpUQYIVg6J8UFkJvDqVUSOm9O4BsT4ycMTDmg21X6uN6QngvYwzaKcHknpIAT/pSKIUZrVmWjcfjZtNsNpv5Yn47u53NZtV9BUNNOedaacooSNqCnSRn873ff1OEvh/vRwmUXiv9ePGD++gGnSSjzVeMBoUrDL8ceCj3XX/awEsYka3V0d0/WyUhu91u+bB89+7d3d3d4mFBCElCUlVVURSnsV4XLQZBLgX2DIwxow04Ift2P5jEOCRg4R6HqP0Hm2RGpZaEEsqo0lpJOehNnMt3g4YEI0orT7zWmoJV+bC6mEuujaaMwsYPZMMopVIqJaU2WkrNOadqkP6GimVo0gYdh9MkhdN0UfBjLbdCCijYJsecp9ZaKw2zYz/p8EH3B/i6xprD4QACQ1DxLpXUSkslwao8choZZ1rp6COo8Gqj4cWX3c6UcM7zIv/tt9/2+xb28/P7+X/+859IIoyPfsphTp4kl9wYo6SSWtJPebmRRMooGHBjBr3hr9DTgo9PPBFSWGsP3aE7HKd8MyqFFFIM1/+jx0QkQ58RjApijEFsEXqFnvJM4YwrpRhlUg2PifipDfQHn5oMYzjAl6Yw+6onTdPc3t6+vXm7aTaMcWjXquoaauNRBfKr+Z4badjEMsa459Bm8KiogJ4Bd+zpN0cpharm04s/GWqijAomuOBRx1PtHz2fgU4JpxBKNLBfPflx7MPBBoIJsGKnOjfG2Ha7fR/1j4SQOMSolDbOgGLqo0rm0wE/d1m44JZbrXWI4fzt5xfkc3cg3KggI3Ra5EUbafAyhRBlWU6vputm/cfvf9zObp1zd3d3y+UykPBEezd4e8cXw739SctLCQWX2nceNtJKKXDTj2NdbmDWdHBhVI7+8fd/1HU9lKfirY/8LwOjhTmFvAp4V4+MBvnImsGfGGNSS6Hed1t8zooO7YWCDzM/Hx2KEsqodXYwj32MfYRy30dGj3PODFNaOe8GPQhKd7vdeXDztJihACeE2A++yOnUX3RBhqil1qDQE2MkPelJD/YH+vE+Z4rhvXEw3vEpp3t8xSiVQgou8iIfT8bNpnn9+vVi8XB7O5vdzeb3c1IQbTTnfLj+Nj4y9V84/tGWfrCkY4GPOQoOa60ll5daSMaZZvqkmvnJh/L5BTz/636/BzHe+/n9w8ND8CFJkunVNC9yYw2OKkReBrhnh8a3cHZz9eRklz55XzPGGGWCC210OPegyHm8aDCq4CmdQpaPDgWFwdC5dq5T+OjUYFeVVtZZUKaglO62u02zgdwmvOu0Z4a2lODDI5P452YK/gq7OGPNkNWEAzBCPjKJ5wcZ7DZjXnhn3SB5SC9zLAEhRVEWXd8vHh7evHnd7tv5Yv7mzRuttfdP7RxkjFFJoc70s17ucfT30SQaaDI6iRk/ndPH54JbZ2Efe5FbDt8UBKCh4sCa99qWX/68R4Nsj8+JJy178Awo1OeTnsBs7bvZ3bubd5vNhnM2KB/XNRQ3oSv91XznBxv8+jnh5MIg0emH++Xjn22/P/cazp+0AMopIx+ckZ6612Ikw+0VYyQw4vzrytie+NE+995v16+HU/vgJ5PJbrvbbrf38/vdbndzc/Pvf/97Op1CzvyLi/zCBznLOzlnQZUHWh+ts1zwru/abXs/v//vf//75s2bpmmklGmWnmtsPt21RZCflZOV+wqj8cS3vDfUn3/Bkwwy+YTr0LUdYwyKevq+B6WMGIcylq/TET35KF9hDy/aM3/2IIxSQp1zVVXtdrvlcjWb3R3a9ubtjTX2l/0vp96cZ5k4whlXUjnr8jynlBZF4YOXUnJxsXv0/uM/eV0gb9H3PShZvH7zulk3UsiQhKqqxuMxtHOjuUZejK/zo8DQUfLY0/vc8Z9lAR9bqpa35+p9EcR7jqmgrzaJ5KvsIfkqm/BJGGNiWe6+AAAHpklEQVTO+dGIjOsalIb7vv/jjz9Agsd7D63aT3Esv7RiwjhTUnnnQTityIdOYC5e+onAKAPJt+7QQXFWkiZDrehff3ZCyNBk2jS3725vb28XiwXnvCjLqqryokjS5OPiJuQivo/Y2E/DYOSA2Mej3PSws/6Rry0Ig5NIQLU/xvj25i18uiRNBBfPU1ZNiZTS+0AI6bq+73sfvHeeUgoiHLPb2evXr1+/eb3f7/Msn0wm11fX06spVCj90FcYQRBCSE/6o8NI+jj8O+VCf+h73BgzKkd918/v5/d3d4eugyGxnPOiLGBYw7NsLyE/k6apkALaL0MShBqqpf7qaxhjhGnhs9ns9evXr//zuuu7kIRqVIGyN8xr+KG/SgR5MWDvPMQU+77v4im8eFHpyv81KKXGGM5ZPR6/evWq7/t1s769vZVSJmkCorPPFXETXBhr0ixljO3bPcgVw6DEl7yA9KhsVxQFNBNppZ13SqkXW0bXdQ8PD+/evfvj7R+z2WzdrKtRVY/H06urosiNMVJI8oM/ar8vWGr1rUDyGUawtof2OM76h4/uGGtqUQsuZrPZ7e3tar1q1s3b/m1VVdvtztmW8mfIfhNCpJKQPCGEnPpAKKWHw2Gz2Swflvf394v5Aozs1dXVZDqp6xpyW99+dgRBvjuUMsYZVPFIJaFF5Xsv6hnQWotcUEpns9nd/d393f16vd5ut5PJZNtsnXMwy+rbTyS4MMbANLKu77TRzrpnOfJT6Pv+cDhsN8Ok2fv5fZZlZV6Ox+NxPR6VIy5QzAJBLoO9LwaWUsiTsuCPC6VUKamUrKrRpvktxvivf/1rNpstHhbz+/l8PldKfXKQ7VecSEpJImEJAxkOa602+oXrYk6V50abPMuts1pq0GmS6uVkF7uuWzfru7u7xXyx2WwgX3V9fT2ZTGAK74ut5GcFM9LfBGMMJrj8cv1L3/VN00wnU++9EILzHzsATyllgllrJ9PJfr+fz+dN01BKnXNQyPdckdFBmw0aVygZRsLGISgLKR1CSZ7leZ5Pp1MfPLzxh768CIIAIOuQZ/l0Ot3t96vVcjq9gl6PHz2NebKi9bhuD+0sm93P7/uu9973se8OXdd1Ij5DOBtaARljspd97IUQXPCXvHQnecuyLGOMZVlCOjqEwMQFU7gQBOGcCyW899Pp9B//7x9Gm+l0Wld1EsKPbhIB59x4PIaiZSmGQQwnK/FcjiUMW2aCxRilGIb+UPrSE54opVLJSKJQApTAQVnpJZfBGZdSZnnWx75tD69e/TadTvI8V0r/BD+n7w5mpL8JzrlzrhyVfd8rpXbb3dXVNehm06fNxPs/CwTSrLVXV1fBh9lsdnd3t9luLWyk+67r+mcZZQIbaXKmX0YphSqmPvba6KqqfPCj0aiqqzRNQwg/fr4fQZABxph1Ns/ztm05581mc319DdM4Xyyn+hdBj6JH0+nUe1/kxc27m2bdBB9iHw+Hw0kx6FtPxCjIqsO/Z2nzfjrQ39R1ndIKpv7AwNskTbz3F42cQRCEUSaFdM5dXV2BFuOoHJWj0vvwo5tEwDknhQw+SClBKsJ597xWizIqlOCRK6IgM/zCVnFYBqWEEkEF5zweJ129/EoYZ0KILMtCCFyIyWRydTWF4RcvuYyfFdxIfxOUUmttnuWccWdd27b1uLbWSinYD16EQ46y6t57COZprbe7bZbnxmhIuT/XWT62KZRSIYXRJssyIUR7aPMsz/IM73wE+cmglGqlffCRRKXVft+WRRFCUFL9BF7jKSIJgxKFFNvNNk3T5x0HdRJJepajfcXZ4QGRZRljrG3bsiyLogBzjbtoBLkIyihMWqrrmhACk7FCCM65n6PnBca7UkqrqoIcu5ACtLWf0yR+SWn4xfgue/gTICCfF/nh0FFChBR5nkPC73st6ScDr+M3AeaAc26sybKs73vrnNZmGC7940MphTHaMDWh6zqjDYz1/kt9XEqp1pozro0OSej7HmZi/TTNkwiCAJRSpRXjTCkdQui6zhgL0bqf42aHhj1KaZ7nxpjD4WC0UUoJKX4OV+aT5lprLYX80bs6EeTlAYUqo82oGllnQfZZSgntG997dc8ApTSSKKTIsgxKaaDm+bnEF5FzGGMhBCll7CJhhFKm9RCkxqv9LNB//vOf33sNCIIgCIIgCIIgCPLDgGJjCIIgCIIgCIIgCHIBP0OVCIIgCIIgCIIgCIK8GLiRRhAEQRAEQRAEQZALwI00giAIgiAIgiAIglwAbqQRBEEQBEEQBEEQ5AJQbAxBEARBEARBEARBLgAz0giCIAiCIAiCIAhyAbiRRhAEQRAEQRAEQZALwI00giAIgiAIgiAIglwAbqQRBEEQBEEQBEEQ5AJwI40gCIIgCIIgCIIgF4Cq3QiCIAiCIAiCIAhyAZiRRhAEQRAEQRAEQZALwIw0giAIgiAIgiAIglwAZqQRBEEQBEEQBEEQ5AJwI40gCIIgCIIgCIIgF4AbaQRBEARBEARBEAS5ANxIIwiCIAiCIAiCIMgFoNgYgiAIgiAIgiAIglwAZqQRBEEQBEEQBEEQ5AJwI40gCIIgCIIgCIIgF4AbaQRBEARBEARBEAS5gP8Phs9yjyaWhhMAAAAASUVORK5CYII=)"
      ],
      "metadata": {
        "id": "7Of4vKFLUjtZ"
      }
    },
    {
      "cell_type": "markdown",
      "source": [
        "위 이미지를 직접 구현하면 다음과 같다.\n",
        "\n",
        "- 1D 어레이"
      ],
      "metadata": {
        "id": "Wc5HrTQdck_D"
      }
    },
    {
      "cell_type": "code",
      "source": [
        "np.array([7,2,9,10])"
      ],
      "metadata": {
        "colab": {
          "base_uri": "https://localhost:8080/"
        },
        "id": "NNofUx2wcn3w",
        "outputId": "b8876975-24f2-4564-ae3c-56e7673e7b00"
      },
      "execution_count": null,
      "outputs": [
        {
          "output_type": "execute_result",
          "data": {
            "text/plain": [
              "array([ 7,  2,  9, 10])"
            ]
          },
          "metadata": {},
          "execution_count": 15
        }
      ]
    },
    {
      "cell_type": "markdown",
      "source": [
        "- 2D 어레이"
      ],
      "metadata": {
        "id": "JtJlmj9Ocqul"
      }
    },
    {
      "cell_type": "code",
      "source": [
        "np.array([[5.2, 3.0, 4.5], \n",
        "          [9.1, 0.1, 0.3]])"
      ],
      "metadata": {
        "colab": {
          "base_uri": "https://localhost:8080/"
        },
        "id": "1coMduLmcsIS",
        "outputId": "4fa00002-0259-40e8-c4f7-a3da3a20774e"
      },
      "execution_count": null,
      "outputs": [
        {
          "output_type": "execute_result",
          "data": {
            "text/plain": [
              "array([[5.2, 3. , 4.5],\n",
              "       [9.1, 0.1, 0.3]])"
            ]
          },
          "metadata": {},
          "execution_count": 24
        }
      ]
    },
    {
      "cell_type": "markdown",
      "source": [
        "- 3D 어레이"
      ],
      "metadata": {
        "id": "LeuIep7Ac-ed"
      }
    },
    {
      "cell_type": "code",
      "source": [
        "np.array([[[1,2],\n",
        "           [4,3],\n",
        "           [7,4]],\n",
        "          [[2,3],\n",
        "           [9,10],\n",
        "           [7,5]],\n",
        "          [[1,2],\n",
        "           [3,4],\n",
        "           [0,2]],\n",
        "          [[9,11],\n",
        "           [6,5],\n",
        "           [9,8]]])"
      ],
      "metadata": {
        "colab": {
          "base_uri": "https://localhost:8080/"
        },
        "id": "5Ec9yicLc_0U",
        "outputId": "d88bff75-4392-4005-db34-9fd5d88229b1"
      },
      "execution_count": null,
      "outputs": [
        {
          "output_type": "execute_result",
          "data": {
            "text/plain": [
              "array([[[ 1,  2],\n",
              "        [ 4,  3],\n",
              "        [ 7,  4]],\n",
              "\n",
              "       [[ 2,  3],\n",
              "        [ 9, 10],\n",
              "        [ 7,  5]],\n",
              "\n",
              "       [[ 1,  2],\n",
              "        [ 3,  4],\n",
              "        [ 0,  2]],\n",
              "\n",
              "       [[ 9, 11],\n",
              "        [ 6,  5],\n",
              "        [ 9,  8]]])"
            ]
          },
          "metadata": {},
          "execution_count": 22
        }
      ]
    },
    {
      "cell_type": "markdown",
      "source": [
        "**어레이 객체 생성 함수**  \n",
        "`zeros()` 함수  \n",
        "0으로 이루어진 어레이를 생성한다. 1차원인 경우 정수를 인자로 사용한다."
      ],
      "metadata": {
        "id": "0ZNQfyWOdgWk"
      }
    },
    {
      "cell_type": "code",
      "source": [
        "np.zeros(10)"
      ],
      "metadata": {
        "colab": {
          "base_uri": "https://localhost:8080/"
        },
        "id": "uMTEMC2Ndm-W",
        "outputId": "f02a6ab8-e63f-497b-c089-da93f8e27b4d"
      },
      "execution_count": null,
      "outputs": [
        {
          "output_type": "execute_result",
          "data": {
            "text/plain": [
              "array([0., 0., 0., 0., 0., 0., 0., 0., 0., 0.])"
            ]
          },
          "metadata": {},
          "execution_count": 25
        }
      ]
    },
    {
      "cell_type": "markdown",
      "source": [
        "2차원부터는 정수들의 튜플로 모양을 지정한다."
      ],
      "metadata": {
        "id": "SOihzyWxdpB3"
      }
    },
    {
      "cell_type": "code",
      "source": [
        "np.zeros((3,6))"
      ],
      "metadata": {
        "colab": {
          "base_uri": "https://localhost:8080/"
        },
        "id": "Pg7CgZNxdqkl",
        "outputId": "9210df79-05e3-4ee4-aa93-d90429a7e56d"
      },
      "execution_count": null,
      "outputs": [
        {
          "output_type": "execute_result",
          "data": {
            "text/plain": [
              "array([[0., 0., 0., 0., 0., 0.],\n",
              "       [0., 0., 0., 0., 0., 0.],\n",
              "       [0., 0., 0., 0., 0., 0.]])"
            ]
          },
          "metadata": {},
          "execution_count": 26
        }
      ]
    },
    {
      "cell_type": "code",
      "source": [
        "np.zeros((4,3,2))"
      ],
      "metadata": {
        "colab": {
          "base_uri": "https://localhost:8080/"
        },
        "id": "XniTdDQodsxg",
        "outputId": "38b95e48-9e4d-4fea-b683-b3ec3d687b00"
      },
      "execution_count": null,
      "outputs": [
        {
          "output_type": "execute_result",
          "data": {
            "text/plain": [
              "array([[[0., 0.],\n",
              "        [0., 0.],\n",
              "        [0., 0.]],\n",
              "\n",
              "       [[0., 0.],\n",
              "        [0., 0.],\n",
              "        [0., 0.]],\n",
              "\n",
              "       [[0., 0.],\n",
              "        [0., 0.],\n",
              "        [0., 0.]],\n",
              "\n",
              "       [[0., 0.],\n",
              "        [0., 0.],\n",
              "        [0., 0.]]])"
            ]
          },
          "metadata": {},
          "execution_count": 27
        }
      ]
    },
    {
      "cell_type": "markdown",
      "source": [
        "`empty()` 함수  \n",
        "지정된 모양의 어레이를 생성한다. 항목은 초기화하지 않는다. 임의의 값이 보일 수 있지만 실제로는 어떤 항목도 임의로 지정된 것이 아니다."
      ],
      "metadata": {
        "id": "gXQXsC2-dulE"
      }
    },
    {
      "cell_type": "code",
      "source": [
        "np.empty((2,3,2))"
      ],
      "metadata": {
        "colab": {
          "base_uri": "https://localhost:8080/"
        },
        "id": "BiQo7or8d12y",
        "outputId": "bc9c52fd-3884-4bd1-b46f-0d8af10ae685"
      },
      "execution_count": null,
      "outputs": [
        {
          "output_type": "execute_result",
          "data": {
            "text/plain": [
              "array([[[0., 0.],\n",
              "        [0., 0.],\n",
              "        [0., 0.]],\n",
              "\n",
              "       [[0., 0.],\n",
              "        [0., 0.],\n",
              "        [0., 0.]]])"
            ]
          },
          "metadata": {},
          "execution_count": 28
        }
      ]
    },
    {
      "cell_type": "code",
      "source": [
        "np.empty((2,3,2)).dtype"
      ],
      "metadata": {
        "colab": {
          "base_uri": "https://localhost:8080/"
        },
        "id": "Xyas0Kjrd40g",
        "outputId": "be3dc3c2-42a4-4023-8b9a-c27af1a30477"
      },
      "execution_count": null,
      "outputs": [
        {
          "output_type": "execute_result",
          "data": {
            "text/plain": [
              "dtype('float64')"
            ]
          },
          "metadata": {},
          "execution_count": 29
        }
      ]
    },
    {
      "cell_type": "markdown",
      "source": [
        "`arange()`함수  \n",
        "`range()` 함수와 유사하게 작동되며 부동소수점 스텝도 지원한다."
      ],
      "metadata": {
        "id": "5AdMv7-kd4Qt"
      }
    },
    {
      "cell_type": "code",
      "source": [
        "np.arange(15)"
      ],
      "metadata": {
        "colab": {
          "base_uri": "https://localhost:8080/"
        },
        "id": "Wv1jyqfJeBSb",
        "outputId": "d38721ee-8666-4660-addc-2cf816844ed2"
      },
      "execution_count": null,
      "outputs": [
        {
          "output_type": "execute_result",
          "data": {
            "text/plain": [
              "array([ 0,  1,  2,  3,  4,  5,  6,  7,  8,  9, 10, 11, 12, 13, 14])"
            ]
          },
          "metadata": {},
          "execution_count": 30
        }
      ]
    },
    {
      "cell_type": "code",
      "source": [
        "np.arange(0, 1, 0.1)"
      ],
      "metadata": {
        "colab": {
          "base_uri": "https://localhost:8080/"
        },
        "id": "iCUie-AteDBV",
        "outputId": "18f682d9-a0f1-46e6-9a6c-c2f59dc4aeac"
      },
      "execution_count": null,
      "outputs": [
        {
          "output_type": "execute_result",
          "data": {
            "text/plain": [
              "array([0. , 0.1, 0.2, 0.3, 0.4, 0.5, 0.6, 0.7, 0.8, 0.9])"
            ]
          },
          "metadata": {},
          "execution_count": 32
        }
      ]
    },
    {
      "cell_type": "markdown",
      "source": [
        "## 4.3. dtype : 어레이 항목의 자료형\n",
        "`dtype` 속성은 어레이 항목의 자료형을 담고 있으며, 파이썬 표준 라이브러리에서 제공하는 `int`, `float`, `str`, `bool` 등을 보다 세분화시킨 자료형을 제공한다."
      ],
      "metadata": {
        "id": "MOxlFzY3eF0j"
      }
    },
    {
      "cell_type": "markdown",
      "source": [
        "### 4.3.1. 기본 `dtype`\n",
        "여기서는 세분화된 자료형을 일일이 설명하기 보다는 예제를 이용하여 세분화된 자료형의 형식을 살펴본다. 자료형 세분화는 주로 자료형의 객체가 사용하는 메모리 용량을 제한하는 형식으로 이루어진다. 이를 통해 보다 효율적이고 빠른 메모리 계산이 가능해졌다."
      ],
      "metadata": {
        "id": "wDhHhCk0eTVH"
      }
    },
    {
      "cell_type": "markdown",
      "source": [
        "`float64` 자료형"
      ],
      "metadata": {
        "id": "UqvsVUO1ehQT"
      }
    },
    {
      "cell_type": "code",
      "source": [
        "arr1 = np.array([1,2,3], dtype=np.float64)\n",
        "arr1.dtype"
      ],
      "metadata": {
        "colab": {
          "base_uri": "https://localhost:8080/"
        },
        "id": "C1NtpGDne41s",
        "outputId": "0d08937d-3e9c-4145-8144-92b4b34ea32d"
      },
      "execution_count": null,
      "outputs": [
        {
          "output_type": "execute_result",
          "data": {
            "text/plain": [
              "dtype('float64')"
            ]
          },
          "metadata": {},
          "execution_count": 35
        }
      ]
    },
    {
      "cell_type": "code",
      "source": [
        "arr1 = np.array([1,2,3], dtype='f8')\n",
        "arr1.dtype"
      ],
      "metadata": {
        "colab": {
          "base_uri": "https://localhost:8080/"
        },
        "id": "ugp8q4nie_Em",
        "outputId": "a7a2e362-d9d0-4eaf-875b-98cba7da4d4c"
      },
      "execution_count": null,
      "outputs": [
        {
          "output_type": "execute_result",
          "data": {
            "text/plain": [
              "dtype('float64')"
            ]
          },
          "metadata": {},
          "execution_count": 36
        }
      ]
    },
    {
      "cell_type": "markdown",
      "source": [
        "`int32` 자료형"
      ],
      "metadata": {
        "id": "-de_RdQqfEWy"
      }
    },
    {
      "cell_type": "code",
      "source": [
        "arr2 = np.array([1,2,3], dtype=np.int32)\n",
        "arr2"
      ],
      "metadata": {
        "colab": {
          "base_uri": "https://localhost:8080/"
        },
        "id": "v0N7DWkgfFb3",
        "outputId": "8c78fec5-ec1c-4750-fc60-2b2630aee636"
      },
      "execution_count": null,
      "outputs": [
        {
          "output_type": "execute_result",
          "data": {
            "text/plain": [
              "array([1, 2, 3], dtype=int32)"
            ]
          },
          "metadata": {},
          "execution_count": 37
        }
      ]
    },
    {
      "cell_type": "code",
      "source": [
        "arr2 = np.array([1,2,3], dtype='i4')\n",
        "arr2"
      ],
      "metadata": {
        "colab": {
          "base_uri": "https://localhost:8080/"
        },
        "id": "7Wn_c4KofJ-j",
        "outputId": "afb39715-1a0c-4ad5-d5fe-c1c54110fa3c"
      },
      "execution_count": null,
      "outputs": [
        {
          "output_type": "execute_result",
          "data": {
            "text/plain": [
              "array([1, 2, 3], dtype=int32)"
            ]
          },
          "metadata": {},
          "execution_count": 39
        }
      ]
    },
    {
      "cell_type": "markdown",
      "source": [
        "`astype()` 메서드  \n",
        "`astype()` 메서드를 이용해 dtype을 변경할 수 있다. 즉, 항목의 자료형을 강제로 변환시킨다.\n",
        "\n",
        "- `int` 자료형을 `float` 자료형으로 형변환하기"
      ],
      "metadata": {
        "id": "J5tJGs6mfOta"
      }
    },
    {
      "cell_type": "code",
      "source": [
        "arr = np.array([1,2,3,4,5])\n",
        "arr.dtype"
      ],
      "metadata": {
        "colab": {
          "base_uri": "https://localhost:8080/"
        },
        "id": "tcaYEPkDfZtt",
        "outputId": "c5320d55-5540-4321-f7f6-71da4bf02ebf"
      },
      "execution_count": null,
      "outputs": [
        {
          "output_type": "execute_result",
          "data": {
            "text/plain": [
              "dtype('int64')"
            ]
          },
          "metadata": {},
          "execution_count": 40
        }
      ]
    },
    {
      "cell_type": "code",
      "source": [
        "float_arr = arr.astype(np.float64)\n",
        "float_arr.dtype"
      ],
      "metadata": {
        "colab": {
          "base_uri": "https://localhost:8080/"
        },
        "id": "bd3TjKcZfgWF",
        "outputId": "88dbbe23-13dd-4dda-81ed-a1253dcb7424"
      },
      "execution_count": null,
      "outputs": [
        {
          "output_type": "execute_result",
          "data": {
            "text/plain": [
              "dtype('float64')"
            ]
          },
          "metadata": {},
          "execution_count": 43
        }
      ]
    },
    {
      "cell_type": "markdown",
      "source": [
        "`float` 자료형을 `int` 자료형으로 형변환하기\n",
        "\n",
        "- 소수점 이하는 버림"
      ],
      "metadata": {
        "id": "rCIUCsSifp6g"
      }
    },
    {
      "cell_type": "code",
      "source": [
        "arr = np.array([1.1, 1.2, 1.3, 1.4, 1.5])\n",
        "arr.dtype"
      ],
      "metadata": {
        "colab": {
          "base_uri": "https://localhost:8080/"
        },
        "id": "aAk2jfGtfuMm",
        "outputId": "72bcb7f1-9210-44d6-9e15-d56f98f56f4e"
      },
      "execution_count": null,
      "outputs": [
        {
          "output_type": "execute_result",
          "data": {
            "text/plain": [
              "dtype('float64')"
            ]
          },
          "metadata": {},
          "execution_count": 44
        }
      ]
    },
    {
      "cell_type": "code",
      "source": [
        "int_arr = arr.astype(np.int64)\n",
        "int_arr.dtype"
      ],
      "metadata": {
        "colab": {
          "base_uri": "https://localhost:8080/"
        },
        "id": "3BlH1kY5f0Sq",
        "outputId": "9acb10f2-a83b-4e3f-f05e-c77084e322f8"
      },
      "execution_count": null,
      "outputs": [
        {
          "output_type": "execute_result",
          "data": {
            "text/plain": [
              "dtype('int64')"
            ]
          },
          "metadata": {},
          "execution_count": 45
        }
      ]
    },
    {
      "cell_type": "markdown",
      "source": [
        "- 숫자 형식의 문자열을 숫자로 형변환하기"
      ],
      "metadata": {
        "id": "otLZH3Zof-Rw"
      }
    },
    {
      "cell_type": "code",
      "source": [
        "numeric_strings = np.array(['1.23', '-9.3', '42'], dtype=np.string_)\n",
        "numeric_strings.dtype"
      ],
      "metadata": {
        "colab": {
          "base_uri": "https://localhost:8080/"
        },
        "id": "agnd8b9GgAFo",
        "outputId": "9c4fe590-3cc1-49b0-ab55-3c4d78f18319"
      },
      "execution_count": null,
      "outputs": [
        {
          "output_type": "execute_result",
          "data": {
            "text/plain": [
              "dtype('S4')"
            ]
          },
          "metadata": {},
          "execution_count": 50
        }
      ]
    },
    {
      "cell_type": "code",
      "source": [
        "numeric_strings.astype(float)"
      ],
      "metadata": {
        "colab": {
          "base_uri": "https://localhost:8080/"
        },
        "id": "WpmPurjSgM2Q",
        "outputId": "b8e279c6-3545-497c-de43-9fc36fb1afbc"
      },
      "execution_count": null,
      "outputs": [
        {
          "output_type": "execute_result",
          "data": {
            "text/plain": [
              "array([ 1.23, -9.3 , 42.  ])"
            ]
          },
          "metadata": {},
          "execution_count": 51
        }
      ]
    },
    {
      "cell_type": "markdown",
      "source": [
        "**주의사항** 문자열 자료형의 크기는 넘파이가 알아서 임의로 정하며, 부동소수점으로 형변환하면 지정된 정밀도에 따라 소수점 이하를 자른다."
      ],
      "metadata": {
        "id": "o9BDKOF7gSUm"
      }
    },
    {
      "cell_type": "code",
      "source": [
        "numeric_string2 = np.array(['1.234567', '-9.14234523', '42'], dtype=np.string_)\n",
        "numeric_string2.dtype"
      ],
      "metadata": {
        "colab": {
          "base_uri": "https://localhost:8080/"
        },
        "id": "5eLh4FKYg_-b",
        "outputId": "80f6b966-067f-4ad9-d28f-f929bd6d1683"
      },
      "execution_count": null,
      "outputs": [
        {
          "output_type": "execute_result",
          "data": {
            "text/plain": [
              "dtype('S11')"
            ]
          },
          "metadata": {},
          "execution_count": 62
        }
      ]
    },
    {
      "cell_type": "markdown",
      "source": [
        "앞서 부동소수점 정밀도를 4로 지정했기 때문에 어레이 항목은 모두 소수점 이하 네 자리까지만 보여준다."
      ],
      "metadata": {
        "id": "ZGggq-ymhQQ-"
      }
    },
    {
      "cell_type": "code",
      "source": [
        "np.set_printoptions(precision=4, suppress=True)\n",
        "numeric_string2.astype(float)"
      ],
      "metadata": {
        "colab": {
          "base_uri": "https://localhost:8080/"
        },
        "id": "46TjpVgLhe5T",
        "outputId": "9ad575cb-5e4e-4676-c782-40578e4ff3fe"
      },
      "execution_count": null,
      "outputs": [
        {
          "output_type": "execute_result",
          "data": {
            "text/plain": [
              "array([ 1.2346, -9.1423, 42.    ])"
            ]
          },
          "metadata": {},
          "execution_count": 63
        }
      ]
    },
    {
      "cell_type": "markdown",
      "source": [
        "부동소수점 정밀도를 변경하면 그에 따라 다르게 결정된다."
      ],
      "metadata": {
        "id": "b1VBVjROh1Yx"
      }
    },
    {
      "cell_type": "code",
      "source": [
        "np.set_printoptions(precision=6, suppress=True)\n",
        "numeric_string2.astype(float)"
      ],
      "metadata": {
        "colab": {
          "base_uri": "https://localhost:8080/"
        },
        "id": "KtV6geFBh4LR",
        "outputId": "e931d879-d0a4-499f-f7f9-0c89802bbcd4"
      },
      "execution_count": null,
      "outputs": [
        {
          "output_type": "execute_result",
          "data": {
            "text/plain": [
              "array([ 1.234567, -9.142345, 42.      ])"
            ]
          },
          "metadata": {},
          "execution_count": 64
        }
      ]
    },
    {
      "cell_type": "markdown",
      "source": [
        "`astype()` 메서드의 인자로 다른 배열의 `dtype` 정보를 이용할 수도 있다."
      ],
      "metadata": {
        "id": "2Rs-EoTeiEhV"
      }
    },
    {
      "cell_type": "code",
      "source": [
        "int_array = np.arange(10)\n",
        "int_array.dtype"
      ],
      "metadata": {
        "colab": {
          "base_uri": "https://localhost:8080/"
        },
        "id": "MJwMoXTqv_-y",
        "outputId": "c25409ea-bef8-4a79-db17-f7105aed74bb"
      },
      "execution_count": 65,
      "outputs": [
        {
          "output_type": "execute_result",
          "data": {
            "text/plain": [
              "dtype('int64')"
            ]
          },
          "metadata": {},
          "execution_count": 65
        }
      ]
    },
    {
      "cell_type": "code",
      "source": [
        "calibers = np.array([.22, .270, .357, .380, .44, .50], dtype=np.float64)"
      ],
      "metadata": {
        "id": "B8fR1hwewDQY"
      },
      "execution_count": 67,
      "outputs": []
    },
    {
      "cell_type": "code",
      "source": [
        "int_array.astype(calibers.dtype)"
      ],
      "metadata": {
        "colab": {
          "base_uri": "https://localhost:8080/"
        },
        "id": "7g-PezVEwP6N",
        "outputId": "4fbeddf8-ba53-4130-cf23-583ece0ec180"
      },
      "execution_count": 68,
      "outputs": [
        {
          "output_type": "execute_result",
          "data": {
            "text/plain": [
              "array([0., 1., 2., 3., 4., 5., 6., 7., 8., 9.])"
            ]
          },
          "metadata": {},
          "execution_count": 68
        }
      ]
    },
    {
      "cell_type": "markdown",
      "source": [
        "자료형 코드를 이용하여 `dtype`을 지정할 수 있다."
      ],
      "metadata": {
        "id": "aFWdvWVEyKt3"
      }
    },
    {
      "cell_type": "code",
      "source": [
        "empty_uint32 = np.empty(8, dtype='u4')\n",
        "empty_uint32.dtype"
      ],
      "metadata": {
        "colab": {
          "base_uri": "https://localhost:8080/"
        },
        "id": "5mDQHvOyyN4f",
        "outputId": "e80f1ea3-1acf-4dc1-a54a-a365da1a175b"
      },
      "execution_count": 72,
      "outputs": [
        {
          "output_type": "execute_result",
          "data": {
            "text/plain": [
              "dtype('uint32')"
            ]
          },
          "metadata": {},
          "execution_count": 72
        }
      ]
    },
    {
      "cell_type": "markdown",
      "source": [
        "### 4.3.2 사용자 정의 `dtype`\n",
        "보다 복잡한 구조의 자료형을 `np.dtype()` 함수를 이용하여 정의할 수 있다. 예를 들어 최대 16글자로 이루어진 이름과 세 개의 점수를 담은 튜플로 이루어진 튜플의 자료형은 다음과 같이 정의한다."
      ],
      "metadata": {
        "id": "Nwu9uafq0bAj"
      }
    },
    {
      "cell_type": "code",
      "source": [
        "dt = np.dtype([('name', np.unicode_, 16), ('grades', np.float64, 3)])"
      ],
      "metadata": {
        "id": "lBFa9QVj0mZz"
      },
      "execution_count": 74,
      "outputs": []
    },
    {
      "cell_type": "code",
      "source": [
        "x = np.array([('사라', (60, 70.6, 88.5)), ('존', (80.3, 77.9, 91))], dtype=dt)"
      ],
      "metadata": {
        "id": "yHCxcZtK02vO"
      },
      "execution_count": 76,
      "outputs": []
    },
    {
      "cell_type": "code",
      "source": [
        "x.dtype"
      ],
      "metadata": {
        "colab": {
          "base_uri": "https://localhost:8080/"
        },
        "id": "CzXYwJ2T1FL-",
        "outputId": "97236ef8-f31f-4b39-bc3b-c995fdcfbdc8"
      },
      "execution_count": 77,
      "outputs": [
        {
          "output_type": "execute_result",
          "data": {
            "text/plain": [
              "dtype([('name', '<U16'), ('grades', '<f8', (3,))])"
            ]
          },
          "metadata": {},
          "execution_count": 77
        }
      ]
    },
    {
      "cell_type": "code",
      "source": [
        "x[0]"
      ],
      "metadata": {
        "colab": {
          "base_uri": "https://localhost:8080/"
        },
        "id": "IdNtEpJW15hy",
        "outputId": "8fc20f5d-cf0f-44d5-dc71-2a21e4d7b559"
      },
      "execution_count": 78,
      "outputs": [
        {
          "output_type": "execute_result",
          "data": {
            "text/plain": [
              "('사라', [60. , 70.6, 88.5])"
            ]
          },
          "metadata": {},
          "execution_count": 78
        }
      ]
    },
    {
      "cell_type": "code",
      "source": [
        "x[1]"
      ],
      "metadata": {
        "colab": {
          "base_uri": "https://localhost:8080/"
        },
        "id": "wDxGpwNO16wH",
        "outputId": "9b7c4f2d-936a-4bcd-b893-5efd6623d83e"
      },
      "execution_count": 79,
      "outputs": [
        {
          "output_type": "execute_result",
          "data": {
            "text/plain": [
              "('존', [80.3, 77.9, 91. ])"
            ]
          },
          "metadata": {},
          "execution_count": 79
        }
      ]
    },
    {
      "cell_type": "code",
      "source": [
        "x[0]['name']"
      ],
      "metadata": {
        "colab": {
          "base_uri": "https://localhost:8080/",
          "height": 36
        },
        "id": "pW_8Kif717rl",
        "outputId": "6ee25fd1-ea8c-47a4-89cf-2610f917967b"
      },
      "execution_count": 82,
      "outputs": [
        {
          "output_type": "execute_result",
          "data": {
            "text/plain": [
              "'사라'"
            ],
            "application/vnd.google.colaboratory.intrinsic+json": {
              "type": "string"
            }
          },
          "metadata": {},
          "execution_count": 82
        }
      ]
    },
    {
      "cell_type": "code",
      "source": [
        "x[0]['grades']"
      ],
      "metadata": {
        "colab": {
          "base_uri": "https://localhost:8080/"
        },
        "id": "idPizGeg2BHX",
        "outputId": "5e824bef-0ac1-484b-cf7b-b846b788d673"
      },
      "execution_count": 83,
      "outputs": [
        {
          "output_type": "execute_result",
          "data": {
            "text/plain": [
              "array([60. , 70.6, 88.5])"
            ]
          },
          "metadata": {},
          "execution_count": 83
        }
      ]
    },
    {
      "cell_type": "code",
      "source": [
        "type(x[1])"
      ],
      "metadata": {
        "colab": {
          "base_uri": "https://localhost:8080/"
        },
        "id": "YXjfPqOd2DtG",
        "outputId": "65a72d63-b2c4-494c-ecb9-0960246bd751"
      },
      "execution_count": 84,
      "outputs": [
        {
          "output_type": "execute_result",
          "data": {
            "text/plain": [
              "numpy.void"
            ]
          },
          "metadata": {},
          "execution_count": 84
        }
      ]
    },
    {
      "cell_type": "code",
      "source": [
        "type(x[1]['name'])"
      ],
      "metadata": {
        "colab": {
          "base_uri": "https://localhost:8080/"
        },
        "id": "C2DVzfj62GD6",
        "outputId": "3c36ceea-4d2c-47e2-ae02-4fac2c0ad021"
      },
      "execution_count": 85,
      "outputs": [
        {
          "output_type": "execute_result",
          "data": {
            "text/plain": [
              "numpy.str_"
            ]
          },
          "metadata": {},
          "execution_count": 85
        }
      ]
    },
    {
      "cell_type": "code",
      "source": [
        "type(x[1]['grades'])"
      ],
      "metadata": {
        "colab": {
          "base_uri": "https://localhost:8080/"
        },
        "id": "7NOhqq6F2H9h",
        "outputId": "79fa7349-b3ad-4af9-fc14-480eb4ef8575"
      },
      "execution_count": 86,
      "outputs": [
        {
          "output_type": "execute_result",
          "data": {
            "text/plain": [
              "numpy.ndarray"
            ]
          },
          "metadata": {},
          "execution_count": 86
        }
      ]
    },
    {
      "cell_type": "markdown",
      "source": [
        "머신러닝과 딥러닝의 점수로 이루어진 어레이의 자료형은 보다 간단하게 정의할 수 있다."
      ],
      "metadata": {
        "id": "EXH6Kyo12gkC"
      }
    },
    {
      "cell_type": "code",
      "source": [
        "dt = np.dtype([('ML', np.int32), ('DL', np.int32)])"
      ],
      "metadata": {
        "id": "YyN0OXB02kz2"
      },
      "execution_count": 87,
      "outputs": []
    },
    {
      "cell_type": "code",
      "source": [
        "x = np.array([(60, 88), (80, 77)], dtype=dt)"
      ],
      "metadata": {
        "id": "zaMkmXOT2rNh"
      },
      "execution_count": 88,
      "outputs": []
    },
    {
      "cell_type": "code",
      "source": [
        "x.dtype"
      ],
      "metadata": {
        "colab": {
          "base_uri": "https://localhost:8080/"
        },
        "id": "2vkScDqo2xpQ",
        "outputId": "0d7acf58-36c4-4188-da5d-e00571a67988"
      },
      "execution_count": 89,
      "outputs": [
        {
          "output_type": "execute_result",
          "data": {
            "text/plain": [
              "dtype([('ML', '<i4'), ('DL', '<i4')])"
            ]
          },
          "metadata": {},
          "execution_count": 89
        }
      ]
    },
    {
      "cell_type": "code",
      "source": [
        "x[1]"
      ],
      "metadata": {
        "colab": {
          "base_uri": "https://localhost:8080/"
        },
        "id": "v5xIvzy-2zad",
        "outputId": "3e55543f-1678-49a3-fbc0-72905e7bbf9c"
      },
      "execution_count": 90,
      "outputs": [
        {
          "output_type": "execute_result",
          "data": {
            "text/plain": [
              "(80, 77)"
            ]
          },
          "metadata": {},
          "execution_count": 90
        }
      ]
    },
    {
      "cell_type": "code",
      "source": [
        "x[1]['ML']"
      ],
      "metadata": {
        "colab": {
          "base_uri": "https://localhost:8080/"
        },
        "id": "dntcR6SG20M1",
        "outputId": "10205de7-31e8-40a7-a8a6-ff51f7755fa0"
      },
      "execution_count": 91,
      "outputs": [
        {
          "output_type": "execute_result",
          "data": {
            "text/plain": [
              "80"
            ]
          },
          "metadata": {},
          "execution_count": 91
        }
      ]
    },
    {
      "cell_type": "code",
      "source": [
        "x[1]['DL']"
      ],
      "metadata": {
        "colab": {
          "base_uri": "https://localhost:8080/"
        },
        "id": "y48lbWF222IE",
        "outputId": "83ddea49-cca6-4aa3-c868-a88a69e30992"
      },
      "execution_count": 92,
      "outputs": [
        {
          "output_type": "execute_result",
          "data": {
            "text/plain": [
              "77"
            ]
          },
          "metadata": {},
          "execution_count": 92
        }
      ]
    },
    {
      "cell_type": "markdown",
      "source": [
        "# 4.4 어레이 연산\n",
        "넘파이 어레이 연산은 기본적으로 항목별로 이루어진다. 즉 지정된 연산을 동일한 위치의 항목끼리 실행하여 새로운, 동일한 모양의 어레이를 생성한다."
      ],
      "metadata": {
        "id": "IFjTuJXw4zpF"
      }
    },
    {
      "cell_type": "code",
      "source": [
        "arr = np.array([[1.,2.,3.],[4., 5., 6.]])\n",
        "arr"
      ],
      "metadata": {
        "colab": {
          "base_uri": "https://localhost:8080/"
        },
        "id": "Eq8sZf2h47fl",
        "outputId": "af63e35f-2c19-4781-e37f-3742fa72cee4"
      },
      "execution_count": 93,
      "outputs": [
        {
          "output_type": "execute_result",
          "data": {
            "text/plain": [
              "array([[1., 2., 3.],\n",
              "       [4., 5., 6.]])"
            ]
          },
          "metadata": {},
          "execution_count": 93
        }
      ]
    },
    {
      "cell_type": "code",
      "source": [
        "arr2 = np.array([[3., 4., 1.], [7., 2., 12.]])\n",
        "arr2"
      ],
      "metadata": {
        "colab": {
          "base_uri": "https://localhost:8080/"
        },
        "id": "SS8uio3p5BkI",
        "outputId": "1f916538-af79-4e21-c1e4-542679f10ccb"
      },
      "execution_count": 95,
      "outputs": [
        {
          "output_type": "execute_result",
          "data": {
            "text/plain": [
              "array([[ 3.,  4.,  1.],\n",
              "       [ 7.,  2., 12.]])"
            ]
          },
          "metadata": {},
          "execution_count": 95
        }
      ]
    },
    {
      "cell_type": "markdown",
      "source": [
        "덧셈"
      ],
      "metadata": {
        "id": "W9W0BkFX5KJS"
      }
    },
    {
      "cell_type": "code",
      "source": [
        "arr + arr2"
      ],
      "metadata": {
        "colab": {
          "base_uri": "https://localhost:8080/"
        },
        "id": "Fupa2RQo5K1m",
        "outputId": "a2ec720e-a60b-4833-aef9-a83cc149b881"
      },
      "execution_count": 96,
      "outputs": [
        {
          "output_type": "execute_result",
          "data": {
            "text/plain": [
              "array([[ 4.,  6.,  4.],\n",
              "       [11.,  7., 18.]])"
            ]
          },
          "metadata": {},
          "execution_count": 96
        }
      ]
    },
    {
      "cell_type": "markdown",
      "source": [
        "곱셈"
      ],
      "metadata": {
        "id": "mYwT9htm5RqX"
      }
    },
    {
      "cell_type": "code",
      "source": [
        "arr * 2.4"
      ],
      "metadata": {
        "colab": {
          "base_uri": "https://localhost:8080/"
        },
        "id": "0FfR6Tca5SY5",
        "outputId": "734f6ae7-f0f5-46b6-9321-cbd09db3b6c0"
      },
      "execution_count": 97,
      "outputs": [
        {
          "output_type": "execute_result",
          "data": {
            "text/plain": [
              "array([[ 2.4,  4.8,  7.2],\n",
              "       [ 9.6, 12. , 14.4]])"
            ]
          },
          "metadata": {},
          "execution_count": 97
        }
      ]
    },
    {
      "cell_type": "markdown",
      "source": [
        "숫자와의 연산은 모든 항목에 동일한 값을 사용한다."
      ],
      "metadata": {
        "id": "TrQOZL7q5OO4"
      }
    },
    {
      "cell_type": "markdown",
      "source": [
        "뺄셈"
      ],
      "metadata": {
        "id": "7vrhyHgi5UPf"
      }
    },
    {
      "cell_type": "code",
      "source": [
        "arr - arr2"
      ],
      "metadata": {
        "colab": {
          "base_uri": "https://localhost:8080/"
        },
        "id": "gGIM9l045U7c",
        "outputId": "6892c5ae-0213-48b4-896a-673f18d9dd9a"
      },
      "execution_count": 98,
      "outputs": [
        {
          "output_type": "execute_result",
          "data": {
            "text/plain": [
              "array([[-2., -2.,  2.],\n",
              "       [-3.,  3., -6.]])"
            ]
          },
          "metadata": {},
          "execution_count": 98
        }
      ]
    },
    {
      "cell_type": "code",
      "source": [
        "3.78 - arr"
      ],
      "metadata": {
        "colab": {
          "base_uri": "https://localhost:8080/"
        },
        "id": "r4wJCeC75WiM",
        "outputId": "a25a9d9a-99f8-4c20-c74a-7368800f1c9e"
      },
      "execution_count": 99,
      "outputs": [
        {
          "output_type": "execute_result",
          "data": {
            "text/plain": [
              "array([[ 2.78,  1.78,  0.78],\n",
              "       [-0.22, -1.22, -2.22]])"
            ]
          },
          "metadata": {},
          "execution_count": 99
        }
      ]
    },
    {
      "cell_type": "markdown",
      "source": [
        "나눗셈  \n",
        "나눗셈 도한 항목별로 연산이 이루어진다. 따라서 0이 항목으로 포함되면 오류가 발생한다."
      ],
      "metadata": {
        "id": "VixqRJng5YOu"
      }
    },
    {
      "cell_type": "code",
      "source": [
        "arr / arr2"
      ],
      "metadata": {
        "colab": {
          "base_uri": "https://localhost:8080/"
        },
        "id": "dakOLFT65cZ9",
        "outputId": "d176e344-e165-4af7-f659-37eb432fcefc"
      },
      "execution_count": 100,
      "outputs": [
        {
          "output_type": "execute_result",
          "data": {
            "text/plain": [
              "array([[0.333333, 0.5     , 3.      ],\n",
              "       [0.571429, 2.5     , 0.5     ]])"
            ]
          },
          "metadata": {},
          "execution_count": 100
        }
      ]
    },
    {
      "cell_type": "code",
      "source": [
        "1 / arr"
      ],
      "metadata": {
        "colab": {
          "base_uri": "https://localhost:8080/"
        },
        "id": "JbtKXB5E5dog",
        "outputId": "ba9890c4-6f2d-400e-d107-580c1ddf8e4e"
      },
      "execution_count": 102,
      "outputs": [
        {
          "output_type": "execute_result",
          "data": {
            "text/plain": [
              "array([[1.      , 0.5     , 0.333333],\n",
              "       [0.25    , 0.2     , 0.166667]])"
            ]
          },
          "metadata": {},
          "execution_count": 102
        }
      ]
    },
    {
      "cell_type": "code",
      "source": [
        "arr / 3.2"
      ],
      "metadata": {
        "colab": {
          "base_uri": "https://localhost:8080/"
        },
        "id": "-Pki1s8C5eN6",
        "outputId": "a2addb2d-8383-4de7-9155-a95040971e87"
      },
      "execution_count": 101,
      "outputs": [
        {
          "output_type": "execute_result",
          "data": {
            "text/plain": [
              "array([[0.3125, 0.625 , 0.9375],\n",
              "       [1.25  , 1.5625, 1.875 ]])"
            ]
          },
          "metadata": {},
          "execution_count": 101
        }
      ]
    },
    {
      "cell_type": "markdown",
      "source": [
        "거듭제곱(지수승)"
      ],
      "metadata": {
        "id": "MrlRqvKz5fsh"
      }
    },
    {
      "cell_type": "code",
      "source": [
        "arr ** arr2"
      ],
      "metadata": {
        "colab": {
          "base_uri": "https://localhost:8080/"
        },
        "id": "xzCRhyOl5hEk",
        "outputId": "959cb637-f760-4cec-bb44-db11b48c7309"
      },
      "execution_count": 103,
      "outputs": [
        {
          "output_type": "execute_result",
          "data": {
            "text/plain": [
              "array([[1.000000e+00, 1.600000e+01, 3.000000e+00],\n",
              "       [1.638400e+04, 2.500000e+01, 2.176782e+09]])"
            ]
          },
          "metadata": {},
          "execution_count": 103
        }
      ]
    },
    {
      "cell_type": "code",
      "source": [
        "2 ** arr"
      ],
      "metadata": {
        "colab": {
          "base_uri": "https://localhost:8080/"
        },
        "id": "LEynskq85iye",
        "outputId": "3d724c00-6da5-4885-9ef0-94fa827bf1c2"
      },
      "execution_count": 104,
      "outputs": [
        {
          "output_type": "execute_result",
          "data": {
            "text/plain": [
              "array([[ 2.,  4.,  8.],\n",
              "       [16., 32., 64.]])"
            ]
          },
          "metadata": {},
          "execution_count": 104
        }
      ]
    },
    {
      "cell_type": "code",
      "source": [
        "arr ** 0.5"
      ],
      "metadata": {
        "colab": {
          "base_uri": "https://localhost:8080/"
        },
        "id": "XrOpm0D45jxY",
        "outputId": "56d2905f-40c6-4c5d-c3f1-30bbefe4f93c"
      },
      "execution_count": 105,
      "outputs": [
        {
          "output_type": "execute_result",
          "data": {
            "text/plain": [
              "array([[1.      , 1.414214, 1.732051],\n",
              "       [2.      , 2.236068, 2.44949 ]])"
            ]
          },
          "metadata": {},
          "execution_count": 105
        }
      ]
    },
    {
      "cell_type": "markdown",
      "source": [
        "비교"
      ],
      "metadata": {
        "id": "m6hKTk665lgQ"
      }
    },
    {
      "cell_type": "code",
      "source": [
        "arr2 > arr"
      ],
      "metadata": {
        "colab": {
          "base_uri": "https://localhost:8080/"
        },
        "id": "xsID_2Su5mkt",
        "outputId": "3d4037d4-45f5-402c-f01f-1ab3f6ccd08b"
      },
      "execution_count": 106,
      "outputs": [
        {
          "output_type": "execute_result",
          "data": {
            "text/plain": [
              "array([[ True,  True, False],\n",
              "       [ True, False,  True]])"
            ]
          },
          "metadata": {},
          "execution_count": 106
        }
      ]
    },
    {
      "cell_type": "code",
      "source": [
        "arr2 <= arr"
      ],
      "metadata": {
        "colab": {
          "base_uri": "https://localhost:8080/"
        },
        "id": "TJfKeZLs5ngJ",
        "outputId": "8481a878-f103-4244-c5cd-7951e3ab0557"
      },
      "execution_count": 107,
      "outputs": [
        {
          "output_type": "execute_result",
          "data": {
            "text/plain": [
              "array([[False, False,  True],\n",
              "       [False,  True, False]])"
            ]
          },
          "metadata": {},
          "execution_count": 107
        }
      ]
    },
    {
      "cell_type": "code",
      "source": [
        "1.2 < arr"
      ],
      "metadata": {
        "colab": {
          "base_uri": "https://localhost:8080/"
        },
        "id": "zxal3kgC5opy",
        "outputId": "854d8c54-f0c5-4938-e006-73fc68c57688"
      },
      "execution_count": 108,
      "outputs": [
        {
          "output_type": "execute_result",
          "data": {
            "text/plain": [
              "array([[False,  True,  True],\n",
              "       [ True,  True,  True]])"
            ]
          },
          "metadata": {},
          "execution_count": 108
        }
      ]
    },
    {
      "cell_type": "code",
      "source": [
        "1.2 >= arr2"
      ],
      "metadata": {
        "colab": {
          "base_uri": "https://localhost:8080/"
        },
        "id": "p-k4IHlH5q9A",
        "outputId": "3cdd1e14-5ece-433e-8dac-f861b26d8149"
      },
      "execution_count": 109,
      "outputs": [
        {
          "output_type": "execute_result",
          "data": {
            "text/plain": [
              "array([[False, False,  True],\n",
              "       [False, False, False]])"
            ]
          },
          "metadata": {},
          "execution_count": 109
        }
      ]
    },
    {
      "cell_type": "code",
      "source": [
        "arr == arr"
      ],
      "metadata": {
        "colab": {
          "base_uri": "https://localhost:8080/"
        },
        "id": "m3pMidI55sCS",
        "outputId": "df6d7a46-dcc1-408b-aa9e-89b5c09c7bed"
      },
      "execution_count": 111,
      "outputs": [
        {
          "output_type": "execute_result",
          "data": {
            "text/plain": [
              "array([[ True,  True,  True],\n",
              "       [ True,  True,  True]])"
            ]
          },
          "metadata": {},
          "execution_count": 111
        }
      ]
    },
    {
      "cell_type": "code",
      "source": [
        "arr != arr2"
      ],
      "metadata": {
        "colab": {
          "base_uri": "https://localhost:8080/"
        },
        "id": "LQxYXRDW5tUk",
        "outputId": "625fdbd4-70e0-47b2-b19c-51a148e6093a"
      },
      "execution_count": 112,
      "outputs": [
        {
          "output_type": "execute_result",
          "data": {
            "text/plain": [
              "array([[ True,  True,  True],\n",
              "       [ True,  True,  True]])"
            ]
          },
          "metadata": {},
          "execution_count": 112
        }
      ]
    },
    {
      "cell_type": "markdown",
      "source": [
        "사용 가능한 부울 연산은 아래 세 가지이다.\n",
        "\n",
        "- `~` : 부정(not) 연산자\n",
        "- `&` : 논리곱(and) 연산자\n",
        "- `|` : 논리합(or) 연산자"
      ],
      "metadata": {
        "id": "ZswT2kHd5usO"
      }
    },
    {
      "cell_type": "code",
      "source": [
        "~(arr == arr)"
      ],
      "metadata": {
        "colab": {
          "base_uri": "https://localhost:8080/"
        },
        "id": "2yWitayU5uL4",
        "outputId": "05a11eb2-ab0b-468f-e4e6-ab554b72dc06"
      },
      "execution_count": 114,
      "outputs": [
        {
          "output_type": "execute_result",
          "data": {
            "text/plain": [
              "array([[False, False, False],\n",
              "       [False, False, False]])"
            ]
          },
          "metadata": {},
          "execution_count": 114
        }
      ]
    },
    {
      "cell_type": "code",
      "source": [
        "(arr == arr) & (arr2 == arr2)"
      ],
      "metadata": {
        "colab": {
          "base_uri": "https://localhost:8080/"
        },
        "id": "p61IqJ7K58pb",
        "outputId": "eb3fb959-abe0-4738-e15a-e8fbe0a53b8c"
      },
      "execution_count": 115,
      "outputs": [
        {
          "output_type": "execute_result",
          "data": {
            "text/plain": [
              "array([[ True,  True,  True],\n",
              "       [ True,  True,  True]])"
            ]
          },
          "metadata": {},
          "execution_count": 115
        }
      ]
    },
    {
      "cell_type": "code",
      "source": [
        "~(arr == arr) | (arr2 != arr)"
      ],
      "metadata": {
        "colab": {
          "base_uri": "https://localhost:8080/"
        },
        "id": "NQeYbDJ85_L0",
        "outputId": "ce5ccb90-239b-4d1f-eb11-3c0324557b91"
      },
      "execution_count": 116,
      "outputs": [
        {
          "output_type": "execute_result",
          "data": {
            "text/plain": [
              "array([[ True,  True,  True],\n",
              "       [ True,  True,  True]])"
            ]
          },
          "metadata": {},
          "execution_count": 116
        }
      ]
    },
    {
      "cell_type": "markdown",
      "source": [
        "# 4.5 연습문제\n",
        "https://colab.research.google.com/github/codingalzi/datapy/blob/master/practices/practice-numpy_array.ipynb"
      ],
      "metadata": {
        "id": "MWSwAoDQ6Ita"
      }
    }
  ]
}
